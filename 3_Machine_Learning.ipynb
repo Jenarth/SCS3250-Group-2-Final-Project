{
  "nbformat": 4,
  "nbformat_minor": 0,
  "metadata": {
    "colab": {
      "name": "3 Machine Learning.ipynb",
      "provenance": [],
      "collapsed_sections": [],
      "include_colab_link": true
    },
    "kernelspec": {
      "name": "python3",
      "display_name": "Python 3"
    }
  },
  "cells": [
    {
      "cell_type": "markdown",
      "metadata": {
        "id": "view-in-github",
        "colab_type": "text"
      },
      "source": [
        "<a href=\"https://colab.research.google.com/github/Jenarth/SCS3250-Group-2-Final-Project/blob/master/3_Machine_Learning.ipynb\" target=\"_parent\"><img src=\"https://colab.research.google.com/assets/colab-badge.svg\" alt=\"Open In Colab\"/></a>"
      ]
    },
    {
      "cell_type": "markdown",
      "metadata": {
        "id": "kZ__xB3R0NPL",
        "colab_type": "text"
      },
      "source": [
        "---\n",
        "# **PHASE 3: MACHINE LEARNING**\n",
        "---"
      ]
    },
    {
      "cell_type": "markdown",
      "metadata": {
        "id": "uWUWOvf8wfVB",
        "colab_type": "text"
      },
      "source": [
        "#Classification with knn"
      ]
    },
    {
      "cell_type": "markdown",
      "metadata": {
        "id": "5LQMtM8pwpBz",
        "colab_type": "text"
      },
      "source": [
        "K Nearest Neighbour is a simple algorithm that stores all the available cases and classifies a data point based on how its neighbours are classified.\n",
        "\n",
        "We have a labelled dataset consisting of training observations (x,y)\n",
        "and would like to capture the relationship between x and y. More formally, our goal is to learn a function F :X→Y so that given an unknown data observation x, F(x) can confidently predict the corresponding output y.\n",
        "\n",
        "For our dataset, we have a number of attributes for one day - temperature, precipitation, weekday and month - which we can use to predict what the ridership would be on the given day. We will use the majority of the dataset to train the data and build the model, and then use a smaller test array to test out the model and check its accuracy.\n",
        "\n",
        "We will use x to denote a feature (i.e. attribute) and y\n",
        "to denote the target (i.e. class) we are trying to predict."
      ]
    },
    {
      "cell_type": "markdown",
      "metadata": {
        "id": "28wpiIZRwv7X",
        "colab_type": "text"
      },
      "source": [
        "## Import Libraries"
      ]
    },
    {
      "cell_type": "code",
      "metadata": {
        "id": "bktBXUh-wyPz",
        "colab_type": "code",
        "colab": {}
      },
      "source": [
        "import pandas as pd\n",
        "import numpy as np\n",
        "from datetime import datetime\n",
        "import calendar\n",
        "import holidays\n",
        "import matplotlib.pyplot as plt"
      ],
      "execution_count": 0,
      "outputs": []
    },
    {
      "cell_type": "markdown",
      "metadata": {
        "id": "0zZFeEC4w34O",
        "colab_type": "text"
      },
      "source": [
        "##Read Final Dataset"
      ]
    },
    {
      "cell_type": "code",
      "metadata": {
        "id": "3c7eRctjw4mW",
        "colab_type": "code",
        "colab": {
          "base_uri": "https://localhost:8080/",
          "height": 278
        },
        "outputId": "ff298f28-a9e8-496c-80fc-f54bd689125b"
      },
      "source": [
        "dataset = pd.read_csv('https://raw.githubusercontent.com/Jenarth/SCS3250-Group-2-Final-Project/master/Final%20Dataset.csv')\n",
        "dataset.head()"
      ],
      "execution_count": 2,
      "outputs": [
        {
          "output_type": "execute_result",
          "data": {
            "text/html": [
              "<div>\n",
              "<style scoped>\n",
              "    .dataframe tbody tr th:only-of-type {\n",
              "        vertical-align: middle;\n",
              "    }\n",
              "\n",
              "    .dataframe tbody tr th {\n",
              "        vertical-align: top;\n",
              "    }\n",
              "\n",
              "    .dataframe thead th {\n",
              "        text-align: right;\n",
              "    }\n",
              "</style>\n",
              "<table border=\"1\" class=\"dataframe\">\n",
              "  <thead>\n",
              "    <tr style=\"text-align: right;\">\n",
              "      <th></th>\n",
              "      <th>Date</th>\n",
              "      <th>Year</th>\n",
              "      <th>Month</th>\n",
              "      <th>year_month</th>\n",
              "      <th>Day</th>\n",
              "      <th>Weekday</th>\n",
              "      <th>Holiday</th>\n",
              "      <th>Max Temp (°C)</th>\n",
              "      <th>Min Temp (°C)</th>\n",
              "      <th>Mean Temp (°C)</th>\n",
              "      <th>Monthly Mean Temp (°C)</th>\n",
              "      <th>Delta Temp (°C)</th>\n",
              "      <th>Total Precip (mm)</th>\n",
              "      <th>Monthly Mean Precip (mm)</th>\n",
              "      <th>Delta Precip (mm)</th>\n",
              "      <th>Snow on Grnd (cm)</th>\n",
              "      <th>Barrie Ridership</th>\n",
              "      <th>Kitchener Ridership</th>\n",
              "      <th>Lakeshore East Ridership</th>\n",
              "      <th>Lakeshore West Ridership</th>\n",
              "      <th>Milton Ridership</th>\n",
              "      <th>Richmond Hill Ridership</th>\n",
              "      <th>Stouffville Ridership</th>\n",
              "      <th>Union Station Ridership</th>\n",
              "      <th>Total GO Ridership</th>\n",
              "      <th>Outlier</th>\n",
              "      <th>Overall Mean</th>\n",
              "      <th>2SD_above</th>\n",
              "      <th>2SD_below</th>\n",
              "    </tr>\n",
              "  </thead>\n",
              "  <tbody>\n",
              "    <tr>\n",
              "      <th>0</th>\n",
              "      <td>2017-03-01</td>\n",
              "      <td>2017</td>\n",
              "      <td>3</td>\n",
              "      <td>2017-03</td>\n",
              "      <td>1</td>\n",
              "      <td>Wednesday</td>\n",
              "      <td>False</td>\n",
              "      <td>13.1</td>\n",
              "      <td>-1.9</td>\n",
              "      <td>5.6</td>\n",
              "      <td>-0.251613</td>\n",
              "      <td>5.851613</td>\n",
              "      <td>18.4</td>\n",
              "      <td>2.335484</td>\n",
              "      <td>16.064516</td>\n",
              "      <td>0.0</td>\n",
              "      <td>10022</td>\n",
              "      <td>13585</td>\n",
              "      <td>25273</td>\n",
              "      <td>32909</td>\n",
              "      <td>15599</td>\n",
              "      <td>5639</td>\n",
              "      <td>8804</td>\n",
              "      <td>95802</td>\n",
              "      <td>207633</td>\n",
              "      <td>False</td>\n",
              "      <td>227296.503311</td>\n",
              "      <td>254365.810172</td>\n",
              "      <td>200227.196451</td>\n",
              "    </tr>\n",
              "    <tr>\n",
              "      <th>1</th>\n",
              "      <td>2017-03-02</td>\n",
              "      <td>2017</td>\n",
              "      <td>3</td>\n",
              "      <td>2017-03</td>\n",
              "      <td>2</td>\n",
              "      <td>Thursday</td>\n",
              "      <td>False</td>\n",
              "      <td>-1.3</td>\n",
              "      <td>-6.4</td>\n",
              "      <td>-3.9</td>\n",
              "      <td>-0.251613</td>\n",
              "      <td>-3.648387</td>\n",
              "      <td>0.2</td>\n",
              "      <td>2.335484</td>\n",
              "      <td>-2.135484</td>\n",
              "      <td>0.5</td>\n",
              "      <td>9932</td>\n",
              "      <td>13331</td>\n",
              "      <td>26120</td>\n",
              "      <td>33884</td>\n",
              "      <td>15653</td>\n",
              "      <td>5665</td>\n",
              "      <td>8736</td>\n",
              "      <td>95873</td>\n",
              "      <td>209194</td>\n",
              "      <td>False</td>\n",
              "      <td>224966.615894</td>\n",
              "      <td>253295.696280</td>\n",
              "      <td>196637.535508</td>\n",
              "    </tr>\n",
              "    <tr>\n",
              "      <th>2</th>\n",
              "      <td>2017-03-03</td>\n",
              "      <td>2017</td>\n",
              "      <td>3</td>\n",
              "      <td>2017-03</td>\n",
              "      <td>3</td>\n",
              "      <td>Friday</td>\n",
              "      <td>False</td>\n",
              "      <td>-4.3</td>\n",
              "      <td>-8.1</td>\n",
              "      <td>-6.2</td>\n",
              "      <td>-0.251613</td>\n",
              "      <td>-5.948387</td>\n",
              "      <td>0.0</td>\n",
              "      <td>2.335484</td>\n",
              "      <td>-2.335484</td>\n",
              "      <td>0.5</td>\n",
              "      <td>8905</td>\n",
              "      <td>12235</td>\n",
              "      <td>23801</td>\n",
              "      <td>31473</td>\n",
              "      <td>14092</td>\n",
              "      <td>5129</td>\n",
              "      <td>7918</td>\n",
              "      <td>87200</td>\n",
              "      <td>190753</td>\n",
              "      <td>False</td>\n",
              "      <td>204211.905405</td>\n",
              "      <td>232457.905320</td>\n",
              "      <td>175965.905490</td>\n",
              "    </tr>\n",
              "    <tr>\n",
              "      <th>3</th>\n",
              "      <td>2017-03-04</td>\n",
              "      <td>2017</td>\n",
              "      <td>3</td>\n",
              "      <td>2017-03</td>\n",
              "      <td>4</td>\n",
              "      <td>Saturday</td>\n",
              "      <td>False</td>\n",
              "      <td>-6.5</td>\n",
              "      <td>-11.9</td>\n",
              "      <td>-9.2</td>\n",
              "      <td>-0.251613</td>\n",
              "      <td>-8.948387</td>\n",
              "      <td>0.2</td>\n",
              "      <td>2.335484</td>\n",
              "      <td>-2.135484</td>\n",
              "      <td>0.5</td>\n",
              "      <td>928</td>\n",
              "      <td>480</td>\n",
              "      <td>7872</td>\n",
              "      <td>11756</td>\n",
              "      <td>208</td>\n",
              "      <td>0</td>\n",
              "      <td>246</td>\n",
              "      <td>13899</td>\n",
              "      <td>35389</td>\n",
              "      <td>False</td>\n",
              "      <td>45352.333333</td>\n",
              "      <td>73886.656469</td>\n",
              "      <td>16818.010198</td>\n",
              "    </tr>\n",
              "    <tr>\n",
              "      <th>4</th>\n",
              "      <td>2017-03-05</td>\n",
              "      <td>2017</td>\n",
              "      <td>3</td>\n",
              "      <td>2017-03</td>\n",
              "      <td>5</td>\n",
              "      <td>Sunday</td>\n",
              "      <td>False</td>\n",
              "      <td>-0.4</td>\n",
              "      <td>-10.6</td>\n",
              "      <td>-5.5</td>\n",
              "      <td>-0.251613</td>\n",
              "      <td>-5.248387</td>\n",
              "      <td>0.0</td>\n",
              "      <td>2.335484</td>\n",
              "      <td>-2.335484</td>\n",
              "      <td>0.5</td>\n",
              "      <td>803</td>\n",
              "      <td>398</td>\n",
              "      <td>4714</td>\n",
              "      <td>8381</td>\n",
              "      <td>169</td>\n",
              "      <td>0</td>\n",
              "      <td>156</td>\n",
              "      <td>8505</td>\n",
              "      <td>23126</td>\n",
              "      <td>False</td>\n",
              "      <td>32455.370861</td>\n",
              "      <td>53039.519234</td>\n",
              "      <td>11871.222488</td>\n",
              "    </tr>\n",
              "  </tbody>\n",
              "</table>\n",
              "</div>"
            ],
            "text/plain": [
              "         Date  Year  Month  ...   Overall Mean      2SD_above      2SD_below\n",
              "0  2017-03-01  2017      3  ...  227296.503311  254365.810172  200227.196451\n",
              "1  2017-03-02  2017      3  ...  224966.615894  253295.696280  196637.535508\n",
              "2  2017-03-03  2017      3  ...  204211.905405  232457.905320  175965.905490\n",
              "3  2017-03-04  2017      3  ...   45352.333333   73886.656469   16818.010198\n",
              "4  2017-03-05  2017      3  ...   32455.370861   53039.519234   11871.222488\n",
              "\n",
              "[5 rows x 29 columns]"
            ]
          },
          "metadata": {
            "tags": []
          },
          "execution_count": 2
        }
      ]
    },
    {
      "cell_type": "markdown",
      "metadata": {
        "id": "UJoNFKkqw_G1",
        "colab_type": "text"
      },
      "source": [
        "##Prepare Dataset for Classification"
      ]
    },
    {
      "cell_type": "markdown",
      "metadata": {
        "id": "xCz7f-mMw_5O",
        "colab_type": "text"
      },
      "source": [
        "For classification, we will focus our analysis on one station - Union. We will be selecting specific columns to use as attributes to predict the category in which our test data will fall."
      ]
    },
    {
      "cell_type": "markdown",
      "metadata": {
        "id": "kw_ZdqSyxCWC",
        "colab_type": "text"
      },
      "source": [
        "###Removing outliers and holidays"
      ]
    },
    {
      "cell_type": "markdown",
      "metadata": {
        "id": "z_lr9S41xEaZ",
        "colab_type": "text"
      },
      "source": [
        "The first step is to remove all outliers and holidays from the dataset to have uniform data"
      ]
    },
    {
      "cell_type": "code",
      "metadata": {
        "id": "8XQqVtBuxHoI",
        "colab_type": "code",
        "colab": {
          "base_uri": "https://localhost:8080/",
          "height": 278
        },
        "outputId": "1298020e-3ba0-4390-8bd6-73b5cab3fc2b"
      },
      "source": [
        "#only keep values without outliers/holidays\n",
        "dataset  = dataset.loc[(-dataset.Holiday)&(-dataset.Outlier)]\n",
        "dataset.head()"
      ],
      "execution_count": 3,
      "outputs": [
        {
          "output_type": "execute_result",
          "data": {
            "text/html": [
              "<div>\n",
              "<style scoped>\n",
              "    .dataframe tbody tr th:only-of-type {\n",
              "        vertical-align: middle;\n",
              "    }\n",
              "\n",
              "    .dataframe tbody tr th {\n",
              "        vertical-align: top;\n",
              "    }\n",
              "\n",
              "    .dataframe thead th {\n",
              "        text-align: right;\n",
              "    }\n",
              "</style>\n",
              "<table border=\"1\" class=\"dataframe\">\n",
              "  <thead>\n",
              "    <tr style=\"text-align: right;\">\n",
              "      <th></th>\n",
              "      <th>Date</th>\n",
              "      <th>Year</th>\n",
              "      <th>Month</th>\n",
              "      <th>year_month</th>\n",
              "      <th>Day</th>\n",
              "      <th>Weekday</th>\n",
              "      <th>Holiday</th>\n",
              "      <th>Max Temp (°C)</th>\n",
              "      <th>Min Temp (°C)</th>\n",
              "      <th>Mean Temp (°C)</th>\n",
              "      <th>Monthly Mean Temp (°C)</th>\n",
              "      <th>Delta Temp (°C)</th>\n",
              "      <th>Total Precip (mm)</th>\n",
              "      <th>Monthly Mean Precip (mm)</th>\n",
              "      <th>Delta Precip (mm)</th>\n",
              "      <th>Snow on Grnd (cm)</th>\n",
              "      <th>Barrie Ridership</th>\n",
              "      <th>Kitchener Ridership</th>\n",
              "      <th>Lakeshore East Ridership</th>\n",
              "      <th>Lakeshore West Ridership</th>\n",
              "      <th>Milton Ridership</th>\n",
              "      <th>Richmond Hill Ridership</th>\n",
              "      <th>Stouffville Ridership</th>\n",
              "      <th>Union Station Ridership</th>\n",
              "      <th>Total GO Ridership</th>\n",
              "      <th>Outlier</th>\n",
              "      <th>Overall Mean</th>\n",
              "      <th>2SD_above</th>\n",
              "      <th>2SD_below</th>\n",
              "    </tr>\n",
              "  </thead>\n",
              "  <tbody>\n",
              "    <tr>\n",
              "      <th>0</th>\n",
              "      <td>2017-03-01</td>\n",
              "      <td>2017</td>\n",
              "      <td>3</td>\n",
              "      <td>2017-03</td>\n",
              "      <td>1</td>\n",
              "      <td>Wednesday</td>\n",
              "      <td>False</td>\n",
              "      <td>13.1</td>\n",
              "      <td>-1.9</td>\n",
              "      <td>5.6</td>\n",
              "      <td>-0.251613</td>\n",
              "      <td>5.851613</td>\n",
              "      <td>18.4</td>\n",
              "      <td>2.335484</td>\n",
              "      <td>16.064516</td>\n",
              "      <td>0.0</td>\n",
              "      <td>10022</td>\n",
              "      <td>13585</td>\n",
              "      <td>25273</td>\n",
              "      <td>32909</td>\n",
              "      <td>15599</td>\n",
              "      <td>5639</td>\n",
              "      <td>8804</td>\n",
              "      <td>95802</td>\n",
              "      <td>207633</td>\n",
              "      <td>False</td>\n",
              "      <td>227296.503311</td>\n",
              "      <td>254365.810172</td>\n",
              "      <td>200227.196451</td>\n",
              "    </tr>\n",
              "    <tr>\n",
              "      <th>1</th>\n",
              "      <td>2017-03-02</td>\n",
              "      <td>2017</td>\n",
              "      <td>3</td>\n",
              "      <td>2017-03</td>\n",
              "      <td>2</td>\n",
              "      <td>Thursday</td>\n",
              "      <td>False</td>\n",
              "      <td>-1.3</td>\n",
              "      <td>-6.4</td>\n",
              "      <td>-3.9</td>\n",
              "      <td>-0.251613</td>\n",
              "      <td>-3.648387</td>\n",
              "      <td>0.2</td>\n",
              "      <td>2.335484</td>\n",
              "      <td>-2.135484</td>\n",
              "      <td>0.5</td>\n",
              "      <td>9932</td>\n",
              "      <td>13331</td>\n",
              "      <td>26120</td>\n",
              "      <td>33884</td>\n",
              "      <td>15653</td>\n",
              "      <td>5665</td>\n",
              "      <td>8736</td>\n",
              "      <td>95873</td>\n",
              "      <td>209194</td>\n",
              "      <td>False</td>\n",
              "      <td>224966.615894</td>\n",
              "      <td>253295.696280</td>\n",
              "      <td>196637.535508</td>\n",
              "    </tr>\n",
              "    <tr>\n",
              "      <th>2</th>\n",
              "      <td>2017-03-03</td>\n",
              "      <td>2017</td>\n",
              "      <td>3</td>\n",
              "      <td>2017-03</td>\n",
              "      <td>3</td>\n",
              "      <td>Friday</td>\n",
              "      <td>False</td>\n",
              "      <td>-4.3</td>\n",
              "      <td>-8.1</td>\n",
              "      <td>-6.2</td>\n",
              "      <td>-0.251613</td>\n",
              "      <td>-5.948387</td>\n",
              "      <td>0.0</td>\n",
              "      <td>2.335484</td>\n",
              "      <td>-2.335484</td>\n",
              "      <td>0.5</td>\n",
              "      <td>8905</td>\n",
              "      <td>12235</td>\n",
              "      <td>23801</td>\n",
              "      <td>31473</td>\n",
              "      <td>14092</td>\n",
              "      <td>5129</td>\n",
              "      <td>7918</td>\n",
              "      <td>87200</td>\n",
              "      <td>190753</td>\n",
              "      <td>False</td>\n",
              "      <td>204211.905405</td>\n",
              "      <td>232457.905320</td>\n",
              "      <td>175965.905490</td>\n",
              "    </tr>\n",
              "    <tr>\n",
              "      <th>3</th>\n",
              "      <td>2017-03-04</td>\n",
              "      <td>2017</td>\n",
              "      <td>3</td>\n",
              "      <td>2017-03</td>\n",
              "      <td>4</td>\n",
              "      <td>Saturday</td>\n",
              "      <td>False</td>\n",
              "      <td>-6.5</td>\n",
              "      <td>-11.9</td>\n",
              "      <td>-9.2</td>\n",
              "      <td>-0.251613</td>\n",
              "      <td>-8.948387</td>\n",
              "      <td>0.2</td>\n",
              "      <td>2.335484</td>\n",
              "      <td>-2.135484</td>\n",
              "      <td>0.5</td>\n",
              "      <td>928</td>\n",
              "      <td>480</td>\n",
              "      <td>7872</td>\n",
              "      <td>11756</td>\n",
              "      <td>208</td>\n",
              "      <td>0</td>\n",
              "      <td>246</td>\n",
              "      <td>13899</td>\n",
              "      <td>35389</td>\n",
              "      <td>False</td>\n",
              "      <td>45352.333333</td>\n",
              "      <td>73886.656469</td>\n",
              "      <td>16818.010198</td>\n",
              "    </tr>\n",
              "    <tr>\n",
              "      <th>4</th>\n",
              "      <td>2017-03-05</td>\n",
              "      <td>2017</td>\n",
              "      <td>3</td>\n",
              "      <td>2017-03</td>\n",
              "      <td>5</td>\n",
              "      <td>Sunday</td>\n",
              "      <td>False</td>\n",
              "      <td>-0.4</td>\n",
              "      <td>-10.6</td>\n",
              "      <td>-5.5</td>\n",
              "      <td>-0.251613</td>\n",
              "      <td>-5.248387</td>\n",
              "      <td>0.0</td>\n",
              "      <td>2.335484</td>\n",
              "      <td>-2.335484</td>\n",
              "      <td>0.5</td>\n",
              "      <td>803</td>\n",
              "      <td>398</td>\n",
              "      <td>4714</td>\n",
              "      <td>8381</td>\n",
              "      <td>169</td>\n",
              "      <td>0</td>\n",
              "      <td>156</td>\n",
              "      <td>8505</td>\n",
              "      <td>23126</td>\n",
              "      <td>False</td>\n",
              "      <td>32455.370861</td>\n",
              "      <td>53039.519234</td>\n",
              "      <td>11871.222488</td>\n",
              "    </tr>\n",
              "  </tbody>\n",
              "</table>\n",
              "</div>"
            ],
            "text/plain": [
              "         Date  Year  Month  ...   Overall Mean      2SD_above      2SD_below\n",
              "0  2017-03-01  2017      3  ...  227296.503311  254365.810172  200227.196451\n",
              "1  2017-03-02  2017      3  ...  224966.615894  253295.696280  196637.535508\n",
              "2  2017-03-03  2017      3  ...  204211.905405  232457.905320  175965.905490\n",
              "3  2017-03-04  2017      3  ...   45352.333333   73886.656469   16818.010198\n",
              "4  2017-03-05  2017      3  ...   32455.370861   53039.519234   11871.222488\n",
              "\n",
              "[5 rows x 29 columns]"
            ]
          },
          "metadata": {
            "tags": []
          },
          "execution_count": 3
        }
      ]
    },
    {
      "cell_type": "code",
      "metadata": {
        "id": "10J71aopxL3v",
        "colab_type": "code",
        "colab": {
          "base_uri": "https://localhost:8080/",
          "height": 34
        },
        "outputId": "ddd231f4-8779-46a9-ec3c-e528230e0ccf"
      },
      "source": [
        "dataset[\"Union Station Ridership\"].max()"
      ],
      "execution_count": 4,
      "outputs": [
        {
          "output_type": "execute_result",
          "data": {
            "text/plain": [
              "116029"
            ]
          },
          "metadata": {
            "tags": []
          },
          "execution_count": 4
        }
      ]
    },
    {
      "cell_type": "code",
      "metadata": {
        "id": "7cNCLBLNxNo7",
        "colab_type": "code",
        "colab": {
          "base_uri": "https://localhost:8080/",
          "height": 34
        },
        "outputId": "765d9157-d688-4187-f85b-8e1787b7036a"
      },
      "source": [
        "dataset[\"Union Station Ridership\"].min()"
      ],
      "execution_count": 5,
      "outputs": [
        {
          "output_type": "execute_result",
          "data": {
            "text/plain": [
              "5736"
            ]
          },
          "metadata": {
            "tags": []
          },
          "execution_count": 5
        }
      ]
    },
    {
      "cell_type": "markdown",
      "metadata": {
        "id": "W8vpky_sxOa7",
        "colab_type": "text"
      },
      "source": [
        "###Creating bins for Union Ridership"
      ]
    },
    {
      "cell_type": "markdown",
      "metadata": {
        "id": "LuH8zd4exRo3",
        "colab_type": "text"
      },
      "source": [
        "We will be using the Union Rdiership as our target class to predict. For efficient classification, the Union ridership will be split into 16 ranges of equal sized bins (10,000 bin size) ranging from min of 0 to max of 160,000"
      ]
    },
    {
      "cell_type": "code",
      "metadata": {
        "id": "Nu_gX5wIxUtB",
        "colab_type": "code",
        "colab": {
          "base_uri": "https://localhost:8080/",
          "height": 348
        },
        "outputId": "c5a371a6-fe1d-4c78-f546-82baa2e0226c"
      },
      "source": [
        "#create bins for union ridership\n",
        "ridership_bins = [0,10000,20000,30000,40000,50000,60000,70000,80000,90000,100000,110000,120000,130000,140000,150000,160000]\n",
        "ridership_labels = ['0 to 10000','10000 to 20000','20000 to 30000','30000 to 40000','40000 to 50000','50000 to 60000','60000 to 70000','70000 to 80000','80000 to 90000','90000 to 100000','100000 to 110000','110000 to 120000','120000 to 130000','130000 to 140000','140000 to 150000','150000 to 160000']\n",
        "dataset['Union Station Ridership Ranges'] = pd.cut(dataset['Union Station Ridership'], bins=ridership_bins, labels=ridership_labels)\n",
        "dataset.head()"
      ],
      "execution_count": 6,
      "outputs": [
        {
          "output_type": "execute_result",
          "data": {
            "text/html": [
              "<div>\n",
              "<style scoped>\n",
              "    .dataframe tbody tr th:only-of-type {\n",
              "        vertical-align: middle;\n",
              "    }\n",
              "\n",
              "    .dataframe tbody tr th {\n",
              "        vertical-align: top;\n",
              "    }\n",
              "\n",
              "    .dataframe thead th {\n",
              "        text-align: right;\n",
              "    }\n",
              "</style>\n",
              "<table border=\"1\" class=\"dataframe\">\n",
              "  <thead>\n",
              "    <tr style=\"text-align: right;\">\n",
              "      <th></th>\n",
              "      <th>Date</th>\n",
              "      <th>Year</th>\n",
              "      <th>Month</th>\n",
              "      <th>year_month</th>\n",
              "      <th>Day</th>\n",
              "      <th>Weekday</th>\n",
              "      <th>Holiday</th>\n",
              "      <th>Max Temp (°C)</th>\n",
              "      <th>Min Temp (°C)</th>\n",
              "      <th>Mean Temp (°C)</th>\n",
              "      <th>Monthly Mean Temp (°C)</th>\n",
              "      <th>Delta Temp (°C)</th>\n",
              "      <th>Total Precip (mm)</th>\n",
              "      <th>Monthly Mean Precip (mm)</th>\n",
              "      <th>Delta Precip (mm)</th>\n",
              "      <th>Snow on Grnd (cm)</th>\n",
              "      <th>Barrie Ridership</th>\n",
              "      <th>Kitchener Ridership</th>\n",
              "      <th>Lakeshore East Ridership</th>\n",
              "      <th>Lakeshore West Ridership</th>\n",
              "      <th>Milton Ridership</th>\n",
              "      <th>Richmond Hill Ridership</th>\n",
              "      <th>Stouffville Ridership</th>\n",
              "      <th>Union Station Ridership</th>\n",
              "      <th>Total GO Ridership</th>\n",
              "      <th>Outlier</th>\n",
              "      <th>Overall Mean</th>\n",
              "      <th>2SD_above</th>\n",
              "      <th>2SD_below</th>\n",
              "      <th>Union Station Ridership Ranges</th>\n",
              "    </tr>\n",
              "  </thead>\n",
              "  <tbody>\n",
              "    <tr>\n",
              "      <th>0</th>\n",
              "      <td>2017-03-01</td>\n",
              "      <td>2017</td>\n",
              "      <td>3</td>\n",
              "      <td>2017-03</td>\n",
              "      <td>1</td>\n",
              "      <td>Wednesday</td>\n",
              "      <td>False</td>\n",
              "      <td>13.1</td>\n",
              "      <td>-1.9</td>\n",
              "      <td>5.6</td>\n",
              "      <td>-0.251613</td>\n",
              "      <td>5.851613</td>\n",
              "      <td>18.4</td>\n",
              "      <td>2.335484</td>\n",
              "      <td>16.064516</td>\n",
              "      <td>0.0</td>\n",
              "      <td>10022</td>\n",
              "      <td>13585</td>\n",
              "      <td>25273</td>\n",
              "      <td>32909</td>\n",
              "      <td>15599</td>\n",
              "      <td>5639</td>\n",
              "      <td>8804</td>\n",
              "      <td>95802</td>\n",
              "      <td>207633</td>\n",
              "      <td>False</td>\n",
              "      <td>227296.503311</td>\n",
              "      <td>254365.810172</td>\n",
              "      <td>200227.196451</td>\n",
              "      <td>90000 to 100000</td>\n",
              "    </tr>\n",
              "    <tr>\n",
              "      <th>1</th>\n",
              "      <td>2017-03-02</td>\n",
              "      <td>2017</td>\n",
              "      <td>3</td>\n",
              "      <td>2017-03</td>\n",
              "      <td>2</td>\n",
              "      <td>Thursday</td>\n",
              "      <td>False</td>\n",
              "      <td>-1.3</td>\n",
              "      <td>-6.4</td>\n",
              "      <td>-3.9</td>\n",
              "      <td>-0.251613</td>\n",
              "      <td>-3.648387</td>\n",
              "      <td>0.2</td>\n",
              "      <td>2.335484</td>\n",
              "      <td>-2.135484</td>\n",
              "      <td>0.5</td>\n",
              "      <td>9932</td>\n",
              "      <td>13331</td>\n",
              "      <td>26120</td>\n",
              "      <td>33884</td>\n",
              "      <td>15653</td>\n",
              "      <td>5665</td>\n",
              "      <td>8736</td>\n",
              "      <td>95873</td>\n",
              "      <td>209194</td>\n",
              "      <td>False</td>\n",
              "      <td>224966.615894</td>\n",
              "      <td>253295.696280</td>\n",
              "      <td>196637.535508</td>\n",
              "      <td>90000 to 100000</td>\n",
              "    </tr>\n",
              "    <tr>\n",
              "      <th>2</th>\n",
              "      <td>2017-03-03</td>\n",
              "      <td>2017</td>\n",
              "      <td>3</td>\n",
              "      <td>2017-03</td>\n",
              "      <td>3</td>\n",
              "      <td>Friday</td>\n",
              "      <td>False</td>\n",
              "      <td>-4.3</td>\n",
              "      <td>-8.1</td>\n",
              "      <td>-6.2</td>\n",
              "      <td>-0.251613</td>\n",
              "      <td>-5.948387</td>\n",
              "      <td>0.0</td>\n",
              "      <td>2.335484</td>\n",
              "      <td>-2.335484</td>\n",
              "      <td>0.5</td>\n",
              "      <td>8905</td>\n",
              "      <td>12235</td>\n",
              "      <td>23801</td>\n",
              "      <td>31473</td>\n",
              "      <td>14092</td>\n",
              "      <td>5129</td>\n",
              "      <td>7918</td>\n",
              "      <td>87200</td>\n",
              "      <td>190753</td>\n",
              "      <td>False</td>\n",
              "      <td>204211.905405</td>\n",
              "      <td>232457.905320</td>\n",
              "      <td>175965.905490</td>\n",
              "      <td>80000 to 90000</td>\n",
              "    </tr>\n",
              "    <tr>\n",
              "      <th>3</th>\n",
              "      <td>2017-03-04</td>\n",
              "      <td>2017</td>\n",
              "      <td>3</td>\n",
              "      <td>2017-03</td>\n",
              "      <td>4</td>\n",
              "      <td>Saturday</td>\n",
              "      <td>False</td>\n",
              "      <td>-6.5</td>\n",
              "      <td>-11.9</td>\n",
              "      <td>-9.2</td>\n",
              "      <td>-0.251613</td>\n",
              "      <td>-8.948387</td>\n",
              "      <td>0.2</td>\n",
              "      <td>2.335484</td>\n",
              "      <td>-2.135484</td>\n",
              "      <td>0.5</td>\n",
              "      <td>928</td>\n",
              "      <td>480</td>\n",
              "      <td>7872</td>\n",
              "      <td>11756</td>\n",
              "      <td>208</td>\n",
              "      <td>0</td>\n",
              "      <td>246</td>\n",
              "      <td>13899</td>\n",
              "      <td>35389</td>\n",
              "      <td>False</td>\n",
              "      <td>45352.333333</td>\n",
              "      <td>73886.656469</td>\n",
              "      <td>16818.010198</td>\n",
              "      <td>10000 to 20000</td>\n",
              "    </tr>\n",
              "    <tr>\n",
              "      <th>4</th>\n",
              "      <td>2017-03-05</td>\n",
              "      <td>2017</td>\n",
              "      <td>3</td>\n",
              "      <td>2017-03</td>\n",
              "      <td>5</td>\n",
              "      <td>Sunday</td>\n",
              "      <td>False</td>\n",
              "      <td>-0.4</td>\n",
              "      <td>-10.6</td>\n",
              "      <td>-5.5</td>\n",
              "      <td>-0.251613</td>\n",
              "      <td>-5.248387</td>\n",
              "      <td>0.0</td>\n",
              "      <td>2.335484</td>\n",
              "      <td>-2.335484</td>\n",
              "      <td>0.5</td>\n",
              "      <td>803</td>\n",
              "      <td>398</td>\n",
              "      <td>4714</td>\n",
              "      <td>8381</td>\n",
              "      <td>169</td>\n",
              "      <td>0</td>\n",
              "      <td>156</td>\n",
              "      <td>8505</td>\n",
              "      <td>23126</td>\n",
              "      <td>False</td>\n",
              "      <td>32455.370861</td>\n",
              "      <td>53039.519234</td>\n",
              "      <td>11871.222488</td>\n",
              "      <td>0 to 10000</td>\n",
              "    </tr>\n",
              "  </tbody>\n",
              "</table>\n",
              "</div>"
            ],
            "text/plain": [
              "         Date  Year  ...      2SD_below Union Station Ridership Ranges\n",
              "0  2017-03-01  2017  ...  200227.196451                90000 to 100000\n",
              "1  2017-03-02  2017  ...  196637.535508                90000 to 100000\n",
              "2  2017-03-03  2017  ...  175965.905490                 80000 to 90000\n",
              "3  2017-03-04  2017  ...   16818.010198                 10000 to 20000\n",
              "4  2017-03-05  2017  ...   11871.222488                     0 to 10000\n",
              "\n",
              "[5 rows x 30 columns]"
            ]
          },
          "metadata": {
            "tags": []
          },
          "execution_count": 6
        }
      ]
    },
    {
      "cell_type": "code",
      "metadata": {
        "id": "5aUi78YoxWsD",
        "colab_type": "code",
        "colab": {
          "base_uri": "https://localhost:8080/",
          "height": 69
        },
        "outputId": "20b83534-09a2-47c0-b19e-02e445a2ca61"
      },
      "source": [
        "dataset['Union Station Ridership Ranges'].unique()"
      ],
      "execution_count": 7,
      "outputs": [
        {
          "output_type": "execute_result",
          "data": {
            "text/plain": [
              "[90000 to 100000, 80000 to 90000, 10000 to 20000, 0 to 10000, 70000 to 80000, 100000 to 110000, 20000 to 30000, 110000 to 120000]\n",
              "Categories (8, object): [0 to 10000 < 10000 to 20000 < 20000 to 30000 < 70000 to 80000 <\n",
              "                         80000 to 90000 < 90000 to 100000 < 100000 to 110000 < 110000 to 120000]"
            ]
          },
          "metadata": {
            "tags": []
          },
          "execution_count": 7
        }
      ]
    },
    {
      "cell_type": "code",
      "metadata": {
        "id": "-Icwmrz4xY-m",
        "colab_type": "code",
        "colab": {
          "base_uri": "https://localhost:8080/",
          "height": 492
        },
        "outputId": "51c92377-624f-40ab-9b99-09d82788a42a"
      },
      "source": [
        "#plot to see distribution of Union ridership\n",
        "plt.style.use('ggplot')\n",
        "\n",
        "dataset[\"Union Station Ridership\"].plot(kind='hist', color='green', edgecolor='black', figsize=(10,7))\n",
        "plt.title('Union Station Ridership', size=24)\n",
        "plt.xlabel('Union Station Ridership', size=18)\n",
        "plt.ylabel('Frequency', size=18)"
      ],
      "execution_count": 8,
      "outputs": [
        {
          "output_type": "execute_result",
          "data": {
            "text/plain": [
              "Text(0, 0.5, 'Frequency')"
            ]
          },
          "metadata": {
            "tags": []
          },
          "execution_count": 8
        },
        {
          "output_type": "display_data",
          "data": {
            "image/png": "[encoded data removed]",
            "text/plain": [
              "<Figure size 720x504 with 1 Axes>"
            ]
          },
          "metadata": {
            "tags": []
          }
        }
      ]
    },
    {
      "cell_type": "markdown",
      "metadata": {
        "id": "eBjY4rBkxc68",
        "colab_type": "text"
      },
      "source": [
        "###Distribution of Delta Temperature"
      ]
    },
    {
      "cell_type": "code",
      "metadata": {
        "id": "GUloW40Ixfpt",
        "colab_type": "code",
        "colab": {
          "base_uri": "https://localhost:8080/",
          "height": 492
        },
        "outputId": "79af424d-0ab4-4c2a-ad72-e91167fc6ff0"
      },
      "source": [
        "dataset[\"Delta Temp (°C)\"].plot(kind='hist', color='blue', edgecolor='black', figsize=(10,7))\n",
        "plt.title('Delta Temp (°C)', size=24)\n",
        "plt.xlabel('Delta Temp (°C)', size=18)\n",
        "plt.ylabel('Frequency', size=18)"
      ],
      "execution_count": 9,
      "outputs": [
        {
          "output_type": "execute_result",
          "data": {
            "text/plain": [
              "Text(0, 0.5, 'Frequency')"
            ]
          },
          "metadata": {
            "tags": []
          },
          "execution_count": 9
        },
        {
          "output_type": "display_data",
          "data": {
            "image/png": "[encoded data removed]",
            "text/plain": [
              "<Figure size 720x504 with 1 Axes>"
            ]
          },
          "metadata": {
            "tags": []
          }
        }
      ]
    },
    {
      "cell_type": "markdown",
      "metadata": {
        "id": "i_Kc739Pxh49",
        "colab_type": "text"
      },
      "source": [
        "###Distribution of Delta Precipitation"
      ]
    },
    {
      "cell_type": "code",
      "metadata": {
        "id": "DCjBhvsJxiZT",
        "colab_type": "code",
        "colab": {
          "base_uri": "https://localhost:8080/",
          "height": 492
        },
        "outputId": "45bcfc8e-df03-4072-db89-edbff8d6f038"
      },
      "source": [
        "dataset[\"Delta Precip (mm)\"].plot(kind='hist', color='purple', edgecolor='black', figsize=(10,7))\n",
        "plt.title('Delta Precip (mm)', size=24)\n",
        "plt.xlabel('Delta Precip (mm)', size=18)\n",
        "plt.ylabel('Frequency', size=18)"
      ],
      "execution_count": 10,
      "outputs": [
        {
          "output_type": "execute_result",
          "data": {
            "text/plain": [
              "Text(0, 0.5, 'Frequency')"
            ]
          },
          "metadata": {
            "tags": []
          },
          "execution_count": 10
        },
        {
          "output_type": "display_data",
          "data": {
            "image/png": "[encoded data removed]",
            "text/plain": [
              "<Figure size 720x504 with 1 Axes>"
            ]
          },
          "metadata": {
            "tags": []
          }
        }
      ]
    },
    {
      "cell_type": "markdown",
      "metadata": {
        "id": "AvAk39W6xmmn",
        "colab_type": "text"
      },
      "source": [
        "###Preparing the weekday column for knn"
      ]
    },
    {
      "cell_type": "markdown",
      "metadata": {
        "id": "UDCJKXeOxqRF",
        "colab_type": "text"
      },
      "source": [
        "Since knn only takes floats as attributes, the weekdays will be changed to a numeric value in numerical order, i.e. Sunday = 1, Monday = 2, Tuesday = 3, and so on."
      ]
    },
    {
      "cell_type": "code",
      "metadata": {
        "id": "yn6meFl9xrIk",
        "colab_type": "code",
        "colab": {
          "base_uri": "https://localhost:8080/",
          "height": 652
        },
        "outputId": "fc1a20c4-072c-45d3-cf7c-15ed59b4daed"
      },
      "source": [
        "#change weekdays to numbers\n",
        "\n",
        "def CategorizeByWeekday(x):\n",
        "    if x['Weekday']=='Sunday':\n",
        "      val = 1\n",
        "    elif x['Weekday']=='Monday':\n",
        "      val = 2\n",
        "    elif x['Weekday']=='Tuesday':\n",
        "      val = 3\n",
        "    elif x['Weekday']=='Wednesday':\n",
        "      val = 4\n",
        "    elif x['Weekday']=='Thursday':\n",
        "      val = 5\n",
        "    elif x['Weekday']=='Friday':\n",
        "      val = 6\n",
        "    elif x['Weekday']=='Saturday':\n",
        "      val = 7            \n",
        "    else:\n",
        "      val = \"None\"\n",
        "    return val\n",
        "\n",
        "dataset[\"Weekday\"] = dataset.apply(CategorizeByWeekday, axis = 1)\n",
        "\n",
        "dataset"
      ],
      "execution_count": 11,
      "outputs": [
        {
          "output_type": "execute_result",
          "data": {
            "text/html": [
              "<div>\n",
              "<style scoped>\n",
              "    .dataframe tbody tr th:only-of-type {\n",
              "        vertical-align: middle;\n",
              "    }\n",
              "\n",
              "    .dataframe tbody tr th {\n",
              "        vertical-align: top;\n",
              "    }\n",
              "\n",
              "    .dataframe thead th {\n",
              "        text-align: right;\n",
              "    }\n",
              "</style>\n",
              "<table border=\"1\" class=\"dataframe\">\n",
              "  <thead>\n",
              "    <tr style=\"text-align: right;\">\n",
              "      <th></th>\n",
              "      <th>Date</th>\n",
              "      <th>Year</th>\n",
              "      <th>Month</th>\n",
              "      <th>year_month</th>\n",
              "      <th>Day</th>\n",
              "      <th>Weekday</th>\n",
              "      <th>Holiday</th>\n",
              "      <th>Max Temp (°C)</th>\n",
              "      <th>Min Temp (°C)</th>\n",
              "      <th>Mean Temp (°C)</th>\n",
              "      <th>Monthly Mean Temp (°C)</th>\n",
              "      <th>Delta Temp (°C)</th>\n",
              "      <th>Total Precip (mm)</th>\n",
              "      <th>Monthly Mean Precip (mm)</th>\n",
              "      <th>Delta Precip (mm)</th>\n",
              "      <th>Snow on Grnd (cm)</th>\n",
              "      <th>Barrie Ridership</th>\n",
              "      <th>Kitchener Ridership</th>\n",
              "      <th>Lakeshore East Ridership</th>\n",
              "      <th>Lakeshore West Ridership</th>\n",
              "      <th>Milton Ridership</th>\n",
              "      <th>Richmond Hill Ridership</th>\n",
              "      <th>Stouffville Ridership</th>\n",
              "      <th>Union Station Ridership</th>\n",
              "      <th>Total GO Ridership</th>\n",
              "      <th>Outlier</th>\n",
              "      <th>Overall Mean</th>\n",
              "      <th>2SD_above</th>\n",
              "      <th>2SD_below</th>\n",
              "      <th>Union Station Ridership Ranges</th>\n",
              "    </tr>\n",
              "  </thead>\n",
              "  <tbody>\n",
              "    <tr>\n",
              "      <th>0</th>\n",
              "      <td>2017-03-01</td>\n",
              "      <td>2017</td>\n",
              "      <td>3</td>\n",
              "      <td>2017-03</td>\n",
              "      <td>1</td>\n",
              "      <td>4</td>\n",
              "      <td>False</td>\n",
              "      <td>13.1</td>\n",
              "      <td>-1.9</td>\n",
              "      <td>5.6</td>\n",
              "      <td>-0.251613</td>\n",
              "      <td>5.851613</td>\n",
              "      <td>18.4</td>\n",
              "      <td>2.335484</td>\n",
              "      <td>16.064516</td>\n",
              "      <td>0.0</td>\n",
              "      <td>10022</td>\n",
              "      <td>13585</td>\n",
              "      <td>25273</td>\n",
              "      <td>32909</td>\n",
              "      <td>15599</td>\n",
              "      <td>5639</td>\n",
              "      <td>8804</td>\n",
              "      <td>95802</td>\n",
              "      <td>207633</td>\n",
              "      <td>False</td>\n",
              "      <td>227296.503311</td>\n",
              "      <td>254365.810172</td>\n",
              "      <td>200227.196451</td>\n",
              "      <td>90000 to 100000</td>\n",
              "    </tr>\n",
              "    <tr>\n",
              "      <th>1</th>\n",
              "      <td>2017-03-02</td>\n",
              "      <td>2017</td>\n",
              "      <td>3</td>\n",
              "      <td>2017-03</td>\n",
              "      <td>2</td>\n",
              "      <td>5</td>\n",
              "      <td>False</td>\n",
              "      <td>-1.3</td>\n",
              "      <td>-6.4</td>\n",
              "      <td>-3.9</td>\n",
              "      <td>-0.251613</td>\n",
              "      <td>-3.648387</td>\n",
              "      <td>0.2</td>\n",
              "      <td>2.335484</td>\n",
              "      <td>-2.135484</td>\n",
              "      <td>0.5</td>\n",
              "      <td>9932</td>\n",
              "      <td>13331</td>\n",
              "      <td>26120</td>\n",
              "      <td>33884</td>\n",
              "      <td>15653</td>\n",
              "      <td>5665</td>\n",
              "      <td>8736</td>\n",
              "      <td>95873</td>\n",
              "      <td>209194</td>\n",
              "      <td>False</td>\n",
              "      <td>224966.615894</td>\n",
              "      <td>253295.696280</td>\n",
              "      <td>196637.535508</td>\n",
              "      <td>90000 to 100000</td>\n",
              "    </tr>\n",
              "    <tr>\n",
              "      <th>2</th>\n",
              "      <td>2017-03-03</td>\n",
              "      <td>2017</td>\n",
              "      <td>3</td>\n",
              "      <td>2017-03</td>\n",
              "      <td>3</td>\n",
              "      <td>6</td>\n",
              "      <td>False</td>\n",
              "      <td>-4.3</td>\n",
              "      <td>-8.1</td>\n",
              "      <td>-6.2</td>\n",
              "      <td>-0.251613</td>\n",
              "      <td>-5.948387</td>\n",
              "      <td>0.0</td>\n",
              "      <td>2.335484</td>\n",
              "      <td>-2.335484</td>\n",
              "      <td>0.5</td>\n",
              "      <td>8905</td>\n",
              "      <td>12235</td>\n",
              "      <td>23801</td>\n",
              "      <td>31473</td>\n",
              "      <td>14092</td>\n",
              "      <td>5129</td>\n",
              "      <td>7918</td>\n",
              "      <td>87200</td>\n",
              "      <td>190753</td>\n",
              "      <td>False</td>\n",
              "      <td>204211.905405</td>\n",
              "      <td>232457.905320</td>\n",
              "      <td>175965.905490</td>\n",
              "      <td>80000 to 90000</td>\n",
              "    </tr>\n",
              "    <tr>\n",
              "      <th>3</th>\n",
              "      <td>2017-03-04</td>\n",
              "      <td>2017</td>\n",
              "      <td>3</td>\n",
              "      <td>2017-03</td>\n",
              "      <td>4</td>\n",
              "      <td>7</td>\n",
              "      <td>False</td>\n",
              "      <td>-6.5</td>\n",
              "      <td>-11.9</td>\n",
              "      <td>-9.2</td>\n",
              "      <td>-0.251613</td>\n",
              "      <td>-8.948387</td>\n",
              "      <td>0.2</td>\n",
              "      <td>2.335484</td>\n",
              "      <td>-2.135484</td>\n",
              "      <td>0.5</td>\n",
              "      <td>928</td>\n",
              "      <td>480</td>\n",
              "      <td>7872</td>\n",
              "      <td>11756</td>\n",
              "      <td>208</td>\n",
              "      <td>0</td>\n",
              "      <td>246</td>\n",
              "      <td>13899</td>\n",
              "      <td>35389</td>\n",
              "      <td>False</td>\n",
              "      <td>45352.333333</td>\n",
              "      <td>73886.656469</td>\n",
              "      <td>16818.010198</td>\n",
              "      <td>10000 to 20000</td>\n",
              "    </tr>\n",
              "    <tr>\n",
              "      <th>4</th>\n",
              "      <td>2017-03-05</td>\n",
              "      <td>2017</td>\n",
              "      <td>3</td>\n",
              "      <td>2017-03</td>\n",
              "      <td>5</td>\n",
              "      <td>1</td>\n",
              "      <td>False</td>\n",
              "      <td>-0.4</td>\n",
              "      <td>-10.6</td>\n",
              "      <td>-5.5</td>\n",
              "      <td>-0.251613</td>\n",
              "      <td>-5.248387</td>\n",
              "      <td>0.0</td>\n",
              "      <td>2.335484</td>\n",
              "      <td>-2.335484</td>\n",
              "      <td>0.5</td>\n",
              "      <td>803</td>\n",
              "      <td>398</td>\n",
              "      <td>4714</td>\n",
              "      <td>8381</td>\n",
              "      <td>169</td>\n",
              "      <td>0</td>\n",
              "      <td>156</td>\n",
              "      <td>8505</td>\n",
              "      <td>23126</td>\n",
              "      <td>False</td>\n",
              "      <td>32455.370861</td>\n",
              "      <td>53039.519234</td>\n",
              "      <td>11871.222488</td>\n",
              "      <td>0 to 10000</td>\n",
              "    </tr>\n",
              "    <tr>\n",
              "      <th>...</th>\n",
              "      <td>...</td>\n",
              "      <td>...</td>\n",
              "      <td>...</td>\n",
              "      <td>...</td>\n",
              "      <td>...</td>\n",
              "      <td>...</td>\n",
              "      <td>...</td>\n",
              "      <td>...</td>\n",
              "      <td>...</td>\n",
              "      <td>...</td>\n",
              "      <td>...</td>\n",
              "      <td>...</td>\n",
              "      <td>...</td>\n",
              "      <td>...</td>\n",
              "      <td>...</td>\n",
              "      <td>...</td>\n",
              "      <td>...</td>\n",
              "      <td>...</td>\n",
              "      <td>...</td>\n",
              "      <td>...</td>\n",
              "      <td>...</td>\n",
              "      <td>...</td>\n",
              "      <td>...</td>\n",
              "      <td>...</td>\n",
              "      <td>...</td>\n",
              "      <td>...</td>\n",
              "      <td>...</td>\n",
              "      <td>...</td>\n",
              "      <td>...</td>\n",
              "      <td>...</td>\n",
              "    </tr>\n",
              "    <tr>\n",
              "      <th>1091</th>\n",
              "      <td>2020-02-25</td>\n",
              "      <td>2020</td>\n",
              "      <td>2</td>\n",
              "      <td>2020-02</td>\n",
              "      <td>25</td>\n",
              "      <td>3</td>\n",
              "      <td>False</td>\n",
              "      <td>5.6</td>\n",
              "      <td>1.7</td>\n",
              "      <td>3.7</td>\n",
              "      <td>-1.906897</td>\n",
              "      <td>5.606897</td>\n",
              "      <td>0.2</td>\n",
              "      <td>2.137931</td>\n",
              "      <td>-1.937931</td>\n",
              "      <td>0.0</td>\n",
              "      <td>13650</td>\n",
              "      <td>15097</td>\n",
              "      <td>29727</td>\n",
              "      <td>36973</td>\n",
              "      <td>17192</td>\n",
              "      <td>6865</td>\n",
              "      <td>10485</td>\n",
              "      <td>99431</td>\n",
              "      <td>229420</td>\n",
              "      <td>False</td>\n",
              "      <td>226142.086667</td>\n",
              "      <td>260553.155725</td>\n",
              "      <td>191731.017608</td>\n",
              "      <td>90000 to 100000</td>\n",
              "    </tr>\n",
              "    <tr>\n",
              "      <th>1092</th>\n",
              "      <td>2020-02-26</td>\n",
              "      <td>2020</td>\n",
              "      <td>2</td>\n",
              "      <td>2020-02</td>\n",
              "      <td>26</td>\n",
              "      <td>4</td>\n",
              "      <td>False</td>\n",
              "      <td>4.1</td>\n",
              "      <td>-3.2</td>\n",
              "      <td>0.4</td>\n",
              "      <td>-1.906897</td>\n",
              "      <td>2.306897</td>\n",
              "      <td>11.8</td>\n",
              "      <td>2.137931</td>\n",
              "      <td>9.662069</td>\n",
              "      <td>0.0</td>\n",
              "      <td>12596</td>\n",
              "      <td>13557</td>\n",
              "      <td>26690</td>\n",
              "      <td>33732</td>\n",
              "      <td>14331</td>\n",
              "      <td>6215</td>\n",
              "      <td>9749</td>\n",
              "      <td>98193</td>\n",
              "      <td>215063</td>\n",
              "      <td>False</td>\n",
              "      <td>227296.503311</td>\n",
              "      <td>254365.810172</td>\n",
              "      <td>200227.196451</td>\n",
              "      <td>90000 to 100000</td>\n",
              "    </tr>\n",
              "    <tr>\n",
              "      <th>1093</th>\n",
              "      <td>2020-02-27</td>\n",
              "      <td>2020</td>\n",
              "      <td>2</td>\n",
              "      <td>2020-02</td>\n",
              "      <td>27</td>\n",
              "      <td>5</td>\n",
              "      <td>False</td>\n",
              "      <td>-2.7</td>\n",
              "      <td>-5.3</td>\n",
              "      <td>-4.0</td>\n",
              "      <td>-1.906897</td>\n",
              "      <td>-2.093103</td>\n",
              "      <td>3.1</td>\n",
              "      <td>2.137931</td>\n",
              "      <td>0.962069</td>\n",
              "      <td>0.0</td>\n",
              "      <td>11349</td>\n",
              "      <td>13074</td>\n",
              "      <td>26818</td>\n",
              "      <td>34180</td>\n",
              "      <td>15281</td>\n",
              "      <td>5522</td>\n",
              "      <td>9151</td>\n",
              "      <td>94998</td>\n",
              "      <td>210373</td>\n",
              "      <td>False</td>\n",
              "      <td>224966.615894</td>\n",
              "      <td>253295.696280</td>\n",
              "      <td>196637.535508</td>\n",
              "      <td>90000 to 100000</td>\n",
              "    </tr>\n",
              "    <tr>\n",
              "      <th>1094</th>\n",
              "      <td>2020-02-28</td>\n",
              "      <td>2020</td>\n",
              "      <td>2</td>\n",
              "      <td>2020-02</td>\n",
              "      <td>28</td>\n",
              "      <td>6</td>\n",
              "      <td>False</td>\n",
              "      <td>-2.5</td>\n",
              "      <td>-9.4</td>\n",
              "      <td>-5.9</td>\n",
              "      <td>-1.906897</td>\n",
              "      <td>-3.993103</td>\n",
              "      <td>1.1</td>\n",
              "      <td>2.137931</td>\n",
              "      <td>-1.037931</td>\n",
              "      <td>0.0</td>\n",
              "      <td>11098</td>\n",
              "      <td>13008</td>\n",
              "      <td>27785</td>\n",
              "      <td>34263</td>\n",
              "      <td>14426</td>\n",
              "      <td>5629</td>\n",
              "      <td>8759</td>\n",
              "      <td>95108</td>\n",
              "      <td>210076</td>\n",
              "      <td>False</td>\n",
              "      <td>204211.905405</td>\n",
              "      <td>232457.905320</td>\n",
              "      <td>175965.905490</td>\n",
              "      <td>90000 to 100000</td>\n",
              "    </tr>\n",
              "    <tr>\n",
              "      <th>1095</th>\n",
              "      <td>2020-02-29</td>\n",
              "      <td>2020</td>\n",
              "      <td>2</td>\n",
              "      <td>2020-02</td>\n",
              "      <td>29</td>\n",
              "      <td>7</td>\n",
              "      <td>False</td>\n",
              "      <td>-3.2</td>\n",
              "      <td>-12.8</td>\n",
              "      <td>-8.0</td>\n",
              "      <td>-1.906897</td>\n",
              "      <td>-6.093103</td>\n",
              "      <td>1.2</td>\n",
              "      <td>2.137931</td>\n",
              "      <td>-0.937931</td>\n",
              "      <td>0.0</td>\n",
              "      <td>1791</td>\n",
              "      <td>134</td>\n",
              "      <td>7107</td>\n",
              "      <td>11161</td>\n",
              "      <td>74</td>\n",
              "      <td>0</td>\n",
              "      <td>675</td>\n",
              "      <td>13307</td>\n",
              "      <td>34249</td>\n",
              "      <td>False</td>\n",
              "      <td>45352.333333</td>\n",
              "      <td>73886.656469</td>\n",
              "      <td>16818.010198</td>\n",
              "      <td>10000 to 20000</td>\n",
              "    </tr>\n",
              "  </tbody>\n",
              "</table>\n",
              "<p>991 rows × 30 columns</p>\n",
              "</div>"
            ],
            "text/plain": [
              "            Date  Year  ...      2SD_below Union Station Ridership Ranges\n",
              "0     2017-03-01  2017  ...  200227.196451                90000 to 100000\n",
              "1     2017-03-02  2017  ...  196637.535508                90000 to 100000\n",
              "2     2017-03-03  2017  ...  175965.905490                 80000 to 90000\n",
              "3     2017-03-04  2017  ...   16818.010198                 10000 to 20000\n",
              "4     2017-03-05  2017  ...   11871.222488                     0 to 10000\n",
              "...          ...   ...  ...            ...                            ...\n",
              "1091  2020-02-25  2020  ...  191731.017608                90000 to 100000\n",
              "1092  2020-02-26  2020  ...  200227.196451                90000 to 100000\n",
              "1093  2020-02-27  2020  ...  196637.535508                90000 to 100000\n",
              "1094  2020-02-28  2020  ...  175965.905490                90000 to 100000\n",
              "1095  2020-02-29  2020  ...   16818.010198                 10000 to 20000\n",
              "\n",
              "[991 rows x 30 columns]"
            ]
          },
          "metadata": {
            "tags": []
          },
          "execution_count": 11
        }
      ]
    },
    {
      "cell_type": "markdown",
      "metadata": {
        "id": "I5SGFhu2xvbC",
        "colab_type": "text"
      },
      "source": [
        "###Creation of master dataset for knn"
      ]
    },
    {
      "cell_type": "markdown",
      "metadata": {
        "id": "_dvODH__xxKR",
        "colab_type": "text"
      },
      "source": [
        "To create a master dataset for knn classification, a copy of the original dataset was created ONLY with the relevant columns for attributes and category.\n",
        "\n",
        "Attribute columns:\n",
        "1. Month\n",
        "2. Weekday\n",
        "3. Delta Temp\n",
        "4. Delta Precipitation\n",
        "\n",
        "Category column:\n",
        "1. Union Station Ridership Range"
      ]
    },
    {
      "cell_type": "code",
      "metadata": {
        "id": "MjLkd49AxyxF",
        "colab_type": "code",
        "colab": {
          "base_uri": "https://localhost:8080/",
          "height": 424
        },
        "outputId": "6821a598-fd6c-418b-a5eb-797fd5585027"
      },
      "source": [
        "#create dataset for knn\n",
        "knn_dataset = dataset[[\"Date\",\"Month\",\"Weekday\",\"Delta Temp (°C)\",\"Delta Precip (mm)\",\"Union Station Ridership Ranges\"]].copy()\n",
        "knn_dataset"
      ],
      "execution_count": 12,
      "outputs": [
        {
          "output_type": "execute_result",
          "data": {
            "text/html": [
              "<div>\n",
              "<style scoped>\n",
              "    .dataframe tbody tr th:only-of-type {\n",
              "        vertical-align: middle;\n",
              "    }\n",
              "\n",
              "    .dataframe tbody tr th {\n",
              "        vertical-align: top;\n",
              "    }\n",
              "\n",
              "    .dataframe thead th {\n",
              "        text-align: right;\n",
              "    }\n",
              "</style>\n",
              "<table border=\"1\" class=\"dataframe\">\n",
              "  <thead>\n",
              "    <tr style=\"text-align: right;\">\n",
              "      <th></th>\n",
              "      <th>Date</th>\n",
              "      <th>Month</th>\n",
              "      <th>Weekday</th>\n",
              "      <th>Delta Temp (°C)</th>\n",
              "      <th>Delta Precip (mm)</th>\n",
              "      <th>Union Station Ridership Ranges</th>\n",
              "    </tr>\n",
              "  </thead>\n",
              "  <tbody>\n",
              "    <tr>\n",
              "      <th>0</th>\n",
              "      <td>2017-03-01</td>\n",
              "      <td>3</td>\n",
              "      <td>4</td>\n",
              "      <td>5.851613</td>\n",
              "      <td>16.064516</td>\n",
              "      <td>90000 to 100000</td>\n",
              "    </tr>\n",
              "    <tr>\n",
              "      <th>1</th>\n",
              "      <td>2017-03-02</td>\n",
              "      <td>3</td>\n",
              "      <td>5</td>\n",
              "      <td>-3.648387</td>\n",
              "      <td>-2.135484</td>\n",
              "      <td>90000 to 100000</td>\n",
              "    </tr>\n",
              "    <tr>\n",
              "      <th>2</th>\n",
              "      <td>2017-03-03</td>\n",
              "      <td>3</td>\n",
              "      <td>6</td>\n",
              "      <td>-5.948387</td>\n",
              "      <td>-2.335484</td>\n",
              "      <td>80000 to 90000</td>\n",
              "    </tr>\n",
              "    <tr>\n",
              "      <th>3</th>\n",
              "      <td>2017-03-04</td>\n",
              "      <td>3</td>\n",
              "      <td>7</td>\n",
              "      <td>-8.948387</td>\n",
              "      <td>-2.135484</td>\n",
              "      <td>10000 to 20000</td>\n",
              "    </tr>\n",
              "    <tr>\n",
              "      <th>4</th>\n",
              "      <td>2017-03-05</td>\n",
              "      <td>3</td>\n",
              "      <td>1</td>\n",
              "      <td>-5.248387</td>\n",
              "      <td>-2.335484</td>\n",
              "      <td>0 to 10000</td>\n",
              "    </tr>\n",
              "    <tr>\n",
              "      <th>...</th>\n",
              "      <td>...</td>\n",
              "      <td>...</td>\n",
              "      <td>...</td>\n",
              "      <td>...</td>\n",
              "      <td>...</td>\n",
              "      <td>...</td>\n",
              "    </tr>\n",
              "    <tr>\n",
              "      <th>1091</th>\n",
              "      <td>2020-02-25</td>\n",
              "      <td>2</td>\n",
              "      <td>3</td>\n",
              "      <td>5.606897</td>\n",
              "      <td>-1.937931</td>\n",
              "      <td>90000 to 100000</td>\n",
              "    </tr>\n",
              "    <tr>\n",
              "      <th>1092</th>\n",
              "      <td>2020-02-26</td>\n",
              "      <td>2</td>\n",
              "      <td>4</td>\n",
              "      <td>2.306897</td>\n",
              "      <td>9.662069</td>\n",
              "      <td>90000 to 100000</td>\n",
              "    </tr>\n",
              "    <tr>\n",
              "      <th>1093</th>\n",
              "      <td>2020-02-27</td>\n",
              "      <td>2</td>\n",
              "      <td>5</td>\n",
              "      <td>-2.093103</td>\n",
              "      <td>0.962069</td>\n",
              "      <td>90000 to 100000</td>\n",
              "    </tr>\n",
              "    <tr>\n",
              "      <th>1094</th>\n",
              "      <td>2020-02-28</td>\n",
              "      <td>2</td>\n",
              "      <td>6</td>\n",
              "      <td>-3.993103</td>\n",
              "      <td>-1.037931</td>\n",
              "      <td>90000 to 100000</td>\n",
              "    </tr>\n",
              "    <tr>\n",
              "      <th>1095</th>\n",
              "      <td>2020-02-29</td>\n",
              "      <td>2</td>\n",
              "      <td>7</td>\n",
              "      <td>-6.093103</td>\n",
              "      <td>-0.937931</td>\n",
              "      <td>10000 to 20000</td>\n",
              "    </tr>\n",
              "  </tbody>\n",
              "</table>\n",
              "<p>991 rows × 6 columns</p>\n",
              "</div>"
            ],
            "text/plain": [
              "            Date  Month  ...  Delta Precip (mm)  Union Station Ridership Ranges\n",
              "0     2017-03-01      3  ...          16.064516                 90000 to 100000\n",
              "1     2017-03-02      3  ...          -2.135484                 90000 to 100000\n",
              "2     2017-03-03      3  ...          -2.335484                  80000 to 90000\n",
              "3     2017-03-04      3  ...          -2.135484                  10000 to 20000\n",
              "4     2017-03-05      3  ...          -2.335484                      0 to 10000\n",
              "...          ...    ...  ...                ...                             ...\n",
              "1091  2020-02-25      2  ...          -1.937931                 90000 to 100000\n",
              "1092  2020-02-26      2  ...           9.662069                 90000 to 100000\n",
              "1093  2020-02-27      2  ...           0.962069                 90000 to 100000\n",
              "1094  2020-02-28      2  ...          -1.037931                 90000 to 100000\n",
              "1095  2020-02-29      2  ...          -0.937931                  10000 to 20000\n",
              "\n",
              "[991 rows x 6 columns]"
            ]
          },
          "metadata": {
            "tags": []
          },
          "execution_count": 12
        }
      ]
    },
    {
      "cell_type": "code",
      "metadata": {
        "id": "H60FG3nAx1rv",
        "colab_type": "code",
        "colab": {
          "base_uri": "https://localhost:8080/",
          "height": 243
        },
        "outputId": "6dd8ff40-8c6a-42bb-c468-259af5bbcb6c"
      },
      "source": [
        "#convert ridership to category\n",
        "knn_dataset[\"Union Station Ridership Ranges\"] = knn_dataset[\"Union Station Ridership Ranges\"].astype('category')\n",
        "knn_dataset.info()"
      ],
      "execution_count": 13,
      "outputs": [
        {
          "output_type": "stream",
          "text": [
            "<class 'pandas.core.frame.DataFrame'>\n",
            "Int64Index: 991 entries, 0 to 1095\n",
            "Data columns (total 6 columns):\n",
            " #   Column                          Non-Null Count  Dtype   \n",
            "---  ------                          --------------  -----   \n",
            " 0   Date                            991 non-null    object  \n",
            " 1   Month                           991 non-null    int64   \n",
            " 2   Weekday                         991 non-null    int64   \n",
            " 3   Delta Temp (°C)                 991 non-null    float64 \n",
            " 4   Delta Precip (mm)               991 non-null    float64 \n",
            " 5   Union Station Ridership Ranges  991 non-null    category\n",
            "dtypes: category(1), float64(2), int64(2), object(1)\n",
            "memory usage: 48.2+ KB\n"
          ],
          "name": "stdout"
        }
      ]
    },
    {
      "cell_type": "markdown",
      "metadata": {
        "id": "hj1_fg8Bx3c4",
        "colab_type": "text"
      },
      "source": [
        "## knn predict for June 2019"
      ]
    },
    {
      "cell_type": "code",
      "metadata": {
        "id": "nsWSdS-qx4J-",
        "colab_type": "code",
        "colab": {
          "base_uri": "https://localhost:8080/",
          "height": 206
        },
        "outputId": "1ba8404c-fddb-4335-f9e7-633409bd11e5"
      },
      "source": [
        "X = knn_dataset[[\"Date\",\"Month\",\"Weekday\",\"Delta Temp (°C)\",\"Delta Precip (mm)\"]]\n",
        "X.head()"
      ],
      "execution_count": 14,
      "outputs": [
        {
          "output_type": "execute_result",
          "data": {
            "text/html": [
              "<div>\n",
              "<style scoped>\n",
              "    .dataframe tbody tr th:only-of-type {\n",
              "        vertical-align: middle;\n",
              "    }\n",
              "\n",
              "    .dataframe tbody tr th {\n",
              "        vertical-align: top;\n",
              "    }\n",
              "\n",
              "    .dataframe thead th {\n",
              "        text-align: right;\n",
              "    }\n",
              "</style>\n",
              "<table border=\"1\" class=\"dataframe\">\n",
              "  <thead>\n",
              "    <tr style=\"text-align: right;\">\n",
              "      <th></th>\n",
              "      <th>Date</th>\n",
              "      <th>Month</th>\n",
              "      <th>Weekday</th>\n",
              "      <th>Delta Temp (°C)</th>\n",
              "      <th>Delta Precip (mm)</th>\n",
              "    </tr>\n",
              "  </thead>\n",
              "  <tbody>\n",
              "    <tr>\n",
              "      <th>0</th>\n",
              "      <td>2017-03-01</td>\n",
              "      <td>3</td>\n",
              "      <td>4</td>\n",
              "      <td>5.851613</td>\n",
              "      <td>16.064516</td>\n",
              "    </tr>\n",
              "    <tr>\n",
              "      <th>1</th>\n",
              "      <td>2017-03-02</td>\n",
              "      <td>3</td>\n",
              "      <td>5</td>\n",
              "      <td>-3.648387</td>\n",
              "      <td>-2.135484</td>\n",
              "    </tr>\n",
              "    <tr>\n",
              "      <th>2</th>\n",
              "      <td>2017-03-03</td>\n",
              "      <td>3</td>\n",
              "      <td>6</td>\n",
              "      <td>-5.948387</td>\n",
              "      <td>-2.335484</td>\n",
              "    </tr>\n",
              "    <tr>\n",
              "      <th>3</th>\n",
              "      <td>2017-03-04</td>\n",
              "      <td>3</td>\n",
              "      <td>7</td>\n",
              "      <td>-8.948387</td>\n",
              "      <td>-2.135484</td>\n",
              "    </tr>\n",
              "    <tr>\n",
              "      <th>4</th>\n",
              "      <td>2017-03-05</td>\n",
              "      <td>3</td>\n",
              "      <td>1</td>\n",
              "      <td>-5.248387</td>\n",
              "      <td>-2.335484</td>\n",
              "    </tr>\n",
              "  </tbody>\n",
              "</table>\n",
              "</div>"
            ],
            "text/plain": [
              "         Date  Month  Weekday  Delta Temp (°C)  Delta Precip (mm)\n",
              "0  2017-03-01      3        4         5.851613          16.064516\n",
              "1  2017-03-02      3        5        -3.648387          -2.135484\n",
              "2  2017-03-03      3        6        -5.948387          -2.335484\n",
              "3  2017-03-04      3        7        -8.948387          -2.135484\n",
              "4  2017-03-05      3        1        -5.248387          -2.335484"
            ]
          },
          "metadata": {
            "tags": []
          },
          "execution_count": 14
        }
      ]
    },
    {
      "cell_type": "markdown",
      "metadata": {
        "id": "YgRRJjmxx8aA",
        "colab_type": "text"
      },
      "source": [
        "###Convert attribute columns to floats"
      ]
    },
    {
      "cell_type": "code",
      "metadata": {
        "id": "LyFur4WXx9RU",
        "colab_type": "code",
        "colab": {
          "base_uri": "https://localhost:8080/",
          "height": 528
        },
        "outputId": "764c6e8a-cb60-4eed-b14f-474ca28097a0"
      },
      "source": [
        "cols = ['Month', 'Weekday', 'Delta Temp (°C)', 'Delta Precip (mm)']\n",
        "for col in cols:\n",
        "   X[col] = X[col].apply(lambda x: float(x) if x == x else \"\")\n",
        "X"
      ],
      "execution_count": 15,
      "outputs": [
        {
          "output_type": "stream",
          "text": [
            "/usr/local/lib/python3.6/dist-packages/ipykernel_launcher.py:3: SettingWithCopyWarning: \n",
            "A value is trying to be set on a copy of a slice from a DataFrame.\n",
            "Try using .loc[row_indexer,col_indexer] = value instead\n",
            "\n",
            "See the caveats in the documentation: https://pandas.pydata.org/pandas-docs/stable/user_guide/indexing.html#returning-a-view-versus-a-copy\n",
            "  This is separate from the ipykernel package so we can avoid doing imports until\n"
          ],
          "name": "stderr"
        },
        {
          "output_type": "execute_result",
          "data": {
            "text/html": [
              "<div>\n",
              "<style scoped>\n",
              "    .dataframe tbody tr th:only-of-type {\n",
              "        vertical-align: middle;\n",
              "    }\n",
              "\n",
              "    .dataframe tbody tr th {\n",
              "        vertical-align: top;\n",
              "    }\n",
              "\n",
              "    .dataframe thead th {\n",
              "        text-align: right;\n",
              "    }\n",
              "</style>\n",
              "<table border=\"1\" class=\"dataframe\">\n",
              "  <thead>\n",
              "    <tr style=\"text-align: right;\">\n",
              "      <th></th>\n",
              "      <th>Date</th>\n",
              "      <th>Month</th>\n",
              "      <th>Weekday</th>\n",
              "      <th>Delta Temp (°C)</th>\n",
              "      <th>Delta Precip (mm)</th>\n",
              "    </tr>\n",
              "  </thead>\n",
              "  <tbody>\n",
              "    <tr>\n",
              "      <th>0</th>\n",
              "      <td>2017-03-01</td>\n",
              "      <td>3.0</td>\n",
              "      <td>4.0</td>\n",
              "      <td>5.851613</td>\n",
              "      <td>16.064516</td>\n",
              "    </tr>\n",
              "    <tr>\n",
              "      <th>1</th>\n",
              "      <td>2017-03-02</td>\n",
              "      <td>3.0</td>\n",
              "      <td>5.0</td>\n",
              "      <td>-3.648387</td>\n",
              "      <td>-2.135484</td>\n",
              "    </tr>\n",
              "    <tr>\n",
              "      <th>2</th>\n",
              "      <td>2017-03-03</td>\n",
              "      <td>3.0</td>\n",
              "      <td>6.0</td>\n",
              "      <td>-5.948387</td>\n",
              "      <td>-2.335484</td>\n",
              "    </tr>\n",
              "    <tr>\n",
              "      <th>3</th>\n",
              "      <td>2017-03-04</td>\n",
              "      <td>3.0</td>\n",
              "      <td>7.0</td>\n",
              "      <td>-8.948387</td>\n",
              "      <td>-2.135484</td>\n",
              "    </tr>\n",
              "    <tr>\n",
              "      <th>4</th>\n",
              "      <td>2017-03-05</td>\n",
              "      <td>3.0</td>\n",
              "      <td>1.0</td>\n",
              "      <td>-5.248387</td>\n",
              "      <td>-2.335484</td>\n",
              "    </tr>\n",
              "    <tr>\n",
              "      <th>...</th>\n",
              "      <td>...</td>\n",
              "      <td>...</td>\n",
              "      <td>...</td>\n",
              "      <td>...</td>\n",
              "      <td>...</td>\n",
              "    </tr>\n",
              "    <tr>\n",
              "      <th>1091</th>\n",
              "      <td>2020-02-25</td>\n",
              "      <td>2.0</td>\n",
              "      <td>3.0</td>\n",
              "      <td>5.606897</td>\n",
              "      <td>-1.937931</td>\n",
              "    </tr>\n",
              "    <tr>\n",
              "      <th>1092</th>\n",
              "      <td>2020-02-26</td>\n",
              "      <td>2.0</td>\n",
              "      <td>4.0</td>\n",
              "      <td>2.306897</td>\n",
              "      <td>9.662069</td>\n",
              "    </tr>\n",
              "    <tr>\n",
              "      <th>1093</th>\n",
              "      <td>2020-02-27</td>\n",
              "      <td>2.0</td>\n",
              "      <td>5.0</td>\n",
              "      <td>-2.093103</td>\n",
              "      <td>0.962069</td>\n",
              "    </tr>\n",
              "    <tr>\n",
              "      <th>1094</th>\n",
              "      <td>2020-02-28</td>\n",
              "      <td>2.0</td>\n",
              "      <td>6.0</td>\n",
              "      <td>-3.993103</td>\n",
              "      <td>-1.037931</td>\n",
              "    </tr>\n",
              "    <tr>\n",
              "      <th>1095</th>\n",
              "      <td>2020-02-29</td>\n",
              "      <td>2.0</td>\n",
              "      <td>7.0</td>\n",
              "      <td>-6.093103</td>\n",
              "      <td>-0.937931</td>\n",
              "    </tr>\n",
              "  </tbody>\n",
              "</table>\n",
              "<p>991 rows × 5 columns</p>\n",
              "</div>"
            ],
            "text/plain": [
              "            Date  Month  Weekday  Delta Temp (°C)  Delta Precip (mm)\n",
              "0     2017-03-01    3.0      4.0         5.851613          16.064516\n",
              "1     2017-03-02    3.0      5.0        -3.648387          -2.135484\n",
              "2     2017-03-03    3.0      6.0        -5.948387          -2.335484\n",
              "3     2017-03-04    3.0      7.0        -8.948387          -2.135484\n",
              "4     2017-03-05    3.0      1.0        -5.248387          -2.335484\n",
              "...          ...    ...      ...              ...                ...\n",
              "1091  2020-02-25    2.0      3.0         5.606897          -1.937931\n",
              "1092  2020-02-26    2.0      4.0         2.306897           9.662069\n",
              "1093  2020-02-27    2.0      5.0        -2.093103           0.962069\n",
              "1094  2020-02-28    2.0      6.0        -3.993103          -1.037931\n",
              "1095  2020-02-29    2.0      7.0        -6.093103          -0.937931\n",
              "\n",
              "[991 rows x 5 columns]"
            ]
          },
          "metadata": {
            "tags": []
          },
          "execution_count": 15
        }
      ]
    },
    {
      "cell_type": "code",
      "metadata": {
        "id": "JyWvb_8vyBJA",
        "colab_type": "code",
        "colab": {
          "base_uri": "https://localhost:8080/",
          "height": 156
        },
        "outputId": "d8660bce-8bd5-4b77-c7c1-2d781e794a1c"
      },
      "source": [
        "y = knn_dataset[\"Union Station Ridership Ranges\"]\n",
        "y.head()"
      ],
      "execution_count": 16,
      "outputs": [
        {
          "output_type": "execute_result",
          "data": {
            "text/plain": [
              "0    90000 to 100000\n",
              "1    90000 to 100000\n",
              "2     80000 to 90000\n",
              "3     10000 to 20000\n",
              "4         0 to 10000\n",
              "Name: Union Station Ridership Ranges, dtype: category\n",
              "Categories (16, object): [0 to 10000 < 10000 to 20000 < 20000 to 30000 < 30000 to 40000 < ... <\n",
              "                          120000 to 130000 < 130000 to 140000 < 140000 to 150000 < 150000 to 160000]"
            ]
          },
          "metadata": {
            "tags": []
          },
          "execution_count": 16
        }
      ]
    },
    {
      "cell_type": "markdown",
      "metadata": {
        "id": "RR7xfPjsyDos",
        "colab_type": "text"
      },
      "source": [
        "###Separating the data manually to use June 2019 as testing set and the rest for training set"
      ]
    },
    {
      "cell_type": "code",
      "metadata": {
        "id": "tOOcR8zjyEiV",
        "colab_type": "code",
        "colab": {
          "base_uri": "https://localhost:8080/",
          "height": 424
        },
        "outputId": "5898b5a8-a28c-4672-a198-d9d19ff34ff8"
      },
      "source": [
        "from sklearn.neighbors import KNeighborsClassifier\n",
        "from sklearn.metrics import accuracy_score\n",
        "#use June 2019 as test data\n",
        "\n",
        "X_train_1 = X.loc[(X['Date']>\"2017-03-01\") & (X['Date']<\"2019-06-01\")]\n",
        "X_train_2 = X.loc[(X['Date']>\"2019-06-30\") & (X['Date']<\"2020-03-01\")]\n",
        "X_train = pd.concat([X_train_1, X_train_2], ignore_index=True, sort =False)\n",
        "X_train.drop('Date', axis=1, inplace=True)\n",
        "X_train"
      ],
      "execution_count": 17,
      "outputs": [
        {
          "output_type": "execute_result",
          "data": {
            "text/html": [
              "<div>\n",
              "<style scoped>\n",
              "    .dataframe tbody tr th:only-of-type {\n",
              "        vertical-align: middle;\n",
              "    }\n",
              "\n",
              "    .dataframe tbody tr th {\n",
              "        vertical-align: top;\n",
              "    }\n",
              "\n",
              "    .dataframe thead th {\n",
              "        text-align: right;\n",
              "    }\n",
              "</style>\n",
              "<table border=\"1\" class=\"dataframe\">\n",
              "  <thead>\n",
              "    <tr style=\"text-align: right;\">\n",
              "      <th></th>\n",
              "      <th>Month</th>\n",
              "      <th>Weekday</th>\n",
              "      <th>Delta Temp (°C)</th>\n",
              "      <th>Delta Precip (mm)</th>\n",
              "    </tr>\n",
              "  </thead>\n",
              "  <tbody>\n",
              "    <tr>\n",
              "      <th>0</th>\n",
              "      <td>3.0</td>\n",
              "      <td>5.0</td>\n",
              "      <td>-3.648387</td>\n",
              "      <td>-2.135484</td>\n",
              "    </tr>\n",
              "    <tr>\n",
              "      <th>1</th>\n",
              "      <td>3.0</td>\n",
              "      <td>6.0</td>\n",
              "      <td>-5.948387</td>\n",
              "      <td>-2.335484</td>\n",
              "    </tr>\n",
              "    <tr>\n",
              "      <th>2</th>\n",
              "      <td>3.0</td>\n",
              "      <td>7.0</td>\n",
              "      <td>-8.948387</td>\n",
              "      <td>-2.135484</td>\n",
              "    </tr>\n",
              "    <tr>\n",
              "      <th>3</th>\n",
              "      <td>3.0</td>\n",
              "      <td>1.0</td>\n",
              "      <td>-5.248387</td>\n",
              "      <td>-2.335484</td>\n",
              "    </tr>\n",
              "    <tr>\n",
              "      <th>4</th>\n",
              "      <td>3.0</td>\n",
              "      <td>2.0</td>\n",
              "      <td>-9.548387</td>\n",
              "      <td>-2.335484</td>\n",
              "    </tr>\n",
              "    <tr>\n",
              "      <th>...</th>\n",
              "      <td>...</td>\n",
              "      <td>...</td>\n",
              "      <td>...</td>\n",
              "      <td>...</td>\n",
              "    </tr>\n",
              "    <tr>\n",
              "      <th>956</th>\n",
              "      <td>2.0</td>\n",
              "      <td>3.0</td>\n",
              "      <td>5.606897</td>\n",
              "      <td>-1.937931</td>\n",
              "    </tr>\n",
              "    <tr>\n",
              "      <th>957</th>\n",
              "      <td>2.0</td>\n",
              "      <td>4.0</td>\n",
              "      <td>2.306897</td>\n",
              "      <td>9.662069</td>\n",
              "    </tr>\n",
              "    <tr>\n",
              "      <th>958</th>\n",
              "      <td>2.0</td>\n",
              "      <td>5.0</td>\n",
              "      <td>-2.093103</td>\n",
              "      <td>0.962069</td>\n",
              "    </tr>\n",
              "    <tr>\n",
              "      <th>959</th>\n",
              "      <td>2.0</td>\n",
              "      <td>6.0</td>\n",
              "      <td>-3.993103</td>\n",
              "      <td>-1.037931</td>\n",
              "    </tr>\n",
              "    <tr>\n",
              "      <th>960</th>\n",
              "      <td>2.0</td>\n",
              "      <td>7.0</td>\n",
              "      <td>-6.093103</td>\n",
              "      <td>-0.937931</td>\n",
              "    </tr>\n",
              "  </tbody>\n",
              "</table>\n",
              "<p>961 rows × 4 columns</p>\n",
              "</div>"
            ],
            "text/plain": [
              "     Month  Weekday  Delta Temp (°C)  Delta Precip (mm)\n",
              "0      3.0      5.0        -3.648387          -2.135484\n",
              "1      3.0      6.0        -5.948387          -2.335484\n",
              "2      3.0      7.0        -8.948387          -2.135484\n",
              "3      3.0      1.0        -5.248387          -2.335484\n",
              "4      3.0      2.0        -9.548387          -2.335484\n",
              "..     ...      ...              ...                ...\n",
              "956    2.0      3.0         5.606897          -1.937931\n",
              "957    2.0      4.0         2.306897           9.662069\n",
              "958    2.0      5.0        -2.093103           0.962069\n",
              "959    2.0      6.0        -3.993103          -1.037931\n",
              "960    2.0      7.0        -6.093103          -0.937931\n",
              "\n",
              "[961 rows x 4 columns]"
            ]
          },
          "metadata": {
            "tags": []
          },
          "execution_count": 17
        }
      ]
    },
    {
      "cell_type": "code",
      "metadata": {
        "id": "KFribAhSyIYK",
        "colab_type": "code",
        "colab": {
          "base_uri": "https://localhost:8080/",
          "height": 121
        },
        "outputId": "437efdcb-7250-4696-fd72-12fd15fbd43c"
      },
      "source": [
        "X_test = X.loc[(X['Date']>\"2019-05-31\") & (X['Date']<\"2019-07-01\")]\n",
        "X_test.drop('Date', axis=1, inplace=True)\n",
        "X_test.shape"
      ],
      "execution_count": 18,
      "outputs": [
        {
          "output_type": "stream",
          "text": [
            "/usr/local/lib/python3.6/dist-packages/pandas/core/frame.py:3997: SettingWithCopyWarning: \n",
            "A value is trying to be set on a copy of a slice from a DataFrame\n",
            "\n",
            "See the caveats in the documentation: https://pandas.pydata.org/pandas-docs/stable/user_guide/indexing.html#returning-a-view-versus-a-copy\n",
            "  errors=errors,\n"
          ],
          "name": "stderr"
        },
        {
          "output_type": "execute_result",
          "data": {
            "text/plain": [
              "(29, 4)"
            ]
          },
          "metadata": {
            "tags": []
          },
          "execution_count": 18
        }
      ]
    },
    {
      "cell_type": "code",
      "metadata": {
        "id": "vZxbcjkJyJ6H",
        "colab_type": "code",
        "colab": {
          "base_uri": "https://localhost:8080/",
          "height": 34
        },
        "outputId": "aaa4d0bf-2580-4d2d-ec1d-27834792b63b"
      },
      "source": [
        "y_train_1 = y.loc[(X['Date']>\"2017-03-01\") & (X['Date']<\"2019-06-01\")]\n",
        "y_train_2 = y.loc[(X['Date']>\"2019-06-30\") & (X['Date']<\"2020-03-01\")]\n",
        "y_train = pd.concat([y_train_1, y_train_2], ignore_index=True, sort =False)\n",
        "y_train.shape"
      ],
      "execution_count": 19,
      "outputs": [
        {
          "output_type": "execute_result",
          "data": {
            "text/plain": [
              "(961,)"
            ]
          },
          "metadata": {
            "tags": []
          },
          "execution_count": 19
        }
      ]
    },
    {
      "cell_type": "code",
      "metadata": {
        "id": "pol3rh5xyLaW",
        "colab_type": "code",
        "colab": {
          "base_uri": "https://localhost:8080/",
          "height": 34
        },
        "outputId": "1e88bf02-796b-4a7b-abbb-eca4f3b49725"
      },
      "source": [
        "y_test = y.loc[(X['Date']>\"2019-05-31\") & (X['Date']<\"2019-07-01\")]\n",
        "y_test.shape"
      ],
      "execution_count": 20,
      "outputs": [
        {
          "output_type": "execute_result",
          "data": {
            "text/plain": [
              "(29,)"
            ]
          },
          "metadata": {
            "tags": []
          },
          "execution_count": 20
        }
      ]
    },
    {
      "cell_type": "markdown",
      "metadata": {
        "id": "G2wUfE9JyOE0",
        "colab_type": "text"
      },
      "source": [
        "###Initial knn predict run with 5 neighbours"
      ]
    },
    {
      "cell_type": "code",
      "metadata": {
        "id": "velTX7dPySqc",
        "colab_type": "code",
        "colab": {
          "base_uri": "https://localhost:8080/",
          "height": 191
        },
        "outputId": "678882bb-a38d-47b0-cb2d-0e2350ff127c"
      },
      "source": [
        "from sklearn.neighbors import KNeighborsClassifier\n",
        "from sklearn.metrics import accuracy_score\n",
        "knn = KNeighborsClassifier(n_neighbors=5)\n",
        "knn.fit(X_train,y_train)\n",
        "y_hat = knn.predict(X_test)\n",
        "y_hat"
      ],
      "execution_count": 21,
      "outputs": [
        {
          "output_type": "execute_result",
          "data": {
            "text/plain": [
              "array(['10000 to 20000', '10000 to 20000', '100000 to 110000',\n",
              "       '100000 to 110000', '90000 to 100000', '90000 to 100000',\n",
              "       '10000 to 20000', '10000 to 20000', '10000 to 20000',\n",
              "       '90000 to 100000', '100000 to 110000', '90000 to 100000',\n",
              "       '90000 to 100000', '90000 to 100000', '10000 to 20000',\n",
              "       '10000 to 20000', '100000 to 110000', '100000 to 110000',\n",
              "       '100000 to 110000', '80000 to 90000', '10000 to 20000',\n",
              "       '0 to 10000', '100000 to 110000', '100000 to 110000',\n",
              "       '100000 to 110000', '90000 to 100000', '100000 to 110000',\n",
              "       '10000 to 20000', '10000 to 20000'], dtype=object)"
            ]
          },
          "metadata": {
            "tags": []
          },
          "execution_count": 21
        }
      ]
    },
    {
      "cell_type": "code",
      "metadata": {
        "id": "9ZksZqPCyUVr",
        "colab_type": "code",
        "colab": {
          "base_uri": "https://localhost:8080/",
          "height": 573
        },
        "outputId": "3f794582-2ed9-4955-a1fb-a37b07ba005a"
      },
      "source": [
        "y_test"
      ],
      "execution_count": 22,
      "outputs": [
        {
          "output_type": "execute_result",
          "data": {
            "text/plain": [
              "822      10000 to 20000\n",
              "823      10000 to 20000\n",
              "824    100000 to 110000\n",
              "825    100000 to 110000\n",
              "826    100000 to 110000\n",
              "827    100000 to 110000\n",
              "828     90000 to 100000\n",
              "829      10000 to 20000\n",
              "830      10000 to 20000\n",
              "831    100000 to 110000\n",
              "832    100000 to 110000\n",
              "833    100000 to 110000\n",
              "834    100000 to 110000\n",
              "835     90000 to 100000\n",
              "836      10000 to 20000\n",
              "837      10000 to 20000\n",
              "839    100000 to 110000\n",
              "840    100000 to 110000\n",
              "841    100000 to 110000\n",
              "842     90000 to 100000\n",
              "843      10000 to 20000\n",
              "844      10000 to 20000\n",
              "845    100000 to 110000\n",
              "846    100000 to 110000\n",
              "847    100000 to 110000\n",
              "848    100000 to 110000\n",
              "849      80000 to 90000\n",
              "850      10000 to 20000\n",
              "851      10000 to 20000\n",
              "Name: Union Station Ridership Ranges, dtype: category\n",
              "Categories (16, object): [0 to 10000 < 10000 to 20000 < 20000 to 30000 < 30000 to 40000 < ... <\n",
              "                          120000 to 130000 < 130000 to 140000 < 140000 to 150000 < 150000 to 160000]"
            ]
          },
          "metadata": {
            "tags": []
          },
          "execution_count": 22
        }
      ]
    },
    {
      "cell_type": "code",
      "metadata": {
        "id": "HVdMa_cAyYPA",
        "colab_type": "code",
        "colab": {
          "base_uri": "https://localhost:8080/",
          "height": 34
        },
        "outputId": "6a79bc17-f41c-4435-9a16-6cd188161cfd"
      },
      "source": [
        "accuracy_score(y_test,y_hat)"
      ],
      "execution_count": 23,
      "outputs": [
        {
          "output_type": "execute_result",
          "data": {
            "text/plain": [
              "0.6551724137931034"
            ]
          },
          "metadata": {
            "tags": []
          },
          "execution_count": 23
        }
      ]
    },
    {
      "cell_type": "markdown",
      "metadata": {
        "id": "-3speGyTyY7R",
        "colab_type": "text"
      },
      "source": [
        "###Identify optimal number of neighbours"
      ]
    },
    {
      "cell_type": "markdown",
      "metadata": {
        "id": "ao28VQCvycpS",
        "colab_type": "text"
      },
      "source": [
        "In order to identify the optimal number of neighbours for this model, we ran knn with a range if neighbours (1 to 100) and plotted the number of neighbours against the accuracy score."
      ]
    },
    {
      "cell_type": "code",
      "metadata": {
        "id": "h-f17lvxyday",
        "colab_type": "code",
        "colab": {}
      },
      "source": [
        "neighbors = range(1,100)\n",
        "error = []\n",
        "score = []\n",
        "for i in neighbors:\n",
        "    knn = KNeighborsClassifier(n_neighbors=i)\n",
        "    knn.fit(X_train, y_train)\n",
        "    y_hat = knn.predict(X_test)\n",
        "    score.append(accuracy_score(y_test, y_hat))"
      ],
      "execution_count": 0,
      "outputs": []
    },
    {
      "cell_type": "code",
      "metadata": {
        "id": "_-aqjB9Qyg_R",
        "colab_type": "code",
        "colab": {
          "base_uri": "https://localhost:8080/",
          "height": 408
        },
        "outputId": "cf8231ef-90ce-49b1-e35f-ec9fe3194f27"
      },
      "source": [
        "plt.figure(figsize=(20, 6))\n",
        "plt.plot(neighbors, score, color='red', linestyle='dashed', marker='o',\n",
        "         markerfacecolor='blue', markersize=10)\n",
        "plt.xlabel('K Value')\n",
        "plt.ylabel('Accuracy Score')"
      ],
      "execution_count": 25,
      "outputs": [
        {
          "output_type": "execute_result",
          "data": {
            "text/plain": [
              "Text(0, 0.5, 'Accuracy Score')"
            ]
          },
          "metadata": {
            "tags": []
          },
          "execution_count": 25
        },
        {
          "output_type": "display_data",
          "data": {
            "image/png": "[encoded data removed]",
            "text/plain": [
              "<Figure size 1440x432 with 1 Axes>"
            ]
          },
          "metadata": {
            "tags": []
          }
        }
      ]
    },
    {
      "cell_type": "markdown",
      "metadata": {
        "id": "LQawH_wpyi8e",
        "colab_type": "text"
      },
      "source": [
        "The optimal number of neighbors was 29 based on the plot, which gave an accuracy score of 79.3%."
      ]
    },
    {
      "cell_type": "code",
      "metadata": {
        "id": "_9KegVkRylol",
        "colab_type": "code",
        "colab": {
          "base_uri": "https://localhost:8080/",
          "height": 34
        },
        "outputId": "0837c796-6bb9-4bf9-9cbf-8d124cb97801"
      },
      "source": [
        "knn = KNeighborsClassifier(n_neighbors=29) #best score\n",
        "knn.fit(X_train, y_train)\n",
        "y_hat = knn.predict(X_test)\n",
        "score = accuracy_score(y_test, y_hat)\n",
        "score"
      ],
      "execution_count": 26,
      "outputs": [
        {
          "output_type": "execute_result",
          "data": {
            "text/plain": [
              "0.7931034482758621"
            ]
          },
          "metadata": {
            "tags": []
          },
          "execution_count": 26
        }
      ]
    },
    {
      "cell_type": "markdown",
      "metadata": {
        "id": "Ex_h5mhUypCk",
        "colab_type": "text"
      },
      "source": [
        "###Using the model to predict the ridership for a random day in our dataset"
      ]
    },
    {
      "cell_type": "markdown",
      "metadata": {
        "id": "oxG9gQX0yrGr",
        "colab_type": "text"
      },
      "source": [
        "In order to test the model, we will apply this model to predict the ridership on a random day in the dataset. We extracted one row from our dataset to use as X_train - 5th April, 2019. The actual ridership bin for the day has also been extracted to see if our prediction matches the actual."
      ]
    },
    {
      "cell_type": "code",
      "metadata": {
        "id": "f1AEZHY7yvkD",
        "colab_type": "code",
        "colab": {}
      },
      "source": [
        "X = X.loc[X[\"Date\"]==\"2019-04-05\"]"
      ],
      "execution_count": 0,
      "outputs": []
    },
    {
      "cell_type": "code",
      "metadata": {
        "id": "D6munjK2ywPj",
        "colab_type": "code",
        "colab": {
          "base_uri": "https://localhost:8080/",
          "height": 104
        },
        "outputId": "8bc9bc75-287c-4cd2-c1a3-73b79d95754f"
      },
      "source": [
        "X.drop('Date', axis=1, inplace=True)"
      ],
      "execution_count": 28,
      "outputs": [
        {
          "output_type": "stream",
          "text": [
            "/usr/local/lib/python3.6/dist-packages/pandas/core/frame.py:3997: SettingWithCopyWarning: \n",
            "A value is trying to be set on a copy of a slice from a DataFrame\n",
            "\n",
            "See the caveats in the documentation: https://pandas.pydata.org/pandas-docs/stable/user_guide/indexing.html#returning-a-view-versus-a-copy\n",
            "  errors=errors,\n"
          ],
          "name": "stderr"
        }
      ]
    },
    {
      "cell_type": "code",
      "metadata": {
        "id": "Xo2mIjgCyzbt",
        "colab_type": "code",
        "colab": {
          "base_uri": "https://localhost:8080/",
          "height": 81
        },
        "outputId": "c5526e40-1d33-41e1-dec0-d4b0e30a2333"
      },
      "source": [
        "y = knn_dataset.loc[knn_dataset[\"Date\"]==\"2019-04-05\"]\n",
        "y"
      ],
      "execution_count": 29,
      "outputs": [
        {
          "output_type": "execute_result",
          "data": {
            "text/html": [
              "<div>\n",
              "<style scoped>\n",
              "    .dataframe tbody tr th:only-of-type {\n",
              "        vertical-align: middle;\n",
              "    }\n",
              "\n",
              "    .dataframe tbody tr th {\n",
              "        vertical-align: top;\n",
              "    }\n",
              "\n",
              "    .dataframe thead th {\n",
              "        text-align: right;\n",
              "    }\n",
              "</style>\n",
              "<table border=\"1\" class=\"dataframe\">\n",
              "  <thead>\n",
              "    <tr style=\"text-align: right;\">\n",
              "      <th></th>\n",
              "      <th>Date</th>\n",
              "      <th>Month</th>\n",
              "      <th>Weekday</th>\n",
              "      <th>Delta Temp (°C)</th>\n",
              "      <th>Delta Precip (mm)</th>\n",
              "      <th>Union Station Ridership Ranges</th>\n",
              "    </tr>\n",
              "  </thead>\n",
              "  <tbody>\n",
              "    <tr>\n",
              "      <th>765</th>\n",
              "      <td>2019-04-05</td>\n",
              "      <td>4</td>\n",
              "      <td>6</td>\n",
              "      <td>-4.276667</td>\n",
              "      <td>-3.946667</td>\n",
              "      <td>90000 to 100000</td>\n",
              "    </tr>\n",
              "  </tbody>\n",
              "</table>\n",
              "</div>"
            ],
            "text/plain": [
              "           Date  Month  ...  Delta Precip (mm)  Union Station Ridership Ranges\n",
              "765  2019-04-05      4  ...          -3.946667                 90000 to 100000\n",
              "\n",
              "[1 rows x 6 columns]"
            ]
          },
          "metadata": {
            "tags": []
          },
          "execution_count": 29
        }
      ]
    },
    {
      "cell_type": "code",
      "metadata": {
        "id": "_CRkCPLuy1NJ",
        "colab_type": "code",
        "colab": {
          "base_uri": "https://localhost:8080/",
          "height": 34
        },
        "outputId": "7b8d1708-c097-496f-f15e-65258cd2e369"
      },
      "source": [
        "y_test = knn.predict(X)\n",
        "y_test"
      ],
      "execution_count": 30,
      "outputs": [
        {
          "output_type": "execute_result",
          "data": {
            "text/plain": [
              "array(['90000 to 100000'], dtype=object)"
            ]
          },
          "metadata": {
            "tags": []
          },
          "execution_count": 30
        }
      ]
    },
    {
      "cell_type": "markdown",
      "metadata": {
        "id": "6ZyJRpnwy3ir",
        "colab_type": "text"
      },
      "source": [
        "It looks like our predicted value for ridership (y_test = [90000 to 100000]) matches the actual value (y)."
      ]
    },
    {
      "cell_type": "markdown",
      "metadata": {
        "id": "gtWLjJxRy6_2",
        "colab_type": "text"
      },
      "source": [
        "## knn predict for Mondays"
      ]
    },
    {
      "cell_type": "markdown",
      "metadata": {
        "id": "nikHxepFy8OR",
        "colab_type": "text"
      },
      "source": [
        "A similar exercise was done for all Mondays in the dataset. We built a knn model to predict the ridership only for Mondays, given the same attributes and target class. "
      ]
    },
    {
      "cell_type": "code",
      "metadata": {
        "id": "6iTyDOjhy-Jw",
        "colab_type": "code",
        "colab": {
          "base_uri": "https://localhost:8080/",
          "height": 206
        },
        "outputId": "5bd1a80b-7a0f-45b8-f55f-fec4f760b495"
      },
      "source": [
        "knn_dataset = dataset[[\"Date\",\"Month\",\"Weekday\",\"Delta Temp (°C)\",\"Delta Precip (mm)\",\"Union Station Ridership Ranges\"]].copy()\n",
        "knn_dataset.head()"
      ],
      "execution_count": 31,
      "outputs": [
        {
          "output_type": "execute_result",
          "data": {
            "text/html": [
              "<div>\n",
              "<style scoped>\n",
              "    .dataframe tbody tr th:only-of-type {\n",
              "        vertical-align: middle;\n",
              "    }\n",
              "\n",
              "    .dataframe tbody tr th {\n",
              "        vertical-align: top;\n",
              "    }\n",
              "\n",
              "    .dataframe thead th {\n",
              "        text-align: right;\n",
              "    }\n",
              "</style>\n",
              "<table border=\"1\" class=\"dataframe\">\n",
              "  <thead>\n",
              "    <tr style=\"text-align: right;\">\n",
              "      <th></th>\n",
              "      <th>Date</th>\n",
              "      <th>Month</th>\n",
              "      <th>Weekday</th>\n",
              "      <th>Delta Temp (°C)</th>\n",
              "      <th>Delta Precip (mm)</th>\n",
              "      <th>Union Station Ridership Ranges</th>\n",
              "    </tr>\n",
              "  </thead>\n",
              "  <tbody>\n",
              "    <tr>\n",
              "      <th>0</th>\n",
              "      <td>2017-03-01</td>\n",
              "      <td>3</td>\n",
              "      <td>4</td>\n",
              "      <td>5.851613</td>\n",
              "      <td>16.064516</td>\n",
              "      <td>90000 to 100000</td>\n",
              "    </tr>\n",
              "    <tr>\n",
              "      <th>1</th>\n",
              "      <td>2017-03-02</td>\n",
              "      <td>3</td>\n",
              "      <td>5</td>\n",
              "      <td>-3.648387</td>\n",
              "      <td>-2.135484</td>\n",
              "      <td>90000 to 100000</td>\n",
              "    </tr>\n",
              "    <tr>\n",
              "      <th>2</th>\n",
              "      <td>2017-03-03</td>\n",
              "      <td>3</td>\n",
              "      <td>6</td>\n",
              "      <td>-5.948387</td>\n",
              "      <td>-2.335484</td>\n",
              "      <td>80000 to 90000</td>\n",
              "    </tr>\n",
              "    <tr>\n",
              "      <th>3</th>\n",
              "      <td>2017-03-04</td>\n",
              "      <td>3</td>\n",
              "      <td>7</td>\n",
              "      <td>-8.948387</td>\n",
              "      <td>-2.135484</td>\n",
              "      <td>10000 to 20000</td>\n",
              "    </tr>\n",
              "    <tr>\n",
              "      <th>4</th>\n",
              "      <td>2017-03-05</td>\n",
              "      <td>3</td>\n",
              "      <td>1</td>\n",
              "      <td>-5.248387</td>\n",
              "      <td>-2.335484</td>\n",
              "      <td>0 to 10000</td>\n",
              "    </tr>\n",
              "  </tbody>\n",
              "</table>\n",
              "</div>"
            ],
            "text/plain": [
              "         Date  Month  ...  Delta Precip (mm)  Union Station Ridership Ranges\n",
              "0  2017-03-01      3  ...          16.064516                 90000 to 100000\n",
              "1  2017-03-02      3  ...          -2.135484                 90000 to 100000\n",
              "2  2017-03-03      3  ...          -2.335484                  80000 to 90000\n",
              "3  2017-03-04      3  ...          -2.135484                  10000 to 20000\n",
              "4  2017-03-05      3  ...          -2.335484                      0 to 10000\n",
              "\n",
              "[5 rows x 6 columns]"
            ]
          },
          "metadata": {
            "tags": []
          },
          "execution_count": 31
        }
      ]
    },
    {
      "cell_type": "code",
      "metadata": {
        "id": "nCcCPj-SzBLG",
        "colab_type": "code",
        "colab": {
          "base_uri": "https://localhost:8080/",
          "height": 206
        },
        "outputId": "c81f7ee3-d14c-4f76-8ba3-72f5b783be31"
      },
      "source": [
        "knn_dataset_M = knn_dataset.loc[knn_dataset[\"Weekday\"]==1]\n",
        "knn_dataset_M.head()"
      ],
      "execution_count": 32,
      "outputs": [
        {
          "output_type": "execute_result",
          "data": {
            "text/html": [
              "<div>\n",
              "<style scoped>\n",
              "    .dataframe tbody tr th:only-of-type {\n",
              "        vertical-align: middle;\n",
              "    }\n",
              "\n",
              "    .dataframe tbody tr th {\n",
              "        vertical-align: top;\n",
              "    }\n",
              "\n",
              "    .dataframe thead th {\n",
              "        text-align: right;\n",
              "    }\n",
              "</style>\n",
              "<table border=\"1\" class=\"dataframe\">\n",
              "  <thead>\n",
              "    <tr style=\"text-align: right;\">\n",
              "      <th></th>\n",
              "      <th>Date</th>\n",
              "      <th>Month</th>\n",
              "      <th>Weekday</th>\n",
              "      <th>Delta Temp (°C)</th>\n",
              "      <th>Delta Precip (mm)</th>\n",
              "      <th>Union Station Ridership Ranges</th>\n",
              "    </tr>\n",
              "  </thead>\n",
              "  <tbody>\n",
              "    <tr>\n",
              "      <th>4</th>\n",
              "      <td>2017-03-05</td>\n",
              "      <td>3</td>\n",
              "      <td>1</td>\n",
              "      <td>-5.248387</td>\n",
              "      <td>-2.335484</td>\n",
              "      <td>0 to 10000</td>\n",
              "    </tr>\n",
              "    <tr>\n",
              "      <th>11</th>\n",
              "      <td>2017-03-12</td>\n",
              "      <td>3</td>\n",
              "      <td>1</td>\n",
              "      <td>-7.948387</td>\n",
              "      <td>-2.335484</td>\n",
              "      <td>0 to 10000</td>\n",
              "    </tr>\n",
              "    <tr>\n",
              "      <th>18</th>\n",
              "      <td>2017-03-19</td>\n",
              "      <td>3</td>\n",
              "      <td>1</td>\n",
              "      <td>3.651613</td>\n",
              "      <td>-2.335484</td>\n",
              "      <td>10000 to 20000</td>\n",
              "    </tr>\n",
              "    <tr>\n",
              "      <th>25</th>\n",
              "      <td>2017-03-26</td>\n",
              "      <td>3</td>\n",
              "      <td>1</td>\n",
              "      <td>4.151613</td>\n",
              "      <td>0.064516</td>\n",
              "      <td>0 to 10000</td>\n",
              "    </tr>\n",
              "    <tr>\n",
              "      <th>32</th>\n",
              "      <td>2017-04-02</td>\n",
              "      <td>4</td>\n",
              "      <td>1</td>\n",
              "      <td>0.963333</td>\n",
              "      <td>-3.586667</td>\n",
              "      <td>0 to 10000</td>\n",
              "    </tr>\n",
              "  </tbody>\n",
              "</table>\n",
              "</div>"
            ],
            "text/plain": [
              "          Date  Month  ...  Delta Precip (mm)  Union Station Ridership Ranges\n",
              "4   2017-03-05      3  ...          -2.335484                      0 to 10000\n",
              "11  2017-03-12      3  ...          -2.335484                      0 to 10000\n",
              "18  2017-03-19      3  ...          -2.335484                  10000 to 20000\n",
              "25  2017-03-26      3  ...           0.064516                      0 to 10000\n",
              "32  2017-04-02      4  ...          -3.586667                      0 to 10000\n",
              "\n",
              "[5 rows x 6 columns]"
            ]
          },
          "metadata": {
            "tags": []
          },
          "execution_count": 32
        }
      ]
    },
    {
      "cell_type": "code",
      "metadata": {
        "id": "MRJ73gIbzC5p",
        "colab_type": "code",
        "colab": {
          "base_uri": "https://localhost:8080/",
          "height": 347
        },
        "outputId": "7438ec5c-9035-432d-c036-934ef4ff5316"
      },
      "source": [
        "knn_dataset_M[\"Union Station Ridership Ranges\"] = knn_dataset_M[\"Union Station Ridership Ranges\"].astype('category')\n",
        "knn_dataset_M.info()"
      ],
      "execution_count": 33,
      "outputs": [
        {
          "output_type": "stream",
          "text": [
            "<class 'pandas.core.frame.DataFrame'>\n",
            "Int64Index: 143 entries, 4 to 1089\n",
            "Data columns (total 6 columns):\n",
            " #   Column                          Non-Null Count  Dtype   \n",
            "---  ------                          --------------  -----   \n",
            " 0   Date                            143 non-null    object  \n",
            " 1   Month                           143 non-null    int64   \n",
            " 2   Weekday                         143 non-null    int64   \n",
            " 3   Delta Temp (°C)                 143 non-null    float64 \n",
            " 4   Delta Precip (mm)               143 non-null    float64 \n",
            " 5   Union Station Ridership Ranges  143 non-null    category\n",
            "dtypes: category(1), float64(2), int64(2), object(1)\n",
            "memory usage: 7.6+ KB\n"
          ],
          "name": "stdout"
        },
        {
          "output_type": "stream",
          "text": [
            "/usr/local/lib/python3.6/dist-packages/ipykernel_launcher.py:1: SettingWithCopyWarning: \n",
            "A value is trying to be set on a copy of a slice from a DataFrame.\n",
            "Try using .loc[row_indexer,col_indexer] = value instead\n",
            "\n",
            "See the caveats in the documentation: https://pandas.pydata.org/pandas-docs/stable/user_guide/indexing.html#returning-a-view-versus-a-copy\n",
            "  \"\"\"Entry point for launching an IPython kernel.\n"
          ],
          "name": "stderr"
        }
      ]
    },
    {
      "cell_type": "code",
      "metadata": {
        "id": "pCbIYlD1zEpI",
        "colab_type": "code",
        "colab": {
          "base_uri": "https://localhost:8080/",
          "height": 34
        },
        "outputId": "02c06286-6750-4b5a-976f-838bd3b39cef"
      },
      "source": [
        "X = knn_dataset_M[[\"Month\",\"Weekday\",\"Delta Temp (°C)\",\"Delta Precip (mm)\"]]\n",
        "X.shape"
      ],
      "execution_count": 34,
      "outputs": [
        {
          "output_type": "execute_result",
          "data": {
            "text/plain": [
              "(143, 4)"
            ]
          },
          "metadata": {
            "tags": []
          },
          "execution_count": 34
        }
      ]
    },
    {
      "cell_type": "code",
      "metadata": {
        "id": "y5OJSkbvzG6R",
        "colab_type": "code",
        "colab": {
          "base_uri": "https://localhost:8080/",
          "height": 312
        },
        "outputId": "e2ed7a5f-05df-4320-c7b7-4a7817774b22"
      },
      "source": [
        "cols = ['Month', 'Weekday', 'Delta Temp (°C)', 'Delta Precip (mm)']\n",
        "for col in cols:\n",
        "   X[col] = X[col].apply(lambda x: float(x) if x == x else \"\")\n",
        "X.info()"
      ],
      "execution_count": 35,
      "outputs": [
        {
          "output_type": "stream",
          "text": [
            "<class 'pandas.core.frame.DataFrame'>\n",
            "Int64Index: 143 entries, 4 to 1089\n",
            "Data columns (total 4 columns):\n",
            " #   Column             Non-Null Count  Dtype  \n",
            "---  ------             --------------  -----  \n",
            " 0   Month              143 non-null    float64\n",
            " 1   Weekday            143 non-null    float64\n",
            " 2   Delta Temp (°C)    143 non-null    float64\n",
            " 3   Delta Precip (mm)  143 non-null    float64\n",
            "dtypes: float64(4)\n",
            "memory usage: 5.6 KB\n"
          ],
          "name": "stdout"
        },
        {
          "output_type": "stream",
          "text": [
            "/usr/local/lib/python3.6/dist-packages/ipykernel_launcher.py:3: SettingWithCopyWarning: \n",
            "A value is trying to be set on a copy of a slice from a DataFrame.\n",
            "Try using .loc[row_indexer,col_indexer] = value instead\n",
            "\n",
            "See the caveats in the documentation: https://pandas.pydata.org/pandas-docs/stable/user_guide/indexing.html#returning-a-view-versus-a-copy\n",
            "  This is separate from the ipykernel package so we can avoid doing imports until\n"
          ],
          "name": "stderr"
        }
      ]
    },
    {
      "cell_type": "code",
      "metadata": {
        "id": "t5P_zo6UzI-P",
        "colab_type": "code",
        "colab": {
          "base_uri": "https://localhost:8080/",
          "height": 34
        },
        "outputId": "0307666f-877a-47c5-f1bd-37774ce269e5"
      },
      "source": [
        "y = knn_dataset_M[\"Union Station Ridership Ranges\"]\n",
        "y.shape"
      ],
      "execution_count": 36,
      "outputs": [
        {
          "output_type": "execute_result",
          "data": {
            "text/plain": [
              "(143,)"
            ]
          },
          "metadata": {
            "tags": []
          },
          "execution_count": 36
        }
      ]
    },
    {
      "cell_type": "code",
      "metadata": {
        "id": "_9G-_2F_zKVd",
        "colab_type": "code",
        "colab": {
          "base_uri": "https://localhost:8080/",
          "height": 34
        },
        "outputId": "a0a8202b-9ff2-4c02-dd33-1c82eca9e281"
      },
      "source": [
        "from sklearn.model_selection import train_test_split\n",
        "X_train, X_test, y_train, y_test = train_test_split(X,y,test_size=0.2,random_state=20)\n",
        "X_train.shape"
      ],
      "execution_count": 37,
      "outputs": [
        {
          "output_type": "execute_result",
          "data": {
            "text/plain": [
              "(114, 4)"
            ]
          },
          "metadata": {
            "tags": []
          },
          "execution_count": 37
        }
      ]
    },
    {
      "cell_type": "code",
      "metadata": {
        "id": "oeJKi9XbzL4B",
        "colab_type": "code",
        "colab": {
          "base_uri": "https://localhost:8080/",
          "height": 191
        },
        "outputId": "d1596667-4c82-495c-a214-384423287687"
      },
      "source": [
        "knn.fit(X_train,y_train)\n",
        "y_hat = knn.predict(X_test)\n",
        "y_hat"
      ],
      "execution_count": 38,
      "outputs": [
        {
          "output_type": "execute_result",
          "data": {
            "text/plain": [
              "array(['10000 to 20000', '10000 to 20000', '10000 to 20000',\n",
              "       '10000 to 20000', '10000 to 20000', '10000 to 20000',\n",
              "       '10000 to 20000', '10000 to 20000', '10000 to 20000',\n",
              "       '10000 to 20000', '10000 to 20000', '10000 to 20000',\n",
              "       '10000 to 20000', '10000 to 20000', '10000 to 20000',\n",
              "       '10000 to 20000', '10000 to 20000', '10000 to 20000',\n",
              "       '10000 to 20000', '10000 to 20000', '10000 to 20000',\n",
              "       '10000 to 20000', '10000 to 20000', '10000 to 20000',\n",
              "       '10000 to 20000', '10000 to 20000', '10000 to 20000',\n",
              "       '10000 to 20000', '10000 to 20000'], dtype=object)"
            ]
          },
          "metadata": {
            "tags": []
          },
          "execution_count": 38
        }
      ]
    },
    {
      "cell_type": "code",
      "metadata": {
        "id": "GVA3ov2GzNyH",
        "colab_type": "code",
        "colab": {
          "base_uri": "https://localhost:8080/",
          "height": 573
        },
        "outputId": "ba040123-90eb-4c69-cb5f-8b39f1884bf5"
      },
      "source": [
        "y_test"
      ],
      "execution_count": 39,
      "outputs": [
        {
          "output_type": "execute_result",
          "data": {
            "text/plain": [
              "501     10000 to 20000\n",
              "361         0 to 10000\n",
              "851     10000 to 20000\n",
              "494     10000 to 20000\n",
              "746     10000 to 20000\n",
              "592         0 to 10000\n",
              "417         0 to 10000\n",
              "270         0 to 10000\n",
              "998     10000 to 20000\n",
              "977         0 to 10000\n",
              "676         0 to 10000\n",
              "662     10000 to 20000\n",
              "221     10000 to 20000\n",
              "368         0 to 10000\n",
              "424     10000 to 20000\n",
              "529     10000 to 20000\n",
              "263     10000 to 20000\n",
              "627     10000 to 20000\n",
              "144         0 to 10000\n",
              "4           0 to 10000\n",
              "284         0 to 10000\n",
              "81          0 to 10000\n",
              "515     10000 to 20000\n",
              "795         0 to 10000\n",
              "396     10000 to 20000\n",
              "711         0 to 10000\n",
              "11          0 to 10000\n",
              "1047        0 to 10000\n",
              "942     10000 to 20000\n",
              "Name: Union Station Ridership Ranges, dtype: category\n",
              "Categories (16, object): [0 to 10000 < 10000 to 20000 < 20000 to 30000 < 30000 to 40000 < ... <\n",
              "                          120000 to 130000 < 130000 to 140000 < 140000 to 150000 < 150000 to 160000]"
            ]
          },
          "metadata": {
            "tags": []
          },
          "execution_count": 39
        }
      ]
    },
    {
      "cell_type": "code",
      "metadata": {
        "id": "_EO9DCzazPqe",
        "colab_type": "code",
        "colab": {
          "base_uri": "https://localhost:8080/",
          "height": 34
        },
        "outputId": "4e08f836-13e7-4e1a-bc1c-ccb084cb60f3"
      },
      "source": [
        "accuracy_score(y_test,y_hat)"
      ],
      "execution_count": 40,
      "outputs": [
        {
          "output_type": "execute_result",
          "data": {
            "text/plain": [
              "0.4827586206896552"
            ]
          },
          "metadata": {
            "tags": []
          },
          "execution_count": 40
        }
      ]
    },
    {
      "cell_type": "code",
      "metadata": {
        "id": "JVpilHSAzRXH",
        "colab_type": "code",
        "colab": {
          "base_uri": "https://localhost:8080/",
          "height": 191
        },
        "outputId": "6a82255c-7521-48c0-87f9-5d6789866c53"
      },
      "source": [
        "neighbors = range(1,60)\n",
        "error = []\n",
        "score = []\n",
        "for i in neighbors:\n",
        "    knn = KNeighborsClassifier(n_neighbors=i)\n",
        "    knn.fit(X_train, y_train)\n",
        "    y_hat = knn.predict(X_test)\n",
        "    score.append(accuracy_score(y_test, y_hat))\n",
        "y_hat"
      ],
      "execution_count": 41,
      "outputs": [
        {
          "output_type": "execute_result",
          "data": {
            "text/plain": [
              "array(['10000 to 20000', '10000 to 20000', '10000 to 20000',\n",
              "       '10000 to 20000', '10000 to 20000', '10000 to 20000',\n",
              "       '10000 to 20000', '10000 to 20000', '10000 to 20000',\n",
              "       '10000 to 20000', '10000 to 20000', '10000 to 20000',\n",
              "       '10000 to 20000', '10000 to 20000', '10000 to 20000',\n",
              "       '10000 to 20000', '10000 to 20000', '10000 to 20000',\n",
              "       '10000 to 20000', '10000 to 20000', '10000 to 20000',\n",
              "       '10000 to 20000', '10000 to 20000', '10000 to 20000',\n",
              "       '10000 to 20000', '10000 to 20000', '10000 to 20000',\n",
              "       '10000 to 20000', '10000 to 20000'], dtype=object)"
            ]
          },
          "metadata": {
            "tags": []
          },
          "execution_count": 41
        }
      ]
    },
    {
      "cell_type": "code",
      "metadata": {
        "id": "G9aQGV9MzTMZ",
        "colab_type": "code",
        "colab": {
          "base_uri": "https://localhost:8080/",
          "height": 408
        },
        "outputId": "30fc58af-8e77-4701-c1fc-28cf97405615"
      },
      "source": [
        "plt.figure(figsize=(20, 6))\n",
        "plt.plot(neighbors, score, color='red', linestyle='dashed', marker='o',\n",
        "         markerfacecolor='blue', markersize=10)\n",
        "plt.xlabel('K Value')\n",
        "plt.ylabel('Accuracy Score')"
      ],
      "execution_count": 42,
      "outputs": [
        {
          "output_type": "execute_result",
          "data": {
            "text/plain": [
              "Text(0, 0.5, 'Accuracy Score')"
            ]
          },
          "metadata": {
            "tags": []
          },
          "execution_count": 42
        },
        {
          "output_type": "display_data",
          "data": {
            "image/png": "[encoded data removed]",
            "text/plain": [
              "<Figure size 1440x432 with 1 Axes>"
            ]
          },
          "metadata": {
            "tags": []
          }
        }
      ]
    },
    {
      "cell_type": "markdown",
      "metadata": {
        "id": "01l-80XPzVsI",
        "colab_type": "text"
      },
      "source": [
        "The optimal number of neighbors was 6 based on the plot, which gave an accuracy score of 62%."
      ]
    },
    {
      "cell_type": "code",
      "metadata": {
        "id": "1cmM8o8-zWKq",
        "colab_type": "code",
        "colab": {}
      },
      "source": [
        "knn = KNeighborsClassifier(n_neighbors=6) #best score\n",
        "knn.fit(X_train, y_train)\n",
        "y_hat = knn.predict(X_test)\n",
        "score = accuracy_score(y_test, y_hat)\n",
        "score"
      ],
      "execution_count": 0,
      "outputs": []
    },
    {
      "cell_type": "markdown",
      "metadata": {
        "id": "jlet9iGr1Kkf",
        "colab_type": "text"
      },
      "source": [
        "# Linear Regression with Weekdays - Part 1"
      ]
    },
    {
      "cell_type": "code",
      "metadata": {
        "id": "WkYs-fDvzfqT",
        "colab_type": "code",
        "colab": {}
      },
      "source": [
        "import pandas as pd  \n",
        "import numpy as np  \n",
        "import matplotlib.pyplot as plt  \n",
        "import seaborn as sns\n",
        "import sklearn\n",
        "from sklearn.model_selection import train_test_split \n",
        "from sklearn.linear_model import LinearRegression\n",
        "from sklearn.metrics import mean_squared_error\n",
        "from sklearn import metrics\n",
        "%matplotlib inline"
      ],
      "execution_count": 0,
      "outputs": []
    },
    {
      "cell_type": "code",
      "metadata": {
        "id": "z5qxclGkzmIB",
        "colab_type": "code",
        "colab": {}
      },
      "source": [
        "# Let's import the dataset\n",
        "\n",
        "url = 'https://raw.githubusercontent.com/Jenarth/SCS3250-Group-2-Final-Project/master/Final%20Dataset.csv'\n",
        "df = pd.read_csv(url, header = 0, sep =',',parse_dates=['Date'])"
      ],
      "execution_count": 0,
      "outputs": []
    },
    {
      "cell_type": "code",
      "metadata": {
        "id": "OWlVry5lzojI",
        "colab_type": "code",
        "outputId": "70396ed9-9604-4ff7-dcbe-aaa02e6fc876",
        "colab": {
          "base_uri": "https://localhost:8080/",
          "height": 360
        }
      },
      "source": [
        "df.head()"
      ],
      "execution_count": 0,
      "outputs": [
        {
          "output_type": "execute_result",
          "data": {
            "text/html": [
              "<div>\n",
              "<style scoped>\n",
              "    .dataframe tbody tr th:only-of-type {\n",
              "        vertical-align: middle;\n",
              "    }\n",
              "\n",
              "    .dataframe tbody tr th {\n",
              "        vertical-align: top;\n",
              "    }\n",
              "\n",
              "    .dataframe thead th {\n",
              "        text-align: right;\n",
              "    }\n",
              "</style>\n",
              "<table border=\"1\" class=\"dataframe\">\n",
              "  <thead>\n",
              "    <tr style=\"text-align: right;\">\n",
              "      <th></th>\n",
              "      <th>Date</th>\n",
              "      <th>Year</th>\n",
              "      <th>Month</th>\n",
              "      <th>year_month</th>\n",
              "      <th>Day</th>\n",
              "      <th>Weekday</th>\n",
              "      <th>Holiday</th>\n",
              "      <th>Max Temp (°C)</th>\n",
              "      <th>Min Temp (°C)</th>\n",
              "      <th>Mean Temp (°C)</th>\n",
              "      <th>Monthly Mean Temp (°C)</th>\n",
              "      <th>Delta Temp (°C)</th>\n",
              "      <th>Total Precip (mm)</th>\n",
              "      <th>Monthly Mean Precip (mm)</th>\n",
              "      <th>Delta Precip (mm)</th>\n",
              "      <th>Snow on Grnd (cm)</th>\n",
              "      <th>Barrie Ridership</th>\n",
              "      <th>Kitchener Ridership</th>\n",
              "      <th>Lakeshore East Ridership</th>\n",
              "      <th>Lakeshore West Ridership</th>\n",
              "      <th>Milton Ridership</th>\n",
              "      <th>Richmond Hill Ridership</th>\n",
              "      <th>Stouffville Ridership</th>\n",
              "      <th>Union Station Ridership</th>\n",
              "      <th>Total GO Ridership</th>\n",
              "      <th>Outlier</th>\n",
              "      <th>Overall Mean</th>\n",
              "      <th>2SD_above</th>\n",
              "      <th>2SD_below</th>\n",
              "    </tr>\n",
              "  </thead>\n",
              "  <tbody>\n",
              "    <tr>\n",
              "      <th>0</th>\n",
              "      <td>2017-03-01</td>\n",
              "      <td>2017</td>\n",
              "      <td>3</td>\n",
              "      <td>2017-03</td>\n",
              "      <td>1</td>\n",
              "      <td>Wednesday</td>\n",
              "      <td>False</td>\n",
              "      <td>13.1</td>\n",
              "      <td>-1.9</td>\n",
              "      <td>5.6</td>\n",
              "      <td>-0.251613</td>\n",
              "      <td>5.851613</td>\n",
              "      <td>18.4</td>\n",
              "      <td>2.335484</td>\n",
              "      <td>16.064516</td>\n",
              "      <td>0.0</td>\n",
              "      <td>10022</td>\n",
              "      <td>13585</td>\n",
              "      <td>25273</td>\n",
              "      <td>32909</td>\n",
              "      <td>15599</td>\n",
              "      <td>5639</td>\n",
              "      <td>8804</td>\n",
              "      <td>95802</td>\n",
              "      <td>207633</td>\n",
              "      <td>False</td>\n",
              "      <td>227296.503311</td>\n",
              "      <td>254365.810172</td>\n",
              "      <td>200227.196451</td>\n",
              "    </tr>\n",
              "    <tr>\n",
              "      <th>1</th>\n",
              "      <td>2017-03-02</td>\n",
              "      <td>2017</td>\n",
              "      <td>3</td>\n",
              "      <td>2017-03</td>\n",
              "      <td>2</td>\n",
              "      <td>Thursday</td>\n",
              "      <td>False</td>\n",
              "      <td>-1.3</td>\n",
              "      <td>-6.4</td>\n",
              "      <td>-3.9</td>\n",
              "      <td>-0.251613</td>\n",
              "      <td>-3.648387</td>\n",
              "      <td>0.2</td>\n",
              "      <td>2.335484</td>\n",
              "      <td>-2.135484</td>\n",
              "      <td>0.5</td>\n",
              "      <td>9932</td>\n",
              "      <td>13331</td>\n",
              "      <td>26120</td>\n",
              "      <td>33884</td>\n",
              "      <td>15653</td>\n",
              "      <td>5665</td>\n",
              "      <td>8736</td>\n",
              "      <td>95873</td>\n",
              "      <td>209194</td>\n",
              "      <td>False</td>\n",
              "      <td>224966.615894</td>\n",
              "      <td>253295.696280</td>\n",
              "      <td>196637.535508</td>\n",
              "    </tr>\n",
              "    <tr>\n",
              "      <th>2</th>\n",
              "      <td>2017-03-03</td>\n",
              "      <td>2017</td>\n",
              "      <td>3</td>\n",
              "      <td>2017-03</td>\n",
              "      <td>3</td>\n",
              "      <td>Friday</td>\n",
              "      <td>False</td>\n",
              "      <td>-4.3</td>\n",
              "      <td>-8.1</td>\n",
              "      <td>-6.2</td>\n",
              "      <td>-0.251613</td>\n",
              "      <td>-5.948387</td>\n",
              "      <td>0.0</td>\n",
              "      <td>2.335484</td>\n",
              "      <td>-2.335484</td>\n",
              "      <td>0.5</td>\n",
              "      <td>8905</td>\n",
              "      <td>12235</td>\n",
              "      <td>23801</td>\n",
              "      <td>31473</td>\n",
              "      <td>14092</td>\n",
              "      <td>5129</td>\n",
              "      <td>7918</td>\n",
              "      <td>87200</td>\n",
              "      <td>190753</td>\n",
              "      <td>False</td>\n",
              "      <td>204211.905405</td>\n",
              "      <td>232457.905320</td>\n",
              "      <td>175965.905490</td>\n",
              "    </tr>\n",
              "    <tr>\n",
              "      <th>3</th>\n",
              "      <td>2017-03-04</td>\n",
              "      <td>2017</td>\n",
              "      <td>3</td>\n",
              "      <td>2017-03</td>\n",
              "      <td>4</td>\n",
              "      <td>Saturday</td>\n",
              "      <td>False</td>\n",
              "      <td>-6.5</td>\n",
              "      <td>-11.9</td>\n",
              "      <td>-9.2</td>\n",
              "      <td>-0.251613</td>\n",
              "      <td>-8.948387</td>\n",
              "      <td>0.2</td>\n",
              "      <td>2.335484</td>\n",
              "      <td>-2.135484</td>\n",
              "      <td>0.5</td>\n",
              "      <td>928</td>\n",
              "      <td>480</td>\n",
              "      <td>7872</td>\n",
              "      <td>11756</td>\n",
              "      <td>208</td>\n",
              "      <td>0</td>\n",
              "      <td>246</td>\n",
              "      <td>13899</td>\n",
              "      <td>35389</td>\n",
              "      <td>False</td>\n",
              "      <td>45352.333333</td>\n",
              "      <td>73886.656469</td>\n",
              "      <td>16818.010198</td>\n",
              "    </tr>\n",
              "    <tr>\n",
              "      <th>4</th>\n",
              "      <td>2017-03-05</td>\n",
              "      <td>2017</td>\n",
              "      <td>3</td>\n",
              "      <td>2017-03</td>\n",
              "      <td>5</td>\n",
              "      <td>Sunday</td>\n",
              "      <td>False</td>\n",
              "      <td>-0.4</td>\n",
              "      <td>-10.6</td>\n",
              "      <td>-5.5</td>\n",
              "      <td>-0.251613</td>\n",
              "      <td>-5.248387</td>\n",
              "      <td>0.0</td>\n",
              "      <td>2.335484</td>\n",
              "      <td>-2.335484</td>\n",
              "      <td>0.5</td>\n",
              "      <td>803</td>\n",
              "      <td>398</td>\n",
              "      <td>4714</td>\n",
              "      <td>8381</td>\n",
              "      <td>169</td>\n",
              "      <td>0</td>\n",
              "      <td>156</td>\n",
              "      <td>8505</td>\n",
              "      <td>23126</td>\n",
              "      <td>False</td>\n",
              "      <td>32455.370861</td>\n",
              "      <td>53039.519234</td>\n",
              "      <td>11871.222488</td>\n",
              "    </tr>\n",
              "  </tbody>\n",
              "</table>\n",
              "</div>"
            ],
            "text/plain": [
              "        Date  Year  Month  ...   Overall Mean      2SD_above      2SD_below\n",
              "0 2017-03-01  2017      3  ...  227296.503311  254365.810172  200227.196451\n",
              "1 2017-03-02  2017      3  ...  224966.615894  253295.696280  196637.535508\n",
              "2 2017-03-03  2017      3  ...  204211.905405  232457.905320  175965.905490\n",
              "3 2017-03-04  2017      3  ...   45352.333333   73886.656469   16818.010198\n",
              "4 2017-03-05  2017      3  ...   32455.370861   53039.519234   11871.222488\n",
              "\n",
              "[5 rows x 29 columns]"
            ]
          },
          "metadata": {
            "tags": []
          },
          "execution_count": 326
        }
      ]
    },
    {
      "cell_type": "code",
      "metadata": {
        "id": "MGm5RlhJzqdP",
        "colab_type": "code",
        "outputId": "a863c795-d168-4ebe-9f03-3b8681969f44",
        "colab": {
          "base_uri": "https://localhost:8080/",
          "height": 360
        }
      },
      "source": [
        "# Convert weekdays into integers\n",
        "\n",
        "weekday = {'Monday':1 , 'Tuesday':2 , 'Wednesday':3, 'Thursday':4, 'Friday':5, 'Saturday':6, 'Sunday':7}\n",
        "df.Weekday = [weekday[item] for item in df.Weekday]\n",
        "df.head()"
      ],
      "execution_count": 0,
      "outputs": [
        {
          "output_type": "execute_result",
          "data": {
            "text/html": [
              "<div>\n",
              "<style scoped>\n",
              "    .dataframe tbody tr th:only-of-type {\n",
              "        vertical-align: middle;\n",
              "    }\n",
              "\n",
              "    .dataframe tbody tr th {\n",
              "        vertical-align: top;\n",
              "    }\n",
              "\n",
              "    .dataframe thead th {\n",
              "        text-align: right;\n",
              "    }\n",
              "</style>\n",
              "<table border=\"1\" class=\"dataframe\">\n",
              "  <thead>\n",
              "    <tr style=\"text-align: right;\">\n",
              "      <th></th>\n",
              "      <th>Date</th>\n",
              "      <th>Year</th>\n",
              "      <th>Month</th>\n",
              "      <th>year_month</th>\n",
              "      <th>Day</th>\n",
              "      <th>Weekday</th>\n",
              "      <th>Holiday</th>\n",
              "      <th>Max Temp (°C)</th>\n",
              "      <th>Min Temp (°C)</th>\n",
              "      <th>Mean Temp (°C)</th>\n",
              "      <th>Monthly Mean Temp (°C)</th>\n",
              "      <th>Delta Temp (°C)</th>\n",
              "      <th>Total Precip (mm)</th>\n",
              "      <th>Monthly Mean Precip (mm)</th>\n",
              "      <th>Delta Precip (mm)</th>\n",
              "      <th>Snow on Grnd (cm)</th>\n",
              "      <th>Barrie Ridership</th>\n",
              "      <th>Kitchener Ridership</th>\n",
              "      <th>Lakeshore East Ridership</th>\n",
              "      <th>Lakeshore West Ridership</th>\n",
              "      <th>Milton Ridership</th>\n",
              "      <th>Richmond Hill Ridership</th>\n",
              "      <th>Stouffville Ridership</th>\n",
              "      <th>Union Station Ridership</th>\n",
              "      <th>Total GO Ridership</th>\n",
              "      <th>Outlier</th>\n",
              "      <th>Overall Mean</th>\n",
              "      <th>2SD_above</th>\n",
              "      <th>2SD_below</th>\n",
              "    </tr>\n",
              "  </thead>\n",
              "  <tbody>\n",
              "    <tr>\n",
              "      <th>0</th>\n",
              "      <td>2017-03-01</td>\n",
              "      <td>2017</td>\n",
              "      <td>3</td>\n",
              "      <td>2017-03</td>\n",
              "      <td>1</td>\n",
              "      <td>3</td>\n",
              "      <td>False</td>\n",
              "      <td>13.1</td>\n",
              "      <td>-1.9</td>\n",
              "      <td>5.6</td>\n",
              "      <td>-0.251613</td>\n",
              "      <td>5.851613</td>\n",
              "      <td>18.4</td>\n",
              "      <td>2.335484</td>\n",
              "      <td>16.064516</td>\n",
              "      <td>0.0</td>\n",
              "      <td>10022</td>\n",
              "      <td>13585</td>\n",
              "      <td>25273</td>\n",
              "      <td>32909</td>\n",
              "      <td>15599</td>\n",
              "      <td>5639</td>\n",
              "      <td>8804</td>\n",
              "      <td>95802</td>\n",
              "      <td>207633</td>\n",
              "      <td>False</td>\n",
              "      <td>227296.503311</td>\n",
              "      <td>254365.810172</td>\n",
              "      <td>200227.196451</td>\n",
              "    </tr>\n",
              "    <tr>\n",
              "      <th>1</th>\n",
              "      <td>2017-03-02</td>\n",
              "      <td>2017</td>\n",
              "      <td>3</td>\n",
              "      <td>2017-03</td>\n",
              "      <td>2</td>\n",
              "      <td>4</td>\n",
              "      <td>False</td>\n",
              "      <td>-1.3</td>\n",
              "      <td>-6.4</td>\n",
              "      <td>-3.9</td>\n",
              "      <td>-0.251613</td>\n",
              "      <td>-3.648387</td>\n",
              "      <td>0.2</td>\n",
              "      <td>2.335484</td>\n",
              "      <td>-2.135484</td>\n",
              "      <td>0.5</td>\n",
              "      <td>9932</td>\n",
              "      <td>13331</td>\n",
              "      <td>26120</td>\n",
              "      <td>33884</td>\n",
              "      <td>15653</td>\n",
              "      <td>5665</td>\n",
              "      <td>8736</td>\n",
              "      <td>95873</td>\n",
              "      <td>209194</td>\n",
              "      <td>False</td>\n",
              "      <td>224966.615894</td>\n",
              "      <td>253295.696280</td>\n",
              "      <td>196637.535508</td>\n",
              "    </tr>\n",
              "    <tr>\n",
              "      <th>2</th>\n",
              "      <td>2017-03-03</td>\n",
              "      <td>2017</td>\n",
              "      <td>3</td>\n",
              "      <td>2017-03</td>\n",
              "      <td>3</td>\n",
              "      <td>5</td>\n",
              "      <td>False</td>\n",
              "      <td>-4.3</td>\n",
              "      <td>-8.1</td>\n",
              "      <td>-6.2</td>\n",
              "      <td>-0.251613</td>\n",
              "      <td>-5.948387</td>\n",
              "      <td>0.0</td>\n",
              "      <td>2.335484</td>\n",
              "      <td>-2.335484</td>\n",
              "      <td>0.5</td>\n",
              "      <td>8905</td>\n",
              "      <td>12235</td>\n",
              "      <td>23801</td>\n",
              "      <td>31473</td>\n",
              "      <td>14092</td>\n",
              "      <td>5129</td>\n",
              "      <td>7918</td>\n",
              "      <td>87200</td>\n",
              "      <td>190753</td>\n",
              "      <td>False</td>\n",
              "      <td>204211.905405</td>\n",
              "      <td>232457.905320</td>\n",
              "      <td>175965.905490</td>\n",
              "    </tr>\n",
              "    <tr>\n",
              "      <th>3</th>\n",
              "      <td>2017-03-04</td>\n",
              "      <td>2017</td>\n",
              "      <td>3</td>\n",
              "      <td>2017-03</td>\n",
              "      <td>4</td>\n",
              "      <td>6</td>\n",
              "      <td>False</td>\n",
              "      <td>-6.5</td>\n",
              "      <td>-11.9</td>\n",
              "      <td>-9.2</td>\n",
              "      <td>-0.251613</td>\n",
              "      <td>-8.948387</td>\n",
              "      <td>0.2</td>\n",
              "      <td>2.335484</td>\n",
              "      <td>-2.135484</td>\n",
              "      <td>0.5</td>\n",
              "      <td>928</td>\n",
              "      <td>480</td>\n",
              "      <td>7872</td>\n",
              "      <td>11756</td>\n",
              "      <td>208</td>\n",
              "      <td>0</td>\n",
              "      <td>246</td>\n",
              "      <td>13899</td>\n",
              "      <td>35389</td>\n",
              "      <td>False</td>\n",
              "      <td>45352.333333</td>\n",
              "      <td>73886.656469</td>\n",
              "      <td>16818.010198</td>\n",
              "    </tr>\n",
              "    <tr>\n",
              "      <th>4</th>\n",
              "      <td>2017-03-05</td>\n",
              "      <td>2017</td>\n",
              "      <td>3</td>\n",
              "      <td>2017-03</td>\n",
              "      <td>5</td>\n",
              "      <td>7</td>\n",
              "      <td>False</td>\n",
              "      <td>-0.4</td>\n",
              "      <td>-10.6</td>\n",
              "      <td>-5.5</td>\n",
              "      <td>-0.251613</td>\n",
              "      <td>-5.248387</td>\n",
              "      <td>0.0</td>\n",
              "      <td>2.335484</td>\n",
              "      <td>-2.335484</td>\n",
              "      <td>0.5</td>\n",
              "      <td>803</td>\n",
              "      <td>398</td>\n",
              "      <td>4714</td>\n",
              "      <td>8381</td>\n",
              "      <td>169</td>\n",
              "      <td>0</td>\n",
              "      <td>156</td>\n",
              "      <td>8505</td>\n",
              "      <td>23126</td>\n",
              "      <td>False</td>\n",
              "      <td>32455.370861</td>\n",
              "      <td>53039.519234</td>\n",
              "      <td>11871.222488</td>\n",
              "    </tr>\n",
              "  </tbody>\n",
              "</table>\n",
              "</div>"
            ],
            "text/plain": [
              "        Date  Year  Month  ...   Overall Mean      2SD_above      2SD_below\n",
              "0 2017-03-01  2017      3  ...  227296.503311  254365.810172  200227.196451\n",
              "1 2017-03-02  2017      3  ...  224966.615894  253295.696280  196637.535508\n",
              "2 2017-03-03  2017      3  ...  204211.905405  232457.905320  175965.905490\n",
              "3 2017-03-04  2017      3  ...   45352.333333   73886.656469   16818.010198\n",
              "4 2017-03-05  2017      3  ...   32455.370861   53039.519234   11871.222488\n",
              "\n",
              "[5 rows x 29 columns]"
            ]
          },
          "metadata": {
            "tags": []
          },
          "execution_count": 327
        }
      ]
    },
    {
      "cell_type": "code",
      "metadata": {
        "id": "wJei_xEAzuf1",
        "colab_type": "code",
        "outputId": "d6da4484-f0d4-432a-932f-f2d3e54c7fb5",
        "colab": {
          "base_uri": "https://localhost:8080/",
          "height": 216
        }
      },
      "source": [
        "# Let's create a new dataset to only select the month of January\n",
        "\n",
        "jan_df = df[(df.Month == 1)& (df.Year != 2017)]\n",
        "jan_df.head(2)"
      ],
      "execution_count": 0,
      "outputs": [
        {
          "output_type": "execute_result",
          "data": {
            "text/html": [
              "<div>\n",
              "<style scoped>\n",
              "    .dataframe tbody tr th:only-of-type {\n",
              "        vertical-align: middle;\n",
              "    }\n",
              "\n",
              "    .dataframe tbody tr th {\n",
              "        vertical-align: top;\n",
              "    }\n",
              "\n",
              "    .dataframe thead th {\n",
              "        text-align: right;\n",
              "    }\n",
              "</style>\n",
              "<table border=\"1\" class=\"dataframe\">\n",
              "  <thead>\n",
              "    <tr style=\"text-align: right;\">\n",
              "      <th></th>\n",
              "      <th>Date</th>\n",
              "      <th>Year</th>\n",
              "      <th>Month</th>\n",
              "      <th>year_month</th>\n",
              "      <th>Day</th>\n",
              "      <th>Weekday</th>\n",
              "      <th>Holiday</th>\n",
              "      <th>Max Temp (°C)</th>\n",
              "      <th>Min Temp (°C)</th>\n",
              "      <th>Mean Temp (°C)</th>\n",
              "      <th>Monthly Mean Temp (°C)</th>\n",
              "      <th>Delta Temp (°C)</th>\n",
              "      <th>Total Precip (mm)</th>\n",
              "      <th>Monthly Mean Precip (mm)</th>\n",
              "      <th>Delta Precip (mm)</th>\n",
              "      <th>Snow on Grnd (cm)</th>\n",
              "      <th>Barrie Ridership</th>\n",
              "      <th>Kitchener Ridership</th>\n",
              "      <th>Lakeshore East Ridership</th>\n",
              "      <th>Lakeshore West Ridership</th>\n",
              "      <th>Milton Ridership</th>\n",
              "      <th>Richmond Hill Ridership</th>\n",
              "      <th>Stouffville Ridership</th>\n",
              "      <th>Union Station Ridership</th>\n",
              "      <th>Total GO Ridership</th>\n",
              "      <th>Outlier</th>\n",
              "      <th>Overall Mean</th>\n",
              "      <th>2SD_above</th>\n",
              "      <th>2SD_below</th>\n",
              "    </tr>\n",
              "  </thead>\n",
              "  <tbody>\n",
              "    <tr>\n",
              "      <th>306</th>\n",
              "      <td>2018-01-01</td>\n",
              "      <td>2018</td>\n",
              "      <td>1</td>\n",
              "      <td>2018-01</td>\n",
              "      <td>1</td>\n",
              "      <td>1</td>\n",
              "      <td>True</td>\n",
              "      <td>-7.9</td>\n",
              "      <td>-18.6</td>\n",
              "      <td>-13.3</td>\n",
              "      <td>-4.383871</td>\n",
              "      <td>-8.916129</td>\n",
              "      <td>0.2</td>\n",
              "      <td>1.929032</td>\n",
              "      <td>-1.729032</td>\n",
              "      <td>0.0</td>\n",
              "      <td>857</td>\n",
              "      <td>366</td>\n",
              "      <td>3844</td>\n",
              "      <td>6347</td>\n",
              "      <td>96</td>\n",
              "      <td>0</td>\n",
              "      <td>131</td>\n",
              "      <td>8728</td>\n",
              "      <td>20369</td>\n",
              "      <td>True</td>\n",
              "      <td>NaN</td>\n",
              "      <td>NaN</td>\n",
              "      <td>NaN</td>\n",
              "    </tr>\n",
              "    <tr>\n",
              "      <th>307</th>\n",
              "      <td>2018-01-02</td>\n",
              "      <td>2018</td>\n",
              "      <td>1</td>\n",
              "      <td>2018-01</td>\n",
              "      <td>2</td>\n",
              "      <td>2</td>\n",
              "      <td>False</td>\n",
              "      <td>-7.1</td>\n",
              "      <td>-12.5</td>\n",
              "      <td>-9.8</td>\n",
              "      <td>-4.383871</td>\n",
              "      <td>-5.416129</td>\n",
              "      <td>0.0</td>\n",
              "      <td>1.929032</td>\n",
              "      <td>-1.929032</td>\n",
              "      <td>0.0</td>\n",
              "      <td>7706</td>\n",
              "      <td>10584</td>\n",
              "      <td>20084</td>\n",
              "      <td>25182</td>\n",
              "      <td>12040</td>\n",
              "      <td>4359</td>\n",
              "      <td>6969</td>\n",
              "      <td>74432</td>\n",
              "      <td>161356</td>\n",
              "      <td>True</td>\n",
              "      <td>NaN</td>\n",
              "      <td>NaN</td>\n",
              "      <td>NaN</td>\n",
              "    </tr>\n",
              "  </tbody>\n",
              "</table>\n",
              "</div>"
            ],
            "text/plain": [
              "          Date  Year  Month  ... Overall Mean  2SD_above  2SD_below\n",
              "306 2018-01-01  2018      1  ...          NaN        NaN        NaN\n",
              "307 2018-01-02  2018      1  ...          NaN        NaN        NaN\n",
              "\n",
              "[2 rows x 29 columns]"
            ]
          },
          "metadata": {
            "tags": []
          },
          "execution_count": 328
        }
      ]
    },
    {
      "cell_type": "markdown",
      "metadata": {
        "id": "A-anpixxzysA",
        "colab_type": "text"
      },
      "source": [
        "Let's plot our data points on a graph to eyeball our dataset. We will take a look specifically at Union Station, a central station in Toronto."
      ]
    },
    {
      "cell_type": "code",
      "metadata": {
        "id": "ULBzIxu5zvCx",
        "colab_type": "code",
        "outputId": "46830952-b04e-44fe-ccfd-351fa51c443d",
        "colab": {
          "base_uri": "https://localhost:8080/",
          "height": 386
        }
      },
      "source": [
        "sns.relplot(x='Weekday',y='Union Station Ridership', data=jan_df,hue='Year',palette='Paired')"
      ],
      "execution_count": 0,
      "outputs": [
        {
          "output_type": "execute_result",
          "data": {
            "text/plain": [
              "<seaborn.axisgrid.FacetGrid at 0x7f5fcf2b2fd0>"
            ]
          },
          "metadata": {
            "tags": []
          },
          "execution_count": 329
        },
        {
          "output_type": "display_data",
          "data": {
            "image/png": "[encoded data removed]",
            "text/plain": [
              "<Figure size 421.375x360 with 1 Axes>"
            ]
          },
          "metadata": {
            "tags": [],
            "needs_background": "light"
          }
        }
      ]
    },
    {
      "cell_type": "markdown",
      "metadata": {
        "id": "MOjYdeAs0fNj",
        "colab_type": "text"
      },
      "source": [
        "We notice one outliner by year where there is very little Riderships: the 1st of January.\n",
        "\n",
        "Let's check our average Riderships for Union Station."
      ]
    },
    {
      "cell_type": "code",
      "metadata": {
        "id": "taDGUOA60hEa",
        "colab_type": "code",
        "outputId": "2ab3fe4e-c5a7-4a32-ca9c-5c33ad322f99",
        "colab": {
          "base_uri": "https://localhost:8080/",
          "height": 253
        }
      },
      "source": [
        "plt.figure(figsize=(5,3))\n",
        "plt.tight_layout()\n",
        "sns.distplot(jan_df['Union Station Ridership'])"
      ],
      "execution_count": 0,
      "outputs": [
        {
          "output_type": "execute_result",
          "data": {
            "text/plain": [
              "<matplotlib.axes._subplots.AxesSubplot at 0x7f5fcf4f6940>"
            ]
          },
          "metadata": {
            "tags": []
          },
          "execution_count": 330
        },
        {
          "output_type": "display_data",
          "data": {
            "image/png": "[encoded data removed]",
            "text/plain": [
              "<Figure size 360x216 with 1 Axes>"
            ]
          },
          "metadata": {
            "tags": [],
            "needs_background": "light"
          }
        }
      ]
    },
    {
      "cell_type": "code",
      "metadata": {
        "id": "TEDauRdx0kvS",
        "colab_type": "code",
        "colab": {}
      },
      "source": [
        "# Now let's divide the data into attributes ('Weekday') and labels ('Union Station Riderships').\n",
        "\n",
        "X=jan_df['Weekday'].values.reshape(-1,1)\n",
        "y=jan_df['Union Station Ridership'].values.reshape(-1,1)"
      ],
      "execution_count": 0,
      "outputs": []
    },
    {
      "cell_type": "code",
      "metadata": {
        "id": "bGGw6sSt0m44",
        "colab_type": "code",
        "colab": {}
      },
      "source": [
        "#Split the data to 20% of the data to test set.\n",
        "\n",
        "X_train, X_test, y_train, y_test = train_test_split(X, y, test_size=0.2, random_state=0)"
      ],
      "execution_count": 0,
      "outputs": []
    },
    {
      "cell_type": "code",
      "metadata": {
        "id": "m88xJZKO0nWi",
        "colab_type": "code",
        "outputId": "af9847eb-7c36-475c-b22e-7eed500af8d7",
        "colab": {
          "base_uri": "https://localhost:8080/",
          "height": 34
        }
      },
      "source": [
        "# Train the algorithm\n",
        "\n",
        "regressor = LinearRegression()  \n",
        "regressor.fit(X_train, y_train) #training the algorithm"
      ],
      "execution_count": 0,
      "outputs": [
        {
          "output_type": "execute_result",
          "data": {
            "text/plain": [
              "LinearRegression(copy_X=True, fit_intercept=True, n_jobs=None, normalize=False)"
            ]
          },
          "metadata": {
            "tags": []
          },
          "execution_count": 333
        }
      ]
    },
    {
      "cell_type": "code",
      "metadata": {
        "id": "LU5BRGt30qxy",
        "colab_type": "code",
        "outputId": "6f7e935d-86b6-4763-c7a6-662d5117f083",
        "colab": {
          "base_uri": "https://localhost:8080/",
          "height": 51
        }
      },
      "source": [
        "#To retrieve the intercept:\n",
        "print(regressor.intercept_)\n",
        "\n",
        "#For retrieving the slope:\n",
        "print(regressor.coef_)"
      ],
      "execution_count": 0,
      "outputs": [
        {
          "output_type": "stream",
          "text": [
            "[133086.70290928]\n",
            "[[-15336.91472794]]\n"
          ],
          "name": "stdout"
        }
      ]
    },
    {
      "cell_type": "code",
      "metadata": {
        "id": "J3PC9lLe0sMH",
        "colab_type": "code",
        "colab": {}
      },
      "source": [
        "y_pred = regressor.predict(X_test)"
      ],
      "execution_count": 0,
      "outputs": []
    },
    {
      "cell_type": "code",
      "metadata": {
        "id": "A9aA66uK0tAU",
        "colab_type": "code",
        "outputId": "0f4bba10-fb51-462b-819d-aedff2cbfc7e",
        "colab": {
          "base_uri": "https://localhost:8080/",
          "height": 638
        }
      },
      "source": [
        "# Let's use our test data and see how accurately our algorithm predicts the percentage score.\n",
        "\n",
        "df = pd.DataFrame({'Actual': y_test.flatten(), 'Predicted': y_pred.flatten()}).round()\n",
        "df"
      ],
      "execution_count": 0,
      "outputs": [
        {
          "output_type": "execute_result",
          "data": {
            "text/html": [
              "<div>\n",
              "<style scoped>\n",
              "    .dataframe tbody tr th:only-of-type {\n",
              "        vertical-align: middle;\n",
              "    }\n",
              "\n",
              "    .dataframe tbody tr th {\n",
              "        vertical-align: top;\n",
              "    }\n",
              "\n",
              "    .dataframe thead th {\n",
              "        text-align: right;\n",
              "    }\n",
              "</style>\n",
              "<table border=\"1\" class=\"dataframe\">\n",
              "  <thead>\n",
              "    <tr style=\"text-align: right;\">\n",
              "      <th></th>\n",
              "      <th>Actual</th>\n",
              "      <th>Predicted</th>\n",
              "    </tr>\n",
              "  </thead>\n",
              "  <tbody>\n",
              "    <tr>\n",
              "      <th>0</th>\n",
              "      <td>81222</td>\n",
              "      <td>87076.0</td>\n",
              "    </tr>\n",
              "    <tr>\n",
              "      <th>1</th>\n",
              "      <td>104331</td>\n",
              "      <td>87076.0</td>\n",
              "    </tr>\n",
              "    <tr>\n",
              "      <th>2</th>\n",
              "      <td>96768</td>\n",
              "      <td>56402.0</td>\n",
              "    </tr>\n",
              "    <tr>\n",
              "      <th>3</th>\n",
              "      <td>101709</td>\n",
              "      <td>87076.0</td>\n",
              "    </tr>\n",
              "    <tr>\n",
              "      <th>4</th>\n",
              "      <td>9598</td>\n",
              "      <td>25728.0</td>\n",
              "    </tr>\n",
              "    <tr>\n",
              "      <th>5</th>\n",
              "      <td>92037</td>\n",
              "      <td>117750.0</td>\n",
              "    </tr>\n",
              "    <tr>\n",
              "      <th>6</th>\n",
              "      <td>99938</td>\n",
              "      <td>71739.0</td>\n",
              "    </tr>\n",
              "    <tr>\n",
              "      <th>7</th>\n",
              "      <td>109227</td>\n",
              "      <td>102413.0</td>\n",
              "    </tr>\n",
              "    <tr>\n",
              "      <th>8</th>\n",
              "      <td>84255</td>\n",
              "      <td>71739.0</td>\n",
              "    </tr>\n",
              "    <tr>\n",
              "      <th>9</th>\n",
              "      <td>112993</td>\n",
              "      <td>71739.0</td>\n",
              "    </tr>\n",
              "    <tr>\n",
              "      <th>10</th>\n",
              "      <td>95617</td>\n",
              "      <td>56402.0</td>\n",
              "    </tr>\n",
              "    <tr>\n",
              "      <th>11</th>\n",
              "      <td>96720</td>\n",
              "      <td>117750.0</td>\n",
              "    </tr>\n",
              "    <tr>\n",
              "      <th>12</th>\n",
              "      <td>12188</td>\n",
              "      <td>41065.0</td>\n",
              "    </tr>\n",
              "    <tr>\n",
              "      <th>13</th>\n",
              "      <td>7558</td>\n",
              "      <td>25728.0</td>\n",
              "    </tr>\n",
              "    <tr>\n",
              "      <th>14</th>\n",
              "      <td>6803</td>\n",
              "      <td>25728.0</td>\n",
              "    </tr>\n",
              "    <tr>\n",
              "      <th>15</th>\n",
              "      <td>69857</td>\n",
              "      <td>102413.0</td>\n",
              "    </tr>\n",
              "    <tr>\n",
              "      <th>16</th>\n",
              "      <td>101278</td>\n",
              "      <td>102413.0</td>\n",
              "    </tr>\n",
              "    <tr>\n",
              "      <th>17</th>\n",
              "      <td>101445</td>\n",
              "      <td>102413.0</td>\n",
              "    </tr>\n",
              "    <tr>\n",
              "      <th>18</th>\n",
              "      <td>110828</td>\n",
              "      <td>102413.0</td>\n",
              "    </tr>\n",
              "  </tbody>\n",
              "</table>\n",
              "</div>"
            ],
            "text/plain": [
              "    Actual  Predicted\n",
              "0    81222    87076.0\n",
              "1   104331    87076.0\n",
              "2    96768    56402.0\n",
              "3   101709    87076.0\n",
              "4     9598    25728.0\n",
              "5    92037   117750.0\n",
              "6    99938    71739.0\n",
              "7   109227   102413.0\n",
              "8    84255    71739.0\n",
              "9   112993    71739.0\n",
              "10   95617    56402.0\n",
              "11   96720   117750.0\n",
              "12   12188    41065.0\n",
              "13    7558    25728.0\n",
              "14    6803    25728.0\n",
              "15   69857   102413.0\n",
              "16  101278   102413.0\n",
              "17  101445   102413.0\n",
              "18  110828   102413.0"
            ]
          },
          "metadata": {
            "tags": []
          },
          "execution_count": 336
        }
      ]
    },
    {
      "cell_type": "code",
      "metadata": {
        "id": "tcywh5sO0wl4",
        "colab_type": "code",
        "outputId": "bb706b85-a02e-4347-f97a-941f02c2b9f9",
        "colab": {
          "base_uri": "https://localhost:8080/",
          "height": 486
        }
      },
      "source": [
        "# Let's plot our results \n",
        "\n",
        "\n",
        "df1 = df.head(15)\n",
        "df1.plot(kind='bar',figsize=(13,8))\n",
        "plt.grid(which='major', linestyle='-', linewidth='0.5', color='green')\n",
        "plt.grid(which='minor', linestyle=':', linewidth='0.5', color='black')\n",
        "plt.show()"
      ],
      "execution_count": 0,
      "outputs": [
        {
          "output_type": "display_data",
          "data": {
            "image/png": "[encoded data removed]",
            "text/plain": [
              "<Figure size 936x576 with 1 Axes>"
            ]
          },
          "metadata": {
            "tags": [],
            "needs_background": "light"
          }
        }
      ]
    },
    {
      "cell_type": "markdown",
      "metadata": {
        "id": "48AbIuJk1YDF",
        "colab_type": "text"
      },
      "source": [
        "## Linear Regression with Weekdays - Part 2"
      ]
    },
    {
      "cell_type": "code",
      "metadata": {
        "id": "LF1gSMIw1bc9",
        "colab_type": "code",
        "colab": {}
      },
      "source": [
        "df = pd.read_csv(url, header = 0, sep =',',parse_dates=['Date'])"
      ],
      "execution_count": 0,
      "outputs": []
    },
    {
      "cell_type": "code",
      "metadata": {
        "id": "SSCyjM1w2MME",
        "colab_type": "code",
        "outputId": "fe8566b2-e266-4020-ceb5-cc8c566cab4c",
        "colab": {
          "base_uri": "https://localhost:8080/",
          "height": 360
        }
      },
      "source": [
        "# Let's remove the outliers as well as the holidays period\n",
        "\n",
        "data= df.loc[(-df.Holiday)&(-df.Outlier)]\n",
        "data.head(5)"
      ],
      "execution_count": 0,
      "outputs": [
        {
          "output_type": "execute_result",
          "data": {
            "text/html": [
              "<div>\n",
              "<style scoped>\n",
              "    .dataframe tbody tr th:only-of-type {\n",
              "        vertical-align: middle;\n",
              "    }\n",
              "\n",
              "    .dataframe tbody tr th {\n",
              "        vertical-align: top;\n",
              "    }\n",
              "\n",
              "    .dataframe thead th {\n",
              "        text-align: right;\n",
              "    }\n",
              "</style>\n",
              "<table border=\"1\" class=\"dataframe\">\n",
              "  <thead>\n",
              "    <tr style=\"text-align: right;\">\n",
              "      <th></th>\n",
              "      <th>Date</th>\n",
              "      <th>Year</th>\n",
              "      <th>Month</th>\n",
              "      <th>year_month</th>\n",
              "      <th>Day</th>\n",
              "      <th>Weekday</th>\n",
              "      <th>Holiday</th>\n",
              "      <th>Max Temp (°C)</th>\n",
              "      <th>Min Temp (°C)</th>\n",
              "      <th>Mean Temp (°C)</th>\n",
              "      <th>Monthly Mean Temp (°C)</th>\n",
              "      <th>Delta Temp (°C)</th>\n",
              "      <th>Total Precip (mm)</th>\n",
              "      <th>Monthly Mean Precip (mm)</th>\n",
              "      <th>Delta Precip (mm)</th>\n",
              "      <th>Snow on Grnd (cm)</th>\n",
              "      <th>Barrie Ridership</th>\n",
              "      <th>Kitchener Ridership</th>\n",
              "      <th>Lakeshore East Ridership</th>\n",
              "      <th>Lakeshore West Ridership</th>\n",
              "      <th>Milton Ridership</th>\n",
              "      <th>Richmond Hill Ridership</th>\n",
              "      <th>Stouffville Ridership</th>\n",
              "      <th>Union Station Ridership</th>\n",
              "      <th>Total GO Ridership</th>\n",
              "      <th>Outlier</th>\n",
              "      <th>Overall Mean</th>\n",
              "      <th>2SD_above</th>\n",
              "      <th>2SD_below</th>\n",
              "    </tr>\n",
              "  </thead>\n",
              "  <tbody>\n",
              "    <tr>\n",
              "      <th>0</th>\n",
              "      <td>2017-03-01</td>\n",
              "      <td>2017</td>\n",
              "      <td>3</td>\n",
              "      <td>2017-03</td>\n",
              "      <td>1</td>\n",
              "      <td>Wednesday</td>\n",
              "      <td>False</td>\n",
              "      <td>13.1</td>\n",
              "      <td>-1.9</td>\n",
              "      <td>5.6</td>\n",
              "      <td>-0.251613</td>\n",
              "      <td>5.851613</td>\n",
              "      <td>18.4</td>\n",
              "      <td>2.335484</td>\n",
              "      <td>16.064516</td>\n",
              "      <td>0.0</td>\n",
              "      <td>10022</td>\n",
              "      <td>13585</td>\n",
              "      <td>25273</td>\n",
              "      <td>32909</td>\n",
              "      <td>15599</td>\n",
              "      <td>5639</td>\n",
              "      <td>8804</td>\n",
              "      <td>95802</td>\n",
              "      <td>207633</td>\n",
              "      <td>False</td>\n",
              "      <td>227296.503311</td>\n",
              "      <td>254365.810172</td>\n",
              "      <td>200227.196451</td>\n",
              "    </tr>\n",
              "    <tr>\n",
              "      <th>1</th>\n",
              "      <td>2017-03-02</td>\n",
              "      <td>2017</td>\n",
              "      <td>3</td>\n",
              "      <td>2017-03</td>\n",
              "      <td>2</td>\n",
              "      <td>Thursday</td>\n",
              "      <td>False</td>\n",
              "      <td>-1.3</td>\n",
              "      <td>-6.4</td>\n",
              "      <td>-3.9</td>\n",
              "      <td>-0.251613</td>\n",
              "      <td>-3.648387</td>\n",
              "      <td>0.2</td>\n",
              "      <td>2.335484</td>\n",
              "      <td>-2.135484</td>\n",
              "      <td>0.5</td>\n",
              "      <td>9932</td>\n",
              "      <td>13331</td>\n",
              "      <td>26120</td>\n",
              "      <td>33884</td>\n",
              "      <td>15653</td>\n",
              "      <td>5665</td>\n",
              "      <td>8736</td>\n",
              "      <td>95873</td>\n",
              "      <td>209194</td>\n",
              "      <td>False</td>\n",
              "      <td>224966.615894</td>\n",
              "      <td>253295.696280</td>\n",
              "      <td>196637.535508</td>\n",
              "    </tr>\n",
              "    <tr>\n",
              "      <th>2</th>\n",
              "      <td>2017-03-03</td>\n",
              "      <td>2017</td>\n",
              "      <td>3</td>\n",
              "      <td>2017-03</td>\n",
              "      <td>3</td>\n",
              "      <td>Friday</td>\n",
              "      <td>False</td>\n",
              "      <td>-4.3</td>\n",
              "      <td>-8.1</td>\n",
              "      <td>-6.2</td>\n",
              "      <td>-0.251613</td>\n",
              "      <td>-5.948387</td>\n",
              "      <td>0.0</td>\n",
              "      <td>2.335484</td>\n",
              "      <td>-2.335484</td>\n",
              "      <td>0.5</td>\n",
              "      <td>8905</td>\n",
              "      <td>12235</td>\n",
              "      <td>23801</td>\n",
              "      <td>31473</td>\n",
              "      <td>14092</td>\n",
              "      <td>5129</td>\n",
              "      <td>7918</td>\n",
              "      <td>87200</td>\n",
              "      <td>190753</td>\n",
              "      <td>False</td>\n",
              "      <td>204211.905405</td>\n",
              "      <td>232457.905320</td>\n",
              "      <td>175965.905490</td>\n",
              "    </tr>\n",
              "    <tr>\n",
              "      <th>3</th>\n",
              "      <td>2017-03-04</td>\n",
              "      <td>2017</td>\n",
              "      <td>3</td>\n",
              "      <td>2017-03</td>\n",
              "      <td>4</td>\n",
              "      <td>Saturday</td>\n",
              "      <td>False</td>\n",
              "      <td>-6.5</td>\n",
              "      <td>-11.9</td>\n",
              "      <td>-9.2</td>\n",
              "      <td>-0.251613</td>\n",
              "      <td>-8.948387</td>\n",
              "      <td>0.2</td>\n",
              "      <td>2.335484</td>\n",
              "      <td>-2.135484</td>\n",
              "      <td>0.5</td>\n",
              "      <td>928</td>\n",
              "      <td>480</td>\n",
              "      <td>7872</td>\n",
              "      <td>11756</td>\n",
              "      <td>208</td>\n",
              "      <td>0</td>\n",
              "      <td>246</td>\n",
              "      <td>13899</td>\n",
              "      <td>35389</td>\n",
              "      <td>False</td>\n",
              "      <td>45352.333333</td>\n",
              "      <td>73886.656469</td>\n",
              "      <td>16818.010198</td>\n",
              "    </tr>\n",
              "    <tr>\n",
              "      <th>4</th>\n",
              "      <td>2017-03-05</td>\n",
              "      <td>2017</td>\n",
              "      <td>3</td>\n",
              "      <td>2017-03</td>\n",
              "      <td>5</td>\n",
              "      <td>Sunday</td>\n",
              "      <td>False</td>\n",
              "      <td>-0.4</td>\n",
              "      <td>-10.6</td>\n",
              "      <td>-5.5</td>\n",
              "      <td>-0.251613</td>\n",
              "      <td>-5.248387</td>\n",
              "      <td>0.0</td>\n",
              "      <td>2.335484</td>\n",
              "      <td>-2.335484</td>\n",
              "      <td>0.5</td>\n",
              "      <td>803</td>\n",
              "      <td>398</td>\n",
              "      <td>4714</td>\n",
              "      <td>8381</td>\n",
              "      <td>169</td>\n",
              "      <td>0</td>\n",
              "      <td>156</td>\n",
              "      <td>8505</td>\n",
              "      <td>23126</td>\n",
              "      <td>False</td>\n",
              "      <td>32455.370861</td>\n",
              "      <td>53039.519234</td>\n",
              "      <td>11871.222488</td>\n",
              "    </tr>\n",
              "  </tbody>\n",
              "</table>\n",
              "</div>"
            ],
            "text/plain": [
              "        Date  Year  Month  ...   Overall Mean      2SD_above      2SD_below\n",
              "0 2017-03-01  2017      3  ...  227296.503311  254365.810172  200227.196451\n",
              "1 2017-03-02  2017      3  ...  224966.615894  253295.696280  196637.535508\n",
              "2 2017-03-03  2017      3  ...  204211.905405  232457.905320  175965.905490\n",
              "3 2017-03-04  2017      3  ...   45352.333333   73886.656469   16818.010198\n",
              "4 2017-03-05  2017      3  ...   32455.370861   53039.519234   11871.222488\n",
              "\n",
              "[5 rows x 29 columns]"
            ]
          },
          "metadata": {
            "tags": []
          },
          "execution_count": 339
        }
      ]
    },
    {
      "cell_type": "code",
      "metadata": {
        "id": "ei86FAjV2N9M",
        "colab_type": "code",
        "outputId": "3684f1f7-c6e2-40e0-ca5f-74746a25a2c7",
        "colab": {
          "base_uri": "https://localhost:8080/",
          "height": 462
        }
      },
      "source": [
        "# Convert weekdays into integers\n",
        "\n",
        "weekday = {'Monday':1 , 'Tuesday':2 , 'Wednesday':3, 'Thursday':4, 'Friday':5, 'Saturday':6, 'Sunday':7}\n",
        "data.Weekday = [weekday[item] for item in data.Weekday]\n",
        "data.head()"
      ],
      "execution_count": 0,
      "outputs": [
        {
          "output_type": "stream",
          "text": [
            "/usr/local/lib/python3.6/dist-packages/pandas/core/generic.py:5303: SettingWithCopyWarning: \n",
            "A value is trying to be set on a copy of a slice from a DataFrame.\n",
            "Try using .loc[row_indexer,col_indexer] = value instead\n",
            "\n",
            "See the caveats in the documentation: https://pandas.pydata.org/pandas-docs/stable/user_guide/indexing.html#returning-a-view-versus-a-copy\n",
            "  self[name] = value\n"
          ],
          "name": "stderr"
        },
        {
          "output_type": "execute_result",
          "data": {
            "text/html": [
              "<div>\n",
              "<style scoped>\n",
              "    .dataframe tbody tr th:only-of-type {\n",
              "        vertical-align: middle;\n",
              "    }\n",
              "\n",
              "    .dataframe tbody tr th {\n",
              "        vertical-align: top;\n",
              "    }\n",
              "\n",
              "    .dataframe thead th {\n",
              "        text-align: right;\n",
              "    }\n",
              "</style>\n",
              "<table border=\"1\" class=\"dataframe\">\n",
              "  <thead>\n",
              "    <tr style=\"text-align: right;\">\n",
              "      <th></th>\n",
              "      <th>Date</th>\n",
              "      <th>Year</th>\n",
              "      <th>Month</th>\n",
              "      <th>year_month</th>\n",
              "      <th>Day</th>\n",
              "      <th>Weekday</th>\n",
              "      <th>Holiday</th>\n",
              "      <th>Max Temp (°C)</th>\n",
              "      <th>Min Temp (°C)</th>\n",
              "      <th>Mean Temp (°C)</th>\n",
              "      <th>Monthly Mean Temp (°C)</th>\n",
              "      <th>Delta Temp (°C)</th>\n",
              "      <th>Total Precip (mm)</th>\n",
              "      <th>Monthly Mean Precip (mm)</th>\n",
              "      <th>Delta Precip (mm)</th>\n",
              "      <th>Snow on Grnd (cm)</th>\n",
              "      <th>Barrie Ridership</th>\n",
              "      <th>Kitchener Ridership</th>\n",
              "      <th>Lakeshore East Ridership</th>\n",
              "      <th>Lakeshore West Ridership</th>\n",
              "      <th>Milton Ridership</th>\n",
              "      <th>Richmond Hill Ridership</th>\n",
              "      <th>Stouffville Ridership</th>\n",
              "      <th>Union Station Ridership</th>\n",
              "      <th>Total GO Ridership</th>\n",
              "      <th>Outlier</th>\n",
              "      <th>Overall Mean</th>\n",
              "      <th>2SD_above</th>\n",
              "      <th>2SD_below</th>\n",
              "    </tr>\n",
              "  </thead>\n",
              "  <tbody>\n",
              "    <tr>\n",
              "      <th>0</th>\n",
              "      <td>2017-03-01</td>\n",
              "      <td>2017</td>\n",
              "      <td>3</td>\n",
              "      <td>2017-03</td>\n",
              "      <td>1</td>\n",
              "      <td>3</td>\n",
              "      <td>False</td>\n",
              "      <td>13.1</td>\n",
              "      <td>-1.9</td>\n",
              "      <td>5.6</td>\n",
              "      <td>-0.251613</td>\n",
              "      <td>5.851613</td>\n",
              "      <td>18.4</td>\n",
              "      <td>2.335484</td>\n",
              "      <td>16.064516</td>\n",
              "      <td>0.0</td>\n",
              "      <td>10022</td>\n",
              "      <td>13585</td>\n",
              "      <td>25273</td>\n",
              "      <td>32909</td>\n",
              "      <td>15599</td>\n",
              "      <td>5639</td>\n",
              "      <td>8804</td>\n",
              "      <td>95802</td>\n",
              "      <td>207633</td>\n",
              "      <td>False</td>\n",
              "      <td>227296.503311</td>\n",
              "      <td>254365.810172</td>\n",
              "      <td>200227.196451</td>\n",
              "    </tr>\n",
              "    <tr>\n",
              "      <th>1</th>\n",
              "      <td>2017-03-02</td>\n",
              "      <td>2017</td>\n",
              "      <td>3</td>\n",
              "      <td>2017-03</td>\n",
              "      <td>2</td>\n",
              "      <td>4</td>\n",
              "      <td>False</td>\n",
              "      <td>-1.3</td>\n",
              "      <td>-6.4</td>\n",
              "      <td>-3.9</td>\n",
              "      <td>-0.251613</td>\n",
              "      <td>-3.648387</td>\n",
              "      <td>0.2</td>\n",
              "      <td>2.335484</td>\n",
              "      <td>-2.135484</td>\n",
              "      <td>0.5</td>\n",
              "      <td>9932</td>\n",
              "      <td>13331</td>\n",
              "      <td>26120</td>\n",
              "      <td>33884</td>\n",
              "      <td>15653</td>\n",
              "      <td>5665</td>\n",
              "      <td>8736</td>\n",
              "      <td>95873</td>\n",
              "      <td>209194</td>\n",
              "      <td>False</td>\n",
              "      <td>224966.615894</td>\n",
              "      <td>253295.696280</td>\n",
              "      <td>196637.535508</td>\n",
              "    </tr>\n",
              "    <tr>\n",
              "      <th>2</th>\n",
              "      <td>2017-03-03</td>\n",
              "      <td>2017</td>\n",
              "      <td>3</td>\n",
              "      <td>2017-03</td>\n",
              "      <td>3</td>\n",
              "      <td>5</td>\n",
              "      <td>False</td>\n",
              "      <td>-4.3</td>\n",
              "      <td>-8.1</td>\n",
              "      <td>-6.2</td>\n",
              "      <td>-0.251613</td>\n",
              "      <td>-5.948387</td>\n",
              "      <td>0.0</td>\n",
              "      <td>2.335484</td>\n",
              "      <td>-2.335484</td>\n",
              "      <td>0.5</td>\n",
              "      <td>8905</td>\n",
              "      <td>12235</td>\n",
              "      <td>23801</td>\n",
              "      <td>31473</td>\n",
              "      <td>14092</td>\n",
              "      <td>5129</td>\n",
              "      <td>7918</td>\n",
              "      <td>87200</td>\n",
              "      <td>190753</td>\n",
              "      <td>False</td>\n",
              "      <td>204211.905405</td>\n",
              "      <td>232457.905320</td>\n",
              "      <td>175965.905490</td>\n",
              "    </tr>\n",
              "    <tr>\n",
              "      <th>3</th>\n",
              "      <td>2017-03-04</td>\n",
              "      <td>2017</td>\n",
              "      <td>3</td>\n",
              "      <td>2017-03</td>\n",
              "      <td>4</td>\n",
              "      <td>6</td>\n",
              "      <td>False</td>\n",
              "      <td>-6.5</td>\n",
              "      <td>-11.9</td>\n",
              "      <td>-9.2</td>\n",
              "      <td>-0.251613</td>\n",
              "      <td>-8.948387</td>\n",
              "      <td>0.2</td>\n",
              "      <td>2.335484</td>\n",
              "      <td>-2.135484</td>\n",
              "      <td>0.5</td>\n",
              "      <td>928</td>\n",
              "      <td>480</td>\n",
              "      <td>7872</td>\n",
              "      <td>11756</td>\n",
              "      <td>208</td>\n",
              "      <td>0</td>\n",
              "      <td>246</td>\n",
              "      <td>13899</td>\n",
              "      <td>35389</td>\n",
              "      <td>False</td>\n",
              "      <td>45352.333333</td>\n",
              "      <td>73886.656469</td>\n",
              "      <td>16818.010198</td>\n",
              "    </tr>\n",
              "    <tr>\n",
              "      <th>4</th>\n",
              "      <td>2017-03-05</td>\n",
              "      <td>2017</td>\n",
              "      <td>3</td>\n",
              "      <td>2017-03</td>\n",
              "      <td>5</td>\n",
              "      <td>7</td>\n",
              "      <td>False</td>\n",
              "      <td>-0.4</td>\n",
              "      <td>-10.6</td>\n",
              "      <td>-5.5</td>\n",
              "      <td>-0.251613</td>\n",
              "      <td>-5.248387</td>\n",
              "      <td>0.0</td>\n",
              "      <td>2.335484</td>\n",
              "      <td>-2.335484</td>\n",
              "      <td>0.5</td>\n",
              "      <td>803</td>\n",
              "      <td>398</td>\n",
              "      <td>4714</td>\n",
              "      <td>8381</td>\n",
              "      <td>169</td>\n",
              "      <td>0</td>\n",
              "      <td>156</td>\n",
              "      <td>8505</td>\n",
              "      <td>23126</td>\n",
              "      <td>False</td>\n",
              "      <td>32455.370861</td>\n",
              "      <td>53039.519234</td>\n",
              "      <td>11871.222488</td>\n",
              "    </tr>\n",
              "  </tbody>\n",
              "</table>\n",
              "</div>"
            ],
            "text/plain": [
              "        Date  Year  Month  ...   Overall Mean      2SD_above      2SD_below\n",
              "0 2017-03-01  2017      3  ...  227296.503311  254365.810172  200227.196451\n",
              "1 2017-03-02  2017      3  ...  224966.615894  253295.696280  196637.535508\n",
              "2 2017-03-03  2017      3  ...  204211.905405  232457.905320  175965.905490\n",
              "3 2017-03-04  2017      3  ...   45352.333333   73886.656469   16818.010198\n",
              "4 2017-03-05  2017      3  ...   32455.370861   53039.519234   11871.222488\n",
              "\n",
              "[5 rows x 29 columns]"
            ]
          },
          "metadata": {
            "tags": []
          },
          "execution_count": 340
        }
      ]
    },
    {
      "cell_type": "markdown",
      "metadata": {
        "id": "9OFPb_CV2WXs",
        "colab_type": "text"
      },
      "source": [
        "Let's plot our data points on a graph. Here again will take a look specifically at Union Station, a central station in Toronto."
      ]
    },
    {
      "cell_type": "code",
      "metadata": {
        "id": "VWX8ZswE2aRh",
        "colab_type": "code",
        "outputId": "ece224c1-75a6-4ee2-d9d4-375b70315f26",
        "colab": {
          "base_uri": "https://localhost:8080/",
          "height": 386
        }
      },
      "source": [
        "sns.relplot(x='Weekday',y='Union Station Ridership', data=data,hue='Year',palette='Paired')"
      ],
      "execution_count": 0,
      "outputs": [
        {
          "output_type": "execute_result",
          "data": {
            "text/plain": [
              "<seaborn.axisgrid.FacetGrid at 0x7f5fd0874860>"
            ]
          },
          "metadata": {
            "tags": []
          },
          "execution_count": 341
        },
        {
          "output_type": "display_data",
          "data": {
            "image/png": "[encoded data removed]",
            "text/plain": [
              "<Figure size 421.375x360 with 1 Axes>"
            ]
          },
          "metadata": {
            "tags": [],
            "needs_background": "light"
          }
        }
      ]
    },
    {
      "cell_type": "code",
      "metadata": {
        "id": "gLqOcgqQ2cJa",
        "colab_type": "code",
        "outputId": "d9956e38-57b8-4e89-810f-2d866f618ec0",
        "colab": {
          "base_uri": "https://localhost:8080/",
          "height": 253
        }
      },
      "source": [
        "plt.figure(figsize=(5,3))\n",
        "plt.tight_layout()\n",
        "sns.distplot(data['Union Station Ridership'])"
      ],
      "execution_count": 0,
      "outputs": [
        {
          "output_type": "execute_result",
          "data": {
            "text/plain": [
              "<matplotlib.axes._subplots.AxesSubplot at 0x7f5fd00088d0>"
            ]
          },
          "metadata": {
            "tags": []
          },
          "execution_count": 342
        },
        {
          "output_type": "display_data",
          "data": {
            "image/png": "[encoded data removed]",
            "text/plain": [
              "<Figure size 360x216 with 1 Axes>"
            ]
          },
          "metadata": {
            "tags": [],
            "needs_background": "light"
          }
        }
      ]
    },
    {
      "cell_type": "code",
      "metadata": {
        "id": "7iJ3HHji2eO2",
        "colab_type": "code",
        "colab": {}
      },
      "source": [
        "# Now let's divide the data into attributes ('Weekday') and labels ('Union Station Riderships').\n",
        "\n",
        "X=data['Weekday'].values.reshape(-1,1)\n",
        "y=data['Union Station Ridership'].values.reshape(-1,1)"
      ],
      "execution_count": 0,
      "outputs": []
    },
    {
      "cell_type": "code",
      "metadata": {
        "id": "mZhyclKX2fxp",
        "colab_type": "code",
        "colab": {}
      },
      "source": [
        "#Split the data to 20% of the data to test set.\n",
        "\n",
        "X_train, X_test, y_train, y_test = train_test_split(X, y, test_size=0.2, random_state=0)"
      ],
      "execution_count": 0,
      "outputs": []
    },
    {
      "cell_type": "code",
      "metadata": {
        "id": "lRY5DfWJ2hSy",
        "colab_type": "code",
        "outputId": "ce9653e6-356d-444a-be6b-bd74d6e07cad",
        "colab": {
          "base_uri": "https://localhost:8080/",
          "height": 34
        }
      },
      "source": [
        "# Train the algorithm\n",
        "\n",
        "regressor = LinearRegression()  \n",
        "regressor.fit(X_train, y_train) #training the algorithm"
      ],
      "execution_count": 0,
      "outputs": [
        {
          "output_type": "execute_result",
          "data": {
            "text/plain": [
              "LinearRegression(copy_X=True, fit_intercept=True, n_jobs=None, normalize=False)"
            ]
          },
          "metadata": {
            "tags": []
          },
          "execution_count": 345
        }
      ]
    },
    {
      "cell_type": "code",
      "metadata": {
        "id": "xWwu7Wsb2it5",
        "colab_type": "code",
        "outputId": "2b39f431-693c-4d08-ba01-168362a005d9",
        "colab": {
          "base_uri": "https://localhost:8080/",
          "height": 51
        }
      },
      "source": [
        "#To retrieve the intercept:\n",
        "print(regressor.intercept_)\n",
        "\n",
        "#For retrieving the slope:\n",
        "print(regressor.coef_)"
      ],
      "execution_count": 0,
      "outputs": [
        {
          "output_type": "stream",
          "text": [
            "[141774.68776727]\n",
            "[[-16544.87902787]]\n"
          ],
          "name": "stdout"
        }
      ]
    },
    {
      "cell_type": "code",
      "metadata": {
        "id": "ivBpLs5Z2kKE",
        "colab_type": "code",
        "colab": {}
      },
      "source": [
        "y_pred = regressor.predict(X_test)"
      ],
      "execution_count": 0,
      "outputs": []
    },
    {
      "cell_type": "code",
      "metadata": {
        "id": "S5AeroUP2me_",
        "colab_type": "code",
        "outputId": "4d475dbc-7f94-470b-b76a-faa22c5c717a",
        "colab": {
          "base_uri": "https://localhost:8080/",
          "height": 419
        }
      },
      "source": [
        "# Let's use our test data and see how accurately our algorithm predicts the percentage score.\n",
        "\n",
        "df = pd.DataFrame({'Actual': y_test.flatten(), 'Predicted': y_pred.flatten()}).round()\n",
        "df"
      ],
      "execution_count": 0,
      "outputs": [
        {
          "output_type": "execute_result",
          "data": {
            "text/html": [
              "<div>\n",
              "<style scoped>\n",
              "    .dataframe tbody tr th:only-of-type {\n",
              "        vertical-align: middle;\n",
              "    }\n",
              "\n",
              "    .dataframe tbody tr th {\n",
              "        vertical-align: top;\n",
              "    }\n",
              "\n",
              "    .dataframe thead th {\n",
              "        text-align: right;\n",
              "    }\n",
              "</style>\n",
              "<table border=\"1\" class=\"dataframe\">\n",
              "  <thead>\n",
              "    <tr style=\"text-align: right;\">\n",
              "      <th></th>\n",
              "      <th>Actual</th>\n",
              "      <th>Predicted</th>\n",
              "    </tr>\n",
              "  </thead>\n",
              "  <tbody>\n",
              "    <tr>\n",
              "      <th>0</th>\n",
              "      <td>107492</td>\n",
              "      <td>108685.0</td>\n",
              "    </tr>\n",
              "    <tr>\n",
              "      <th>1</th>\n",
              "      <td>100565</td>\n",
              "      <td>75595.0</td>\n",
              "    </tr>\n",
              "    <tr>\n",
              "      <th>2</th>\n",
              "      <td>96529</td>\n",
              "      <td>108685.0</td>\n",
              "    </tr>\n",
              "    <tr>\n",
              "      <th>3</th>\n",
              "      <td>95809</td>\n",
              "      <td>108685.0</td>\n",
              "    </tr>\n",
              "    <tr>\n",
              "      <th>4</th>\n",
              "      <td>108883</td>\n",
              "      <td>108685.0</td>\n",
              "    </tr>\n",
              "    <tr>\n",
              "      <th>...</th>\n",
              "      <td>...</td>\n",
              "      <td>...</td>\n",
              "    </tr>\n",
              "    <tr>\n",
              "      <th>194</th>\n",
              "      <td>98263</td>\n",
              "      <td>75595.0</td>\n",
              "    </tr>\n",
              "    <tr>\n",
              "      <th>195</th>\n",
              "      <td>98114</td>\n",
              "      <td>108685.0</td>\n",
              "    </tr>\n",
              "    <tr>\n",
              "      <th>196</th>\n",
              "      <td>98723</td>\n",
              "      <td>59050.0</td>\n",
              "    </tr>\n",
              "    <tr>\n",
              "      <th>197</th>\n",
              "      <td>101471</td>\n",
              "      <td>75595.0</td>\n",
              "    </tr>\n",
              "    <tr>\n",
              "      <th>198</th>\n",
              "      <td>8514</td>\n",
              "      <td>25961.0</td>\n",
              "    </tr>\n",
              "  </tbody>\n",
              "</table>\n",
              "<p>199 rows × 2 columns</p>\n",
              "</div>"
            ],
            "text/plain": [
              "     Actual  Predicted\n",
              "0    107492   108685.0\n",
              "1    100565    75595.0\n",
              "2     96529   108685.0\n",
              "3     95809   108685.0\n",
              "4    108883   108685.0\n",
              "..      ...        ...\n",
              "194   98263    75595.0\n",
              "195   98114   108685.0\n",
              "196   98723    59050.0\n",
              "197  101471    75595.0\n",
              "198    8514    25961.0\n",
              "\n",
              "[199 rows x 2 columns]"
            ]
          },
          "metadata": {
            "tags": []
          },
          "execution_count": 348
        }
      ]
    },
    {
      "cell_type": "code",
      "metadata": {
        "id": "kUvnVqe42osZ",
        "colab_type": "code",
        "outputId": "ff9bae38-c359-438a-9459-fddaab404ae8",
        "colab": {
          "base_uri": "https://localhost:8080/",
          "height": 486
        }
      },
      "source": [
        "# Let's plot our results \n",
        "\n",
        "\n",
        "df1 = df.head(15)\n",
        "df1.plot(kind='bar',figsize=(13,8))\n",
        "plt.grid(which='major', linestyle='-', linewidth='0.5', color='green')\n",
        "plt.grid(which='minor', linestyle=':', linewidth='0.5', color='black')\n",
        "plt.show()"
      ],
      "execution_count": 0,
      "outputs": [
        {
          "output_type": "display_data",
          "data": {
            "image/png": "[encoded data removed]",
            "text/plain": [
              "<Figure size 936x576 with 1 Axes>"
            ]
          },
          "metadata": {
            "tags": [],
            "needs_background": "light"
          }
        }
      ]
    },
    {
      "cell_type": "markdown",
      "metadata": {
        "id": "HQ_pvpG-2sK7",
        "colab_type": "text"
      },
      "source": [
        "Our initial thought was that by removing the outliers and expanding the data frame to cover the whole year would lead to a more precise predictive model.\n",
        "After running the analysis, the model studied in part 2 seems more accurate."
      ]
    },
    {
      "cell_type": "markdown",
      "metadata": {
        "id": "yLbHK3Gw6gdS",
        "colab_type": "text"
      },
      "source": [
        "## Multiple Linear Regression with 2 Variables"
      ]
    },
    {
      "cell_type": "code",
      "metadata": {
        "id": "gmo0WILP7jwO",
        "colab_type": "code",
        "colab": {}
      },
      "source": [
        "df = pd.read_csv(url,index_col='Date', parse_dates=True)"
      ],
      "execution_count": 0,
      "outputs": []
    },
    {
      "cell_type": "code",
      "metadata": {
        "id": "D_KoHfLv7pi3",
        "colab_type": "code",
        "outputId": "03f49e87-29ea-42a9-8dba-05b3d1f1b875",
        "colab": {
          "base_uri": "https://localhost:8080/",
          "height": 391
        }
      },
      "source": [
        "# Let's convert weekdays into integers\n",
        "\n",
        "weekday = {'Monday':1 , 'Tuesday':2 , 'Wednesday':3, 'Thursday':4, 'Friday':5, 'Saturday':6, 'Sunday':7}\n",
        "df.Weekday = [weekday[item] for item in df.Weekday]\n",
        "df.head()"
      ],
      "execution_count": 0,
      "outputs": [
        {
          "output_type": "execute_result",
          "data": {
            "text/html": [
              "<div>\n",
              "<style scoped>\n",
              "    .dataframe tbody tr th:only-of-type {\n",
              "        vertical-align: middle;\n",
              "    }\n",
              "\n",
              "    .dataframe tbody tr th {\n",
              "        vertical-align: top;\n",
              "    }\n",
              "\n",
              "    .dataframe thead th {\n",
              "        text-align: right;\n",
              "    }\n",
              "</style>\n",
              "<table border=\"1\" class=\"dataframe\">\n",
              "  <thead>\n",
              "    <tr style=\"text-align: right;\">\n",
              "      <th></th>\n",
              "      <th>Year</th>\n",
              "      <th>Month</th>\n",
              "      <th>year_month</th>\n",
              "      <th>Day</th>\n",
              "      <th>Weekday</th>\n",
              "      <th>Holiday</th>\n",
              "      <th>Max Temp (°C)</th>\n",
              "      <th>Min Temp (°C)</th>\n",
              "      <th>Mean Temp (°C)</th>\n",
              "      <th>Monthly Mean Temp (°C)</th>\n",
              "      <th>Delta Temp (°C)</th>\n",
              "      <th>Total Precip (mm)</th>\n",
              "      <th>Monthly Mean Precip (mm)</th>\n",
              "      <th>Delta Precip (mm)</th>\n",
              "      <th>Snow on Grnd (cm)</th>\n",
              "      <th>Barrie Ridership</th>\n",
              "      <th>Kitchener Ridership</th>\n",
              "      <th>Lakeshore East Ridership</th>\n",
              "      <th>Lakeshore West Ridership</th>\n",
              "      <th>Milton Ridership</th>\n",
              "      <th>Richmond Hill Ridership</th>\n",
              "      <th>Stouffville Ridership</th>\n",
              "      <th>Union Station Ridership</th>\n",
              "      <th>Total GO Ridership</th>\n",
              "      <th>Outlier</th>\n",
              "      <th>Overall Mean</th>\n",
              "      <th>2SD_above</th>\n",
              "      <th>2SD_below</th>\n",
              "    </tr>\n",
              "    <tr>\n",
              "      <th>Date</th>\n",
              "      <th></th>\n",
              "      <th></th>\n",
              "      <th></th>\n",
              "      <th></th>\n",
              "      <th></th>\n",
              "      <th></th>\n",
              "      <th></th>\n",
              "      <th></th>\n",
              "      <th></th>\n",
              "      <th></th>\n",
              "      <th></th>\n",
              "      <th></th>\n",
              "      <th></th>\n",
              "      <th></th>\n",
              "      <th></th>\n",
              "      <th></th>\n",
              "      <th></th>\n",
              "      <th></th>\n",
              "      <th></th>\n",
              "      <th></th>\n",
              "      <th></th>\n",
              "      <th></th>\n",
              "      <th></th>\n",
              "      <th></th>\n",
              "      <th></th>\n",
              "      <th></th>\n",
              "      <th></th>\n",
              "      <th></th>\n",
              "    </tr>\n",
              "  </thead>\n",
              "  <tbody>\n",
              "    <tr>\n",
              "      <th>2017-03-01</th>\n",
              "      <td>2017</td>\n",
              "      <td>3</td>\n",
              "      <td>2017-03</td>\n",
              "      <td>1</td>\n",
              "      <td>3</td>\n",
              "      <td>False</td>\n",
              "      <td>13.1</td>\n",
              "      <td>-1.9</td>\n",
              "      <td>5.6</td>\n",
              "      <td>-0.251613</td>\n",
              "      <td>5.851613</td>\n",
              "      <td>18.4</td>\n",
              "      <td>2.335484</td>\n",
              "      <td>16.064516</td>\n",
              "      <td>0.0</td>\n",
              "      <td>10022</td>\n",
              "      <td>13585</td>\n",
              "      <td>25273</td>\n",
              "      <td>32909</td>\n",
              "      <td>15599</td>\n",
              "      <td>5639</td>\n",
              "      <td>8804</td>\n",
              "      <td>95802</td>\n",
              "      <td>207633</td>\n",
              "      <td>False</td>\n",
              "      <td>227296.503311</td>\n",
              "      <td>254365.810172</td>\n",
              "      <td>200227.196451</td>\n",
              "    </tr>\n",
              "    <tr>\n",
              "      <th>2017-03-02</th>\n",
              "      <td>2017</td>\n",
              "      <td>3</td>\n",
              "      <td>2017-03</td>\n",
              "      <td>2</td>\n",
              "      <td>4</td>\n",
              "      <td>False</td>\n",
              "      <td>-1.3</td>\n",
              "      <td>-6.4</td>\n",
              "      <td>-3.9</td>\n",
              "      <td>-0.251613</td>\n",
              "      <td>-3.648387</td>\n",
              "      <td>0.2</td>\n",
              "      <td>2.335484</td>\n",
              "      <td>-2.135484</td>\n",
              "      <td>0.5</td>\n",
              "      <td>9932</td>\n",
              "      <td>13331</td>\n",
              "      <td>26120</td>\n",
              "      <td>33884</td>\n",
              "      <td>15653</td>\n",
              "      <td>5665</td>\n",
              "      <td>8736</td>\n",
              "      <td>95873</td>\n",
              "      <td>209194</td>\n",
              "      <td>False</td>\n",
              "      <td>224966.615894</td>\n",
              "      <td>253295.696280</td>\n",
              "      <td>196637.535508</td>\n",
              "    </tr>\n",
              "    <tr>\n",
              "      <th>2017-03-03</th>\n",
              "      <td>2017</td>\n",
              "      <td>3</td>\n",
              "      <td>2017-03</td>\n",
              "      <td>3</td>\n",
              "      <td>5</td>\n",
              "      <td>False</td>\n",
              "      <td>-4.3</td>\n",
              "      <td>-8.1</td>\n",
              "      <td>-6.2</td>\n",
              "      <td>-0.251613</td>\n",
              "      <td>-5.948387</td>\n",
              "      <td>0.0</td>\n",
              "      <td>2.335484</td>\n",
              "      <td>-2.335484</td>\n",
              "      <td>0.5</td>\n",
              "      <td>8905</td>\n",
              "      <td>12235</td>\n",
              "      <td>23801</td>\n",
              "      <td>31473</td>\n",
              "      <td>14092</td>\n",
              "      <td>5129</td>\n",
              "      <td>7918</td>\n",
              "      <td>87200</td>\n",
              "      <td>190753</td>\n",
              "      <td>False</td>\n",
              "      <td>204211.905405</td>\n",
              "      <td>232457.905320</td>\n",
              "      <td>175965.905490</td>\n",
              "    </tr>\n",
              "    <tr>\n",
              "      <th>2017-03-04</th>\n",
              "      <td>2017</td>\n",
              "      <td>3</td>\n",
              "      <td>2017-03</td>\n",
              "      <td>4</td>\n",
              "      <td>6</td>\n",
              "      <td>False</td>\n",
              "      <td>-6.5</td>\n",
              "      <td>-11.9</td>\n",
              "      <td>-9.2</td>\n",
              "      <td>-0.251613</td>\n",
              "      <td>-8.948387</td>\n",
              "      <td>0.2</td>\n",
              "      <td>2.335484</td>\n",
              "      <td>-2.135484</td>\n",
              "      <td>0.5</td>\n",
              "      <td>928</td>\n",
              "      <td>480</td>\n",
              "      <td>7872</td>\n",
              "      <td>11756</td>\n",
              "      <td>208</td>\n",
              "      <td>0</td>\n",
              "      <td>246</td>\n",
              "      <td>13899</td>\n",
              "      <td>35389</td>\n",
              "      <td>False</td>\n",
              "      <td>45352.333333</td>\n",
              "      <td>73886.656469</td>\n",
              "      <td>16818.010198</td>\n",
              "    </tr>\n",
              "    <tr>\n",
              "      <th>2017-03-05</th>\n",
              "      <td>2017</td>\n",
              "      <td>3</td>\n",
              "      <td>2017-03</td>\n",
              "      <td>5</td>\n",
              "      <td>7</td>\n",
              "      <td>False</td>\n",
              "      <td>-0.4</td>\n",
              "      <td>-10.6</td>\n",
              "      <td>-5.5</td>\n",
              "      <td>-0.251613</td>\n",
              "      <td>-5.248387</td>\n",
              "      <td>0.0</td>\n",
              "      <td>2.335484</td>\n",
              "      <td>-2.335484</td>\n",
              "      <td>0.5</td>\n",
              "      <td>803</td>\n",
              "      <td>398</td>\n",
              "      <td>4714</td>\n",
              "      <td>8381</td>\n",
              "      <td>169</td>\n",
              "      <td>0</td>\n",
              "      <td>156</td>\n",
              "      <td>8505</td>\n",
              "      <td>23126</td>\n",
              "      <td>False</td>\n",
              "      <td>32455.370861</td>\n",
              "      <td>53039.519234</td>\n",
              "      <td>11871.222488</td>\n",
              "    </tr>\n",
              "  </tbody>\n",
              "</table>\n",
              "</div>"
            ],
            "text/plain": [
              "            Year  Month year_month  ...   Overall Mean      2SD_above      2SD_below\n",
              "Date                                ...                                             \n",
              "2017-03-01  2017      3    2017-03  ...  227296.503311  254365.810172  200227.196451\n",
              "2017-03-02  2017      3    2017-03  ...  224966.615894  253295.696280  196637.535508\n",
              "2017-03-03  2017      3    2017-03  ...  204211.905405  232457.905320  175965.905490\n",
              "2017-03-04  2017      3    2017-03  ...   45352.333333   73886.656469   16818.010198\n",
              "2017-03-05  2017      3    2017-03  ...   32455.370861   53039.519234   11871.222488\n",
              "\n",
              "[5 rows x 28 columns]"
            ]
          },
          "metadata": {
            "tags": []
          },
          "execution_count": 351
        }
      ]
    },
    {
      "cell_type": "code",
      "metadata": {
        "id": "tqy7tP8j7sTr",
        "colab_type": "code",
        "colab": {}
      },
      "source": [
        "# Build linear regression model using Weekday and Precipitation as predictors\n",
        "# Split data into predictors X and output Y\n",
        "\n",
        "predictors = ['Weekday','Total Precip (mm)']\n",
        "X= df[predictors]\n",
        "y=df['Union Station Ridership'].values.reshape(-1,1)"
      ],
      "execution_count": 0,
      "outputs": []
    },
    {
      "cell_type": "code",
      "metadata": {
        "id": "tj4ZdxAY7s3G",
        "colab_type": "code",
        "colab": {}
      },
      "source": [
        "# Initialise and fit model\n",
        "lm = LinearRegression()\n",
        "model = lm.fit(X, y)"
      ],
      "execution_count": 0,
      "outputs": []
    },
    {
      "cell_type": "markdown",
      "metadata": {
        "id": "ZL8MGH9d7wIu",
        "colab_type": "text"
      },
      "source": [
        "Instead of calulcating the values for alpha and betas, we have to call .intercept for alpha, and .coef_ for an array with our coefficients.\n",
        "\n"
      ]
    },
    {
      "cell_type": "code",
      "metadata": {
        "id": "-PsBZ-MW7ue6",
        "colab_type": "code",
        "outputId": "544d20d0-cd83-45b3-e480-64eb53a74829",
        "colab": {
          "base_uri": "https://localhost:8080/",
          "height": 51
        }
      },
      "source": [
        "print(f'alpha = {model.intercept_}')\n",
        "print(f'betas = {model.coef_}')"
      ],
      "execution_count": 0,
      "outputs": [
        {
          "output_type": "stream",
          "text": [
            "alpha = [130407.35411283]\n",
            "betas = [[-14521.08711066   -117.60454459]]\n"
          ],
          "name": "stdout"
        }
      ]
    },
    {
      "cell_type": "markdown",
      "metadata": {
        "id": "jS5Zt9oz713S",
        "colab_type": "text"
      },
      "source": [
        "We can predict the values by using .predict()"
      ]
    },
    {
      "cell_type": "code",
      "metadata": {
        "id": "icWnp_BT73KS",
        "colab_type": "code",
        "outputId": "495e1b26-4b2a-4a0d-ed03-a1c08b5e037d",
        "colab": {
          "base_uri": "https://localhost:8080/",
          "height": 136
        }
      },
      "source": [
        "y_pred = model.predict(X)\n",
        "y_pred"
      ],
      "execution_count": 0,
      "outputs": [
        {
          "output_type": "execute_result",
          "data": {
            "text/plain": [
              "array([[84680.16916041],\n",
              "       [72299.48476126],\n",
              "       [57801.91855952],\n",
              "       ...,\n",
              "       [71958.43158196],\n",
              "       [57672.55356047],\n",
              "       [43139.70599535]])"
            ]
          },
          "metadata": {
            "tags": []
          },
          "execution_count": 355
        }
      ]
    },
    {
      "cell_type": "code",
      "metadata": {
        "id": "0cymLI7r7593",
        "colab_type": "code",
        "outputId": "fb3ff5bc-07e1-40f8-ce80-ad951856c43a",
        "colab": {
          "base_uri": "https://localhost:8080/",
          "height": 34
        }
      },
      "source": [
        "new_X = [[7, 0.2]]\n",
        "print(model.predict(new_X))"
      ],
      "execution_count": 0,
      "outputs": [
        {
          "output_type": "stream",
          "text": [
            "[[28736.22342928]]\n"
          ],
          "name": "stdout"
        }
      ]
    },
    {
      "cell_type": "markdown",
      "metadata": {
        "id": "BcGoBovL777s",
        "colab_type": "text"
      },
      "source": [
        "Now that we have our predicting model, let's randomly pick a day and assess how far (or close) our model is from reality."
      ]
    },
    {
      "cell_type": "code",
      "metadata": {
        "id": "cll2G4md79ps",
        "colab_type": "code",
        "outputId": "617c5713-d5ec-440a-aebd-664feed4a3de",
        "colab": {
          "base_uri": "https://localhost:8080/",
          "height": 545
        }
      },
      "source": [
        "df[['Weekday','Total Precip (mm)','Union Station Ridership']].tail(15)"
      ],
      "execution_count": 0,
      "outputs": [
        {
          "output_type": "execute_result",
          "data": {
            "text/html": [
              "<div>\n",
              "<style scoped>\n",
              "    .dataframe tbody tr th:only-of-type {\n",
              "        vertical-align: middle;\n",
              "    }\n",
              "\n",
              "    .dataframe tbody tr th {\n",
              "        vertical-align: top;\n",
              "    }\n",
              "\n",
              "    .dataframe thead th {\n",
              "        text-align: right;\n",
              "    }\n",
              "</style>\n",
              "<table border=\"1\" class=\"dataframe\">\n",
              "  <thead>\n",
              "    <tr style=\"text-align: right;\">\n",
              "      <th></th>\n",
              "      <th>Weekday</th>\n",
              "      <th>Total Precip (mm)</th>\n",
              "      <th>Union Station Ridership</th>\n",
              "    </tr>\n",
              "    <tr>\n",
              "      <th>Date</th>\n",
              "      <th></th>\n",
              "      <th></th>\n",
              "      <th></th>\n",
              "    </tr>\n",
              "  </thead>\n",
              "  <tbody>\n",
              "    <tr>\n",
              "      <th>2020-02-15</th>\n",
              "      <td>6</td>\n",
              "      <td>0.4</td>\n",
              "      <td>15296</td>\n",
              "    </tr>\n",
              "    <tr>\n",
              "      <th>2020-02-16</th>\n",
              "      <td>7</td>\n",
              "      <td>0.4</td>\n",
              "      <td>12262</td>\n",
              "    </tr>\n",
              "    <tr>\n",
              "      <th>2020-02-17</th>\n",
              "      <td>1</td>\n",
              "      <td>1.0</td>\n",
              "      <td>11370</td>\n",
              "    </tr>\n",
              "    <tr>\n",
              "      <th>2020-02-18</th>\n",
              "      <td>2</td>\n",
              "      <td>8.6</td>\n",
              "      <td>104432</td>\n",
              "    </tr>\n",
              "    <tr>\n",
              "      <th>2020-02-19</th>\n",
              "      <td>3</td>\n",
              "      <td>0.0</td>\n",
              "      <td>107351</td>\n",
              "    </tr>\n",
              "    <tr>\n",
              "      <th>2020-02-20</th>\n",
              "      <td>4</td>\n",
              "      <td>1.0</td>\n",
              "      <td>108033</td>\n",
              "    </tr>\n",
              "    <tr>\n",
              "      <th>2020-02-21</th>\n",
              "      <td>5</td>\n",
              "      <td>0.2</td>\n",
              "      <td>94914</td>\n",
              "    </tr>\n",
              "    <tr>\n",
              "      <th>2020-02-22</th>\n",
              "      <td>6</td>\n",
              "      <td>0.2</td>\n",
              "      <td>17267</td>\n",
              "    </tr>\n",
              "    <tr>\n",
              "      <th>2020-02-23</th>\n",
              "      <td>7</td>\n",
              "      <td>0.8</td>\n",
              "      <td>12615</td>\n",
              "    </tr>\n",
              "    <tr>\n",
              "      <th>2020-02-24</th>\n",
              "      <td>1</td>\n",
              "      <td>1.1</td>\n",
              "      <td>107350</td>\n",
              "    </tr>\n",
              "    <tr>\n",
              "      <th>2020-02-25</th>\n",
              "      <td>2</td>\n",
              "      <td>0.2</td>\n",
              "      <td>99431</td>\n",
              "    </tr>\n",
              "    <tr>\n",
              "      <th>2020-02-26</th>\n",
              "      <td>3</td>\n",
              "      <td>11.8</td>\n",
              "      <td>98193</td>\n",
              "    </tr>\n",
              "    <tr>\n",
              "      <th>2020-02-27</th>\n",
              "      <td>4</td>\n",
              "      <td>3.1</td>\n",
              "      <td>94998</td>\n",
              "    </tr>\n",
              "    <tr>\n",
              "      <th>2020-02-28</th>\n",
              "      <td>5</td>\n",
              "      <td>1.1</td>\n",
              "      <td>95108</td>\n",
              "    </tr>\n",
              "    <tr>\n",
              "      <th>2020-02-29</th>\n",
              "      <td>6</td>\n",
              "      <td>1.2</td>\n",
              "      <td>13307</td>\n",
              "    </tr>\n",
              "  </tbody>\n",
              "</table>\n",
              "</div>"
            ],
            "text/plain": [
              "            Weekday  Total Precip (mm)  Union Station Ridership\n",
              "Date                                                           \n",
              "2020-02-15        6                0.4                    15296\n",
              "2020-02-16        7                0.4                    12262\n",
              "2020-02-17        1                1.0                    11370\n",
              "2020-02-18        2                8.6                   104432\n",
              "2020-02-19        3                0.0                   107351\n",
              "2020-02-20        4                1.0                   108033\n",
              "2020-02-21        5                0.2                    94914\n",
              "2020-02-22        6                0.2                    17267\n",
              "2020-02-23        7                0.8                    12615\n",
              "2020-02-24        1                1.1                   107350\n",
              "2020-02-25        2                0.2                    99431\n",
              "2020-02-26        3               11.8                    98193\n",
              "2020-02-27        4                3.1                    94998\n",
              "2020-02-28        5                1.1                    95108\n",
              "2020-02-29        6                1.2                    13307"
            ]
          },
          "metadata": {
            "tags": []
          },
          "execution_count": 357
        }
      ]
    },
    {
      "cell_type": "code",
      "metadata": {
        "id": "QRZ99kZP7_zU",
        "colab_type": "code",
        "outputId": "81552481-7de6-46cc-f334-c9644bc28431",
        "colab": {
          "base_uri": "https://localhost:8080/",
          "height": 34
        }
      },
      "source": [
        "# Let's look at the 18th of February\n",
        "prediction_1 = [[2, 8.6]]\n",
        "print(model.predict(prediction_1))"
      ],
      "execution_count": 0,
      "outputs": [
        {
          "output_type": "stream",
          "text": [
            "[[100353.78080804]]\n"
          ],
          "name": "stdout"
        }
      ]
    },
    {
      "cell_type": "markdown",
      "metadata": {
        "id": "zNeZ1ez98A7j",
        "colab_type": "text"
      },
      "source": [
        "The model predicted 742,228 riderships while the actual number was 773,600: the prediction was pretty close."
      ]
    },
    {
      "cell_type": "code",
      "metadata": {
        "id": "5xKYl7Mm8DnX",
        "colab_type": "code",
        "outputId": "32351019-6a29-4fa7-8105-32f15e83e621",
        "colab": {
          "base_uri": "https://localhost:8080/",
          "height": 34
        }
      },
      "source": [
        "# Let's look at the 26th of February 2020\n",
        "prediction_2 = [[3, 11.8]]\n",
        "print(model.predict(prediction_2))"
      ],
      "execution_count": 0,
      "outputs": [
        {
          "output_type": "stream",
          "text": [
            "[[85456.35915469]]\n"
          ],
          "name": "stdout"
        }
      ]
    },
    {
      "cell_type": "markdown",
      "metadata": {
        "id": "ssdwNPmU8E-V",
        "colab_type": "text"
      },
      "source": [
        "The model predicted 631,344 riderships while the actual number was 727,372. The prediction here was not as accurate."
      ]
    },
    {
      "cell_type": "markdown",
      "metadata": {
        "id": "NrqS4UYV9WhJ",
        "colab_type": "text"
      },
      "source": [
        "## Linear Regression for Weekend Ridership Predicted by Temperature"
      ]
    },
    {
      "cell_type": "code",
      "metadata": {
        "id": "yOyGP6Ll9ZTg",
        "colab_type": "code",
        "outputId": "dffab929-d54c-4e75-ecb5-732ee7f1c28a",
        "colab": {
          "base_uri": "https://localhost:8080/",
          "height": 691
        }
      },
      "source": [
        "# Importing the dataset and setting the date as index\n",
        "data = pd.read_csv('https://raw.githubusercontent.com/Jenarth/SCS3250-Group-2-Final-Project/master/Final%20Dataset.csv')\n",
        "data['Date'] = pd.to_datetime(data['Date'])\n",
        "data = data.set_index('Date')\n",
        "data"
      ],
      "execution_count": 0,
      "outputs": [
        {
          "output_type": "execute_result",
          "data": {
            "text/html": [
              "<div>\n",
              "<style scoped>\n",
              "    .dataframe tbody tr th:only-of-type {\n",
              "        vertical-align: middle;\n",
              "    }\n",
              "\n",
              "    .dataframe tbody tr th {\n",
              "        vertical-align: top;\n",
              "    }\n",
              "\n",
              "    .dataframe thead th {\n",
              "        text-align: right;\n",
              "    }\n",
              "</style>\n",
              "<table border=\"1\" class=\"dataframe\">\n",
              "  <thead>\n",
              "    <tr style=\"text-align: right;\">\n",
              "      <th></th>\n",
              "      <th>Year</th>\n",
              "      <th>Month</th>\n",
              "      <th>year_month</th>\n",
              "      <th>Day</th>\n",
              "      <th>Weekday</th>\n",
              "      <th>Holiday</th>\n",
              "      <th>Max Temp (°C)</th>\n",
              "      <th>Min Temp (°C)</th>\n",
              "      <th>Mean Temp (°C)</th>\n",
              "      <th>Monthly Mean Temp (°C)</th>\n",
              "      <th>Delta Temp (°C)</th>\n",
              "      <th>Total Precip (mm)</th>\n",
              "      <th>Monthly Mean Precip (mm)</th>\n",
              "      <th>Delta Precip (mm)</th>\n",
              "      <th>Snow on Grnd (cm)</th>\n",
              "      <th>Barrie Ridership</th>\n",
              "      <th>Kitchener Ridership</th>\n",
              "      <th>Lakeshore East Ridership</th>\n",
              "      <th>Lakeshore West Ridership</th>\n",
              "      <th>Milton Ridership</th>\n",
              "      <th>Richmond Hill Ridership</th>\n",
              "      <th>Stouffville Ridership</th>\n",
              "      <th>Union Station Ridership</th>\n",
              "      <th>Total GO Ridership</th>\n",
              "      <th>Outlier</th>\n",
              "      <th>Overall Mean</th>\n",
              "      <th>2SD_above</th>\n",
              "      <th>2SD_below</th>\n",
              "    </tr>\n",
              "    <tr>\n",
              "      <th>Date</th>\n",
              "      <th></th>\n",
              "      <th></th>\n",
              "      <th></th>\n",
              "      <th></th>\n",
              "      <th></th>\n",
              "      <th></th>\n",
              "      <th></th>\n",
              "      <th></th>\n",
              "      <th></th>\n",
              "      <th></th>\n",
              "      <th></th>\n",
              "      <th></th>\n",
              "      <th></th>\n",
              "      <th></th>\n",
              "      <th></th>\n",
              "      <th></th>\n",
              "      <th></th>\n",
              "      <th></th>\n",
              "      <th></th>\n",
              "      <th></th>\n",
              "      <th></th>\n",
              "      <th></th>\n",
              "      <th></th>\n",
              "      <th></th>\n",
              "      <th></th>\n",
              "      <th></th>\n",
              "      <th></th>\n",
              "      <th></th>\n",
              "    </tr>\n",
              "  </thead>\n",
              "  <tbody>\n",
              "    <tr>\n",
              "      <th>2017-03-01</th>\n",
              "      <td>2017</td>\n",
              "      <td>3</td>\n",
              "      <td>2017-03</td>\n",
              "      <td>1</td>\n",
              "      <td>Wednesday</td>\n",
              "      <td>False</td>\n",
              "      <td>13.1</td>\n",
              "      <td>-1.9</td>\n",
              "      <td>5.6</td>\n",
              "      <td>-0.251613</td>\n",
              "      <td>5.851613</td>\n",
              "      <td>18.4</td>\n",
              "      <td>2.335484</td>\n",
              "      <td>16.064516</td>\n",
              "      <td>0.0</td>\n",
              "      <td>10022</td>\n",
              "      <td>13585</td>\n",
              "      <td>25273</td>\n",
              "      <td>32909</td>\n",
              "      <td>15599</td>\n",
              "      <td>5639</td>\n",
              "      <td>8804</td>\n",
              "      <td>95802</td>\n",
              "      <td>207633</td>\n",
              "      <td>False</td>\n",
              "      <td>227296.503311</td>\n",
              "      <td>254365.810172</td>\n",
              "      <td>200227.196451</td>\n",
              "    </tr>\n",
              "    <tr>\n",
              "      <th>2017-03-02</th>\n",
              "      <td>2017</td>\n",
              "      <td>3</td>\n",
              "      <td>2017-03</td>\n",
              "      <td>2</td>\n",
              "      <td>Thursday</td>\n",
              "      <td>False</td>\n",
              "      <td>-1.3</td>\n",
              "      <td>-6.4</td>\n",
              "      <td>-3.9</td>\n",
              "      <td>-0.251613</td>\n",
              "      <td>-3.648387</td>\n",
              "      <td>0.2</td>\n",
              "      <td>2.335484</td>\n",
              "      <td>-2.135484</td>\n",
              "      <td>0.5</td>\n",
              "      <td>9932</td>\n",
              "      <td>13331</td>\n",
              "      <td>26120</td>\n",
              "      <td>33884</td>\n",
              "      <td>15653</td>\n",
              "      <td>5665</td>\n",
              "      <td>8736</td>\n",
              "      <td>95873</td>\n",
              "      <td>209194</td>\n",
              "      <td>False</td>\n",
              "      <td>224966.615894</td>\n",
              "      <td>253295.696280</td>\n",
              "      <td>196637.535508</td>\n",
              "    </tr>\n",
              "    <tr>\n",
              "      <th>2017-03-03</th>\n",
              "      <td>2017</td>\n",
              "      <td>3</td>\n",
              "      <td>2017-03</td>\n",
              "      <td>3</td>\n",
              "      <td>Friday</td>\n",
              "      <td>False</td>\n",
              "      <td>-4.3</td>\n",
              "      <td>-8.1</td>\n",
              "      <td>-6.2</td>\n",
              "      <td>-0.251613</td>\n",
              "      <td>-5.948387</td>\n",
              "      <td>0.0</td>\n",
              "      <td>2.335484</td>\n",
              "      <td>-2.335484</td>\n",
              "      <td>0.5</td>\n",
              "      <td>8905</td>\n",
              "      <td>12235</td>\n",
              "      <td>23801</td>\n",
              "      <td>31473</td>\n",
              "      <td>14092</td>\n",
              "      <td>5129</td>\n",
              "      <td>7918</td>\n",
              "      <td>87200</td>\n",
              "      <td>190753</td>\n",
              "      <td>False</td>\n",
              "      <td>204211.905405</td>\n",
              "      <td>232457.905320</td>\n",
              "      <td>175965.905490</td>\n",
              "    </tr>\n",
              "    <tr>\n",
              "      <th>2017-03-04</th>\n",
              "      <td>2017</td>\n",
              "      <td>3</td>\n",
              "      <td>2017-03</td>\n",
              "      <td>4</td>\n",
              "      <td>Saturday</td>\n",
              "      <td>False</td>\n",
              "      <td>-6.5</td>\n",
              "      <td>-11.9</td>\n",
              "      <td>-9.2</td>\n",
              "      <td>-0.251613</td>\n",
              "      <td>-8.948387</td>\n",
              "      <td>0.2</td>\n",
              "      <td>2.335484</td>\n",
              "      <td>-2.135484</td>\n",
              "      <td>0.5</td>\n",
              "      <td>928</td>\n",
              "      <td>480</td>\n",
              "      <td>7872</td>\n",
              "      <td>11756</td>\n",
              "      <td>208</td>\n",
              "      <td>0</td>\n",
              "      <td>246</td>\n",
              "      <td>13899</td>\n",
              "      <td>35389</td>\n",
              "      <td>False</td>\n",
              "      <td>45352.333333</td>\n",
              "      <td>73886.656469</td>\n",
              "      <td>16818.010198</td>\n",
              "    </tr>\n",
              "    <tr>\n",
              "      <th>2017-03-05</th>\n",
              "      <td>2017</td>\n",
              "      <td>3</td>\n",
              "      <td>2017-03</td>\n",
              "      <td>5</td>\n",
              "      <td>Sunday</td>\n",
              "      <td>False</td>\n",
              "      <td>-0.4</td>\n",
              "      <td>-10.6</td>\n",
              "      <td>-5.5</td>\n",
              "      <td>-0.251613</td>\n",
              "      <td>-5.248387</td>\n",
              "      <td>0.0</td>\n",
              "      <td>2.335484</td>\n",
              "      <td>-2.335484</td>\n",
              "      <td>0.5</td>\n",
              "      <td>803</td>\n",
              "      <td>398</td>\n",
              "      <td>4714</td>\n",
              "      <td>8381</td>\n",
              "      <td>169</td>\n",
              "      <td>0</td>\n",
              "      <td>156</td>\n",
              "      <td>8505</td>\n",
              "      <td>23126</td>\n",
              "      <td>False</td>\n",
              "      <td>32455.370861</td>\n",
              "      <td>53039.519234</td>\n",
              "      <td>11871.222488</td>\n",
              "    </tr>\n",
              "    <tr>\n",
              "      <th>...</th>\n",
              "      <td>...</td>\n",
              "      <td>...</td>\n",
              "      <td>...</td>\n",
              "      <td>...</td>\n",
              "      <td>...</td>\n",
              "      <td>...</td>\n",
              "      <td>...</td>\n",
              "      <td>...</td>\n",
              "      <td>...</td>\n",
              "      <td>...</td>\n",
              "      <td>...</td>\n",
              "      <td>...</td>\n",
              "      <td>...</td>\n",
              "      <td>...</td>\n",
              "      <td>...</td>\n",
              "      <td>...</td>\n",
              "      <td>...</td>\n",
              "      <td>...</td>\n",
              "      <td>...</td>\n",
              "      <td>...</td>\n",
              "      <td>...</td>\n",
              "      <td>...</td>\n",
              "      <td>...</td>\n",
              "      <td>...</td>\n",
              "      <td>...</td>\n",
              "      <td>...</td>\n",
              "      <td>...</td>\n",
              "      <td>...</td>\n",
              "    </tr>\n",
              "    <tr>\n",
              "      <th>2020-02-25</th>\n",
              "      <td>2020</td>\n",
              "      <td>2</td>\n",
              "      <td>2020-02</td>\n",
              "      <td>25</td>\n",
              "      <td>Tuesday</td>\n",
              "      <td>False</td>\n",
              "      <td>5.6</td>\n",
              "      <td>1.7</td>\n",
              "      <td>3.7</td>\n",
              "      <td>-1.906897</td>\n",
              "      <td>5.606897</td>\n",
              "      <td>0.2</td>\n",
              "      <td>2.137931</td>\n",
              "      <td>-1.937931</td>\n",
              "      <td>0.0</td>\n",
              "      <td>13650</td>\n",
              "      <td>15097</td>\n",
              "      <td>29727</td>\n",
              "      <td>36973</td>\n",
              "      <td>17192</td>\n",
              "      <td>6865</td>\n",
              "      <td>10485</td>\n",
              "      <td>99431</td>\n",
              "      <td>229420</td>\n",
              "      <td>False</td>\n",
              "      <td>226142.086667</td>\n",
              "      <td>260553.155725</td>\n",
              "      <td>191731.017608</td>\n",
              "    </tr>\n",
              "    <tr>\n",
              "      <th>2020-02-26</th>\n",
              "      <td>2020</td>\n",
              "      <td>2</td>\n",
              "      <td>2020-02</td>\n",
              "      <td>26</td>\n",
              "      <td>Wednesday</td>\n",
              "      <td>False</td>\n",
              "      <td>4.1</td>\n",
              "      <td>-3.2</td>\n",
              "      <td>0.4</td>\n",
              "      <td>-1.906897</td>\n",
              "      <td>2.306897</td>\n",
              "      <td>11.8</td>\n",
              "      <td>2.137931</td>\n",
              "      <td>9.662069</td>\n",
              "      <td>0.0</td>\n",
              "      <td>12596</td>\n",
              "      <td>13557</td>\n",
              "      <td>26690</td>\n",
              "      <td>33732</td>\n",
              "      <td>14331</td>\n",
              "      <td>6215</td>\n",
              "      <td>9749</td>\n",
              "      <td>98193</td>\n",
              "      <td>215063</td>\n",
              "      <td>False</td>\n",
              "      <td>227296.503311</td>\n",
              "      <td>254365.810172</td>\n",
              "      <td>200227.196451</td>\n",
              "    </tr>\n",
              "    <tr>\n",
              "      <th>2020-02-27</th>\n",
              "      <td>2020</td>\n",
              "      <td>2</td>\n",
              "      <td>2020-02</td>\n",
              "      <td>27</td>\n",
              "      <td>Thursday</td>\n",
              "      <td>False</td>\n",
              "      <td>-2.7</td>\n",
              "      <td>-5.3</td>\n",
              "      <td>-4.0</td>\n",
              "      <td>-1.906897</td>\n",
              "      <td>-2.093103</td>\n",
              "      <td>3.1</td>\n",
              "      <td>2.137931</td>\n",
              "      <td>0.962069</td>\n",
              "      <td>0.0</td>\n",
              "      <td>11349</td>\n",
              "      <td>13074</td>\n",
              "      <td>26818</td>\n",
              "      <td>34180</td>\n",
              "      <td>15281</td>\n",
              "      <td>5522</td>\n",
              "      <td>9151</td>\n",
              "      <td>94998</td>\n",
              "      <td>210373</td>\n",
              "      <td>False</td>\n",
              "      <td>224966.615894</td>\n",
              "      <td>253295.696280</td>\n",
              "      <td>196637.535508</td>\n",
              "    </tr>\n",
              "    <tr>\n",
              "      <th>2020-02-28</th>\n",
              "      <td>2020</td>\n",
              "      <td>2</td>\n",
              "      <td>2020-02</td>\n",
              "      <td>28</td>\n",
              "      <td>Friday</td>\n",
              "      <td>False</td>\n",
              "      <td>-2.5</td>\n",
              "      <td>-9.4</td>\n",
              "      <td>-5.9</td>\n",
              "      <td>-1.906897</td>\n",
              "      <td>-3.993103</td>\n",
              "      <td>1.1</td>\n",
              "      <td>2.137931</td>\n",
              "      <td>-1.037931</td>\n",
              "      <td>0.0</td>\n",
              "      <td>11098</td>\n",
              "      <td>13008</td>\n",
              "      <td>27785</td>\n",
              "      <td>34263</td>\n",
              "      <td>14426</td>\n",
              "      <td>5629</td>\n",
              "      <td>8759</td>\n",
              "      <td>95108</td>\n",
              "      <td>210076</td>\n",
              "      <td>False</td>\n",
              "      <td>204211.905405</td>\n",
              "      <td>232457.905320</td>\n",
              "      <td>175965.905490</td>\n",
              "    </tr>\n",
              "    <tr>\n",
              "      <th>2020-02-29</th>\n",
              "      <td>2020</td>\n",
              "      <td>2</td>\n",
              "      <td>2020-02</td>\n",
              "      <td>29</td>\n",
              "      <td>Saturday</td>\n",
              "      <td>False</td>\n",
              "      <td>-3.2</td>\n",
              "      <td>-12.8</td>\n",
              "      <td>-8.0</td>\n",
              "      <td>-1.906897</td>\n",
              "      <td>-6.093103</td>\n",
              "      <td>1.2</td>\n",
              "      <td>2.137931</td>\n",
              "      <td>-0.937931</td>\n",
              "      <td>0.0</td>\n",
              "      <td>1791</td>\n",
              "      <td>134</td>\n",
              "      <td>7107</td>\n",
              "      <td>11161</td>\n",
              "      <td>74</td>\n",
              "      <td>0</td>\n",
              "      <td>675</td>\n",
              "      <td>13307</td>\n",
              "      <td>34249</td>\n",
              "      <td>False</td>\n",
              "      <td>45352.333333</td>\n",
              "      <td>73886.656469</td>\n",
              "      <td>16818.010198</td>\n",
              "    </tr>\n",
              "  </tbody>\n",
              "</table>\n",
              "<p>1096 rows × 28 columns</p>\n",
              "</div>"
            ],
            "text/plain": [
              "            Year  Month year_month  ...   Overall Mean      2SD_above      2SD_below\n",
              "Date                                ...                                             \n",
              "2017-03-01  2017      3    2017-03  ...  227296.503311  254365.810172  200227.196451\n",
              "2017-03-02  2017      3    2017-03  ...  224966.615894  253295.696280  196637.535508\n",
              "2017-03-03  2017      3    2017-03  ...  204211.905405  232457.905320  175965.905490\n",
              "2017-03-04  2017      3    2017-03  ...   45352.333333   73886.656469   16818.010198\n",
              "2017-03-05  2017      3    2017-03  ...   32455.370861   53039.519234   11871.222488\n",
              "...          ...    ...        ...  ...            ...            ...            ...\n",
              "2020-02-25  2020      2    2020-02  ...  226142.086667  260553.155725  191731.017608\n",
              "2020-02-26  2020      2    2020-02  ...  227296.503311  254365.810172  200227.196451\n",
              "2020-02-27  2020      2    2020-02  ...  224966.615894  253295.696280  196637.535508\n",
              "2020-02-28  2020      2    2020-02  ...  204211.905405  232457.905320  175965.905490\n",
              "2020-02-29  2020      2    2020-02  ...   45352.333333   73886.656469   16818.010198\n",
              "\n",
              "[1096 rows x 28 columns]"
            ]
          },
          "metadata": {
            "tags": []
          },
          "execution_count": 360
        }
      ]
    },
    {
      "cell_type": "markdown",
      "metadata": {
        "id": "Z32aIYOK9kFx",
        "colab_type": "text"
      },
      "source": [
        "**Looking at weekday ridership**"
      ]
    },
    {
      "cell_type": "markdown",
      "metadata": {
        "id": "sgWS_q1K9pf-",
        "colab_type": "text"
      },
      "source": [
        "By analyzing the data, it is clear that ridership varies depending on whether the day is a weekday or weekend. First, the weekday data will be looked at. The weekday data is split from the main dataset here.\n",
        "\n"
      ]
    },
    {
      "cell_type": "code",
      "metadata": {
        "id": "muL6K_2e9pIp",
        "colab_type": "code",
        "outputId": "bb5faefa-2a5b-4901-9f92-a4c69fa37042",
        "colab": {
          "base_uri": "https://localhost:8080/",
          "height": 691
        }
      },
      "source": [
        "# Splitting data by day and concating the weekdays together\n",
        "monday_data = data.loc[data['Weekday'] == 'Monday']\n",
        "tuesday_data = data.loc[data['Weekday'] == 'Tuesday']\n",
        "wednesday_data = data.loc[data['Weekday'] == 'Wednesday']\n",
        "thursday_data = data.loc[data['Weekday'] == 'Thursday']\n",
        "friday_data = data.loc[data['Weekday'] == 'Friday']\n",
        "weekday_data= pd.concat([monday_data, tuesday_data, wednesday_data, thursday_data, friday_data])\n",
        "weekday_data = weekday_data.sort_values(by='Date' ,ascending=True)\n",
        "weekday_data"
      ],
      "execution_count": 0,
      "outputs": [
        {
          "output_type": "execute_result",
          "data": {
            "text/html": [
              "<div>\n",
              "<style scoped>\n",
              "    .dataframe tbody tr th:only-of-type {\n",
              "        vertical-align: middle;\n",
              "    }\n",
              "\n",
              "    .dataframe tbody tr th {\n",
              "        vertical-align: top;\n",
              "    }\n",
              "\n",
              "    .dataframe thead th {\n",
              "        text-align: right;\n",
              "    }\n",
              "</style>\n",
              "<table border=\"1\" class=\"dataframe\">\n",
              "  <thead>\n",
              "    <tr style=\"text-align: right;\">\n",
              "      <th></th>\n",
              "      <th>Year</th>\n",
              "      <th>Month</th>\n",
              "      <th>year_month</th>\n",
              "      <th>Day</th>\n",
              "      <th>Weekday</th>\n",
              "      <th>Holiday</th>\n",
              "      <th>Max Temp (°C)</th>\n",
              "      <th>Min Temp (°C)</th>\n",
              "      <th>Mean Temp (°C)</th>\n",
              "      <th>Monthly Mean Temp (°C)</th>\n",
              "      <th>Delta Temp (°C)</th>\n",
              "      <th>Total Precip (mm)</th>\n",
              "      <th>Monthly Mean Precip (mm)</th>\n",
              "      <th>Delta Precip (mm)</th>\n",
              "      <th>Snow on Grnd (cm)</th>\n",
              "      <th>Barrie Ridership</th>\n",
              "      <th>Kitchener Ridership</th>\n",
              "      <th>Lakeshore East Ridership</th>\n",
              "      <th>Lakeshore West Ridership</th>\n",
              "      <th>Milton Ridership</th>\n",
              "      <th>Richmond Hill Ridership</th>\n",
              "      <th>Stouffville Ridership</th>\n",
              "      <th>Union Station Ridership</th>\n",
              "      <th>Total GO Ridership</th>\n",
              "      <th>Outlier</th>\n",
              "      <th>Overall Mean</th>\n",
              "      <th>2SD_above</th>\n",
              "      <th>2SD_below</th>\n",
              "    </tr>\n",
              "    <tr>\n",
              "      <th>Date</th>\n",
              "      <th></th>\n",
              "      <th></th>\n",
              "      <th></th>\n",
              "      <th></th>\n",
              "      <th></th>\n",
              "      <th></th>\n",
              "      <th></th>\n",
              "      <th></th>\n",
              "      <th></th>\n",
              "      <th></th>\n",
              "      <th></th>\n",
              "      <th></th>\n",
              "      <th></th>\n",
              "      <th></th>\n",
              "      <th></th>\n",
              "      <th></th>\n",
              "      <th></th>\n",
              "      <th></th>\n",
              "      <th></th>\n",
              "      <th></th>\n",
              "      <th></th>\n",
              "      <th></th>\n",
              "      <th></th>\n",
              "      <th></th>\n",
              "      <th></th>\n",
              "      <th></th>\n",
              "      <th></th>\n",
              "      <th></th>\n",
              "    </tr>\n",
              "  </thead>\n",
              "  <tbody>\n",
              "    <tr>\n",
              "      <th>2017-03-01</th>\n",
              "      <td>2017</td>\n",
              "      <td>3</td>\n",
              "      <td>2017-03</td>\n",
              "      <td>1</td>\n",
              "      <td>Wednesday</td>\n",
              "      <td>False</td>\n",
              "      <td>13.1</td>\n",
              "      <td>-1.9</td>\n",
              "      <td>5.6</td>\n",
              "      <td>-0.251613</td>\n",
              "      <td>5.851613</td>\n",
              "      <td>18.4</td>\n",
              "      <td>2.335484</td>\n",
              "      <td>16.064516</td>\n",
              "      <td>0.0</td>\n",
              "      <td>10022</td>\n",
              "      <td>13585</td>\n",
              "      <td>25273</td>\n",
              "      <td>32909</td>\n",
              "      <td>15599</td>\n",
              "      <td>5639</td>\n",
              "      <td>8804</td>\n",
              "      <td>95802</td>\n",
              "      <td>207633</td>\n",
              "      <td>False</td>\n",
              "      <td>227296.503311</td>\n",
              "      <td>254365.810172</td>\n",
              "      <td>200227.196451</td>\n",
              "    </tr>\n",
              "    <tr>\n",
              "      <th>2017-03-02</th>\n",
              "      <td>2017</td>\n",
              "      <td>3</td>\n",
              "      <td>2017-03</td>\n",
              "      <td>2</td>\n",
              "      <td>Thursday</td>\n",
              "      <td>False</td>\n",
              "      <td>-1.3</td>\n",
              "      <td>-6.4</td>\n",
              "      <td>-3.9</td>\n",
              "      <td>-0.251613</td>\n",
              "      <td>-3.648387</td>\n",
              "      <td>0.2</td>\n",
              "      <td>2.335484</td>\n",
              "      <td>-2.135484</td>\n",
              "      <td>0.5</td>\n",
              "      <td>9932</td>\n",
              "      <td>13331</td>\n",
              "      <td>26120</td>\n",
              "      <td>33884</td>\n",
              "      <td>15653</td>\n",
              "      <td>5665</td>\n",
              "      <td>8736</td>\n",
              "      <td>95873</td>\n",
              "      <td>209194</td>\n",
              "      <td>False</td>\n",
              "      <td>224966.615894</td>\n",
              "      <td>253295.696280</td>\n",
              "      <td>196637.535508</td>\n",
              "    </tr>\n",
              "    <tr>\n",
              "      <th>2017-03-03</th>\n",
              "      <td>2017</td>\n",
              "      <td>3</td>\n",
              "      <td>2017-03</td>\n",
              "      <td>3</td>\n",
              "      <td>Friday</td>\n",
              "      <td>False</td>\n",
              "      <td>-4.3</td>\n",
              "      <td>-8.1</td>\n",
              "      <td>-6.2</td>\n",
              "      <td>-0.251613</td>\n",
              "      <td>-5.948387</td>\n",
              "      <td>0.0</td>\n",
              "      <td>2.335484</td>\n",
              "      <td>-2.335484</td>\n",
              "      <td>0.5</td>\n",
              "      <td>8905</td>\n",
              "      <td>12235</td>\n",
              "      <td>23801</td>\n",
              "      <td>31473</td>\n",
              "      <td>14092</td>\n",
              "      <td>5129</td>\n",
              "      <td>7918</td>\n",
              "      <td>87200</td>\n",
              "      <td>190753</td>\n",
              "      <td>False</td>\n",
              "      <td>204211.905405</td>\n",
              "      <td>232457.905320</td>\n",
              "      <td>175965.905490</td>\n",
              "    </tr>\n",
              "    <tr>\n",
              "      <th>2017-03-06</th>\n",
              "      <td>2017</td>\n",
              "      <td>3</td>\n",
              "      <td>2017-03</td>\n",
              "      <td>6</td>\n",
              "      <td>Monday</td>\n",
              "      <td>False</td>\n",
              "      <td>4.9</td>\n",
              "      <td>-0.9</td>\n",
              "      <td>-9.8</td>\n",
              "      <td>-0.251613</td>\n",
              "      <td>-9.548387</td>\n",
              "      <td>0.0</td>\n",
              "      <td>2.335484</td>\n",
              "      <td>-2.335484</td>\n",
              "      <td>0.0</td>\n",
              "      <td>10154</td>\n",
              "      <td>13622</td>\n",
              "      <td>24393</td>\n",
              "      <td>31993</td>\n",
              "      <td>15964</td>\n",
              "      <td>5787</td>\n",
              "      <td>8740</td>\n",
              "      <td>94530</td>\n",
              "      <td>205183</td>\n",
              "      <td>False</td>\n",
              "      <td>219741.340909</td>\n",
              "      <td>261398.518741</td>\n",
              "      <td>178084.163077</td>\n",
              "    </tr>\n",
              "    <tr>\n",
              "      <th>2017-03-07</th>\n",
              "      <td>2017</td>\n",
              "      <td>3</td>\n",
              "      <td>2017-03</td>\n",
              "      <td>7</td>\n",
              "      <td>Tuesday</td>\n",
              "      <td>False</td>\n",
              "      <td>10.9</td>\n",
              "      <td>6.4</td>\n",
              "      <td>8.7</td>\n",
              "      <td>-0.251613</td>\n",
              "      <td>8.951613</td>\n",
              "      <td>9.6</td>\n",
              "      <td>2.335484</td>\n",
              "      <td>7.264516</td>\n",
              "      <td>0.0</td>\n",
              "      <td>10200</td>\n",
              "      <td>13754</td>\n",
              "      <td>25540</td>\n",
              "      <td>33525</td>\n",
              "      <td>16051</td>\n",
              "      <td>5738</td>\n",
              "      <td>8777</td>\n",
              "      <td>95390</td>\n",
              "      <td>208975</td>\n",
              "      <td>False</td>\n",
              "      <td>226142.086667</td>\n",
              "      <td>260553.155725</td>\n",
              "      <td>191731.017608</td>\n",
              "    </tr>\n",
              "    <tr>\n",
              "      <th>...</th>\n",
              "      <td>...</td>\n",
              "      <td>...</td>\n",
              "      <td>...</td>\n",
              "      <td>...</td>\n",
              "      <td>...</td>\n",
              "      <td>...</td>\n",
              "      <td>...</td>\n",
              "      <td>...</td>\n",
              "      <td>...</td>\n",
              "      <td>...</td>\n",
              "      <td>...</td>\n",
              "      <td>...</td>\n",
              "      <td>...</td>\n",
              "      <td>...</td>\n",
              "      <td>...</td>\n",
              "      <td>...</td>\n",
              "      <td>...</td>\n",
              "      <td>...</td>\n",
              "      <td>...</td>\n",
              "      <td>...</td>\n",
              "      <td>...</td>\n",
              "      <td>...</td>\n",
              "      <td>...</td>\n",
              "      <td>...</td>\n",
              "      <td>...</td>\n",
              "      <td>...</td>\n",
              "      <td>...</td>\n",
              "      <td>...</td>\n",
              "    </tr>\n",
              "    <tr>\n",
              "      <th>2020-02-24</th>\n",
              "      <td>2020</td>\n",
              "      <td>2</td>\n",
              "      <td>2020-02</td>\n",
              "      <td>24</td>\n",
              "      <td>Monday</td>\n",
              "      <td>False</td>\n",
              "      <td>9.4</td>\n",
              "      <td>2.2</td>\n",
              "      <td>5.8</td>\n",
              "      <td>-1.906897</td>\n",
              "      <td>7.706897</td>\n",
              "      <td>1.1</td>\n",
              "      <td>2.137931</td>\n",
              "      <td>-1.037931</td>\n",
              "      <td>0.0</td>\n",
              "      <td>13376</td>\n",
              "      <td>15108</td>\n",
              "      <td>29214</td>\n",
              "      <td>36460</td>\n",
              "      <td>17446</td>\n",
              "      <td>6869</td>\n",
              "      <td>10305</td>\n",
              "      <td>107350</td>\n",
              "      <td>236128</td>\n",
              "      <td>False</td>\n",
              "      <td>219741.340909</td>\n",
              "      <td>261398.518741</td>\n",
              "      <td>178084.163077</td>\n",
              "    </tr>\n",
              "    <tr>\n",
              "      <th>2020-02-25</th>\n",
              "      <td>2020</td>\n",
              "      <td>2</td>\n",
              "      <td>2020-02</td>\n",
              "      <td>25</td>\n",
              "      <td>Tuesday</td>\n",
              "      <td>False</td>\n",
              "      <td>5.6</td>\n",
              "      <td>1.7</td>\n",
              "      <td>3.7</td>\n",
              "      <td>-1.906897</td>\n",
              "      <td>5.606897</td>\n",
              "      <td>0.2</td>\n",
              "      <td>2.137931</td>\n",
              "      <td>-1.937931</td>\n",
              "      <td>0.0</td>\n",
              "      <td>13650</td>\n",
              "      <td>15097</td>\n",
              "      <td>29727</td>\n",
              "      <td>36973</td>\n",
              "      <td>17192</td>\n",
              "      <td>6865</td>\n",
              "      <td>10485</td>\n",
              "      <td>99431</td>\n",
              "      <td>229420</td>\n",
              "      <td>False</td>\n",
              "      <td>226142.086667</td>\n",
              "      <td>260553.155725</td>\n",
              "      <td>191731.017608</td>\n",
              "    </tr>\n",
              "    <tr>\n",
              "      <th>2020-02-26</th>\n",
              "      <td>2020</td>\n",
              "      <td>2</td>\n",
              "      <td>2020-02</td>\n",
              "      <td>26</td>\n",
              "      <td>Wednesday</td>\n",
              "      <td>False</td>\n",
              "      <td>4.1</td>\n",
              "      <td>-3.2</td>\n",
              "      <td>0.4</td>\n",
              "      <td>-1.906897</td>\n",
              "      <td>2.306897</td>\n",
              "      <td>11.8</td>\n",
              "      <td>2.137931</td>\n",
              "      <td>9.662069</td>\n",
              "      <td>0.0</td>\n",
              "      <td>12596</td>\n",
              "      <td>13557</td>\n",
              "      <td>26690</td>\n",
              "      <td>33732</td>\n",
              "      <td>14331</td>\n",
              "      <td>6215</td>\n",
              "      <td>9749</td>\n",
              "      <td>98193</td>\n",
              "      <td>215063</td>\n",
              "      <td>False</td>\n",
              "      <td>227296.503311</td>\n",
              "      <td>254365.810172</td>\n",
              "      <td>200227.196451</td>\n",
              "    </tr>\n",
              "    <tr>\n",
              "      <th>2020-02-27</th>\n",
              "      <td>2020</td>\n",
              "      <td>2</td>\n",
              "      <td>2020-02</td>\n",
              "      <td>27</td>\n",
              "      <td>Thursday</td>\n",
              "      <td>False</td>\n",
              "      <td>-2.7</td>\n",
              "      <td>-5.3</td>\n",
              "      <td>-4.0</td>\n",
              "      <td>-1.906897</td>\n",
              "      <td>-2.093103</td>\n",
              "      <td>3.1</td>\n",
              "      <td>2.137931</td>\n",
              "      <td>0.962069</td>\n",
              "      <td>0.0</td>\n",
              "      <td>11349</td>\n",
              "      <td>13074</td>\n",
              "      <td>26818</td>\n",
              "      <td>34180</td>\n",
              "      <td>15281</td>\n",
              "      <td>5522</td>\n",
              "      <td>9151</td>\n",
              "      <td>94998</td>\n",
              "      <td>210373</td>\n",
              "      <td>False</td>\n",
              "      <td>224966.615894</td>\n",
              "      <td>253295.696280</td>\n",
              "      <td>196637.535508</td>\n",
              "    </tr>\n",
              "    <tr>\n",
              "      <th>2020-02-28</th>\n",
              "      <td>2020</td>\n",
              "      <td>2</td>\n",
              "      <td>2020-02</td>\n",
              "      <td>28</td>\n",
              "      <td>Friday</td>\n",
              "      <td>False</td>\n",
              "      <td>-2.5</td>\n",
              "      <td>-9.4</td>\n",
              "      <td>-5.9</td>\n",
              "      <td>-1.906897</td>\n",
              "      <td>-3.993103</td>\n",
              "      <td>1.1</td>\n",
              "      <td>2.137931</td>\n",
              "      <td>-1.037931</td>\n",
              "      <td>0.0</td>\n",
              "      <td>11098</td>\n",
              "      <td>13008</td>\n",
              "      <td>27785</td>\n",
              "      <td>34263</td>\n",
              "      <td>14426</td>\n",
              "      <td>5629</td>\n",
              "      <td>8759</td>\n",
              "      <td>95108</td>\n",
              "      <td>210076</td>\n",
              "      <td>False</td>\n",
              "      <td>204211.905405</td>\n",
              "      <td>232457.905320</td>\n",
              "      <td>175965.905490</td>\n",
              "    </tr>\n",
              "  </tbody>\n",
              "</table>\n",
              "<p>783 rows × 28 columns</p>\n",
              "</div>"
            ],
            "text/plain": [
              "            Year  Month year_month  ...   Overall Mean      2SD_above      2SD_below\n",
              "Date                                ...                                             \n",
              "2017-03-01  2017      3    2017-03  ...  227296.503311  254365.810172  200227.196451\n",
              "2017-03-02  2017      3    2017-03  ...  224966.615894  253295.696280  196637.535508\n",
              "2017-03-03  2017      3    2017-03  ...  204211.905405  232457.905320  175965.905490\n",
              "2017-03-06  2017      3    2017-03  ...  219741.340909  261398.518741  178084.163077\n",
              "2017-03-07  2017      3    2017-03  ...  226142.086667  260553.155725  191731.017608\n",
              "...          ...    ...        ...  ...            ...            ...            ...\n",
              "2020-02-24  2020      2    2020-02  ...  219741.340909  261398.518741  178084.163077\n",
              "2020-02-25  2020      2    2020-02  ...  226142.086667  260553.155725  191731.017608\n",
              "2020-02-26  2020      2    2020-02  ...  227296.503311  254365.810172  200227.196451\n",
              "2020-02-27  2020      2    2020-02  ...  224966.615894  253295.696280  196637.535508\n",
              "2020-02-28  2020      2    2020-02  ...  204211.905405  232457.905320  175965.905490\n",
              "\n",
              "[783 rows x 28 columns]"
            ]
          },
          "metadata": {
            "tags": []
          },
          "execution_count": 361
        }
      ]
    },
    {
      "cell_type": "code",
      "metadata": {
        "id": "Ocnub6iY-RA4",
        "colab_type": "code",
        "outputId": "366e9133-9e78-4df0-8987-f6c326e9fed8",
        "colab": {
          "base_uri": "https://localhost:8080/",
          "height": 282
        }
      },
      "source": [
        "# Plotting weekday mean temperature with GO ridership\n",
        "plt.scatter(weekday_data['Mean Temp (°C)'], weekday_data['Total GO Ridership'])"
      ],
      "execution_count": 0,
      "outputs": [
        {
          "output_type": "execute_result",
          "data": {
            "text/plain": [
              "<matplotlib.collections.PathCollection at 0x7f5fcf4db128>"
            ]
          },
          "metadata": {
            "tags": []
          },
          "execution_count": 362
        },
        {
          "output_type": "display_data",
          "data": {
            "image/png": "[encoded data removed]",
            "text/plain": [
              "<Figure size 432x288 with 1 Axes>"
            ]
          },
          "metadata": {
            "tags": [],
            "needs_background": "light"
          }
        }
      ]
    },
    {
      "cell_type": "markdown",
      "metadata": {
        "id": "P1xNi30C-S5V",
        "colab_type": "text"
      },
      "source": [
        "By looking at the weekday data above, there is no clear correlation between Weekday ridership (across all GO lines) and weekday temperature. Due to this, it doesn't make much sense to create a machine learning model to predict ridership on weekdays using temperature."
      ]
    },
    {
      "cell_type": "markdown",
      "metadata": {
        "id": "St5wMvTu-UOg",
        "colab_type": "text"
      },
      "source": [
        "**Looking at weekend ridership**"
      ]
    },
    {
      "cell_type": "markdown",
      "metadata": {
        "id": "XPCrK3Tc-YZ4",
        "colab_type": "text"
      },
      "source": [
        "First the weekend data needs to be split from the dataset.\n",
        "\n"
      ]
    },
    {
      "cell_type": "code",
      "metadata": {
        "id": "GcVgqVNy-Z1K",
        "colab_type": "code",
        "outputId": "13eea8ab-3a02-43d9-df5f-916ef7dc92a1",
        "colab": {
          "base_uri": "https://localhost:8080/",
          "height": 691
        }
      },
      "source": [
        "# Splitting data by day and concating the weekend days together\n",
        "saturday_data = data.loc[data['Weekday'] == 'Saturday']\n",
        "sunday_data = data.loc[data['Weekday'] == 'Sunday']\n",
        "weekend_data= pd.concat([saturday_data, sunday_data])\n",
        "weekend_data = weekend_data.sort_values(by='Date' ,ascending=True)\n",
        "weekend_data"
      ],
      "execution_count": 0,
      "outputs": [
        {
          "output_type": "execute_result",
          "data": {
            "text/html": [
              "<div>\n",
              "<style scoped>\n",
              "    .dataframe tbody tr th:only-of-type {\n",
              "        vertical-align: middle;\n",
              "    }\n",
              "\n",
              "    .dataframe tbody tr th {\n",
              "        vertical-align: top;\n",
              "    }\n",
              "\n",
              "    .dataframe thead th {\n",
              "        text-align: right;\n",
              "    }\n",
              "</style>\n",
              "<table border=\"1\" class=\"dataframe\">\n",
              "  <thead>\n",
              "    <tr style=\"text-align: right;\">\n",
              "      <th></th>\n",
              "      <th>Year</th>\n",
              "      <th>Month</th>\n",
              "      <th>year_month</th>\n",
              "      <th>Day</th>\n",
              "      <th>Weekday</th>\n",
              "      <th>Holiday</th>\n",
              "      <th>Max Temp (°C)</th>\n",
              "      <th>Min Temp (°C)</th>\n",
              "      <th>Mean Temp (°C)</th>\n",
              "      <th>Monthly Mean Temp (°C)</th>\n",
              "      <th>Delta Temp (°C)</th>\n",
              "      <th>Total Precip (mm)</th>\n",
              "      <th>Monthly Mean Precip (mm)</th>\n",
              "      <th>Delta Precip (mm)</th>\n",
              "      <th>Snow on Grnd (cm)</th>\n",
              "      <th>Barrie Ridership</th>\n",
              "      <th>Kitchener Ridership</th>\n",
              "      <th>Lakeshore East Ridership</th>\n",
              "      <th>Lakeshore West Ridership</th>\n",
              "      <th>Milton Ridership</th>\n",
              "      <th>Richmond Hill Ridership</th>\n",
              "      <th>Stouffville Ridership</th>\n",
              "      <th>Union Station Ridership</th>\n",
              "      <th>Total GO Ridership</th>\n",
              "      <th>Outlier</th>\n",
              "      <th>Overall Mean</th>\n",
              "      <th>2SD_above</th>\n",
              "      <th>2SD_below</th>\n",
              "    </tr>\n",
              "    <tr>\n",
              "      <th>Date</th>\n",
              "      <th></th>\n",
              "      <th></th>\n",
              "      <th></th>\n",
              "      <th></th>\n",
              "      <th></th>\n",
              "      <th></th>\n",
              "      <th></th>\n",
              "      <th></th>\n",
              "      <th></th>\n",
              "      <th></th>\n",
              "      <th></th>\n",
              "      <th></th>\n",
              "      <th></th>\n",
              "      <th></th>\n",
              "      <th></th>\n",
              "      <th></th>\n",
              "      <th></th>\n",
              "      <th></th>\n",
              "      <th></th>\n",
              "      <th></th>\n",
              "      <th></th>\n",
              "      <th></th>\n",
              "      <th></th>\n",
              "      <th></th>\n",
              "      <th></th>\n",
              "      <th></th>\n",
              "      <th></th>\n",
              "      <th></th>\n",
              "    </tr>\n",
              "  </thead>\n",
              "  <tbody>\n",
              "    <tr>\n",
              "      <th>2017-03-04</th>\n",
              "      <td>2017</td>\n",
              "      <td>3</td>\n",
              "      <td>2017-03</td>\n",
              "      <td>4</td>\n",
              "      <td>Saturday</td>\n",
              "      <td>False</td>\n",
              "      <td>-6.5</td>\n",
              "      <td>-11.9</td>\n",
              "      <td>-9.2</td>\n",
              "      <td>-0.251613</td>\n",
              "      <td>-8.948387</td>\n",
              "      <td>0.2</td>\n",
              "      <td>2.335484</td>\n",
              "      <td>-2.135484</td>\n",
              "      <td>0.5</td>\n",
              "      <td>928</td>\n",
              "      <td>480</td>\n",
              "      <td>7872</td>\n",
              "      <td>11756</td>\n",
              "      <td>208</td>\n",
              "      <td>0</td>\n",
              "      <td>246</td>\n",
              "      <td>13899</td>\n",
              "      <td>35389</td>\n",
              "      <td>False</td>\n",
              "      <td>45352.333333</td>\n",
              "      <td>73886.656469</td>\n",
              "      <td>16818.010198</td>\n",
              "    </tr>\n",
              "    <tr>\n",
              "      <th>2017-03-05</th>\n",
              "      <td>2017</td>\n",
              "      <td>3</td>\n",
              "      <td>2017-03</td>\n",
              "      <td>5</td>\n",
              "      <td>Sunday</td>\n",
              "      <td>False</td>\n",
              "      <td>-0.4</td>\n",
              "      <td>-10.6</td>\n",
              "      <td>-5.5</td>\n",
              "      <td>-0.251613</td>\n",
              "      <td>-5.248387</td>\n",
              "      <td>0.0</td>\n",
              "      <td>2.335484</td>\n",
              "      <td>-2.335484</td>\n",
              "      <td>0.5</td>\n",
              "      <td>803</td>\n",
              "      <td>398</td>\n",
              "      <td>4714</td>\n",
              "      <td>8381</td>\n",
              "      <td>169</td>\n",
              "      <td>0</td>\n",
              "      <td>156</td>\n",
              "      <td>8505</td>\n",
              "      <td>23126</td>\n",
              "      <td>False</td>\n",
              "      <td>32455.370861</td>\n",
              "      <td>53039.519234</td>\n",
              "      <td>11871.222488</td>\n",
              "    </tr>\n",
              "    <tr>\n",
              "      <th>2017-03-11</th>\n",
              "      <td>2017</td>\n",
              "      <td>3</td>\n",
              "      <td>2017-03</td>\n",
              "      <td>11</td>\n",
              "      <td>Saturday</td>\n",
              "      <td>False</td>\n",
              "      <td>-5.3</td>\n",
              "      <td>-12.5</td>\n",
              "      <td>-8.9</td>\n",
              "      <td>-0.251613</td>\n",
              "      <td>-8.648387</td>\n",
              "      <td>0.2</td>\n",
              "      <td>2.335484</td>\n",
              "      <td>-2.135484</td>\n",
              "      <td>0.5</td>\n",
              "      <td>877</td>\n",
              "      <td>463</td>\n",
              "      <td>6397</td>\n",
              "      <td>11193</td>\n",
              "      <td>174</td>\n",
              "      <td>0</td>\n",
              "      <td>199</td>\n",
              "      <td>10584</td>\n",
              "      <td>29887</td>\n",
              "      <td>False</td>\n",
              "      <td>45352.333333</td>\n",
              "      <td>73886.656469</td>\n",
              "      <td>16818.010198</td>\n",
              "    </tr>\n",
              "    <tr>\n",
              "      <th>2017-03-12</th>\n",
              "      <td>2017</td>\n",
              "      <td>3</td>\n",
              "      <td>2017-03</td>\n",
              "      <td>12</td>\n",
              "      <td>Sunday</td>\n",
              "      <td>False</td>\n",
              "      <td>-3.8</td>\n",
              "      <td>-12.5</td>\n",
              "      <td>-8.2</td>\n",
              "      <td>-0.251613</td>\n",
              "      <td>-7.948387</td>\n",
              "      <td>0.0</td>\n",
              "      <td>2.335484</td>\n",
              "      <td>-2.335484</td>\n",
              "      <td>0.5</td>\n",
              "      <td>756</td>\n",
              "      <td>345</td>\n",
              "      <td>4031</td>\n",
              "      <td>6915</td>\n",
              "      <td>97</td>\n",
              "      <td>2</td>\n",
              "      <td>102</td>\n",
              "      <td>6721</td>\n",
              "      <td>18969</td>\n",
              "      <td>False</td>\n",
              "      <td>32455.370861</td>\n",
              "      <td>53039.519234</td>\n",
              "      <td>11871.222488</td>\n",
              "    </tr>\n",
              "    <tr>\n",
              "      <th>2017-03-18</th>\n",
              "      <td>2017</td>\n",
              "      <td>3</td>\n",
              "      <td>2017-03</td>\n",
              "      <td>18</td>\n",
              "      <td>Saturday</td>\n",
              "      <td>False</td>\n",
              "      <td>3.1</td>\n",
              "      <td>0.1</td>\n",
              "      <td>1.6</td>\n",
              "      <td>-0.251613</td>\n",
              "      <td>1.851613</td>\n",
              "      <td>1.5</td>\n",
              "      <td>2.335484</td>\n",
              "      <td>-0.835484</td>\n",
              "      <td>0.0</td>\n",
              "      <td>1187</td>\n",
              "      <td>632</td>\n",
              "      <td>8199</td>\n",
              "      <td>13669</td>\n",
              "      <td>210</td>\n",
              "      <td>0</td>\n",
              "      <td>276</td>\n",
              "      <td>15697</td>\n",
              "      <td>39870</td>\n",
              "      <td>False</td>\n",
              "      <td>45352.333333</td>\n",
              "      <td>73886.656469</td>\n",
              "      <td>16818.010198</td>\n",
              "    </tr>\n",
              "    <tr>\n",
              "      <th>...</th>\n",
              "      <td>...</td>\n",
              "      <td>...</td>\n",
              "      <td>...</td>\n",
              "      <td>...</td>\n",
              "      <td>...</td>\n",
              "      <td>...</td>\n",
              "      <td>...</td>\n",
              "      <td>...</td>\n",
              "      <td>...</td>\n",
              "      <td>...</td>\n",
              "      <td>...</td>\n",
              "      <td>...</td>\n",
              "      <td>...</td>\n",
              "      <td>...</td>\n",
              "      <td>...</td>\n",
              "      <td>...</td>\n",
              "      <td>...</td>\n",
              "      <td>...</td>\n",
              "      <td>...</td>\n",
              "      <td>...</td>\n",
              "      <td>...</td>\n",
              "      <td>...</td>\n",
              "      <td>...</td>\n",
              "      <td>...</td>\n",
              "      <td>...</td>\n",
              "      <td>...</td>\n",
              "      <td>...</td>\n",
              "      <td>...</td>\n",
              "    </tr>\n",
              "    <tr>\n",
              "      <th>2020-02-15</th>\n",
              "      <td>2020</td>\n",
              "      <td>2</td>\n",
              "      <td>2020-02</td>\n",
              "      <td>15</td>\n",
              "      <td>Saturday</td>\n",
              "      <td>False</td>\n",
              "      <td>1.1</td>\n",
              "      <td>-8.7</td>\n",
              "      <td>-3.8</td>\n",
              "      <td>-1.906897</td>\n",
              "      <td>-1.893103</td>\n",
              "      <td>0.4</td>\n",
              "      <td>2.137931</td>\n",
              "      <td>-1.737931</td>\n",
              "      <td>0.0</td>\n",
              "      <td>1535</td>\n",
              "      <td>259</td>\n",
              "      <td>8070</td>\n",
              "      <td>11895</td>\n",
              "      <td>98</td>\n",
              "      <td>0</td>\n",
              "      <td>1014</td>\n",
              "      <td>15296</td>\n",
              "      <td>38167</td>\n",
              "      <td>False</td>\n",
              "      <td>45352.333333</td>\n",
              "      <td>73886.656469</td>\n",
              "      <td>16818.010198</td>\n",
              "    </tr>\n",
              "    <tr>\n",
              "      <th>2020-02-16</th>\n",
              "      <td>2020</td>\n",
              "      <td>2</td>\n",
              "      <td>2020-02</td>\n",
              "      <td>16</td>\n",
              "      <td>Sunday</td>\n",
              "      <td>False</td>\n",
              "      <td>4.3</td>\n",
              "      <td>-1.5</td>\n",
              "      <td>1.4</td>\n",
              "      <td>-1.906897</td>\n",
              "      <td>3.306897</td>\n",
              "      <td>0.4</td>\n",
              "      <td>2.137931</td>\n",
              "      <td>-1.737931</td>\n",
              "      <td>0.0</td>\n",
              "      <td>1501</td>\n",
              "      <td>169</td>\n",
              "      <td>6133</td>\n",
              "      <td>9534</td>\n",
              "      <td>73</td>\n",
              "      <td>0</td>\n",
              "      <td>795</td>\n",
              "      <td>12262</td>\n",
              "      <td>30467</td>\n",
              "      <td>False</td>\n",
              "      <td>32455.370861</td>\n",
              "      <td>53039.519234</td>\n",
              "      <td>11871.222488</td>\n",
              "    </tr>\n",
              "    <tr>\n",
              "      <th>2020-02-22</th>\n",
              "      <td>2020</td>\n",
              "      <td>2</td>\n",
              "      <td>2020-02</td>\n",
              "      <td>22</td>\n",
              "      <td>Saturday</td>\n",
              "      <td>False</td>\n",
              "      <td>5.5</td>\n",
              "      <td>-3.2</td>\n",
              "      <td>1.1</td>\n",
              "      <td>-1.906897</td>\n",
              "      <td>3.006897</td>\n",
              "      <td>0.2</td>\n",
              "      <td>2.137931</td>\n",
              "      <td>-1.937931</td>\n",
              "      <td>0.0</td>\n",
              "      <td>2323</td>\n",
              "      <td>271</td>\n",
              "      <td>9654</td>\n",
              "      <td>15429</td>\n",
              "      <td>121</td>\n",
              "      <td>0</td>\n",
              "      <td>1181</td>\n",
              "      <td>17267</td>\n",
              "      <td>46246</td>\n",
              "      <td>False</td>\n",
              "      <td>45352.333333</td>\n",
              "      <td>73886.656469</td>\n",
              "      <td>16818.010198</td>\n",
              "    </tr>\n",
              "    <tr>\n",
              "      <th>2020-02-23</th>\n",
              "      <td>2020</td>\n",
              "      <td>2</td>\n",
              "      <td>2020-02</td>\n",
              "      <td>23</td>\n",
              "      <td>Sunday</td>\n",
              "      <td>False</td>\n",
              "      <td>7.5</td>\n",
              "      <td>1.7</td>\n",
              "      <td>4.6</td>\n",
              "      <td>-1.906897</td>\n",
              "      <td>6.506897</td>\n",
              "      <td>0.8</td>\n",
              "      <td>2.137931</td>\n",
              "      <td>-1.337931</td>\n",
              "      <td>0.0</td>\n",
              "      <td>1881</td>\n",
              "      <td>186</td>\n",
              "      <td>7380</td>\n",
              "      <td>11595</td>\n",
              "      <td>81</td>\n",
              "      <td>0</td>\n",
              "      <td>923</td>\n",
              "      <td>12615</td>\n",
              "      <td>34661</td>\n",
              "      <td>False</td>\n",
              "      <td>32455.370861</td>\n",
              "      <td>53039.519234</td>\n",
              "      <td>11871.222488</td>\n",
              "    </tr>\n",
              "    <tr>\n",
              "      <th>2020-02-29</th>\n",
              "      <td>2020</td>\n",
              "      <td>2</td>\n",
              "      <td>2020-02</td>\n",
              "      <td>29</td>\n",
              "      <td>Saturday</td>\n",
              "      <td>False</td>\n",
              "      <td>-3.2</td>\n",
              "      <td>-12.8</td>\n",
              "      <td>-8.0</td>\n",
              "      <td>-1.906897</td>\n",
              "      <td>-6.093103</td>\n",
              "      <td>1.2</td>\n",
              "      <td>2.137931</td>\n",
              "      <td>-0.937931</td>\n",
              "      <td>0.0</td>\n",
              "      <td>1791</td>\n",
              "      <td>134</td>\n",
              "      <td>7107</td>\n",
              "      <td>11161</td>\n",
              "      <td>74</td>\n",
              "      <td>0</td>\n",
              "      <td>675</td>\n",
              "      <td>13307</td>\n",
              "      <td>34249</td>\n",
              "      <td>False</td>\n",
              "      <td>45352.333333</td>\n",
              "      <td>73886.656469</td>\n",
              "      <td>16818.010198</td>\n",
              "    </tr>\n",
              "  </tbody>\n",
              "</table>\n",
              "<p>313 rows × 28 columns</p>\n",
              "</div>"
            ],
            "text/plain": [
              "            Year  Month year_month  ...  Overall Mean     2SD_above     2SD_below\n",
              "Date                                ...                                          \n",
              "2017-03-04  2017      3    2017-03  ...  45352.333333  73886.656469  16818.010198\n",
              "2017-03-05  2017      3    2017-03  ...  32455.370861  53039.519234  11871.222488\n",
              "2017-03-11  2017      3    2017-03  ...  45352.333333  73886.656469  16818.010198\n",
              "2017-03-12  2017      3    2017-03  ...  32455.370861  53039.519234  11871.222488\n",
              "2017-03-18  2017      3    2017-03  ...  45352.333333  73886.656469  16818.010198\n",
              "...          ...    ...        ...  ...           ...           ...           ...\n",
              "2020-02-15  2020      2    2020-02  ...  45352.333333  73886.656469  16818.010198\n",
              "2020-02-16  2020      2    2020-02  ...  32455.370861  53039.519234  11871.222488\n",
              "2020-02-22  2020      2    2020-02  ...  45352.333333  73886.656469  16818.010198\n",
              "2020-02-23  2020      2    2020-02  ...  32455.370861  53039.519234  11871.222488\n",
              "2020-02-29  2020      2    2020-02  ...  45352.333333  73886.656469  16818.010198\n",
              "\n",
              "[313 rows x 28 columns]"
            ]
          },
          "metadata": {
            "tags": []
          },
          "execution_count": 363
        }
      ]
    },
    {
      "cell_type": "code",
      "metadata": {
        "id": "ptmUxw33-dGT",
        "colab_type": "code",
        "outputId": "df05ae8a-91a7-439c-fe5c-c85f8bd694e0",
        "colab": {
          "base_uri": "https://localhost:8080/",
          "height": 282
        }
      },
      "source": [
        "# Plotting weekday mean temperature with GO ridership\n",
        "plt.scatter(weekend_data['Mean Temp (°C)'], weekend_data['Total GO Ridership'])"
      ],
      "execution_count": 0,
      "outputs": [
        {
          "output_type": "execute_result",
          "data": {
            "text/plain": [
              "<matplotlib.collections.PathCollection at 0x7f5fcf4ddf98>"
            ]
          },
          "metadata": {
            "tags": []
          },
          "execution_count": 364
        },
        {
          "output_type": "display_data",
          "data": {
            "image/png": "[encoded data removed]",
            "text/plain": [
              "<Figure size 432x288 with 1 Axes>"
            ]
          },
          "metadata": {
            "tags": [],
            "needs_background": "light"
          }
        }
      ]
    },
    {
      "cell_type": "code",
      "metadata": {
        "id": "7yDg3995-e-E",
        "colab_type": "code",
        "outputId": "b1e3b711-959b-4cd5-d183-7238b5d02831",
        "colab": {
          "base_uri": "https://localhost:8080/",
          "height": 281
        }
      },
      "source": [
        "# Plotting Total GO Ridership on weekends over 3 years\n",
        "plt.plot(weekend_data.index, weekend_data['Total GO Ridership'], color='green')\n",
        "plt.title('GO Weekend Ridership')\n",
        "plt.show()"
      ],
      "execution_count": 0,
      "outputs": [
        {
          "output_type": "display_data",
          "data": {
            "image/png": "[encoded data removed]",
            "text/plain": [
              "<Figure size 432x288 with 1 Axes>"
            ]
          },
          "metadata": {
            "tags": [],
            "needs_background": "light"
          }
        }
      ]
    },
    {
      "cell_type": "code",
      "metadata": {
        "id": "UrYJDLdv-hn2",
        "colab_type": "code",
        "outputId": "cf7cf178-edc5-4658-8e7f-e39c74cacdb7",
        "colab": {
          "base_uri": "https://localhost:8080/",
          "height": 281
        }
      },
      "source": [
        "# Plotting mean temperature on weekends over 3 years\n",
        "plt.plot(weekend_data.index, weekend_data['Mean Temp (°C)'], color='red')\n",
        "plt.title('Weekend Mean Temp')\n",
        "plt.show()"
      ],
      "execution_count": 0,
      "outputs": [
        {
          "output_type": "display_data",
          "data": {
            "image/png": "[encoded data removed]",
            "text/plain": [
              "<Figure size 432x288 with 1 Axes>"
            ]
          },
          "metadata": {
            "tags": [],
            "needs_background": "light"
          }
        }
      ]
    },
    {
      "cell_type": "markdown",
      "metadata": {
        "id": "1hq2RPQN-j9X",
        "colab_type": "text"
      },
      "source": [
        "Here it is clear that there is a positive correlation between the weekend temperature and GO ridership (across all GO lines). It makes sense to attempt to build a machine learning model to predict the GO ridership (across all lines) for a given temperature."
      ]
    },
    {
      "cell_type": "markdown",
      "metadata": {
        "id": "_jaO7Rrc-lbb",
        "colab_type": "text"
      },
      "source": [
        "**Building a Linear Regression Model for Weekend GO Ridership**"
      ]
    },
    {
      "cell_type": "markdown",
      "metadata": {
        "id": "OVE137tV-okv",
        "colab_type": "text"
      },
      "source": [
        "For the linear regression model, Total GO Ridership and Mean Temperature will be used.\n",
        "\n"
      ]
    },
    {
      "cell_type": "code",
      "metadata": {
        "id": "IGH22Yu0-qvo",
        "colab_type": "code",
        "outputId": "905c915a-dfd6-4103-d401-041fe2608a6c",
        "colab": {
          "base_uri": "https://localhost:8080/",
          "height": 51
        }
      },
      "source": [
        "#Using linear regression to fit a model and printing the coefficient and intercept\n",
        "Y = weekend_data['Total GO Ridership']\n",
        "X = weekend_data['Mean Temp (°C)'].values.reshape(-1, 1)\n",
        "\n",
        "weekend_model = sklearn.linear_model.LinearRegression().fit(X,Y)\n",
        "print(weekend_model.coef_)\n",
        "print(weekend_model.intercept_)"
      ],
      "execution_count": 0,
      "outputs": [
        {
          "output_type": "stream",
          "text": [
            "[671.86679794]\n",
            "32640.777367924864\n"
          ],
          "name": "stdout"
        }
      ]
    },
    {
      "cell_type": "code",
      "metadata": {
        "id": "DklAQSrb-sf9",
        "colab_type": "code",
        "outputId": "f1f3a058-6223-4cf1-a2f3-34a2a4686157",
        "colab": {
          "base_uri": "https://localhost:8080/",
          "height": 265
        }
      },
      "source": [
        "# Plotting Mean Temp (°C), Total GO Ridership, and the model\n",
        "weekend_predict = weekend_model.predict(X)\n",
        "plt.scatter(x=weekend_data['Mean Temp (°C)'], y=weekend_data['Total GO Ridership'])\n",
        "plt.plot(X, weekend_predict, 'r-')\n",
        "plt.show()"
      ],
      "execution_count": 0,
      "outputs": [
        {
          "output_type": "display_data",
          "data": {
            "image/png": "[encoded data removed]",
            "text/plain": [
              "<Figure size 432x288 with 1 Axes>"
            ]
          },
          "metadata": {
            "tags": [],
            "needs_background": "light"
          }
        }
      ]
    },
    {
      "cell_type": "markdown",
      "metadata": {
        "id": "REoZYORT-uP4",
        "colab_type": "text"
      },
      "source": [
        "Above, the red line represents the best fit produced by the model. The model can be used to predict the GO ridership (across all lines) for any given temperature.\n",
        "\n"
      ]
    },
    {
      "cell_type": "code",
      "metadata": {
        "id": "IrzEsydy-vwR",
        "colab_type": "code",
        "outputId": "edc1c17f-2767-4b5a-9e5a-6d691921d7d9",
        "colab": {
          "base_uri": "https://localhost:8080/",
          "height": 34
        }
      },
      "source": [
        "print(weekend_model.predict([[-5],[5],[15],[25]]))"
      ],
      "execution_count": 0,
      "outputs": [
        {
          "output_type": "stream",
          "text": [
            "[29281.44337823 36000.11135762 42718.77933702 49437.44731641]\n"
          ],
          "name": "stdout"
        }
      ]
    },
    {
      "cell_type": "markdown",
      "metadata": {
        "id": "ldOyoZkE-yBK",
        "colab_type": "text"
      },
      "source": [
        "Predicting the GO ridership for a tempreature of -5°C gives us a ridership of 29281. Similiarly for: 5°C = 36000, 15°C = 42718, 25°C = 49437."
      ]
    },
    {
      "cell_type": "code",
      "metadata": {
        "id": "yBlpaQk4-z2P",
        "colab_type": "code",
        "outputId": "71444881-4646-4350-869b-7c250b8c7b72",
        "colab": {
          "base_uri": "https://localhost:8080/",
          "height": 34
        }
      },
      "source": [
        "# Calculating Root Mean Square Error\n",
        "mse = mean_squared_error(Y, weekend_predict)\n",
        "rmse = np.sqrt(mse)\n",
        "print(rmse)"
      ],
      "execution_count": 0,
      "outputs": [
        {
          "output_type": "stream",
          "text": [
            "12055.52441187086\n"
          ],
          "name": "stdout"
        }
      ]
    },
    {
      "cell_type": "markdown",
      "metadata": {
        "id": "IxTO1lRL-1II",
        "colab_type": "text"
      },
      "source": [
        "The Root Mean Square Error(RMSE) here is 12055. The best fit should have the lowest possible value for RMSE. Looking at the data, 12055 is fairly low for a data that has range from 0 to 120000. This is a fairly good model!"
      ]
    }
  ]
}