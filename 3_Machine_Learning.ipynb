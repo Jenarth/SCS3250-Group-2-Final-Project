{
  "nbformat": 4,
  "nbformat_minor": 0,
  "metadata": {
    "colab": {
      "name": "3 Machine Learning.ipynb",
      "provenance": [],
      "collapsed_sections": [],
      "include_colab_link": true
    },
    "kernelspec": {
      "name": "python3",
      "display_name": "Python 3"
    }
  },
  "cells": [
    {
      "cell_type": "markdown",
      "metadata": {
        "id": "view-in-github",
        "colab_type": "text"
      },
      "source": [
        "<a href=\"https://colab.research.google.com/github/Jenarth/SCS3250-Group-2-Final-Project/blob/master/3_Machine_Learning.ipynb\" target=\"_parent\"><img src=\"https://colab.research.google.com/assets/colab-badge.svg\" alt=\"Open In Colab\"/></a>"
      ]
    },
    {
      "cell_type": "markdown",
      "metadata": {
        "id": "kZ__xB3R0NPL",
        "colab_type": "text"
      },
      "source": [
        "---\n",
        "# **PHASE 3: MACHINE LEARNING**\n",
        "---"
      ]
    },
    {
      "cell_type": "markdown",
      "metadata": {
        "id": "jlet9iGr1Kkf",
        "colab_type": "text"
      },
      "source": [
        "## Linear Regression with Weekdays - Part 1"
      ]
    },
    {
      "cell_type": "code",
      "metadata": {
        "id": "WkYs-fDvzfqT",
        "colab_type": "code",
        "colab": {}
      },
      "source": [
        "import pandas as pd  \n",
        "import numpy as np  \n",
        "import matplotlib.pyplot as plt  \n",
        "import seaborn as sns\n",
        "from sklearn.model_selection import train_test_split \n",
        "from sklearn.linear_model import LinearRegression\n",
        "from sklearn import metrics\n",
        "%matplotlib inline"
      ],
      "execution_count": 0,
      "outputs": []
    },
    {
      "cell_type": "code",
      "metadata": {
        "id": "z5qxclGkzmIB",
        "colab_type": "code",
        "colab": {}
      },
      "source": [
        "# Let's import the dataset\n",
        "\n",
        "url = 'https://raw.githubusercontent.com/Jenarth/SCS3250-Group-2-Final-Project/master/Final%20Dataset.csv'\n",
        "df = pd.read_csv(url, header = 0, sep =',',parse_dates=['Date'])"
      ],
      "execution_count": 0,
      "outputs": []
    },
    {
      "cell_type": "code",
      "metadata": {
        "id": "OWlVry5lzojI",
        "colab_type": "code",
        "outputId": "6bf508b3-d6b6-4b72-baf0-2430a63aae20",
        "colab": {
          "base_uri": "https://localhost:8080/",
          "height": 360
        }
      },
      "source": [
        "df.head()"
      ],
      "execution_count": 29,
      "outputs": [
        {
          "output_type": "execute_result",
          "data": {
            "text/html": [
              "<div>\n",
              "<style scoped>\n",
              "    .dataframe tbody tr th:only-of-type {\n",
              "        vertical-align: middle;\n",
              "    }\n",
              "\n",
              "    .dataframe tbody tr th {\n",
              "        vertical-align: top;\n",
              "    }\n",
              "\n",
              "    .dataframe thead th {\n",
              "        text-align: right;\n",
              "    }\n",
              "</style>\n",
              "<table border=\"1\" class=\"dataframe\">\n",
              "  <thead>\n",
              "    <tr style=\"text-align: right;\">\n",
              "      <th></th>\n",
              "      <th>Date</th>\n",
              "      <th>Year</th>\n",
              "      <th>Month</th>\n",
              "      <th>year_month</th>\n",
              "      <th>Day</th>\n",
              "      <th>Weekday</th>\n",
              "      <th>Holiday</th>\n",
              "      <th>Max Temp (°C)</th>\n",
              "      <th>Min Temp (°C)</th>\n",
              "      <th>Mean Temp (°C)</th>\n",
              "      <th>Monthly Mean Temp (°C)</th>\n",
              "      <th>Delta Temp (°C)</th>\n",
              "      <th>Total Precip (mm)</th>\n",
              "      <th>Monthly Mean Precip (mm)</th>\n",
              "      <th>Delta Precip (mm)</th>\n",
              "      <th>Snow on Grnd (cm)</th>\n",
              "      <th>Barrie Ridership</th>\n",
              "      <th>Kitchener Ridership</th>\n",
              "      <th>Lakeshore East Ridership</th>\n",
              "      <th>Lakeshore West Ridership</th>\n",
              "      <th>Milton Ridership</th>\n",
              "      <th>Richmond Hill Ridership</th>\n",
              "      <th>Stouffville Ridership</th>\n",
              "      <th>Union Station Ridership</th>\n",
              "      <th>Total GO Ridership</th>\n",
              "      <th>Outlier</th>\n",
              "      <th>Overall Mean</th>\n",
              "      <th>2SD_above</th>\n",
              "      <th>2SD_below</th>\n",
              "    </tr>\n",
              "  </thead>\n",
              "  <tbody>\n",
              "    <tr>\n",
              "      <th>0</th>\n",
              "      <td>2017-03-01</td>\n",
              "      <td>2017</td>\n",
              "      <td>3</td>\n",
              "      <td>2017-03</td>\n",
              "      <td>1</td>\n",
              "      <td>Wednesday</td>\n",
              "      <td>False</td>\n",
              "      <td>13.1</td>\n",
              "      <td>-1.9</td>\n",
              "      <td>5.6</td>\n",
              "      <td>0.116129</td>\n",
              "      <td>5.483871</td>\n",
              "      <td>18.4</td>\n",
              "      <td>2.490323</td>\n",
              "      <td>15.909677</td>\n",
              "      <td>0.0</td>\n",
              "      <td>74235</td>\n",
              "      <td>100664</td>\n",
              "      <td>187314</td>\n",
              "      <td>243965</td>\n",
              "      <td>115524</td>\n",
              "      <td>41759</td>\n",
              "      <td>65258</td>\n",
              "      <td>709669</td>\n",
              "      <td>1538388</td>\n",
              "      <td>False</td>\n",
              "      <td>1.684403e+06</td>\n",
              "      <td>1.885102e+06</td>\n",
              "      <td>1.483705e+06</td>\n",
              "    </tr>\n",
              "    <tr>\n",
              "      <th>1</th>\n",
              "      <td>2017-03-02</td>\n",
              "      <td>2017</td>\n",
              "      <td>3</td>\n",
              "      <td>2017-03</td>\n",
              "      <td>2</td>\n",
              "      <td>Thursday</td>\n",
              "      <td>False</td>\n",
              "      <td>-1.3</td>\n",
              "      <td>-6.4</td>\n",
              "      <td>-3.9</td>\n",
              "      <td>0.116129</td>\n",
              "      <td>-4.016129</td>\n",
              "      <td>0.2</td>\n",
              "      <td>2.490323</td>\n",
              "      <td>-2.290323</td>\n",
              "      <td>0.5</td>\n",
              "      <td>73575</td>\n",
              "      <td>98834</td>\n",
              "      <td>193721</td>\n",
              "      <td>251245</td>\n",
              "      <td>115976</td>\n",
              "      <td>41975</td>\n",
              "      <td>64723</td>\n",
              "      <td>710233</td>\n",
              "      <td>1550282</td>\n",
              "      <td>False</td>\n",
              "      <td>1.667167e+06</td>\n",
              "      <td>1.877280e+06</td>\n",
              "      <td>1.457055e+06</td>\n",
              "    </tr>\n",
              "    <tr>\n",
              "      <th>2</th>\n",
              "      <td>2017-03-03</td>\n",
              "      <td>2017</td>\n",
              "      <td>3</td>\n",
              "      <td>2017-03</td>\n",
              "      <td>3</td>\n",
              "      <td>Friday</td>\n",
              "      <td>False</td>\n",
              "      <td>-4.3</td>\n",
              "      <td>-8.1</td>\n",
              "      <td>-6.2</td>\n",
              "      <td>0.116129</td>\n",
              "      <td>-6.316129</td>\n",
              "      <td>0.0</td>\n",
              "      <td>2.490323</td>\n",
              "      <td>-2.490323</td>\n",
              "      <td>0.5</td>\n",
              "      <td>65999</td>\n",
              "      <td>90692</td>\n",
              "      <td>176474</td>\n",
              "      <td>233488</td>\n",
              "      <td>104386</td>\n",
              "      <td>38029</td>\n",
              "      <td>58671</td>\n",
              "      <td>645929</td>\n",
              "      <td>1413668</td>\n",
              "      <td>False</td>\n",
              "      <td>1.513443e+06</td>\n",
              "      <td>1.722796e+06</td>\n",
              "      <td>1.304090e+06</td>\n",
              "    </tr>\n",
              "    <tr>\n",
              "      <th>3</th>\n",
              "      <td>2017-03-04</td>\n",
              "      <td>2017</td>\n",
              "      <td>3</td>\n",
              "      <td>2017-03</td>\n",
              "      <td>4</td>\n",
              "      <td>Saturday</td>\n",
              "      <td>False</td>\n",
              "      <td>-6.5</td>\n",
              "      <td>-11.9</td>\n",
              "      <td>-9.2</td>\n",
              "      <td>0.116129</td>\n",
              "      <td>-9.316129</td>\n",
              "      <td>0.2</td>\n",
              "      <td>2.490323</td>\n",
              "      <td>-2.290323</td>\n",
              "      <td>0.5</td>\n",
              "      <td>6852</td>\n",
              "      <td>3517</td>\n",
              "      <td>58477</td>\n",
              "      <td>87326</td>\n",
              "      <td>1518</td>\n",
              "      <td>0</td>\n",
              "      <td>1792</td>\n",
              "      <td>102982</td>\n",
              "      <td>262464</td>\n",
              "      <td>False</td>\n",
              "      <td>3.363528e+05</td>\n",
              "      <td>5.477078e+05</td>\n",
              "      <td>1.249978e+05</td>\n",
              "    </tr>\n",
              "    <tr>\n",
              "      <th>4</th>\n",
              "      <td>2017-03-05</td>\n",
              "      <td>2017</td>\n",
              "      <td>3</td>\n",
              "      <td>2017-03</td>\n",
              "      <td>5</td>\n",
              "      <td>Sunday</td>\n",
              "      <td>False</td>\n",
              "      <td>-0.4</td>\n",
              "      <td>-10.6</td>\n",
              "      <td>-5.5</td>\n",
              "      <td>0.116129</td>\n",
              "      <td>-5.616129</td>\n",
              "      <td>0.0</td>\n",
              "      <td>2.490323</td>\n",
              "      <td>-2.490323</td>\n",
              "      <td>0.5</td>\n",
              "      <td>5933</td>\n",
              "      <td>2917</td>\n",
              "      <td>35034</td>\n",
              "      <td>62331</td>\n",
              "      <td>1234</td>\n",
              "      <td>0</td>\n",
              "      <td>1135</td>\n",
              "      <td>62998</td>\n",
              "      <td>171582</td>\n",
              "      <td>False</td>\n",
              "      <td>2.407631e+05</td>\n",
              "      <td>3.932424e+05</td>\n",
              "      <td>8.828385e+04</td>\n",
              "    </tr>\n",
              "  </tbody>\n",
              "</table>\n",
              "</div>"
            ],
            "text/plain": [
              "        Date  Year  Month  ...  Overall Mean     2SD_above     2SD_below\n",
              "0 2017-03-01  2017      3  ...  1.684403e+06  1.885102e+06  1.483705e+06\n",
              "1 2017-03-02  2017      3  ...  1.667167e+06  1.877280e+06  1.457055e+06\n",
              "2 2017-03-03  2017      3  ...  1.513443e+06  1.722796e+06  1.304090e+06\n",
              "3 2017-03-04  2017      3  ...  3.363528e+05  5.477078e+05  1.249978e+05\n",
              "4 2017-03-05  2017      3  ...  2.407631e+05  3.932424e+05  8.828385e+04\n",
              "\n",
              "[5 rows x 29 columns]"
            ]
          },
          "metadata": {
            "tags": []
          },
          "execution_count": 29
        }
      ]
    },
    {
      "cell_type": "code",
      "metadata": {
        "id": "MGm5RlhJzqdP",
        "colab_type": "code",
        "outputId": "8058d757-92ee-4c7b-a25e-192d67c172f1",
        "colab": {
          "base_uri": "https://localhost:8080/",
          "height": 360
        }
      },
      "source": [
        "# Convert weekdays into integers\n",
        "\n",
        "weekday = {'Monday':1 , 'Tuesday':2 , 'Wednesday':3, 'Thursday':4, 'Friday':5, 'Saturday':6, 'Sunday':7}\n",
        "df.Weekday = [weekday[item] for item in df.Weekday]\n",
        "df.head()"
      ],
      "execution_count": 30,
      "outputs": [
        {
          "output_type": "execute_result",
          "data": {
            "text/html": [
              "<div>\n",
              "<style scoped>\n",
              "    .dataframe tbody tr th:only-of-type {\n",
              "        vertical-align: middle;\n",
              "    }\n",
              "\n",
              "    .dataframe tbody tr th {\n",
              "        vertical-align: top;\n",
              "    }\n",
              "\n",
              "    .dataframe thead th {\n",
              "        text-align: right;\n",
              "    }\n",
              "</style>\n",
              "<table border=\"1\" class=\"dataframe\">\n",
              "  <thead>\n",
              "    <tr style=\"text-align: right;\">\n",
              "      <th></th>\n",
              "      <th>Date</th>\n",
              "      <th>Year</th>\n",
              "      <th>Month</th>\n",
              "      <th>year_month</th>\n",
              "      <th>Day</th>\n",
              "      <th>Weekday</th>\n",
              "      <th>Holiday</th>\n",
              "      <th>Max Temp (°C)</th>\n",
              "      <th>Min Temp (°C)</th>\n",
              "      <th>Mean Temp (°C)</th>\n",
              "      <th>Monthly Mean Temp (°C)</th>\n",
              "      <th>Delta Temp (°C)</th>\n",
              "      <th>Total Precip (mm)</th>\n",
              "      <th>Monthly Mean Precip (mm)</th>\n",
              "      <th>Delta Precip (mm)</th>\n",
              "      <th>Snow on Grnd (cm)</th>\n",
              "      <th>Barrie Ridership</th>\n",
              "      <th>Kitchener Ridership</th>\n",
              "      <th>Lakeshore East Ridership</th>\n",
              "      <th>Lakeshore West Ridership</th>\n",
              "      <th>Milton Ridership</th>\n",
              "      <th>Richmond Hill Ridership</th>\n",
              "      <th>Stouffville Ridership</th>\n",
              "      <th>Union Station Ridership</th>\n",
              "      <th>Total GO Ridership</th>\n",
              "      <th>Outlier</th>\n",
              "      <th>Overall Mean</th>\n",
              "      <th>2SD_above</th>\n",
              "      <th>2SD_below</th>\n",
              "    </tr>\n",
              "  </thead>\n",
              "  <tbody>\n",
              "    <tr>\n",
              "      <th>0</th>\n",
              "      <td>2017-03-01</td>\n",
              "      <td>2017</td>\n",
              "      <td>3</td>\n",
              "      <td>2017-03</td>\n",
              "      <td>1</td>\n",
              "      <td>3</td>\n",
              "      <td>False</td>\n",
              "      <td>13.1</td>\n",
              "      <td>-1.9</td>\n",
              "      <td>5.6</td>\n",
              "      <td>0.116129</td>\n",
              "      <td>5.483871</td>\n",
              "      <td>18.4</td>\n",
              "      <td>2.490323</td>\n",
              "      <td>15.909677</td>\n",
              "      <td>0.0</td>\n",
              "      <td>74235</td>\n",
              "      <td>100664</td>\n",
              "      <td>187314</td>\n",
              "      <td>243965</td>\n",
              "      <td>115524</td>\n",
              "      <td>41759</td>\n",
              "      <td>65258</td>\n",
              "      <td>709669</td>\n",
              "      <td>1538388</td>\n",
              "      <td>False</td>\n",
              "      <td>1.684403e+06</td>\n",
              "      <td>1.885102e+06</td>\n",
              "      <td>1.483705e+06</td>\n",
              "    </tr>\n",
              "    <tr>\n",
              "      <th>1</th>\n",
              "      <td>2017-03-02</td>\n",
              "      <td>2017</td>\n",
              "      <td>3</td>\n",
              "      <td>2017-03</td>\n",
              "      <td>2</td>\n",
              "      <td>4</td>\n",
              "      <td>False</td>\n",
              "      <td>-1.3</td>\n",
              "      <td>-6.4</td>\n",
              "      <td>-3.9</td>\n",
              "      <td>0.116129</td>\n",
              "      <td>-4.016129</td>\n",
              "      <td>0.2</td>\n",
              "      <td>2.490323</td>\n",
              "      <td>-2.290323</td>\n",
              "      <td>0.5</td>\n",
              "      <td>73575</td>\n",
              "      <td>98834</td>\n",
              "      <td>193721</td>\n",
              "      <td>251245</td>\n",
              "      <td>115976</td>\n",
              "      <td>41975</td>\n",
              "      <td>64723</td>\n",
              "      <td>710233</td>\n",
              "      <td>1550282</td>\n",
              "      <td>False</td>\n",
              "      <td>1.667167e+06</td>\n",
              "      <td>1.877280e+06</td>\n",
              "      <td>1.457055e+06</td>\n",
              "    </tr>\n",
              "    <tr>\n",
              "      <th>2</th>\n",
              "      <td>2017-03-03</td>\n",
              "      <td>2017</td>\n",
              "      <td>3</td>\n",
              "      <td>2017-03</td>\n",
              "      <td>3</td>\n",
              "      <td>5</td>\n",
              "      <td>False</td>\n",
              "      <td>-4.3</td>\n",
              "      <td>-8.1</td>\n",
              "      <td>-6.2</td>\n",
              "      <td>0.116129</td>\n",
              "      <td>-6.316129</td>\n",
              "      <td>0.0</td>\n",
              "      <td>2.490323</td>\n",
              "      <td>-2.490323</td>\n",
              "      <td>0.5</td>\n",
              "      <td>65999</td>\n",
              "      <td>90692</td>\n",
              "      <td>176474</td>\n",
              "      <td>233488</td>\n",
              "      <td>104386</td>\n",
              "      <td>38029</td>\n",
              "      <td>58671</td>\n",
              "      <td>645929</td>\n",
              "      <td>1413668</td>\n",
              "      <td>False</td>\n",
              "      <td>1.513443e+06</td>\n",
              "      <td>1.722796e+06</td>\n",
              "      <td>1.304090e+06</td>\n",
              "    </tr>\n",
              "    <tr>\n",
              "      <th>3</th>\n",
              "      <td>2017-03-04</td>\n",
              "      <td>2017</td>\n",
              "      <td>3</td>\n",
              "      <td>2017-03</td>\n",
              "      <td>4</td>\n",
              "      <td>6</td>\n",
              "      <td>False</td>\n",
              "      <td>-6.5</td>\n",
              "      <td>-11.9</td>\n",
              "      <td>-9.2</td>\n",
              "      <td>0.116129</td>\n",
              "      <td>-9.316129</td>\n",
              "      <td>0.2</td>\n",
              "      <td>2.490323</td>\n",
              "      <td>-2.290323</td>\n",
              "      <td>0.5</td>\n",
              "      <td>6852</td>\n",
              "      <td>3517</td>\n",
              "      <td>58477</td>\n",
              "      <td>87326</td>\n",
              "      <td>1518</td>\n",
              "      <td>0</td>\n",
              "      <td>1792</td>\n",
              "      <td>102982</td>\n",
              "      <td>262464</td>\n",
              "      <td>False</td>\n",
              "      <td>3.363528e+05</td>\n",
              "      <td>5.477078e+05</td>\n",
              "      <td>1.249978e+05</td>\n",
              "    </tr>\n",
              "    <tr>\n",
              "      <th>4</th>\n",
              "      <td>2017-03-05</td>\n",
              "      <td>2017</td>\n",
              "      <td>3</td>\n",
              "      <td>2017-03</td>\n",
              "      <td>5</td>\n",
              "      <td>7</td>\n",
              "      <td>False</td>\n",
              "      <td>-0.4</td>\n",
              "      <td>-10.6</td>\n",
              "      <td>-5.5</td>\n",
              "      <td>0.116129</td>\n",
              "      <td>-5.616129</td>\n",
              "      <td>0.0</td>\n",
              "      <td>2.490323</td>\n",
              "      <td>-2.490323</td>\n",
              "      <td>0.5</td>\n",
              "      <td>5933</td>\n",
              "      <td>2917</td>\n",
              "      <td>35034</td>\n",
              "      <td>62331</td>\n",
              "      <td>1234</td>\n",
              "      <td>0</td>\n",
              "      <td>1135</td>\n",
              "      <td>62998</td>\n",
              "      <td>171582</td>\n",
              "      <td>False</td>\n",
              "      <td>2.407631e+05</td>\n",
              "      <td>3.932424e+05</td>\n",
              "      <td>8.828385e+04</td>\n",
              "    </tr>\n",
              "  </tbody>\n",
              "</table>\n",
              "</div>"
            ],
            "text/plain": [
              "        Date  Year  Month  ...  Overall Mean     2SD_above     2SD_below\n",
              "0 2017-03-01  2017      3  ...  1.684403e+06  1.885102e+06  1.483705e+06\n",
              "1 2017-03-02  2017      3  ...  1.667167e+06  1.877280e+06  1.457055e+06\n",
              "2 2017-03-03  2017      3  ...  1.513443e+06  1.722796e+06  1.304090e+06\n",
              "3 2017-03-04  2017      3  ...  3.363528e+05  5.477078e+05  1.249978e+05\n",
              "4 2017-03-05  2017      3  ...  2.407631e+05  3.932424e+05  8.828385e+04\n",
              "\n",
              "[5 rows x 29 columns]"
            ]
          },
          "metadata": {
            "tags": []
          },
          "execution_count": 30
        }
      ]
    },
    {
      "cell_type": "code",
      "metadata": {
        "id": "wJei_xEAzuf1",
        "colab_type": "code",
        "outputId": "1c1bc750-eccb-4d0c-9ebc-6186261341a3",
        "colab": {
          "base_uri": "https://localhost:8080/",
          "height": 216
        }
      },
      "source": [
        "# Let's create a new dataset to only select the month of January\n",
        "\n",
        "jan_df = df[(df.Month == 1)& (df.Year != 2017)]\n",
        "jan_df.head(2)"
      ],
      "execution_count": 31,
      "outputs": [
        {
          "output_type": "execute_result",
          "data": {
            "text/html": [
              "<div>\n",
              "<style scoped>\n",
              "    .dataframe tbody tr th:only-of-type {\n",
              "        vertical-align: middle;\n",
              "    }\n",
              "\n",
              "    .dataframe tbody tr th {\n",
              "        vertical-align: top;\n",
              "    }\n",
              "\n",
              "    .dataframe thead th {\n",
              "        text-align: right;\n",
              "    }\n",
              "</style>\n",
              "<table border=\"1\" class=\"dataframe\">\n",
              "  <thead>\n",
              "    <tr style=\"text-align: right;\">\n",
              "      <th></th>\n",
              "      <th>Date</th>\n",
              "      <th>Year</th>\n",
              "      <th>Month</th>\n",
              "      <th>year_month</th>\n",
              "      <th>Day</th>\n",
              "      <th>Weekday</th>\n",
              "      <th>Holiday</th>\n",
              "      <th>Max Temp (°C)</th>\n",
              "      <th>Min Temp (°C)</th>\n",
              "      <th>Mean Temp (°C)</th>\n",
              "      <th>Monthly Mean Temp (°C)</th>\n",
              "      <th>Delta Temp (°C)</th>\n",
              "      <th>Total Precip (mm)</th>\n",
              "      <th>Monthly Mean Precip (mm)</th>\n",
              "      <th>Delta Precip (mm)</th>\n",
              "      <th>Snow on Grnd (cm)</th>\n",
              "      <th>Barrie Ridership</th>\n",
              "      <th>Kitchener Ridership</th>\n",
              "      <th>Lakeshore East Ridership</th>\n",
              "      <th>Lakeshore West Ridership</th>\n",
              "      <th>Milton Ridership</th>\n",
              "      <th>Richmond Hill Ridership</th>\n",
              "      <th>Stouffville Ridership</th>\n",
              "      <th>Union Station Ridership</th>\n",
              "      <th>Total GO Ridership</th>\n",
              "      <th>Outlier</th>\n",
              "      <th>Overall Mean</th>\n",
              "      <th>2SD_above</th>\n",
              "      <th>2SD_below</th>\n",
              "    </tr>\n",
              "  </thead>\n",
              "  <tbody>\n",
              "    <tr>\n",
              "      <th>306</th>\n",
              "      <td>2018-01-01</td>\n",
              "      <td>2018</td>\n",
              "      <td>1</td>\n",
              "      <td>2018-01</td>\n",
              "      <td>1</td>\n",
              "      <td>1</td>\n",
              "      <td>True</td>\n",
              "      <td>-7.9</td>\n",
              "      <td>-18.6</td>\n",
              "      <td>-13.3</td>\n",
              "      <td>-4.383871</td>\n",
              "      <td>-8.916129</td>\n",
              "      <td>0.2</td>\n",
              "      <td>1.929032</td>\n",
              "      <td>-1.729032</td>\n",
              "      <td>0.0</td>\n",
              "      <td>6307</td>\n",
              "      <td>2688</td>\n",
              "      <td>28512</td>\n",
              "      <td>47203</td>\n",
              "      <td>700</td>\n",
              "      <td>0</td>\n",
              "      <td>954</td>\n",
              "      <td>64691</td>\n",
              "      <td>151055</td>\n",
              "      <td>True</td>\n",
              "      <td>NaN</td>\n",
              "      <td>NaN</td>\n",
              "      <td>NaN</td>\n",
              "    </tr>\n",
              "    <tr>\n",
              "      <th>307</th>\n",
              "      <td>2018-01-02</td>\n",
              "      <td>2018</td>\n",
              "      <td>1</td>\n",
              "      <td>2018-01</td>\n",
              "      <td>2</td>\n",
              "      <td>2</td>\n",
              "      <td>False</td>\n",
              "      <td>-7.1</td>\n",
              "      <td>-12.5</td>\n",
              "      <td>-9.8</td>\n",
              "      <td>-4.383871</td>\n",
              "      <td>-5.416129</td>\n",
              "      <td>0.0</td>\n",
              "      <td>1.929032</td>\n",
              "      <td>-1.929032</td>\n",
              "      <td>0.0</td>\n",
              "      <td>57133</td>\n",
              "      <td>78465</td>\n",
              "      <td>148978</td>\n",
              "      <td>186825</td>\n",
              "      <td>89191</td>\n",
              "      <td>32313</td>\n",
              "      <td>51693</td>\n",
              "      <td>551372</td>\n",
              "      <td>1195970</td>\n",
              "      <td>True</td>\n",
              "      <td>NaN</td>\n",
              "      <td>NaN</td>\n",
              "      <td>NaN</td>\n",
              "    </tr>\n",
              "  </tbody>\n",
              "</table>\n",
              "</div>"
            ],
            "text/plain": [
              "          Date  Year  Month  ... Overall Mean  2SD_above  2SD_below\n",
              "306 2018-01-01  2018      1  ...          NaN        NaN        NaN\n",
              "307 2018-01-02  2018      1  ...          NaN        NaN        NaN\n",
              "\n",
              "[2 rows x 29 columns]"
            ]
          },
          "metadata": {
            "tags": []
          },
          "execution_count": 31
        }
      ]
    },
    {
      "cell_type": "markdown",
      "metadata": {
        "id": "A-anpixxzysA",
        "colab_type": "text"
      },
      "source": [
        "Let's plot our data points on a graph to eyeball our dataset. We will take a look specifically at Union Station, a central station in Toronto."
      ]
    },
    {
      "cell_type": "code",
      "metadata": {
        "id": "ULBzIxu5zvCx",
        "colab_type": "code",
        "outputId": "2804bc1c-12d9-4d71-faff-cab787a29036",
        "colab": {
          "base_uri": "https://localhost:8080/",
          "height": 386
        }
      },
      "source": [
        "sns.relplot(x='Weekday',y='Union Station Ridership', data=jan_df,hue='Year',palette='Paired')"
      ],
      "execution_count": 32,
      "outputs": [
        {
          "output_type": "execute_result",
          "data": {
            "text/plain": [
              "<seaborn.axisgrid.FacetGrid at 0x7f5af8622be0>"
            ]
          },
          "metadata": {
            "tags": []
          },
          "execution_count": 32
        },
        {
          "output_type": "display_data",
          "data": {
            "image/png": "[encoded data removed]",
            "text/plain": [
              "<Figure size 421.375x360 with 1 Axes>"
            ]
          },
          "metadata": {
            "tags": [],
            "needs_background": "light"
          }
        }
      ]
    },
    {
      "cell_type": "markdown",
      "metadata": {
        "id": "MOjYdeAs0fNj",
        "colab_type": "text"
      },
      "source": [
        "We notice one outliner by year where there is very little Riderships: the 1st of January.\n",
        "\n",
        "Let's check our average Riderships for Union Station."
      ]
    },
    {
      "cell_type": "code",
      "metadata": {
        "id": "taDGUOA60hEa",
        "colab_type": "code",
        "colab": {
          "base_uri": "https://localhost:8080/",
          "height": 253
        },
        "outputId": "5ff3e883-2ac0-4b25-d6b2-8b2b457549d4"
      },
      "source": [
        "plt.figure(figsize=(5,3))\n",
        "plt.tight_layout()\n",
        "sns.distplot(jan_df['Union Station Ridership'])"
      ],
      "execution_count": 33,
      "outputs": [
        {
          "output_type": "execute_result",
          "data": {
            "text/plain": [
              "<matplotlib.axes._subplots.AxesSubplot at 0x7f5af856b278>"
            ]
          },
          "metadata": {
            "tags": []
          },
          "execution_count": 33
        },
        {
          "output_type": "display_data",
          "data": {
            "image/png": "[encoded data removed]",
            "text/plain": [
              "<Figure size 360x216 with 1 Axes>"
            ]
          },
          "metadata": {
            "tags": [],
            "needs_background": "light"
          }
        }
      ]
    },
    {
      "cell_type": "code",
      "metadata": {
        "id": "TEDauRdx0kvS",
        "colab_type": "code",
        "colab": {}
      },
      "source": [
        "# Now let's divide the data into attributes ('Weekday') and labels ('Union Station Riderships').\n",
        "\n",
        "X=jan_df['Weekday'].values.reshape(-1,1)\n",
        "y=jan_df['Union Station Ridership'].values.reshape(-1,1)"
      ],
      "execution_count": 0,
      "outputs": []
    },
    {
      "cell_type": "code",
      "metadata": {
        "id": "bGGw6sSt0m44",
        "colab_type": "code",
        "colab": {}
      },
      "source": [
        "#Split the data to 20% of the data to test set.\n",
        "\n",
        "X_train, X_test, y_train, y_test = train_test_split(X, y, test_size=0.2, random_state=0)"
      ],
      "execution_count": 0,
      "outputs": []
    },
    {
      "cell_type": "code",
      "metadata": {
        "id": "m88xJZKO0nWi",
        "colab_type": "code",
        "colab": {
          "base_uri": "https://localhost:8080/",
          "height": 34
        },
        "outputId": "300d2aa8-66ff-408c-8ab2-6467e63e09ec"
      },
      "source": [
        "# Train the algorithm\n",
        "\n",
        "regressor = LinearRegression()  \n",
        "regressor.fit(X_train, y_train) #training the algorithm"
      ],
      "execution_count": 36,
      "outputs": [
        {
          "output_type": "execute_result",
          "data": {
            "text/plain": [
              "LinearRegression(copy_X=True, fit_intercept=True, n_jobs=None, normalize=False)"
            ]
          },
          "metadata": {
            "tags": []
          },
          "execution_count": 36
        }
      ]
    },
    {
      "cell_type": "code",
      "metadata": {
        "id": "LU5BRGt30qxy",
        "colab_type": "code",
        "colab": {
          "base_uri": "https://localhost:8080/",
          "height": 51
        },
        "outputId": "61c2133e-0dd8-4fdd-a6fb-40e6fbc3dfb9"
      },
      "source": [
        "#To retrieve the intercept:\n",
        "print(regressor.intercept_)\n",
        "\n",
        "#For retrieving the slope:\n",
        "print(regressor.coef_)"
      ],
      "execution_count": 37,
      "outputs": [
        {
          "output_type": "stream",
          "text": [
            "[985859.3182057]\n",
            "[[-113608.43190178]]\n"
          ],
          "name": "stdout"
        }
      ]
    },
    {
      "cell_type": "code",
      "metadata": {
        "id": "J3PC9lLe0sMH",
        "colab_type": "code",
        "colab": {}
      },
      "source": [
        "y_pred = regressor.predict(X_test)"
      ],
      "execution_count": 0,
      "outputs": []
    },
    {
      "cell_type": "code",
      "metadata": {
        "id": "A9aA66uK0tAU",
        "colab_type": "code",
        "colab": {
          "base_uri": "https://localhost:8080/",
          "height": 638
        },
        "outputId": "3a146320-ceca-4401-86d5-1b98403d84f5"
      },
      "source": [
        "# Let's use our test data and see how accurately our algorithm predicts the percentage score.\n",
        "\n",
        "df = pd.DataFrame({'Actual': y_test.flatten(), 'Predicted': y_pred.flatten()}).round()\n",
        "df"
      ],
      "execution_count": 39,
      "outputs": [
        {
          "output_type": "execute_result",
          "data": {
            "text/html": [
              "<div>\n",
              "<style scoped>\n",
              "    .dataframe tbody tr th:only-of-type {\n",
              "        vertical-align: middle;\n",
              "    }\n",
              "\n",
              "    .dataframe tbody tr th {\n",
              "        vertical-align: top;\n",
              "    }\n",
              "\n",
              "    .dataframe thead th {\n",
              "        text-align: right;\n",
              "    }\n",
              "</style>\n",
              "<table border=\"1\" class=\"dataframe\">\n",
              "  <thead>\n",
              "    <tr style=\"text-align: right;\">\n",
              "      <th></th>\n",
              "      <th>Actual</th>\n",
              "      <th>Predicted</th>\n",
              "    </tr>\n",
              "  </thead>\n",
              "  <tbody>\n",
              "    <tr>\n",
              "      <th>0</th>\n",
              "      <td>601694</td>\n",
              "      <td>645034.0</td>\n",
              "    </tr>\n",
              "    <tr>\n",
              "      <th>1</th>\n",
              "      <td>772849</td>\n",
              "      <td>645034.0</td>\n",
              "    </tr>\n",
              "    <tr>\n",
              "      <th>2</th>\n",
              "      <td>716820</td>\n",
              "      <td>417817.0</td>\n",
              "    </tr>\n",
              "    <tr>\n",
              "      <th>3</th>\n",
              "      <td>753435</td>\n",
              "      <td>645034.0</td>\n",
              "    </tr>\n",
              "    <tr>\n",
              "      <th>4</th>\n",
              "      <td>71131</td>\n",
              "      <td>190600.0</td>\n",
              "    </tr>\n",
              "    <tr>\n",
              "      <th>5</th>\n",
              "      <td>681773</td>\n",
              "      <td>872251.0</td>\n",
              "    </tr>\n",
              "    <tr>\n",
              "      <th>6</th>\n",
              "      <td>740309</td>\n",
              "      <td>531426.0</td>\n",
              "    </tr>\n",
              "    <tr>\n",
              "      <th>7</th>\n",
              "      <td>809108</td>\n",
              "      <td>758642.0</td>\n",
              "    </tr>\n",
              "    <tr>\n",
              "      <th>8</th>\n",
              "      <td>624124</td>\n",
              "      <td>531426.0</td>\n",
              "    </tr>\n",
              "    <tr>\n",
              "      <th>9</th>\n",
              "      <td>836998</td>\n",
              "      <td>531426.0</td>\n",
              "    </tr>\n",
              "    <tr>\n",
              "      <th>10</th>\n",
              "      <td>708301</td>\n",
              "      <td>417817.0</td>\n",
              "    </tr>\n",
              "    <tr>\n",
              "      <th>11</th>\n",
              "      <td>716471</td>\n",
              "      <td>872251.0</td>\n",
              "    </tr>\n",
              "    <tr>\n",
              "      <th>12</th>\n",
              "      <td>90307</td>\n",
              "      <td>304209.0</td>\n",
              "    </tr>\n",
              "    <tr>\n",
              "      <th>13</th>\n",
              "      <td>56018</td>\n",
              "      <td>190600.0</td>\n",
              "    </tr>\n",
              "    <tr>\n",
              "      <th>14</th>\n",
              "      <td>50399</td>\n",
              "      <td>190600.0</td>\n",
              "    </tr>\n",
              "    <tr>\n",
              "      <th>15</th>\n",
              "      <td>517477</td>\n",
              "      <td>758642.0</td>\n",
              "    </tr>\n",
              "    <tr>\n",
              "      <th>16</th>\n",
              "      <td>750249</td>\n",
              "      <td>758642.0</td>\n",
              "    </tr>\n",
              "    <tr>\n",
              "      <th>17</th>\n",
              "      <td>751468</td>\n",
              "      <td>758642.0</td>\n",
              "    </tr>\n",
              "    <tr>\n",
              "      <th>18</th>\n",
              "      <td>820981</td>\n",
              "      <td>758642.0</td>\n",
              "    </tr>\n",
              "  </tbody>\n",
              "</table>\n",
              "</div>"
            ],
            "text/plain": [
              "    Actual  Predicted\n",
              "0   601694   645034.0\n",
              "1   772849   645034.0\n",
              "2   716820   417817.0\n",
              "3   753435   645034.0\n",
              "4    71131   190600.0\n",
              "5   681773   872251.0\n",
              "6   740309   531426.0\n",
              "7   809108   758642.0\n",
              "8   624124   531426.0\n",
              "9   836998   531426.0\n",
              "10  708301   417817.0\n",
              "11  716471   872251.0\n",
              "12   90307   304209.0\n",
              "13   56018   190600.0\n",
              "14   50399   190600.0\n",
              "15  517477   758642.0\n",
              "16  750249   758642.0\n",
              "17  751468   758642.0\n",
              "18  820981   758642.0"
            ]
          },
          "metadata": {
            "tags": []
          },
          "execution_count": 39
        }
      ]
    },
    {
      "cell_type": "code",
      "metadata": {
        "id": "tcywh5sO0wl4",
        "colab_type": "code",
        "colab": {
          "base_uri": "https://localhost:8080/",
          "height": 486
        },
        "outputId": "d44af0ee-d79f-4fe5-e4e5-55cce626ad5b"
      },
      "source": [
        "# Let's plot our results \n",
        "\n",
        "\n",
        "df1 = df.head(15)\n",
        "df1.plot(kind='bar',figsize=(13,8))\n",
        "plt.grid(which='major', linestyle='-', linewidth='0.5', color='green')\n",
        "plt.grid(which='minor', linestyle=':', linewidth='0.5', color='black')\n",
        "plt.show()"
      ],
      "execution_count": 40,
      "outputs": [
        {
          "output_type": "display_data",
          "data": {
            "image/png": "[encoded data removed]",
            "text/plain": [
              "<Figure size 936x576 with 1 Axes>"
            ]
          },
          "metadata": {
            "tags": [],
            "needs_background": "light"
          }
        }
      ]
    },
    {
      "cell_type": "markdown",
      "metadata": {
        "id": "48AbIuJk1YDF",
        "colab_type": "text"
      },
      "source": [
        "## Linear Regression with Weekdays - Part 2"
      ]
    },
    {
      "cell_type": "code",
      "metadata": {
        "id": "LF1gSMIw1bc9",
        "colab_type": "code",
        "colab": {}
      },
      "source": [
        "df = pd.read_csv(url, header = 0, sep =',',parse_dates=['Date'])"
      ],
      "execution_count": 0,
      "outputs": []
    },
    {
      "cell_type": "code",
      "metadata": {
        "id": "SSCyjM1w2MME",
        "colab_type": "code",
        "colab": {
          "base_uri": "https://localhost:8080/",
          "height": 360
        },
        "outputId": "7a7ad99a-bd70-49a4-cddc-f81e73e7793a"
      },
      "source": [
        "# Let's remove the outliers as well as the holidays period\n",
        "\n",
        "data= df.loc[(-df.Holiday)&(-df.Outlier)]\n",
        "data.head(5)"
      ],
      "execution_count": 42,
      "outputs": [
        {
          "output_type": "execute_result",
          "data": {
            "text/html": [
              "<div>\n",
              "<style scoped>\n",
              "    .dataframe tbody tr th:only-of-type {\n",
              "        vertical-align: middle;\n",
              "    }\n",
              "\n",
              "    .dataframe tbody tr th {\n",
              "        vertical-align: top;\n",
              "    }\n",
              "\n",
              "    .dataframe thead th {\n",
              "        text-align: right;\n",
              "    }\n",
              "</style>\n",
              "<table border=\"1\" class=\"dataframe\">\n",
              "  <thead>\n",
              "    <tr style=\"text-align: right;\">\n",
              "      <th></th>\n",
              "      <th>Date</th>\n",
              "      <th>Year</th>\n",
              "      <th>Month</th>\n",
              "      <th>year_month</th>\n",
              "      <th>Day</th>\n",
              "      <th>Weekday</th>\n",
              "      <th>Holiday</th>\n",
              "      <th>Max Temp (°C)</th>\n",
              "      <th>Min Temp (°C)</th>\n",
              "      <th>Mean Temp (°C)</th>\n",
              "      <th>Monthly Mean Temp (°C)</th>\n",
              "      <th>Delta Temp (°C)</th>\n",
              "      <th>Total Precip (mm)</th>\n",
              "      <th>Monthly Mean Precip (mm)</th>\n",
              "      <th>Delta Precip (mm)</th>\n",
              "      <th>Snow on Grnd (cm)</th>\n",
              "      <th>Barrie Ridership</th>\n",
              "      <th>Kitchener Ridership</th>\n",
              "      <th>Lakeshore East Ridership</th>\n",
              "      <th>Lakeshore West Ridership</th>\n",
              "      <th>Milton Ridership</th>\n",
              "      <th>Richmond Hill Ridership</th>\n",
              "      <th>Stouffville Ridership</th>\n",
              "      <th>Union Station Ridership</th>\n",
              "      <th>Total GO Ridership</th>\n",
              "      <th>Outlier</th>\n",
              "      <th>Overall Mean</th>\n",
              "      <th>2SD_above</th>\n",
              "      <th>2SD_below</th>\n",
              "    </tr>\n",
              "  </thead>\n",
              "  <tbody>\n",
              "    <tr>\n",
              "      <th>0</th>\n",
              "      <td>2017-03-01</td>\n",
              "      <td>2017</td>\n",
              "      <td>3</td>\n",
              "      <td>2017-03</td>\n",
              "      <td>1</td>\n",
              "      <td>Wednesday</td>\n",
              "      <td>False</td>\n",
              "      <td>13.1</td>\n",
              "      <td>-1.9</td>\n",
              "      <td>5.6</td>\n",
              "      <td>0.116129</td>\n",
              "      <td>5.483871</td>\n",
              "      <td>18.4</td>\n",
              "      <td>2.490323</td>\n",
              "      <td>15.909677</td>\n",
              "      <td>0.0</td>\n",
              "      <td>74235</td>\n",
              "      <td>100664</td>\n",
              "      <td>187314</td>\n",
              "      <td>243965</td>\n",
              "      <td>115524</td>\n",
              "      <td>41759</td>\n",
              "      <td>65258</td>\n",
              "      <td>709669</td>\n",
              "      <td>1538388</td>\n",
              "      <td>False</td>\n",
              "      <td>1.684403e+06</td>\n",
              "      <td>1.885102e+06</td>\n",
              "      <td>1.483705e+06</td>\n",
              "    </tr>\n",
              "    <tr>\n",
              "      <th>1</th>\n",
              "      <td>2017-03-02</td>\n",
              "      <td>2017</td>\n",
              "      <td>3</td>\n",
              "      <td>2017-03</td>\n",
              "      <td>2</td>\n",
              "      <td>Thursday</td>\n",
              "      <td>False</td>\n",
              "      <td>-1.3</td>\n",
              "      <td>-6.4</td>\n",
              "      <td>-3.9</td>\n",
              "      <td>0.116129</td>\n",
              "      <td>-4.016129</td>\n",
              "      <td>0.2</td>\n",
              "      <td>2.490323</td>\n",
              "      <td>-2.290323</td>\n",
              "      <td>0.5</td>\n",
              "      <td>73575</td>\n",
              "      <td>98834</td>\n",
              "      <td>193721</td>\n",
              "      <td>251245</td>\n",
              "      <td>115976</td>\n",
              "      <td>41975</td>\n",
              "      <td>64723</td>\n",
              "      <td>710233</td>\n",
              "      <td>1550282</td>\n",
              "      <td>False</td>\n",
              "      <td>1.667167e+06</td>\n",
              "      <td>1.877280e+06</td>\n",
              "      <td>1.457055e+06</td>\n",
              "    </tr>\n",
              "    <tr>\n",
              "      <th>2</th>\n",
              "      <td>2017-03-03</td>\n",
              "      <td>2017</td>\n",
              "      <td>3</td>\n",
              "      <td>2017-03</td>\n",
              "      <td>3</td>\n",
              "      <td>Friday</td>\n",
              "      <td>False</td>\n",
              "      <td>-4.3</td>\n",
              "      <td>-8.1</td>\n",
              "      <td>-6.2</td>\n",
              "      <td>0.116129</td>\n",
              "      <td>-6.316129</td>\n",
              "      <td>0.0</td>\n",
              "      <td>2.490323</td>\n",
              "      <td>-2.490323</td>\n",
              "      <td>0.5</td>\n",
              "      <td>65999</td>\n",
              "      <td>90692</td>\n",
              "      <td>176474</td>\n",
              "      <td>233488</td>\n",
              "      <td>104386</td>\n",
              "      <td>38029</td>\n",
              "      <td>58671</td>\n",
              "      <td>645929</td>\n",
              "      <td>1413668</td>\n",
              "      <td>False</td>\n",
              "      <td>1.513443e+06</td>\n",
              "      <td>1.722796e+06</td>\n",
              "      <td>1.304090e+06</td>\n",
              "    </tr>\n",
              "    <tr>\n",
              "      <th>3</th>\n",
              "      <td>2017-03-04</td>\n",
              "      <td>2017</td>\n",
              "      <td>3</td>\n",
              "      <td>2017-03</td>\n",
              "      <td>4</td>\n",
              "      <td>Saturday</td>\n",
              "      <td>False</td>\n",
              "      <td>-6.5</td>\n",
              "      <td>-11.9</td>\n",
              "      <td>-9.2</td>\n",
              "      <td>0.116129</td>\n",
              "      <td>-9.316129</td>\n",
              "      <td>0.2</td>\n",
              "      <td>2.490323</td>\n",
              "      <td>-2.290323</td>\n",
              "      <td>0.5</td>\n",
              "      <td>6852</td>\n",
              "      <td>3517</td>\n",
              "      <td>58477</td>\n",
              "      <td>87326</td>\n",
              "      <td>1518</td>\n",
              "      <td>0</td>\n",
              "      <td>1792</td>\n",
              "      <td>102982</td>\n",
              "      <td>262464</td>\n",
              "      <td>False</td>\n",
              "      <td>3.363528e+05</td>\n",
              "      <td>5.477078e+05</td>\n",
              "      <td>1.249978e+05</td>\n",
              "    </tr>\n",
              "    <tr>\n",
              "      <th>4</th>\n",
              "      <td>2017-03-05</td>\n",
              "      <td>2017</td>\n",
              "      <td>3</td>\n",
              "      <td>2017-03</td>\n",
              "      <td>5</td>\n",
              "      <td>Sunday</td>\n",
              "      <td>False</td>\n",
              "      <td>-0.4</td>\n",
              "      <td>-10.6</td>\n",
              "      <td>-5.5</td>\n",
              "      <td>0.116129</td>\n",
              "      <td>-5.616129</td>\n",
              "      <td>0.0</td>\n",
              "      <td>2.490323</td>\n",
              "      <td>-2.490323</td>\n",
              "      <td>0.5</td>\n",
              "      <td>5933</td>\n",
              "      <td>2917</td>\n",
              "      <td>35034</td>\n",
              "      <td>62331</td>\n",
              "      <td>1234</td>\n",
              "      <td>0</td>\n",
              "      <td>1135</td>\n",
              "      <td>62998</td>\n",
              "      <td>171582</td>\n",
              "      <td>False</td>\n",
              "      <td>2.407631e+05</td>\n",
              "      <td>3.932424e+05</td>\n",
              "      <td>8.828385e+04</td>\n",
              "    </tr>\n",
              "  </tbody>\n",
              "</table>\n",
              "</div>"
            ],
            "text/plain": [
              "        Date  Year  Month  ...  Overall Mean     2SD_above     2SD_below\n",
              "0 2017-03-01  2017      3  ...  1.684403e+06  1.885102e+06  1.483705e+06\n",
              "1 2017-03-02  2017      3  ...  1.667167e+06  1.877280e+06  1.457055e+06\n",
              "2 2017-03-03  2017      3  ...  1.513443e+06  1.722796e+06  1.304090e+06\n",
              "3 2017-03-04  2017      3  ...  3.363528e+05  5.477078e+05  1.249978e+05\n",
              "4 2017-03-05  2017      3  ...  2.407631e+05  3.932424e+05  8.828385e+04\n",
              "\n",
              "[5 rows x 29 columns]"
            ]
          },
          "metadata": {
            "tags": []
          },
          "execution_count": 42
        }
      ]
    },
    {
      "cell_type": "code",
      "metadata": {
        "id": "ei86FAjV2N9M",
        "colab_type": "code",
        "colab": {
          "base_uri": "https://localhost:8080/",
          "height": 462
        },
        "outputId": "d6e54642-6468-4047-f8aa-7feaa000bbe8"
      },
      "source": [
        "# Convert weekdays into integers\n",
        "\n",
        "weekday = {'Monday':1 , 'Tuesday':2 , 'Wednesday':3, 'Thursday':4, 'Friday':5, 'Saturday':6, 'Sunday':7}\n",
        "data.Weekday = [weekday[item] for item in data.Weekday]\n",
        "data.head()"
      ],
      "execution_count": 43,
      "outputs": [
        {
          "output_type": "stream",
          "text": [
            "/usr/local/lib/python3.6/dist-packages/pandas/core/generic.py:5303: SettingWithCopyWarning: \n",
            "A value is trying to be set on a copy of a slice from a DataFrame.\n",
            "Try using .loc[row_indexer,col_indexer] = value instead\n",
            "\n",
            "See the caveats in the documentation: https://pandas.pydata.org/pandas-docs/stable/user_guide/indexing.html#returning-a-view-versus-a-copy\n",
            "  self[name] = value\n"
          ],
          "name": "stderr"
        },
        {
          "output_type": "execute_result",
          "data": {
            "text/html": [
              "<div>\n",
              "<style scoped>\n",
              "    .dataframe tbody tr th:only-of-type {\n",
              "        vertical-align: middle;\n",
              "    }\n",
              "\n",
              "    .dataframe tbody tr th {\n",
              "        vertical-align: top;\n",
              "    }\n",
              "\n",
              "    .dataframe thead th {\n",
              "        text-align: right;\n",
              "    }\n",
              "</style>\n",
              "<table border=\"1\" class=\"dataframe\">\n",
              "  <thead>\n",
              "    <tr style=\"text-align: right;\">\n",
              "      <th></th>\n",
              "      <th>Date</th>\n",
              "      <th>Year</th>\n",
              "      <th>Month</th>\n",
              "      <th>year_month</th>\n",
              "      <th>Day</th>\n",
              "      <th>Weekday</th>\n",
              "      <th>Holiday</th>\n",
              "      <th>Max Temp (°C)</th>\n",
              "      <th>Min Temp (°C)</th>\n",
              "      <th>Mean Temp (°C)</th>\n",
              "      <th>Monthly Mean Temp (°C)</th>\n",
              "      <th>Delta Temp (°C)</th>\n",
              "      <th>Total Precip (mm)</th>\n",
              "      <th>Monthly Mean Precip (mm)</th>\n",
              "      <th>Delta Precip (mm)</th>\n",
              "      <th>Snow on Grnd (cm)</th>\n",
              "      <th>Barrie Ridership</th>\n",
              "      <th>Kitchener Ridership</th>\n",
              "      <th>Lakeshore East Ridership</th>\n",
              "      <th>Lakeshore West Ridership</th>\n",
              "      <th>Milton Ridership</th>\n",
              "      <th>Richmond Hill Ridership</th>\n",
              "      <th>Stouffville Ridership</th>\n",
              "      <th>Union Station Ridership</th>\n",
              "      <th>Total GO Ridership</th>\n",
              "      <th>Outlier</th>\n",
              "      <th>Overall Mean</th>\n",
              "      <th>2SD_above</th>\n",
              "      <th>2SD_below</th>\n",
              "    </tr>\n",
              "  </thead>\n",
              "  <tbody>\n",
              "    <tr>\n",
              "      <th>0</th>\n",
              "      <td>2017-03-01</td>\n",
              "      <td>2017</td>\n",
              "      <td>3</td>\n",
              "      <td>2017-03</td>\n",
              "      <td>1</td>\n",
              "      <td>3</td>\n",
              "      <td>False</td>\n",
              "      <td>13.1</td>\n",
              "      <td>-1.9</td>\n",
              "      <td>5.6</td>\n",
              "      <td>0.116129</td>\n",
              "      <td>5.483871</td>\n",
              "      <td>18.4</td>\n",
              "      <td>2.490323</td>\n",
              "      <td>15.909677</td>\n",
              "      <td>0.0</td>\n",
              "      <td>74235</td>\n",
              "      <td>100664</td>\n",
              "      <td>187314</td>\n",
              "      <td>243965</td>\n",
              "      <td>115524</td>\n",
              "      <td>41759</td>\n",
              "      <td>65258</td>\n",
              "      <td>709669</td>\n",
              "      <td>1538388</td>\n",
              "      <td>False</td>\n",
              "      <td>1.684403e+06</td>\n",
              "      <td>1.885102e+06</td>\n",
              "      <td>1.483705e+06</td>\n",
              "    </tr>\n",
              "    <tr>\n",
              "      <th>1</th>\n",
              "      <td>2017-03-02</td>\n",
              "      <td>2017</td>\n",
              "      <td>3</td>\n",
              "      <td>2017-03</td>\n",
              "      <td>2</td>\n",
              "      <td>4</td>\n",
              "      <td>False</td>\n",
              "      <td>-1.3</td>\n",
              "      <td>-6.4</td>\n",
              "      <td>-3.9</td>\n",
              "      <td>0.116129</td>\n",
              "      <td>-4.016129</td>\n",
              "      <td>0.2</td>\n",
              "      <td>2.490323</td>\n",
              "      <td>-2.290323</td>\n",
              "      <td>0.5</td>\n",
              "      <td>73575</td>\n",
              "      <td>98834</td>\n",
              "      <td>193721</td>\n",
              "      <td>251245</td>\n",
              "      <td>115976</td>\n",
              "      <td>41975</td>\n",
              "      <td>64723</td>\n",
              "      <td>710233</td>\n",
              "      <td>1550282</td>\n",
              "      <td>False</td>\n",
              "      <td>1.667167e+06</td>\n",
              "      <td>1.877280e+06</td>\n",
              "      <td>1.457055e+06</td>\n",
              "    </tr>\n",
              "    <tr>\n",
              "      <th>2</th>\n",
              "      <td>2017-03-03</td>\n",
              "      <td>2017</td>\n",
              "      <td>3</td>\n",
              "      <td>2017-03</td>\n",
              "      <td>3</td>\n",
              "      <td>5</td>\n",
              "      <td>False</td>\n",
              "      <td>-4.3</td>\n",
              "      <td>-8.1</td>\n",
              "      <td>-6.2</td>\n",
              "      <td>0.116129</td>\n",
              "      <td>-6.316129</td>\n",
              "      <td>0.0</td>\n",
              "      <td>2.490323</td>\n",
              "      <td>-2.490323</td>\n",
              "      <td>0.5</td>\n",
              "      <td>65999</td>\n",
              "      <td>90692</td>\n",
              "      <td>176474</td>\n",
              "      <td>233488</td>\n",
              "      <td>104386</td>\n",
              "      <td>38029</td>\n",
              "      <td>58671</td>\n",
              "      <td>645929</td>\n",
              "      <td>1413668</td>\n",
              "      <td>False</td>\n",
              "      <td>1.513443e+06</td>\n",
              "      <td>1.722796e+06</td>\n",
              "      <td>1.304090e+06</td>\n",
              "    </tr>\n",
              "    <tr>\n",
              "      <th>3</th>\n",
              "      <td>2017-03-04</td>\n",
              "      <td>2017</td>\n",
              "      <td>3</td>\n",
              "      <td>2017-03</td>\n",
              "      <td>4</td>\n",
              "      <td>6</td>\n",
              "      <td>False</td>\n",
              "      <td>-6.5</td>\n",
              "      <td>-11.9</td>\n",
              "      <td>-9.2</td>\n",
              "      <td>0.116129</td>\n",
              "      <td>-9.316129</td>\n",
              "      <td>0.2</td>\n",
              "      <td>2.490323</td>\n",
              "      <td>-2.290323</td>\n",
              "      <td>0.5</td>\n",
              "      <td>6852</td>\n",
              "      <td>3517</td>\n",
              "      <td>58477</td>\n",
              "      <td>87326</td>\n",
              "      <td>1518</td>\n",
              "      <td>0</td>\n",
              "      <td>1792</td>\n",
              "      <td>102982</td>\n",
              "      <td>262464</td>\n",
              "      <td>False</td>\n",
              "      <td>3.363528e+05</td>\n",
              "      <td>5.477078e+05</td>\n",
              "      <td>1.249978e+05</td>\n",
              "    </tr>\n",
              "    <tr>\n",
              "      <th>4</th>\n",
              "      <td>2017-03-05</td>\n",
              "      <td>2017</td>\n",
              "      <td>3</td>\n",
              "      <td>2017-03</td>\n",
              "      <td>5</td>\n",
              "      <td>7</td>\n",
              "      <td>False</td>\n",
              "      <td>-0.4</td>\n",
              "      <td>-10.6</td>\n",
              "      <td>-5.5</td>\n",
              "      <td>0.116129</td>\n",
              "      <td>-5.616129</td>\n",
              "      <td>0.0</td>\n",
              "      <td>2.490323</td>\n",
              "      <td>-2.490323</td>\n",
              "      <td>0.5</td>\n",
              "      <td>5933</td>\n",
              "      <td>2917</td>\n",
              "      <td>35034</td>\n",
              "      <td>62331</td>\n",
              "      <td>1234</td>\n",
              "      <td>0</td>\n",
              "      <td>1135</td>\n",
              "      <td>62998</td>\n",
              "      <td>171582</td>\n",
              "      <td>False</td>\n",
              "      <td>2.407631e+05</td>\n",
              "      <td>3.932424e+05</td>\n",
              "      <td>8.828385e+04</td>\n",
              "    </tr>\n",
              "  </tbody>\n",
              "</table>\n",
              "</div>"
            ],
            "text/plain": [
              "        Date  Year  Month  ...  Overall Mean     2SD_above     2SD_below\n",
              "0 2017-03-01  2017      3  ...  1.684403e+06  1.885102e+06  1.483705e+06\n",
              "1 2017-03-02  2017      3  ...  1.667167e+06  1.877280e+06  1.457055e+06\n",
              "2 2017-03-03  2017      3  ...  1.513443e+06  1.722796e+06  1.304090e+06\n",
              "3 2017-03-04  2017      3  ...  3.363528e+05  5.477078e+05  1.249978e+05\n",
              "4 2017-03-05  2017      3  ...  2.407631e+05  3.932424e+05  8.828385e+04\n",
              "\n",
              "[5 rows x 29 columns]"
            ]
          },
          "metadata": {
            "tags": []
          },
          "execution_count": 43
        }
      ]
    },
    {
      "cell_type": "markdown",
      "metadata": {
        "id": "9OFPb_CV2WXs",
        "colab_type": "text"
      },
      "source": [
        "Let's plot our data points on a graph. Here again will take a look specifically at Union Station, a central station in Toronto."
      ]
    },
    {
      "cell_type": "code",
      "metadata": {
        "id": "VWX8ZswE2aRh",
        "colab_type": "code",
        "colab": {
          "base_uri": "https://localhost:8080/",
          "height": 386
        },
        "outputId": "16b64db1-e508-41c6-d3b0-7ad1c6bb61a7"
      },
      "source": [
        "sns.relplot(x='Weekday',y='Union Station Ridership', data=data,hue='Year',palette='Paired')"
      ],
      "execution_count": 44,
      "outputs": [
        {
          "output_type": "execute_result",
          "data": {
            "text/plain": [
              "<seaborn.axisgrid.FacetGrid at 0x7f5af8482b00>"
            ]
          },
          "metadata": {
            "tags": []
          },
          "execution_count": 44
        },
        {
          "output_type": "display_data",
          "data": {
            "image/png": "[encoded data removed]",
            "text/plain": [
              "<Figure size 421.375x360 with 1 Axes>"
            ]
          },
          "metadata": {
            "tags": [],
            "needs_background": "light"
          }
        }
      ]
    },
    {
      "cell_type": "code",
      "metadata": {
        "id": "gLqOcgqQ2cJa",
        "colab_type": "code",
        "colab": {
          "base_uri": "https://localhost:8080/",
          "height": 253
        },
        "outputId": "656ecf84-987b-4985-e891-6f5ef516ba25"
      },
      "source": [
        "plt.figure(figsize=(5,3))\n",
        "plt.tight_layout()\n",
        "sns.distplot(data['Union Station Ridership'])"
      ],
      "execution_count": 45,
      "outputs": [
        {
          "output_type": "execute_result",
          "data": {
            "text/plain": [
              "<matplotlib.axes._subplots.AxesSubplot at 0x7f5af8472a58>"
            ]
          },
          "metadata": {
            "tags": []
          },
          "execution_count": 45
        },
        {
          "output_type": "display_data",
          "data": {
            "image/png": "[encoded data removed]",
            "text/plain": [
              "<Figure size 360x216 with 1 Axes>"
            ]
          },
          "metadata": {
            "tags": [],
            "needs_background": "light"
          }
        }
      ]
    },
    {
      "cell_type": "code",
      "metadata": {
        "id": "7iJ3HHji2eO2",
        "colab_type": "code",
        "colab": {}
      },
      "source": [
        "# Now let's divide the data into attributes ('Weekday') and labels ('Union Station Riderships').\n",
        "\n",
        "X=data['Weekday'].values.reshape(-1,1)\n",
        "y=data['Union Station Ridership'].values.reshape(-1,1)"
      ],
      "execution_count": 0,
      "outputs": []
    },
    {
      "cell_type": "code",
      "metadata": {
        "id": "mZhyclKX2fxp",
        "colab_type": "code",
        "colab": {}
      },
      "source": [
        "#Split the data to 20% of the data to test set.\n",
        "\n",
        "X_train, X_test, y_train, y_test = train_test_split(X, y, test_size=0.2, random_state=0)"
      ],
      "execution_count": 0,
      "outputs": []
    },
    {
      "cell_type": "code",
      "metadata": {
        "id": "lRY5DfWJ2hSy",
        "colab_type": "code",
        "colab": {
          "base_uri": "https://localhost:8080/",
          "height": 34
        },
        "outputId": "6f67404c-e199-433b-d72c-3afd1d26aaa6"
      },
      "source": [
        "# Train the algorithm\n",
        "\n",
        "regressor = LinearRegression()  \n",
        "regressor.fit(X_train, y_train) #training the algorithm"
      ],
      "execution_count": 48,
      "outputs": [
        {
          "output_type": "execute_result",
          "data": {
            "text/plain": [
              "LinearRegression(copy_X=True, fit_intercept=True, n_jobs=None, normalize=False)"
            ]
          },
          "metadata": {
            "tags": []
          },
          "execution_count": 48
        }
      ]
    },
    {
      "cell_type": "code",
      "metadata": {
        "id": "xWwu7Wsb2it5",
        "colab_type": "code",
        "colab": {
          "base_uri": "https://localhost:8080/",
          "height": 51
        },
        "outputId": "f35e8dfa-4408-490d-fea9-8678c147367e"
      },
      "source": [
        "#To retrieve the intercept:\n",
        "print(regressor.intercept_)\n",
        "\n",
        "#For retrieving the slope:\n",
        "print(regressor.coef_)"
      ],
      "execution_count": 49,
      "outputs": [
        {
          "output_type": "stream",
          "text": [
            "[1050212.44404898]\n",
            "[[-122555.76497414]]\n"
          ],
          "name": "stdout"
        }
      ]
    },
    {
      "cell_type": "code",
      "metadata": {
        "id": "ivBpLs5Z2kKE",
        "colab_type": "code",
        "colab": {}
      },
      "source": [
        "y_pred = regressor.predict(X_test)"
      ],
      "execution_count": 0,
      "outputs": []
    },
    {
      "cell_type": "code",
      "metadata": {
        "id": "S5AeroUP2me_",
        "colab_type": "code",
        "colab": {
          "base_uri": "https://localhost:8080/",
          "height": 419
        },
        "outputId": "e2fe7209-8e72-4f22-cdec-ca71f681456b"
      },
      "source": [
        "# Let's use our test data and see how accurately our algorithm predicts the percentage score.\n",
        "\n",
        "df = pd.DataFrame({'Actual': y_test.flatten(), 'Predicted': y_pred.flatten()}).round()\n",
        "df"
      ],
      "execution_count": 51,
      "outputs": [
        {
          "output_type": "execute_result",
          "data": {
            "text/html": [
              "<div>\n",
              "<style scoped>\n",
              "    .dataframe tbody tr th:only-of-type {\n",
              "        vertical-align: middle;\n",
              "    }\n",
              "\n",
              "    .dataframe tbody tr th {\n",
              "        vertical-align: top;\n",
              "    }\n",
              "\n",
              "    .dataframe thead th {\n",
              "        text-align: right;\n",
              "    }\n",
              "</style>\n",
              "<table border=\"1\" class=\"dataframe\">\n",
              "  <thead>\n",
              "    <tr style=\"text-align: right;\">\n",
              "      <th></th>\n",
              "      <th>Actual</th>\n",
              "      <th>Predicted</th>\n",
              "    </tr>\n",
              "  </thead>\n",
              "  <tbody>\n",
              "    <tr>\n",
              "      <th>0</th>\n",
              "      <td>796254</td>\n",
              "      <td>805101.0</td>\n",
              "    </tr>\n",
              "    <tr>\n",
              "      <th>1</th>\n",
              "      <td>744960</td>\n",
              "      <td>559989.0</td>\n",
              "    </tr>\n",
              "    <tr>\n",
              "      <th>2</th>\n",
              "      <td>715057</td>\n",
              "      <td>805101.0</td>\n",
              "    </tr>\n",
              "    <tr>\n",
              "      <th>3</th>\n",
              "      <td>709744</td>\n",
              "      <td>805101.0</td>\n",
              "    </tr>\n",
              "    <tr>\n",
              "      <th>4</th>\n",
              "      <td>806557</td>\n",
              "      <td>805101.0</td>\n",
              "    </tr>\n",
              "    <tr>\n",
              "      <th>...</th>\n",
              "      <td>...</td>\n",
              "      <td>...</td>\n",
              "    </tr>\n",
              "    <tr>\n",
              "      <th>194</th>\n",
              "      <td>727884</td>\n",
              "      <td>559989.0</td>\n",
              "    </tr>\n",
              "    <tr>\n",
              "      <th>195</th>\n",
              "      <td>726795</td>\n",
              "      <td>805101.0</td>\n",
              "    </tr>\n",
              "    <tr>\n",
              "      <th>196</th>\n",
              "      <td>731299</td>\n",
              "      <td>437434.0</td>\n",
              "    </tr>\n",
              "    <tr>\n",
              "      <th>197</th>\n",
              "      <td>751670</td>\n",
              "      <td>559989.0</td>\n",
              "    </tr>\n",
              "    <tr>\n",
              "      <th>198</th>\n",
              "      <td>63077</td>\n",
              "      <td>192322.0</td>\n",
              "    </tr>\n",
              "  </tbody>\n",
              "</table>\n",
              "<p>199 rows × 2 columns</p>\n",
              "</div>"
            ],
            "text/plain": [
              "     Actual  Predicted\n",
              "0    796254   805101.0\n",
              "1    744960   559989.0\n",
              "2    715057   805101.0\n",
              "3    709744   805101.0\n",
              "4    806557   805101.0\n",
              "..      ...        ...\n",
              "194  727884   559989.0\n",
              "195  726795   805101.0\n",
              "196  731299   437434.0\n",
              "197  751670   559989.0\n",
              "198   63077   192322.0\n",
              "\n",
              "[199 rows x 2 columns]"
            ]
          },
          "metadata": {
            "tags": []
          },
          "execution_count": 51
        }
      ]
    },
    {
      "cell_type": "code",
      "metadata": {
        "id": "kUvnVqe42osZ",
        "colab_type": "code",
        "colab": {
          "base_uri": "https://localhost:8080/",
          "height": 486
        },
        "outputId": "ca44bbd2-37a8-4145-a1a7-fe313fc64599"
      },
      "source": [
        "# Let's plot our results \n",
        "\n",
        "\n",
        "df1 = df.head(15)\n",
        "df1.plot(kind='bar',figsize=(13,8))\n",
        "plt.grid(which='major', linestyle='-', linewidth='0.5', color='green')\n",
        "plt.grid(which='minor', linestyle=':', linewidth='0.5', color='black')\n",
        "plt.show()"
      ],
      "execution_count": 52,
      "outputs": [
        {
          "output_type": "display_data",
          "data": {
            "image/png": "[encoded data removed]",
            "text/plain": [
              "<Figure size 936x576 with 1 Axes>"
            ]
          },
          "metadata": {
            "tags": [],
            "needs_background": "light"
          }
        }
      ]
    },
    {
      "cell_type": "markdown",
      "metadata": {
        "id": "HQ_pvpG-2sK7",
        "colab_type": "text"
      },
      "source": [
        "Our initial thought was that by removing the outliers and expanding the data frame to cover the whole year would lead to a more precise predictive model.\n",
        "After running the analysis, the model studied in part 2 seems more accurate."
      ]
    },
    {
      "cell_type": "markdown",
      "metadata": {
        "id": "yLbHK3Gw6gdS",
        "colab_type": "text"
      },
      "source": [
        "## Multiple Linear Regression with 2 Variables"
      ]
    },
    {
      "cell_type": "code",
      "metadata": {
        "id": "gmo0WILP7jwO",
        "colab_type": "code",
        "colab": {}
      },
      "source": [
        "df = pd.read_csv(url,index_col='Date', parse_dates=True)"
      ],
      "execution_count": 0,
      "outputs": []
    },
    {
      "cell_type": "code",
      "metadata": {
        "id": "D_KoHfLv7pi3",
        "colab_type": "code",
        "colab": {
          "base_uri": "https://localhost:8080/",
          "height": 391
        },
        "outputId": "dc65514c-7bd3-4d35-e6d3-3576c05dd3a9"
      },
      "source": [
        "# Let's convert weekdays into integers\n",
        "\n",
        "weekday = {'Monday':1 , 'Tuesday':2 , 'Wednesday':3, 'Thursday':4, 'Friday':5, 'Saturday':6, 'Sunday':7}\n",
        "df.Weekday = [weekday[item] for item in df.Weekday]\n",
        "df.head()"
      ],
      "execution_count": 54,
      "outputs": [
        {
          "output_type": "execute_result",
          "data": {
            "text/html": [
              "<div>\n",
              "<style scoped>\n",
              "    .dataframe tbody tr th:only-of-type {\n",
              "        vertical-align: middle;\n",
              "    }\n",
              "\n",
              "    .dataframe tbody tr th {\n",
              "        vertical-align: top;\n",
              "    }\n",
              "\n",
              "    .dataframe thead th {\n",
              "        text-align: right;\n",
              "    }\n",
              "</style>\n",
              "<table border=\"1\" class=\"dataframe\">\n",
              "  <thead>\n",
              "    <tr style=\"text-align: right;\">\n",
              "      <th></th>\n",
              "      <th>Year</th>\n",
              "      <th>Month</th>\n",
              "      <th>year_month</th>\n",
              "      <th>Day</th>\n",
              "      <th>Weekday</th>\n",
              "      <th>Holiday</th>\n",
              "      <th>Max Temp (°C)</th>\n",
              "      <th>Min Temp (°C)</th>\n",
              "      <th>Mean Temp (°C)</th>\n",
              "      <th>Monthly Mean Temp (°C)</th>\n",
              "      <th>Delta Temp (°C)</th>\n",
              "      <th>Total Precip (mm)</th>\n",
              "      <th>Monthly Mean Precip (mm)</th>\n",
              "      <th>Delta Precip (mm)</th>\n",
              "      <th>Snow on Grnd (cm)</th>\n",
              "      <th>Barrie Ridership</th>\n",
              "      <th>Kitchener Ridership</th>\n",
              "      <th>Lakeshore East Ridership</th>\n",
              "      <th>Lakeshore West Ridership</th>\n",
              "      <th>Milton Ridership</th>\n",
              "      <th>Richmond Hill Ridership</th>\n",
              "      <th>Stouffville Ridership</th>\n",
              "      <th>Union Station Ridership</th>\n",
              "      <th>Total GO Ridership</th>\n",
              "      <th>Outlier</th>\n",
              "      <th>Overall Mean</th>\n",
              "      <th>2SD_above</th>\n",
              "      <th>2SD_below</th>\n",
              "    </tr>\n",
              "    <tr>\n",
              "      <th>Date</th>\n",
              "      <th></th>\n",
              "      <th></th>\n",
              "      <th></th>\n",
              "      <th></th>\n",
              "      <th></th>\n",
              "      <th></th>\n",
              "      <th></th>\n",
              "      <th></th>\n",
              "      <th></th>\n",
              "      <th></th>\n",
              "      <th></th>\n",
              "      <th></th>\n",
              "      <th></th>\n",
              "      <th></th>\n",
              "      <th></th>\n",
              "      <th></th>\n",
              "      <th></th>\n",
              "      <th></th>\n",
              "      <th></th>\n",
              "      <th></th>\n",
              "      <th></th>\n",
              "      <th></th>\n",
              "      <th></th>\n",
              "      <th></th>\n",
              "      <th></th>\n",
              "      <th></th>\n",
              "      <th></th>\n",
              "      <th></th>\n",
              "    </tr>\n",
              "  </thead>\n",
              "  <tbody>\n",
              "    <tr>\n",
              "      <th>2017-03-01</th>\n",
              "      <td>2017</td>\n",
              "      <td>3</td>\n",
              "      <td>2017-03</td>\n",
              "      <td>1</td>\n",
              "      <td>3</td>\n",
              "      <td>False</td>\n",
              "      <td>13.1</td>\n",
              "      <td>-1.9</td>\n",
              "      <td>5.6</td>\n",
              "      <td>0.116129</td>\n",
              "      <td>5.483871</td>\n",
              "      <td>18.4</td>\n",
              "      <td>2.490323</td>\n",
              "      <td>15.909677</td>\n",
              "      <td>0.0</td>\n",
              "      <td>74235</td>\n",
              "      <td>100664</td>\n",
              "      <td>187314</td>\n",
              "      <td>243965</td>\n",
              "      <td>115524</td>\n",
              "      <td>41759</td>\n",
              "      <td>65258</td>\n",
              "      <td>709669</td>\n",
              "      <td>1538388</td>\n",
              "      <td>False</td>\n",
              "      <td>1.684403e+06</td>\n",
              "      <td>1.885102e+06</td>\n",
              "      <td>1.483705e+06</td>\n",
              "    </tr>\n",
              "    <tr>\n",
              "      <th>2017-03-02</th>\n",
              "      <td>2017</td>\n",
              "      <td>3</td>\n",
              "      <td>2017-03</td>\n",
              "      <td>2</td>\n",
              "      <td>4</td>\n",
              "      <td>False</td>\n",
              "      <td>-1.3</td>\n",
              "      <td>-6.4</td>\n",
              "      <td>-3.9</td>\n",
              "      <td>0.116129</td>\n",
              "      <td>-4.016129</td>\n",
              "      <td>0.2</td>\n",
              "      <td>2.490323</td>\n",
              "      <td>-2.290323</td>\n",
              "      <td>0.5</td>\n",
              "      <td>73575</td>\n",
              "      <td>98834</td>\n",
              "      <td>193721</td>\n",
              "      <td>251245</td>\n",
              "      <td>115976</td>\n",
              "      <td>41975</td>\n",
              "      <td>64723</td>\n",
              "      <td>710233</td>\n",
              "      <td>1550282</td>\n",
              "      <td>False</td>\n",
              "      <td>1.667167e+06</td>\n",
              "      <td>1.877280e+06</td>\n",
              "      <td>1.457055e+06</td>\n",
              "    </tr>\n",
              "    <tr>\n",
              "      <th>2017-03-03</th>\n",
              "      <td>2017</td>\n",
              "      <td>3</td>\n",
              "      <td>2017-03</td>\n",
              "      <td>3</td>\n",
              "      <td>5</td>\n",
              "      <td>False</td>\n",
              "      <td>-4.3</td>\n",
              "      <td>-8.1</td>\n",
              "      <td>-6.2</td>\n",
              "      <td>0.116129</td>\n",
              "      <td>-6.316129</td>\n",
              "      <td>0.0</td>\n",
              "      <td>2.490323</td>\n",
              "      <td>-2.490323</td>\n",
              "      <td>0.5</td>\n",
              "      <td>65999</td>\n",
              "      <td>90692</td>\n",
              "      <td>176474</td>\n",
              "      <td>233488</td>\n",
              "      <td>104386</td>\n",
              "      <td>38029</td>\n",
              "      <td>58671</td>\n",
              "      <td>645929</td>\n",
              "      <td>1413668</td>\n",
              "      <td>False</td>\n",
              "      <td>1.513443e+06</td>\n",
              "      <td>1.722796e+06</td>\n",
              "      <td>1.304090e+06</td>\n",
              "    </tr>\n",
              "    <tr>\n",
              "      <th>2017-03-04</th>\n",
              "      <td>2017</td>\n",
              "      <td>3</td>\n",
              "      <td>2017-03</td>\n",
              "      <td>4</td>\n",
              "      <td>6</td>\n",
              "      <td>False</td>\n",
              "      <td>-6.5</td>\n",
              "      <td>-11.9</td>\n",
              "      <td>-9.2</td>\n",
              "      <td>0.116129</td>\n",
              "      <td>-9.316129</td>\n",
              "      <td>0.2</td>\n",
              "      <td>2.490323</td>\n",
              "      <td>-2.290323</td>\n",
              "      <td>0.5</td>\n",
              "      <td>6852</td>\n",
              "      <td>3517</td>\n",
              "      <td>58477</td>\n",
              "      <td>87326</td>\n",
              "      <td>1518</td>\n",
              "      <td>0</td>\n",
              "      <td>1792</td>\n",
              "      <td>102982</td>\n",
              "      <td>262464</td>\n",
              "      <td>False</td>\n",
              "      <td>3.363528e+05</td>\n",
              "      <td>5.477078e+05</td>\n",
              "      <td>1.249978e+05</td>\n",
              "    </tr>\n",
              "    <tr>\n",
              "      <th>2017-03-05</th>\n",
              "      <td>2017</td>\n",
              "      <td>3</td>\n",
              "      <td>2017-03</td>\n",
              "      <td>5</td>\n",
              "      <td>7</td>\n",
              "      <td>False</td>\n",
              "      <td>-0.4</td>\n",
              "      <td>-10.6</td>\n",
              "      <td>-5.5</td>\n",
              "      <td>0.116129</td>\n",
              "      <td>-5.616129</td>\n",
              "      <td>0.0</td>\n",
              "      <td>2.490323</td>\n",
              "      <td>-2.490323</td>\n",
              "      <td>0.5</td>\n",
              "      <td>5933</td>\n",
              "      <td>2917</td>\n",
              "      <td>35034</td>\n",
              "      <td>62331</td>\n",
              "      <td>1234</td>\n",
              "      <td>0</td>\n",
              "      <td>1135</td>\n",
              "      <td>62998</td>\n",
              "      <td>171582</td>\n",
              "      <td>False</td>\n",
              "      <td>2.407631e+05</td>\n",
              "      <td>3.932424e+05</td>\n",
              "      <td>8.828385e+04</td>\n",
              "    </tr>\n",
              "  </tbody>\n",
              "</table>\n",
              "</div>"
            ],
            "text/plain": [
              "            Year  Month year_month  ...  Overall Mean     2SD_above     2SD_below\n",
              "Date                                ...                                          \n",
              "2017-03-01  2017      3    2017-03  ...  1.684403e+06  1.885102e+06  1.483705e+06\n",
              "2017-03-02  2017      3    2017-03  ...  1.667167e+06  1.877280e+06  1.457055e+06\n",
              "2017-03-03  2017      3    2017-03  ...  1.513443e+06  1.722796e+06  1.304090e+06\n",
              "2017-03-04  2017      3    2017-03  ...  3.363528e+05  5.477078e+05  1.249978e+05\n",
              "2017-03-05  2017      3    2017-03  ...  2.407631e+05  3.932424e+05  8.828385e+04\n",
              "\n",
              "[5 rows x 28 columns]"
            ]
          },
          "metadata": {
            "tags": []
          },
          "execution_count": 54
        }
      ]
    },
    {
      "cell_type": "code",
      "metadata": {
        "id": "tqy7tP8j7sTr",
        "colab_type": "code",
        "colab": {}
      },
      "source": [
        "# Build linear regression model using Weekday and Precipitation as predictors\n",
        "# Split data into predictors X and output Y\n",
        "\n",
        "predictors = ['Weekday','Total Precip (mm)']\n",
        "X= df[predictors]\n",
        "y=df['Union Station Ridership'].values.reshape(-1,1)"
      ],
      "execution_count": 0,
      "outputs": []
    },
    {
      "cell_type": "code",
      "metadata": {
        "id": "tj4ZdxAY7s3G",
        "colab_type": "code",
        "colab": {}
      },
      "source": [
        "# Initialise and fit model\n",
        "lm = LinearRegression()\n",
        "model = lm.fit(X, y)"
      ],
      "execution_count": 0,
      "outputs": []
    },
    {
      "cell_type": "markdown",
      "metadata": {
        "id": "ZL8MGH9d7wIu",
        "colab_type": "text"
      },
      "source": [
        "Instead of calulcating the values for alpha and betas, we have to call .intercept for alpha, and .coef_ for an array with our coefficients.\n",
        "\n"
      ]
    },
    {
      "cell_type": "code",
      "metadata": {
        "id": "-PsBZ-MW7ue6",
        "colab_type": "code",
        "colab": {
          "base_uri": "https://localhost:8080/",
          "height": 51
        },
        "outputId": "5d3073cf-0cd7-4c68-875d-c2e08c956325"
      },
      "source": [
        "print(f'alpha = {model.intercept_}')\n",
        "print(f'betas = {model.coef_}')"
      ],
      "execution_count": 57,
      "outputs": [
        {
          "output_type": "stream",
          "text": [
            "alpha = [966292.03323924]\n",
            "betas = [[-107545.69052024   -1043.23097587]]\n"
          ],
          "name": "stdout"
        }
      ]
    },
    {
      "cell_type": "markdown",
      "metadata": {
        "id": "jS5Zt9oz713S",
        "colab_type": "text"
      },
      "source": [
        "We can predict the values by using .predict()"
      ]
    },
    {
      "cell_type": "code",
      "metadata": {
        "id": "icWnp_BT73KS",
        "colab_type": "code",
        "colab": {
          "base_uri": "https://localhost:8080/",
          "height": 136
        },
        "outputId": "9d21ba1d-dfe7-4d0f-c212-651210b8c240"
      },
      "source": [
        "y_pred = model.predict(X)\n",
        "y_pred"
      ],
      "execution_count": 58,
      "outputs": [
        {
          "output_type": "execute_result",
          "data": {
            "text/plain": [
              "array([[624459.51172257],\n",
              "       [535900.6249631 ],\n",
              "       [428563.58063804],\n",
              "       ...,\n",
              "       [532875.25513309],\n",
              "       [427416.02656458],\n",
              "       [319766.01294676]])"
            ]
          },
          "metadata": {
            "tags": []
          },
          "execution_count": 58
        }
      ]
    },
    {
      "cell_type": "code",
      "metadata": {
        "id": "0cymLI7r7593",
        "colab_type": "code",
        "colab": {
          "base_uri": "https://localhost:8080/",
          "height": 34
        },
        "outputId": "8f6fcb54-ed6f-4787-879b-9e9bcf6b1d66"
      },
      "source": [
        "new_X = [[7, 0.2]]\n",
        "print(model.predict(new_X))"
      ],
      "execution_count": 59,
      "outputs": [
        {
          "output_type": "stream",
          "text": [
            "[[213263.55340238]]\n"
          ],
          "name": "stdout"
        }
      ]
    },
    {
      "cell_type": "markdown",
      "metadata": {
        "id": "BcGoBovL777s",
        "colab_type": "text"
      },
      "source": [
        "Now that we have our predicting model, let's randomly pick a day and assess how far (or close) our model is from reality."
      ]
    },
    {
      "cell_type": "code",
      "metadata": {
        "id": "cll2G4md79ps",
        "colab_type": "code",
        "colab": {
          "base_uri": "https://localhost:8080/",
          "height": 545
        },
        "outputId": "2cb99ec1-3ed1-4be5-c161-47f2551c3df6"
      },
      "source": [
        "df[['Weekday','Total Precip (mm)','Union Station Ridership']].tail(15)"
      ],
      "execution_count": 60,
      "outputs": [
        {
          "output_type": "execute_result",
          "data": {
            "text/html": [
              "<div>\n",
              "<style scoped>\n",
              "    .dataframe tbody tr th:only-of-type {\n",
              "        vertical-align: middle;\n",
              "    }\n",
              "\n",
              "    .dataframe tbody tr th {\n",
              "        vertical-align: top;\n",
              "    }\n",
              "\n",
              "    .dataframe thead th {\n",
              "        text-align: right;\n",
              "    }\n",
              "</style>\n",
              "<table border=\"1\" class=\"dataframe\">\n",
              "  <thead>\n",
              "    <tr style=\"text-align: right;\">\n",
              "      <th></th>\n",
              "      <th>Weekday</th>\n",
              "      <th>Total Precip (mm)</th>\n",
              "      <th>Union Station Ridership</th>\n",
              "    </tr>\n",
              "    <tr>\n",
              "      <th>Date</th>\n",
              "      <th></th>\n",
              "      <th></th>\n",
              "      <th></th>\n",
              "    </tr>\n",
              "  </thead>\n",
              "  <tbody>\n",
              "    <tr>\n",
              "      <th>2020-02-15</th>\n",
              "      <td>6</td>\n",
              "      <td>0.4</td>\n",
              "      <td>113314</td>\n",
              "    </tr>\n",
              "    <tr>\n",
              "      <th>2020-02-16</th>\n",
              "      <td>7</td>\n",
              "      <td>0.4</td>\n",
              "      <td>90869</td>\n",
              "    </tr>\n",
              "    <tr>\n",
              "      <th>2020-02-17</th>\n",
              "      <td>1</td>\n",
              "      <td>1.0</td>\n",
              "      <td>84243</td>\n",
              "    </tr>\n",
              "    <tr>\n",
              "      <th>2020-02-18</th>\n",
              "      <td>2</td>\n",
              "      <td>8.6</td>\n",
              "      <td>773600</td>\n",
              "    </tr>\n",
              "    <tr>\n",
              "      <th>2020-02-19</th>\n",
              "      <td>3</td>\n",
              "      <td>0.0</td>\n",
              "      <td>795204</td>\n",
              "    </tr>\n",
              "    <tr>\n",
              "      <th>2020-02-20</th>\n",
              "      <td>4</td>\n",
              "      <td>1.0</td>\n",
              "      <td>800284</td>\n",
              "    </tr>\n",
              "    <tr>\n",
              "      <th>2020-02-21</th>\n",
              "      <td>5</td>\n",
              "      <td>0.2</td>\n",
              "      <td>703123</td>\n",
              "    </tr>\n",
              "    <tr>\n",
              "      <th>2020-02-22</th>\n",
              "      <td>6</td>\n",
              "      <td>0.2</td>\n",
              "      <td>127953</td>\n",
              "    </tr>\n",
              "    <tr>\n",
              "      <th>2020-02-23</th>\n",
              "      <td>7</td>\n",
              "      <td>0.8</td>\n",
              "      <td>93485</td>\n",
              "    </tr>\n",
              "    <tr>\n",
              "      <th>2020-02-24</th>\n",
              "      <td>1</td>\n",
              "      <td>1.1</td>\n",
              "      <td>795210</td>\n",
              "    </tr>\n",
              "    <tr>\n",
              "      <th>2020-02-25</th>\n",
              "      <td>2</td>\n",
              "      <td>0.2</td>\n",
              "      <td>736552</td>\n",
              "    </tr>\n",
              "    <tr>\n",
              "      <th>2020-02-26</th>\n",
              "      <td>3</td>\n",
              "      <td>11.8</td>\n",
              "      <td>727372</td>\n",
              "    </tr>\n",
              "    <tr>\n",
              "      <th>2020-02-27</th>\n",
              "      <td>4</td>\n",
              "      <td>3.1</td>\n",
              "      <td>703693</td>\n",
              "    </tr>\n",
              "    <tr>\n",
              "      <th>2020-02-28</th>\n",
              "      <td>5</td>\n",
              "      <td>1.1</td>\n",
              "      <td>704527</td>\n",
              "    </tr>\n",
              "    <tr>\n",
              "      <th>2020-02-29</th>\n",
              "      <td>6</td>\n",
              "      <td>1.2</td>\n",
              "      <td>98604</td>\n",
              "    </tr>\n",
              "  </tbody>\n",
              "</table>\n",
              "</div>"
            ],
            "text/plain": [
              "            Weekday  Total Precip (mm)  Union Station Ridership\n",
              "Date                                                           \n",
              "2020-02-15        6                0.4                   113314\n",
              "2020-02-16        7                0.4                    90869\n",
              "2020-02-17        1                1.0                    84243\n",
              "2020-02-18        2                8.6                   773600\n",
              "2020-02-19        3                0.0                   795204\n",
              "2020-02-20        4                1.0                   800284\n",
              "2020-02-21        5                0.2                   703123\n",
              "2020-02-22        6                0.2                   127953\n",
              "2020-02-23        7                0.8                    93485\n",
              "2020-02-24        1                1.1                   795210\n",
              "2020-02-25        2                0.2                   736552\n",
              "2020-02-26        3               11.8                   727372\n",
              "2020-02-27        4                3.1                   703693\n",
              "2020-02-28        5                1.1                   704527\n",
              "2020-02-29        6                1.2                    98604"
            ]
          },
          "metadata": {
            "tags": []
          },
          "execution_count": 60
        }
      ]
    },
    {
      "cell_type": "code",
      "metadata": {
        "id": "QRZ99kZP7_zU",
        "colab_type": "code",
        "colab": {
          "base_uri": "https://localhost:8080/",
          "height": 34
        },
        "outputId": "9aa522d1-f9e1-4882-fff4-eea10916294d"
      },
      "source": [
        "# Let's look at the 18th of February\n",
        "prediction_1 = [[2, 8.6]]\n",
        "print(model.predict(prediction_1))"
      ],
      "execution_count": 61,
      "outputs": [
        {
          "output_type": "stream",
          "text": [
            "[[742228.86580631]]\n"
          ],
          "name": "stdout"
        }
      ]
    },
    {
      "cell_type": "markdown",
      "metadata": {
        "id": "zNeZ1ez98A7j",
        "colab_type": "text"
      },
      "source": [
        "The model predicted 742,228 riderships while the actual number was 773,600: the prediction was pretty close."
      ]
    },
    {
      "cell_type": "code",
      "metadata": {
        "id": "5xKYl7Mm8DnX",
        "colab_type": "code",
        "colab": {
          "base_uri": "https://localhost:8080/",
          "height": 34
        },
        "outputId": "d87d1734-3035-4c13-aed5-2d450ffbbd9f"
      },
      "source": [
        "# Let's look at the 26th of February 2020\n",
        "prediction_2 = [[3, 11.8]]\n",
        "print(model.predict(prediction_2))"
      ],
      "execution_count": 62,
      "outputs": [
        {
          "output_type": "stream",
          "text": [
            "[[631344.83616329]]\n"
          ],
          "name": "stdout"
        }
      ]
    },
    {
      "cell_type": "markdown",
      "metadata": {
        "id": "ssdwNPmU8E-V",
        "colab_type": "text"
      },
      "source": [
        "The model predicted 631,344 riderships while the actual number was 727,372. The prediction here was not as accurate."
      ]
    }
  ]
}