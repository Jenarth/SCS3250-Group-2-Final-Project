{
  "nbformat": 4,
  "nbformat_minor": 0,
  "metadata": {
    "colab": {
      "name": "THE CORRELATION OF BOARDING VS WEATHER",
      "provenance": [],
      "authorship_tag": "ABX9TyOyOKRl5hRsvWt8DdzqCtPE",
      "include_colab_link": true
    },
    "kernelspec": {
      "name": "python3",
      "display_name": "Python 3"
    }
  },
  "cells": [
    {
      "cell_type": "markdown",
      "metadata": {
        "id": "view-in-github",
        "colab_type": "text"
      },
      "source": [
        "<a href=\"https://colab.research.google.com/github/Jenarth/SCS3250-Group-2-Final-Project/blob/master/THE_CORRELATION_OF_BOARDING_VS_WEATHER.ipynb\" target=\"_parent\"><img src=\"https://colab.research.google.com/assets/colab-badge.svg\" alt=\"Open In Colab\"/></a>"
      ]
    },
    {
      "cell_type": "code",
      "metadata": {
        "id": "r2b80j55_6ni",
        "colab_type": "code",
        "colab": {}
      },
      "source": [
        "from pandas.plotting import autocorrelation_plot, scatter_matrix\n",
        "import matplotlib.pyplot as plt\n",
        "import numpy as np\n",
        "%matplotlib inline\n",
        "np.set_printoptions(precision=4, suppress=True)\n",
        "plt.rc('figure', figsize=(12, 6))\n",
        "\n"
      ],
      "execution_count": 0,
      "outputs": []
    },
    {
      "cell_type": "code",
      "metadata": {
        "id": "rLbcFrD3VKbF",
        "colab_type": "code",
        "colab": {}
      },
      "source": [
        "#####At first creating time series,\n",
        "#weather = pd.read_csv('3250_TermProject_Group2 _????.csv', usecols=['Date','AdjClose'], parse_dates=['Date'], index_col = 'Date', squeeze=True)\n",
        "#boarding = pd.read_csv('3250_TermProject_Group2 _????.csv', usecols=['Date','AdjClose'], parse_dates=['Date'], index_col = 'Date', squeeze=True)"
      ],
      "execution_count": 0,
      "outputs": []
    },
    {
      "cell_type": "code",
      "metadata": {
        "id": "PnYY5TcYUIK3",
        "colab_type": "code",
        "colab": {}
      },
      "source": [
        "#weather_monthend = weather.resample('BM').last()\n",
        "#weather_monthend.head()\n",
        "#boarding_monthend = boarding.resample('BM').last()\n",
        "#boarding_monthend.head()"
      ],
      "execution_count": 0,
      "outputs": []
    },
    {
      "cell_type": "code",
      "metadata": {
        "id": "EiyEFiFATta_",
        "colab_type": "code",
        "colab": {}
      },
      "source": [
        "####### Plot the auto-correlation of the Weather\n",
        "\n",
        "#plt.figure()\n",
        "#autocorrelation_plot(weather_monthend)\n",
        "#plt.title('Autocorrelation of Weather Monthly')\n",
        "\n",
        "###### Plot the auto-correlation of the Boarding\n",
        "#plt.figure()\n",
        "#autocorrelation_plot(boarding_monthend)\n",
        "#plt.title('Autocorrelation of Boarding Monthly ')\n"
      ],
      "execution_count": 0,
      "outputs": []
    },
    {
      "cell_type": "code",
      "metadata": {
        "id": "wrdJM0nhZfYQ",
        "colab_type": "code",
        "colab": {}
      },
      "source": [
        "###### Combine all 2 time series into a datafame for further analysis\n",
        "#df_to_analyse = pd.concat([weather_monthend, boarding_monthend, join='outer', axis = 1)"
      ],
      "execution_count": 0,
      "outputs": []
    },
    {
      "cell_type": "code",
      "metadata": {
        "id": "BqhXEI9tggQ2",
        "colab_type": "code",
        "colab": {}
      },
      "source": [
        "###### Drop the first row with NAs\n",
        "df_to_analyse.dropna().head()"
      ],
      "execution_count": 0,
      "outputs": []
    },
    {
      "cell_type": "code",
      "metadata": {
        "id": "OQsUmCzRgjA3",
        "colab_type": "code",
        "colab": {}
      },
      "source": [
        "###### Scatter plot matrix\n",
        "scatter_matrix(df_to_analyse.dropna(), alpha=0.9, figsize=(10, 10), diagonal='kde');"
      ],
      "execution_count": 0,
      "outputs": []
    },
    {
      "cell_type": "code",
      "metadata": {
        "id": "eidexXHVilzb",
        "colab_type": "code",
        "colab": {}
      },
      "source": [
        "###### Transpose the dataframe in preparation for plotting\n",
        "df_to_analyse_t = df_to_analyse.T\n",
        "df_to_analyse_t.dropna(axis=1,how='all')"
      ],
      "execution_count": 0,
      "outputs": []
    },
    {
      "cell_type": "code",
      "metadata": {
        "id": "M9QH_0M9is5A",
        "colab_type": "code",
        "colab": {}
      },
      "source": [
        "#corr_plt = df_to_analyse_t.dropna(axis=1,how='all').values\n",
        "#corr_plt"
      ],
      "execution_count": 0,
      "outputs": []
    },
    {
      "cell_type": "code",
      "metadata": {
        "id": "GK7De2sLi0qR",
        "colab_type": "code",
        "colab": {}
      },
      "source": [
        "###### Plot the correlation \n",
        "from numpy import corrcoef, sum, log, arange\n",
        "from pylab import pcolor, show, colorbar, xticks, yticks\n",
        "\n",
        "R = corrcoef(corr_plt)\n",
        "pcolor(R)\n",
        "colorbar()\n",
        "yticks(arange(0.5,4),['Weather', 'Boarding'])\n",
        "xticks(arange(0.5,4),['Weather', 'Boarding'])\n",
        "show()\n"
      ],
      "execution_count": 0,
      "outputs": []
    }
  ]
}