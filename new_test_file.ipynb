{
  "nbformat": 4,
  "nbformat_minor": 0,
  "metadata": {
    "colab": {
      "name": "new test file.ipynb",
      "provenance": [],
      "authorship_tag": "ABX9TyOGOlUbF54yVDbFpUldqZSb",
      "include_colab_link": true
    },
    "kernelspec": {
      "name": "python3",
      "display_name": "Python 3"
    }
  },
  "cells": [
    {
      "cell_type": "markdown",
      "metadata": {
        "id": "view-in-github",
        "colab_type": "text"
      },
      "source": [
        "<a href=\"https://colab.research.google.com/github/Jenarth/Group2_FinalProject/blob/master/new_test_file.ipynb\" target=\"_parent\"><img src=\"https://colab.research.google.com/assets/colab-badge.svg\" alt=\"Open In Colab\"/></a>"
      ]
    },
    {
      "cell_type": "code",
      "metadata": {
        "id": "4R-Q_xtvdgvF",
        "colab_type": "code",
        "colab": {}
      },
      "source": [
        "new test file"
      ],
      "execution_count": 0,
      "outputs": []
    }
  ]
}