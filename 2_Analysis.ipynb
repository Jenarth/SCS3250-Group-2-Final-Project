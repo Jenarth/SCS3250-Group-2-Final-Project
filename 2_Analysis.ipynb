{
  "nbformat": 4,
  "nbformat_minor": 0,
  "metadata": {
    "colab": {
      "name": "2_Analysis.ipynb",
      "provenance": [],
      "collapsed_sections": [],
      "include_colab_link": true
    },
    "kernelspec": {
      "name": "python3",
      "display_name": "Python 3"
    }
  },
  "cells": [
    {
      "cell_type": "markdown",
      "metadata": {
        "id": "view-in-github",
        "colab_type": "text"
      },
      "source": [
        "<a href=\"https://colab.research.google.com/github/Jenarth/SCS3250-Group-2-Final-Project/blob/master/2_Analysis.ipynb\" target=\"_parent\"><img src=\"https://colab.research.google.com/assets/colab-badge.svg\" alt=\"Open In Colab\"/></a>"
      ]
    },
    {
      "cell_type": "markdown",
      "metadata": {
        "id": "2tWW14jpxwVQ",
        "colab_type": "text"
      },
      "source": [
        "---\n",
        "# **PHASE 2: ANALYSIS** (currently being edited by Vernon)\n",
        "---"
      ]
    },
    {
      "cell_type": "markdown",
      "metadata": {
        "id": "r7Z9TU4ux4bV",
        "colab_type": "text"
      },
      "source": [
        "## 2.1 Correlation Section (placeholder)"
      ]
    },
    {
      "cell_type": "markdown",
      "metadata": {
        "id": "HWkGEUs8yIxv",
        "colab_type": "text"
      },
      "source": [
        "*---INSERT CONTENT---*"
      ]
    },
    {
      "cell_type": "markdown",
      "metadata": {
        "id": "636vp-j1x9cD",
        "colab_type": "text"
      },
      "source": [
        "## 2.2 Autocorrelation Section (placeholder)"
      ]
    },
    {
      "cell_type": "markdown",
      "metadata": {
        "id": "BXEfXcIByYfh",
        "colab_type": "text"
      },
      "source": [
        "*---INSERT CONTENT---*"
      ]
    }
  ]
}