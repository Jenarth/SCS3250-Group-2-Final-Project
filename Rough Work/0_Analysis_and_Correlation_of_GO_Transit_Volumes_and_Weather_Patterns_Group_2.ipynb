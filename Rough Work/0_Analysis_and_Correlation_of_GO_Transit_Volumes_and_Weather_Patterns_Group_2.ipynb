{
  "nbformat": 4,
  "nbformat_minor": 0,
  "metadata": {
    "colab": {
      "name": "0 Analysis and Correlation of GO Transit Volumes and Weather Patterns - Group 2.ipynb",
      "provenance": [],
      "collapsed_sections": [],
      "include_colab_link": true
    },
    "kernelspec": {
      "name": "python3",
      "display_name": "Python 3"
    }
  },
  "cells": [
    {
      "cell_type": "markdown",
      "metadata": {
        "id": "view-in-github",
        "colab_type": "text"
      },
      "source": [
        "<a href=\"https://colab.research.google.com/github/Jenarth/SCS3250-Group-2-Final-Project/blob/master/Rough%20Work/0_Analysis_and_Correlation_of_GO_Transit_Volumes_and_Weather_Patterns_Group_2.ipynb\" target=\"_parent\"><img src=\"https://colab.research.google.com/assets/colab-badge.svg\" alt=\"Open In Colab\"/></a>"
      ]
    },
    {
      "cell_type": "markdown",
      "metadata": {
        "id": "_V632CAfu2bn",
        "colab_type": "text"
      },
      "source": [
        "# Analysis and Correlation of GO Transit Volumes and Weather Patterns"
      ]
    },
    {
      "cell_type": "markdown",
      "metadata": {
        "id": "IzOGjsLGuVAN",
        "colab_type": "text"
      },
      "source": [
        "## Introduction"
      ]
    },
    {
      "cell_type": "markdown",
      "metadata": {
        "id": "p4TdzIHduP4m",
        "colab_type": "text"
      },
      "source": [
        "*   Overview\n",
        "*   Goals\n",
        "*   Hypotheses"
      ]
    },
    {
      "cell_type": "markdown",
      "metadata": {
        "id": "meHdw1w4uwwN",
        "colab_type": "text"
      },
      "source": [
        "## Part 1: Data Preparation and Cleaning"
      ]
    },
    {
      "cell_type": "markdown",
      "metadata": {
        "id": "J-MtikhjvAwe",
        "colab_type": "text"
      },
      "source": [
        "* Load transit data files; merge; reshape; identify outliers -> transit.csv\n",
        "* Load weather data files; merge with transit -> weather.csv\n",
        "* Merge transit and weather -> Final Data.csv\n",
        "* [DATA PREPARATION AND CLEANING (link to Jupyter notebook)](https://github.com/Jenarth/SCS3250-Group-2-Final-Project/blob/master/1_Preparation_and_Cleaning.ipynb)"
      ]
    },
    {
      "cell_type": "markdown",
      "metadata": {
        "id": "JzV_rzrevUgl",
        "colab_type": "text"
      },
      "source": [
        "## Phase 2: Analysis"
      ]
    },
    {
      "cell_type": "markdown",
      "metadata": {
        "id": "9OqrBLRDvQ3R",
        "colab_type": "text"
      },
      "source": [
        "* Correlation\n",
        "* Autocorrelation\n",
        "* [ANALYSIS (link to Jupyter notebook)](https://github.com/Jenarth/SCS3250-Group-2-Final-Project/blob/master/2_Analysis.ipynb)"
      ]
    },
    {
      "cell_type": "markdown",
      "metadata": {
        "id": "MXw1rHndvexi",
        "colab_type": "text"
      },
      "source": [
        "## Phase 3: Machine Learning"
      ]
    },
    {
      "cell_type": "markdown",
      "metadata": {
        "id": "9_2zm3oXvfVG",
        "colab_type": "text"
      },
      "source": [
        "* Classification (kNN)\n",
        "* Regression\n",
        "* [MACHINE LEARNING (link to Jupyter notebook)](https://github.com/Jenarth/SCS3250-Group-2-Final-Project/blob/master/3_Machine_Learning.ipynb)"
      ]
    },
    {
      "cell_type": "markdown",
      "metadata": {
        "id": "vSjp80CpvqzZ",
        "colab_type": "text"
      },
      "source": [
        "## Conclusion"
      ]
    },
    {
      "cell_type": "markdown",
      "metadata": {
        "id": "vufcVH2kvrQo",
        "colab_type": "text"
      },
      "source": [
        "* Overall thoughts\n",
        "* Successes, failures, dead ends\n",
        "* Ideas for further study"
      ]
    }
  ]
}