{
  "nbformat": 4,
  "nbformat_minor": 0,
  "metadata": {
    "kernelspec": {
      "display_name": "Python 3",
      "language": "python",
      "name": "python3"
    },
    "language_info": {
      "codemirror_mode": {
        "name": "ipython",
        "version": 3
      },
      "file_extension": ".py",
      "mimetype": "text/x-python",
      "name": "python",
      "nbconvert_exporter": "python",
      "pygments_lexer": "ipython3",
      "version": "3.7.4"
    },
    "colab": {
      "name": "LW Linear Regression with Weekdays - Part 1.ipynb",
      "provenance": [],
      "include_colab_link": true
    }
  },
  "cells": [
    {
      "cell_type": "markdown",
      "metadata": {
        "id": "view-in-github",
        "colab_type": "text"
      },
      "source": [
        "<a href=\"https://colab.research.google.com/github/Jenarth/SCS3250-Group-2-Final-Project/blob/master/Rough%20Work/LW%20Linear%20Regression%20with%20Weekdays%20-%20Part%201.ipynb\" target=\"_parent\"><img src=\"https://colab.research.google.com/assets/colab-badge.svg\" alt=\"Open In Colab\"/></a>"
      ]
    },
    {
      "cell_type": "code",
      "metadata": {
        "id": "F1O7lC9_VDVy",
        "colab_type": "code",
        "colab": {
          "base_uri": "https://localhost:8080/",
          "height": 51
        },
        "outputId": "79a6a77e-1cd2-4998-d9b2-b0b8c8700954"
      },
      "source": [
        "import pandas as pd  \n",
        "import numpy as np  \n",
        "import matplotlib.pyplot as plt  \n",
        "import seaborn as sns\n",
        "from sklearn.model_selection import train_test_split \n",
        "from sklearn.linear_model import LinearRegression\n",
        "from sklearn import metrics\n",
        "%matplotlib inline"
      ],
      "execution_count": 1,
      "outputs": [
        {
          "output_type": "stream",
          "text": [
            "/usr/local/lib/python3.6/dist-packages/statsmodels/tools/_testing.py:19: FutureWarning: pandas.util.testing is deprecated. Use the functions in the public API at pandas.testing instead.\n",
            "  import pandas.util.testing as tm\n"
          ],
          "name": "stderr"
        }
      ]
    },
    {
      "cell_type": "code",
      "metadata": {
        "id": "BoDpvDZAVDV3",
        "colab_type": "code",
        "colab": {}
      },
      "source": [
        "# Let's import the dataset\n",
        "\n",
        "url = 'https://raw.githubusercontent.com/Jenarth/SCS3250-Group-2-Final-Project/master/Final%20Dataset.csv'\n",
        "df = pd.read_csv(url, header = 0, sep =',',parse_dates=['Date'])"
      ],
      "execution_count": 0,
      "outputs": []
    },
    {
      "cell_type": "code",
      "metadata": {
        "id": "IZVeYk1HVDV6",
        "colab_type": "code",
        "colab": {
          "base_uri": "https://localhost:8080/",
          "height": 360
        },
        "outputId": "b9f746b9-9b90-4d51-e8df-ec83b30d58fb"
      },
      "source": [
        "df.head()"
      ],
      "execution_count": 3,
      "outputs": [
        {
          "output_type": "execute_result",
          "data": {
            "text/html": [
              "<div>\n",
              "<style scoped>\n",
              "    .dataframe tbody tr th:only-of-type {\n",
              "        vertical-align: middle;\n",
              "    }\n",
              "\n",
              "    .dataframe tbody tr th {\n",
              "        vertical-align: top;\n",
              "    }\n",
              "\n",
              "    .dataframe thead th {\n",
              "        text-align: right;\n",
              "    }\n",
              "</style>\n",
              "<table border=\"1\" class=\"dataframe\">\n",
              "  <thead>\n",
              "    <tr style=\"text-align: right;\">\n",
              "      <th></th>\n",
              "      <th>Date</th>\n",
              "      <th>Year</th>\n",
              "      <th>Month</th>\n",
              "      <th>year_month</th>\n",
              "      <th>Day</th>\n",
              "      <th>Weekday</th>\n",
              "      <th>Holiday</th>\n",
              "      <th>Max Temp (°C)</th>\n",
              "      <th>Min Temp (°C)</th>\n",
              "      <th>Mean Temp (°C)</th>\n",
              "      <th>Monthly Mean Temp (°C)</th>\n",
              "      <th>Delta Temp (°C)</th>\n",
              "      <th>Total Precip (mm)</th>\n",
              "      <th>Monthly Mean Precip (mm)</th>\n",
              "      <th>Delta Precip (mm)</th>\n",
              "      <th>Snow on Grnd (cm)</th>\n",
              "      <th>Barrie Ridership</th>\n",
              "      <th>Kitchener Ridership</th>\n",
              "      <th>Lakeshore East Ridership</th>\n",
              "      <th>Lakeshore West Ridership</th>\n",
              "      <th>Milton Ridership</th>\n",
              "      <th>Richmond Hill Ridership</th>\n",
              "      <th>Stouffville Ridership</th>\n",
              "      <th>Union Station Ridership</th>\n",
              "      <th>Total GO Ridership</th>\n",
              "      <th>Outlier</th>\n",
              "      <th>Overall Mean</th>\n",
              "      <th>2SD_above</th>\n",
              "      <th>2SD_below</th>\n",
              "    </tr>\n",
              "  </thead>\n",
              "  <tbody>\n",
              "    <tr>\n",
              "      <th>0</th>\n",
              "      <td>2017-03-01</td>\n",
              "      <td>2017</td>\n",
              "      <td>3</td>\n",
              "      <td>2017-03</td>\n",
              "      <td>1</td>\n",
              "      <td>Wednesday</td>\n",
              "      <td>False</td>\n",
              "      <td>13.1</td>\n",
              "      <td>-1.9</td>\n",
              "      <td>5.6</td>\n",
              "      <td>-0.251613</td>\n",
              "      <td>5.851613</td>\n",
              "      <td>18.4</td>\n",
              "      <td>2.335484</td>\n",
              "      <td>16.064516</td>\n",
              "      <td>0.0</td>\n",
              "      <td>10022</td>\n",
              "      <td>13585</td>\n",
              "      <td>25273</td>\n",
              "      <td>32909</td>\n",
              "      <td>15599</td>\n",
              "      <td>5639</td>\n",
              "      <td>8804</td>\n",
              "      <td>95802</td>\n",
              "      <td>207633</td>\n",
              "      <td>False</td>\n",
              "      <td>227296.503311</td>\n",
              "      <td>254365.810172</td>\n",
              "      <td>200227.196451</td>\n",
              "    </tr>\n",
              "    <tr>\n",
              "      <th>1</th>\n",
              "      <td>2017-03-02</td>\n",
              "      <td>2017</td>\n",
              "      <td>3</td>\n",
              "      <td>2017-03</td>\n",
              "      <td>2</td>\n",
              "      <td>Thursday</td>\n",
              "      <td>False</td>\n",
              "      <td>-1.3</td>\n",
              "      <td>-6.4</td>\n",
              "      <td>-3.9</td>\n",
              "      <td>-0.251613</td>\n",
              "      <td>-3.648387</td>\n",
              "      <td>0.2</td>\n",
              "      <td>2.335484</td>\n",
              "      <td>-2.135484</td>\n",
              "      <td>0.5</td>\n",
              "      <td>9932</td>\n",
              "      <td>13331</td>\n",
              "      <td>26120</td>\n",
              "      <td>33884</td>\n",
              "      <td>15653</td>\n",
              "      <td>5665</td>\n",
              "      <td>8736</td>\n",
              "      <td>95873</td>\n",
              "      <td>209194</td>\n",
              "      <td>False</td>\n",
              "      <td>224966.615894</td>\n",
              "      <td>253295.696280</td>\n",
              "      <td>196637.535508</td>\n",
              "    </tr>\n",
              "    <tr>\n",
              "      <th>2</th>\n",
              "      <td>2017-03-03</td>\n",
              "      <td>2017</td>\n",
              "      <td>3</td>\n",
              "      <td>2017-03</td>\n",
              "      <td>3</td>\n",
              "      <td>Friday</td>\n",
              "      <td>False</td>\n",
              "      <td>-4.3</td>\n",
              "      <td>-8.1</td>\n",
              "      <td>-6.2</td>\n",
              "      <td>-0.251613</td>\n",
              "      <td>-5.948387</td>\n",
              "      <td>0.0</td>\n",
              "      <td>2.335484</td>\n",
              "      <td>-2.335484</td>\n",
              "      <td>0.5</td>\n",
              "      <td>8905</td>\n",
              "      <td>12235</td>\n",
              "      <td>23801</td>\n",
              "      <td>31473</td>\n",
              "      <td>14092</td>\n",
              "      <td>5129</td>\n",
              "      <td>7918</td>\n",
              "      <td>87200</td>\n",
              "      <td>190753</td>\n",
              "      <td>False</td>\n",
              "      <td>204211.905405</td>\n",
              "      <td>232457.905320</td>\n",
              "      <td>175965.905490</td>\n",
              "    </tr>\n",
              "    <tr>\n",
              "      <th>3</th>\n",
              "      <td>2017-03-04</td>\n",
              "      <td>2017</td>\n",
              "      <td>3</td>\n",
              "      <td>2017-03</td>\n",
              "      <td>4</td>\n",
              "      <td>Saturday</td>\n",
              "      <td>False</td>\n",
              "      <td>-6.5</td>\n",
              "      <td>-11.9</td>\n",
              "      <td>-9.2</td>\n",
              "      <td>-0.251613</td>\n",
              "      <td>-8.948387</td>\n",
              "      <td>0.2</td>\n",
              "      <td>2.335484</td>\n",
              "      <td>-2.135484</td>\n",
              "      <td>0.5</td>\n",
              "      <td>928</td>\n",
              "      <td>480</td>\n",
              "      <td>7872</td>\n",
              "      <td>11756</td>\n",
              "      <td>208</td>\n",
              "      <td>0</td>\n",
              "      <td>246</td>\n",
              "      <td>13899</td>\n",
              "      <td>35389</td>\n",
              "      <td>False</td>\n",
              "      <td>45352.333333</td>\n",
              "      <td>73886.656469</td>\n",
              "      <td>16818.010198</td>\n",
              "    </tr>\n",
              "    <tr>\n",
              "      <th>4</th>\n",
              "      <td>2017-03-05</td>\n",
              "      <td>2017</td>\n",
              "      <td>3</td>\n",
              "      <td>2017-03</td>\n",
              "      <td>5</td>\n",
              "      <td>Sunday</td>\n",
              "      <td>False</td>\n",
              "      <td>-0.4</td>\n",
              "      <td>-10.6</td>\n",
              "      <td>-5.5</td>\n",
              "      <td>-0.251613</td>\n",
              "      <td>-5.248387</td>\n",
              "      <td>0.0</td>\n",
              "      <td>2.335484</td>\n",
              "      <td>-2.335484</td>\n",
              "      <td>0.5</td>\n",
              "      <td>803</td>\n",
              "      <td>398</td>\n",
              "      <td>4714</td>\n",
              "      <td>8381</td>\n",
              "      <td>169</td>\n",
              "      <td>0</td>\n",
              "      <td>156</td>\n",
              "      <td>8505</td>\n",
              "      <td>23126</td>\n",
              "      <td>False</td>\n",
              "      <td>32455.370861</td>\n",
              "      <td>53039.519234</td>\n",
              "      <td>11871.222488</td>\n",
              "    </tr>\n",
              "  </tbody>\n",
              "</table>\n",
              "</div>"
            ],
            "text/plain": [
              "        Date  Year  Month  ...   Overall Mean      2SD_above      2SD_below\n",
              "0 2017-03-01  2017      3  ...  227296.503311  254365.810172  200227.196451\n",
              "1 2017-03-02  2017      3  ...  224966.615894  253295.696280  196637.535508\n",
              "2 2017-03-03  2017      3  ...  204211.905405  232457.905320  175965.905490\n",
              "3 2017-03-04  2017      3  ...   45352.333333   73886.656469   16818.010198\n",
              "4 2017-03-05  2017      3  ...   32455.370861   53039.519234   11871.222488\n",
              "\n",
              "[5 rows x 29 columns]"
            ]
          },
          "metadata": {
            "tags": []
          },
          "execution_count": 3
        }
      ]
    },
    {
      "cell_type": "code",
      "metadata": {
        "id": "YpQF8fNdVDV-",
        "colab_type": "code",
        "colab": {
          "base_uri": "https://localhost:8080/",
          "height": 360
        },
        "outputId": "4a7a8339-f0fb-43fe-9e9f-5a72b0cdaf0a"
      },
      "source": [
        "# Convert weekdays into integers\n",
        "\n",
        "weekday = {'Monday':1 , 'Tuesday':2 , 'Wednesday':3, 'Thursday':4, 'Friday':5, 'Saturday':6, 'Sunday':7}\n",
        "df.Weekday = [weekday[item] for item in df.Weekday]\n",
        "df.head()"
      ],
      "execution_count": 4,
      "outputs": [
        {
          "output_type": "execute_result",
          "data": {
            "text/html": [
              "<div>\n",
              "<style scoped>\n",
              "    .dataframe tbody tr th:only-of-type {\n",
              "        vertical-align: middle;\n",
              "    }\n",
              "\n",
              "    .dataframe tbody tr th {\n",
              "        vertical-align: top;\n",
              "    }\n",
              "\n",
              "    .dataframe thead th {\n",
              "        text-align: right;\n",
              "    }\n",
              "</style>\n",
              "<table border=\"1\" class=\"dataframe\">\n",
              "  <thead>\n",
              "    <tr style=\"text-align: right;\">\n",
              "      <th></th>\n",
              "      <th>Date</th>\n",
              "      <th>Year</th>\n",
              "      <th>Month</th>\n",
              "      <th>year_month</th>\n",
              "      <th>Day</th>\n",
              "      <th>Weekday</th>\n",
              "      <th>Holiday</th>\n",
              "      <th>Max Temp (°C)</th>\n",
              "      <th>Min Temp (°C)</th>\n",
              "      <th>Mean Temp (°C)</th>\n",
              "      <th>Monthly Mean Temp (°C)</th>\n",
              "      <th>Delta Temp (°C)</th>\n",
              "      <th>Total Precip (mm)</th>\n",
              "      <th>Monthly Mean Precip (mm)</th>\n",
              "      <th>Delta Precip (mm)</th>\n",
              "      <th>Snow on Grnd (cm)</th>\n",
              "      <th>Barrie Ridership</th>\n",
              "      <th>Kitchener Ridership</th>\n",
              "      <th>Lakeshore East Ridership</th>\n",
              "      <th>Lakeshore West Ridership</th>\n",
              "      <th>Milton Ridership</th>\n",
              "      <th>Richmond Hill Ridership</th>\n",
              "      <th>Stouffville Ridership</th>\n",
              "      <th>Union Station Ridership</th>\n",
              "      <th>Total GO Ridership</th>\n",
              "      <th>Outlier</th>\n",
              "      <th>Overall Mean</th>\n",
              "      <th>2SD_above</th>\n",
              "      <th>2SD_below</th>\n",
              "    </tr>\n",
              "  </thead>\n",
              "  <tbody>\n",
              "    <tr>\n",
              "      <th>0</th>\n",
              "      <td>2017-03-01</td>\n",
              "      <td>2017</td>\n",
              "      <td>3</td>\n",
              "      <td>2017-03</td>\n",
              "      <td>1</td>\n",
              "      <td>3</td>\n",
              "      <td>False</td>\n",
              "      <td>13.1</td>\n",
              "      <td>-1.9</td>\n",
              "      <td>5.6</td>\n",
              "      <td>-0.251613</td>\n",
              "      <td>5.851613</td>\n",
              "      <td>18.4</td>\n",
              "      <td>2.335484</td>\n",
              "      <td>16.064516</td>\n",
              "      <td>0.0</td>\n",
              "      <td>10022</td>\n",
              "      <td>13585</td>\n",
              "      <td>25273</td>\n",
              "      <td>32909</td>\n",
              "      <td>15599</td>\n",
              "      <td>5639</td>\n",
              "      <td>8804</td>\n",
              "      <td>95802</td>\n",
              "      <td>207633</td>\n",
              "      <td>False</td>\n",
              "      <td>227296.503311</td>\n",
              "      <td>254365.810172</td>\n",
              "      <td>200227.196451</td>\n",
              "    </tr>\n",
              "    <tr>\n",
              "      <th>1</th>\n",
              "      <td>2017-03-02</td>\n",
              "      <td>2017</td>\n",
              "      <td>3</td>\n",
              "      <td>2017-03</td>\n",
              "      <td>2</td>\n",
              "      <td>4</td>\n",
              "      <td>False</td>\n",
              "      <td>-1.3</td>\n",
              "      <td>-6.4</td>\n",
              "      <td>-3.9</td>\n",
              "      <td>-0.251613</td>\n",
              "      <td>-3.648387</td>\n",
              "      <td>0.2</td>\n",
              "      <td>2.335484</td>\n",
              "      <td>-2.135484</td>\n",
              "      <td>0.5</td>\n",
              "      <td>9932</td>\n",
              "      <td>13331</td>\n",
              "      <td>26120</td>\n",
              "      <td>33884</td>\n",
              "      <td>15653</td>\n",
              "      <td>5665</td>\n",
              "      <td>8736</td>\n",
              "      <td>95873</td>\n",
              "      <td>209194</td>\n",
              "      <td>False</td>\n",
              "      <td>224966.615894</td>\n",
              "      <td>253295.696280</td>\n",
              "      <td>196637.535508</td>\n",
              "    </tr>\n",
              "    <tr>\n",
              "      <th>2</th>\n",
              "      <td>2017-03-03</td>\n",
              "      <td>2017</td>\n",
              "      <td>3</td>\n",
              "      <td>2017-03</td>\n",
              "      <td>3</td>\n",
              "      <td>5</td>\n",
              "      <td>False</td>\n",
              "      <td>-4.3</td>\n",
              "      <td>-8.1</td>\n",
              "      <td>-6.2</td>\n",
              "      <td>-0.251613</td>\n",
              "      <td>-5.948387</td>\n",
              "      <td>0.0</td>\n",
              "      <td>2.335484</td>\n",
              "      <td>-2.335484</td>\n",
              "      <td>0.5</td>\n",
              "      <td>8905</td>\n",
              "      <td>12235</td>\n",
              "      <td>23801</td>\n",
              "      <td>31473</td>\n",
              "      <td>14092</td>\n",
              "      <td>5129</td>\n",
              "      <td>7918</td>\n",
              "      <td>87200</td>\n",
              "      <td>190753</td>\n",
              "      <td>False</td>\n",
              "      <td>204211.905405</td>\n",
              "      <td>232457.905320</td>\n",
              "      <td>175965.905490</td>\n",
              "    </tr>\n",
              "    <tr>\n",
              "      <th>3</th>\n",
              "      <td>2017-03-04</td>\n",
              "      <td>2017</td>\n",
              "      <td>3</td>\n",
              "      <td>2017-03</td>\n",
              "      <td>4</td>\n",
              "      <td>6</td>\n",
              "      <td>False</td>\n",
              "      <td>-6.5</td>\n",
              "      <td>-11.9</td>\n",
              "      <td>-9.2</td>\n",
              "      <td>-0.251613</td>\n",
              "      <td>-8.948387</td>\n",
              "      <td>0.2</td>\n",
              "      <td>2.335484</td>\n",
              "      <td>-2.135484</td>\n",
              "      <td>0.5</td>\n",
              "      <td>928</td>\n",
              "      <td>480</td>\n",
              "      <td>7872</td>\n",
              "      <td>11756</td>\n",
              "      <td>208</td>\n",
              "      <td>0</td>\n",
              "      <td>246</td>\n",
              "      <td>13899</td>\n",
              "      <td>35389</td>\n",
              "      <td>False</td>\n",
              "      <td>45352.333333</td>\n",
              "      <td>73886.656469</td>\n",
              "      <td>16818.010198</td>\n",
              "    </tr>\n",
              "    <tr>\n",
              "      <th>4</th>\n",
              "      <td>2017-03-05</td>\n",
              "      <td>2017</td>\n",
              "      <td>3</td>\n",
              "      <td>2017-03</td>\n",
              "      <td>5</td>\n",
              "      <td>7</td>\n",
              "      <td>False</td>\n",
              "      <td>-0.4</td>\n",
              "      <td>-10.6</td>\n",
              "      <td>-5.5</td>\n",
              "      <td>-0.251613</td>\n",
              "      <td>-5.248387</td>\n",
              "      <td>0.0</td>\n",
              "      <td>2.335484</td>\n",
              "      <td>-2.335484</td>\n",
              "      <td>0.5</td>\n",
              "      <td>803</td>\n",
              "      <td>398</td>\n",
              "      <td>4714</td>\n",
              "      <td>8381</td>\n",
              "      <td>169</td>\n",
              "      <td>0</td>\n",
              "      <td>156</td>\n",
              "      <td>8505</td>\n",
              "      <td>23126</td>\n",
              "      <td>False</td>\n",
              "      <td>32455.370861</td>\n",
              "      <td>53039.519234</td>\n",
              "      <td>11871.222488</td>\n",
              "    </tr>\n",
              "  </tbody>\n",
              "</table>\n",
              "</div>"
            ],
            "text/plain": [
              "        Date  Year  Month  ...   Overall Mean      2SD_above      2SD_below\n",
              "0 2017-03-01  2017      3  ...  227296.503311  254365.810172  200227.196451\n",
              "1 2017-03-02  2017      3  ...  224966.615894  253295.696280  196637.535508\n",
              "2 2017-03-03  2017      3  ...  204211.905405  232457.905320  175965.905490\n",
              "3 2017-03-04  2017      3  ...   45352.333333   73886.656469   16818.010198\n",
              "4 2017-03-05  2017      3  ...   32455.370861   53039.519234   11871.222488\n",
              "\n",
              "[5 rows x 29 columns]"
            ]
          },
          "metadata": {
            "tags": []
          },
          "execution_count": 4
        }
      ]
    },
    {
      "cell_type": "code",
      "metadata": {
        "id": "L502tKrMVDWA",
        "colab_type": "code",
        "colab": {
          "base_uri": "https://localhost:8080/",
          "height": 216
        },
        "outputId": "8998b9bd-bbbc-4085-fb8e-bb1c9304fcfb"
      },
      "source": [
        "# Let's create a new dataset to only select the month of January\n",
        "\n",
        "jan_df = df[(df.Month == 1)& (df.Year != 2017)]\n",
        "jan_df.head(2)"
      ],
      "execution_count": 5,
      "outputs": [
        {
          "output_type": "execute_result",
          "data": {
            "text/html": [
              "<div>\n",
              "<style scoped>\n",
              "    .dataframe tbody tr th:only-of-type {\n",
              "        vertical-align: middle;\n",
              "    }\n",
              "\n",
              "    .dataframe tbody tr th {\n",
              "        vertical-align: top;\n",
              "    }\n",
              "\n",
              "    .dataframe thead th {\n",
              "        text-align: right;\n",
              "    }\n",
              "</style>\n",
              "<table border=\"1\" class=\"dataframe\">\n",
              "  <thead>\n",
              "    <tr style=\"text-align: right;\">\n",
              "      <th></th>\n",
              "      <th>Date</th>\n",
              "      <th>Year</th>\n",
              "      <th>Month</th>\n",
              "      <th>year_month</th>\n",
              "      <th>Day</th>\n",
              "      <th>Weekday</th>\n",
              "      <th>Holiday</th>\n",
              "      <th>Max Temp (°C)</th>\n",
              "      <th>Min Temp (°C)</th>\n",
              "      <th>Mean Temp (°C)</th>\n",
              "      <th>Monthly Mean Temp (°C)</th>\n",
              "      <th>Delta Temp (°C)</th>\n",
              "      <th>Total Precip (mm)</th>\n",
              "      <th>Monthly Mean Precip (mm)</th>\n",
              "      <th>Delta Precip (mm)</th>\n",
              "      <th>Snow on Grnd (cm)</th>\n",
              "      <th>Barrie Ridership</th>\n",
              "      <th>Kitchener Ridership</th>\n",
              "      <th>Lakeshore East Ridership</th>\n",
              "      <th>Lakeshore West Ridership</th>\n",
              "      <th>Milton Ridership</th>\n",
              "      <th>Richmond Hill Ridership</th>\n",
              "      <th>Stouffville Ridership</th>\n",
              "      <th>Union Station Ridership</th>\n",
              "      <th>Total GO Ridership</th>\n",
              "      <th>Outlier</th>\n",
              "      <th>Overall Mean</th>\n",
              "      <th>2SD_above</th>\n",
              "      <th>2SD_below</th>\n",
              "    </tr>\n",
              "  </thead>\n",
              "  <tbody>\n",
              "    <tr>\n",
              "      <th>306</th>\n",
              "      <td>2018-01-01</td>\n",
              "      <td>2018</td>\n",
              "      <td>1</td>\n",
              "      <td>2018-01</td>\n",
              "      <td>1</td>\n",
              "      <td>1</td>\n",
              "      <td>True</td>\n",
              "      <td>-7.9</td>\n",
              "      <td>-18.6</td>\n",
              "      <td>-13.3</td>\n",
              "      <td>-4.383871</td>\n",
              "      <td>-8.916129</td>\n",
              "      <td>0.2</td>\n",
              "      <td>1.929032</td>\n",
              "      <td>-1.729032</td>\n",
              "      <td>0.0</td>\n",
              "      <td>857</td>\n",
              "      <td>366</td>\n",
              "      <td>3844</td>\n",
              "      <td>6347</td>\n",
              "      <td>96</td>\n",
              "      <td>0</td>\n",
              "      <td>131</td>\n",
              "      <td>8728</td>\n",
              "      <td>20369</td>\n",
              "      <td>True</td>\n",
              "      <td>NaN</td>\n",
              "      <td>NaN</td>\n",
              "      <td>NaN</td>\n",
              "    </tr>\n",
              "    <tr>\n",
              "      <th>307</th>\n",
              "      <td>2018-01-02</td>\n",
              "      <td>2018</td>\n",
              "      <td>1</td>\n",
              "      <td>2018-01</td>\n",
              "      <td>2</td>\n",
              "      <td>2</td>\n",
              "      <td>False</td>\n",
              "      <td>-7.1</td>\n",
              "      <td>-12.5</td>\n",
              "      <td>-9.8</td>\n",
              "      <td>-4.383871</td>\n",
              "      <td>-5.416129</td>\n",
              "      <td>0.0</td>\n",
              "      <td>1.929032</td>\n",
              "      <td>-1.929032</td>\n",
              "      <td>0.0</td>\n",
              "      <td>7706</td>\n",
              "      <td>10584</td>\n",
              "      <td>20084</td>\n",
              "      <td>25182</td>\n",
              "      <td>12040</td>\n",
              "      <td>4359</td>\n",
              "      <td>6969</td>\n",
              "      <td>74432</td>\n",
              "      <td>161356</td>\n",
              "      <td>True</td>\n",
              "      <td>NaN</td>\n",
              "      <td>NaN</td>\n",
              "      <td>NaN</td>\n",
              "    </tr>\n",
              "  </tbody>\n",
              "</table>\n",
              "</div>"
            ],
            "text/plain": [
              "          Date  Year  Month  ... Overall Mean  2SD_above  2SD_below\n",
              "306 2018-01-01  2018      1  ...          NaN        NaN        NaN\n",
              "307 2018-01-02  2018      1  ...          NaN        NaN        NaN\n",
              "\n",
              "[2 rows x 29 columns]"
            ]
          },
          "metadata": {
            "tags": []
          },
          "execution_count": 5
        }
      ]
    },
    {
      "cell_type": "markdown",
      "metadata": {
        "id": "xYHhUFvxVDWD",
        "colab_type": "text"
      },
      "source": [
        "Let's plot our data points on a graph to eyeball our dataset. We will take a look specifically at Union Station, a central station in Toronto."
      ]
    },
    {
      "cell_type": "code",
      "metadata": {
        "id": "jkcVs9TuVDWF",
        "colab_type": "code",
        "colab": {
          "base_uri": "https://localhost:8080/",
          "height": 386
        },
        "outputId": "37fda14c-3253-4928-fc0f-8517dffe41d8"
      },
      "source": [
        "sns.relplot(x='Weekday',y='Union Station Ridership', data=jan_df,hue='Year',palette='Paired')"
      ],
      "execution_count": 6,
      "outputs": [
        {
          "output_type": "execute_result",
          "data": {
            "text/plain": [
              "<seaborn.axisgrid.FacetGrid at 0x7fadb7a3e2b0>"
            ]
          },
          "metadata": {
            "tags": []
          },
          "execution_count": 6
        },
        {
          "output_type": "display_data",
          "data": {
            "image/png": "[encoded data removed]",
            "text/plain": [
              "<Figure size 421.375x360 with 1 Axes>"
            ]
          },
          "metadata": {
            "tags": [],
            "needs_background": "light"
          }
        }
      ]
    },
    {
      "cell_type": "markdown",
      "metadata": {
        "id": "85CEWhXTVDWI",
        "colab_type": "text"
      },
      "source": [
        "We notice one outliner by year where there is very little Riderships: the 1st of January."
      ]
    },
    {
      "cell_type": "markdown",
      "metadata": {
        "id": "Q5wO9LS7VDWI",
        "colab_type": "text"
      },
      "source": [
        "Let's check our average Riderships for Union Station. "
      ]
    },
    {
      "cell_type": "code",
      "metadata": {
        "id": "byEsf15aVDWJ",
        "colab_type": "code",
        "colab": {
          "base_uri": "https://localhost:8080/",
          "height": 253
        },
        "outputId": "f2d3c41b-7360-43c4-8d9b-365395de4c32"
      },
      "source": [
        "plt.figure(figsize=(5,3))\n",
        "plt.tight_layout()\n",
        "sns.distplot(jan_df['Union Station Ridership'])"
      ],
      "execution_count": 7,
      "outputs": [
        {
          "output_type": "execute_result",
          "data": {
            "text/plain": [
              "<matplotlib.axes._subplots.AxesSubplot at 0x7fadc5ec91d0>"
            ]
          },
          "metadata": {
            "tags": []
          },
          "execution_count": 7
        },
        {
          "output_type": "display_data",
          "data": {
            "image/png": "[encoded data removed]",
            "text/plain": [
              "<Figure size 360x216 with 1 Axes>"
            ]
          },
          "metadata": {
            "tags": [],
            "needs_background": "light"
          }
        }
      ]
    },
    {
      "cell_type": "code",
      "metadata": {
        "id": "0UceuNBwVDWM",
        "colab_type": "code",
        "colab": {}
      },
      "source": [
        "# Now let's divide the data into attributes ('Weekday') and labels ('Union Station Riderships').\n",
        "\n",
        "X=jan_df['Weekday'].values.reshape(-1,1)\n",
        "y=jan_df['Union Station Ridership'].values.reshape(-1,1)"
      ],
      "execution_count": 0,
      "outputs": []
    },
    {
      "cell_type": "code",
      "metadata": {
        "id": "U0da5xLaVDWO",
        "colab_type": "code",
        "colab": {}
      },
      "source": [
        "#Split the data to 20% of the data to test set.\n",
        "\n",
        "X_train, X_test, y_train, y_test = train_test_split(X, y, test_size=0.2, random_state=0)"
      ],
      "execution_count": 0,
      "outputs": []
    },
    {
      "cell_type": "code",
      "metadata": {
        "id": "KguQgHeEVDWQ",
        "colab_type": "code",
        "colab": {
          "base_uri": "https://localhost:8080/",
          "height": 34
        },
        "outputId": "e581869c-a90e-48f4-ebbe-fab9a5462eae"
      },
      "source": [
        "# Train the algorithm\n",
        "\n",
        "regressor = LinearRegression()  \n",
        "regressor.fit(X_train, y_train) #training the algorithm"
      ],
      "execution_count": 10,
      "outputs": [
        {
          "output_type": "execute_result",
          "data": {
            "text/plain": [
              "LinearRegression(copy_X=True, fit_intercept=True, n_jobs=None, normalize=False)"
            ]
          },
          "metadata": {
            "tags": []
          },
          "execution_count": 10
        }
      ]
    },
    {
      "cell_type": "code",
      "metadata": {
        "id": "T7QggCKQVDWT",
        "colab_type": "code",
        "colab": {
          "base_uri": "https://localhost:8080/",
          "height": 51
        },
        "outputId": "1158e83e-e125-41bb-9661-d3b3d1862cc3"
      },
      "source": [
        "#To retrieve the intercept:\n",
        "print(regressor.intercept_)\n",
        "\n",
        "#For retrieving the slope:\n",
        "print(regressor.coef_)"
      ],
      "execution_count": 11,
      "outputs": [
        {
          "output_type": "stream",
          "text": [
            "[133086.70290928]\n",
            "[[-15336.91472794]]\n"
          ],
          "name": "stdout"
        }
      ]
    },
    {
      "cell_type": "code",
      "metadata": {
        "id": "SJpRwotFVDWW",
        "colab_type": "code",
        "colab": {}
      },
      "source": [
        "y_pred = regressor.predict(X_test)"
      ],
      "execution_count": 0,
      "outputs": []
    },
    {
      "cell_type": "code",
      "metadata": {
        "id": "rFRWSi7iVDWY",
        "colab_type": "code",
        "colab": {
          "base_uri": "https://localhost:8080/",
          "height": 638
        },
        "outputId": "7cd2c39b-471b-4a50-a7d2-96f2792ab07c"
      },
      "source": [
        "# Let's use our test data and see how accurately our algorithm predicts the percentage score.\n",
        "\n",
        "df = pd.DataFrame({'Actual': y_test.flatten(), 'Predicted': y_pred.flatten()}).round()\n",
        "df"
      ],
      "execution_count": 13,
      "outputs": [
        {
          "output_type": "execute_result",
          "data": {
            "text/html": [
              "<div>\n",
              "<style scoped>\n",
              "    .dataframe tbody tr th:only-of-type {\n",
              "        vertical-align: middle;\n",
              "    }\n",
              "\n",
              "    .dataframe tbody tr th {\n",
              "        vertical-align: top;\n",
              "    }\n",
              "\n",
              "    .dataframe thead th {\n",
              "        text-align: right;\n",
              "    }\n",
              "</style>\n",
              "<table border=\"1\" class=\"dataframe\">\n",
              "  <thead>\n",
              "    <tr style=\"text-align: right;\">\n",
              "      <th></th>\n",
              "      <th>Actual</th>\n",
              "      <th>Predicted</th>\n",
              "    </tr>\n",
              "  </thead>\n",
              "  <tbody>\n",
              "    <tr>\n",
              "      <th>0</th>\n",
              "      <td>81222</td>\n",
              "      <td>87076.0</td>\n",
              "    </tr>\n",
              "    <tr>\n",
              "      <th>1</th>\n",
              "      <td>104331</td>\n",
              "      <td>87076.0</td>\n",
              "    </tr>\n",
              "    <tr>\n",
              "      <th>2</th>\n",
              "      <td>96768</td>\n",
              "      <td>56402.0</td>\n",
              "    </tr>\n",
              "    <tr>\n",
              "      <th>3</th>\n",
              "      <td>101709</td>\n",
              "      <td>87076.0</td>\n",
              "    </tr>\n",
              "    <tr>\n",
              "      <th>4</th>\n",
              "      <td>9598</td>\n",
              "      <td>25728.0</td>\n",
              "    </tr>\n",
              "    <tr>\n",
              "      <th>5</th>\n",
              "      <td>92037</td>\n",
              "      <td>117750.0</td>\n",
              "    </tr>\n",
              "    <tr>\n",
              "      <th>6</th>\n",
              "      <td>99938</td>\n",
              "      <td>71739.0</td>\n",
              "    </tr>\n",
              "    <tr>\n",
              "      <th>7</th>\n",
              "      <td>109227</td>\n",
              "      <td>102413.0</td>\n",
              "    </tr>\n",
              "    <tr>\n",
              "      <th>8</th>\n",
              "      <td>84255</td>\n",
              "      <td>71739.0</td>\n",
              "    </tr>\n",
              "    <tr>\n",
              "      <th>9</th>\n",
              "      <td>112993</td>\n",
              "      <td>71739.0</td>\n",
              "    </tr>\n",
              "    <tr>\n",
              "      <th>10</th>\n",
              "      <td>95617</td>\n",
              "      <td>56402.0</td>\n",
              "    </tr>\n",
              "    <tr>\n",
              "      <th>11</th>\n",
              "      <td>96720</td>\n",
              "      <td>117750.0</td>\n",
              "    </tr>\n",
              "    <tr>\n",
              "      <th>12</th>\n",
              "      <td>12188</td>\n",
              "      <td>41065.0</td>\n",
              "    </tr>\n",
              "    <tr>\n",
              "      <th>13</th>\n",
              "      <td>7558</td>\n",
              "      <td>25728.0</td>\n",
              "    </tr>\n",
              "    <tr>\n",
              "      <th>14</th>\n",
              "      <td>6803</td>\n",
              "      <td>25728.0</td>\n",
              "    </tr>\n",
              "    <tr>\n",
              "      <th>15</th>\n",
              "      <td>69857</td>\n",
              "      <td>102413.0</td>\n",
              "    </tr>\n",
              "    <tr>\n",
              "      <th>16</th>\n",
              "      <td>101278</td>\n",
              "      <td>102413.0</td>\n",
              "    </tr>\n",
              "    <tr>\n",
              "      <th>17</th>\n",
              "      <td>101445</td>\n",
              "      <td>102413.0</td>\n",
              "    </tr>\n",
              "    <tr>\n",
              "      <th>18</th>\n",
              "      <td>110828</td>\n",
              "      <td>102413.0</td>\n",
              "    </tr>\n",
              "  </tbody>\n",
              "</table>\n",
              "</div>"
            ],
            "text/plain": [
              "    Actual  Predicted\n",
              "0    81222    87076.0\n",
              "1   104331    87076.0\n",
              "2    96768    56402.0\n",
              "3   101709    87076.0\n",
              "4     9598    25728.0\n",
              "5    92037   117750.0\n",
              "6    99938    71739.0\n",
              "7   109227   102413.0\n",
              "8    84255    71739.0\n",
              "9   112993    71739.0\n",
              "10   95617    56402.0\n",
              "11   96720   117750.0\n",
              "12   12188    41065.0\n",
              "13    7558    25728.0\n",
              "14    6803    25728.0\n",
              "15   69857   102413.0\n",
              "16  101278   102413.0\n",
              "17  101445   102413.0\n",
              "18  110828   102413.0"
            ]
          },
          "metadata": {
            "tags": []
          },
          "execution_count": 13
        }
      ]
    },
    {
      "cell_type": "code",
      "metadata": {
        "id": "1qVB8yjCVDWb",
        "colab_type": "code",
        "colab": {
          "base_uri": "https://localhost:8080/",
          "height": 486
        },
        "outputId": "545b437c-ad2c-4915-f0b2-a411239123bf"
      },
      "source": [
        "# Let's plot our results \n",
        "\n",
        "\n",
        "df1 = df.head(15)\n",
        "df1.plot(kind='bar',figsize=(13,8))\n",
        "plt.grid(which='major', linestyle='-', linewidth='0.5', color='green')\n",
        "plt.grid(which='minor', linestyle=':', linewidth='0.5', color='black')\n",
        "plt.show()"
      ],
      "execution_count": 14,
      "outputs": [
        {
          "output_type": "display_data",
          "data": {
            "image/png": "[encoded data removed]",
            "text/plain": [
              "<Figure size 936x576 with 1 Axes>"
            ]
          },
          "metadata": {
            "tags": [],
            "needs_background": "light"
          }
        }
      ]
    },
    {
      "cell_type": "markdown",
      "metadata": {
        "id": "0Vf_vV_kVDWe",
        "colab_type": "text"
      },
      "source": [
        "### Even though the model may lack precision, it is a good predictor of more busy days (Weekdays) vs. less busy days (Weekends). Would we get a more precise model using a full year and removing the outliers? We will look at this in part 2."
      ]
    }
  ]
}