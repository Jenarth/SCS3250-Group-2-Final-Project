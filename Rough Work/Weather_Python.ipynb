{
  "nbformat": 4,
  "nbformat_minor": 0,
  "metadata": {
    "kernelspec": {
      "display_name": "Python 3",
      "language": "python",
      "name": "python3"
    },
    "language_info": {
      "codemirror_mode": {
        "name": "ipython",
        "version": 3
      },
      "file_extension": ".py",
      "mimetype": "text/x-python",
      "name": "python",
      "nbconvert_exporter": "python",
      "pygments_lexer": "ipython3",
      "version": "3.7.4"
    },
    "colab": {
      "name": "Weather_Python.ipynb",
      "provenance": [],
      "include_colab_link": true
    }
  },
  "cells": [
    {
      "cell_type": "markdown",
      "metadata": {
        "id": "view-in-github",
        "colab_type": "text"
      },
      "source": [
        "<a href=\"https://colab.research.google.com/github/Jenarth/SCS3250-Group-2-Final-Project/blob/master/Weather_Python.ipynb\" target=\"_parent\"><img src=\"https://colab.research.google.com/assets/colab-badge.svg\" alt=\"Open In Colab\"/></a>"
      ]
    },
    {
      "cell_type": "markdown",
      "metadata": {
        "id": "D6Oiu6Z2uXfl",
        "colab_type": "text"
      },
      "source": [
        "## Weather Analysis"
      ]
    },
    {
      "cell_type": "code",
      "metadata": {
        "id": "SikoLJgjuXfm",
        "colab_type": "code",
        "colab": {}
      },
      "source": [
        "from numpy.random import randn\n",
        "import numpy as np\n",
        "import pandas as pd\n",
        "\n",
        "import matplotlib.pyplot as plt\n"
      ],
      "execution_count": 0,
      "outputs": []
    },
    {
      "cell_type": "markdown",
      "metadata": {
        "id": "4mlrVs9KuXfq",
        "colab_type": "text"
      },
      "source": [
        "### Import the dataset"
      ]
    },
    {
      "cell_type": "code",
      "metadata": {
        "id": "rMgwCBREuXfq",
        "colab_type": "code",
        "outputId": "9749e666-4328-4b17-9183-43fcba777097",
        "colab": {}
      },
      "source": [
        "url_2019 = \"https://raw.githubusercontent.com/Jenarth/SCS3250-Group-2-Final-Project/master/Weather%20Data/en_climate_daily_ON_6158355_2019_P1D.csv\"\n",
        "weather_2019 = pd.read_csv(url_2019,index_col=1)\n",
        "\n",
        "print(weather_2019.head(5))"
      ],
      "execution_count": 0,
      "outputs": [
        {
          "output_type": "stream",
          "text": [
            "              Longitude (x)  Station Name  Climate ID   Date/Time  Year  \\\n",
            "Latitude (y)                                                              \n",
            "43.67                 -79.4  TORONTO CITY     6158355  2019-01-01  2019   \n",
            "43.67                 -79.4  TORONTO CITY     6158355  2019-01-02  2019   \n",
            "43.67                 -79.4  TORONTO CITY     6158355  2019-01-03  2019   \n",
            "43.67                 -79.4  TORONTO CITY     6158355  2019-01-04  2019   \n",
            "43.67                 -79.4  TORONTO CITY     6158355  2019-01-05  2019   \n",
            "\n",
            "              Month  Day  Data Quality  Max Temp (°C) Max Temp Flag  ...  \\\n",
            "Latitude (y)                                                         ...   \n",
            "43.67             1    1           NaN            6.3           NaN  ...   \n",
            "43.67             1    2           NaN            0.6           NaN  ...   \n",
            "43.67             1    3           NaN            1.5           NaN  ...   \n",
            "43.67             1    4           NaN            7.8           NaN  ...   \n",
            "43.67             1    5           NaN            3.9           NaN  ...   \n",
            "\n",
            "              Total Snow (cm) Total Snow Flag  Total Precip (mm)  \\\n",
            "Latitude (y)                                                       \n",
            "43.67                     NaN             NaN                0.4   \n",
            "43.67                     NaN             NaN                2.9   \n",
            "43.67                     NaN             NaN                0.0   \n",
            "43.67                     NaN             NaN                0.0   \n",
            "43.67                     NaN             NaN                0.0   \n",
            "\n",
            "             Total Precip Flag  Snow on Grnd (cm) Snow on Grnd Flag  \\\n",
            "Latitude (y)                                                          \n",
            "43.67                      NaN                0.0               NaN   \n",
            "43.67                      NaN                0.0               NaN   \n",
            "43.67                      NaN                5.0               NaN   \n",
            "43.67                      NaN                4.0               NaN   \n",
            "43.67                      NaN                1.0               NaN   \n",
            "\n",
            "              Dir of Max Gust (10s deg) Dir of Max Gust Flag  \\\n",
            "Latitude (y)                                                   \n",
            "43.67                               NaN                    M   \n",
            "43.67                               NaN                    M   \n",
            "43.67                               NaN                    M   \n",
            "43.67                               NaN                    M   \n",
            "43.67                               NaN                    M   \n",
            "\n",
            "              Spd of Max Gust (km/h)  Spd of Max Gust Flag  \n",
            "Latitude (y)                                                \n",
            "43.67                            NaN                     M  \n",
            "43.67                            NaN                     M  \n",
            "43.67                            NaN                     M  \n",
            "43.67                            NaN                     M  \n",
            "43.67                            NaN                     M  \n",
            "\n",
            "[5 rows x 30 columns]\n"
          ],
          "name": "stdout"
        }
      ]
    },
    {
      "cell_type": "code",
      "metadata": {
        "id": "5e6meo1puXfu",
        "colab_type": "code",
        "colab": {}
      },
      "source": [
        "url_2018 = \"https://raw.githubusercontent.com/Jenarth/SCS3250-Group-2-Final-Project/master/Weather%20Data/en_climate_daily_ON_6158355_2018_P1D.csv\"\n",
        "weather_2018 = pd.read_csv(url_2019,index_col=1)"
      ],
      "execution_count": 0,
      "outputs": []
    },
    {
      "cell_type": "code",
      "metadata": {
        "id": "ez9dubpOuXfx",
        "colab_type": "code",
        "colab": {}
      },
      "source": [
        "url_2017 = \"https://raw.githubusercontent.com/Jenarth/SCS3250-Group-2-Final-Project/master/Weather%20Data/en_climate_daily_ON_6158355_2017_P1D.csv\"\n",
        "weather_2017 = pd.read_csv(url_2017,index_col=1)"
      ],
      "execution_count": 0,
      "outputs": []
    },
    {
      "cell_type": "code",
      "metadata": {
        "id": "cNrJBMICuXf0",
        "colab_type": "code",
        "outputId": "36177d06-dc24-429f-d218-c2a97f2c8b06",
        "colab": {}
      },
      "source": [
        "weather_2019.drop(['Longitude (x)','Station Name','Climate ID','Data Quality','Snow on Grnd (cm)','Dir of Max Gust (10s deg)','Dir of Max Gust Flag','Spd of Max Gust (km/h)','Spd of Max Gust Flag'], axis=1, inplace=True)\n",
        "\n",
        "weather_2019.head(5)"
      ],
      "execution_count": 0,
      "outputs": [
        {
          "output_type": "execute_result",
          "data": {
            "text/html": [
              "<div>\n",
              "<style scoped>\n",
              "    .dataframe tbody tr th:only-of-type {\n",
              "        vertical-align: middle;\n",
              "    }\n",
              "\n",
              "    .dataframe tbody tr th {\n",
              "        vertical-align: top;\n",
              "    }\n",
              "\n",
              "    .dataframe thead th {\n",
              "        text-align: right;\n",
              "    }\n",
              "</style>\n",
              "<table border=\"1\" class=\"dataframe\">\n",
              "  <thead>\n",
              "    <tr style=\"text-align: right;\">\n",
              "      <th></th>\n",
              "      <th>Date/Time</th>\n",
              "      <th>Year</th>\n",
              "      <th>Month</th>\n",
              "      <th>Day</th>\n",
              "      <th>Max Temp (°C)</th>\n",
              "      <th>Max Temp Flag</th>\n",
              "      <th>Min Temp (°C)</th>\n",
              "      <th>Min Temp Flag</th>\n",
              "      <th>Mean Temp (°C)</th>\n",
              "      <th>Mean Temp Flag</th>\n",
              "      <th>...</th>\n",
              "      <th>Heat Deg Days Flag</th>\n",
              "      <th>Cool Deg Days (°C)</th>\n",
              "      <th>Cool Deg Days Flag</th>\n",
              "      <th>Total Rain (mm)</th>\n",
              "      <th>Total Rain Flag</th>\n",
              "      <th>Total Snow (cm)</th>\n",
              "      <th>Total Snow Flag</th>\n",
              "      <th>Total Precip (mm)</th>\n",
              "      <th>Total Precip Flag</th>\n",
              "      <th>Snow on Grnd Flag</th>\n",
              "    </tr>\n",
              "    <tr>\n",
              "      <th>Latitude (y)</th>\n",
              "      <th></th>\n",
              "      <th></th>\n",
              "      <th></th>\n",
              "      <th></th>\n",
              "      <th></th>\n",
              "      <th></th>\n",
              "      <th></th>\n",
              "      <th></th>\n",
              "      <th></th>\n",
              "      <th></th>\n",
              "      <th></th>\n",
              "      <th></th>\n",
              "      <th></th>\n",
              "      <th></th>\n",
              "      <th></th>\n",
              "      <th></th>\n",
              "      <th></th>\n",
              "      <th></th>\n",
              "      <th></th>\n",
              "      <th></th>\n",
              "      <th></th>\n",
              "    </tr>\n",
              "  </thead>\n",
              "  <tbody>\n",
              "    <tr>\n",
              "      <td>43.67</td>\n",
              "      <td>2019-01-01</td>\n",
              "      <td>2019</td>\n",
              "      <td>1</td>\n",
              "      <td>1</td>\n",
              "      <td>6.3</td>\n",
              "      <td>NaN</td>\n",
              "      <td>-6.6</td>\n",
              "      <td>NaN</td>\n",
              "      <td>-0.1</td>\n",
              "      <td>NaN</td>\n",
              "      <td>...</td>\n",
              "      <td>NaN</td>\n",
              "      <td>0.0</td>\n",
              "      <td>NaN</td>\n",
              "      <td>NaN</td>\n",
              "      <td>NaN</td>\n",
              "      <td>NaN</td>\n",
              "      <td>NaN</td>\n",
              "      <td>0.4</td>\n",
              "      <td>NaN</td>\n",
              "      <td>NaN</td>\n",
              "    </tr>\n",
              "    <tr>\n",
              "      <td>43.67</td>\n",
              "      <td>2019-01-02</td>\n",
              "      <td>2019</td>\n",
              "      <td>1</td>\n",
              "      <td>2</td>\n",
              "      <td>0.6</td>\n",
              "      <td>NaN</td>\n",
              "      <td>-8.2</td>\n",
              "      <td>NaN</td>\n",
              "      <td>-3.8</td>\n",
              "      <td>NaN</td>\n",
              "      <td>...</td>\n",
              "      <td>NaN</td>\n",
              "      <td>0.0</td>\n",
              "      <td>NaN</td>\n",
              "      <td>NaN</td>\n",
              "      <td>NaN</td>\n",
              "      <td>NaN</td>\n",
              "      <td>NaN</td>\n",
              "      <td>2.9</td>\n",
              "      <td>NaN</td>\n",
              "      <td>NaN</td>\n",
              "    </tr>\n",
              "    <tr>\n",
              "      <td>43.67</td>\n",
              "      <td>2019-01-03</td>\n",
              "      <td>2019</td>\n",
              "      <td>1</td>\n",
              "      <td>3</td>\n",
              "      <td>1.5</td>\n",
              "      <td>NaN</td>\n",
              "      <td>-0.6</td>\n",
              "      <td>NaN</td>\n",
              "      <td>0.5</td>\n",
              "      <td>NaN</td>\n",
              "      <td>...</td>\n",
              "      <td>NaN</td>\n",
              "      <td>0.0</td>\n",
              "      <td>NaN</td>\n",
              "      <td>NaN</td>\n",
              "      <td>NaN</td>\n",
              "      <td>NaN</td>\n",
              "      <td>NaN</td>\n",
              "      <td>0.0</td>\n",
              "      <td>NaN</td>\n",
              "      <td>NaN</td>\n",
              "    </tr>\n",
              "    <tr>\n",
              "      <td>43.67</td>\n",
              "      <td>2019-01-04</td>\n",
              "      <td>2019</td>\n",
              "      <td>1</td>\n",
              "      <td>4</td>\n",
              "      <td>7.8</td>\n",
              "      <td>NaN</td>\n",
              "      <td>1.2</td>\n",
              "      <td>NaN</td>\n",
              "      <td>4.5</td>\n",
              "      <td>NaN</td>\n",
              "      <td>...</td>\n",
              "      <td>NaN</td>\n",
              "      <td>0.0</td>\n",
              "      <td>NaN</td>\n",
              "      <td>NaN</td>\n",
              "      <td>NaN</td>\n",
              "      <td>NaN</td>\n",
              "      <td>NaN</td>\n",
              "      <td>0.0</td>\n",
              "      <td>NaN</td>\n",
              "      <td>NaN</td>\n",
              "    </tr>\n",
              "    <tr>\n",
              "      <td>43.67</td>\n",
              "      <td>2019-01-05</td>\n",
              "      <td>2019</td>\n",
              "      <td>1</td>\n",
              "      <td>5</td>\n",
              "      <td>3.9</td>\n",
              "      <td>NaN</td>\n",
              "      <td>1.0</td>\n",
              "      <td>NaN</td>\n",
              "      <td>2.5</td>\n",
              "      <td>NaN</td>\n",
              "      <td>...</td>\n",
              "      <td>NaN</td>\n",
              "      <td>0.0</td>\n",
              "      <td>NaN</td>\n",
              "      <td>NaN</td>\n",
              "      <td>NaN</td>\n",
              "      <td>NaN</td>\n",
              "      <td>NaN</td>\n",
              "      <td>0.0</td>\n",
              "      <td>NaN</td>\n",
              "      <td>NaN</td>\n",
              "    </tr>\n",
              "  </tbody>\n",
              "</table>\n",
              "<p>5 rows × 21 columns</p>\n",
              "</div>"
            ],
            "text/plain": [
              "               Date/Time  Year  Month  Day  Max Temp (°C) Max Temp Flag  \\\n",
              "Latitude (y)                                                              \n",
              "43.67         2019-01-01  2019      1    1            6.3           NaN   \n",
              "43.67         2019-01-02  2019      1    2            0.6           NaN   \n",
              "43.67         2019-01-03  2019      1    3            1.5           NaN   \n",
              "43.67         2019-01-04  2019      1    4            7.8           NaN   \n",
              "43.67         2019-01-05  2019      1    5            3.9           NaN   \n",
              "\n",
              "              Min Temp (°C) Min Temp Flag  Mean Temp (°C) Mean Temp Flag  ...  \\\n",
              "Latitude (y)                                                              ...   \n",
              "43.67                  -6.6           NaN            -0.1            NaN  ...   \n",
              "43.67                  -8.2           NaN            -3.8            NaN  ...   \n",
              "43.67                  -0.6           NaN             0.5            NaN  ...   \n",
              "43.67                   1.2           NaN             4.5            NaN  ...   \n",
              "43.67                   1.0           NaN             2.5            NaN  ...   \n",
              "\n",
              "              Heat Deg Days Flag Cool Deg Days (°C)  Cool Deg Days Flag  \\\n",
              "Latitude (y)                                                              \n",
              "43.67                        NaN                0.0                 NaN   \n",
              "43.67                        NaN                0.0                 NaN   \n",
              "43.67                        NaN                0.0                 NaN   \n",
              "43.67                        NaN                0.0                 NaN   \n",
              "43.67                        NaN                0.0                 NaN   \n",
              "\n",
              "             Total Rain (mm)  Total Rain Flag  Total Snow (cm)  \\\n",
              "Latitude (y)                                                     \n",
              "43.67                    NaN              NaN              NaN   \n",
              "43.67                    NaN              NaN              NaN   \n",
              "43.67                    NaN              NaN              NaN   \n",
              "43.67                    NaN              NaN              NaN   \n",
              "43.67                    NaN              NaN              NaN   \n",
              "\n",
              "              Total Snow Flag  Total Precip (mm)  Total Precip Flag  \\\n",
              "Latitude (y)                                                          \n",
              "43.67                     NaN                0.4                NaN   \n",
              "43.67                     NaN                2.9                NaN   \n",
              "43.67                     NaN                0.0                NaN   \n",
              "43.67                     NaN                0.0                NaN   \n",
              "43.67                     NaN                0.0                NaN   \n",
              "\n",
              "             Snow on Grnd Flag  \n",
              "Latitude (y)                    \n",
              "43.67                      NaN  \n",
              "43.67                      NaN  \n",
              "43.67                      NaN  \n",
              "43.67                      NaN  \n",
              "43.67                      NaN  \n",
              "\n",
              "[5 rows x 21 columns]"
            ]
          },
          "metadata": {
            "tags": []
          },
          "execution_count": 192
        }
      ]
    },
    {
      "cell_type": "code",
      "metadata": {
        "id": "q7T2jucZuXf3",
        "colab_type": "code",
        "colab": {}
      },
      "source": [
        "weather_2018.drop(['Longitude (x)','Station Name','Climate ID','Data Quality','Snow on Grnd (cm)','Dir of Max Gust (10s deg)','Dir of Max Gust Flag','Spd of Max Gust (km/h)','Spd of Max Gust Flag'], axis=1, inplace=True)"
      ],
      "execution_count": 0,
      "outputs": []
    },
    {
      "cell_type": "code",
      "metadata": {
        "id": "TvTrigMUuXf6",
        "colab_type": "code",
        "colab": {}
      },
      "source": [
        "weather_2017.drop(['Longitude (x)','Station Name','Climate ID','Data Quality','Snow on Grnd (cm)','Dir of Max Gust (10s deg)','Dir of Max Gust Flag','Spd of Max Gust (km/h)','Spd of Max Gust Flag'], axis=1, inplace=True)"
      ],
      "execution_count": 0,
      "outputs": []
    },
    {
      "cell_type": "code",
      "metadata": {
        "id": "U1ImzhhLuXf9",
        "colab_type": "code",
        "outputId": "75cbb05b-216c-4212-aa08-d0c91fdd4155",
        "colab": {}
      },
      "source": [
        "weather_2019.columns = [c.replace(' (°C)', '') for c in weather_2019.columns]\n",
        "weather_2019.columns = [c.replace(' (mm)', '') for c in weather_2019.columns]\n",
        "weather_2019.columns = [c.replace(' (cm)', '') for c in weather_2019.columns]\n",
        "weather_2019.columns = [c.replace(' ', '_') for c in weather_2019.columns]\n",
        "weather_2019.head()"
      ],
      "execution_count": 0,
      "outputs": [
        {
          "output_type": "execute_result",
          "data": {
            "text/html": [
              "<div>\n",
              "<style scoped>\n",
              "    .dataframe tbody tr th:only-of-type {\n",
              "        vertical-align: middle;\n",
              "    }\n",
              "\n",
              "    .dataframe tbody tr th {\n",
              "        vertical-align: top;\n",
              "    }\n",
              "\n",
              "    .dataframe thead th {\n",
              "        text-align: right;\n",
              "    }\n",
              "</style>\n",
              "<table border=\"1\" class=\"dataframe\">\n",
              "  <thead>\n",
              "    <tr style=\"text-align: right;\">\n",
              "      <th></th>\n",
              "      <th>Date/Time</th>\n",
              "      <th>Year</th>\n",
              "      <th>Month</th>\n",
              "      <th>Day</th>\n",
              "      <th>Max_Temp</th>\n",
              "      <th>Max_Temp_Flag</th>\n",
              "      <th>Min_Temp</th>\n",
              "      <th>Min_Temp_Flag</th>\n",
              "      <th>Mean_Temp</th>\n",
              "      <th>Mean_Temp_Flag</th>\n",
              "      <th>...</th>\n",
              "      <th>Heat_Deg_Days_Flag</th>\n",
              "      <th>Cool_Deg_Days</th>\n",
              "      <th>Cool_Deg_Days_Flag</th>\n",
              "      <th>Total_Rain</th>\n",
              "      <th>Total_Rain_Flag</th>\n",
              "      <th>Total_Snow</th>\n",
              "      <th>Total_Snow_Flag</th>\n",
              "      <th>Total_Precip</th>\n",
              "      <th>Total_Precip_Flag</th>\n",
              "      <th>Snow_on_Grnd_Flag</th>\n",
              "    </tr>\n",
              "    <tr>\n",
              "      <th>Latitude (y)</th>\n",
              "      <th></th>\n",
              "      <th></th>\n",
              "      <th></th>\n",
              "      <th></th>\n",
              "      <th></th>\n",
              "      <th></th>\n",
              "      <th></th>\n",
              "      <th></th>\n",
              "      <th></th>\n",
              "      <th></th>\n",
              "      <th></th>\n",
              "      <th></th>\n",
              "      <th></th>\n",
              "      <th></th>\n",
              "      <th></th>\n",
              "      <th></th>\n",
              "      <th></th>\n",
              "      <th></th>\n",
              "      <th></th>\n",
              "      <th></th>\n",
              "      <th></th>\n",
              "    </tr>\n",
              "  </thead>\n",
              "  <tbody>\n",
              "    <tr>\n",
              "      <td>43.67</td>\n",
              "      <td>2019-01-01</td>\n",
              "      <td>2019</td>\n",
              "      <td>1</td>\n",
              "      <td>1</td>\n",
              "      <td>6.3</td>\n",
              "      <td>NaN</td>\n",
              "      <td>-6.6</td>\n",
              "      <td>NaN</td>\n",
              "      <td>-0.1</td>\n",
              "      <td>NaN</td>\n",
              "      <td>...</td>\n",
              "      <td>NaN</td>\n",
              "      <td>0.0</td>\n",
              "      <td>NaN</td>\n",
              "      <td>NaN</td>\n",
              "      <td>NaN</td>\n",
              "      <td>NaN</td>\n",
              "      <td>NaN</td>\n",
              "      <td>0.4</td>\n",
              "      <td>NaN</td>\n",
              "      <td>NaN</td>\n",
              "    </tr>\n",
              "    <tr>\n",
              "      <td>43.67</td>\n",
              "      <td>2019-01-02</td>\n",
              "      <td>2019</td>\n",
              "      <td>1</td>\n",
              "      <td>2</td>\n",
              "      <td>0.6</td>\n",
              "      <td>NaN</td>\n",
              "      <td>-8.2</td>\n",
              "      <td>NaN</td>\n",
              "      <td>-3.8</td>\n",
              "      <td>NaN</td>\n",
              "      <td>...</td>\n",
              "      <td>NaN</td>\n",
              "      <td>0.0</td>\n",
              "      <td>NaN</td>\n",
              "      <td>NaN</td>\n",
              "      <td>NaN</td>\n",
              "      <td>NaN</td>\n",
              "      <td>NaN</td>\n",
              "      <td>2.9</td>\n",
              "      <td>NaN</td>\n",
              "      <td>NaN</td>\n",
              "    </tr>\n",
              "    <tr>\n",
              "      <td>43.67</td>\n",
              "      <td>2019-01-03</td>\n",
              "      <td>2019</td>\n",
              "      <td>1</td>\n",
              "      <td>3</td>\n",
              "      <td>1.5</td>\n",
              "      <td>NaN</td>\n",
              "      <td>-0.6</td>\n",
              "      <td>NaN</td>\n",
              "      <td>0.5</td>\n",
              "      <td>NaN</td>\n",
              "      <td>...</td>\n",
              "      <td>NaN</td>\n",
              "      <td>0.0</td>\n",
              "      <td>NaN</td>\n",
              "      <td>NaN</td>\n",
              "      <td>NaN</td>\n",
              "      <td>NaN</td>\n",
              "      <td>NaN</td>\n",
              "      <td>0.0</td>\n",
              "      <td>NaN</td>\n",
              "      <td>NaN</td>\n",
              "    </tr>\n",
              "    <tr>\n",
              "      <td>43.67</td>\n",
              "      <td>2019-01-04</td>\n",
              "      <td>2019</td>\n",
              "      <td>1</td>\n",
              "      <td>4</td>\n",
              "      <td>7.8</td>\n",
              "      <td>NaN</td>\n",
              "      <td>1.2</td>\n",
              "      <td>NaN</td>\n",
              "      <td>4.5</td>\n",
              "      <td>NaN</td>\n",
              "      <td>...</td>\n",
              "      <td>NaN</td>\n",
              "      <td>0.0</td>\n",
              "      <td>NaN</td>\n",
              "      <td>NaN</td>\n",
              "      <td>NaN</td>\n",
              "      <td>NaN</td>\n",
              "      <td>NaN</td>\n",
              "      <td>0.0</td>\n",
              "      <td>NaN</td>\n",
              "      <td>NaN</td>\n",
              "    </tr>\n",
              "    <tr>\n",
              "      <td>43.67</td>\n",
              "      <td>2019-01-05</td>\n",
              "      <td>2019</td>\n",
              "      <td>1</td>\n",
              "      <td>5</td>\n",
              "      <td>3.9</td>\n",
              "      <td>NaN</td>\n",
              "      <td>1.0</td>\n",
              "      <td>NaN</td>\n",
              "      <td>2.5</td>\n",
              "      <td>NaN</td>\n",
              "      <td>...</td>\n",
              "      <td>NaN</td>\n",
              "      <td>0.0</td>\n",
              "      <td>NaN</td>\n",
              "      <td>NaN</td>\n",
              "      <td>NaN</td>\n",
              "      <td>NaN</td>\n",
              "      <td>NaN</td>\n",
              "      <td>0.0</td>\n",
              "      <td>NaN</td>\n",
              "      <td>NaN</td>\n",
              "    </tr>\n",
              "  </tbody>\n",
              "</table>\n",
              "<p>5 rows × 21 columns</p>\n",
              "</div>"
            ],
            "text/plain": [
              "               Date/Time  Year  Month  Day  Max_Temp Max_Temp_Flag  Min_Temp  \\\n",
              "Latitude (y)                                                                   \n",
              "43.67         2019-01-01  2019      1    1       6.3           NaN      -6.6   \n",
              "43.67         2019-01-02  2019      1    2       0.6           NaN      -8.2   \n",
              "43.67         2019-01-03  2019      1    3       1.5           NaN      -0.6   \n",
              "43.67         2019-01-04  2019      1    4       7.8           NaN       1.2   \n",
              "43.67         2019-01-05  2019      1    5       3.9           NaN       1.0   \n",
              "\n",
              "             Min_Temp_Flag  Mean_Temp Mean_Temp_Flag  ...  Heat_Deg_Days_Flag  \\\n",
              "Latitude (y)                                          ...                       \n",
              "43.67                  NaN       -0.1            NaN  ...                 NaN   \n",
              "43.67                  NaN       -3.8            NaN  ...                 NaN   \n",
              "43.67                  NaN        0.5            NaN  ...                 NaN   \n",
              "43.67                  NaN        4.5            NaN  ...                 NaN   \n",
              "43.67                  NaN        2.5            NaN  ...                 NaN   \n",
              "\n",
              "             Cool_Deg_Days  Cool_Deg_Days_Flag Total_Rain  Total_Rain_Flag  \\\n",
              "Latitude (y)                                                                 \n",
              "43.67                  0.0                 NaN        NaN              NaN   \n",
              "43.67                  0.0                 NaN        NaN              NaN   \n",
              "43.67                  0.0                 NaN        NaN              NaN   \n",
              "43.67                  0.0                 NaN        NaN              NaN   \n",
              "43.67                  0.0                 NaN        NaN              NaN   \n",
              "\n",
              "              Total_Snow  Total_Snow_Flag  Total_Precip  Total_Precip_Flag  \\\n",
              "Latitude (y)                                                                 \n",
              "43.67                NaN              NaN           0.4                NaN   \n",
              "43.67                NaN              NaN           2.9                NaN   \n",
              "43.67                NaN              NaN           0.0                NaN   \n",
              "43.67                NaN              NaN           0.0                NaN   \n",
              "43.67                NaN              NaN           0.0                NaN   \n",
              "\n",
              "             Snow_on_Grnd_Flag  \n",
              "Latitude (y)                    \n",
              "43.67                      NaN  \n",
              "43.67                      NaN  \n",
              "43.67                      NaN  \n",
              "43.67                      NaN  \n",
              "43.67                      NaN  \n",
              "\n",
              "[5 rows x 21 columns]"
            ]
          },
          "metadata": {
            "tags": []
          },
          "execution_count": 195
        }
      ]
    },
    {
      "cell_type": "code",
      "metadata": {
        "id": "ie-Aj3YAuXgB",
        "colab_type": "code",
        "outputId": "a1598d8a-0f16-4fa1-f33a-2b1b95b92a44",
        "colab": {}
      },
      "source": [
        "weather_2018.columns = [c.replace(' (°C)', '') for c in weather_2018.columns]\n",
        "weather_2018.columns = [c.replace(' (mm)', '') for c in weather_2018.columns]\n",
        "weather_2018.columns = [c.replace(' (cm)', '') for c in weather_2018.columns]\n",
        "weather_2018.columns = [c.replace(' ', '_') for c in weather_2018.columns]\n",
        "weather_2018.head()"
      ],
      "execution_count": 0,
      "outputs": [
        {
          "output_type": "execute_result",
          "data": {
            "text/html": [
              "<div>\n",
              "<style scoped>\n",
              "    .dataframe tbody tr th:only-of-type {\n",
              "        vertical-align: middle;\n",
              "    }\n",
              "\n",
              "    .dataframe tbody tr th {\n",
              "        vertical-align: top;\n",
              "    }\n",
              "\n",
              "    .dataframe thead th {\n",
              "        text-align: right;\n",
              "    }\n",
              "</style>\n",
              "<table border=\"1\" class=\"dataframe\">\n",
              "  <thead>\n",
              "    <tr style=\"text-align: right;\">\n",
              "      <th></th>\n",
              "      <th>Date/Time</th>\n",
              "      <th>Year</th>\n",
              "      <th>Month</th>\n",
              "      <th>Day</th>\n",
              "      <th>Max_Temp</th>\n",
              "      <th>Max_Temp_Flag</th>\n",
              "      <th>Min_Temp</th>\n",
              "      <th>Min_Temp_Flag</th>\n",
              "      <th>Mean_Temp</th>\n",
              "      <th>Mean_Temp_Flag</th>\n",
              "      <th>...</th>\n",
              "      <th>Heat_Deg_Days_Flag</th>\n",
              "      <th>Cool_Deg_Days</th>\n",
              "      <th>Cool_Deg_Days_Flag</th>\n",
              "      <th>Total_Rain</th>\n",
              "      <th>Total_Rain_Flag</th>\n",
              "      <th>Total_Snow</th>\n",
              "      <th>Total_Snow_Flag</th>\n",
              "      <th>Total_Precip</th>\n",
              "      <th>Total_Precip_Flag</th>\n",
              "      <th>Snow_on_Grnd_Flag</th>\n",
              "    </tr>\n",
              "    <tr>\n",
              "      <th>Latitude (y)</th>\n",
              "      <th></th>\n",
              "      <th></th>\n",
              "      <th></th>\n",
              "      <th></th>\n",
              "      <th></th>\n",
              "      <th></th>\n",
              "      <th></th>\n",
              "      <th></th>\n",
              "      <th></th>\n",
              "      <th></th>\n",
              "      <th></th>\n",
              "      <th></th>\n",
              "      <th></th>\n",
              "      <th></th>\n",
              "      <th></th>\n",
              "      <th></th>\n",
              "      <th></th>\n",
              "      <th></th>\n",
              "      <th></th>\n",
              "      <th></th>\n",
              "      <th></th>\n",
              "    </tr>\n",
              "  </thead>\n",
              "  <tbody>\n",
              "    <tr>\n",
              "      <td>43.67</td>\n",
              "      <td>2019-01-01</td>\n",
              "      <td>2019</td>\n",
              "      <td>1</td>\n",
              "      <td>1</td>\n",
              "      <td>6.3</td>\n",
              "      <td>NaN</td>\n",
              "      <td>-6.6</td>\n",
              "      <td>NaN</td>\n",
              "      <td>-0.1</td>\n",
              "      <td>NaN</td>\n",
              "      <td>...</td>\n",
              "      <td>NaN</td>\n",
              "      <td>0.0</td>\n",
              "      <td>NaN</td>\n",
              "      <td>NaN</td>\n",
              "      <td>NaN</td>\n",
              "      <td>NaN</td>\n",
              "      <td>NaN</td>\n",
              "      <td>0.4</td>\n",
              "      <td>NaN</td>\n",
              "      <td>NaN</td>\n",
              "    </tr>\n",
              "    <tr>\n",
              "      <td>43.67</td>\n",
              "      <td>2019-01-02</td>\n",
              "      <td>2019</td>\n",
              "      <td>1</td>\n",
              "      <td>2</td>\n",
              "      <td>0.6</td>\n",
              "      <td>NaN</td>\n",
              "      <td>-8.2</td>\n",
              "      <td>NaN</td>\n",
              "      <td>-3.8</td>\n",
              "      <td>NaN</td>\n",
              "      <td>...</td>\n",
              "      <td>NaN</td>\n",
              "      <td>0.0</td>\n",
              "      <td>NaN</td>\n",
              "      <td>NaN</td>\n",
              "      <td>NaN</td>\n",
              "      <td>NaN</td>\n",
              "      <td>NaN</td>\n",
              "      <td>2.9</td>\n",
              "      <td>NaN</td>\n",
              "      <td>NaN</td>\n",
              "    </tr>\n",
              "    <tr>\n",
              "      <td>43.67</td>\n",
              "      <td>2019-01-03</td>\n",
              "      <td>2019</td>\n",
              "      <td>1</td>\n",
              "      <td>3</td>\n",
              "      <td>1.5</td>\n",
              "      <td>NaN</td>\n",
              "      <td>-0.6</td>\n",
              "      <td>NaN</td>\n",
              "      <td>0.5</td>\n",
              "      <td>NaN</td>\n",
              "      <td>...</td>\n",
              "      <td>NaN</td>\n",
              "      <td>0.0</td>\n",
              "      <td>NaN</td>\n",
              "      <td>NaN</td>\n",
              "      <td>NaN</td>\n",
              "      <td>NaN</td>\n",
              "      <td>NaN</td>\n",
              "      <td>0.0</td>\n",
              "      <td>NaN</td>\n",
              "      <td>NaN</td>\n",
              "    </tr>\n",
              "    <tr>\n",
              "      <td>43.67</td>\n",
              "      <td>2019-01-04</td>\n",
              "      <td>2019</td>\n",
              "      <td>1</td>\n",
              "      <td>4</td>\n",
              "      <td>7.8</td>\n",
              "      <td>NaN</td>\n",
              "      <td>1.2</td>\n",
              "      <td>NaN</td>\n",
              "      <td>4.5</td>\n",
              "      <td>NaN</td>\n",
              "      <td>...</td>\n",
              "      <td>NaN</td>\n",
              "      <td>0.0</td>\n",
              "      <td>NaN</td>\n",
              "      <td>NaN</td>\n",
              "      <td>NaN</td>\n",
              "      <td>NaN</td>\n",
              "      <td>NaN</td>\n",
              "      <td>0.0</td>\n",
              "      <td>NaN</td>\n",
              "      <td>NaN</td>\n",
              "    </tr>\n",
              "    <tr>\n",
              "      <td>43.67</td>\n",
              "      <td>2019-01-05</td>\n",
              "      <td>2019</td>\n",
              "      <td>1</td>\n",
              "      <td>5</td>\n",
              "      <td>3.9</td>\n",
              "      <td>NaN</td>\n",
              "      <td>1.0</td>\n",
              "      <td>NaN</td>\n",
              "      <td>2.5</td>\n",
              "      <td>NaN</td>\n",
              "      <td>...</td>\n",
              "      <td>NaN</td>\n",
              "      <td>0.0</td>\n",
              "      <td>NaN</td>\n",
              "      <td>NaN</td>\n",
              "      <td>NaN</td>\n",
              "      <td>NaN</td>\n",
              "      <td>NaN</td>\n",
              "      <td>0.0</td>\n",
              "      <td>NaN</td>\n",
              "      <td>NaN</td>\n",
              "    </tr>\n",
              "  </tbody>\n",
              "</table>\n",
              "<p>5 rows × 21 columns</p>\n",
              "</div>"
            ],
            "text/plain": [
              "               Date/Time  Year  Month  Day  Max_Temp Max_Temp_Flag  Min_Temp  \\\n",
              "Latitude (y)                                                                   \n",
              "43.67         2019-01-01  2019      1    1       6.3           NaN      -6.6   \n",
              "43.67         2019-01-02  2019      1    2       0.6           NaN      -8.2   \n",
              "43.67         2019-01-03  2019      1    3       1.5           NaN      -0.6   \n",
              "43.67         2019-01-04  2019      1    4       7.8           NaN       1.2   \n",
              "43.67         2019-01-05  2019      1    5       3.9           NaN       1.0   \n",
              "\n",
              "             Min_Temp_Flag  Mean_Temp Mean_Temp_Flag  ...  Heat_Deg_Days_Flag  \\\n",
              "Latitude (y)                                          ...                       \n",
              "43.67                  NaN       -0.1            NaN  ...                 NaN   \n",
              "43.67                  NaN       -3.8            NaN  ...                 NaN   \n",
              "43.67                  NaN        0.5            NaN  ...                 NaN   \n",
              "43.67                  NaN        4.5            NaN  ...                 NaN   \n",
              "43.67                  NaN        2.5            NaN  ...                 NaN   \n",
              "\n",
              "             Cool_Deg_Days  Cool_Deg_Days_Flag Total_Rain  Total_Rain_Flag  \\\n",
              "Latitude (y)                                                                 \n",
              "43.67                  0.0                 NaN        NaN              NaN   \n",
              "43.67                  0.0                 NaN        NaN              NaN   \n",
              "43.67                  0.0                 NaN        NaN              NaN   \n",
              "43.67                  0.0                 NaN        NaN              NaN   \n",
              "43.67                  0.0                 NaN        NaN              NaN   \n",
              "\n",
              "              Total_Snow  Total_Snow_Flag  Total_Precip  Total_Precip_Flag  \\\n",
              "Latitude (y)                                                                 \n",
              "43.67                NaN              NaN           0.4                NaN   \n",
              "43.67                NaN              NaN           2.9                NaN   \n",
              "43.67                NaN              NaN           0.0                NaN   \n",
              "43.67                NaN              NaN           0.0                NaN   \n",
              "43.67                NaN              NaN           0.0                NaN   \n",
              "\n",
              "             Snow_on_Grnd_Flag  \n",
              "Latitude (y)                    \n",
              "43.67                      NaN  \n",
              "43.67                      NaN  \n",
              "43.67                      NaN  \n",
              "43.67                      NaN  \n",
              "43.67                      NaN  \n",
              "\n",
              "[5 rows x 21 columns]"
            ]
          },
          "metadata": {
            "tags": []
          },
          "execution_count": 197
        }
      ]
    },
    {
      "cell_type": "code",
      "metadata": {
        "id": "JLnrLUd3uXgF",
        "colab_type": "code",
        "outputId": "304a89d0-32ad-4d23-d85e-168c7626ea06",
        "colab": {}
      },
      "source": [
        "weather_2017.columns = [c.replace(' (°C)', '') for c in weather_2017.columns]\n",
        "weather_2017.columns = [c.replace(' (mm)', '') for c in weather_2017.columns]\n",
        "weather_2017.columns = [c.replace(' (cm)', '') for c in weather_2017.columns]\n",
        "weather_2017.columns = [c.replace(' ', '_') for c in weather_2017.columns]\n",
        "weather_2017.head()"
      ],
      "execution_count": 0,
      "outputs": [
        {
          "output_type": "execute_result",
          "data": {
            "text/html": [
              "<div>\n",
              "<style scoped>\n",
              "    .dataframe tbody tr th:only-of-type {\n",
              "        vertical-align: middle;\n",
              "    }\n",
              "\n",
              "    .dataframe tbody tr th {\n",
              "        vertical-align: top;\n",
              "    }\n",
              "\n",
              "    .dataframe thead th {\n",
              "        text-align: right;\n",
              "    }\n",
              "</style>\n",
              "<table border=\"1\" class=\"dataframe\">\n",
              "  <thead>\n",
              "    <tr style=\"text-align: right;\">\n",
              "      <th></th>\n",
              "      <th>Date/Time</th>\n",
              "      <th>Year</th>\n",
              "      <th>Month</th>\n",
              "      <th>Day</th>\n",
              "      <th>Max_Temp</th>\n",
              "      <th>Max_Temp_Flag</th>\n",
              "      <th>Min_Temp</th>\n",
              "      <th>Min_Temp_Flag</th>\n",
              "      <th>Mean_Temp</th>\n",
              "      <th>Mean_Temp_Flag</th>\n",
              "      <th>...</th>\n",
              "      <th>Heat_Deg_Days_Flag</th>\n",
              "      <th>Cool_Deg_Days</th>\n",
              "      <th>Cool_Deg_Days_Flag</th>\n",
              "      <th>Total_Rain</th>\n",
              "      <th>Total_Rain_Flag</th>\n",
              "      <th>Total_Snow</th>\n",
              "      <th>Total_Snow_Flag</th>\n",
              "      <th>Total_Precip</th>\n",
              "      <th>Total_Precip_Flag</th>\n",
              "      <th>Snow_on_Grnd_Flag</th>\n",
              "    </tr>\n",
              "    <tr>\n",
              "      <th>Latitude (y)</th>\n",
              "      <th></th>\n",
              "      <th></th>\n",
              "      <th></th>\n",
              "      <th></th>\n",
              "      <th></th>\n",
              "      <th></th>\n",
              "      <th></th>\n",
              "      <th></th>\n",
              "      <th></th>\n",
              "      <th></th>\n",
              "      <th></th>\n",
              "      <th></th>\n",
              "      <th></th>\n",
              "      <th></th>\n",
              "      <th></th>\n",
              "      <th></th>\n",
              "      <th></th>\n",
              "      <th></th>\n",
              "      <th></th>\n",
              "      <th></th>\n",
              "      <th></th>\n",
              "    </tr>\n",
              "  </thead>\n",
              "  <tbody>\n",
              "    <tr>\n",
              "      <td>43.67</td>\n",
              "      <td>2017-01-01</td>\n",
              "      <td>2017</td>\n",
              "      <td>1</td>\n",
              "      <td>1</td>\n",
              "      <td>3.1</td>\n",
              "      <td>NaN</td>\n",
              "      <td>-0.5</td>\n",
              "      <td>NaN</td>\n",
              "      <td>1.3</td>\n",
              "      <td>NaN</td>\n",
              "      <td>...</td>\n",
              "      <td>NaN</td>\n",
              "      <td>0.0</td>\n",
              "      <td>NaN</td>\n",
              "      <td>NaN</td>\n",
              "      <td>M</td>\n",
              "      <td>NaN</td>\n",
              "      <td>M</td>\n",
              "      <td>0.0</td>\n",
              "      <td>NaN</td>\n",
              "      <td>NaN</td>\n",
              "    </tr>\n",
              "    <tr>\n",
              "      <td>43.67</td>\n",
              "      <td>2017-01-02</td>\n",
              "      <td>2017</td>\n",
              "      <td>1</td>\n",
              "      <td>2</td>\n",
              "      <td>5.5</td>\n",
              "      <td>NaN</td>\n",
              "      <td>0.7</td>\n",
              "      <td>NaN</td>\n",
              "      <td>3.1</td>\n",
              "      <td>NaN</td>\n",
              "      <td>...</td>\n",
              "      <td>NaN</td>\n",
              "      <td>0.0</td>\n",
              "      <td>NaN</td>\n",
              "      <td>NaN</td>\n",
              "      <td>M</td>\n",
              "      <td>NaN</td>\n",
              "      <td>M</td>\n",
              "      <td>0.0</td>\n",
              "      <td>NaN</td>\n",
              "      <td>NaN</td>\n",
              "    </tr>\n",
              "    <tr>\n",
              "      <td>43.67</td>\n",
              "      <td>2017-01-03</td>\n",
              "      <td>2017</td>\n",
              "      <td>1</td>\n",
              "      <td>3</td>\n",
              "      <td>4.8</td>\n",
              "      <td>NaN</td>\n",
              "      <td>2.4</td>\n",
              "      <td>NaN</td>\n",
              "      <td>3.6</td>\n",
              "      <td>NaN</td>\n",
              "      <td>...</td>\n",
              "      <td>NaN</td>\n",
              "      <td>0.0</td>\n",
              "      <td>NaN</td>\n",
              "      <td>NaN</td>\n",
              "      <td>M</td>\n",
              "      <td>NaN</td>\n",
              "      <td>M</td>\n",
              "      <td>11.3</td>\n",
              "      <td>NaN</td>\n",
              "      <td>NaN</td>\n",
              "    </tr>\n",
              "    <tr>\n",
              "      <td>43.67</td>\n",
              "      <td>2017-01-04</td>\n",
              "      <td>2017</td>\n",
              "      <td>1</td>\n",
              "      <td>4</td>\n",
              "      <td>3.8</td>\n",
              "      <td>NaN</td>\n",
              "      <td>-7.6</td>\n",
              "      <td>NaN</td>\n",
              "      <td>-1.9</td>\n",
              "      <td>NaN</td>\n",
              "      <td>...</td>\n",
              "      <td>NaN</td>\n",
              "      <td>0.0</td>\n",
              "      <td>NaN</td>\n",
              "      <td>NaN</td>\n",
              "      <td>M</td>\n",
              "      <td>NaN</td>\n",
              "      <td>M</td>\n",
              "      <td>0.6</td>\n",
              "      <td>NaN</td>\n",
              "      <td>NaN</td>\n",
              "    </tr>\n",
              "    <tr>\n",
              "      <td>43.67</td>\n",
              "      <td>2017-01-05</td>\n",
              "      <td>2017</td>\n",
              "      <td>1</td>\n",
              "      <td>5</td>\n",
              "      <td>-5.3</td>\n",
              "      <td>NaN</td>\n",
              "      <td>-10.3</td>\n",
              "      <td>NaN</td>\n",
              "      <td>-7.8</td>\n",
              "      <td>NaN</td>\n",
              "      <td>...</td>\n",
              "      <td>NaN</td>\n",
              "      <td>0.0</td>\n",
              "      <td>NaN</td>\n",
              "      <td>NaN</td>\n",
              "      <td>M</td>\n",
              "      <td>NaN</td>\n",
              "      <td>M</td>\n",
              "      <td>0.0</td>\n",
              "      <td>NaN</td>\n",
              "      <td>NaN</td>\n",
              "    </tr>\n",
              "  </tbody>\n",
              "</table>\n",
              "<p>5 rows × 21 columns</p>\n",
              "</div>"
            ],
            "text/plain": [
              "               Date/Time  Year  Month  Day  Max_Temp Max_Temp_Flag  Min_Temp  \\\n",
              "Latitude (y)                                                                   \n",
              "43.67         2017-01-01  2017      1    1       3.1           NaN      -0.5   \n",
              "43.67         2017-01-02  2017      1    2       5.5           NaN       0.7   \n",
              "43.67         2017-01-03  2017      1    3       4.8           NaN       2.4   \n",
              "43.67         2017-01-04  2017      1    4       3.8           NaN      -7.6   \n",
              "43.67         2017-01-05  2017      1    5      -5.3           NaN     -10.3   \n",
              "\n",
              "             Min_Temp_Flag  Mean_Temp Mean_Temp_Flag  ...  Heat_Deg_Days_Flag  \\\n",
              "Latitude (y)                                          ...                       \n",
              "43.67                  NaN        1.3            NaN  ...                 NaN   \n",
              "43.67                  NaN        3.1            NaN  ...                 NaN   \n",
              "43.67                  NaN        3.6            NaN  ...                 NaN   \n",
              "43.67                  NaN       -1.9            NaN  ...                 NaN   \n",
              "43.67                  NaN       -7.8            NaN  ...                 NaN   \n",
              "\n",
              "             Cool_Deg_Days  Cool_Deg_Days_Flag Total_Rain  Total_Rain_Flag  \\\n",
              "Latitude (y)                                                                 \n",
              "43.67                  0.0                 NaN        NaN                M   \n",
              "43.67                  0.0                 NaN        NaN                M   \n",
              "43.67                  0.0                 NaN        NaN                M   \n",
              "43.67                  0.0                 NaN        NaN                M   \n",
              "43.67                  0.0                 NaN        NaN                M   \n",
              "\n",
              "             Total_Snow  Total_Snow_Flag Total_Precip  Total_Precip_Flag  \\\n",
              "Latitude (y)                                                               \n",
              "43.67               NaN                M          0.0                NaN   \n",
              "43.67               NaN                M          0.0                NaN   \n",
              "43.67               NaN                M         11.3                NaN   \n",
              "43.67               NaN                M          0.6                NaN   \n",
              "43.67               NaN                M          0.0                NaN   \n",
              "\n",
              "             Snow_on_Grnd_Flag  \n",
              "Latitude (y)                    \n",
              "43.67                      NaN  \n",
              "43.67                      NaN  \n",
              "43.67                      NaN  \n",
              "43.67                      NaN  \n",
              "43.67                      NaN  \n",
              "\n",
              "[5 rows x 21 columns]"
            ]
          },
          "metadata": {
            "tags": []
          },
          "execution_count": 198
        }
      ]
    },
    {
      "cell_type": "code",
      "metadata": {
        "id": "Q7_2McJYuXgJ",
        "colab_type": "code",
        "outputId": "3852c856-510a-4db6-dd34-3a229fbc4a8f",
        "colab": {}
      },
      "source": [
        "weather_2019.Mean_Temp.mean()"
      ],
      "execution_count": 0,
      "outputs": [
        {
          "output_type": "execute_result",
          "data": {
            "text/plain": [
              "8.998618784530382"
            ]
          },
          "metadata": {
            "tags": []
          },
          "execution_count": 199
        }
      ]
    },
    {
      "cell_type": "code",
      "metadata": {
        "id": "kQpzpUBnuXgM",
        "colab_type": "code",
        "outputId": "eec09656-44bc-421e-8d02-26980e798245",
        "colab": {}
      },
      "source": [
        "mean_weather_2019 = weather_2019.groupby('Month').Mean_Temp.mean()\n",
        "mean_weather_2019"
      ],
      "execution_count": 0,
      "outputs": [
        {
          "output_type": "execute_result",
          "data": {
            "text/plain": [
              "Month\n",
              "1     -5.358065\n",
              "2     -2.942857\n",
              "3      0.141935\n",
              "4      7.141379\n",
              "5     12.361290\n",
              "6     18.716667\n",
              "7     23.467742\n",
              "8     21.506667\n",
              "9     17.983333\n",
              "10    11.648387\n",
              "11     2.020000\n",
              "12     0.530000\n",
              "Name: Mean_Temp, dtype: float64"
            ]
          },
          "metadata": {
            "tags": []
          },
          "execution_count": 200
        }
      ]
    },
    {
      "cell_type": "code",
      "metadata": {
        "id": "nkzS1xvIuXgR",
        "colab_type": "code",
        "outputId": "5fc67920-ceb9-42e0-a63c-a6b0ee2f1a2f",
        "colab": {}
      },
      "source": [
        "mean_weather_2018 = weather_2018.groupby('Month').Mean_Temp.mean()\n",
        "mean_weather_2018"
      ],
      "execution_count": 0,
      "outputs": [
        {
          "output_type": "execute_result",
          "data": {
            "text/plain": [
              "Month\n",
              "1     -5.358065\n",
              "2     -2.942857\n",
              "3      0.141935\n",
              "4      7.141379\n",
              "5     12.361290\n",
              "6     18.716667\n",
              "7     23.467742\n",
              "8     21.506667\n",
              "9     17.983333\n",
              "10    11.648387\n",
              "11     2.020000\n",
              "12     0.530000\n",
              "Name: Mean_Temp, dtype: float64"
            ]
          },
          "metadata": {
            "tags": []
          },
          "execution_count": 201
        }
      ]
    },
    {
      "cell_type": "code",
      "metadata": {
        "id": "kuicxMIAuXgV",
        "colab_type": "code",
        "outputId": "5fed2302-0db8-423a-9557-3f4ea67fa95b",
        "colab": {}
      },
      "source": [
        "mean_weather_2017 = weather_2017.groupby('Month').Mean_Temp.mean()\n",
        "mean_weather_2017"
      ],
      "execution_count": 0,
      "outputs": [
        {
          "output_type": "execute_result",
          "data": {
            "text/plain": [
              "Month\n",
              "1     -0.532258\n",
              "2      1.014286\n",
              "3      0.066667\n",
              "4      9.544828\n",
              "5     12.225926\n",
              "6     19.413793\n",
              "7     21.774194\n",
              "8     20.551613\n",
              "9     19.243333\n",
              "10    14.136667\n",
              "11     4.725000\n",
              "12    -3.906452\n",
              "Name: Mean_Temp, dtype: float64"
            ]
          },
          "metadata": {
            "tags": []
          },
          "execution_count": 202
        }
      ]
    },
    {
      "cell_type": "code",
      "metadata": {
        "id": "Niw0sDTiuXgX",
        "colab_type": "code",
        "outputId": "2de90cff-5eec-4d0e-bbea-f4496209866c",
        "colab": {}
      },
      "source": [
        "mean_weather_2019.plot(kind='bar'\n",
        "                        ,stacked=True\n",
        "                        ,title = 'Avg Temperature 2019')"
      ],
      "execution_count": 0,
      "outputs": [
        {
          "output_type": "execute_result",
          "data": {
            "text/plain": [
              "<matplotlib.axes._subplots.AxesSubplot at 0x1a2699bc10>"
            ]
          },
          "metadata": {
            "tags": []
          },
          "execution_count": 203
        },
        {
          "output_type": "display_data",
          "data": {
            "image/png": "[encoded data removed]",
            "text/plain": [
              "<Figure size 432x288 with 1 Axes>"
            ]
          },
          "metadata": {
            "tags": [],
            "needs_background": "light"
          }
        }
      ]
    },
    {
      "cell_type": "code",
      "metadata": {
        "id": "TpgfbC-ouXgb",
        "colab_type": "code",
        "outputId": "3c9fef3c-2aab-440e-ed31-6841cb6b48b7",
        "colab": {}
      },
      "source": [
        "mean_weather_2018.plot(kind='bar'\n",
        "                        ,stacked=True\n",
        "                        ,title = 'Avg Temperature 2018')"
      ],
      "execution_count": 0,
      "outputs": [
        {
          "output_type": "execute_result",
          "data": {
            "text/plain": [
              "<matplotlib.axes._subplots.AxesSubplot at 0x1a26cd5c50>"
            ]
          },
          "metadata": {
            "tags": []
          },
          "execution_count": 204
        },
        {
          "output_type": "display_data",
          "data": {
            "image/png": "[encoded data removed]",
            "text/plain": [
              "<Figure size 432x288 with 1 Axes>"
            ]
          },
          "metadata": {
            "tags": [],
            "needs_background": "light"
          }
        }
      ]
    },
    {
      "cell_type": "code",
      "metadata": {
        "id": "rJ_mfly1uXgi",
        "colab_type": "code",
        "outputId": "ad24f538-241d-4691-ce22-ee10d3b08241",
        "colab": {}
      },
      "source": [
        "mean_weather_2017.plot(kind='bar'\n",
        "                        ,stacked=True\n",
        "                        ,title = 'Avg Temperature 2017')"
      ],
      "execution_count": 0,
      "outputs": [
        {
          "output_type": "execute_result",
          "data": {
            "text/plain": [
              "<matplotlib.axes._subplots.AxesSubplot at 0x1a266e1510>"
            ]
          },
          "metadata": {
            "tags": []
          },
          "execution_count": 205
        },
        {
          "output_type": "display_data",
          "data": {
            "image/png": "[encoded data removed]",
            "text/plain": [
              "<Figure size 432x288 with 1 Axes>"
            ]
          },
          "metadata": {
            "tags": [],
            "needs_background": "light"
          }
        }
      ]
    },
    {
      "cell_type": "markdown",
      "metadata": {
        "id": "9dUDLvQfuXgn",
        "colab_type": "text"
      },
      "source": [
        "### Based on the data from 2017 to 2019, the coolest month of the year in Toronto is January while the warmest month is usually July."
      ]
    },
    {
      "cell_type": "code",
      "metadata": {
        "id": "CPy8oc9BuXgo",
        "colab_type": "code",
        "outputId": "95c8a16d-c694-4574-87bd-e941d8459b70",
        "colab": {}
      },
      "source": [
        "weather_2019.info()"
      ],
      "execution_count": 0,
      "outputs": [
        {
          "output_type": "stream",
          "text": [
            "<class 'pandas.core.frame.DataFrame'>\n",
            "Float64Index: 365 entries, 43.67 to 43.67\n",
            "Data columns (total 21 columns):\n",
            "Date/Time             365 non-null object\n",
            "Year                  365 non-null int64\n",
            "Month                 365 non-null int64\n",
            "Day                   365 non-null int64\n",
            "Max_Temp              362 non-null float64\n",
            "Max_Temp_Flag         3 non-null object\n",
            "Min_Temp              362 non-null float64\n",
            "Min_Temp_Flag         3 non-null object\n",
            "Mean_Temp             362 non-null float64\n",
            "Mean_Temp_Flag        3 non-null object\n",
            "Heat_Deg_Days         362 non-null float64\n",
            "Heat_Deg_Days_Flag    3 non-null object\n",
            "Cool_Deg_Days         362 non-null float64\n",
            "Cool_Deg_Days_Flag    3 non-null object\n",
            "Total_Rain            0 non-null float64\n",
            "Total_Rain_Flag       0 non-null float64\n",
            "Total_Snow            0 non-null float64\n",
            "Total_Snow_Flag       0 non-null float64\n",
            "Total_Precip          362 non-null float64\n",
            "Total_Precip_Flag     3 non-null object\n",
            "Snow_on_Grnd_Flag     0 non-null float64\n",
            "dtypes: float64(11), int64(3), object(7)\n",
            "memory usage: 62.7+ KB\n"
          ],
          "name": "stdout"
        }
      ]
    },
    {
      "cell_type": "code",
      "metadata": {
        "id": "nUHENJ_cuXgr",
        "colab_type": "code",
        "outputId": "3e3c0554-5f82-499f-af14-822c7e7d58a1",
        "colab": {}
      },
      "source": [
        "Precip_2019 = weather_2019[weather_2019['Total_Precip'] > 0].groupby('Month')['Total_Precip'].count()\n",
        "Precip_2019"
      ],
      "execution_count": 0,
      "outputs": [
        {
          "output_type": "execute_result",
          "data": {
            "text/plain": [
              "Month\n",
              "1     18\n",
              "2     21\n",
              "3     17\n",
              "4     13\n",
              "5     16\n",
              "6     10\n",
              "7     10\n",
              "8      9\n",
              "9      9\n",
              "10    12\n",
              "11    12\n",
              "12    16\n",
              "Name: Total_Precip, dtype: int64"
            ]
          },
          "metadata": {
            "tags": []
          },
          "execution_count": 207
        }
      ]
    },
    {
      "cell_type": "code",
      "metadata": {
        "id": "MFHeGRMzuXgv",
        "colab_type": "code",
        "outputId": "e9c6ab8e-a178-4881-cb4c-89bf5b7f13e6",
        "colab": {}
      },
      "source": [
        "Precip_2018 = weather_2018[weather_2018['Total_Precip'] > 0].groupby('Month')['Total_Precip'].count()\n",
        "Precip_2018"
      ],
      "execution_count": 0,
      "outputs": [
        {
          "output_type": "execute_result",
          "data": {
            "text/plain": [
              "Month\n",
              "1     18\n",
              "2     21\n",
              "3     17\n",
              "4     13\n",
              "5     16\n",
              "6     10\n",
              "7     10\n",
              "8      9\n",
              "9      9\n",
              "10    12\n",
              "11    12\n",
              "12    16\n",
              "Name: Total_Precip, dtype: int64"
            ]
          },
          "metadata": {
            "tags": []
          },
          "execution_count": 208
        }
      ]
    },
    {
      "cell_type": "code",
      "metadata": {
        "id": "AQwye0okuXgz",
        "colab_type": "code",
        "outputId": "553caf52-3fd7-4546-ed62-ac57c8e45660",
        "colab": {}
      },
      "source": [
        "Precip_2017 = weather_2017[weather_2017['Total_Precip'] > 0].groupby('Month')['Total_Precip'].count()\n",
        "Precip_2017"
      ],
      "execution_count": 0,
      "outputs": [
        {
          "output_type": "execute_result",
          "data": {
            "text/plain": [
              "Month\n",
              "1     13\n",
              "2     10\n",
              "3     15\n",
              "4     13\n",
              "5     11\n",
              "6     14\n",
              "7     10\n",
              "8      8\n",
              "9      5\n",
              "10    10\n",
              "11    14\n",
              "12    17\n",
              "Name: Total_Precip, dtype: int64"
            ]
          },
          "metadata": {
            "tags": []
          },
          "execution_count": 209
        }
      ]
    },
    {
      "cell_type": "code",
      "metadata": {
        "id": "FEpP70_buXg1",
        "colab_type": "code",
        "outputId": "8c8c5313-e52c-4df3-8469-beb5117e9c0d",
        "colab": {}
      },
      "source": [
        "Precip_2019.plot(kind='bar'\n",
        "                ,stacked=True\n",
        "                ,title = 'Count Precipitation 2019')"
      ],
      "execution_count": 0,
      "outputs": [
        {
          "output_type": "execute_result",
          "data": {
            "text/plain": [
              "<matplotlib.axes._subplots.AxesSubplot at 0x1a267bcc50>"
            ]
          },
          "metadata": {
            "tags": []
          },
          "execution_count": 211
        },
        {
          "output_type": "display_data",
          "data": {
            "image/png": "[encoded data removed]",
            "text/plain": [
              "<Figure size 432x288 with 1 Axes>"
            ]
          },
          "metadata": {
            "tags": [],
            "needs_background": "light"
          }
        }
      ]
    },
    {
      "cell_type": "code",
      "metadata": {
        "id": "pL7IZJTYuXg4",
        "colab_type": "code",
        "outputId": "10606e29-e47a-43a7-db48-6292d24fb38a",
        "colab": {}
      },
      "source": [
        "Precip_2018.plot(kind='bar'\n",
        "                ,stacked=True\n",
        "                ,title = 'Count Precipitation 2018')"
      ],
      "execution_count": 0,
      "outputs": [
        {
          "output_type": "execute_result",
          "data": {
            "text/plain": [
              "<matplotlib.axes._subplots.AxesSubplot at 0x1a269fcc10>"
            ]
          },
          "metadata": {
            "tags": []
          },
          "execution_count": 212
        },
        {
          "output_type": "display_data",
          "data": {
            "image/png": "[encoded data removed]",
            "text/plain": [
              "<Figure size 432x288 with 1 Axes>"
            ]
          },
          "metadata": {
            "tags": [],
            "needs_background": "light"
          }
        }
      ]
    },
    {
      "cell_type": "code",
      "metadata": {
        "id": "Oa0U90KUuXhA",
        "colab_type": "code",
        "outputId": "f3e13107-48f7-46b0-e21b-10519aaff79c",
        "colab": {}
      },
      "source": [
        "Precip_2017.plot(kind='bar'\n",
        "                ,stacked=True\n",
        "                ,title = 'Count Precipitation 2017')"
      ],
      "execution_count": 0,
      "outputs": [
        {
          "output_type": "execute_result",
          "data": {
            "text/plain": [
              "<matplotlib.axes._subplots.AxesSubplot at 0x1a26d87450>"
            ]
          },
          "metadata": {
            "tags": []
          },
          "execution_count": 213
        },
        {
          "output_type": "display_data",
          "data": {
            "image/png": "[encoded data removed]",
            "text/plain": [
              "<Figure size 432x288 with 1 Axes>"
            ]
          },
          "metadata": {
            "tags": [],
            "needs_background": "light"
          }
        }
      ]
    },
    {
      "cell_type": "code",
      "metadata": {
        "id": "tstrPmG9uXhM",
        "colab_type": "code",
        "colab": {}
      },
      "source": [
        ""
      ],
      "execution_count": 0,
      "outputs": []
    }
  ]
}