{
  "nbformat": 4,
  "nbformat_minor": 0,
  "metadata": {
    "kernelspec": {
      "display_name": "Python 3",
      "language": "python",
      "name": "python3"
    },
    "language_info": {
      "codemirror_mode": {
        "name": "ipython",
        "version": 3
      },
      "file_extension": ".py",
      "mimetype": "text/x-python",
      "name": "python",
      "nbconvert_exporter": "python",
      "pygments_lexer": "ipython3",
      "version": "3.7.4"
    },
    "colab": {
      "name": "Weather_Python.ipynb",
      "provenance": [],
      "include_colab_link": true
    }
  },
  "cells": [
    {
      "cell_type": "markdown",
      "metadata": {
        "id": "view-in-github",
        "colab_type": "text"
      },
      "source": [
        "<a href=\"https://colab.research.google.com/github/Jenarth/SCS3250-Group-2-Final-Project/blob/master/Rough%20Work/Weather_Python.ipynb\" target=\"_parent\"><img src=\"https://colab.research.google.com/assets/colab-badge.svg\" alt=\"Open In Colab\"/></a>"
      ]
    },
    {
      "cell_type": "markdown",
      "metadata": {
        "id": "D6Oiu6Z2uXfl",
        "colab_type": "text"
      },
      "source": [
        "## Weather Analysis"
      ]
    },
    {
      "cell_type": "code",
      "metadata": {
        "id": "SikoLJgjuXfm",
        "colab_type": "code",
        "colab": {}
      },
      "source": [
        "from numpy.random import randn\n",
        "import numpy as np\n",
        "import pandas as pd\n",
        "\n",
        "import matplotlib.pyplot as plt\n"
      ],
      "execution_count": 0,
      "outputs": []
    },
    {
      "cell_type": "markdown",
      "metadata": {
        "id": "4mlrVs9KuXfq",
        "colab_type": "text"
      },
      "source": [
        "### Import the dataset"
      ]
    },
    {
      "cell_type": "code",
      "metadata": {
        "id": "rMgwCBREuXfq",
        "colab_type": "code",
        "outputId": "f0aec14a-9471-4463-e246-2cf37c161cc0",
        "colab": {
          "base_uri": "https://localhost:8080/",
          "height": 170
        }
      },
      "source": [
        "url_2019 = \"https://raw.githubusercontent.com/Jenarth/SCS3250-Group-2-Final-Project/master/Weather%20Data/en_climate_daily_ON_6158355_2019_P1D.csv\"\n",
        "weather_2019 = pd.read_csv(url_2019,index_col=1)\n",
        "\n",
        "print(weather_2019.head(5))"
      ],
      "execution_count": 2,
      "outputs": [
        {
          "output_type": "stream",
          "text": [
            "              Longitude (x)  ... Spd of Max Gust Flag\n",
            "Latitude (y)                 ...                     \n",
            "43.67                 -79.4  ...                    M\n",
            "43.67                 -79.4  ...                    M\n",
            "43.67                 -79.4  ...                    M\n",
            "43.67                 -79.4  ...                    M\n",
            "43.67                 -79.4  ...                    M\n",
            "\n",
            "[5 rows x 30 columns]\n"
          ],
          "name": "stdout"
        }
      ]
    },
    {
      "cell_type": "code",
      "metadata": {
        "id": "5e6meo1puXfu",
        "colab_type": "code",
        "colab": {}
      },
      "source": [
        "url_2018 = \"https://raw.githubusercontent.com/Jenarth/SCS3250-Group-2-Final-Project/master/Weather%20Data/en_climate_daily_ON_6158355_2018_P1D.csv\"\n",
        "weather_2018 = pd.read_csv(url_2019,index_col=1)"
      ],
      "execution_count": 0,
      "outputs": []
    },
    {
      "cell_type": "code",
      "metadata": {
        "id": "ez9dubpOuXfx",
        "colab_type": "code",
        "colab": {}
      },
      "source": [
        "url_2017 = \"https://raw.githubusercontent.com/Jenarth/SCS3250-Group-2-Final-Project/master/Weather%20Data/en_climate_daily_ON_6158355_2017_P1D.csv\"\n",
        "weather_2017 = pd.read_csv(url_2017,index_col=1)"
      ],
      "execution_count": 0,
      "outputs": []
    },
    {
      "cell_type": "code",
      "metadata": {
        "id": "cNrJBMICuXf0",
        "colab_type": "code",
        "outputId": "239689f4-1d6a-4853-c571-94562f09dc3b",
        "colab": {
          "base_uri": "https://localhost:8080/",
          "height": 286
        }
      },
      "source": [
        "weather_2019.drop(['Longitude (x)','Station Name','Climate ID','Data Quality','Snow on Grnd (cm)','Dir of Max Gust (10s deg)','Dir of Max Gust Flag','Spd of Max Gust (km/h)','Spd of Max Gust Flag'], axis=1, inplace=True)\n",
        "\n",
        "weather_2019.head(5)"
      ],
      "execution_count": 5,
      "outputs": [
        {
          "output_type": "execute_result",
          "data": {
            "text/html": [
              "<div>\n",
              "<style scoped>\n",
              "    .dataframe tbody tr th:only-of-type {\n",
              "        vertical-align: middle;\n",
              "    }\n",
              "\n",
              "    .dataframe tbody tr th {\n",
              "        vertical-align: top;\n",
              "    }\n",
              "\n",
              "    .dataframe thead th {\n",
              "        text-align: right;\n",
              "    }\n",
              "</style>\n",
              "<table border=\"1\" class=\"dataframe\">\n",
              "  <thead>\n",
              "    <tr style=\"text-align: right;\">\n",
              "      <th></th>\n",
              "      <th>Date/Time</th>\n",
              "      <th>Year</th>\n",
              "      <th>Month</th>\n",
              "      <th>Day</th>\n",
              "      <th>Max Temp (°C)</th>\n",
              "      <th>Max Temp Flag</th>\n",
              "      <th>Min Temp (°C)</th>\n",
              "      <th>Min Temp Flag</th>\n",
              "      <th>Mean Temp (°C)</th>\n",
              "      <th>Mean Temp Flag</th>\n",
              "      <th>Heat Deg Days (°C)</th>\n",
              "      <th>Heat Deg Days Flag</th>\n",
              "      <th>Cool Deg Days (°C)</th>\n",
              "      <th>Cool Deg Days Flag</th>\n",
              "      <th>Total Rain (mm)</th>\n",
              "      <th>Total Rain Flag</th>\n",
              "      <th>Total Snow (cm)</th>\n",
              "      <th>Total Snow Flag</th>\n",
              "      <th>Total Precip (mm)</th>\n",
              "      <th>Total Precip Flag</th>\n",
              "      <th>Snow on Grnd Flag</th>\n",
              "    </tr>\n",
              "    <tr>\n",
              "      <th>Latitude (y)</th>\n",
              "      <th></th>\n",
              "      <th></th>\n",
              "      <th></th>\n",
              "      <th></th>\n",
              "      <th></th>\n",
              "      <th></th>\n",
              "      <th></th>\n",
              "      <th></th>\n",
              "      <th></th>\n",
              "      <th></th>\n",
              "      <th></th>\n",
              "      <th></th>\n",
              "      <th></th>\n",
              "      <th></th>\n",
              "      <th></th>\n",
              "      <th></th>\n",
              "      <th></th>\n",
              "      <th></th>\n",
              "      <th></th>\n",
              "      <th></th>\n",
              "      <th></th>\n",
              "    </tr>\n",
              "  </thead>\n",
              "  <tbody>\n",
              "    <tr>\n",
              "      <th>43.67</th>\n",
              "      <td>2019-01-01</td>\n",
              "      <td>2019</td>\n",
              "      <td>1</td>\n",
              "      <td>1</td>\n",
              "      <td>6.3</td>\n",
              "      <td>NaN</td>\n",
              "      <td>-6.6</td>\n",
              "      <td>NaN</td>\n",
              "      <td>-0.1</td>\n",
              "      <td>NaN</td>\n",
              "      <td>18.1</td>\n",
              "      <td>NaN</td>\n",
              "      <td>0.0</td>\n",
              "      <td>NaN</td>\n",
              "      <td>NaN</td>\n",
              "      <td>NaN</td>\n",
              "      <td>NaN</td>\n",
              "      <td>NaN</td>\n",
              "      <td>0.4</td>\n",
              "      <td>NaN</td>\n",
              "      <td>NaN</td>\n",
              "    </tr>\n",
              "    <tr>\n",
              "      <th>43.67</th>\n",
              "      <td>2019-01-02</td>\n",
              "      <td>2019</td>\n",
              "      <td>1</td>\n",
              "      <td>2</td>\n",
              "      <td>0.6</td>\n",
              "      <td>NaN</td>\n",
              "      <td>-8.2</td>\n",
              "      <td>NaN</td>\n",
              "      <td>-3.8</td>\n",
              "      <td>NaN</td>\n",
              "      <td>21.8</td>\n",
              "      <td>NaN</td>\n",
              "      <td>0.0</td>\n",
              "      <td>NaN</td>\n",
              "      <td>NaN</td>\n",
              "      <td>NaN</td>\n",
              "      <td>NaN</td>\n",
              "      <td>NaN</td>\n",
              "      <td>2.9</td>\n",
              "      <td>NaN</td>\n",
              "      <td>NaN</td>\n",
              "    </tr>\n",
              "    <tr>\n",
              "      <th>43.67</th>\n",
              "      <td>2019-01-03</td>\n",
              "      <td>2019</td>\n",
              "      <td>1</td>\n",
              "      <td>3</td>\n",
              "      <td>1.5</td>\n",
              "      <td>NaN</td>\n",
              "      <td>-0.6</td>\n",
              "      <td>NaN</td>\n",
              "      <td>0.5</td>\n",
              "      <td>NaN</td>\n",
              "      <td>17.5</td>\n",
              "      <td>NaN</td>\n",
              "      <td>0.0</td>\n",
              "      <td>NaN</td>\n",
              "      <td>NaN</td>\n",
              "      <td>NaN</td>\n",
              "      <td>NaN</td>\n",
              "      <td>NaN</td>\n",
              "      <td>0.0</td>\n",
              "      <td>NaN</td>\n",
              "      <td>NaN</td>\n",
              "    </tr>\n",
              "    <tr>\n",
              "      <th>43.67</th>\n",
              "      <td>2019-01-04</td>\n",
              "      <td>2019</td>\n",
              "      <td>1</td>\n",
              "      <td>4</td>\n",
              "      <td>7.8</td>\n",
              "      <td>NaN</td>\n",
              "      <td>1.2</td>\n",
              "      <td>NaN</td>\n",
              "      <td>4.5</td>\n",
              "      <td>NaN</td>\n",
              "      <td>13.5</td>\n",
              "      <td>NaN</td>\n",
              "      <td>0.0</td>\n",
              "      <td>NaN</td>\n",
              "      <td>NaN</td>\n",
              "      <td>NaN</td>\n",
              "      <td>NaN</td>\n",
              "      <td>NaN</td>\n",
              "      <td>0.0</td>\n",
              "      <td>NaN</td>\n",
              "      <td>NaN</td>\n",
              "    </tr>\n",
              "    <tr>\n",
              "      <th>43.67</th>\n",
              "      <td>2019-01-05</td>\n",
              "      <td>2019</td>\n",
              "      <td>1</td>\n",
              "      <td>5</td>\n",
              "      <td>3.9</td>\n",
              "      <td>NaN</td>\n",
              "      <td>1.0</td>\n",
              "      <td>NaN</td>\n",
              "      <td>2.5</td>\n",
              "      <td>NaN</td>\n",
              "      <td>15.5</td>\n",
              "      <td>NaN</td>\n",
              "      <td>0.0</td>\n",
              "      <td>NaN</td>\n",
              "      <td>NaN</td>\n",
              "      <td>NaN</td>\n",
              "      <td>NaN</td>\n",
              "      <td>NaN</td>\n",
              "      <td>0.0</td>\n",
              "      <td>NaN</td>\n",
              "      <td>NaN</td>\n",
              "    </tr>\n",
              "  </tbody>\n",
              "</table>\n",
              "</div>"
            ],
            "text/plain": [
              "               Date/Time  Year  ...  Total Precip Flag  Snow on Grnd Flag\n",
              "Latitude (y)                    ...                                      \n",
              "43.67         2019-01-01  2019  ...                NaN                NaN\n",
              "43.67         2019-01-02  2019  ...                NaN                NaN\n",
              "43.67         2019-01-03  2019  ...                NaN                NaN\n",
              "43.67         2019-01-04  2019  ...                NaN                NaN\n",
              "43.67         2019-01-05  2019  ...                NaN                NaN\n",
              "\n",
              "[5 rows x 21 columns]"
            ]
          },
          "metadata": {
            "tags": []
          },
          "execution_count": 5
        }
      ]
    },
    {
      "cell_type": "code",
      "metadata": {
        "id": "q7T2jucZuXf3",
        "colab_type": "code",
        "colab": {}
      },
      "source": [
        "weather_2018.drop(['Longitude (x)','Station Name','Climate ID','Data Quality','Snow on Grnd (cm)','Dir of Max Gust (10s deg)','Dir of Max Gust Flag','Spd of Max Gust (km/h)','Spd of Max Gust Flag'], axis=1, inplace=True)"
      ],
      "execution_count": 0,
      "outputs": []
    },
    {
      "cell_type": "code",
      "metadata": {
        "id": "TvTrigMUuXf6",
        "colab_type": "code",
        "colab": {}
      },
      "source": [
        "weather_2017.drop(['Longitude (x)','Station Name','Climate ID','Data Quality','Snow on Grnd (cm)','Dir of Max Gust (10s deg)','Dir of Max Gust Flag','Spd of Max Gust (km/h)','Spd of Max Gust Flag'], axis=1, inplace=True)"
      ],
      "execution_count": 0,
      "outputs": []
    },
    {
      "cell_type": "code",
      "metadata": {
        "id": "U1ImzhhLuXf9",
        "colab_type": "code",
        "outputId": "80cfa603-407d-4842-8d24-43ca5497a890",
        "colab": {
          "base_uri": "https://localhost:8080/",
          "height": 272
        }
      },
      "source": [
        "weather_2019.columns = [c.replace(' (°C)', '') for c in weather_2019.columns]\n",
        "weather_2019.columns = [c.replace(' (mm)', '') for c in weather_2019.columns]\n",
        "weather_2019.columns = [c.replace(' (cm)', '') for c in weather_2019.columns]\n",
        "weather_2019.columns = [c.replace(' ', '_') for c in weather_2019.columns]\n",
        "weather_2019.head()"
      ],
      "execution_count": 8,
      "outputs": [
        {
          "output_type": "execute_result",
          "data": {
            "text/html": [
              "<div>\n",
              "<style scoped>\n",
              "    .dataframe tbody tr th:only-of-type {\n",
              "        vertical-align: middle;\n",
              "    }\n",
              "\n",
              "    .dataframe tbody tr th {\n",
              "        vertical-align: top;\n",
              "    }\n",
              "\n",
              "    .dataframe thead th {\n",
              "        text-align: right;\n",
              "    }\n",
              "</style>\n",
              "<table border=\"1\" class=\"dataframe\">\n",
              "  <thead>\n",
              "    <tr style=\"text-align: right;\">\n",
              "      <th></th>\n",
              "      <th>Date/Time</th>\n",
              "      <th>Year</th>\n",
              "      <th>Month</th>\n",
              "      <th>Day</th>\n",
              "      <th>Max_Temp</th>\n",
              "      <th>Max_Temp_Flag</th>\n",
              "      <th>Min_Temp</th>\n",
              "      <th>Min_Temp_Flag</th>\n",
              "      <th>Mean_Temp</th>\n",
              "      <th>Mean_Temp_Flag</th>\n",
              "      <th>Heat_Deg_Days</th>\n",
              "      <th>Heat_Deg_Days_Flag</th>\n",
              "      <th>Cool_Deg_Days</th>\n",
              "      <th>Cool_Deg_Days_Flag</th>\n",
              "      <th>Total_Rain</th>\n",
              "      <th>Total_Rain_Flag</th>\n",
              "      <th>Total_Snow</th>\n",
              "      <th>Total_Snow_Flag</th>\n",
              "      <th>Total_Precip</th>\n",
              "      <th>Total_Precip_Flag</th>\n",
              "      <th>Snow_on_Grnd_Flag</th>\n",
              "    </tr>\n",
              "    <tr>\n",
              "      <th>Latitude (y)</th>\n",
              "      <th></th>\n",
              "      <th></th>\n",
              "      <th></th>\n",
              "      <th></th>\n",
              "      <th></th>\n",
              "      <th></th>\n",
              "      <th></th>\n",
              "      <th></th>\n",
              "      <th></th>\n",
              "      <th></th>\n",
              "      <th></th>\n",
              "      <th></th>\n",
              "      <th></th>\n",
              "      <th></th>\n",
              "      <th></th>\n",
              "      <th></th>\n",
              "      <th></th>\n",
              "      <th></th>\n",
              "      <th></th>\n",
              "      <th></th>\n",
              "      <th></th>\n",
              "    </tr>\n",
              "  </thead>\n",
              "  <tbody>\n",
              "    <tr>\n",
              "      <th>43.67</th>\n",
              "      <td>2019-01-01</td>\n",
              "      <td>2019</td>\n",
              "      <td>1</td>\n",
              "      <td>1</td>\n",
              "      <td>6.3</td>\n",
              "      <td>NaN</td>\n",
              "      <td>-6.6</td>\n",
              "      <td>NaN</td>\n",
              "      <td>-0.1</td>\n",
              "      <td>NaN</td>\n",
              "      <td>18.1</td>\n",
              "      <td>NaN</td>\n",
              "      <td>0.0</td>\n",
              "      <td>NaN</td>\n",
              "      <td>NaN</td>\n",
              "      <td>NaN</td>\n",
              "      <td>NaN</td>\n",
              "      <td>NaN</td>\n",
              "      <td>0.4</td>\n",
              "      <td>NaN</td>\n",
              "      <td>NaN</td>\n",
              "    </tr>\n",
              "    <tr>\n",
              "      <th>43.67</th>\n",
              "      <td>2019-01-02</td>\n",
              "      <td>2019</td>\n",
              "      <td>1</td>\n",
              "      <td>2</td>\n",
              "      <td>0.6</td>\n",
              "      <td>NaN</td>\n",
              "      <td>-8.2</td>\n",
              "      <td>NaN</td>\n",
              "      <td>-3.8</td>\n",
              "      <td>NaN</td>\n",
              "      <td>21.8</td>\n",
              "      <td>NaN</td>\n",
              "      <td>0.0</td>\n",
              "      <td>NaN</td>\n",
              "      <td>NaN</td>\n",
              "      <td>NaN</td>\n",
              "      <td>NaN</td>\n",
              "      <td>NaN</td>\n",
              "      <td>2.9</td>\n",
              "      <td>NaN</td>\n",
              "      <td>NaN</td>\n",
              "    </tr>\n",
              "    <tr>\n",
              "      <th>43.67</th>\n",
              "      <td>2019-01-03</td>\n",
              "      <td>2019</td>\n",
              "      <td>1</td>\n",
              "      <td>3</td>\n",
              "      <td>1.5</td>\n",
              "      <td>NaN</td>\n",
              "      <td>-0.6</td>\n",
              "      <td>NaN</td>\n",
              "      <td>0.5</td>\n",
              "      <td>NaN</td>\n",
              "      <td>17.5</td>\n",
              "      <td>NaN</td>\n",
              "      <td>0.0</td>\n",
              "      <td>NaN</td>\n",
              "      <td>NaN</td>\n",
              "      <td>NaN</td>\n",
              "      <td>NaN</td>\n",
              "      <td>NaN</td>\n",
              "      <td>0.0</td>\n",
              "      <td>NaN</td>\n",
              "      <td>NaN</td>\n",
              "    </tr>\n",
              "    <tr>\n",
              "      <th>43.67</th>\n",
              "      <td>2019-01-04</td>\n",
              "      <td>2019</td>\n",
              "      <td>1</td>\n",
              "      <td>4</td>\n",
              "      <td>7.8</td>\n",
              "      <td>NaN</td>\n",
              "      <td>1.2</td>\n",
              "      <td>NaN</td>\n",
              "      <td>4.5</td>\n",
              "      <td>NaN</td>\n",
              "      <td>13.5</td>\n",
              "      <td>NaN</td>\n",
              "      <td>0.0</td>\n",
              "      <td>NaN</td>\n",
              "      <td>NaN</td>\n",
              "      <td>NaN</td>\n",
              "      <td>NaN</td>\n",
              "      <td>NaN</td>\n",
              "      <td>0.0</td>\n",
              "      <td>NaN</td>\n",
              "      <td>NaN</td>\n",
              "    </tr>\n",
              "    <tr>\n",
              "      <th>43.67</th>\n",
              "      <td>2019-01-05</td>\n",
              "      <td>2019</td>\n",
              "      <td>1</td>\n",
              "      <td>5</td>\n",
              "      <td>3.9</td>\n",
              "      <td>NaN</td>\n",
              "      <td>1.0</td>\n",
              "      <td>NaN</td>\n",
              "      <td>2.5</td>\n",
              "      <td>NaN</td>\n",
              "      <td>15.5</td>\n",
              "      <td>NaN</td>\n",
              "      <td>0.0</td>\n",
              "      <td>NaN</td>\n",
              "      <td>NaN</td>\n",
              "      <td>NaN</td>\n",
              "      <td>NaN</td>\n",
              "      <td>NaN</td>\n",
              "      <td>0.0</td>\n",
              "      <td>NaN</td>\n",
              "      <td>NaN</td>\n",
              "    </tr>\n",
              "  </tbody>\n",
              "</table>\n",
              "</div>"
            ],
            "text/plain": [
              "               Date/Time  Year  ...  Total_Precip_Flag  Snow_on_Grnd_Flag\n",
              "Latitude (y)                    ...                                      \n",
              "43.67         2019-01-01  2019  ...                NaN                NaN\n",
              "43.67         2019-01-02  2019  ...                NaN                NaN\n",
              "43.67         2019-01-03  2019  ...                NaN                NaN\n",
              "43.67         2019-01-04  2019  ...                NaN                NaN\n",
              "43.67         2019-01-05  2019  ...                NaN                NaN\n",
              "\n",
              "[5 rows x 21 columns]"
            ]
          },
          "metadata": {
            "tags": []
          },
          "execution_count": 8
        }
      ]
    },
    {
      "cell_type": "code",
      "metadata": {
        "id": "ie-Aj3YAuXgB",
        "colab_type": "code",
        "outputId": "0af548e6-fe87-4939-e729-ccc087f508cb",
        "colab": {
          "base_uri": "https://localhost:8080/",
          "height": 272
        }
      },
      "source": [
        "weather_2018.columns = [c.replace(' (°C)', '') for c in weather_2018.columns]\n",
        "weather_2018.columns = [c.replace(' (mm)', '') for c in weather_2018.columns]\n",
        "weather_2018.columns = [c.replace(' (cm)', '') for c in weather_2018.columns]\n",
        "weather_2018.columns = [c.replace(' ', '_') for c in weather_2018.columns]\n",
        "weather_2018.head()"
      ],
      "execution_count": 9,
      "outputs": [
        {
          "output_type": "execute_result",
          "data": {
            "text/html": [
              "<div>\n",
              "<style scoped>\n",
              "    .dataframe tbody tr th:only-of-type {\n",
              "        vertical-align: middle;\n",
              "    }\n",
              "\n",
              "    .dataframe tbody tr th {\n",
              "        vertical-align: top;\n",
              "    }\n",
              "\n",
              "    .dataframe thead th {\n",
              "        text-align: right;\n",
              "    }\n",
              "</style>\n",
              "<table border=\"1\" class=\"dataframe\">\n",
              "  <thead>\n",
              "    <tr style=\"text-align: right;\">\n",
              "      <th></th>\n",
              "      <th>Date/Time</th>\n",
              "      <th>Year</th>\n",
              "      <th>Month</th>\n",
              "      <th>Day</th>\n",
              "      <th>Max_Temp</th>\n",
              "      <th>Max_Temp_Flag</th>\n",
              "      <th>Min_Temp</th>\n",
              "      <th>Min_Temp_Flag</th>\n",
              "      <th>Mean_Temp</th>\n",
              "      <th>Mean_Temp_Flag</th>\n",
              "      <th>Heat_Deg_Days</th>\n",
              "      <th>Heat_Deg_Days_Flag</th>\n",
              "      <th>Cool_Deg_Days</th>\n",
              "      <th>Cool_Deg_Days_Flag</th>\n",
              "      <th>Total_Rain</th>\n",
              "      <th>Total_Rain_Flag</th>\n",
              "      <th>Total_Snow</th>\n",
              "      <th>Total_Snow_Flag</th>\n",
              "      <th>Total_Precip</th>\n",
              "      <th>Total_Precip_Flag</th>\n",
              "      <th>Snow_on_Grnd_Flag</th>\n",
              "    </tr>\n",
              "    <tr>\n",
              "      <th>Latitude (y)</th>\n",
              "      <th></th>\n",
              "      <th></th>\n",
              "      <th></th>\n",
              "      <th></th>\n",
              "      <th></th>\n",
              "      <th></th>\n",
              "      <th></th>\n",
              "      <th></th>\n",
              "      <th></th>\n",
              "      <th></th>\n",
              "      <th></th>\n",
              "      <th></th>\n",
              "      <th></th>\n",
              "      <th></th>\n",
              "      <th></th>\n",
              "      <th></th>\n",
              "      <th></th>\n",
              "      <th></th>\n",
              "      <th></th>\n",
              "      <th></th>\n",
              "      <th></th>\n",
              "    </tr>\n",
              "  </thead>\n",
              "  <tbody>\n",
              "    <tr>\n",
              "      <th>43.67</th>\n",
              "      <td>2019-01-01</td>\n",
              "      <td>2019</td>\n",
              "      <td>1</td>\n",
              "      <td>1</td>\n",
              "      <td>6.3</td>\n",
              "      <td>NaN</td>\n",
              "      <td>-6.6</td>\n",
              "      <td>NaN</td>\n",
              "      <td>-0.1</td>\n",
              "      <td>NaN</td>\n",
              "      <td>18.1</td>\n",
              "      <td>NaN</td>\n",
              "      <td>0.0</td>\n",
              "      <td>NaN</td>\n",
              "      <td>NaN</td>\n",
              "      <td>NaN</td>\n",
              "      <td>NaN</td>\n",
              "      <td>NaN</td>\n",
              "      <td>0.4</td>\n",
              "      <td>NaN</td>\n",
              "      <td>NaN</td>\n",
              "    </tr>\n",
              "    <tr>\n",
              "      <th>43.67</th>\n",
              "      <td>2019-01-02</td>\n",
              "      <td>2019</td>\n",
              "      <td>1</td>\n",
              "      <td>2</td>\n",
              "      <td>0.6</td>\n",
              "      <td>NaN</td>\n",
              "      <td>-8.2</td>\n",
              "      <td>NaN</td>\n",
              "      <td>-3.8</td>\n",
              "      <td>NaN</td>\n",
              "      <td>21.8</td>\n",
              "      <td>NaN</td>\n",
              "      <td>0.0</td>\n",
              "      <td>NaN</td>\n",
              "      <td>NaN</td>\n",
              "      <td>NaN</td>\n",
              "      <td>NaN</td>\n",
              "      <td>NaN</td>\n",
              "      <td>2.9</td>\n",
              "      <td>NaN</td>\n",
              "      <td>NaN</td>\n",
              "    </tr>\n",
              "    <tr>\n",
              "      <th>43.67</th>\n",
              "      <td>2019-01-03</td>\n",
              "      <td>2019</td>\n",
              "      <td>1</td>\n",
              "      <td>3</td>\n",
              "      <td>1.5</td>\n",
              "      <td>NaN</td>\n",
              "      <td>-0.6</td>\n",
              "      <td>NaN</td>\n",
              "      <td>0.5</td>\n",
              "      <td>NaN</td>\n",
              "      <td>17.5</td>\n",
              "      <td>NaN</td>\n",
              "      <td>0.0</td>\n",
              "      <td>NaN</td>\n",
              "      <td>NaN</td>\n",
              "      <td>NaN</td>\n",
              "      <td>NaN</td>\n",
              "      <td>NaN</td>\n",
              "      <td>0.0</td>\n",
              "      <td>NaN</td>\n",
              "      <td>NaN</td>\n",
              "    </tr>\n",
              "    <tr>\n",
              "      <th>43.67</th>\n",
              "      <td>2019-01-04</td>\n",
              "      <td>2019</td>\n",
              "      <td>1</td>\n",
              "      <td>4</td>\n",
              "      <td>7.8</td>\n",
              "      <td>NaN</td>\n",
              "      <td>1.2</td>\n",
              "      <td>NaN</td>\n",
              "      <td>4.5</td>\n",
              "      <td>NaN</td>\n",
              "      <td>13.5</td>\n",
              "      <td>NaN</td>\n",
              "      <td>0.0</td>\n",
              "      <td>NaN</td>\n",
              "      <td>NaN</td>\n",
              "      <td>NaN</td>\n",
              "      <td>NaN</td>\n",
              "      <td>NaN</td>\n",
              "      <td>0.0</td>\n",
              "      <td>NaN</td>\n",
              "      <td>NaN</td>\n",
              "    </tr>\n",
              "    <tr>\n",
              "      <th>43.67</th>\n",
              "      <td>2019-01-05</td>\n",
              "      <td>2019</td>\n",
              "      <td>1</td>\n",
              "      <td>5</td>\n",
              "      <td>3.9</td>\n",
              "      <td>NaN</td>\n",
              "      <td>1.0</td>\n",
              "      <td>NaN</td>\n",
              "      <td>2.5</td>\n",
              "      <td>NaN</td>\n",
              "      <td>15.5</td>\n",
              "      <td>NaN</td>\n",
              "      <td>0.0</td>\n",
              "      <td>NaN</td>\n",
              "      <td>NaN</td>\n",
              "      <td>NaN</td>\n",
              "      <td>NaN</td>\n",
              "      <td>NaN</td>\n",
              "      <td>0.0</td>\n",
              "      <td>NaN</td>\n",
              "      <td>NaN</td>\n",
              "    </tr>\n",
              "  </tbody>\n",
              "</table>\n",
              "</div>"
            ],
            "text/plain": [
              "               Date/Time  Year  ...  Total_Precip_Flag  Snow_on_Grnd_Flag\n",
              "Latitude (y)                    ...                                      \n",
              "43.67         2019-01-01  2019  ...                NaN                NaN\n",
              "43.67         2019-01-02  2019  ...                NaN                NaN\n",
              "43.67         2019-01-03  2019  ...                NaN                NaN\n",
              "43.67         2019-01-04  2019  ...                NaN                NaN\n",
              "43.67         2019-01-05  2019  ...                NaN                NaN\n",
              "\n",
              "[5 rows x 21 columns]"
            ]
          },
          "metadata": {
            "tags": []
          },
          "execution_count": 9
        }
      ]
    },
    {
      "cell_type": "code",
      "metadata": {
        "id": "JLnrLUd3uXgF",
        "colab_type": "code",
        "outputId": "1a84c2fc-06f1-40ce-a558-6c30bf5c48d5",
        "colab": {
          "base_uri": "https://localhost:8080/",
          "height": 272
        }
      },
      "source": [
        "weather_2017.columns = [c.replace(' (°C)', '') for c in weather_2017.columns]\n",
        "weather_2017.columns = [c.replace(' (mm)', '') for c in weather_2017.columns]\n",
        "weather_2017.columns = [c.replace(' (cm)', '') for c in weather_2017.columns]\n",
        "weather_2017.columns = [c.replace(' ', '_') for c in weather_2017.columns]\n",
        "weather_2017.head()"
      ],
      "execution_count": 10,
      "outputs": [
        {
          "output_type": "execute_result",
          "data": {
            "text/html": [
              "<div>\n",
              "<style scoped>\n",
              "    .dataframe tbody tr th:only-of-type {\n",
              "        vertical-align: middle;\n",
              "    }\n",
              "\n",
              "    .dataframe tbody tr th {\n",
              "        vertical-align: top;\n",
              "    }\n",
              "\n",
              "    .dataframe thead th {\n",
              "        text-align: right;\n",
              "    }\n",
              "</style>\n",
              "<table border=\"1\" class=\"dataframe\">\n",
              "  <thead>\n",
              "    <tr style=\"text-align: right;\">\n",
              "      <th></th>\n",
              "      <th>Date/Time</th>\n",
              "      <th>Year</th>\n",
              "      <th>Month</th>\n",
              "      <th>Day</th>\n",
              "      <th>Max_Temp</th>\n",
              "      <th>Max_Temp_Flag</th>\n",
              "      <th>Min_Temp</th>\n",
              "      <th>Min_Temp_Flag</th>\n",
              "      <th>Mean_Temp</th>\n",
              "      <th>Mean_Temp_Flag</th>\n",
              "      <th>Heat_Deg_Days</th>\n",
              "      <th>Heat_Deg_Days_Flag</th>\n",
              "      <th>Cool_Deg_Days</th>\n",
              "      <th>Cool_Deg_Days_Flag</th>\n",
              "      <th>Total_Rain</th>\n",
              "      <th>Total_Rain_Flag</th>\n",
              "      <th>Total_Snow</th>\n",
              "      <th>Total_Snow_Flag</th>\n",
              "      <th>Total_Precip</th>\n",
              "      <th>Total_Precip_Flag</th>\n",
              "      <th>Snow_on_Grnd_Flag</th>\n",
              "    </tr>\n",
              "    <tr>\n",
              "      <th>Latitude (y)</th>\n",
              "      <th></th>\n",
              "      <th></th>\n",
              "      <th></th>\n",
              "      <th></th>\n",
              "      <th></th>\n",
              "      <th></th>\n",
              "      <th></th>\n",
              "      <th></th>\n",
              "      <th></th>\n",
              "      <th></th>\n",
              "      <th></th>\n",
              "      <th></th>\n",
              "      <th></th>\n",
              "      <th></th>\n",
              "      <th></th>\n",
              "      <th></th>\n",
              "      <th></th>\n",
              "      <th></th>\n",
              "      <th></th>\n",
              "      <th></th>\n",
              "      <th></th>\n",
              "    </tr>\n",
              "  </thead>\n",
              "  <tbody>\n",
              "    <tr>\n",
              "      <th>43.67</th>\n",
              "      <td>2017-01-01</td>\n",
              "      <td>2017</td>\n",
              "      <td>1</td>\n",
              "      <td>1</td>\n",
              "      <td>3.1</td>\n",
              "      <td>NaN</td>\n",
              "      <td>-0.5</td>\n",
              "      <td>NaN</td>\n",
              "      <td>1.3</td>\n",
              "      <td>NaN</td>\n",
              "      <td>16.7</td>\n",
              "      <td>NaN</td>\n",
              "      <td>0.0</td>\n",
              "      <td>NaN</td>\n",
              "      <td>NaN</td>\n",
              "      <td>M</td>\n",
              "      <td>NaN</td>\n",
              "      <td>M</td>\n",
              "      <td>0.0</td>\n",
              "      <td>NaN</td>\n",
              "      <td>NaN</td>\n",
              "    </tr>\n",
              "    <tr>\n",
              "      <th>43.67</th>\n",
              "      <td>2017-01-02</td>\n",
              "      <td>2017</td>\n",
              "      <td>1</td>\n",
              "      <td>2</td>\n",
              "      <td>5.5</td>\n",
              "      <td>NaN</td>\n",
              "      <td>0.7</td>\n",
              "      <td>NaN</td>\n",
              "      <td>3.1</td>\n",
              "      <td>NaN</td>\n",
              "      <td>14.9</td>\n",
              "      <td>NaN</td>\n",
              "      <td>0.0</td>\n",
              "      <td>NaN</td>\n",
              "      <td>NaN</td>\n",
              "      <td>M</td>\n",
              "      <td>NaN</td>\n",
              "      <td>M</td>\n",
              "      <td>0.0</td>\n",
              "      <td>NaN</td>\n",
              "      <td>NaN</td>\n",
              "    </tr>\n",
              "    <tr>\n",
              "      <th>43.67</th>\n",
              "      <td>2017-01-03</td>\n",
              "      <td>2017</td>\n",
              "      <td>1</td>\n",
              "      <td>3</td>\n",
              "      <td>4.8</td>\n",
              "      <td>NaN</td>\n",
              "      <td>2.4</td>\n",
              "      <td>NaN</td>\n",
              "      <td>3.6</td>\n",
              "      <td>NaN</td>\n",
              "      <td>14.4</td>\n",
              "      <td>NaN</td>\n",
              "      <td>0.0</td>\n",
              "      <td>NaN</td>\n",
              "      <td>NaN</td>\n",
              "      <td>M</td>\n",
              "      <td>NaN</td>\n",
              "      <td>M</td>\n",
              "      <td>11.3</td>\n",
              "      <td>NaN</td>\n",
              "      <td>NaN</td>\n",
              "    </tr>\n",
              "    <tr>\n",
              "      <th>43.67</th>\n",
              "      <td>2017-01-04</td>\n",
              "      <td>2017</td>\n",
              "      <td>1</td>\n",
              "      <td>4</td>\n",
              "      <td>3.8</td>\n",
              "      <td>NaN</td>\n",
              "      <td>-7.6</td>\n",
              "      <td>NaN</td>\n",
              "      <td>-1.9</td>\n",
              "      <td>NaN</td>\n",
              "      <td>19.9</td>\n",
              "      <td>NaN</td>\n",
              "      <td>0.0</td>\n",
              "      <td>NaN</td>\n",
              "      <td>NaN</td>\n",
              "      <td>M</td>\n",
              "      <td>NaN</td>\n",
              "      <td>M</td>\n",
              "      <td>0.6</td>\n",
              "      <td>NaN</td>\n",
              "      <td>NaN</td>\n",
              "    </tr>\n",
              "    <tr>\n",
              "      <th>43.67</th>\n",
              "      <td>2017-01-05</td>\n",
              "      <td>2017</td>\n",
              "      <td>1</td>\n",
              "      <td>5</td>\n",
              "      <td>-5.3</td>\n",
              "      <td>NaN</td>\n",
              "      <td>-10.3</td>\n",
              "      <td>NaN</td>\n",
              "      <td>-7.8</td>\n",
              "      <td>NaN</td>\n",
              "      <td>25.8</td>\n",
              "      <td>NaN</td>\n",
              "      <td>0.0</td>\n",
              "      <td>NaN</td>\n",
              "      <td>NaN</td>\n",
              "      <td>M</td>\n",
              "      <td>NaN</td>\n",
              "      <td>M</td>\n",
              "      <td>0.0</td>\n",
              "      <td>NaN</td>\n",
              "      <td>NaN</td>\n",
              "    </tr>\n",
              "  </tbody>\n",
              "</table>\n",
              "</div>"
            ],
            "text/plain": [
              "               Date/Time  Year  ...  Total_Precip_Flag  Snow_on_Grnd_Flag\n",
              "Latitude (y)                    ...                                      \n",
              "43.67         2017-01-01  2017  ...                NaN                NaN\n",
              "43.67         2017-01-02  2017  ...                NaN                NaN\n",
              "43.67         2017-01-03  2017  ...                NaN                NaN\n",
              "43.67         2017-01-04  2017  ...                NaN                NaN\n",
              "43.67         2017-01-05  2017  ...                NaN                NaN\n",
              "\n",
              "[5 rows x 21 columns]"
            ]
          },
          "metadata": {
            "tags": []
          },
          "execution_count": 10
        }
      ]
    },
    {
      "cell_type": "code",
      "metadata": {
        "id": "Q7_2McJYuXgJ",
        "colab_type": "code",
        "outputId": "fbe70d69-5843-402f-e7c7-5523eac07f51",
        "colab": {
          "base_uri": "https://localhost:8080/",
          "height": 34
        }
      },
      "source": [
        "weather_2019.Mean_Temp.mean()"
      ],
      "execution_count": 11,
      "outputs": [
        {
          "output_type": "execute_result",
          "data": {
            "text/plain": [
              "8.998618784530382"
            ]
          },
          "metadata": {
            "tags": []
          },
          "execution_count": 11
        }
      ]
    },
    {
      "cell_type": "code",
      "metadata": {
        "id": "kQpzpUBnuXgM",
        "colab_type": "code",
        "outputId": "4d8d4d1b-562c-46b4-ade8-0e06cdfa1d0c",
        "colab": {
          "base_uri": "https://localhost:8080/",
          "height": 255
        }
      },
      "source": [
        "mean_weather_2019 = weather_2019.groupby('Month').Mean_Temp.mean()\n",
        "mean_weather_2019"
      ],
      "execution_count": 12,
      "outputs": [
        {
          "output_type": "execute_result",
          "data": {
            "text/plain": [
              "Month\n",
              "1     -5.358065\n",
              "2     -2.942857\n",
              "3      0.141935\n",
              "4      7.141379\n",
              "5     12.361290\n",
              "6     18.716667\n",
              "7     23.467742\n",
              "8     21.506667\n",
              "9     17.983333\n",
              "10    11.648387\n",
              "11     2.020000\n",
              "12     0.530000\n",
              "Name: Mean_Temp, dtype: float64"
            ]
          },
          "metadata": {
            "tags": []
          },
          "execution_count": 12
        }
      ]
    },
    {
      "cell_type": "code",
      "metadata": {
        "id": "nkzS1xvIuXgR",
        "colab_type": "code",
        "outputId": "7382bb3c-9e21-479f-dd2b-969f033250e1",
        "colab": {
          "base_uri": "https://localhost:8080/",
          "height": 255
        }
      },
      "source": [
        "mean_weather_2018 = weather_2018.groupby('Month').Mean_Temp.mean()\n",
        "mean_weather_2018"
      ],
      "execution_count": 13,
      "outputs": [
        {
          "output_type": "execute_result",
          "data": {
            "text/plain": [
              "Month\n",
              "1     -5.358065\n",
              "2     -2.942857\n",
              "3      0.141935\n",
              "4      7.141379\n",
              "5     12.361290\n",
              "6     18.716667\n",
              "7     23.467742\n",
              "8     21.506667\n",
              "9     17.983333\n",
              "10    11.648387\n",
              "11     2.020000\n",
              "12     0.530000\n",
              "Name: Mean_Temp, dtype: float64"
            ]
          },
          "metadata": {
            "tags": []
          },
          "execution_count": 13
        }
      ]
    },
    {
      "cell_type": "code",
      "metadata": {
        "id": "kuicxMIAuXgV",
        "colab_type": "code",
        "outputId": "f8478099-0a17-4e0f-c583-4db3a61336b2",
        "colab": {
          "base_uri": "https://localhost:8080/",
          "height": 255
        }
      },
      "source": [
        "mean_weather_2017 = weather_2017.groupby('Month').Mean_Temp.mean()\n",
        "mean_weather_2017"
      ],
      "execution_count": 14,
      "outputs": [
        {
          "output_type": "execute_result",
          "data": {
            "text/plain": [
              "Month\n",
              "1     -0.532258\n",
              "2      1.014286\n",
              "3      0.066667\n",
              "4      9.544828\n",
              "5     12.225926\n",
              "6     19.413793\n",
              "7     21.774194\n",
              "8     20.551613\n",
              "9     19.243333\n",
              "10    14.136667\n",
              "11     4.725000\n",
              "12    -3.906452\n",
              "Name: Mean_Temp, dtype: float64"
            ]
          },
          "metadata": {
            "tags": []
          },
          "execution_count": 14
        }
      ]
    },
    {
      "cell_type": "code",
      "metadata": {
        "id": "Niw0sDTiuXgX",
        "colab_type": "code",
        "outputId": "b89e62be-6b15-42a5-a975-2284d50fa6d0",
        "colab": {
          "base_uri": "https://localhost:8080/",
          "height": 315
        }
      },
      "source": [
        "mean_weather_2019.plot(kind='bar'\n",
        "                        ,stacked=True\n",
        "                        ,title = 'Avg Temperature 2019')"
      ],
      "execution_count": 15,
      "outputs": [
        {
          "output_type": "execute_result",
          "data": {
            "text/plain": [
              "<matplotlib.axes._subplots.AxesSubplot at 0x7f88f8c27e10>"
            ]
          },
          "metadata": {
            "tags": []
          },
          "execution_count": 15
        },
        {
          "output_type": "display_data",
          "data": {
            "image/png": "[encoded data removed]",
            "text/plain": [
              "<Figure size 432x288 with 1 Axes>"
            ]
          },
          "metadata": {
            "tags": [],
            "needs_background": "light"
          }
        }
      ]
    },
    {
      "cell_type": "code",
      "metadata": {
        "id": "TpgfbC-ouXgb",
        "colab_type": "code",
        "outputId": "503bb69c-8e78-418a-b3ba-db0ab1605bfd",
        "colab": {
          "base_uri": "https://localhost:8080/",
          "height": 315
        }
      },
      "source": [
        "mean_weather_2018.plot(kind='bar'\n",
        "                        ,stacked=True\n",
        "                        ,title = 'Avg Temperature 2018')"
      ],
      "execution_count": 16,
      "outputs": [
        {
          "output_type": "execute_result",
          "data": {
            "text/plain": [
              "<matplotlib.axes._subplots.AxesSubplot at 0x7f88f8b31390>"
            ]
          },
          "metadata": {
            "tags": []
          },
          "execution_count": 16
        },
        {
          "output_type": "display_data",
          "data": {
            "image/png": "[encoded data removed]",
            "text/plain": [
              "<Figure size 432x288 with 1 Axes>"
            ]
          },
          "metadata": {
            "tags": [],
            "needs_background": "light"
          }
        }
      ]
    },
    {
      "cell_type": "code",
      "metadata": {
        "id": "rJ_mfly1uXgi",
        "colab_type": "code",
        "outputId": "cecdaee4-587c-422c-cae8-f47eed5d296e",
        "colab": {
          "base_uri": "https://localhost:8080/",
          "height": 315
        }
      },
      "source": [
        "mean_weather_2017.plot(kind='bar'\n",
        "                        ,stacked=True\n",
        "                        ,title = 'Avg Temperature 2017')"
      ],
      "execution_count": 17,
      "outputs": [
        {
          "output_type": "execute_result",
          "data": {
            "text/plain": [
              "<matplotlib.axes._subplots.AxesSubplot at 0x7f88f85f2c50>"
            ]
          },
          "metadata": {
            "tags": []
          },
          "execution_count": 17
        },
        {
          "output_type": "display_data",
          "data": {
            "image/png": "[encoded data removed]",
            "text/plain": [
              "<Figure size 432x288 with 1 Axes>"
            ]
          },
          "metadata": {
            "tags": [],
            "needs_background": "light"
          }
        }
      ]
    },
    {
      "cell_type": "markdown",
      "metadata": {
        "id": "9dUDLvQfuXgn",
        "colab_type": "text"
      },
      "source": [
        "### Based on the data from 2017 to 2019, the coolest month of the year in Toronto is January while the warmest month is usually July."
      ]
    },
    {
      "cell_type": "code",
      "metadata": {
        "id": "CPy8oc9BuXgo",
        "colab_type": "code",
        "outputId": "b13027e3-0d89-4f77-9238-9f3f2bac0d30",
        "colab": {
          "base_uri": "https://localhost:8080/",
          "height": 493
        }
      },
      "source": [
        "weather_2019.info()"
      ],
      "execution_count": 18,
      "outputs": [
        {
          "output_type": "stream",
          "text": [
            "<class 'pandas.core.frame.DataFrame'>\n",
            "Float64Index: 365 entries, 43.67 to 43.67\n",
            "Data columns (total 21 columns):\n",
            " #   Column              Non-Null Count  Dtype  \n",
            "---  ------              --------------  -----  \n",
            " 0   Date/Time           365 non-null    object \n",
            " 1   Year                365 non-null    int64  \n",
            " 2   Month               365 non-null    int64  \n",
            " 3   Day                 365 non-null    int64  \n",
            " 4   Max_Temp            362 non-null    float64\n",
            " 5   Max_Temp_Flag       3 non-null      object \n",
            " 6   Min_Temp            362 non-null    float64\n",
            " 7   Min_Temp_Flag       3 non-null      object \n",
            " 8   Mean_Temp           362 non-null    float64\n",
            " 9   Mean_Temp_Flag      3 non-null      object \n",
            " 10  Heat_Deg_Days       362 non-null    float64\n",
            " 11  Heat_Deg_Days_Flag  3 non-null      object \n",
            " 12  Cool_Deg_Days       362 non-null    float64\n",
            " 13  Cool_Deg_Days_Flag  3 non-null      object \n",
            " 14  Total_Rain          0 non-null      float64\n",
            " 15  Total_Rain_Flag     0 non-null      float64\n",
            " 16  Total_Snow          0 non-null      float64\n",
            " 17  Total_Snow_Flag     0 non-null      float64\n",
            " 18  Total_Precip        362 non-null    float64\n",
            " 19  Total_Precip_Flag   3 non-null      object \n",
            " 20  Snow_on_Grnd_Flag   0 non-null      float64\n",
            "dtypes: float64(11), int64(3), object(7)\n",
            "memory usage: 62.7+ KB\n"
          ],
          "name": "stdout"
        }
      ]
    },
    {
      "cell_type": "code",
      "metadata": {
        "id": "nUHENJ_cuXgr",
        "colab_type": "code",
        "outputId": "fb4a37dd-6415-4764-d698-309c97311179",
        "colab": {
          "base_uri": "https://localhost:8080/",
          "height": 255
        }
      },
      "source": [
        "Precip_2019 = weather_2019[weather_2019['Total_Precip'] > 0].groupby('Month')['Total_Precip'].count()\n",
        "Precip_2019"
      ],
      "execution_count": 19,
      "outputs": [
        {
          "output_type": "execute_result",
          "data": {
            "text/plain": [
              "Month\n",
              "1     18\n",
              "2     21\n",
              "3     17\n",
              "4     13\n",
              "5     16\n",
              "6     10\n",
              "7     10\n",
              "8      9\n",
              "9      9\n",
              "10    12\n",
              "11    12\n",
              "12    16\n",
              "Name: Total_Precip, dtype: int64"
            ]
          },
          "metadata": {
            "tags": []
          },
          "execution_count": 19
        }
      ]
    },
    {
      "cell_type": "code",
      "metadata": {
        "id": "MFHeGRMzuXgv",
        "colab_type": "code",
        "outputId": "1cef2ae6-bdba-4db9-ad60-54e3b3f57f1e",
        "colab": {
          "base_uri": "https://localhost:8080/",
          "height": 255
        }
      },
      "source": [
        "Precip_2018 = weather_2018[weather_2018['Total_Precip'] > 0].groupby('Month')['Total_Precip'].count()\n",
        "Precip_2018"
      ],
      "execution_count": 20,
      "outputs": [
        {
          "output_type": "execute_result",
          "data": {
            "text/plain": [
              "Month\n",
              "1     18\n",
              "2     21\n",
              "3     17\n",
              "4     13\n",
              "5     16\n",
              "6     10\n",
              "7     10\n",
              "8      9\n",
              "9      9\n",
              "10    12\n",
              "11    12\n",
              "12    16\n",
              "Name: Total_Precip, dtype: int64"
            ]
          },
          "metadata": {
            "tags": []
          },
          "execution_count": 20
        }
      ]
    },
    {
      "cell_type": "code",
      "metadata": {
        "id": "AQwye0okuXgz",
        "colab_type": "code",
        "outputId": "ca593975-01ae-4f59-a7e8-0eea17a3004d",
        "colab": {
          "base_uri": "https://localhost:8080/",
          "height": 255
        }
      },
      "source": [
        "Precip_2017 = weather_2017[weather_2017['Total_Precip'] > 0].groupby('Month')['Total_Precip'].count()\n",
        "Precip_2017"
      ],
      "execution_count": 21,
      "outputs": [
        {
          "output_type": "execute_result",
          "data": {
            "text/plain": [
              "Month\n",
              "1     13\n",
              "2     10\n",
              "3     15\n",
              "4     13\n",
              "5     11\n",
              "6     14\n",
              "7     10\n",
              "8      8\n",
              "9      5\n",
              "10    10\n",
              "11    14\n",
              "12    17\n",
              "Name: Total_Precip, dtype: int64"
            ]
          },
          "metadata": {
            "tags": []
          },
          "execution_count": 21
        }
      ]
    },
    {
      "cell_type": "code",
      "metadata": {
        "id": "FEpP70_buXg1",
        "colab_type": "code",
        "outputId": "8e8de4e7-b793-4a6a-ddf1-3101c0cc6cd6",
        "colab": {
          "base_uri": "https://localhost:8080/",
          "height": 315
        }
      },
      "source": [
        "Precip_2019.plot(kind='bar'\n",
        "                ,stacked=True\n",
        "                ,title = 'Count Precipitation 2019')"
      ],
      "execution_count": 22,
      "outputs": [
        {
          "output_type": "execute_result",
          "data": {
            "text/plain": [
              "<matplotlib.axes._subplots.AxesSubplot at 0x7f88f85796d8>"
            ]
          },
          "metadata": {
            "tags": []
          },
          "execution_count": 22
        },
        {
          "output_type": "display_data",
          "data": {
            "image/png": "[encoded data removed]",
            "text/plain": [
              "<Figure size 432x288 with 1 Axes>"
            ]
          },
          "metadata": {
            "tags": [],
            "needs_background": "light"
          }
        }
      ]
    },
    {
      "cell_type": "code",
      "metadata": {
        "id": "pL7IZJTYuXg4",
        "colab_type": "code",
        "outputId": "5584518d-8c64-4aac-a348-7df091ab7550",
        "colab": {
          "base_uri": "https://localhost:8080/",
          "height": 315
        }
      },
      "source": [
        "Precip_2018.plot(kind='bar'\n",
        "                ,stacked=True\n",
        "                ,title = 'Count Precipitation 2018')"
      ],
      "execution_count": 23,
      "outputs": [
        {
          "output_type": "execute_result",
          "data": {
            "text/plain": [
              "<matplotlib.axes._subplots.AxesSubplot at 0x7f88f8527240>"
            ]
          },
          "metadata": {
            "tags": []
          },
          "execution_count": 23
        },
        {
          "output_type": "display_data",
          "data": {
            "image/png": "[encoded data removed]",
            "text/plain": [
              "<Figure size 432x288 with 1 Axes>"
            ]
          },
          "metadata": {
            "tags": [],
            "needs_background": "light"
          }
        }
      ]
    },
    {
      "cell_type": "code",
      "metadata": {
        "id": "Oa0U90KUuXhA",
        "colab_type": "code",
        "outputId": "2d58e06d-93dd-4879-dc56-eb29bc144107",
        "colab": {
          "base_uri": "https://localhost:8080/",
          "height": 315
        }
      },
      "source": [
        "Precip_2017.plot(kind='bar'\n",
        "                ,stacked=True\n",
        "                ,title = 'Count Precipitation 2017')"
      ],
      "execution_count": 24,
      "outputs": [
        {
          "output_type": "execute_result",
          "data": {
            "text/plain": [
              "<matplotlib.axes._subplots.AxesSubplot at 0x7f88f84abb00>"
            ]
          },
          "metadata": {
            "tags": []
          },
          "execution_count": 24
        },
        {
          "output_type": "display_data",
          "data": {
            "image/png": "[encoded data removed]",
            "text/plain": [
              "<Figure size 432x288 with 1 Axes>"
            ]
          },
          "metadata": {
            "tags": [],
            "needs_background": "light"
          }
        }
      ]
    },
    {
      "cell_type": "code",
      "metadata": {
        "id": "tstrPmG9uXhM",
        "colab_type": "code",
        "colab": {}
      },
      "source": [
        ""
      ],
      "execution_count": 0,
      "outputs": []
    }
  ]
}