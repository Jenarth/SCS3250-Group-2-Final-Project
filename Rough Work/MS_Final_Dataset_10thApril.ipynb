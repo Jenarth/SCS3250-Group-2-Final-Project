{
  "nbformat": 4,
  "nbformat_minor": 0,
  "metadata": {
    "colab": {
      "name": "Final Dataset.ipynb",
      "provenance": [],
      "include_colab_link": true
    },
    "kernelspec": {
      "name": "python3",
      "display_name": "Python 3"
    }
  },
  "cells": [
    {
      "cell_type": "markdown",
      "metadata": {
        "id": "view-in-github",
        "colab_type": "text"
      },
      "source": [
        "<a href=\"https://colab.research.google.com/github/Jenarth/SCS3250-Group-2-Final-Project/blob/master/Rough%20Work/MS_Final_Dataset_10thApril.ipynb\" target=\"_parent\"><img src=\"https://colab.research.google.com/assets/colab-badge.svg\" alt=\"Open In Colab\"/></a>"
      ]
    },
    {
      "cell_type": "markdown",
      "metadata": {
        "id": "aKF-zCG_qeK_",
        "colab_type": "text"
      },
      "source": [
        "#Classification with knn"
      ]
    },
    {
      "cell_type": "markdown",
      "metadata": {
        "id": "BqNK5ibmqfyK",
        "colab_type": "text"
      },
      "source": [
        "## Import Libraries"
      ]
    },
    {
      "cell_type": "code",
      "metadata": {
        "id": "HJP9oo-4qcX5",
        "colab_type": "code",
        "colab": {}
      },
      "source": [
        "import pandas as pd\n",
        "import numpy as np\n",
        "from datetime import datetime\n",
        "import calendar\n",
        "import holidays\n",
        "import matplotlib.pyplot as plt"
      ],
      "execution_count": 0,
      "outputs": []
    },
    {
      "cell_type": "markdown",
      "metadata": {
        "id": "efqCOyO8q1vu",
        "colab_type": "text"
      },
      "source": [
        "##Read Final Dataset"
      ]
    },
    {
      "cell_type": "code",
      "metadata": {
        "id": "8wNQWrsryRSc",
        "colab_type": "code",
        "outputId": "29df0102-fac9-436d-c756-fb5b422d531f",
        "colab": {
          "base_uri": "https://localhost:8080/",
          "height": 360
        }
      },
      "source": [
        "dataset = pd.read_csv('https://raw.githubusercontent.com/Jenarth/SCS3250-Group-2-Final-Project/master/Final%20Dataset.csv')\n",
        "dataset.head()"
      ],
      "execution_count": 2,
      "outputs": [
        {
          "output_type": "execute_result",
          "data": {
            "text/html": [
              "<div>\n",
              "<style scoped>\n",
              "    .dataframe tbody tr th:only-of-type {\n",
              "        vertical-align: middle;\n",
              "    }\n",
              "\n",
              "    .dataframe tbody tr th {\n",
              "        vertical-align: top;\n",
              "    }\n",
              "\n",
              "    .dataframe thead th {\n",
              "        text-align: right;\n",
              "    }\n",
              "</style>\n",
              "<table border=\"1\" class=\"dataframe\">\n",
              "  <thead>\n",
              "    <tr style=\"text-align: right;\">\n",
              "      <th></th>\n",
              "      <th>Date</th>\n",
              "      <th>Year</th>\n",
              "      <th>Month</th>\n",
              "      <th>year_month</th>\n",
              "      <th>Day</th>\n",
              "      <th>Weekday</th>\n",
              "      <th>Holiday</th>\n",
              "      <th>Max Temp (°C)</th>\n",
              "      <th>Min Temp (°C)</th>\n",
              "      <th>Mean Temp (°C)</th>\n",
              "      <th>Monthly Mean Temp (°C)</th>\n",
              "      <th>Delta Temp (°C)</th>\n",
              "      <th>Total Precip (mm)</th>\n",
              "      <th>Monthly Mean Precip (mm)</th>\n",
              "      <th>Delta Precip (mm)</th>\n",
              "      <th>Snow on Grnd (cm)</th>\n",
              "      <th>Barrie Ridership</th>\n",
              "      <th>Kitchener Ridership</th>\n",
              "      <th>Lakeshore East Ridership</th>\n",
              "      <th>Lakeshore West Ridership</th>\n",
              "      <th>Milton Ridership</th>\n",
              "      <th>Richmond Hill Ridership</th>\n",
              "      <th>Stouffville Ridership</th>\n",
              "      <th>Union Station Ridership</th>\n",
              "      <th>Total GO Ridership</th>\n",
              "      <th>Outlier</th>\n",
              "      <th>Overall Mean</th>\n",
              "      <th>2SD_above</th>\n",
              "      <th>2SD_below</th>\n",
              "    </tr>\n",
              "  </thead>\n",
              "  <tbody>\n",
              "    <tr>\n",
              "      <th>0</th>\n",
              "      <td>2017-03-01</td>\n",
              "      <td>2017</td>\n",
              "      <td>3</td>\n",
              "      <td>2017-03</td>\n",
              "      <td>1</td>\n",
              "      <td>Wednesday</td>\n",
              "      <td>False</td>\n",
              "      <td>13.1</td>\n",
              "      <td>-1.9</td>\n",
              "      <td>5.6</td>\n",
              "      <td>-0.251613</td>\n",
              "      <td>5.851613</td>\n",
              "      <td>18.4</td>\n",
              "      <td>2.335484</td>\n",
              "      <td>16.064516</td>\n",
              "      <td>0.0</td>\n",
              "      <td>10022</td>\n",
              "      <td>13585</td>\n",
              "      <td>25273</td>\n",
              "      <td>32909</td>\n",
              "      <td>15599</td>\n",
              "      <td>5639</td>\n",
              "      <td>8804</td>\n",
              "      <td>95802</td>\n",
              "      <td>207633</td>\n",
              "      <td>False</td>\n",
              "      <td>227296.503311</td>\n",
              "      <td>254365.810172</td>\n",
              "      <td>200227.196451</td>\n",
              "    </tr>\n",
              "    <tr>\n",
              "      <th>1</th>\n",
              "      <td>2017-03-02</td>\n",
              "      <td>2017</td>\n",
              "      <td>3</td>\n",
              "      <td>2017-03</td>\n",
              "      <td>2</td>\n",
              "      <td>Thursday</td>\n",
              "      <td>False</td>\n",
              "      <td>-1.3</td>\n",
              "      <td>-6.4</td>\n",
              "      <td>-3.9</td>\n",
              "      <td>-0.251613</td>\n",
              "      <td>-3.648387</td>\n",
              "      <td>0.2</td>\n",
              "      <td>2.335484</td>\n",
              "      <td>-2.135484</td>\n",
              "      <td>0.5</td>\n",
              "      <td>9932</td>\n",
              "      <td>13331</td>\n",
              "      <td>26120</td>\n",
              "      <td>33884</td>\n",
              "      <td>15653</td>\n",
              "      <td>5665</td>\n",
              "      <td>8736</td>\n",
              "      <td>95873</td>\n",
              "      <td>209194</td>\n",
              "      <td>False</td>\n",
              "      <td>224966.615894</td>\n",
              "      <td>253295.696280</td>\n",
              "      <td>196637.535508</td>\n",
              "    </tr>\n",
              "    <tr>\n",
              "      <th>2</th>\n",
              "      <td>2017-03-03</td>\n",
              "      <td>2017</td>\n",
              "      <td>3</td>\n",
              "      <td>2017-03</td>\n",
              "      <td>3</td>\n",
              "      <td>Friday</td>\n",
              "      <td>False</td>\n",
              "      <td>-4.3</td>\n",
              "      <td>-8.1</td>\n",
              "      <td>-6.2</td>\n",
              "      <td>-0.251613</td>\n",
              "      <td>-5.948387</td>\n",
              "      <td>0.0</td>\n",
              "      <td>2.335484</td>\n",
              "      <td>-2.335484</td>\n",
              "      <td>0.5</td>\n",
              "      <td>8905</td>\n",
              "      <td>12235</td>\n",
              "      <td>23801</td>\n",
              "      <td>31473</td>\n",
              "      <td>14092</td>\n",
              "      <td>5129</td>\n",
              "      <td>7918</td>\n",
              "      <td>87200</td>\n",
              "      <td>190753</td>\n",
              "      <td>False</td>\n",
              "      <td>204211.905405</td>\n",
              "      <td>232457.905320</td>\n",
              "      <td>175965.905490</td>\n",
              "    </tr>\n",
              "    <tr>\n",
              "      <th>3</th>\n",
              "      <td>2017-03-04</td>\n",
              "      <td>2017</td>\n",
              "      <td>3</td>\n",
              "      <td>2017-03</td>\n",
              "      <td>4</td>\n",
              "      <td>Saturday</td>\n",
              "      <td>False</td>\n",
              "      <td>-6.5</td>\n",
              "      <td>-11.9</td>\n",
              "      <td>-9.2</td>\n",
              "      <td>-0.251613</td>\n",
              "      <td>-8.948387</td>\n",
              "      <td>0.2</td>\n",
              "      <td>2.335484</td>\n",
              "      <td>-2.135484</td>\n",
              "      <td>0.5</td>\n",
              "      <td>928</td>\n",
              "      <td>480</td>\n",
              "      <td>7872</td>\n",
              "      <td>11756</td>\n",
              "      <td>208</td>\n",
              "      <td>0</td>\n",
              "      <td>246</td>\n",
              "      <td>13899</td>\n",
              "      <td>35389</td>\n",
              "      <td>False</td>\n",
              "      <td>45352.333333</td>\n",
              "      <td>73886.656469</td>\n",
              "      <td>16818.010198</td>\n",
              "    </tr>\n",
              "    <tr>\n",
              "      <th>4</th>\n",
              "      <td>2017-03-05</td>\n",
              "      <td>2017</td>\n",
              "      <td>3</td>\n",
              "      <td>2017-03</td>\n",
              "      <td>5</td>\n",
              "      <td>Sunday</td>\n",
              "      <td>False</td>\n",
              "      <td>-0.4</td>\n",
              "      <td>-10.6</td>\n",
              "      <td>-5.5</td>\n",
              "      <td>-0.251613</td>\n",
              "      <td>-5.248387</td>\n",
              "      <td>0.0</td>\n",
              "      <td>2.335484</td>\n",
              "      <td>-2.335484</td>\n",
              "      <td>0.5</td>\n",
              "      <td>803</td>\n",
              "      <td>398</td>\n",
              "      <td>4714</td>\n",
              "      <td>8381</td>\n",
              "      <td>169</td>\n",
              "      <td>0</td>\n",
              "      <td>156</td>\n",
              "      <td>8505</td>\n",
              "      <td>23126</td>\n",
              "      <td>False</td>\n",
              "      <td>32455.370861</td>\n",
              "      <td>53039.519234</td>\n",
              "      <td>11871.222488</td>\n",
              "    </tr>\n",
              "  </tbody>\n",
              "</table>\n",
              "</div>"
            ],
            "text/plain": [
              "         Date  Year  Month  ...   Overall Mean      2SD_above      2SD_below\n",
              "0  2017-03-01  2017      3  ...  227296.503311  254365.810172  200227.196451\n",
              "1  2017-03-02  2017      3  ...  224966.615894  253295.696280  196637.535508\n",
              "2  2017-03-03  2017      3  ...  204211.905405  232457.905320  175965.905490\n",
              "3  2017-03-04  2017      3  ...   45352.333333   73886.656469   16818.010198\n",
              "4  2017-03-05  2017      3  ...   32455.370861   53039.519234   11871.222488\n",
              "\n",
              "[5 rows x 29 columns]"
            ]
          },
          "metadata": {
            "tags": []
          },
          "execution_count": 2
        }
      ]
    },
    {
      "cell_type": "markdown",
      "metadata": {
        "id": "Vd8L_Gg8q8jc",
        "colab_type": "text"
      },
      "source": [
        "##Prepare Dataset for Classification"
      ]
    },
    {
      "cell_type": "markdown",
      "metadata": {
        "id": "7b9EeoNQrEXU",
        "colab_type": "text"
      },
      "source": [
        "For classification, we will focus our analysis on one station - Union. We will be selecting specific columns to use as attributes to predict the category in which our test data will fall."
      ]
    },
    {
      "cell_type": "markdown",
      "metadata": {
        "id": "ENxdBK8UyZkA",
        "colab_type": "text"
      },
      "source": [
        "###Removing outliers and holidays"
      ]
    },
    {
      "cell_type": "markdown",
      "metadata": {
        "id": "mYA6BebJyeDG",
        "colab_type": "text"
      },
      "source": [
        "The first step is to remove all outliers and holidays from the dataset to have uniform data"
      ]
    },
    {
      "cell_type": "code",
      "metadata": {
        "id": "OaOkENS_yieK",
        "colab_type": "code",
        "outputId": "cd1cc246-0335-46c4-948c-ec4bef70715b",
        "colab": {
          "base_uri": "https://localhost:8080/",
          "height": 360
        }
      },
      "source": [
        "#only keep values without outliers/holidays\n",
        "dataset  = dataset.loc[(-dataset.Holiday)&(-dataset.Outlier)]\n",
        "dataset.head()"
      ],
      "execution_count": 3,
      "outputs": [
        {
          "output_type": "execute_result",
          "data": {
            "text/html": [
              "<div>\n",
              "<style scoped>\n",
              "    .dataframe tbody tr th:only-of-type {\n",
              "        vertical-align: middle;\n",
              "    }\n",
              "\n",
              "    .dataframe tbody tr th {\n",
              "        vertical-align: top;\n",
              "    }\n",
              "\n",
              "    .dataframe thead th {\n",
              "        text-align: right;\n",
              "    }\n",
              "</style>\n",
              "<table border=\"1\" class=\"dataframe\">\n",
              "  <thead>\n",
              "    <tr style=\"text-align: right;\">\n",
              "      <th></th>\n",
              "      <th>Date</th>\n",
              "      <th>Year</th>\n",
              "      <th>Month</th>\n",
              "      <th>year_month</th>\n",
              "      <th>Day</th>\n",
              "      <th>Weekday</th>\n",
              "      <th>Holiday</th>\n",
              "      <th>Max Temp (°C)</th>\n",
              "      <th>Min Temp (°C)</th>\n",
              "      <th>Mean Temp (°C)</th>\n",
              "      <th>Monthly Mean Temp (°C)</th>\n",
              "      <th>Delta Temp (°C)</th>\n",
              "      <th>Total Precip (mm)</th>\n",
              "      <th>Monthly Mean Precip (mm)</th>\n",
              "      <th>Delta Precip (mm)</th>\n",
              "      <th>Snow on Grnd (cm)</th>\n",
              "      <th>Barrie Ridership</th>\n",
              "      <th>Kitchener Ridership</th>\n",
              "      <th>Lakeshore East Ridership</th>\n",
              "      <th>Lakeshore West Ridership</th>\n",
              "      <th>Milton Ridership</th>\n",
              "      <th>Richmond Hill Ridership</th>\n",
              "      <th>Stouffville Ridership</th>\n",
              "      <th>Union Station Ridership</th>\n",
              "      <th>Total GO Ridership</th>\n",
              "      <th>Outlier</th>\n",
              "      <th>Overall Mean</th>\n",
              "      <th>2SD_above</th>\n",
              "      <th>2SD_below</th>\n",
              "    </tr>\n",
              "  </thead>\n",
              "  <tbody>\n",
              "    <tr>\n",
              "      <th>0</th>\n",
              "      <td>2017-03-01</td>\n",
              "      <td>2017</td>\n",
              "      <td>3</td>\n",
              "      <td>2017-03</td>\n",
              "      <td>1</td>\n",
              "      <td>Wednesday</td>\n",
              "      <td>False</td>\n",
              "      <td>13.1</td>\n",
              "      <td>-1.9</td>\n",
              "      <td>5.6</td>\n",
              "      <td>-0.251613</td>\n",
              "      <td>5.851613</td>\n",
              "      <td>18.4</td>\n",
              "      <td>2.335484</td>\n",
              "      <td>16.064516</td>\n",
              "      <td>0.0</td>\n",
              "      <td>10022</td>\n",
              "      <td>13585</td>\n",
              "      <td>25273</td>\n",
              "      <td>32909</td>\n",
              "      <td>15599</td>\n",
              "      <td>5639</td>\n",
              "      <td>8804</td>\n",
              "      <td>95802</td>\n",
              "      <td>207633</td>\n",
              "      <td>False</td>\n",
              "      <td>227296.503311</td>\n",
              "      <td>254365.810172</td>\n",
              "      <td>200227.196451</td>\n",
              "    </tr>\n",
              "    <tr>\n",
              "      <th>1</th>\n",
              "      <td>2017-03-02</td>\n",
              "      <td>2017</td>\n",
              "      <td>3</td>\n",
              "      <td>2017-03</td>\n",
              "      <td>2</td>\n",
              "      <td>Thursday</td>\n",
              "      <td>False</td>\n",
              "      <td>-1.3</td>\n",
              "      <td>-6.4</td>\n",
              "      <td>-3.9</td>\n",
              "      <td>-0.251613</td>\n",
              "      <td>-3.648387</td>\n",
              "      <td>0.2</td>\n",
              "      <td>2.335484</td>\n",
              "      <td>-2.135484</td>\n",
              "      <td>0.5</td>\n",
              "      <td>9932</td>\n",
              "      <td>13331</td>\n",
              "      <td>26120</td>\n",
              "      <td>33884</td>\n",
              "      <td>15653</td>\n",
              "      <td>5665</td>\n",
              "      <td>8736</td>\n",
              "      <td>95873</td>\n",
              "      <td>209194</td>\n",
              "      <td>False</td>\n",
              "      <td>224966.615894</td>\n",
              "      <td>253295.696280</td>\n",
              "      <td>196637.535508</td>\n",
              "    </tr>\n",
              "    <tr>\n",
              "      <th>2</th>\n",
              "      <td>2017-03-03</td>\n",
              "      <td>2017</td>\n",
              "      <td>3</td>\n",
              "      <td>2017-03</td>\n",
              "      <td>3</td>\n",
              "      <td>Friday</td>\n",
              "      <td>False</td>\n",
              "      <td>-4.3</td>\n",
              "      <td>-8.1</td>\n",
              "      <td>-6.2</td>\n",
              "      <td>-0.251613</td>\n",
              "      <td>-5.948387</td>\n",
              "      <td>0.0</td>\n",
              "      <td>2.335484</td>\n",
              "      <td>-2.335484</td>\n",
              "      <td>0.5</td>\n",
              "      <td>8905</td>\n",
              "      <td>12235</td>\n",
              "      <td>23801</td>\n",
              "      <td>31473</td>\n",
              "      <td>14092</td>\n",
              "      <td>5129</td>\n",
              "      <td>7918</td>\n",
              "      <td>87200</td>\n",
              "      <td>190753</td>\n",
              "      <td>False</td>\n",
              "      <td>204211.905405</td>\n",
              "      <td>232457.905320</td>\n",
              "      <td>175965.905490</td>\n",
              "    </tr>\n",
              "    <tr>\n",
              "      <th>3</th>\n",
              "      <td>2017-03-04</td>\n",
              "      <td>2017</td>\n",
              "      <td>3</td>\n",
              "      <td>2017-03</td>\n",
              "      <td>4</td>\n",
              "      <td>Saturday</td>\n",
              "      <td>False</td>\n",
              "      <td>-6.5</td>\n",
              "      <td>-11.9</td>\n",
              "      <td>-9.2</td>\n",
              "      <td>-0.251613</td>\n",
              "      <td>-8.948387</td>\n",
              "      <td>0.2</td>\n",
              "      <td>2.335484</td>\n",
              "      <td>-2.135484</td>\n",
              "      <td>0.5</td>\n",
              "      <td>928</td>\n",
              "      <td>480</td>\n",
              "      <td>7872</td>\n",
              "      <td>11756</td>\n",
              "      <td>208</td>\n",
              "      <td>0</td>\n",
              "      <td>246</td>\n",
              "      <td>13899</td>\n",
              "      <td>35389</td>\n",
              "      <td>False</td>\n",
              "      <td>45352.333333</td>\n",
              "      <td>73886.656469</td>\n",
              "      <td>16818.010198</td>\n",
              "    </tr>\n",
              "    <tr>\n",
              "      <th>4</th>\n",
              "      <td>2017-03-05</td>\n",
              "      <td>2017</td>\n",
              "      <td>3</td>\n",
              "      <td>2017-03</td>\n",
              "      <td>5</td>\n",
              "      <td>Sunday</td>\n",
              "      <td>False</td>\n",
              "      <td>-0.4</td>\n",
              "      <td>-10.6</td>\n",
              "      <td>-5.5</td>\n",
              "      <td>-0.251613</td>\n",
              "      <td>-5.248387</td>\n",
              "      <td>0.0</td>\n",
              "      <td>2.335484</td>\n",
              "      <td>-2.335484</td>\n",
              "      <td>0.5</td>\n",
              "      <td>803</td>\n",
              "      <td>398</td>\n",
              "      <td>4714</td>\n",
              "      <td>8381</td>\n",
              "      <td>169</td>\n",
              "      <td>0</td>\n",
              "      <td>156</td>\n",
              "      <td>8505</td>\n",
              "      <td>23126</td>\n",
              "      <td>False</td>\n",
              "      <td>32455.370861</td>\n",
              "      <td>53039.519234</td>\n",
              "      <td>11871.222488</td>\n",
              "    </tr>\n",
              "  </tbody>\n",
              "</table>\n",
              "</div>"
            ],
            "text/plain": [
              "         Date  Year  Month  ...   Overall Mean      2SD_above      2SD_below\n",
              "0  2017-03-01  2017      3  ...  227296.503311  254365.810172  200227.196451\n",
              "1  2017-03-02  2017      3  ...  224966.615894  253295.696280  196637.535508\n",
              "2  2017-03-03  2017      3  ...  204211.905405  232457.905320  175965.905490\n",
              "3  2017-03-04  2017      3  ...   45352.333333   73886.656469   16818.010198\n",
              "4  2017-03-05  2017      3  ...   32455.370861   53039.519234   11871.222488\n",
              "\n",
              "[5 rows x 29 columns]"
            ]
          },
          "metadata": {
            "tags": []
          },
          "execution_count": 3
        }
      ]
    },
    {
      "cell_type": "code",
      "metadata": {
        "id": "MzUhSWaH7uIf",
        "colab_type": "code",
        "outputId": "6813e593-9714-4535-89c2-c375cfb5a840",
        "colab": {
          "base_uri": "https://localhost:8080/",
          "height": 34
        }
      },
      "source": [
        "dataset[\"Union Station Ridership\"].max()"
      ],
      "execution_count": 4,
      "outputs": [
        {
          "output_type": "execute_result",
          "data": {
            "text/plain": [
              "116029"
            ]
          },
          "metadata": {
            "tags": []
          },
          "execution_count": 4
        }
      ]
    },
    {
      "cell_type": "code",
      "metadata": {
        "id": "-PLLYXNd7wZZ",
        "colab_type": "code",
        "outputId": "7c49859d-4593-4806-e256-d906f748b5d7",
        "colab": {
          "base_uri": "https://localhost:8080/",
          "height": 34
        }
      },
      "source": [
        "dataset[\"Union Station Ridership\"].min()"
      ],
      "execution_count": 5,
      "outputs": [
        {
          "output_type": "execute_result",
          "data": {
            "text/plain": [
              "5736"
            ]
          },
          "metadata": {
            "tags": []
          },
          "execution_count": 5
        }
      ]
    },
    {
      "cell_type": "markdown",
      "metadata": {
        "id": "IsrtPQSbrAn2",
        "colab_type": "text"
      },
      "source": [
        "###Creating bins for Union Ridership"
      ]
    },
    {
      "cell_type": "markdown",
      "metadata": {
        "id": "q1tt-iHXrkPf",
        "colab_type": "text"
      },
      "source": [
        "For efficient classification, the Union ridership will be split into 16 ranges of equal sized bins (10,000 bin size) ranging from min of 0 to max of 160,000"
      ]
    },
    {
      "cell_type": "code",
      "metadata": {
        "id": "XYNeYEdWJvCq",
        "colab_type": "code",
        "outputId": "3ee22270-42ac-454d-c9da-94922d7f09b1",
        "colab": {
          "base_uri": "https://localhost:8080/",
          "height": 360
        }
      },
      "source": [
        "#create bins for union ridership\n",
        "ridership_bins = [0,10000,20000,30000,40000,50000,60000,70000,80000,90000,100000,110000,120000,130000,140000,150000,160000] #try with smaller bins\n",
        "ridership_labels = ['0 to 10000','10000 to 20000','20000 to 30000','30000 to 40000','40000 to 50000','50000 to 60000','60000 to 70000','70000 to 80000','80000 to 90000','90000 to 100000','100000 to 110000','110000 to 120000','120000 to 130000','130000 to 140000','140000 to 150000','150000 to 160000']\n",
        "dataset['Union Station Ridership Ranges'] = pd.cut(dataset['Union Station Ridership'], bins=ridership_bins, labels=ridership_labels)\n",
        "dataset.head()"
      ],
      "execution_count": 6,
      "outputs": [
        {
          "output_type": "execute_result",
          "data": {
            "text/html": [
              "<div>\n",
              "<style scoped>\n",
              "    .dataframe tbody tr th:only-of-type {\n",
              "        vertical-align: middle;\n",
              "    }\n",
              "\n",
              "    .dataframe tbody tr th {\n",
              "        vertical-align: top;\n",
              "    }\n",
              "\n",
              "    .dataframe thead th {\n",
              "        text-align: right;\n",
              "    }\n",
              "</style>\n",
              "<table border=\"1\" class=\"dataframe\">\n",
              "  <thead>\n",
              "    <tr style=\"text-align: right;\">\n",
              "      <th></th>\n",
              "      <th>Date</th>\n",
              "      <th>Year</th>\n",
              "      <th>Month</th>\n",
              "      <th>year_month</th>\n",
              "      <th>Day</th>\n",
              "      <th>Weekday</th>\n",
              "      <th>Holiday</th>\n",
              "      <th>Max Temp (°C)</th>\n",
              "      <th>Min Temp (°C)</th>\n",
              "      <th>Mean Temp (°C)</th>\n",
              "      <th>Monthly Mean Temp (°C)</th>\n",
              "      <th>Delta Temp (°C)</th>\n",
              "      <th>Total Precip (mm)</th>\n",
              "      <th>Monthly Mean Precip (mm)</th>\n",
              "      <th>Delta Precip (mm)</th>\n",
              "      <th>Snow on Grnd (cm)</th>\n",
              "      <th>Barrie Ridership</th>\n",
              "      <th>Kitchener Ridership</th>\n",
              "      <th>Lakeshore East Ridership</th>\n",
              "      <th>Lakeshore West Ridership</th>\n",
              "      <th>Milton Ridership</th>\n",
              "      <th>Richmond Hill Ridership</th>\n",
              "      <th>Stouffville Ridership</th>\n",
              "      <th>Union Station Ridership</th>\n",
              "      <th>Total GO Ridership</th>\n",
              "      <th>Outlier</th>\n",
              "      <th>Overall Mean</th>\n",
              "      <th>2SD_above</th>\n",
              "      <th>2SD_below</th>\n",
              "      <th>Union Station Ridership Ranges</th>\n",
              "    </tr>\n",
              "  </thead>\n",
              "  <tbody>\n",
              "    <tr>\n",
              "      <th>0</th>\n",
              "      <td>2017-03-01</td>\n",
              "      <td>2017</td>\n",
              "      <td>3</td>\n",
              "      <td>2017-03</td>\n",
              "      <td>1</td>\n",
              "      <td>Wednesday</td>\n",
              "      <td>False</td>\n",
              "      <td>13.1</td>\n",
              "      <td>-1.9</td>\n",
              "      <td>5.6</td>\n",
              "      <td>-0.251613</td>\n",
              "      <td>5.851613</td>\n",
              "      <td>18.4</td>\n",
              "      <td>2.335484</td>\n",
              "      <td>16.064516</td>\n",
              "      <td>0.0</td>\n",
              "      <td>10022</td>\n",
              "      <td>13585</td>\n",
              "      <td>25273</td>\n",
              "      <td>32909</td>\n",
              "      <td>15599</td>\n",
              "      <td>5639</td>\n",
              "      <td>8804</td>\n",
              "      <td>95802</td>\n",
              "      <td>207633</td>\n",
              "      <td>False</td>\n",
              "      <td>227296.503311</td>\n",
              "      <td>254365.810172</td>\n",
              "      <td>200227.196451</td>\n",
              "      <td>90000 to 100000</td>\n",
              "    </tr>\n",
              "    <tr>\n",
              "      <th>1</th>\n",
              "      <td>2017-03-02</td>\n",
              "      <td>2017</td>\n",
              "      <td>3</td>\n",
              "      <td>2017-03</td>\n",
              "      <td>2</td>\n",
              "      <td>Thursday</td>\n",
              "      <td>False</td>\n",
              "      <td>-1.3</td>\n",
              "      <td>-6.4</td>\n",
              "      <td>-3.9</td>\n",
              "      <td>-0.251613</td>\n",
              "      <td>-3.648387</td>\n",
              "      <td>0.2</td>\n",
              "      <td>2.335484</td>\n",
              "      <td>-2.135484</td>\n",
              "      <td>0.5</td>\n",
              "      <td>9932</td>\n",
              "      <td>13331</td>\n",
              "      <td>26120</td>\n",
              "      <td>33884</td>\n",
              "      <td>15653</td>\n",
              "      <td>5665</td>\n",
              "      <td>8736</td>\n",
              "      <td>95873</td>\n",
              "      <td>209194</td>\n",
              "      <td>False</td>\n",
              "      <td>224966.615894</td>\n",
              "      <td>253295.696280</td>\n",
              "      <td>196637.535508</td>\n",
              "      <td>90000 to 100000</td>\n",
              "    </tr>\n",
              "    <tr>\n",
              "      <th>2</th>\n",
              "      <td>2017-03-03</td>\n",
              "      <td>2017</td>\n",
              "      <td>3</td>\n",
              "      <td>2017-03</td>\n",
              "      <td>3</td>\n",
              "      <td>Friday</td>\n",
              "      <td>False</td>\n",
              "      <td>-4.3</td>\n",
              "      <td>-8.1</td>\n",
              "      <td>-6.2</td>\n",
              "      <td>-0.251613</td>\n",
              "      <td>-5.948387</td>\n",
              "      <td>0.0</td>\n",
              "      <td>2.335484</td>\n",
              "      <td>-2.335484</td>\n",
              "      <td>0.5</td>\n",
              "      <td>8905</td>\n",
              "      <td>12235</td>\n",
              "      <td>23801</td>\n",
              "      <td>31473</td>\n",
              "      <td>14092</td>\n",
              "      <td>5129</td>\n",
              "      <td>7918</td>\n",
              "      <td>87200</td>\n",
              "      <td>190753</td>\n",
              "      <td>False</td>\n",
              "      <td>204211.905405</td>\n",
              "      <td>232457.905320</td>\n",
              "      <td>175965.905490</td>\n",
              "      <td>80000 to 90000</td>\n",
              "    </tr>\n",
              "    <tr>\n",
              "      <th>3</th>\n",
              "      <td>2017-03-04</td>\n",
              "      <td>2017</td>\n",
              "      <td>3</td>\n",
              "      <td>2017-03</td>\n",
              "      <td>4</td>\n",
              "      <td>Saturday</td>\n",
              "      <td>False</td>\n",
              "      <td>-6.5</td>\n",
              "      <td>-11.9</td>\n",
              "      <td>-9.2</td>\n",
              "      <td>-0.251613</td>\n",
              "      <td>-8.948387</td>\n",
              "      <td>0.2</td>\n",
              "      <td>2.335484</td>\n",
              "      <td>-2.135484</td>\n",
              "      <td>0.5</td>\n",
              "      <td>928</td>\n",
              "      <td>480</td>\n",
              "      <td>7872</td>\n",
              "      <td>11756</td>\n",
              "      <td>208</td>\n",
              "      <td>0</td>\n",
              "      <td>246</td>\n",
              "      <td>13899</td>\n",
              "      <td>35389</td>\n",
              "      <td>False</td>\n",
              "      <td>45352.333333</td>\n",
              "      <td>73886.656469</td>\n",
              "      <td>16818.010198</td>\n",
              "      <td>10000 to 20000</td>\n",
              "    </tr>\n",
              "    <tr>\n",
              "      <th>4</th>\n",
              "      <td>2017-03-05</td>\n",
              "      <td>2017</td>\n",
              "      <td>3</td>\n",
              "      <td>2017-03</td>\n",
              "      <td>5</td>\n",
              "      <td>Sunday</td>\n",
              "      <td>False</td>\n",
              "      <td>-0.4</td>\n",
              "      <td>-10.6</td>\n",
              "      <td>-5.5</td>\n",
              "      <td>-0.251613</td>\n",
              "      <td>-5.248387</td>\n",
              "      <td>0.0</td>\n",
              "      <td>2.335484</td>\n",
              "      <td>-2.335484</td>\n",
              "      <td>0.5</td>\n",
              "      <td>803</td>\n",
              "      <td>398</td>\n",
              "      <td>4714</td>\n",
              "      <td>8381</td>\n",
              "      <td>169</td>\n",
              "      <td>0</td>\n",
              "      <td>156</td>\n",
              "      <td>8505</td>\n",
              "      <td>23126</td>\n",
              "      <td>False</td>\n",
              "      <td>32455.370861</td>\n",
              "      <td>53039.519234</td>\n",
              "      <td>11871.222488</td>\n",
              "      <td>0 to 10000</td>\n",
              "    </tr>\n",
              "  </tbody>\n",
              "</table>\n",
              "</div>"
            ],
            "text/plain": [
              "         Date  Year  ...      2SD_below Union Station Ridership Ranges\n",
              "0  2017-03-01  2017  ...  200227.196451                90000 to 100000\n",
              "1  2017-03-02  2017  ...  196637.535508                90000 to 100000\n",
              "2  2017-03-03  2017  ...  175965.905490                 80000 to 90000\n",
              "3  2017-03-04  2017  ...   16818.010198                 10000 to 20000\n",
              "4  2017-03-05  2017  ...   11871.222488                     0 to 10000\n",
              "\n",
              "[5 rows x 30 columns]"
            ]
          },
          "metadata": {
            "tags": []
          },
          "execution_count": 6
        }
      ]
    },
    {
      "cell_type": "code",
      "metadata": {
        "colab_type": "code",
        "outputId": "447eaead-6f7f-4630-e309-85616c2fbbf9",
        "id": "LUg-NvGZJeU8",
        "colab": {
          "base_uri": "https://localhost:8080/",
          "height": 68
        }
      },
      "source": [
        "dataset['Union Station Ridership Ranges'].unique()"
      ],
      "execution_count": 7,
      "outputs": [
        {
          "output_type": "execute_result",
          "data": {
            "text/plain": [
              "[90000 to 100000, 80000 to 90000, 10000 to 20000, 0 to 10000, 70000 to 80000, 100000 to 110000, 20000 to 30000, 110000 to 120000]\n",
              "Categories (8, object): [0 to 10000 < 10000 to 20000 < 20000 to 30000 < 70000 to 80000 <\n",
              "                         80000 to 90000 < 90000 to 100000 < 100000 to 110000 < 110000 to 120000]"
            ]
          },
          "metadata": {
            "tags": []
          },
          "execution_count": 7
        }
      ]
    },
    {
      "cell_type": "code",
      "metadata": {
        "colab_type": "code",
        "id": "kiO4W9VgJd8E",
        "outputId": "a3f85db0-0f35-4716-d78d-7f9df8451c17",
        "colab": {
          "base_uri": "https://localhost:8080/",
          "height": 492
        }
      },
      "source": [
        "#plot to see distribution of Union ridership\n",
        "plt.style.use('ggplot')\n",
        "\n",
        "dataset[\"Union Station Ridership\"].plot(kind='hist', color='green', edgecolor='black', figsize=(10,7))\n",
        "plt.title('Union Station Ridership', size=24)\n",
        "plt.xlabel('Union Station Ridership', size=18)\n",
        "plt.ylabel('Frequency', size=18)"
      ],
      "execution_count": 8,
      "outputs": [
        {
          "output_type": "execute_result",
          "data": {
            "text/plain": [
              "Text(0, 0.5, 'Frequency')"
            ]
          },
          "metadata": {
            "tags": []
          },
          "execution_count": 8
        },
        {
          "output_type": "display_data",
          "data": {
            "image/png": "[encoded data removed]",
            "text/plain": [
              "<Figure size 720x504 with 1 Axes>"
            ]
          },
          "metadata": {
            "tags": []
          }
        }
      ]
    },
    {
      "cell_type": "markdown",
      "metadata": {
        "id": "y7MbBFvKsM_G",
        "colab_type": "text"
      },
      "source": [
        "###Distribution of Delta Temperature"
      ]
    },
    {
      "cell_type": "code",
      "metadata": {
        "id": "TFC6lnVl8ULC",
        "colab_type": "code",
        "outputId": "37658e81-5815-4884-e8bd-96fa54b34d38",
        "colab": {
          "base_uri": "https://localhost:8080/",
          "height": 0
        }
      },
      "source": [
        "dataset[\"Delta Temp (°C)\"].plot(kind='hist', color='blue', edgecolor='black', figsize=(10,7))\n",
        "plt.title('Delta Temp (°C)', size=24)\n",
        "plt.xlabel('Delta Temp (°C)', size=18)\n",
        "plt.ylabel('Frequency', size=18)"
      ],
      "execution_count": 9,
      "outputs": [
        {
          "output_type": "execute_result",
          "data": {
            "text/plain": [
              "Text(0, 0.5, 'Frequency')"
            ]
          },
          "metadata": {
            "tags": []
          },
          "execution_count": 9
        },
        {
          "output_type": "display_data",
          "data": {
            "image/png": "[encoded data removed]",
            "text/plain": [
              "<Figure size 720x504 with 1 Axes>"
            ]
          },
          "metadata": {
            "tags": []
          }
        }
      ]
    },
    {
      "cell_type": "markdown",
      "metadata": {
        "id": "jG26rng8sS_6",
        "colab_type": "text"
      },
      "source": [
        "###Distribution of Delta Precipitation"
      ]
    },
    {
      "cell_type": "code",
      "metadata": {
        "id": "aueyJ2gd8ZL_",
        "colab_type": "code",
        "outputId": "4e2795f6-5b0b-4e12-d8e5-536e94219814",
        "colab": {
          "base_uri": "https://localhost:8080/",
          "height": 0
        }
      },
      "source": [
        "dataset[\"Delta Precip (mm)\"].plot(kind='hist', color='purple', edgecolor='black', figsize=(10,7))\n",
        "plt.title('Delta Precip (mm)', size=24)\n",
        "plt.xlabel('Delta Precip (mm)', size=18)\n",
        "plt.ylabel('Frequency', size=18)"
      ],
      "execution_count": 10,
      "outputs": [
        {
          "output_type": "execute_result",
          "data": {
            "text/plain": [
              "Text(0, 0.5, 'Frequency')"
            ]
          },
          "metadata": {
            "tags": []
          },
          "execution_count": 10
        },
        {
          "output_type": "display_data",
          "data": {
            "image/png": "[encoded data removed]",
            "text/plain": [
              "<Figure size 720x504 with 1 Axes>"
            ]
          },
          "metadata": {
            "tags": []
          }
        }
      ]
    },
    {
      "cell_type": "markdown",
      "metadata": {
        "id": "qeZEVkx4sYVt",
        "colab_type": "text"
      },
      "source": [
        "###Preparing the weekday column for knn"
      ]
    },
    {
      "cell_type": "markdown",
      "metadata": {
        "id": "n4H0q40TslqY",
        "colab_type": "text"
      },
      "source": [
        "Since knn only takes floats as attributes, the weekdays will be changed to a numeric value in numerical order, i.e. Sunday = 1, Monday = 2, Tuesday = 3, and so on."
      ]
    },
    {
      "cell_type": "code",
      "metadata": {
        "id": "U4RJFRja2nwZ",
        "colab_type": "code",
        "outputId": "41900466-3870-4ae6-e127-1e588b2a6fb0",
        "colab": {
          "base_uri": "https://localhost:8080/",
          "height": 0
        }
      },
      "source": [
        "#change weekdays to numbers\n",
        "\n",
        "def CategorizeByWeekday(x):\n",
        "    if x['Weekday']=='Sunday':\n",
        "      val = 1\n",
        "    elif x['Weekday']=='Monday':\n",
        "      val = 2\n",
        "    elif x['Weekday']=='Tuesday':\n",
        "      val = 3\n",
        "    elif x['Weekday']=='Wednesday':\n",
        "      val = 4\n",
        "    elif x['Weekday']=='Thursday':\n",
        "      val = 5\n",
        "    elif x['Weekday']=='Friday':\n",
        "      val = 6\n",
        "    elif x['Weekday']=='Saturday':\n",
        "      val = 7            \n",
        "    else:\n",
        "      val = \"None\"\n",
        "    return val\n",
        "\n",
        "dataset[\"Weekday\"] = dataset.apply(CategorizeByWeekday, axis = 1)\n",
        "\n",
        "dataset"
      ],
      "execution_count": 11,
      "outputs": [
        {
          "output_type": "execute_result",
          "data": {
            "text/html": [
              "<div>\n",
              "<style scoped>\n",
              "    .dataframe tbody tr th:only-of-type {\n",
              "        vertical-align: middle;\n",
              "    }\n",
              "\n",
              "    .dataframe tbody tr th {\n",
              "        vertical-align: top;\n",
              "    }\n",
              "\n",
              "    .dataframe thead th {\n",
              "        text-align: right;\n",
              "    }\n",
              "</style>\n",
              "<table border=\"1\" class=\"dataframe\">\n",
              "  <thead>\n",
              "    <tr style=\"text-align: right;\">\n",
              "      <th></th>\n",
              "      <th>Date</th>\n",
              "      <th>Year</th>\n",
              "      <th>Month</th>\n",
              "      <th>year_month</th>\n",
              "      <th>Day</th>\n",
              "      <th>Weekday</th>\n",
              "      <th>Holiday</th>\n",
              "      <th>Max Temp (°C)</th>\n",
              "      <th>Min Temp (°C)</th>\n",
              "      <th>Mean Temp (°C)</th>\n",
              "      <th>Monthly Mean Temp (°C)</th>\n",
              "      <th>Delta Temp (°C)</th>\n",
              "      <th>Total Precip (mm)</th>\n",
              "      <th>Monthly Mean Precip (mm)</th>\n",
              "      <th>Delta Precip (mm)</th>\n",
              "      <th>Snow on Grnd (cm)</th>\n",
              "      <th>Barrie Ridership</th>\n",
              "      <th>Kitchener Ridership</th>\n",
              "      <th>Lakeshore East Ridership</th>\n",
              "      <th>Lakeshore West Ridership</th>\n",
              "      <th>Milton Ridership</th>\n",
              "      <th>Richmond Hill Ridership</th>\n",
              "      <th>Stouffville Ridership</th>\n",
              "      <th>Union Station Ridership</th>\n",
              "      <th>Total GO Ridership</th>\n",
              "      <th>Outlier</th>\n",
              "      <th>Overall Mean</th>\n",
              "      <th>2SD_above</th>\n",
              "      <th>2SD_below</th>\n",
              "      <th>Union Station Ridership Ranges</th>\n",
              "    </tr>\n",
              "  </thead>\n",
              "  <tbody>\n",
              "    <tr>\n",
              "      <th>0</th>\n",
              "      <td>2017-03-01</td>\n",
              "      <td>2017</td>\n",
              "      <td>3</td>\n",
              "      <td>2017-03</td>\n",
              "      <td>1</td>\n",
              "      <td>4</td>\n",
              "      <td>False</td>\n",
              "      <td>13.1</td>\n",
              "      <td>-1.9</td>\n",
              "      <td>5.6</td>\n",
              "      <td>-0.251613</td>\n",
              "      <td>5.851613</td>\n",
              "      <td>18.4</td>\n",
              "      <td>2.335484</td>\n",
              "      <td>16.064516</td>\n",
              "      <td>0.0</td>\n",
              "      <td>10022</td>\n",
              "      <td>13585</td>\n",
              "      <td>25273</td>\n",
              "      <td>32909</td>\n",
              "      <td>15599</td>\n",
              "      <td>5639</td>\n",
              "      <td>8804</td>\n",
              "      <td>95802</td>\n",
              "      <td>207633</td>\n",
              "      <td>False</td>\n",
              "      <td>227296.503311</td>\n",
              "      <td>254365.810172</td>\n",
              "      <td>200227.196451</td>\n",
              "      <td>90000 to 100000</td>\n",
              "    </tr>\n",
              "    <tr>\n",
              "      <th>1</th>\n",
              "      <td>2017-03-02</td>\n",
              "      <td>2017</td>\n",
              "      <td>3</td>\n",
              "      <td>2017-03</td>\n",
              "      <td>2</td>\n",
              "      <td>5</td>\n",
              "      <td>False</td>\n",
              "      <td>-1.3</td>\n",
              "      <td>-6.4</td>\n",
              "      <td>-3.9</td>\n",
              "      <td>-0.251613</td>\n",
              "      <td>-3.648387</td>\n",
              "      <td>0.2</td>\n",
              "      <td>2.335484</td>\n",
              "      <td>-2.135484</td>\n",
              "      <td>0.5</td>\n",
              "      <td>9932</td>\n",
              "      <td>13331</td>\n",
              "      <td>26120</td>\n",
              "      <td>33884</td>\n",
              "      <td>15653</td>\n",
              "      <td>5665</td>\n",
              "      <td>8736</td>\n",
              "      <td>95873</td>\n",
              "      <td>209194</td>\n",
              "      <td>False</td>\n",
              "      <td>224966.615894</td>\n",
              "      <td>253295.696280</td>\n",
              "      <td>196637.535508</td>\n",
              "      <td>90000 to 100000</td>\n",
              "    </tr>\n",
              "    <tr>\n",
              "      <th>2</th>\n",
              "      <td>2017-03-03</td>\n",
              "      <td>2017</td>\n",
              "      <td>3</td>\n",
              "      <td>2017-03</td>\n",
              "      <td>3</td>\n",
              "      <td>6</td>\n",
              "      <td>False</td>\n",
              "      <td>-4.3</td>\n",
              "      <td>-8.1</td>\n",
              "      <td>-6.2</td>\n",
              "      <td>-0.251613</td>\n",
              "      <td>-5.948387</td>\n",
              "      <td>0.0</td>\n",
              "      <td>2.335484</td>\n",
              "      <td>-2.335484</td>\n",
              "      <td>0.5</td>\n",
              "      <td>8905</td>\n",
              "      <td>12235</td>\n",
              "      <td>23801</td>\n",
              "      <td>31473</td>\n",
              "      <td>14092</td>\n",
              "      <td>5129</td>\n",
              "      <td>7918</td>\n",
              "      <td>87200</td>\n",
              "      <td>190753</td>\n",
              "      <td>False</td>\n",
              "      <td>204211.905405</td>\n",
              "      <td>232457.905320</td>\n",
              "      <td>175965.905490</td>\n",
              "      <td>80000 to 90000</td>\n",
              "    </tr>\n",
              "    <tr>\n",
              "      <th>3</th>\n",
              "      <td>2017-03-04</td>\n",
              "      <td>2017</td>\n",
              "      <td>3</td>\n",
              "      <td>2017-03</td>\n",
              "      <td>4</td>\n",
              "      <td>7</td>\n",
              "      <td>False</td>\n",
              "      <td>-6.5</td>\n",
              "      <td>-11.9</td>\n",
              "      <td>-9.2</td>\n",
              "      <td>-0.251613</td>\n",
              "      <td>-8.948387</td>\n",
              "      <td>0.2</td>\n",
              "      <td>2.335484</td>\n",
              "      <td>-2.135484</td>\n",
              "      <td>0.5</td>\n",
              "      <td>928</td>\n",
              "      <td>480</td>\n",
              "      <td>7872</td>\n",
              "      <td>11756</td>\n",
              "      <td>208</td>\n",
              "      <td>0</td>\n",
              "      <td>246</td>\n",
              "      <td>13899</td>\n",
              "      <td>35389</td>\n",
              "      <td>False</td>\n",
              "      <td>45352.333333</td>\n",
              "      <td>73886.656469</td>\n",
              "      <td>16818.010198</td>\n",
              "      <td>10000 to 20000</td>\n",
              "    </tr>\n",
              "    <tr>\n",
              "      <th>4</th>\n",
              "      <td>2017-03-05</td>\n",
              "      <td>2017</td>\n",
              "      <td>3</td>\n",
              "      <td>2017-03</td>\n",
              "      <td>5</td>\n",
              "      <td>1</td>\n",
              "      <td>False</td>\n",
              "      <td>-0.4</td>\n",
              "      <td>-10.6</td>\n",
              "      <td>-5.5</td>\n",
              "      <td>-0.251613</td>\n",
              "      <td>-5.248387</td>\n",
              "      <td>0.0</td>\n",
              "      <td>2.335484</td>\n",
              "      <td>-2.335484</td>\n",
              "      <td>0.5</td>\n",
              "      <td>803</td>\n",
              "      <td>398</td>\n",
              "      <td>4714</td>\n",
              "      <td>8381</td>\n",
              "      <td>169</td>\n",
              "      <td>0</td>\n",
              "      <td>156</td>\n",
              "      <td>8505</td>\n",
              "      <td>23126</td>\n",
              "      <td>False</td>\n",
              "      <td>32455.370861</td>\n",
              "      <td>53039.519234</td>\n",
              "      <td>11871.222488</td>\n",
              "      <td>0 to 10000</td>\n",
              "    </tr>\n",
              "    <tr>\n",
              "      <th>...</th>\n",
              "      <td>...</td>\n",
              "      <td>...</td>\n",
              "      <td>...</td>\n",
              "      <td>...</td>\n",
              "      <td>...</td>\n",
              "      <td>...</td>\n",
              "      <td>...</td>\n",
              "      <td>...</td>\n",
              "      <td>...</td>\n",
              "      <td>...</td>\n",
              "      <td>...</td>\n",
              "      <td>...</td>\n",
              "      <td>...</td>\n",
              "      <td>...</td>\n",
              "      <td>...</td>\n",
              "      <td>...</td>\n",
              "      <td>...</td>\n",
              "      <td>...</td>\n",
              "      <td>...</td>\n",
              "      <td>...</td>\n",
              "      <td>...</td>\n",
              "      <td>...</td>\n",
              "      <td>...</td>\n",
              "      <td>...</td>\n",
              "      <td>...</td>\n",
              "      <td>...</td>\n",
              "      <td>...</td>\n",
              "      <td>...</td>\n",
              "      <td>...</td>\n",
              "      <td>...</td>\n",
              "    </tr>\n",
              "    <tr>\n",
              "      <th>1091</th>\n",
              "      <td>2020-02-25</td>\n",
              "      <td>2020</td>\n",
              "      <td>2</td>\n",
              "      <td>2020-02</td>\n",
              "      <td>25</td>\n",
              "      <td>3</td>\n",
              "      <td>False</td>\n",
              "      <td>5.6</td>\n",
              "      <td>1.7</td>\n",
              "      <td>3.7</td>\n",
              "      <td>-1.906897</td>\n",
              "      <td>5.606897</td>\n",
              "      <td>0.2</td>\n",
              "      <td>2.137931</td>\n",
              "      <td>-1.937931</td>\n",
              "      <td>0.0</td>\n",
              "      <td>13650</td>\n",
              "      <td>15097</td>\n",
              "      <td>29727</td>\n",
              "      <td>36973</td>\n",
              "      <td>17192</td>\n",
              "      <td>6865</td>\n",
              "      <td>10485</td>\n",
              "      <td>99431</td>\n",
              "      <td>229420</td>\n",
              "      <td>False</td>\n",
              "      <td>226142.086667</td>\n",
              "      <td>260553.155725</td>\n",
              "      <td>191731.017608</td>\n",
              "      <td>90000 to 100000</td>\n",
              "    </tr>\n",
              "    <tr>\n",
              "      <th>1092</th>\n",
              "      <td>2020-02-26</td>\n",
              "      <td>2020</td>\n",
              "      <td>2</td>\n",
              "      <td>2020-02</td>\n",
              "      <td>26</td>\n",
              "      <td>4</td>\n",
              "      <td>False</td>\n",
              "      <td>4.1</td>\n",
              "      <td>-3.2</td>\n",
              "      <td>0.4</td>\n",
              "      <td>-1.906897</td>\n",
              "      <td>2.306897</td>\n",
              "      <td>11.8</td>\n",
              "      <td>2.137931</td>\n",
              "      <td>9.662069</td>\n",
              "      <td>0.0</td>\n",
              "      <td>12596</td>\n",
              "      <td>13557</td>\n",
              "      <td>26690</td>\n",
              "      <td>33732</td>\n",
              "      <td>14331</td>\n",
              "      <td>6215</td>\n",
              "      <td>9749</td>\n",
              "      <td>98193</td>\n",
              "      <td>215063</td>\n",
              "      <td>False</td>\n",
              "      <td>227296.503311</td>\n",
              "      <td>254365.810172</td>\n",
              "      <td>200227.196451</td>\n",
              "      <td>90000 to 100000</td>\n",
              "    </tr>\n",
              "    <tr>\n",
              "      <th>1093</th>\n",
              "      <td>2020-02-27</td>\n",
              "      <td>2020</td>\n",
              "      <td>2</td>\n",
              "      <td>2020-02</td>\n",
              "      <td>27</td>\n",
              "      <td>5</td>\n",
              "      <td>False</td>\n",
              "      <td>-2.7</td>\n",
              "      <td>-5.3</td>\n",
              "      <td>-4.0</td>\n",
              "      <td>-1.906897</td>\n",
              "      <td>-2.093103</td>\n",
              "      <td>3.1</td>\n",
              "      <td>2.137931</td>\n",
              "      <td>0.962069</td>\n",
              "      <td>0.0</td>\n",
              "      <td>11349</td>\n",
              "      <td>13074</td>\n",
              "      <td>26818</td>\n",
              "      <td>34180</td>\n",
              "      <td>15281</td>\n",
              "      <td>5522</td>\n",
              "      <td>9151</td>\n",
              "      <td>94998</td>\n",
              "      <td>210373</td>\n",
              "      <td>False</td>\n",
              "      <td>224966.615894</td>\n",
              "      <td>253295.696280</td>\n",
              "      <td>196637.535508</td>\n",
              "      <td>90000 to 100000</td>\n",
              "    </tr>\n",
              "    <tr>\n",
              "      <th>1094</th>\n",
              "      <td>2020-02-28</td>\n",
              "      <td>2020</td>\n",
              "      <td>2</td>\n",
              "      <td>2020-02</td>\n",
              "      <td>28</td>\n",
              "      <td>6</td>\n",
              "      <td>False</td>\n",
              "      <td>-2.5</td>\n",
              "      <td>-9.4</td>\n",
              "      <td>-5.9</td>\n",
              "      <td>-1.906897</td>\n",
              "      <td>-3.993103</td>\n",
              "      <td>1.1</td>\n",
              "      <td>2.137931</td>\n",
              "      <td>-1.037931</td>\n",
              "      <td>0.0</td>\n",
              "      <td>11098</td>\n",
              "      <td>13008</td>\n",
              "      <td>27785</td>\n",
              "      <td>34263</td>\n",
              "      <td>14426</td>\n",
              "      <td>5629</td>\n",
              "      <td>8759</td>\n",
              "      <td>95108</td>\n",
              "      <td>210076</td>\n",
              "      <td>False</td>\n",
              "      <td>204211.905405</td>\n",
              "      <td>232457.905320</td>\n",
              "      <td>175965.905490</td>\n",
              "      <td>90000 to 100000</td>\n",
              "    </tr>\n",
              "    <tr>\n",
              "      <th>1095</th>\n",
              "      <td>2020-02-29</td>\n",
              "      <td>2020</td>\n",
              "      <td>2</td>\n",
              "      <td>2020-02</td>\n",
              "      <td>29</td>\n",
              "      <td>7</td>\n",
              "      <td>False</td>\n",
              "      <td>-3.2</td>\n",
              "      <td>-12.8</td>\n",
              "      <td>-8.0</td>\n",
              "      <td>-1.906897</td>\n",
              "      <td>-6.093103</td>\n",
              "      <td>1.2</td>\n",
              "      <td>2.137931</td>\n",
              "      <td>-0.937931</td>\n",
              "      <td>0.0</td>\n",
              "      <td>1791</td>\n",
              "      <td>134</td>\n",
              "      <td>7107</td>\n",
              "      <td>11161</td>\n",
              "      <td>74</td>\n",
              "      <td>0</td>\n",
              "      <td>675</td>\n",
              "      <td>13307</td>\n",
              "      <td>34249</td>\n",
              "      <td>False</td>\n",
              "      <td>45352.333333</td>\n",
              "      <td>73886.656469</td>\n",
              "      <td>16818.010198</td>\n",
              "      <td>10000 to 20000</td>\n",
              "    </tr>\n",
              "  </tbody>\n",
              "</table>\n",
              "<p>991 rows × 30 columns</p>\n",
              "</div>"
            ],
            "text/plain": [
              "            Date  Year  ...      2SD_below Union Station Ridership Ranges\n",
              "0     2017-03-01  2017  ...  200227.196451                90000 to 100000\n",
              "1     2017-03-02  2017  ...  196637.535508                90000 to 100000\n",
              "2     2017-03-03  2017  ...  175965.905490                 80000 to 90000\n",
              "3     2017-03-04  2017  ...   16818.010198                 10000 to 20000\n",
              "4     2017-03-05  2017  ...   11871.222488                     0 to 10000\n",
              "...          ...   ...  ...            ...                            ...\n",
              "1091  2020-02-25  2020  ...  191731.017608                90000 to 100000\n",
              "1092  2020-02-26  2020  ...  200227.196451                90000 to 100000\n",
              "1093  2020-02-27  2020  ...  196637.535508                90000 to 100000\n",
              "1094  2020-02-28  2020  ...  175965.905490                90000 to 100000\n",
              "1095  2020-02-29  2020  ...   16818.010198                 10000 to 20000\n",
              "\n",
              "[991 rows x 30 columns]"
            ]
          },
          "metadata": {
            "tags": []
          },
          "execution_count": 11
        }
      ]
    },
    {
      "cell_type": "markdown",
      "metadata": {
        "id": "JIzdoOq7twu6",
        "colab_type": "text"
      },
      "source": [
        "###Creation of master dataset for knn"
      ]
    },
    {
      "cell_type": "markdown",
      "metadata": {
        "id": "we0V260Yt0wa",
        "colab_type": "text"
      },
      "source": [
        "To create a master dataset for knn classification, a copy of the original dataset was created ONLY with the relevant columns for attributes and category.\n",
        "\n",
        "Attribute columns:\n",
        "1. Month\n",
        "2. Weekday\n",
        "3. Delta Temp\n",
        "4. Delta Precipitation\n",
        "\n",
        "Category column:\n",
        "1. Union Station Ridership Range"
      ]
    },
    {
      "cell_type": "code",
      "metadata": {
        "id": "3M4b3orh1iKF",
        "colab_type": "code",
        "outputId": "05416f89-e044-4ecc-e5fa-3301e34a8a3d",
        "colab": {
          "base_uri": "https://localhost:8080/",
          "height": 0
        }
      },
      "source": [
        "#create dataset for knn\n",
        "knn_dataset = dataset[[\"Date\",\"Month\",\"Weekday\",\"Delta Temp (°C)\",\"Delta Precip (mm)\",\"Union Station Ridership Ranges\"]].copy()\n",
        "knn_dataset"
      ],
      "execution_count": 12,
      "outputs": [
        {
          "output_type": "execute_result",
          "data": {
            "text/html": [
              "<div>\n",
              "<style scoped>\n",
              "    .dataframe tbody tr th:only-of-type {\n",
              "        vertical-align: middle;\n",
              "    }\n",
              "\n",
              "    .dataframe tbody tr th {\n",
              "        vertical-align: top;\n",
              "    }\n",
              "\n",
              "    .dataframe thead th {\n",
              "        text-align: right;\n",
              "    }\n",
              "</style>\n",
              "<table border=\"1\" class=\"dataframe\">\n",
              "  <thead>\n",
              "    <tr style=\"text-align: right;\">\n",
              "      <th></th>\n",
              "      <th>Date</th>\n",
              "      <th>Month</th>\n",
              "      <th>Weekday</th>\n",
              "      <th>Delta Temp (°C)</th>\n",
              "      <th>Delta Precip (mm)</th>\n",
              "      <th>Union Station Ridership Ranges</th>\n",
              "    </tr>\n",
              "  </thead>\n",
              "  <tbody>\n",
              "    <tr>\n",
              "      <th>0</th>\n",
              "      <td>2017-03-01</td>\n",
              "      <td>3</td>\n",
              "      <td>4</td>\n",
              "      <td>5.851613</td>\n",
              "      <td>16.064516</td>\n",
              "      <td>90000 to 100000</td>\n",
              "    </tr>\n",
              "    <tr>\n",
              "      <th>1</th>\n",
              "      <td>2017-03-02</td>\n",
              "      <td>3</td>\n",
              "      <td>5</td>\n",
              "      <td>-3.648387</td>\n",
              "      <td>-2.135484</td>\n",
              "      <td>90000 to 100000</td>\n",
              "    </tr>\n",
              "    <tr>\n",
              "      <th>2</th>\n",
              "      <td>2017-03-03</td>\n",
              "      <td>3</td>\n",
              "      <td>6</td>\n",
              "      <td>-5.948387</td>\n",
              "      <td>-2.335484</td>\n",
              "      <td>80000 to 90000</td>\n",
              "    </tr>\n",
              "    <tr>\n",
              "      <th>3</th>\n",
              "      <td>2017-03-04</td>\n",
              "      <td>3</td>\n",
              "      <td>7</td>\n",
              "      <td>-8.948387</td>\n",
              "      <td>-2.135484</td>\n",
              "      <td>10000 to 20000</td>\n",
              "    </tr>\n",
              "    <tr>\n",
              "      <th>4</th>\n",
              "      <td>2017-03-05</td>\n",
              "      <td>3</td>\n",
              "      <td>1</td>\n",
              "      <td>-5.248387</td>\n",
              "      <td>-2.335484</td>\n",
              "      <td>0 to 10000</td>\n",
              "    </tr>\n",
              "    <tr>\n",
              "      <th>...</th>\n",
              "      <td>...</td>\n",
              "      <td>...</td>\n",
              "      <td>...</td>\n",
              "      <td>...</td>\n",
              "      <td>...</td>\n",
              "      <td>...</td>\n",
              "    </tr>\n",
              "    <tr>\n",
              "      <th>1091</th>\n",
              "      <td>2020-02-25</td>\n",
              "      <td>2</td>\n",
              "      <td>3</td>\n",
              "      <td>5.606897</td>\n",
              "      <td>-1.937931</td>\n",
              "      <td>90000 to 100000</td>\n",
              "    </tr>\n",
              "    <tr>\n",
              "      <th>1092</th>\n",
              "      <td>2020-02-26</td>\n",
              "      <td>2</td>\n",
              "      <td>4</td>\n",
              "      <td>2.306897</td>\n",
              "      <td>9.662069</td>\n",
              "      <td>90000 to 100000</td>\n",
              "    </tr>\n",
              "    <tr>\n",
              "      <th>1093</th>\n",
              "      <td>2020-02-27</td>\n",
              "      <td>2</td>\n",
              "      <td>5</td>\n",
              "      <td>-2.093103</td>\n",
              "      <td>0.962069</td>\n",
              "      <td>90000 to 100000</td>\n",
              "    </tr>\n",
              "    <tr>\n",
              "      <th>1094</th>\n",
              "      <td>2020-02-28</td>\n",
              "      <td>2</td>\n",
              "      <td>6</td>\n",
              "      <td>-3.993103</td>\n",
              "      <td>-1.037931</td>\n",
              "      <td>90000 to 100000</td>\n",
              "    </tr>\n",
              "    <tr>\n",
              "      <th>1095</th>\n",
              "      <td>2020-02-29</td>\n",
              "      <td>2</td>\n",
              "      <td>7</td>\n",
              "      <td>-6.093103</td>\n",
              "      <td>-0.937931</td>\n",
              "      <td>10000 to 20000</td>\n",
              "    </tr>\n",
              "  </tbody>\n",
              "</table>\n",
              "<p>991 rows × 6 columns</p>\n",
              "</div>"
            ],
            "text/plain": [
              "            Date  Month  ...  Delta Precip (mm)  Union Station Ridership Ranges\n",
              "0     2017-03-01      3  ...          16.064516                 90000 to 100000\n",
              "1     2017-03-02      3  ...          -2.135484                 90000 to 100000\n",
              "2     2017-03-03      3  ...          -2.335484                  80000 to 90000\n",
              "3     2017-03-04      3  ...          -2.135484                  10000 to 20000\n",
              "4     2017-03-05      3  ...          -2.335484                      0 to 10000\n",
              "...          ...    ...  ...                ...                             ...\n",
              "1091  2020-02-25      2  ...          -1.937931                 90000 to 100000\n",
              "1092  2020-02-26      2  ...           9.662069                 90000 to 100000\n",
              "1093  2020-02-27      2  ...           0.962069                 90000 to 100000\n",
              "1094  2020-02-28      2  ...          -1.037931                 90000 to 100000\n",
              "1095  2020-02-29      2  ...          -0.937931                  10000 to 20000\n",
              "\n",
              "[991 rows x 6 columns]"
            ]
          },
          "metadata": {
            "tags": []
          },
          "execution_count": 12
        }
      ]
    },
    {
      "cell_type": "code",
      "metadata": {
        "id": "cShS0dtY2M9m",
        "colab_type": "code",
        "outputId": "7b738d18-b5f5-4614-85c8-0bf64f4c31b0",
        "colab": {
          "base_uri": "https://localhost:8080/",
          "height": 0
        }
      },
      "source": [
        "#convert ridership to category\n",
        "knn_dataset[\"Union Station Ridership Ranges\"] = knn_dataset[\"Union Station Ridership Ranges\"].astype('category')\n",
        "knn_dataset.info()"
      ],
      "execution_count": 13,
      "outputs": [
        {
          "output_type": "stream",
          "text": [
            "<class 'pandas.core.frame.DataFrame'>\n",
            "Int64Index: 991 entries, 0 to 1095\n",
            "Data columns (total 6 columns):\n",
            " #   Column                          Non-Null Count  Dtype   \n",
            "---  ------                          --------------  -----   \n",
            " 0   Date                            991 non-null    object  \n",
            " 1   Month                           991 non-null    int64   \n",
            " 2   Weekday                         991 non-null    int64   \n",
            " 3   Delta Temp (°C)                 991 non-null    float64 \n",
            " 4   Delta Precip (mm)               991 non-null    float64 \n",
            " 5   Union Station Ridership Ranges  991 non-null    category\n",
            "dtypes: category(1), float64(2), int64(2), object(1)\n",
            "memory usage: 48.2+ KB\n"
          ],
          "name": "stdout"
        }
      ]
    },
    {
      "cell_type": "markdown",
      "metadata": {
        "id": "VIFFJaCq348-",
        "colab_type": "text"
      },
      "source": [
        "## knn predict for June 2019"
      ]
    },
    {
      "cell_type": "code",
      "metadata": {
        "id": "2x7zd4ts3LqG",
        "colab_type": "code",
        "outputId": "5e9279dc-fe29-4b45-deba-b3a3fc5dd565",
        "colab": {
          "base_uri": "https://localhost:8080/",
          "height": 204
        }
      },
      "source": [
        "X = knn_dataset[[\"Date\",\"Month\",\"Weekday\",\"Delta Temp (°C)\",\"Delta Precip (mm)\"]]\n",
        "X.head()"
      ],
      "execution_count": 14,
      "outputs": [
        {
          "output_type": "execute_result",
          "data": {
            "text/html": [
              "<div>\n",
              "<style scoped>\n",
              "    .dataframe tbody tr th:only-of-type {\n",
              "        vertical-align: middle;\n",
              "    }\n",
              "\n",
              "    .dataframe tbody tr th {\n",
              "        vertical-align: top;\n",
              "    }\n",
              "\n",
              "    .dataframe thead th {\n",
              "        text-align: right;\n",
              "    }\n",
              "</style>\n",
              "<table border=\"1\" class=\"dataframe\">\n",
              "  <thead>\n",
              "    <tr style=\"text-align: right;\">\n",
              "      <th></th>\n",
              "      <th>Date</th>\n",
              "      <th>Month</th>\n",
              "      <th>Weekday</th>\n",
              "      <th>Delta Temp (°C)</th>\n",
              "      <th>Delta Precip (mm)</th>\n",
              "    </tr>\n",
              "  </thead>\n",
              "  <tbody>\n",
              "    <tr>\n",
              "      <th>0</th>\n",
              "      <td>2017-03-01</td>\n",
              "      <td>3</td>\n",
              "      <td>4</td>\n",
              "      <td>5.851613</td>\n",
              "      <td>16.064516</td>\n",
              "    </tr>\n",
              "    <tr>\n",
              "      <th>1</th>\n",
              "      <td>2017-03-02</td>\n",
              "      <td>3</td>\n",
              "      <td>5</td>\n",
              "      <td>-3.648387</td>\n",
              "      <td>-2.135484</td>\n",
              "    </tr>\n",
              "    <tr>\n",
              "      <th>2</th>\n",
              "      <td>2017-03-03</td>\n",
              "      <td>3</td>\n",
              "      <td>6</td>\n",
              "      <td>-5.948387</td>\n",
              "      <td>-2.335484</td>\n",
              "    </tr>\n",
              "    <tr>\n",
              "      <th>3</th>\n",
              "      <td>2017-03-04</td>\n",
              "      <td>3</td>\n",
              "      <td>7</td>\n",
              "      <td>-8.948387</td>\n",
              "      <td>-2.135484</td>\n",
              "    </tr>\n",
              "    <tr>\n",
              "      <th>4</th>\n",
              "      <td>2017-03-05</td>\n",
              "      <td>3</td>\n",
              "      <td>1</td>\n",
              "      <td>-5.248387</td>\n",
              "      <td>-2.335484</td>\n",
              "    </tr>\n",
              "  </tbody>\n",
              "</table>\n",
              "</div>"
            ],
            "text/plain": [
              "         Date  Month  Weekday  Delta Temp (°C)  Delta Precip (mm)\n",
              "0  2017-03-01      3        4         5.851613          16.064516\n",
              "1  2017-03-02      3        5        -3.648387          -2.135484\n",
              "2  2017-03-03      3        6        -5.948387          -2.335484\n",
              "3  2017-03-04      3        7        -8.948387          -2.135484\n",
              "4  2017-03-05      3        1        -5.248387          -2.335484"
            ]
          },
          "metadata": {
            "tags": []
          },
          "execution_count": 14
        }
      ]
    },
    {
      "cell_type": "markdown",
      "metadata": {
        "id": "DPVQvf2SugEO",
        "colab_type": "text"
      },
      "source": [
        "###Convert attribute columns to floats"
      ]
    },
    {
      "cell_type": "code",
      "metadata": {
        "id": "BFkNrQE83dVe",
        "colab_type": "code",
        "outputId": "78a97528-6a1e-4018-9681-e9ea45dbcd04",
        "colab": {
          "base_uri": "https://localhost:8080/",
          "height": 0
        }
      },
      "source": [
        "cols = ['Month', 'Weekday', 'Delta Temp (°C)', 'Delta Precip (mm)']\n",
        "for col in cols:\n",
        "   X[col] = X[col].apply(lambda x: float(x) if x == x else \"\")\n",
        "X"
      ],
      "execution_count": 15,
      "outputs": [
        {
          "output_type": "stream",
          "text": [
            "/usr/local/lib/python3.6/dist-packages/ipykernel_launcher.py:3: SettingWithCopyWarning: \n",
            "A value is trying to be set on a copy of a slice from a DataFrame.\n",
            "Try using .loc[row_indexer,col_indexer] = value instead\n",
            "\n",
            "See the caveats in the documentation: https://pandas.pydata.org/pandas-docs/stable/user_guide/indexing.html#returning-a-view-versus-a-copy\n",
            "  This is separate from the ipykernel package so we can avoid doing imports until\n"
          ],
          "name": "stderr"
        },
        {
          "output_type": "execute_result",
          "data": {
            "text/html": [
              "<div>\n",
              "<style scoped>\n",
              "    .dataframe tbody tr th:only-of-type {\n",
              "        vertical-align: middle;\n",
              "    }\n",
              "\n",
              "    .dataframe tbody tr th {\n",
              "        vertical-align: top;\n",
              "    }\n",
              "\n",
              "    .dataframe thead th {\n",
              "        text-align: right;\n",
              "    }\n",
              "</style>\n",
              "<table border=\"1\" class=\"dataframe\">\n",
              "  <thead>\n",
              "    <tr style=\"text-align: right;\">\n",
              "      <th></th>\n",
              "      <th>Date</th>\n",
              "      <th>Month</th>\n",
              "      <th>Weekday</th>\n",
              "      <th>Delta Temp (°C)</th>\n",
              "      <th>Delta Precip (mm)</th>\n",
              "    </tr>\n",
              "  </thead>\n",
              "  <tbody>\n",
              "    <tr>\n",
              "      <th>0</th>\n",
              "      <td>2017-03-01</td>\n",
              "      <td>3.0</td>\n",
              "      <td>4.0</td>\n",
              "      <td>5.851613</td>\n",
              "      <td>16.064516</td>\n",
              "    </tr>\n",
              "    <tr>\n",
              "      <th>1</th>\n",
              "      <td>2017-03-02</td>\n",
              "      <td>3.0</td>\n",
              "      <td>5.0</td>\n",
              "      <td>-3.648387</td>\n",
              "      <td>-2.135484</td>\n",
              "    </tr>\n",
              "    <tr>\n",
              "      <th>2</th>\n",
              "      <td>2017-03-03</td>\n",
              "      <td>3.0</td>\n",
              "      <td>6.0</td>\n",
              "      <td>-5.948387</td>\n",
              "      <td>-2.335484</td>\n",
              "    </tr>\n",
              "    <tr>\n",
              "      <th>3</th>\n",
              "      <td>2017-03-04</td>\n",
              "      <td>3.0</td>\n",
              "      <td>7.0</td>\n",
              "      <td>-8.948387</td>\n",
              "      <td>-2.135484</td>\n",
              "    </tr>\n",
              "    <tr>\n",
              "      <th>4</th>\n",
              "      <td>2017-03-05</td>\n",
              "      <td>3.0</td>\n",
              "      <td>1.0</td>\n",
              "      <td>-5.248387</td>\n",
              "      <td>-2.335484</td>\n",
              "    </tr>\n",
              "    <tr>\n",
              "      <th>...</th>\n",
              "      <td>...</td>\n",
              "      <td>...</td>\n",
              "      <td>...</td>\n",
              "      <td>...</td>\n",
              "      <td>...</td>\n",
              "    </tr>\n",
              "    <tr>\n",
              "      <th>1091</th>\n",
              "      <td>2020-02-25</td>\n",
              "      <td>2.0</td>\n",
              "      <td>3.0</td>\n",
              "      <td>5.606897</td>\n",
              "      <td>-1.937931</td>\n",
              "    </tr>\n",
              "    <tr>\n",
              "      <th>1092</th>\n",
              "      <td>2020-02-26</td>\n",
              "      <td>2.0</td>\n",
              "      <td>4.0</td>\n",
              "      <td>2.306897</td>\n",
              "      <td>9.662069</td>\n",
              "    </tr>\n",
              "    <tr>\n",
              "      <th>1093</th>\n",
              "      <td>2020-02-27</td>\n",
              "      <td>2.0</td>\n",
              "      <td>5.0</td>\n",
              "      <td>-2.093103</td>\n",
              "      <td>0.962069</td>\n",
              "    </tr>\n",
              "    <tr>\n",
              "      <th>1094</th>\n",
              "      <td>2020-02-28</td>\n",
              "      <td>2.0</td>\n",
              "      <td>6.0</td>\n",
              "      <td>-3.993103</td>\n",
              "      <td>-1.037931</td>\n",
              "    </tr>\n",
              "    <tr>\n",
              "      <th>1095</th>\n",
              "      <td>2020-02-29</td>\n",
              "      <td>2.0</td>\n",
              "      <td>7.0</td>\n",
              "      <td>-6.093103</td>\n",
              "      <td>-0.937931</td>\n",
              "    </tr>\n",
              "  </tbody>\n",
              "</table>\n",
              "<p>991 rows × 5 columns</p>\n",
              "</div>"
            ],
            "text/plain": [
              "            Date  Month  Weekday  Delta Temp (°C)  Delta Precip (mm)\n",
              "0     2017-03-01    3.0      4.0         5.851613          16.064516\n",
              "1     2017-03-02    3.0      5.0        -3.648387          -2.135484\n",
              "2     2017-03-03    3.0      6.0        -5.948387          -2.335484\n",
              "3     2017-03-04    3.0      7.0        -8.948387          -2.135484\n",
              "4     2017-03-05    3.0      1.0        -5.248387          -2.335484\n",
              "...          ...    ...      ...              ...                ...\n",
              "1091  2020-02-25    2.0      3.0         5.606897          -1.937931\n",
              "1092  2020-02-26    2.0      4.0         2.306897           9.662069\n",
              "1093  2020-02-27    2.0      5.0        -2.093103           0.962069\n",
              "1094  2020-02-28    2.0      6.0        -3.993103          -1.037931\n",
              "1095  2020-02-29    2.0      7.0        -6.093103          -0.937931\n",
              "\n",
              "[991 rows x 5 columns]"
            ]
          },
          "metadata": {
            "tags": []
          },
          "execution_count": 15
        }
      ]
    },
    {
      "cell_type": "code",
      "metadata": {
        "id": "wQsATegS5RYd",
        "colab_type": "code",
        "outputId": "35b6f497-89d5-41b9-a51a-3f6c697f0f34",
        "colab": {
          "base_uri": "https://localhost:8080/",
          "height": 0
        }
      },
      "source": [
        "y = knn_dataset[\"Union Station Ridership Ranges\"]\n",
        "y.head()"
      ],
      "execution_count": 16,
      "outputs": [
        {
          "output_type": "execute_result",
          "data": {
            "text/plain": [
              "0    90000 to 100000\n",
              "1    90000 to 100000\n",
              "2     80000 to 90000\n",
              "3     10000 to 20000\n",
              "4         0 to 10000\n",
              "Name: Union Station Ridership Ranges, dtype: category\n",
              "Categories (16, object): [0 to 10000 < 10000 to 20000 < 20000 to 30000 < 30000 to 40000 < ... <\n",
              "                          120000 to 130000 < 130000 to 140000 < 140000 to 150000 < 150000 to 160000]"
            ]
          },
          "metadata": {
            "tags": []
          },
          "execution_count": 16
        }
      ]
    },
    {
      "cell_type": "markdown",
      "metadata": {
        "id": "aPLVMd5yumtV",
        "colab_type": "text"
      },
      "source": [
        "###Separating the data manually to use June 2019 as testing set and the rest for training set"
      ]
    },
    {
      "cell_type": "code",
      "metadata": {
        "id": "6AnTWV6Z5Svg",
        "colab_type": "code",
        "outputId": "a07ce70a-426e-4f17-9a20-e98144fdcb9b",
        "colab": {
          "base_uri": "https://localhost:8080/",
          "height": 0
        }
      },
      "source": [
        "from sklearn.neighbors import KNeighborsClassifier\n",
        "from sklearn.metrics import accuracy_score\n",
        "#use June 2019 as test data\n",
        "\n",
        "X_train_1 = X.loc[(X['Date']>\"2017-03-01\") & (X['Date']<\"2019-06-01\")]\n",
        "X_train_2 = X.loc[(X['Date']>\"2019-06-30\") & (X['Date']<\"2020-03-01\")]\n",
        "X_train = pd.concat([X_train_1, X_train_2], ignore_index=True, sort =False)\n",
        "X_train.drop('Date', axis=1, inplace=True)\n",
        "X_train"
      ],
      "execution_count": 17,
      "outputs": [
        {
          "output_type": "execute_result",
          "data": {
            "text/html": [
              "<div>\n",
              "<style scoped>\n",
              "    .dataframe tbody tr th:only-of-type {\n",
              "        vertical-align: middle;\n",
              "    }\n",
              "\n",
              "    .dataframe tbody tr th {\n",
              "        vertical-align: top;\n",
              "    }\n",
              "\n",
              "    .dataframe thead th {\n",
              "        text-align: right;\n",
              "    }\n",
              "</style>\n",
              "<table border=\"1\" class=\"dataframe\">\n",
              "  <thead>\n",
              "    <tr style=\"text-align: right;\">\n",
              "      <th></th>\n",
              "      <th>Month</th>\n",
              "      <th>Weekday</th>\n",
              "      <th>Delta Temp (°C)</th>\n",
              "      <th>Delta Precip (mm)</th>\n",
              "    </tr>\n",
              "  </thead>\n",
              "  <tbody>\n",
              "    <tr>\n",
              "      <th>0</th>\n",
              "      <td>3.0</td>\n",
              "      <td>5.0</td>\n",
              "      <td>-3.648387</td>\n",
              "      <td>-2.135484</td>\n",
              "    </tr>\n",
              "    <tr>\n",
              "      <th>1</th>\n",
              "      <td>3.0</td>\n",
              "      <td>6.0</td>\n",
              "      <td>-5.948387</td>\n",
              "      <td>-2.335484</td>\n",
              "    </tr>\n",
              "    <tr>\n",
              "      <th>2</th>\n",
              "      <td>3.0</td>\n",
              "      <td>7.0</td>\n",
              "      <td>-8.948387</td>\n",
              "      <td>-2.135484</td>\n",
              "    </tr>\n",
              "    <tr>\n",
              "      <th>3</th>\n",
              "      <td>3.0</td>\n",
              "      <td>1.0</td>\n",
              "      <td>-5.248387</td>\n",
              "      <td>-2.335484</td>\n",
              "    </tr>\n",
              "    <tr>\n",
              "      <th>4</th>\n",
              "      <td>3.0</td>\n",
              "      <td>2.0</td>\n",
              "      <td>-9.548387</td>\n",
              "      <td>-2.335484</td>\n",
              "    </tr>\n",
              "    <tr>\n",
              "      <th>...</th>\n",
              "      <td>...</td>\n",
              "      <td>...</td>\n",
              "      <td>...</td>\n",
              "      <td>...</td>\n",
              "    </tr>\n",
              "    <tr>\n",
              "      <th>956</th>\n",
              "      <td>2.0</td>\n",
              "      <td>3.0</td>\n",
              "      <td>5.606897</td>\n",
              "      <td>-1.937931</td>\n",
              "    </tr>\n",
              "    <tr>\n",
              "      <th>957</th>\n",
              "      <td>2.0</td>\n",
              "      <td>4.0</td>\n",
              "      <td>2.306897</td>\n",
              "      <td>9.662069</td>\n",
              "    </tr>\n",
              "    <tr>\n",
              "      <th>958</th>\n",
              "      <td>2.0</td>\n",
              "      <td>5.0</td>\n",
              "      <td>-2.093103</td>\n",
              "      <td>0.962069</td>\n",
              "    </tr>\n",
              "    <tr>\n",
              "      <th>959</th>\n",
              "      <td>2.0</td>\n",
              "      <td>6.0</td>\n",
              "      <td>-3.993103</td>\n",
              "      <td>-1.037931</td>\n",
              "    </tr>\n",
              "    <tr>\n",
              "      <th>960</th>\n",
              "      <td>2.0</td>\n",
              "      <td>7.0</td>\n",
              "      <td>-6.093103</td>\n",
              "      <td>-0.937931</td>\n",
              "    </tr>\n",
              "  </tbody>\n",
              "</table>\n",
              "<p>961 rows × 4 columns</p>\n",
              "</div>"
            ],
            "text/plain": [
              "     Month  Weekday  Delta Temp (°C)  Delta Precip (mm)\n",
              "0      3.0      5.0        -3.648387          -2.135484\n",
              "1      3.0      6.0        -5.948387          -2.335484\n",
              "2      3.0      7.0        -8.948387          -2.135484\n",
              "3      3.0      1.0        -5.248387          -2.335484\n",
              "4      3.0      2.0        -9.548387          -2.335484\n",
              "..     ...      ...              ...                ...\n",
              "956    2.0      3.0         5.606897          -1.937931\n",
              "957    2.0      4.0         2.306897           9.662069\n",
              "958    2.0      5.0        -2.093103           0.962069\n",
              "959    2.0      6.0        -3.993103          -1.037931\n",
              "960    2.0      7.0        -6.093103          -0.937931\n",
              "\n",
              "[961 rows x 4 columns]"
            ]
          },
          "metadata": {
            "tags": []
          },
          "execution_count": 17
        }
      ]
    },
    {
      "cell_type": "code",
      "metadata": {
        "id": "qpeGi7tM5Y0b",
        "colab_type": "code",
        "outputId": "889675db-6a93-4bd5-ac69-3bfcbd5c62e1",
        "colab": {
          "base_uri": "https://localhost:8080/",
          "height": 0
        }
      },
      "source": [
        "X_test = X.loc[(X['Date']>\"2019-05-31\") & (X['Date']<\"2019-07-01\")]\n",
        "X_test.drop('Date', axis=1, inplace=True)\n",
        "X_test.shape"
      ],
      "execution_count": 18,
      "outputs": [
        {
          "output_type": "stream",
          "text": [
            "/usr/local/lib/python3.6/dist-packages/pandas/core/frame.py:3997: SettingWithCopyWarning: \n",
            "A value is trying to be set on a copy of a slice from a DataFrame\n",
            "\n",
            "See the caveats in the documentation: https://pandas.pydata.org/pandas-docs/stable/user_guide/indexing.html#returning-a-view-versus-a-copy\n",
            "  errors=errors,\n"
          ],
          "name": "stderr"
        },
        {
          "output_type": "execute_result",
          "data": {
            "text/plain": [
              "(29, 4)"
            ]
          },
          "metadata": {
            "tags": []
          },
          "execution_count": 18
        }
      ]
    },
    {
      "cell_type": "code",
      "metadata": {
        "id": "SIyVjs5S5a4I",
        "colab_type": "code",
        "outputId": "7726ac39-bbe4-40d1-e0c8-9d190b557344",
        "colab": {
          "base_uri": "https://localhost:8080/",
          "height": 0
        }
      },
      "source": [
        "y_train_1 = y.loc[(X['Date']>\"2017-03-01\") & (X['Date']<\"2019-06-01\")]\n",
        "y_train_2 = y.loc[(X['Date']>\"2019-06-30\") & (X['Date']<\"2020-03-01\")]\n",
        "y_train = pd.concat([y_train_1, y_train_2], ignore_index=True, sort =False)\n",
        "y_train.shape"
      ],
      "execution_count": 19,
      "outputs": [
        {
          "output_type": "execute_result",
          "data": {
            "text/plain": [
              "(961,)"
            ]
          },
          "metadata": {
            "tags": []
          },
          "execution_count": 19
        }
      ]
    },
    {
      "cell_type": "code",
      "metadata": {
        "id": "YDePwHtk5cw0",
        "colab_type": "code",
        "outputId": "74cca886-b688-4efe-efd2-ed68880a9862",
        "colab": {
          "base_uri": "https://localhost:8080/",
          "height": 0
        }
      },
      "source": [
        "y_test = y.loc[(X['Date']>\"2019-05-31\") & (X['Date']<\"2019-07-01\")]\n",
        "y_test.shape"
      ],
      "execution_count": 20,
      "outputs": [
        {
          "output_type": "execute_result",
          "data": {
            "text/plain": [
              "(29,)"
            ]
          },
          "metadata": {
            "tags": []
          },
          "execution_count": 20
        }
      ]
    },
    {
      "cell_type": "markdown",
      "metadata": {
        "id": "ii9ciSh-u8AE",
        "colab_type": "text"
      },
      "source": [
        "###Initial knn predict run with 5 neighbours"
      ]
    },
    {
      "cell_type": "code",
      "metadata": {
        "id": "ydAqTA7n5fo1",
        "colab_type": "code",
        "outputId": "c9d5d122-31f7-40f5-d7ea-5a86369fbf25",
        "colab": {
          "base_uri": "https://localhost:8080/",
          "height": 0
        }
      },
      "source": [
        "from sklearn.neighbors import KNeighborsClassifier\n",
        "from sklearn.metrics import accuracy_score\n",
        "knn = KNeighborsClassifier(n_neighbors=5)\n",
        "knn.fit(X_train,y_train)\n",
        "y_hat = knn.predict(X_test)\n",
        "y_hat"
      ],
      "execution_count": 21,
      "outputs": [
        {
          "output_type": "execute_result",
          "data": {
            "text/plain": [
              "array(['10000 to 20000', '10000 to 20000', '100000 to 110000',\n",
              "       '100000 to 110000', '90000 to 100000', '90000 to 100000',\n",
              "       '10000 to 20000', '10000 to 20000', '10000 to 20000',\n",
              "       '90000 to 100000', '100000 to 110000', '90000 to 100000',\n",
              "       '90000 to 100000', '90000 to 100000', '10000 to 20000',\n",
              "       '10000 to 20000', '100000 to 110000', '100000 to 110000',\n",
              "       '100000 to 110000', '80000 to 90000', '10000 to 20000',\n",
              "       '0 to 10000', '100000 to 110000', '100000 to 110000',\n",
              "       '100000 to 110000', '90000 to 100000', '100000 to 110000',\n",
              "       '10000 to 20000', '10000 to 20000'], dtype=object)"
            ]
          },
          "metadata": {
            "tags": []
          },
          "execution_count": 21
        }
      ]
    },
    {
      "cell_type": "code",
      "metadata": {
        "id": "r3igb-905gSw",
        "colab_type": "code",
        "outputId": "c66328d3-b970-4c9a-bf77-68d856115bbd",
        "colab": {
          "base_uri": "https://localhost:8080/",
          "height": 0
        }
      },
      "source": [
        "y_test"
      ],
      "execution_count": 22,
      "outputs": [
        {
          "output_type": "execute_result",
          "data": {
            "text/plain": [
              "822      10000 to 20000\n",
              "823      10000 to 20000\n",
              "824    100000 to 110000\n",
              "825    100000 to 110000\n",
              "826    100000 to 110000\n",
              "827    100000 to 110000\n",
              "828     90000 to 100000\n",
              "829      10000 to 20000\n",
              "830      10000 to 20000\n",
              "831    100000 to 110000\n",
              "832    100000 to 110000\n",
              "833    100000 to 110000\n",
              "834    100000 to 110000\n",
              "835     90000 to 100000\n",
              "836      10000 to 20000\n",
              "837      10000 to 20000\n",
              "839    100000 to 110000\n",
              "840    100000 to 110000\n",
              "841    100000 to 110000\n",
              "842     90000 to 100000\n",
              "843      10000 to 20000\n",
              "844      10000 to 20000\n",
              "845    100000 to 110000\n",
              "846    100000 to 110000\n",
              "847    100000 to 110000\n",
              "848    100000 to 110000\n",
              "849      80000 to 90000\n",
              "850      10000 to 20000\n",
              "851      10000 to 20000\n",
              "Name: Union Station Ridership Ranges, dtype: category\n",
              "Categories (16, object): [0 to 10000 < 10000 to 20000 < 20000 to 30000 < 30000 to 40000 < ... <\n",
              "                          120000 to 130000 < 130000 to 140000 < 140000 to 150000 < 150000 to 160000]"
            ]
          },
          "metadata": {
            "tags": []
          },
          "execution_count": 22
        }
      ]
    },
    {
      "cell_type": "code",
      "metadata": {
        "id": "NrhSCjxO5lNg",
        "colab_type": "code",
        "outputId": "673fe70e-e8dc-46d5-9c9f-bf7f0a005d55",
        "colab": {
          "base_uri": "https://localhost:8080/",
          "height": 0
        }
      },
      "source": [
        "accuracy_score(y_test,y_hat)"
      ],
      "execution_count": 23,
      "outputs": [
        {
          "output_type": "execute_result",
          "data": {
            "text/plain": [
              "0.6551724137931034"
            ]
          },
          "metadata": {
            "tags": []
          },
          "execution_count": 23
        }
      ]
    },
    {
      "cell_type": "markdown",
      "metadata": {
        "id": "PG4BOyIGvBoS",
        "colab_type": "text"
      },
      "source": [
        "###Identify optimal number of neighbours"
      ]
    },
    {
      "cell_type": "code",
      "metadata": {
        "id": "U7UtOKOn59pF",
        "colab_type": "code",
        "colab": {}
      },
      "source": [
        "neighbors = range(1,100)\n",
        "error = []\n",
        "score = []\n",
        "for i in neighbors:\n",
        "    knn = KNeighborsClassifier(n_neighbors=i)\n",
        "    knn.fit(X_train, y_train)\n",
        "    y_hat = knn.predict(X_test)\n",
        "    score.append(accuracy_score(y_test, y_hat))"
      ],
      "execution_count": 0,
      "outputs": []
    },
    {
      "cell_type": "markdown",
      "metadata": {
        "id": "gWHHpApuvUD5",
        "colab_type": "text"
      },
      "source": [
        "In order to identify the optimal number of neighbours for this model, we plotted the number of neighbours against the accuracy score"
      ]
    },
    {
      "cell_type": "code",
      "metadata": {
        "id": "1_4jo0WR6BSN",
        "colab_type": "code",
        "outputId": "d9f2cfa2-0a07-4543-fc01-d9ade3836fb5",
        "colab": {
          "base_uri": "https://localhost:8080/",
          "height": 0
        }
      },
      "source": [
        "plt.figure(figsize=(20, 6))\n",
        "plt.plot(neighbors, score, color='red', linestyle='dashed', marker='o',\n",
        "         markerfacecolor='blue', markersize=10)\n",
        "plt.xlabel('K Value')\n",
        "plt.ylabel('Accuracy Score')"
      ],
      "execution_count": 25,
      "outputs": [
        {
          "output_type": "execute_result",
          "data": {
            "text/plain": [
              "Text(0, 0.5, 'Accuracy Score')"
            ]
          },
          "metadata": {
            "tags": []
          },
          "execution_count": 25
        },
        {
          "output_type": "display_data",
          "data": {
            "image/png": "[encoded data removed]",
            "text/plain": [
              "<Figure size 1440x432 with 1 Axes>"
            ]
          },
          "metadata": {
            "tags": []
          }
        }
      ]
    },
    {
      "cell_type": "markdown",
      "metadata": {
        "id": "H0CSSkcfvc3V",
        "colab_type": "text"
      },
      "source": [
        "The optimal number of neighbors was 9 based on the plot, which gave an accuracy score of 75.8%\n",
        "\n",
        "\n"
      ]
    },
    {
      "cell_type": "code",
      "metadata": {
        "id": "MJkDcJmx8pwC",
        "colab_type": "code",
        "outputId": "3df568c8-307d-4fba-930e-0ef4a6c47ffc",
        "colab": {
          "base_uri": "https://localhost:8080/",
          "height": 0
        }
      },
      "source": [
        "knn = KNeighborsClassifier(n_neighbors=29) #best score\n",
        "knn.fit(X_train, y_train)\n",
        "y_hat = knn.predict(X_test)\n",
        "score = accuracy_score(y_test, y_hat)\n",
        "score"
      ],
      "execution_count": 26,
      "outputs": [
        {
          "output_type": "execute_result",
          "data": {
            "text/plain": [
              "0.7931034482758621"
            ]
          },
          "metadata": {
            "tags": []
          },
          "execution_count": 26
        }
      ]
    },
    {
      "cell_type": "code",
      "metadata": {
        "colab_type": "code",
        "outputId": "7b923385-ec2c-4f71-d507-ef91ef91265b",
        "id": "docSImp2Jflz",
        "colab": {
          "base_uri": "https://localhost:8080/",
          "height": 0
        }
      },
      "source": [
        "dataset.head()"
      ],
      "execution_count": 27,
      "outputs": [
        {
          "output_type": "execute_result",
          "data": {
            "text/html": [
              "<div>\n",
              "<style scoped>\n",
              "    .dataframe tbody tr th:only-of-type {\n",
              "        vertical-align: middle;\n",
              "    }\n",
              "\n",
              "    .dataframe tbody tr th {\n",
              "        vertical-align: top;\n",
              "    }\n",
              "\n",
              "    .dataframe thead th {\n",
              "        text-align: right;\n",
              "    }\n",
              "</style>\n",
              "<table border=\"1\" class=\"dataframe\">\n",
              "  <thead>\n",
              "    <tr style=\"text-align: right;\">\n",
              "      <th></th>\n",
              "      <th>Date</th>\n",
              "      <th>Year</th>\n",
              "      <th>Month</th>\n",
              "      <th>year_month</th>\n",
              "      <th>Day</th>\n",
              "      <th>Weekday</th>\n",
              "      <th>Holiday</th>\n",
              "      <th>Max Temp (°C)</th>\n",
              "      <th>Min Temp (°C)</th>\n",
              "      <th>Mean Temp (°C)</th>\n",
              "      <th>Monthly Mean Temp (°C)</th>\n",
              "      <th>Delta Temp (°C)</th>\n",
              "      <th>Total Precip (mm)</th>\n",
              "      <th>Monthly Mean Precip (mm)</th>\n",
              "      <th>Delta Precip (mm)</th>\n",
              "      <th>Snow on Grnd (cm)</th>\n",
              "      <th>Barrie Ridership</th>\n",
              "      <th>Kitchener Ridership</th>\n",
              "      <th>Lakeshore East Ridership</th>\n",
              "      <th>Lakeshore West Ridership</th>\n",
              "      <th>Milton Ridership</th>\n",
              "      <th>Richmond Hill Ridership</th>\n",
              "      <th>Stouffville Ridership</th>\n",
              "      <th>Union Station Ridership</th>\n",
              "      <th>Total GO Ridership</th>\n",
              "      <th>Outlier</th>\n",
              "      <th>Overall Mean</th>\n",
              "      <th>2SD_above</th>\n",
              "      <th>2SD_below</th>\n",
              "      <th>Union Station Ridership Ranges</th>\n",
              "    </tr>\n",
              "  </thead>\n",
              "  <tbody>\n",
              "    <tr>\n",
              "      <th>0</th>\n",
              "      <td>2017-03-01</td>\n",
              "      <td>2017</td>\n",
              "      <td>3</td>\n",
              "      <td>2017-03</td>\n",
              "      <td>1</td>\n",
              "      <td>4</td>\n",
              "      <td>False</td>\n",
              "      <td>13.1</td>\n",
              "      <td>-1.9</td>\n",
              "      <td>5.6</td>\n",
              "      <td>-0.251613</td>\n",
              "      <td>5.851613</td>\n",
              "      <td>18.4</td>\n",
              "      <td>2.335484</td>\n",
              "      <td>16.064516</td>\n",
              "      <td>0.0</td>\n",
              "      <td>10022</td>\n",
              "      <td>13585</td>\n",
              "      <td>25273</td>\n",
              "      <td>32909</td>\n",
              "      <td>15599</td>\n",
              "      <td>5639</td>\n",
              "      <td>8804</td>\n",
              "      <td>95802</td>\n",
              "      <td>207633</td>\n",
              "      <td>False</td>\n",
              "      <td>227296.503311</td>\n",
              "      <td>254365.810172</td>\n",
              "      <td>200227.196451</td>\n",
              "      <td>90000 to 100000</td>\n",
              "    </tr>\n",
              "    <tr>\n",
              "      <th>1</th>\n",
              "      <td>2017-03-02</td>\n",
              "      <td>2017</td>\n",
              "      <td>3</td>\n",
              "      <td>2017-03</td>\n",
              "      <td>2</td>\n",
              "      <td>5</td>\n",
              "      <td>False</td>\n",
              "      <td>-1.3</td>\n",
              "      <td>-6.4</td>\n",
              "      <td>-3.9</td>\n",
              "      <td>-0.251613</td>\n",
              "      <td>-3.648387</td>\n",
              "      <td>0.2</td>\n",
              "      <td>2.335484</td>\n",
              "      <td>-2.135484</td>\n",
              "      <td>0.5</td>\n",
              "      <td>9932</td>\n",
              "      <td>13331</td>\n",
              "      <td>26120</td>\n",
              "      <td>33884</td>\n",
              "      <td>15653</td>\n",
              "      <td>5665</td>\n",
              "      <td>8736</td>\n",
              "      <td>95873</td>\n",
              "      <td>209194</td>\n",
              "      <td>False</td>\n",
              "      <td>224966.615894</td>\n",
              "      <td>253295.696280</td>\n",
              "      <td>196637.535508</td>\n",
              "      <td>90000 to 100000</td>\n",
              "    </tr>\n",
              "    <tr>\n",
              "      <th>2</th>\n",
              "      <td>2017-03-03</td>\n",
              "      <td>2017</td>\n",
              "      <td>3</td>\n",
              "      <td>2017-03</td>\n",
              "      <td>3</td>\n",
              "      <td>6</td>\n",
              "      <td>False</td>\n",
              "      <td>-4.3</td>\n",
              "      <td>-8.1</td>\n",
              "      <td>-6.2</td>\n",
              "      <td>-0.251613</td>\n",
              "      <td>-5.948387</td>\n",
              "      <td>0.0</td>\n",
              "      <td>2.335484</td>\n",
              "      <td>-2.335484</td>\n",
              "      <td>0.5</td>\n",
              "      <td>8905</td>\n",
              "      <td>12235</td>\n",
              "      <td>23801</td>\n",
              "      <td>31473</td>\n",
              "      <td>14092</td>\n",
              "      <td>5129</td>\n",
              "      <td>7918</td>\n",
              "      <td>87200</td>\n",
              "      <td>190753</td>\n",
              "      <td>False</td>\n",
              "      <td>204211.905405</td>\n",
              "      <td>232457.905320</td>\n",
              "      <td>175965.905490</td>\n",
              "      <td>80000 to 90000</td>\n",
              "    </tr>\n",
              "    <tr>\n",
              "      <th>3</th>\n",
              "      <td>2017-03-04</td>\n",
              "      <td>2017</td>\n",
              "      <td>3</td>\n",
              "      <td>2017-03</td>\n",
              "      <td>4</td>\n",
              "      <td>7</td>\n",
              "      <td>False</td>\n",
              "      <td>-6.5</td>\n",
              "      <td>-11.9</td>\n",
              "      <td>-9.2</td>\n",
              "      <td>-0.251613</td>\n",
              "      <td>-8.948387</td>\n",
              "      <td>0.2</td>\n",
              "      <td>2.335484</td>\n",
              "      <td>-2.135484</td>\n",
              "      <td>0.5</td>\n",
              "      <td>928</td>\n",
              "      <td>480</td>\n",
              "      <td>7872</td>\n",
              "      <td>11756</td>\n",
              "      <td>208</td>\n",
              "      <td>0</td>\n",
              "      <td>246</td>\n",
              "      <td>13899</td>\n",
              "      <td>35389</td>\n",
              "      <td>False</td>\n",
              "      <td>45352.333333</td>\n",
              "      <td>73886.656469</td>\n",
              "      <td>16818.010198</td>\n",
              "      <td>10000 to 20000</td>\n",
              "    </tr>\n",
              "    <tr>\n",
              "      <th>4</th>\n",
              "      <td>2017-03-05</td>\n",
              "      <td>2017</td>\n",
              "      <td>3</td>\n",
              "      <td>2017-03</td>\n",
              "      <td>5</td>\n",
              "      <td>1</td>\n",
              "      <td>False</td>\n",
              "      <td>-0.4</td>\n",
              "      <td>-10.6</td>\n",
              "      <td>-5.5</td>\n",
              "      <td>-0.251613</td>\n",
              "      <td>-5.248387</td>\n",
              "      <td>0.0</td>\n",
              "      <td>2.335484</td>\n",
              "      <td>-2.335484</td>\n",
              "      <td>0.5</td>\n",
              "      <td>803</td>\n",
              "      <td>398</td>\n",
              "      <td>4714</td>\n",
              "      <td>8381</td>\n",
              "      <td>169</td>\n",
              "      <td>0</td>\n",
              "      <td>156</td>\n",
              "      <td>8505</td>\n",
              "      <td>23126</td>\n",
              "      <td>False</td>\n",
              "      <td>32455.370861</td>\n",
              "      <td>53039.519234</td>\n",
              "      <td>11871.222488</td>\n",
              "      <td>0 to 10000</td>\n",
              "    </tr>\n",
              "  </tbody>\n",
              "</table>\n",
              "</div>"
            ],
            "text/plain": [
              "         Date  Year  ...      2SD_below Union Station Ridership Ranges\n",
              "0  2017-03-01  2017  ...  200227.196451                90000 to 100000\n",
              "1  2017-03-02  2017  ...  196637.535508                90000 to 100000\n",
              "2  2017-03-03  2017  ...  175965.905490                 80000 to 90000\n",
              "3  2017-03-04  2017  ...   16818.010198                 10000 to 20000\n",
              "4  2017-03-05  2017  ...   11871.222488                     0 to 10000\n",
              "\n",
              "[5 rows x 30 columns]"
            ]
          },
          "metadata": {
            "tags": []
          },
          "execution_count": 27
        }
      ]
    },
    {
      "cell_type": "markdown",
      "metadata": {
        "id": "y9aSC7CK9kH9",
        "colab_type": "text"
      },
      "source": [
        "## knn predict for Mondays"
      ]
    },
    {
      "cell_type": "code",
      "metadata": {
        "id": "ytmPYVq79Y4u",
        "colab_type": "code",
        "outputId": "f0768a7a-76f6-46ff-beb8-3c4347905ff5",
        "colab": {
          "base_uri": "https://localhost:8080/",
          "height": 204
        }
      },
      "source": [
        "knn_dataset = dataset[[\"Date\",\"Month\",\"Weekday\",\"Delta Temp (°C)\",\"Delta Precip (mm)\",\"Union Station Ridership Ranges\"]].copy()\n",
        "knn_dataset.head()"
      ],
      "execution_count": 28,
      "outputs": [
        {
          "output_type": "execute_result",
          "data": {
            "text/html": [
              "<div>\n",
              "<style scoped>\n",
              "    .dataframe tbody tr th:only-of-type {\n",
              "        vertical-align: middle;\n",
              "    }\n",
              "\n",
              "    .dataframe tbody tr th {\n",
              "        vertical-align: top;\n",
              "    }\n",
              "\n",
              "    .dataframe thead th {\n",
              "        text-align: right;\n",
              "    }\n",
              "</style>\n",
              "<table border=\"1\" class=\"dataframe\">\n",
              "  <thead>\n",
              "    <tr style=\"text-align: right;\">\n",
              "      <th></th>\n",
              "      <th>Date</th>\n",
              "      <th>Month</th>\n",
              "      <th>Weekday</th>\n",
              "      <th>Delta Temp (°C)</th>\n",
              "      <th>Delta Precip (mm)</th>\n",
              "      <th>Union Station Ridership Ranges</th>\n",
              "    </tr>\n",
              "  </thead>\n",
              "  <tbody>\n",
              "    <tr>\n",
              "      <th>0</th>\n",
              "      <td>2017-03-01</td>\n",
              "      <td>3</td>\n",
              "      <td>4</td>\n",
              "      <td>5.851613</td>\n",
              "      <td>16.064516</td>\n",
              "      <td>90000 to 100000</td>\n",
              "    </tr>\n",
              "    <tr>\n",
              "      <th>1</th>\n",
              "      <td>2017-03-02</td>\n",
              "      <td>3</td>\n",
              "      <td>5</td>\n",
              "      <td>-3.648387</td>\n",
              "      <td>-2.135484</td>\n",
              "      <td>90000 to 100000</td>\n",
              "    </tr>\n",
              "    <tr>\n",
              "      <th>2</th>\n",
              "      <td>2017-03-03</td>\n",
              "      <td>3</td>\n",
              "      <td>6</td>\n",
              "      <td>-5.948387</td>\n",
              "      <td>-2.335484</td>\n",
              "      <td>80000 to 90000</td>\n",
              "    </tr>\n",
              "    <tr>\n",
              "      <th>3</th>\n",
              "      <td>2017-03-04</td>\n",
              "      <td>3</td>\n",
              "      <td>7</td>\n",
              "      <td>-8.948387</td>\n",
              "      <td>-2.135484</td>\n",
              "      <td>10000 to 20000</td>\n",
              "    </tr>\n",
              "    <tr>\n",
              "      <th>4</th>\n",
              "      <td>2017-03-05</td>\n",
              "      <td>3</td>\n",
              "      <td>1</td>\n",
              "      <td>-5.248387</td>\n",
              "      <td>-2.335484</td>\n",
              "      <td>0 to 10000</td>\n",
              "    </tr>\n",
              "  </tbody>\n",
              "</table>\n",
              "</div>"
            ],
            "text/plain": [
              "         Date  Month  ...  Delta Precip (mm)  Union Station Ridership Ranges\n",
              "0  2017-03-01      3  ...          16.064516                 90000 to 100000\n",
              "1  2017-03-02      3  ...          -2.135484                 90000 to 100000\n",
              "2  2017-03-03      3  ...          -2.335484                  80000 to 90000\n",
              "3  2017-03-04      3  ...          -2.135484                  10000 to 20000\n",
              "4  2017-03-05      3  ...          -2.335484                      0 to 10000\n",
              "\n",
              "[5 rows x 6 columns]"
            ]
          },
          "metadata": {
            "tags": []
          },
          "execution_count": 28
        }
      ]
    },
    {
      "cell_type": "code",
      "metadata": {
        "id": "vnregrzt-G1l",
        "colab_type": "code",
        "outputId": "bf737b61-a9bf-4fba-8692-46c144399ee7",
        "colab": {
          "base_uri": "https://localhost:8080/",
          "height": 204
        }
      },
      "source": [
        "knn_dataset_M = knn_dataset.loc[knn_dataset[\"Weekday\"]==1]\n",
        "knn_dataset_M.head()"
      ],
      "execution_count": 29,
      "outputs": [
        {
          "output_type": "execute_result",
          "data": {
            "text/html": [
              "<div>\n",
              "<style scoped>\n",
              "    .dataframe tbody tr th:only-of-type {\n",
              "        vertical-align: middle;\n",
              "    }\n",
              "\n",
              "    .dataframe tbody tr th {\n",
              "        vertical-align: top;\n",
              "    }\n",
              "\n",
              "    .dataframe thead th {\n",
              "        text-align: right;\n",
              "    }\n",
              "</style>\n",
              "<table border=\"1\" class=\"dataframe\">\n",
              "  <thead>\n",
              "    <tr style=\"text-align: right;\">\n",
              "      <th></th>\n",
              "      <th>Date</th>\n",
              "      <th>Month</th>\n",
              "      <th>Weekday</th>\n",
              "      <th>Delta Temp (°C)</th>\n",
              "      <th>Delta Precip (mm)</th>\n",
              "      <th>Union Station Ridership Ranges</th>\n",
              "    </tr>\n",
              "  </thead>\n",
              "  <tbody>\n",
              "    <tr>\n",
              "      <th>4</th>\n",
              "      <td>2017-03-05</td>\n",
              "      <td>3</td>\n",
              "      <td>1</td>\n",
              "      <td>-5.248387</td>\n",
              "      <td>-2.335484</td>\n",
              "      <td>0 to 10000</td>\n",
              "    </tr>\n",
              "    <tr>\n",
              "      <th>11</th>\n",
              "      <td>2017-03-12</td>\n",
              "      <td>3</td>\n",
              "      <td>1</td>\n",
              "      <td>-7.948387</td>\n",
              "      <td>-2.335484</td>\n",
              "      <td>0 to 10000</td>\n",
              "    </tr>\n",
              "    <tr>\n",
              "      <th>18</th>\n",
              "      <td>2017-03-19</td>\n",
              "      <td>3</td>\n",
              "      <td>1</td>\n",
              "      <td>3.651613</td>\n",
              "      <td>-2.335484</td>\n",
              "      <td>10000 to 20000</td>\n",
              "    </tr>\n",
              "    <tr>\n",
              "      <th>25</th>\n",
              "      <td>2017-03-26</td>\n",
              "      <td>3</td>\n",
              "      <td>1</td>\n",
              "      <td>4.151613</td>\n",
              "      <td>0.064516</td>\n",
              "      <td>0 to 10000</td>\n",
              "    </tr>\n",
              "    <tr>\n",
              "      <th>32</th>\n",
              "      <td>2017-04-02</td>\n",
              "      <td>4</td>\n",
              "      <td>1</td>\n",
              "      <td>0.963333</td>\n",
              "      <td>-3.586667</td>\n",
              "      <td>0 to 10000</td>\n",
              "    </tr>\n",
              "  </tbody>\n",
              "</table>\n",
              "</div>"
            ],
            "text/plain": [
              "          Date  Month  ...  Delta Precip (mm)  Union Station Ridership Ranges\n",
              "4   2017-03-05      3  ...          -2.335484                      0 to 10000\n",
              "11  2017-03-12      3  ...          -2.335484                      0 to 10000\n",
              "18  2017-03-19      3  ...          -2.335484                  10000 to 20000\n",
              "25  2017-03-26      3  ...           0.064516                      0 to 10000\n",
              "32  2017-04-02      4  ...          -3.586667                      0 to 10000\n",
              "\n",
              "[5 rows x 6 columns]"
            ]
          },
          "metadata": {
            "tags": []
          },
          "execution_count": 29
        }
      ]
    },
    {
      "cell_type": "code",
      "metadata": {
        "id": "ra8JqgAe-hxA",
        "colab_type": "code",
        "outputId": "1a22fd96-609f-44c8-b1fc-3104a8fd9a82",
        "colab": {
          "base_uri": "https://localhost:8080/",
          "height": 340
        }
      },
      "source": [
        "knn_dataset_M[\"Union Station Ridership Ranges\"] = knn_dataset_M[\"Union Station Ridership Ranges\"].astype('category')\n",
        "knn_dataset_M.info()"
      ],
      "execution_count": 30,
      "outputs": [
        {
          "output_type": "stream",
          "text": [
            "<class 'pandas.core.frame.DataFrame'>\n",
            "Int64Index: 143 entries, 4 to 1089\n",
            "Data columns (total 6 columns):\n",
            " #   Column                          Non-Null Count  Dtype   \n",
            "---  ------                          --------------  -----   \n",
            " 0   Date                            143 non-null    object  \n",
            " 1   Month                           143 non-null    int64   \n",
            " 2   Weekday                         143 non-null    int64   \n",
            " 3   Delta Temp (°C)                 143 non-null    float64 \n",
            " 4   Delta Precip (mm)               143 non-null    float64 \n",
            " 5   Union Station Ridership Ranges  143 non-null    category\n",
            "dtypes: category(1), float64(2), int64(2), object(1)\n",
            "memory usage: 7.6+ KB\n"
          ],
          "name": "stdout"
        },
        {
          "output_type": "stream",
          "text": [
            "/usr/local/lib/python3.6/dist-packages/ipykernel_launcher.py:1: SettingWithCopyWarning: \n",
            "A value is trying to be set on a copy of a slice from a DataFrame.\n",
            "Try using .loc[row_indexer,col_indexer] = value instead\n",
            "\n",
            "See the caveats in the documentation: https://pandas.pydata.org/pandas-docs/stable/user_guide/indexing.html#returning-a-view-versus-a-copy\n",
            "  \"\"\"Entry point for launching an IPython kernel.\n"
          ],
          "name": "stderr"
        }
      ]
    },
    {
      "cell_type": "code",
      "metadata": {
        "id": "GPEvzq6f-xik",
        "colab_type": "code",
        "outputId": "a043df30-b5a0-4946-d913-3dfbd930f6a3",
        "colab": {
          "base_uri": "https://localhost:8080/",
          "height": 34
        }
      },
      "source": [
        "X = knn_dataset_M[[\"Month\",\"Weekday\",\"Delta Temp (°C)\",\"Delta Precip (mm)\"]]\n",
        "X.shape"
      ],
      "execution_count": 31,
      "outputs": [
        {
          "output_type": "execute_result",
          "data": {
            "text/plain": [
              "(143, 4)"
            ]
          },
          "metadata": {
            "tags": []
          },
          "execution_count": 31
        }
      ]
    },
    {
      "cell_type": "code",
      "metadata": {
        "id": "OwkxuzN4-qz3",
        "colab_type": "code",
        "outputId": "f6574dad-5281-403a-9d95-8d0b89c04565",
        "colab": {
          "base_uri": "https://localhost:8080/",
          "height": 306
        }
      },
      "source": [
        "cols = ['Month', 'Weekday', 'Delta Temp (°C)', 'Delta Precip (mm)']\n",
        "for col in cols:\n",
        "   X[col] = X[col].apply(lambda x: float(x) if x == x else \"\")\n",
        "X.info()"
      ],
      "execution_count": 32,
      "outputs": [
        {
          "output_type": "stream",
          "text": [
            "<class 'pandas.core.frame.DataFrame'>\n",
            "Int64Index: 143 entries, 4 to 1089\n",
            "Data columns (total 4 columns):\n",
            " #   Column             Non-Null Count  Dtype  \n",
            "---  ------             --------------  -----  \n",
            " 0   Month              143 non-null    float64\n",
            " 1   Weekday            143 non-null    float64\n",
            " 2   Delta Temp (°C)    143 non-null    float64\n",
            " 3   Delta Precip (mm)  143 non-null    float64\n",
            "dtypes: float64(4)\n",
            "memory usage: 5.6 KB\n"
          ],
          "name": "stdout"
        },
        {
          "output_type": "stream",
          "text": [
            "/usr/local/lib/python3.6/dist-packages/ipykernel_launcher.py:3: SettingWithCopyWarning: \n",
            "A value is trying to be set on a copy of a slice from a DataFrame.\n",
            "Try using .loc[row_indexer,col_indexer] = value instead\n",
            "\n",
            "See the caveats in the documentation: https://pandas.pydata.org/pandas-docs/stable/user_guide/indexing.html#returning-a-view-versus-a-copy\n",
            "  This is separate from the ipykernel package so we can avoid doing imports until\n"
          ],
          "name": "stderr"
        }
      ]
    },
    {
      "cell_type": "code",
      "metadata": {
        "id": "vMmxvpEsATvo",
        "colab_type": "code",
        "outputId": "b0865ae0-cd35-4da0-9ef8-d904a1531ec2",
        "colab": {
          "base_uri": "https://localhost:8080/",
          "height": 34
        }
      },
      "source": [
        "y = knn_dataset_M[\"Union Station Ridership Ranges\"]\n",
        "y.shape"
      ],
      "execution_count": 33,
      "outputs": [
        {
          "output_type": "execute_result",
          "data": {
            "text/plain": [
              "(143,)"
            ]
          },
          "metadata": {
            "tags": []
          },
          "execution_count": 33
        }
      ]
    },
    {
      "cell_type": "code",
      "metadata": {
        "id": "RBlJUCVHAKMt",
        "colab_type": "code",
        "outputId": "c1e52dde-4a9e-4305-dde8-9cdc8b6d7ea2",
        "colab": {
          "base_uri": "https://localhost:8080/",
          "height": 34
        }
      },
      "source": [
        "from sklearn.model_selection import train_test_split\n",
        "X_train, X_test, y_train, y_test = train_test_split(X,y,test_size=0.2,random_state=20)\n",
        "X_train.shape"
      ],
      "execution_count": 34,
      "outputs": [
        {
          "output_type": "execute_result",
          "data": {
            "text/plain": [
              "(114, 4)"
            ]
          },
          "metadata": {
            "tags": []
          },
          "execution_count": 34
        }
      ]
    },
    {
      "cell_type": "code",
      "metadata": {
        "id": "HfMNdJs1ArnP",
        "colab_type": "code",
        "outputId": "2aef82cf-9022-4861-d26d-a93f5287dfab",
        "colab": {
          "base_uri": "https://localhost:8080/",
          "height": 187
        }
      },
      "source": [
        "knn.fit(X_train,y_train)\n",
        "y_hat = knn.predict(X_test)\n",
        "y_hat"
      ],
      "execution_count": 35,
      "outputs": [
        {
          "output_type": "execute_result",
          "data": {
            "text/plain": [
              "array(['10000 to 20000', '10000 to 20000', '10000 to 20000',\n",
              "       '10000 to 20000', '10000 to 20000', '10000 to 20000',\n",
              "       '10000 to 20000', '10000 to 20000', '10000 to 20000',\n",
              "       '10000 to 20000', '10000 to 20000', '10000 to 20000',\n",
              "       '10000 to 20000', '10000 to 20000', '10000 to 20000',\n",
              "       '10000 to 20000', '10000 to 20000', '10000 to 20000',\n",
              "       '10000 to 20000', '10000 to 20000', '10000 to 20000',\n",
              "       '10000 to 20000', '10000 to 20000', '10000 to 20000',\n",
              "       '10000 to 20000', '10000 to 20000', '10000 to 20000',\n",
              "       '10000 to 20000', '10000 to 20000'], dtype=object)"
            ]
          },
          "metadata": {
            "tags": []
          },
          "execution_count": 35
        }
      ]
    },
    {
      "cell_type": "code",
      "metadata": {
        "id": "Apk4lIJnAtNI",
        "colab_type": "code",
        "outputId": "be0aa73e-55cc-41e4-cb03-0a118760758d",
        "colab": {
          "base_uri": "https://localhost:8080/",
          "height": 561
        }
      },
      "source": [
        "y_test"
      ],
      "execution_count": 36,
      "outputs": [
        {
          "output_type": "execute_result",
          "data": {
            "text/plain": [
              "501     10000 to 20000\n",
              "361         0 to 10000\n",
              "851     10000 to 20000\n",
              "494     10000 to 20000\n",
              "746     10000 to 20000\n",
              "592         0 to 10000\n",
              "417         0 to 10000\n",
              "270         0 to 10000\n",
              "998     10000 to 20000\n",
              "977         0 to 10000\n",
              "676         0 to 10000\n",
              "662     10000 to 20000\n",
              "221     10000 to 20000\n",
              "368         0 to 10000\n",
              "424     10000 to 20000\n",
              "529     10000 to 20000\n",
              "263     10000 to 20000\n",
              "627     10000 to 20000\n",
              "144         0 to 10000\n",
              "4           0 to 10000\n",
              "284         0 to 10000\n",
              "81          0 to 10000\n",
              "515     10000 to 20000\n",
              "795         0 to 10000\n",
              "396     10000 to 20000\n",
              "711         0 to 10000\n",
              "11          0 to 10000\n",
              "1047        0 to 10000\n",
              "942     10000 to 20000\n",
              "Name: Union Station Ridership Ranges, dtype: category\n",
              "Categories (16, object): [0 to 10000 < 10000 to 20000 < 20000 to 30000 < 30000 to 40000 < ... <\n",
              "                          120000 to 130000 < 130000 to 140000 < 140000 to 150000 < 150000 to 160000]"
            ]
          },
          "metadata": {
            "tags": []
          },
          "execution_count": 36
        }
      ]
    },
    {
      "cell_type": "code",
      "metadata": {
        "id": "irgkhMGlAxgf",
        "colab_type": "code",
        "outputId": "2ff2d1f9-48ca-43b7-9b12-4950df02a6ee",
        "colab": {
          "base_uri": "https://localhost:8080/",
          "height": 34
        }
      },
      "source": [
        "accuracy_score(y_test,y_hat)"
      ],
      "execution_count": 37,
      "outputs": [
        {
          "output_type": "execute_result",
          "data": {
            "text/plain": [
              "0.4827586206896552"
            ]
          },
          "metadata": {
            "tags": []
          },
          "execution_count": 37
        }
      ]
    },
    {
      "cell_type": "code",
      "metadata": {
        "id": "zAAUo_78AzGP",
        "colab_type": "code",
        "outputId": "767291f0-2416-41f7-98db-dd0c8f9e9969",
        "colab": {
          "base_uri": "https://localhost:8080/",
          "height": 187
        }
      },
      "source": [
        "neighbors = range(1,60)\n",
        "error = []\n",
        "score = []\n",
        "for i in neighbors:\n",
        "    knn = KNeighborsClassifier(n_neighbors=i)\n",
        "    knn.fit(X_train, y_train)\n",
        "    y_hat = knn.predict(X_test)\n",
        "    score.append(accuracy_score(y_test, y_hat))\n",
        "y_hat"
      ],
      "execution_count": 38,
      "outputs": [
        {
          "output_type": "execute_result",
          "data": {
            "text/plain": [
              "array(['10000 to 20000', '10000 to 20000', '10000 to 20000',\n",
              "       '10000 to 20000', '10000 to 20000', '10000 to 20000',\n",
              "       '10000 to 20000', '10000 to 20000', '10000 to 20000',\n",
              "       '10000 to 20000', '10000 to 20000', '10000 to 20000',\n",
              "       '10000 to 20000', '10000 to 20000', '10000 to 20000',\n",
              "       '10000 to 20000', '10000 to 20000', '10000 to 20000',\n",
              "       '10000 to 20000', '10000 to 20000', '10000 to 20000',\n",
              "       '10000 to 20000', '10000 to 20000', '10000 to 20000',\n",
              "       '10000 to 20000', '10000 to 20000', '10000 to 20000',\n",
              "       '10000 to 20000', '10000 to 20000'], dtype=object)"
            ]
          },
          "metadata": {
            "tags": []
          },
          "execution_count": 38
        }
      ]
    },
    {
      "cell_type": "code",
      "metadata": {
        "id": "H1z3jPRKA2dz",
        "colab_type": "code",
        "outputId": "c382b5a0-5d88-4496-d650-c3f5149c508a",
        "colab": {
          "base_uri": "https://localhost:8080/",
          "height": 408
        }
      },
      "source": [
        "plt.figure(figsize=(20, 6))\n",
        "plt.plot(neighbors, score, color='red', linestyle='dashed', marker='o',\n",
        "         markerfacecolor='blue', markersize=10)\n",
        "plt.xlabel('K Value')\n",
        "plt.ylabel('Accuracy Score')"
      ],
      "execution_count": 39,
      "outputs": [
        {
          "output_type": "execute_result",
          "data": {
            "text/plain": [
              "Text(0, 0.5, 'Accuracy Score')"
            ]
          },
          "metadata": {
            "tags": []
          },
          "execution_count": 39
        },
        {
          "output_type": "display_data",
          "data": {
            "image/png": "[encoded data removed]",
            "text/plain": [
              "<Figure size 1440x432 with 1 Axes>"
            ]
          },
          "metadata": {
            "tags": []
          }
        }
      ]
    },
    {
      "cell_type": "code",
      "metadata": {
        "id": "WVvYD0S3BHiy",
        "colab_type": "code",
        "outputId": "c69f2770-46bd-4e57-b190-09cf76ddfec6",
        "colab": {
          "base_uri": "https://localhost:8080/",
          "height": 34
        }
      },
      "source": [
        "knn = KNeighborsClassifier(n_neighbors=6) #best score\n",
        "knn.fit(X_train, y_train)\n",
        "y_hat = knn.predict(X_test)\n",
        "score = accuracy_score(y_test, y_hat)\n",
        "score"
      ],
      "execution_count": 40,
      "outputs": [
        {
          "output_type": "execute_result",
          "data": {
            "text/plain": [
              "0.6206896551724138"
            ]
          },
          "metadata": {
            "tags": []
          },
          "execution_count": 40
        }
      ]
    }
  ]
}