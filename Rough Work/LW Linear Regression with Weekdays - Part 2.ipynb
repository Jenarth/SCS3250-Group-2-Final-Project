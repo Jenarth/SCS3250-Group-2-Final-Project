{
 "cells": [
  {
   "cell_type": "code",
   "execution_count": 92,
   "metadata": {},
   "outputs": [],
   "source": [
    "import pandas as pd  \n",
    "import numpy as np  \n",
    "import matplotlib.pyplot as plt  \n",
    "import seaborn as sns\n",
    "from sklearn.model_selection import train_test_split \n",
    "from sklearn.linear_model import LinearRegression\n",
    "from sklearn import metrics\n",
    "%matplotlib inline"
   ]
  },
  {
   "cell_type": "code",
   "execution_count": 93,
   "metadata": {},
   "outputs": [],
   "source": [
    "# Let's import the dataset\n",
    "\n",
    "url = 'https://raw.githubusercontent.com/Jenarth/SCS3250-Group-2-Final-Project/master/Final%20Dataset.csv'\n",
    "df = pd.read_csv(url, header = 0, sep =',',parse_dates=['Date'])"
   ]
  },
  {
   "cell_type": "code",
   "execution_count": 94,
   "metadata": {},
   "outputs": [
    {
     "data": {
      "text/html": [
       "<div>\n",
       "<style scoped>\n",
       "    .dataframe tbody tr th:only-of-type {\n",
       "        vertical-align: middle;\n",
       "    }\n",
       "\n",
       "    .dataframe tbody tr th {\n",
       "        vertical-align: top;\n",
       "    }\n",
       "\n",
       "    .dataframe thead th {\n",
       "        text-align: right;\n",
       "    }\n",
       "</style>\n",
       "<table border=\"1\" class=\"dataframe\">\n",
       "  <thead>\n",
       "    <tr style=\"text-align: right;\">\n",
       "      <th></th>\n",
       "      <th>Date</th>\n",
       "      <th>Year</th>\n",
       "      <th>Month</th>\n",
       "      <th>year_month</th>\n",
       "      <th>Day</th>\n",
       "      <th>Weekday</th>\n",
       "      <th>Holiday</th>\n",
       "      <th>Max Temp (°C)</th>\n",
       "      <th>Min Temp (°C)</th>\n",
       "      <th>Mean Temp (°C)</th>\n",
       "      <th>...</th>\n",
       "      <th>Lakeshore West Ridership</th>\n",
       "      <th>Milton Ridership</th>\n",
       "      <th>Richmond Hill Ridership</th>\n",
       "      <th>Stouffville Ridership</th>\n",
       "      <th>Union Station Ridership</th>\n",
       "      <th>Total GO Ridership</th>\n",
       "      <th>Outlier</th>\n",
       "      <th>Overall Mean</th>\n",
       "      <th>2SD_above</th>\n",
       "      <th>2SD_below</th>\n",
       "    </tr>\n",
       "  </thead>\n",
       "  <tbody>\n",
       "    <tr>\n",
       "      <td>0</td>\n",
       "      <td>2017-03-01</td>\n",
       "      <td>2017</td>\n",
       "      <td>3</td>\n",
       "      <td>2017-03</td>\n",
       "      <td>1</td>\n",
       "      <td>Wednesday</td>\n",
       "      <td>False</td>\n",
       "      <td>13.1</td>\n",
       "      <td>-1.9</td>\n",
       "      <td>5.6</td>\n",
       "      <td>...</td>\n",
       "      <td>243965</td>\n",
       "      <td>115524</td>\n",
       "      <td>41759</td>\n",
       "      <td>65258</td>\n",
       "      <td>709669</td>\n",
       "      <td>1538388</td>\n",
       "      <td>False</td>\n",
       "      <td>1.684403e+06</td>\n",
       "      <td>1.885102e+06</td>\n",
       "      <td>1.483705e+06</td>\n",
       "    </tr>\n",
       "    <tr>\n",
       "      <td>1</td>\n",
       "      <td>2017-03-02</td>\n",
       "      <td>2017</td>\n",
       "      <td>3</td>\n",
       "      <td>2017-03</td>\n",
       "      <td>2</td>\n",
       "      <td>Thursday</td>\n",
       "      <td>False</td>\n",
       "      <td>-1.3</td>\n",
       "      <td>-6.4</td>\n",
       "      <td>-3.9</td>\n",
       "      <td>...</td>\n",
       "      <td>251245</td>\n",
       "      <td>115976</td>\n",
       "      <td>41975</td>\n",
       "      <td>64723</td>\n",
       "      <td>710233</td>\n",
       "      <td>1550282</td>\n",
       "      <td>False</td>\n",
       "      <td>1.667167e+06</td>\n",
       "      <td>1.877280e+06</td>\n",
       "      <td>1.457055e+06</td>\n",
       "    </tr>\n",
       "    <tr>\n",
       "      <td>2</td>\n",
       "      <td>2017-03-03</td>\n",
       "      <td>2017</td>\n",
       "      <td>3</td>\n",
       "      <td>2017-03</td>\n",
       "      <td>3</td>\n",
       "      <td>Friday</td>\n",
       "      <td>False</td>\n",
       "      <td>-4.3</td>\n",
       "      <td>-8.1</td>\n",
       "      <td>-6.2</td>\n",
       "      <td>...</td>\n",
       "      <td>233488</td>\n",
       "      <td>104386</td>\n",
       "      <td>38029</td>\n",
       "      <td>58671</td>\n",
       "      <td>645929</td>\n",
       "      <td>1413668</td>\n",
       "      <td>False</td>\n",
       "      <td>1.513443e+06</td>\n",
       "      <td>1.722796e+06</td>\n",
       "      <td>1.304090e+06</td>\n",
       "    </tr>\n",
       "    <tr>\n",
       "      <td>3</td>\n",
       "      <td>2017-03-04</td>\n",
       "      <td>2017</td>\n",
       "      <td>3</td>\n",
       "      <td>2017-03</td>\n",
       "      <td>4</td>\n",
       "      <td>Saturday</td>\n",
       "      <td>False</td>\n",
       "      <td>-6.5</td>\n",
       "      <td>-11.9</td>\n",
       "      <td>-9.2</td>\n",
       "      <td>...</td>\n",
       "      <td>87326</td>\n",
       "      <td>1518</td>\n",
       "      <td>0</td>\n",
       "      <td>1792</td>\n",
       "      <td>102982</td>\n",
       "      <td>262464</td>\n",
       "      <td>False</td>\n",
       "      <td>3.363528e+05</td>\n",
       "      <td>5.477078e+05</td>\n",
       "      <td>1.249978e+05</td>\n",
       "    </tr>\n",
       "    <tr>\n",
       "      <td>4</td>\n",
       "      <td>2017-03-05</td>\n",
       "      <td>2017</td>\n",
       "      <td>3</td>\n",
       "      <td>2017-03</td>\n",
       "      <td>5</td>\n",
       "      <td>Sunday</td>\n",
       "      <td>False</td>\n",
       "      <td>-0.4</td>\n",
       "      <td>-10.6</td>\n",
       "      <td>-5.5</td>\n",
       "      <td>...</td>\n",
       "      <td>62331</td>\n",
       "      <td>1234</td>\n",
       "      <td>0</td>\n",
       "      <td>1135</td>\n",
       "      <td>62998</td>\n",
       "      <td>171582</td>\n",
       "      <td>False</td>\n",
       "      <td>2.407631e+05</td>\n",
       "      <td>3.932424e+05</td>\n",
       "      <td>8.828385e+04</td>\n",
       "    </tr>\n",
       "  </tbody>\n",
       "</table>\n",
       "<p>5 rows × 29 columns</p>\n",
       "</div>"
      ],
      "text/plain": [
       "        Date  Year  Month year_month  Day    Weekday  Holiday  Max Temp (°C)  \\\n",
       "0 2017-03-01  2017      3    2017-03    1  Wednesday    False           13.1   \n",
       "1 2017-03-02  2017      3    2017-03    2   Thursday    False           -1.3   \n",
       "2 2017-03-03  2017      3    2017-03    3     Friday    False           -4.3   \n",
       "3 2017-03-04  2017      3    2017-03    4   Saturday    False           -6.5   \n",
       "4 2017-03-05  2017      3    2017-03    5     Sunday    False           -0.4   \n",
       "\n",
       "   Min Temp (°C)  Mean Temp (°C)  ...  Lakeshore West Ridership  \\\n",
       "0           -1.9             5.6  ...                    243965   \n",
       "1           -6.4            -3.9  ...                    251245   \n",
       "2           -8.1            -6.2  ...                    233488   \n",
       "3          -11.9            -9.2  ...                     87326   \n",
       "4          -10.6            -5.5  ...                     62331   \n",
       "\n",
       "   Milton Ridership  Richmond Hill Ridership  Stouffville Ridership  \\\n",
       "0            115524                    41759                  65258   \n",
       "1            115976                    41975                  64723   \n",
       "2            104386                    38029                  58671   \n",
       "3              1518                        0                   1792   \n",
       "4              1234                        0                   1135   \n",
       "\n",
       "   Union Station Ridership  Total GO Ridership  Outlier  Overall Mean  \\\n",
       "0                   709669             1538388    False  1.684403e+06   \n",
       "1                   710233             1550282    False  1.667167e+06   \n",
       "2                   645929             1413668    False  1.513443e+06   \n",
       "3                   102982              262464    False  3.363528e+05   \n",
       "4                    62998              171582    False  2.407631e+05   \n",
       "\n",
       "      2SD_above     2SD_below  \n",
       "0  1.885102e+06  1.483705e+06  \n",
       "1  1.877280e+06  1.457055e+06  \n",
       "2  1.722796e+06  1.304090e+06  \n",
       "3  5.477078e+05  1.249978e+05  \n",
       "4  3.932424e+05  8.828385e+04  \n",
       "\n",
       "[5 rows x 29 columns]"
      ]
     },
     "execution_count": 94,
     "metadata": {},
     "output_type": "execute_result"
    }
   ],
   "source": [
    "# Let's remove the outliers as well as the holidays period\n",
    "\n",
    "data= df.loc[(-df.Holiday)&(-df.Outlier)]\n",
    "data.head(5)"
   ]
  },
  {
   "cell_type": "code",
   "execution_count": 15,
   "metadata": {},
   "outputs": [
    {
     "name": "stderr",
     "output_type": "stream",
     "text": [
      "/opt/anaconda3/lib/python3.7/site-packages/pandas/core/generic.py:5208: SettingWithCopyWarning: \n",
      "A value is trying to be set on a copy of a slice from a DataFrame.\n",
      "Try using .loc[row_indexer,col_indexer] = value instead\n",
      "\n",
      "See the caveats in the documentation: http://pandas.pydata.org/pandas-docs/stable/user_guide/indexing.html#returning-a-view-versus-a-copy\n",
      "  self[name] = value\n"
     ]
    },
    {
     "data": {
      "text/html": [
       "<div>\n",
       "<style scoped>\n",
       "    .dataframe tbody tr th:only-of-type {\n",
       "        vertical-align: middle;\n",
       "    }\n",
       "\n",
       "    .dataframe tbody tr th {\n",
       "        vertical-align: top;\n",
       "    }\n",
       "\n",
       "    .dataframe thead th {\n",
       "        text-align: right;\n",
       "    }\n",
       "</style>\n",
       "<table border=\"1\" class=\"dataframe\">\n",
       "  <thead>\n",
       "    <tr style=\"text-align: right;\">\n",
       "      <th></th>\n",
       "      <th>Date</th>\n",
       "      <th>Year</th>\n",
       "      <th>Month</th>\n",
       "      <th>year_month</th>\n",
       "      <th>Day</th>\n",
       "      <th>Weekday</th>\n",
       "      <th>Holiday</th>\n",
       "      <th>Max Temp (°C)</th>\n",
       "      <th>Min Temp (°C)</th>\n",
       "      <th>Mean Temp (°C)</th>\n",
       "      <th>...</th>\n",
       "      <th>Lakeshore West Ridership</th>\n",
       "      <th>Milton Ridership</th>\n",
       "      <th>Richmond Hill Ridership</th>\n",
       "      <th>Stouffville Ridership</th>\n",
       "      <th>Union Station Ridership</th>\n",
       "      <th>Total GO Ridership</th>\n",
       "      <th>Outlier</th>\n",
       "      <th>Overall Mean</th>\n",
       "      <th>2SD_above</th>\n",
       "      <th>2SD_below</th>\n",
       "    </tr>\n",
       "  </thead>\n",
       "  <tbody>\n",
       "    <tr>\n",
       "      <td>0</td>\n",
       "      <td>2017-03-01</td>\n",
       "      <td>2017</td>\n",
       "      <td>3</td>\n",
       "      <td>2017-03</td>\n",
       "      <td>1</td>\n",
       "      <td>3</td>\n",
       "      <td>False</td>\n",
       "      <td>13.1</td>\n",
       "      <td>-1.9</td>\n",
       "      <td>5.6</td>\n",
       "      <td>...</td>\n",
       "      <td>243965</td>\n",
       "      <td>115524</td>\n",
       "      <td>41759</td>\n",
       "      <td>65258</td>\n",
       "      <td>709669</td>\n",
       "      <td>1538388</td>\n",
       "      <td>False</td>\n",
       "      <td>1.684403e+06</td>\n",
       "      <td>1.885102e+06</td>\n",
       "      <td>1.483705e+06</td>\n",
       "    </tr>\n",
       "    <tr>\n",
       "      <td>1</td>\n",
       "      <td>2017-03-02</td>\n",
       "      <td>2017</td>\n",
       "      <td>3</td>\n",
       "      <td>2017-03</td>\n",
       "      <td>2</td>\n",
       "      <td>4</td>\n",
       "      <td>False</td>\n",
       "      <td>-1.3</td>\n",
       "      <td>-6.4</td>\n",
       "      <td>-3.9</td>\n",
       "      <td>...</td>\n",
       "      <td>251245</td>\n",
       "      <td>115976</td>\n",
       "      <td>41975</td>\n",
       "      <td>64723</td>\n",
       "      <td>710233</td>\n",
       "      <td>1550282</td>\n",
       "      <td>False</td>\n",
       "      <td>1.667167e+06</td>\n",
       "      <td>1.877280e+06</td>\n",
       "      <td>1.457055e+06</td>\n",
       "    </tr>\n",
       "    <tr>\n",
       "      <td>2</td>\n",
       "      <td>2017-03-03</td>\n",
       "      <td>2017</td>\n",
       "      <td>3</td>\n",
       "      <td>2017-03</td>\n",
       "      <td>3</td>\n",
       "      <td>5</td>\n",
       "      <td>False</td>\n",
       "      <td>-4.3</td>\n",
       "      <td>-8.1</td>\n",
       "      <td>-6.2</td>\n",
       "      <td>...</td>\n",
       "      <td>233488</td>\n",
       "      <td>104386</td>\n",
       "      <td>38029</td>\n",
       "      <td>58671</td>\n",
       "      <td>645929</td>\n",
       "      <td>1413668</td>\n",
       "      <td>False</td>\n",
       "      <td>1.513443e+06</td>\n",
       "      <td>1.722796e+06</td>\n",
       "      <td>1.304090e+06</td>\n",
       "    </tr>\n",
       "    <tr>\n",
       "      <td>3</td>\n",
       "      <td>2017-03-04</td>\n",
       "      <td>2017</td>\n",
       "      <td>3</td>\n",
       "      <td>2017-03</td>\n",
       "      <td>4</td>\n",
       "      <td>6</td>\n",
       "      <td>False</td>\n",
       "      <td>-6.5</td>\n",
       "      <td>-11.9</td>\n",
       "      <td>-9.2</td>\n",
       "      <td>...</td>\n",
       "      <td>87326</td>\n",
       "      <td>1518</td>\n",
       "      <td>0</td>\n",
       "      <td>1792</td>\n",
       "      <td>102982</td>\n",
       "      <td>262464</td>\n",
       "      <td>False</td>\n",
       "      <td>3.363528e+05</td>\n",
       "      <td>5.477078e+05</td>\n",
       "      <td>1.249978e+05</td>\n",
       "    </tr>\n",
       "    <tr>\n",
       "      <td>4</td>\n",
       "      <td>2017-03-05</td>\n",
       "      <td>2017</td>\n",
       "      <td>3</td>\n",
       "      <td>2017-03</td>\n",
       "      <td>5</td>\n",
       "      <td>7</td>\n",
       "      <td>False</td>\n",
       "      <td>-0.4</td>\n",
       "      <td>-10.6</td>\n",
       "      <td>-5.5</td>\n",
       "      <td>...</td>\n",
       "      <td>62331</td>\n",
       "      <td>1234</td>\n",
       "      <td>0</td>\n",
       "      <td>1135</td>\n",
       "      <td>62998</td>\n",
       "      <td>171582</td>\n",
       "      <td>False</td>\n",
       "      <td>2.407631e+05</td>\n",
       "      <td>3.932424e+05</td>\n",
       "      <td>8.828385e+04</td>\n",
       "    </tr>\n",
       "  </tbody>\n",
       "</table>\n",
       "<p>5 rows × 29 columns</p>\n",
       "</div>"
      ],
      "text/plain": [
       "        Date  Year  Month year_month  Day  Weekday  Holiday  Max Temp (°C)  \\\n",
       "0 2017-03-01  2017      3    2017-03    1        3    False           13.1   \n",
       "1 2017-03-02  2017      3    2017-03    2        4    False           -1.3   \n",
       "2 2017-03-03  2017      3    2017-03    3        5    False           -4.3   \n",
       "3 2017-03-04  2017      3    2017-03    4        6    False           -6.5   \n",
       "4 2017-03-05  2017      3    2017-03    5        7    False           -0.4   \n",
       "\n",
       "   Min Temp (°C)  Mean Temp (°C)  ...  Lakeshore West Ridership  \\\n",
       "0           -1.9             5.6  ...                    243965   \n",
       "1           -6.4            -3.9  ...                    251245   \n",
       "2           -8.1            -6.2  ...                    233488   \n",
       "3          -11.9            -9.2  ...                     87326   \n",
       "4          -10.6            -5.5  ...                     62331   \n",
       "\n",
       "   Milton Ridership  Richmond Hill Ridership  Stouffville Ridership  \\\n",
       "0            115524                    41759                  65258   \n",
       "1            115976                    41975                  64723   \n",
       "2            104386                    38029                  58671   \n",
       "3              1518                        0                   1792   \n",
       "4              1234                        0                   1135   \n",
       "\n",
       "   Union Station Ridership  Total GO Ridership  Outlier  Overall Mean  \\\n",
       "0                   709669             1538388    False  1.684403e+06   \n",
       "1                   710233             1550282    False  1.667167e+06   \n",
       "2                   645929             1413668    False  1.513443e+06   \n",
       "3                   102982              262464    False  3.363528e+05   \n",
       "4                    62998              171582    False  2.407631e+05   \n",
       "\n",
       "      2SD_above     2SD_below  \n",
       "0  1.885102e+06  1.483705e+06  \n",
       "1  1.877280e+06  1.457055e+06  \n",
       "2  1.722796e+06  1.304090e+06  \n",
       "3  5.477078e+05  1.249978e+05  \n",
       "4  3.932424e+05  8.828385e+04  \n",
       "\n",
       "[5 rows x 29 columns]"
      ]
     },
     "execution_count": 15,
     "metadata": {},
     "output_type": "execute_result"
    }
   ],
   "source": [
    "# Convert weekdays into integers\n",
    "\n",
    "weekday = {'Monday':1 , 'Tuesday':2 , 'Wednesday':3, 'Thursday':4, 'Friday':5, 'Saturday':6, 'Sunday':7}\n",
    "data.Weekday = [weekday[item] for item in data.Weekday]\n",
    "data.head()"
   ]
  },
  {
   "cell_type": "markdown",
   "metadata": {},
   "source": [
    "Let's plot our data points on a graph. Here again will take a look specifically at Union Station, a central station in Toronto."
   ]
  },
  {
   "cell_type": "code",
   "execution_count": 16,
   "metadata": {},
   "outputs": [
    {
     "data": {
      "text/plain": [
       "<seaborn.axisgrid.FacetGrid at 0x1a230f2990>"
      ]
     },
     "execution_count": 16,
     "metadata": {},
     "output_type": "execute_result"
    },
    {
     "data": {
      "image/png": "[encoded data removed]",
      "text/plain": [
       "<Figure size 421.375x360 with 1 Axes>"
      ]
     },
     "metadata": {
      "needs_background": "light"
     },
     "output_type": "display_data"
    }
   ],
   "source": [
    "sns.relplot(x='Weekday',y='Union Station Ridership', data=data,hue='Year',palette='Paired')"
   ]
  },
  {
   "cell_type": "markdown",
   "metadata": {},
   "source": [
    "Let's check our average Riderships for Union Station. "
   ]
  },
  {
   "cell_type": "code",
   "execution_count": 17,
   "metadata": {},
   "outputs": [
    {
     "data": {
      "text/plain": [
       "<matplotlib.axes._subplots.AxesSubplot at 0x1a23c0c410>"
      ]
     },
     "execution_count": 17,
     "metadata": {},
     "output_type": "execute_result"
    },
    {
     "data": {
      "image/png": "[encoded data removed]",
      "text/plain": [
       "<Figure size 360x216 with 1 Axes>"
      ]
     },
     "metadata": {
      "needs_background": "light"
     },
     "output_type": "display_data"
    }
   ],
   "source": [
    "plt.figure(figsize=(5,3))\n",
    "plt.tight_layout()\n",
    "sns.distplot(data['Union Station Ridership'])"
   ]
  },
  {
   "cell_type": "code",
   "execution_count": 19,
   "metadata": {},
   "outputs": [],
   "source": [
    "# Now let's divide the data into attributes ('Weekday') and labels ('Union Station Riderships').\n",
    "\n",
    "X=data['Weekday'].values.reshape(-1,1)\n",
    "y=data['Union Station Ridership'].values.reshape(-1,1)"
   ]
  },
  {
   "cell_type": "code",
   "execution_count": 20,
   "metadata": {},
   "outputs": [],
   "source": [
    "#Split the data to 20% of the data to test set.\n",
    "\n",
    "X_train, X_test, y_train, y_test = train_test_split(X, y, test_size=0.2, random_state=0)"
   ]
  },
  {
   "cell_type": "code",
   "execution_count": 21,
   "metadata": {},
   "outputs": [
    {
     "data": {
      "text/plain": [
       "LinearRegression(copy_X=True, fit_intercept=True, n_jobs=None, normalize=False)"
      ]
     },
     "execution_count": 21,
     "metadata": {},
     "output_type": "execute_result"
    }
   ],
   "source": [
    "# Train the algorithm\n",
    "\n",
    "regressor = LinearRegression()  \n",
    "regressor.fit(X_train, y_train) #training the algorithm"
   ]
  },
  {
   "cell_type": "code",
   "execution_count": 22,
   "metadata": {},
   "outputs": [
    {
     "name": "stdout",
     "output_type": "stream",
     "text": [
      "[1050212.44404898]\n",
      "[[-122555.76497414]]\n"
     ]
    }
   ],
   "source": [
    "#To retrieve the intercept:\n",
    "print(regressor.intercept_)\n",
    "\n",
    "#For retrieving the slope:\n",
    "print(regressor.coef_)"
   ]
  },
  {
   "cell_type": "code",
   "execution_count": 23,
   "metadata": {},
   "outputs": [],
   "source": [
    "y_pred = regressor.predict(X_test)"
   ]
  },
  {
   "cell_type": "code",
   "execution_count": 24,
   "metadata": {},
   "outputs": [
    {
     "data": {
      "text/html": [
       "<div>\n",
       "<style scoped>\n",
       "    .dataframe tbody tr th:only-of-type {\n",
       "        vertical-align: middle;\n",
       "    }\n",
       "\n",
       "    .dataframe tbody tr th {\n",
       "        vertical-align: top;\n",
       "    }\n",
       "\n",
       "    .dataframe thead th {\n",
       "        text-align: right;\n",
       "    }\n",
       "</style>\n",
       "<table border=\"1\" class=\"dataframe\">\n",
       "  <thead>\n",
       "    <tr style=\"text-align: right;\">\n",
       "      <th></th>\n",
       "      <th>Actual</th>\n",
       "      <th>Predicted</th>\n",
       "    </tr>\n",
       "  </thead>\n",
       "  <tbody>\n",
       "    <tr>\n",
       "      <td>0</td>\n",
       "      <td>796254</td>\n",
       "      <td>805101.0</td>\n",
       "    </tr>\n",
       "    <tr>\n",
       "      <td>1</td>\n",
       "      <td>744960</td>\n",
       "      <td>559989.0</td>\n",
       "    </tr>\n",
       "    <tr>\n",
       "      <td>2</td>\n",
       "      <td>715057</td>\n",
       "      <td>805101.0</td>\n",
       "    </tr>\n",
       "    <tr>\n",
       "      <td>3</td>\n",
       "      <td>709744</td>\n",
       "      <td>805101.0</td>\n",
       "    </tr>\n",
       "    <tr>\n",
       "      <td>4</td>\n",
       "      <td>806557</td>\n",
       "      <td>805101.0</td>\n",
       "    </tr>\n",
       "    <tr>\n",
       "      <td>...</td>\n",
       "      <td>...</td>\n",
       "      <td>...</td>\n",
       "    </tr>\n",
       "    <tr>\n",
       "      <td>194</td>\n",
       "      <td>727884</td>\n",
       "      <td>559989.0</td>\n",
       "    </tr>\n",
       "    <tr>\n",
       "      <td>195</td>\n",
       "      <td>726795</td>\n",
       "      <td>805101.0</td>\n",
       "    </tr>\n",
       "    <tr>\n",
       "      <td>196</td>\n",
       "      <td>731299</td>\n",
       "      <td>437434.0</td>\n",
       "    </tr>\n",
       "    <tr>\n",
       "      <td>197</td>\n",
       "      <td>751670</td>\n",
       "      <td>559989.0</td>\n",
       "    </tr>\n",
       "    <tr>\n",
       "      <td>198</td>\n",
       "      <td>63077</td>\n",
       "      <td>192322.0</td>\n",
       "    </tr>\n",
       "  </tbody>\n",
       "</table>\n",
       "<p>199 rows × 2 columns</p>\n",
       "</div>"
      ],
      "text/plain": [
       "     Actual  Predicted\n",
       "0    796254   805101.0\n",
       "1    744960   559989.0\n",
       "2    715057   805101.0\n",
       "3    709744   805101.0\n",
       "4    806557   805101.0\n",
       "..      ...        ...\n",
       "194  727884   559989.0\n",
       "195  726795   805101.0\n",
       "196  731299   437434.0\n",
       "197  751670   559989.0\n",
       "198   63077   192322.0\n",
       "\n",
       "[199 rows x 2 columns]"
      ]
     },
     "execution_count": 24,
     "metadata": {},
     "output_type": "execute_result"
    }
   ],
   "source": [
    "# Let's use our test data and see how accurately our algorithm predicts the percentage score.\n",
    "\n",
    "df = pd.DataFrame({'Actual': y_test.flatten(), 'Predicted': y_pred.flatten()}).round()\n",
    "df"
   ]
  },
  {
   "cell_type": "code",
   "execution_count": 25,
   "metadata": {},
   "outputs": [
    {
     "data": {
      "image/png": "[encoded data removed]",
      "text/plain": [
       "<Figure size 936x576 with 1 Axes>"
      ]
     },
     "metadata": {
      "needs_background": "light"
     },
     "output_type": "display_data"
    }
   ],
   "source": [
    "# Let's plot our results \n",
    "\n",
    "\n",
    "df1 = df.head(15)\n",
    "df1.plot(kind='bar',figsize=(13,8))\n",
    "plt.grid(which='major', linestyle='-', linewidth='0.5', color='green')\n",
    "plt.grid(which='minor', linestyle=':', linewidth='0.5', color='black')\n",
    "plt.show()"
   ]
  },
  {
   "cell_type": "markdown",
   "metadata": {},
   "source": [
    "### Our initial thought was that by removing the outliers and expanding the data frame to cover the whole year would lead to a more precise predictive model. \n",
    "### After running the analysis, the model studied in part 2 seems more accurate."
   ]
  }
 ],
 "metadata": {
  "kernelspec": {
   "display_name": "Python 3",
   "language": "python",
   "name": "python3"
  },
  "language_info": {
   "codemirror_mode": {
    "name": "ipython",
    "version": 3
   },
   "file_extension": ".py",
   "mimetype": "text/x-python",
   "name": "python",
   "nbconvert_exporter": "python",
   "pygments_lexer": "ipython3",
   "version": "3.7.4"
  }
 },
 "nbformat": 4,
 "nbformat_minor": 2
}
