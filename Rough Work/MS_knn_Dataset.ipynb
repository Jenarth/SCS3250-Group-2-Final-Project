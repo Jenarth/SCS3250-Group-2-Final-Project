{
  "nbformat": 4,
  "nbformat_minor": 0,
  "metadata": {
    "colab": {
      "name": "Final Dataset.ipynb",
      "provenance": [],
      "include_colab_link": true
    },
    "kernelspec": {
      "name": "python3",
      "display_name": "Python 3"
    }
  },
  "cells": [
    {
      "cell_type": "markdown",
      "metadata": {
        "id": "view-in-github",
        "colab_type": "text"
      },
      "source": [
        "<a href=\"https://colab.research.google.com/github/Jenarth/SCS3250-Group-2-Final-Project/blob/master/Rough%20Work/MS_knn_Dataset.ipynb\" target=\"_parent\"><img src=\"https://colab.research.google.com/assets/colab-badge.svg\" alt=\"Open In Colab\"/></a>"
      ]
    },
    {
      "cell_type": "code",
      "metadata": {
        "id": "-t3WZ8ANF7zY",
        "colab_type": "code",
        "colab": {}
      },
      "source": [
        "import pandas as pd\n",
        "import numpy as np\n",
        "from datetime import datetime\n",
        "import calendar\n",
        "import holidays\n",
        "import matplotlib.pyplot as plt\n",
        "\n",
        "dataset = pd.read_csv(\"https://github.com/Jenarth/SCS3250-Group-2-Final-Project/raw/master/Final%20Dataset.csv\")"
      ],
      "execution_count": 0,
      "outputs": []
    },
    {
      "cell_type": "code",
      "metadata": {
        "id": "hlS0yLGhz_G-",
        "colab_type": "code",
        "outputId": "521f36b6-493e-4192-aba3-7a856dfd9297",
        "colab": {
          "base_uri": "https://localhost:8080/",
          "height": 360
        }
      },
      "source": [
        "#create bins for union ridership\n",
        "ridership_bins = [0,10000,20000,30000,40000,50000,60000,70000,80000,90000,100000,110000,120000,130000,140000,150000,160000] #try with smaller bins\n",
        "ridership_labels = ['0 to 10000','10000 to 20000','20000 to 30000','30000 to 40000','40000 to 50000','50000 to 60000','60000 to 70000','70000 to 80000','80000 to 90000','90000 to 100000','100000 to 110000','110000 to 120000','120000 to 130000','130000 to 140000','140000 to 150000','150000 to 160000']\n",
        "dataset['Union Station Ridership Ranges'] = pd.cut(dataset['Union Station Ridership'], bins=ridership_bins, labels=ridership_labels)\n",
        "dataset.head()"
      ],
      "execution_count": 2,
      "outputs": [
        {
          "output_type": "execute_result",
          "data": {
            "text/html": [
              "<div>\n",
              "<style scoped>\n",
              "    .dataframe tbody tr th:only-of-type {\n",
              "        vertical-align: middle;\n",
              "    }\n",
              "\n",
              "    .dataframe tbody tr th {\n",
              "        vertical-align: top;\n",
              "    }\n",
              "\n",
              "    .dataframe thead th {\n",
              "        text-align: right;\n",
              "    }\n",
              "</style>\n",
              "<table border=\"1\" class=\"dataframe\">\n",
              "  <thead>\n",
              "    <tr style=\"text-align: right;\">\n",
              "      <th></th>\n",
              "      <th>Date</th>\n",
              "      <th>Year</th>\n",
              "      <th>Month</th>\n",
              "      <th>year_month</th>\n",
              "      <th>Day</th>\n",
              "      <th>Weekday</th>\n",
              "      <th>Holiday</th>\n",
              "      <th>Max Temp (°C)</th>\n",
              "      <th>Min Temp (°C)</th>\n",
              "      <th>Mean Temp (°C)</th>\n",
              "      <th>Monthly Mean Temp (°C)</th>\n",
              "      <th>Delta Temp (°C)</th>\n",
              "      <th>Total Precip (mm)</th>\n",
              "      <th>Monthly Mean Precip (mm)</th>\n",
              "      <th>Delta Precip (mm)</th>\n",
              "      <th>Snow on Grnd (cm)</th>\n",
              "      <th>Barrie Ridership</th>\n",
              "      <th>Kitchener Ridership</th>\n",
              "      <th>Lakeshore East Ridership</th>\n",
              "      <th>Lakeshore West Ridership</th>\n",
              "      <th>Milton Ridership</th>\n",
              "      <th>Richmond Hill Ridership</th>\n",
              "      <th>Stouffville Ridership</th>\n",
              "      <th>Union Station Ridership</th>\n",
              "      <th>Total GO Ridership</th>\n",
              "      <th>Outlier</th>\n",
              "      <th>Overall Mean</th>\n",
              "      <th>2SD_above</th>\n",
              "      <th>2SD_below</th>\n",
              "      <th>Union Station Ridership Ranges</th>\n",
              "    </tr>\n",
              "  </thead>\n",
              "  <tbody>\n",
              "    <tr>\n",
              "      <th>0</th>\n",
              "      <td>2017-03-01</td>\n",
              "      <td>2017</td>\n",
              "      <td>3</td>\n",
              "      <td>2017-03</td>\n",
              "      <td>1</td>\n",
              "      <td>Wednesday</td>\n",
              "      <td>False</td>\n",
              "      <td>13.1</td>\n",
              "      <td>-1.9</td>\n",
              "      <td>5.6</td>\n",
              "      <td>-0.251613</td>\n",
              "      <td>5.851613</td>\n",
              "      <td>18.4</td>\n",
              "      <td>2.335484</td>\n",
              "      <td>16.064516</td>\n",
              "      <td>0.0</td>\n",
              "      <td>10022</td>\n",
              "      <td>13585</td>\n",
              "      <td>25273</td>\n",
              "      <td>32909</td>\n",
              "      <td>15599</td>\n",
              "      <td>5639</td>\n",
              "      <td>8804</td>\n",
              "      <td>95802</td>\n",
              "      <td>207633</td>\n",
              "      <td>False</td>\n",
              "      <td>227296.503311</td>\n",
              "      <td>254365.810172</td>\n",
              "      <td>200227.196451</td>\n",
              "      <td>90000 to 100000</td>\n",
              "    </tr>\n",
              "    <tr>\n",
              "      <th>1</th>\n",
              "      <td>2017-03-02</td>\n",
              "      <td>2017</td>\n",
              "      <td>3</td>\n",
              "      <td>2017-03</td>\n",
              "      <td>2</td>\n",
              "      <td>Thursday</td>\n",
              "      <td>False</td>\n",
              "      <td>-1.3</td>\n",
              "      <td>-6.4</td>\n",
              "      <td>-3.9</td>\n",
              "      <td>-0.251613</td>\n",
              "      <td>-3.648387</td>\n",
              "      <td>0.2</td>\n",
              "      <td>2.335484</td>\n",
              "      <td>-2.135484</td>\n",
              "      <td>0.5</td>\n",
              "      <td>9932</td>\n",
              "      <td>13331</td>\n",
              "      <td>26120</td>\n",
              "      <td>33884</td>\n",
              "      <td>15653</td>\n",
              "      <td>5665</td>\n",
              "      <td>8736</td>\n",
              "      <td>95873</td>\n",
              "      <td>209194</td>\n",
              "      <td>False</td>\n",
              "      <td>224966.615894</td>\n",
              "      <td>253295.696280</td>\n",
              "      <td>196637.535508</td>\n",
              "      <td>90000 to 100000</td>\n",
              "    </tr>\n",
              "    <tr>\n",
              "      <th>2</th>\n",
              "      <td>2017-03-03</td>\n",
              "      <td>2017</td>\n",
              "      <td>3</td>\n",
              "      <td>2017-03</td>\n",
              "      <td>3</td>\n",
              "      <td>Friday</td>\n",
              "      <td>False</td>\n",
              "      <td>-4.3</td>\n",
              "      <td>-8.1</td>\n",
              "      <td>-6.2</td>\n",
              "      <td>-0.251613</td>\n",
              "      <td>-5.948387</td>\n",
              "      <td>0.0</td>\n",
              "      <td>2.335484</td>\n",
              "      <td>-2.335484</td>\n",
              "      <td>0.5</td>\n",
              "      <td>8905</td>\n",
              "      <td>12235</td>\n",
              "      <td>23801</td>\n",
              "      <td>31473</td>\n",
              "      <td>14092</td>\n",
              "      <td>5129</td>\n",
              "      <td>7918</td>\n",
              "      <td>87200</td>\n",
              "      <td>190753</td>\n",
              "      <td>False</td>\n",
              "      <td>204211.905405</td>\n",
              "      <td>232457.905320</td>\n",
              "      <td>175965.905490</td>\n",
              "      <td>80000 to 90000</td>\n",
              "    </tr>\n",
              "    <tr>\n",
              "      <th>3</th>\n",
              "      <td>2017-03-04</td>\n",
              "      <td>2017</td>\n",
              "      <td>3</td>\n",
              "      <td>2017-03</td>\n",
              "      <td>4</td>\n",
              "      <td>Saturday</td>\n",
              "      <td>False</td>\n",
              "      <td>-6.5</td>\n",
              "      <td>-11.9</td>\n",
              "      <td>-9.2</td>\n",
              "      <td>-0.251613</td>\n",
              "      <td>-8.948387</td>\n",
              "      <td>0.2</td>\n",
              "      <td>2.335484</td>\n",
              "      <td>-2.135484</td>\n",
              "      <td>0.5</td>\n",
              "      <td>928</td>\n",
              "      <td>480</td>\n",
              "      <td>7872</td>\n",
              "      <td>11756</td>\n",
              "      <td>208</td>\n",
              "      <td>0</td>\n",
              "      <td>246</td>\n",
              "      <td>13899</td>\n",
              "      <td>35389</td>\n",
              "      <td>False</td>\n",
              "      <td>45352.333333</td>\n",
              "      <td>73886.656469</td>\n",
              "      <td>16818.010198</td>\n",
              "      <td>10000 to 20000</td>\n",
              "    </tr>\n",
              "    <tr>\n",
              "      <th>4</th>\n",
              "      <td>2017-03-05</td>\n",
              "      <td>2017</td>\n",
              "      <td>3</td>\n",
              "      <td>2017-03</td>\n",
              "      <td>5</td>\n",
              "      <td>Sunday</td>\n",
              "      <td>False</td>\n",
              "      <td>-0.4</td>\n",
              "      <td>-10.6</td>\n",
              "      <td>-5.5</td>\n",
              "      <td>-0.251613</td>\n",
              "      <td>-5.248387</td>\n",
              "      <td>0.0</td>\n",
              "      <td>2.335484</td>\n",
              "      <td>-2.335484</td>\n",
              "      <td>0.5</td>\n",
              "      <td>803</td>\n",
              "      <td>398</td>\n",
              "      <td>4714</td>\n",
              "      <td>8381</td>\n",
              "      <td>169</td>\n",
              "      <td>0</td>\n",
              "      <td>156</td>\n",
              "      <td>8505</td>\n",
              "      <td>23126</td>\n",
              "      <td>False</td>\n",
              "      <td>32455.370861</td>\n",
              "      <td>53039.519234</td>\n",
              "      <td>11871.222488</td>\n",
              "      <td>0 to 10000</td>\n",
              "    </tr>\n",
              "  </tbody>\n",
              "</table>\n",
              "</div>"
            ],
            "text/plain": [
              "         Date  Year  ...      2SD_below Union Station Ridership Ranges\n",
              "0  2017-03-01  2017  ...  200227.196451                90000 to 100000\n",
              "1  2017-03-02  2017  ...  196637.535508                90000 to 100000\n",
              "2  2017-03-03  2017  ...  175965.905490                 80000 to 90000\n",
              "3  2017-03-04  2017  ...   16818.010198                 10000 to 20000\n",
              "4  2017-03-05  2017  ...   11871.222488                     0 to 10000\n",
              "\n",
              "[5 rows x 30 columns]"
            ]
          },
          "metadata": {
            "tags": []
          },
          "execution_count": 2
        }
      ]
    },
    {
      "cell_type": "code",
      "metadata": {
        "id": "H7b1lARr66Ar",
        "colab_type": "code",
        "outputId": "fc13a140-8db5-41b9-f6ab-183723637b00",
        "colab": {
          "base_uri": "https://localhost:8080/",
          "height": 492
        }
      },
      "source": [
        "plt.style.use('ggplot')\n",
        "\n",
        "dataset[\"Union Station Ridership\"].plot(kind='hist', color='green', edgecolor='black', figsize=(10,7))\n",
        "plt.title('Union Station Ridership', size=24)\n",
        "plt.xlabel('Union Station Ridership', size=18)\n",
        "plt.ylabel('Frequency', size=18)"
      ],
      "execution_count": 3,
      "outputs": [
        {
          "output_type": "execute_result",
          "data": {
            "text/plain": [
              "Text(0, 0.5, 'Frequency')"
            ]
          },
          "metadata": {
            "tags": []
          },
          "execution_count": 3
        },
        {
          "output_type": "display_data",
          "data": {
            "image/png": "[encoded data removed]",
            "text/plain": [
              "<Figure size 720x504 with 1 Axes>"
            ]
          },
          "metadata": {
            "tags": []
          }
        }
      ]
    },
    {
      "cell_type": "code",
      "metadata": {
        "id": "TFC6lnVl8ULC",
        "colab_type": "code",
        "outputId": "3e53fbe9-fc30-4fdb-cc70-6072fc729573",
        "colab": {
          "base_uri": "https://localhost:8080/",
          "height": 492
        }
      },
      "source": [
        "dataset[\"Delta Temp (°C)\"].plot(kind='hist', color='blue', edgecolor='black', figsize=(10,7))\n",
        "plt.title('Delta Temp (°C)', size=24)\n",
        "plt.xlabel('Delta Temp (°C)', size=18)\n",
        "plt.ylabel('Frequency', size=18)"
      ],
      "execution_count": 4,
      "outputs": [
        {
          "output_type": "execute_result",
          "data": {
            "text/plain": [
              "Text(0, 0.5, 'Frequency')"
            ]
          },
          "metadata": {
            "tags": []
          },
          "execution_count": 4
        },
        {
          "output_type": "display_data",
          "data": {
            "image/png": "[encoded data removed]",
            "text/plain": [
              "<Figure size 720x504 with 1 Axes>"
            ]
          },
          "metadata": {
            "tags": []
          }
        }
      ]
    },
    {
      "cell_type": "code",
      "metadata": {
        "id": "aueyJ2gd8ZL_",
        "colab_type": "code",
        "outputId": "adacb7d9-af11-49a6-e683-e88f6e928cd3",
        "colab": {
          "base_uri": "https://localhost:8080/",
          "height": 492
        }
      },
      "source": [
        "dataset[\"Delta Precip (mm)\"].plot(kind='hist', color='purple', edgecolor='black', figsize=(10,7))\n",
        "plt.title('Delta Precip (mm)', size=24)\n",
        "plt.xlabel('Delta Precip (mm)', size=18)\n",
        "plt.ylabel('Frequency', size=18)"
      ],
      "execution_count": 5,
      "outputs": [
        {
          "output_type": "execute_result",
          "data": {
            "text/plain": [
              "Text(0, 0.5, 'Frequency')"
            ]
          },
          "metadata": {
            "tags": []
          },
          "execution_count": 5
        },
        {
          "output_type": "display_data",
          "data": {
            "image/png": "[encoded data removed]",
            "text/plain": [
              "<Figure size 720x504 with 1 Axes>"
            ]
          },
          "metadata": {
            "tags": []
          }
        }
      ]
    },
    {
      "cell_type": "code",
      "metadata": {
        "id": "U4RJFRja2nwZ",
        "colab_type": "code",
        "outputId": "70f49c13-bcb7-4c32-b08a-232f485e3187",
        "colab": {
          "base_uri": "https://localhost:8080/",
          "height": 660
        }
      },
      "source": [
        "#change weekdays to numbers\n",
        "\n",
        "def CategorizeByWeekday(x):\n",
        "    if x['Weekday']=='Sunday':\n",
        "      val = 1\n",
        "    elif x['Weekday']=='Monday':\n",
        "      val = 2\n",
        "    elif x['Weekday']=='Tuesday':\n",
        "      val = 3\n",
        "    elif x['Weekday']=='Wednesday':\n",
        "      val = 4\n",
        "    elif x['Weekday']=='Thursday':\n",
        "      val = 5\n",
        "    elif x['Weekday']=='Friday':\n",
        "      val = 6\n",
        "    elif x['Weekday']=='Saturday':\n",
        "      val = 7            \n",
        "    else:\n",
        "      val = \"None\"\n",
        "    return val\n",
        "\n",
        "dataset[\"Weekday\"] = dataset.apply(CategorizeByWeekday, axis = 1)\n",
        "\n",
        "dataset"
      ],
      "execution_count": 6,
      "outputs": [
        {
          "output_type": "execute_result",
          "data": {
            "text/html": [
              "<div>\n",
              "<style scoped>\n",
              "    .dataframe tbody tr th:only-of-type {\n",
              "        vertical-align: middle;\n",
              "    }\n",
              "\n",
              "    .dataframe tbody tr th {\n",
              "        vertical-align: top;\n",
              "    }\n",
              "\n",
              "    .dataframe thead th {\n",
              "        text-align: right;\n",
              "    }\n",
              "</style>\n",
              "<table border=\"1\" class=\"dataframe\">\n",
              "  <thead>\n",
              "    <tr style=\"text-align: right;\">\n",
              "      <th></th>\n",
              "      <th>Date</th>\n",
              "      <th>Year</th>\n",
              "      <th>Month</th>\n",
              "      <th>year_month</th>\n",
              "      <th>Day</th>\n",
              "      <th>Weekday</th>\n",
              "      <th>Holiday</th>\n",
              "      <th>Max Temp (°C)</th>\n",
              "      <th>Min Temp (°C)</th>\n",
              "      <th>Mean Temp (°C)</th>\n",
              "      <th>Monthly Mean Temp (°C)</th>\n",
              "      <th>Delta Temp (°C)</th>\n",
              "      <th>Total Precip (mm)</th>\n",
              "      <th>Monthly Mean Precip (mm)</th>\n",
              "      <th>Delta Precip (mm)</th>\n",
              "      <th>Snow on Grnd (cm)</th>\n",
              "      <th>Barrie Ridership</th>\n",
              "      <th>Kitchener Ridership</th>\n",
              "      <th>Lakeshore East Ridership</th>\n",
              "      <th>Lakeshore West Ridership</th>\n",
              "      <th>Milton Ridership</th>\n",
              "      <th>Richmond Hill Ridership</th>\n",
              "      <th>Stouffville Ridership</th>\n",
              "      <th>Union Station Ridership</th>\n",
              "      <th>Total GO Ridership</th>\n",
              "      <th>Outlier</th>\n",
              "      <th>Overall Mean</th>\n",
              "      <th>2SD_above</th>\n",
              "      <th>2SD_below</th>\n",
              "      <th>Union Station Ridership Ranges</th>\n",
              "    </tr>\n",
              "  </thead>\n",
              "  <tbody>\n",
              "    <tr>\n",
              "      <th>0</th>\n",
              "      <td>2017-03-01</td>\n",
              "      <td>2017</td>\n",
              "      <td>3</td>\n",
              "      <td>2017-03</td>\n",
              "      <td>1</td>\n",
              "      <td>4</td>\n",
              "      <td>False</td>\n",
              "      <td>13.1</td>\n",
              "      <td>-1.9</td>\n",
              "      <td>5.6</td>\n",
              "      <td>-0.251613</td>\n",
              "      <td>5.851613</td>\n",
              "      <td>18.4</td>\n",
              "      <td>2.335484</td>\n",
              "      <td>16.064516</td>\n",
              "      <td>0.0</td>\n",
              "      <td>10022</td>\n",
              "      <td>13585</td>\n",
              "      <td>25273</td>\n",
              "      <td>32909</td>\n",
              "      <td>15599</td>\n",
              "      <td>5639</td>\n",
              "      <td>8804</td>\n",
              "      <td>95802</td>\n",
              "      <td>207633</td>\n",
              "      <td>False</td>\n",
              "      <td>227296.503311</td>\n",
              "      <td>254365.810172</td>\n",
              "      <td>200227.196451</td>\n",
              "      <td>90000 to 100000</td>\n",
              "    </tr>\n",
              "    <tr>\n",
              "      <th>1</th>\n",
              "      <td>2017-03-02</td>\n",
              "      <td>2017</td>\n",
              "      <td>3</td>\n",
              "      <td>2017-03</td>\n",
              "      <td>2</td>\n",
              "      <td>5</td>\n",
              "      <td>False</td>\n",
              "      <td>-1.3</td>\n",
              "      <td>-6.4</td>\n",
              "      <td>-3.9</td>\n",
              "      <td>-0.251613</td>\n",
              "      <td>-3.648387</td>\n",
              "      <td>0.2</td>\n",
              "      <td>2.335484</td>\n",
              "      <td>-2.135484</td>\n",
              "      <td>0.5</td>\n",
              "      <td>9932</td>\n",
              "      <td>13331</td>\n",
              "      <td>26120</td>\n",
              "      <td>33884</td>\n",
              "      <td>15653</td>\n",
              "      <td>5665</td>\n",
              "      <td>8736</td>\n",
              "      <td>95873</td>\n",
              "      <td>209194</td>\n",
              "      <td>False</td>\n",
              "      <td>224966.615894</td>\n",
              "      <td>253295.696280</td>\n",
              "      <td>196637.535508</td>\n",
              "      <td>90000 to 100000</td>\n",
              "    </tr>\n",
              "    <tr>\n",
              "      <th>2</th>\n",
              "      <td>2017-03-03</td>\n",
              "      <td>2017</td>\n",
              "      <td>3</td>\n",
              "      <td>2017-03</td>\n",
              "      <td>3</td>\n",
              "      <td>6</td>\n",
              "      <td>False</td>\n",
              "      <td>-4.3</td>\n",
              "      <td>-8.1</td>\n",
              "      <td>-6.2</td>\n",
              "      <td>-0.251613</td>\n",
              "      <td>-5.948387</td>\n",
              "      <td>0.0</td>\n",
              "      <td>2.335484</td>\n",
              "      <td>-2.335484</td>\n",
              "      <td>0.5</td>\n",
              "      <td>8905</td>\n",
              "      <td>12235</td>\n",
              "      <td>23801</td>\n",
              "      <td>31473</td>\n",
              "      <td>14092</td>\n",
              "      <td>5129</td>\n",
              "      <td>7918</td>\n",
              "      <td>87200</td>\n",
              "      <td>190753</td>\n",
              "      <td>False</td>\n",
              "      <td>204211.905405</td>\n",
              "      <td>232457.905320</td>\n",
              "      <td>175965.905490</td>\n",
              "      <td>80000 to 90000</td>\n",
              "    </tr>\n",
              "    <tr>\n",
              "      <th>3</th>\n",
              "      <td>2017-03-04</td>\n",
              "      <td>2017</td>\n",
              "      <td>3</td>\n",
              "      <td>2017-03</td>\n",
              "      <td>4</td>\n",
              "      <td>7</td>\n",
              "      <td>False</td>\n",
              "      <td>-6.5</td>\n",
              "      <td>-11.9</td>\n",
              "      <td>-9.2</td>\n",
              "      <td>-0.251613</td>\n",
              "      <td>-8.948387</td>\n",
              "      <td>0.2</td>\n",
              "      <td>2.335484</td>\n",
              "      <td>-2.135484</td>\n",
              "      <td>0.5</td>\n",
              "      <td>928</td>\n",
              "      <td>480</td>\n",
              "      <td>7872</td>\n",
              "      <td>11756</td>\n",
              "      <td>208</td>\n",
              "      <td>0</td>\n",
              "      <td>246</td>\n",
              "      <td>13899</td>\n",
              "      <td>35389</td>\n",
              "      <td>False</td>\n",
              "      <td>45352.333333</td>\n",
              "      <td>73886.656469</td>\n",
              "      <td>16818.010198</td>\n",
              "      <td>10000 to 20000</td>\n",
              "    </tr>\n",
              "    <tr>\n",
              "      <th>4</th>\n",
              "      <td>2017-03-05</td>\n",
              "      <td>2017</td>\n",
              "      <td>3</td>\n",
              "      <td>2017-03</td>\n",
              "      <td>5</td>\n",
              "      <td>1</td>\n",
              "      <td>False</td>\n",
              "      <td>-0.4</td>\n",
              "      <td>-10.6</td>\n",
              "      <td>-5.5</td>\n",
              "      <td>-0.251613</td>\n",
              "      <td>-5.248387</td>\n",
              "      <td>0.0</td>\n",
              "      <td>2.335484</td>\n",
              "      <td>-2.335484</td>\n",
              "      <td>0.5</td>\n",
              "      <td>803</td>\n",
              "      <td>398</td>\n",
              "      <td>4714</td>\n",
              "      <td>8381</td>\n",
              "      <td>169</td>\n",
              "      <td>0</td>\n",
              "      <td>156</td>\n",
              "      <td>8505</td>\n",
              "      <td>23126</td>\n",
              "      <td>False</td>\n",
              "      <td>32455.370861</td>\n",
              "      <td>53039.519234</td>\n",
              "      <td>11871.222488</td>\n",
              "      <td>0 to 10000</td>\n",
              "    </tr>\n",
              "    <tr>\n",
              "      <th>...</th>\n",
              "      <td>...</td>\n",
              "      <td>...</td>\n",
              "      <td>...</td>\n",
              "      <td>...</td>\n",
              "      <td>...</td>\n",
              "      <td>...</td>\n",
              "      <td>...</td>\n",
              "      <td>...</td>\n",
              "      <td>...</td>\n",
              "      <td>...</td>\n",
              "      <td>...</td>\n",
              "      <td>...</td>\n",
              "      <td>...</td>\n",
              "      <td>...</td>\n",
              "      <td>...</td>\n",
              "      <td>...</td>\n",
              "      <td>...</td>\n",
              "      <td>...</td>\n",
              "      <td>...</td>\n",
              "      <td>...</td>\n",
              "      <td>...</td>\n",
              "      <td>...</td>\n",
              "      <td>...</td>\n",
              "      <td>...</td>\n",
              "      <td>...</td>\n",
              "      <td>...</td>\n",
              "      <td>...</td>\n",
              "      <td>...</td>\n",
              "      <td>...</td>\n",
              "      <td>...</td>\n",
              "    </tr>\n",
              "    <tr>\n",
              "      <th>1091</th>\n",
              "      <td>2020-02-25</td>\n",
              "      <td>2020</td>\n",
              "      <td>2</td>\n",
              "      <td>2020-02</td>\n",
              "      <td>25</td>\n",
              "      <td>3</td>\n",
              "      <td>False</td>\n",
              "      <td>5.6</td>\n",
              "      <td>1.7</td>\n",
              "      <td>3.7</td>\n",
              "      <td>-1.906897</td>\n",
              "      <td>5.606897</td>\n",
              "      <td>0.2</td>\n",
              "      <td>2.137931</td>\n",
              "      <td>-1.937931</td>\n",
              "      <td>0.0</td>\n",
              "      <td>13650</td>\n",
              "      <td>15097</td>\n",
              "      <td>29727</td>\n",
              "      <td>36973</td>\n",
              "      <td>17192</td>\n",
              "      <td>6865</td>\n",
              "      <td>10485</td>\n",
              "      <td>99431</td>\n",
              "      <td>229420</td>\n",
              "      <td>False</td>\n",
              "      <td>226142.086667</td>\n",
              "      <td>260553.155725</td>\n",
              "      <td>191731.017608</td>\n",
              "      <td>90000 to 100000</td>\n",
              "    </tr>\n",
              "    <tr>\n",
              "      <th>1092</th>\n",
              "      <td>2020-02-26</td>\n",
              "      <td>2020</td>\n",
              "      <td>2</td>\n",
              "      <td>2020-02</td>\n",
              "      <td>26</td>\n",
              "      <td>4</td>\n",
              "      <td>False</td>\n",
              "      <td>4.1</td>\n",
              "      <td>-3.2</td>\n",
              "      <td>0.4</td>\n",
              "      <td>-1.906897</td>\n",
              "      <td>2.306897</td>\n",
              "      <td>11.8</td>\n",
              "      <td>2.137931</td>\n",
              "      <td>9.662069</td>\n",
              "      <td>0.0</td>\n",
              "      <td>12596</td>\n",
              "      <td>13557</td>\n",
              "      <td>26690</td>\n",
              "      <td>33732</td>\n",
              "      <td>14331</td>\n",
              "      <td>6215</td>\n",
              "      <td>9749</td>\n",
              "      <td>98193</td>\n",
              "      <td>215063</td>\n",
              "      <td>False</td>\n",
              "      <td>227296.503311</td>\n",
              "      <td>254365.810172</td>\n",
              "      <td>200227.196451</td>\n",
              "      <td>90000 to 100000</td>\n",
              "    </tr>\n",
              "    <tr>\n",
              "      <th>1093</th>\n",
              "      <td>2020-02-27</td>\n",
              "      <td>2020</td>\n",
              "      <td>2</td>\n",
              "      <td>2020-02</td>\n",
              "      <td>27</td>\n",
              "      <td>5</td>\n",
              "      <td>False</td>\n",
              "      <td>-2.7</td>\n",
              "      <td>-5.3</td>\n",
              "      <td>-4.0</td>\n",
              "      <td>-1.906897</td>\n",
              "      <td>-2.093103</td>\n",
              "      <td>3.1</td>\n",
              "      <td>2.137931</td>\n",
              "      <td>0.962069</td>\n",
              "      <td>0.0</td>\n",
              "      <td>11349</td>\n",
              "      <td>13074</td>\n",
              "      <td>26818</td>\n",
              "      <td>34180</td>\n",
              "      <td>15281</td>\n",
              "      <td>5522</td>\n",
              "      <td>9151</td>\n",
              "      <td>94998</td>\n",
              "      <td>210373</td>\n",
              "      <td>False</td>\n",
              "      <td>224966.615894</td>\n",
              "      <td>253295.696280</td>\n",
              "      <td>196637.535508</td>\n",
              "      <td>90000 to 100000</td>\n",
              "    </tr>\n",
              "    <tr>\n",
              "      <th>1094</th>\n",
              "      <td>2020-02-28</td>\n",
              "      <td>2020</td>\n",
              "      <td>2</td>\n",
              "      <td>2020-02</td>\n",
              "      <td>28</td>\n",
              "      <td>6</td>\n",
              "      <td>False</td>\n",
              "      <td>-2.5</td>\n",
              "      <td>-9.4</td>\n",
              "      <td>-5.9</td>\n",
              "      <td>-1.906897</td>\n",
              "      <td>-3.993103</td>\n",
              "      <td>1.1</td>\n",
              "      <td>2.137931</td>\n",
              "      <td>-1.037931</td>\n",
              "      <td>0.0</td>\n",
              "      <td>11098</td>\n",
              "      <td>13008</td>\n",
              "      <td>27785</td>\n",
              "      <td>34263</td>\n",
              "      <td>14426</td>\n",
              "      <td>5629</td>\n",
              "      <td>8759</td>\n",
              "      <td>95108</td>\n",
              "      <td>210076</td>\n",
              "      <td>False</td>\n",
              "      <td>204211.905405</td>\n",
              "      <td>232457.905320</td>\n",
              "      <td>175965.905490</td>\n",
              "      <td>90000 to 100000</td>\n",
              "    </tr>\n",
              "    <tr>\n",
              "      <th>1095</th>\n",
              "      <td>2020-02-29</td>\n",
              "      <td>2020</td>\n",
              "      <td>2</td>\n",
              "      <td>2020-02</td>\n",
              "      <td>29</td>\n",
              "      <td>7</td>\n",
              "      <td>False</td>\n",
              "      <td>-3.2</td>\n",
              "      <td>-12.8</td>\n",
              "      <td>-8.0</td>\n",
              "      <td>-1.906897</td>\n",
              "      <td>-6.093103</td>\n",
              "      <td>1.2</td>\n",
              "      <td>2.137931</td>\n",
              "      <td>-0.937931</td>\n",
              "      <td>0.0</td>\n",
              "      <td>1791</td>\n",
              "      <td>134</td>\n",
              "      <td>7107</td>\n",
              "      <td>11161</td>\n",
              "      <td>74</td>\n",
              "      <td>0</td>\n",
              "      <td>675</td>\n",
              "      <td>13307</td>\n",
              "      <td>34249</td>\n",
              "      <td>False</td>\n",
              "      <td>45352.333333</td>\n",
              "      <td>73886.656469</td>\n",
              "      <td>16818.010198</td>\n",
              "      <td>10000 to 20000</td>\n",
              "    </tr>\n",
              "  </tbody>\n",
              "</table>\n",
              "<p>1096 rows × 30 columns</p>\n",
              "</div>"
            ],
            "text/plain": [
              "            Date  Year  ...      2SD_below Union Station Ridership Ranges\n",
              "0     2017-03-01  2017  ...  200227.196451                90000 to 100000\n",
              "1     2017-03-02  2017  ...  196637.535508                90000 to 100000\n",
              "2     2017-03-03  2017  ...  175965.905490                 80000 to 90000\n",
              "3     2017-03-04  2017  ...   16818.010198                 10000 to 20000\n",
              "4     2017-03-05  2017  ...   11871.222488                     0 to 10000\n",
              "...          ...   ...  ...            ...                            ...\n",
              "1091  2020-02-25  2020  ...  191731.017608                90000 to 100000\n",
              "1092  2020-02-26  2020  ...  200227.196451                90000 to 100000\n",
              "1093  2020-02-27  2020  ...  196637.535508                90000 to 100000\n",
              "1094  2020-02-28  2020  ...  175965.905490                90000 to 100000\n",
              "1095  2020-02-29  2020  ...   16818.010198                 10000 to 20000\n",
              "\n",
              "[1096 rows x 30 columns]"
            ]
          },
          "metadata": {
            "tags": []
          },
          "execution_count": 6
        }
      ]
    },
    {
      "cell_type": "code",
      "metadata": {
        "id": "YM3KyjaZ11_v",
        "colab_type": "code",
        "colab": {}
      },
      "source": [
        "#only keep values without outliers/holidays\n",
        "dataset_noOutliers  = dataset.loc[dataset[\"Holiday\"]==False]"
      ],
      "execution_count": 0,
      "outputs": []
    },
    {
      "cell_type": "code",
      "metadata": {
        "id": "3M4b3orh1iKF",
        "colab_type": "code",
        "outputId": "1bb6f9ae-1d4e-4920-9a12-4501a21c9e84",
        "colab": {
          "base_uri": "https://localhost:8080/",
          "height": 419
        }
      },
      "source": [
        "#create dataset for knn\n",
        "knn_dataset = dataset_noOutliers[[\"Date\",\"Month\",\"Weekday\",\"Delta Temp (°C)\",\"Delta Precip (mm)\",\"Union Station Ridership Ranges\"]].copy()\n",
        "knn_dataset"
      ],
      "execution_count": 8,
      "outputs": [
        {
          "output_type": "execute_result",
          "data": {
            "text/html": [
              "<div>\n",
              "<style scoped>\n",
              "    .dataframe tbody tr th:only-of-type {\n",
              "        vertical-align: middle;\n",
              "    }\n",
              "\n",
              "    .dataframe tbody tr th {\n",
              "        vertical-align: top;\n",
              "    }\n",
              "\n",
              "    .dataframe thead th {\n",
              "        text-align: right;\n",
              "    }\n",
              "</style>\n",
              "<table border=\"1\" class=\"dataframe\">\n",
              "  <thead>\n",
              "    <tr style=\"text-align: right;\">\n",
              "      <th></th>\n",
              "      <th>Date</th>\n",
              "      <th>Month</th>\n",
              "      <th>Weekday</th>\n",
              "      <th>Delta Temp (°C)</th>\n",
              "      <th>Delta Precip (mm)</th>\n",
              "      <th>Union Station Ridership Ranges</th>\n",
              "    </tr>\n",
              "  </thead>\n",
              "  <tbody>\n",
              "    <tr>\n",
              "      <th>0</th>\n",
              "      <td>2017-03-01</td>\n",
              "      <td>3</td>\n",
              "      <td>4</td>\n",
              "      <td>5.851613</td>\n",
              "      <td>16.064516</td>\n",
              "      <td>90000 to 100000</td>\n",
              "    </tr>\n",
              "    <tr>\n",
              "      <th>1</th>\n",
              "      <td>2017-03-02</td>\n",
              "      <td>3</td>\n",
              "      <td>5</td>\n",
              "      <td>-3.648387</td>\n",
              "      <td>-2.135484</td>\n",
              "      <td>90000 to 100000</td>\n",
              "    </tr>\n",
              "    <tr>\n",
              "      <th>2</th>\n",
              "      <td>2017-03-03</td>\n",
              "      <td>3</td>\n",
              "      <td>6</td>\n",
              "      <td>-5.948387</td>\n",
              "      <td>-2.335484</td>\n",
              "      <td>80000 to 90000</td>\n",
              "    </tr>\n",
              "    <tr>\n",
              "      <th>3</th>\n",
              "      <td>2017-03-04</td>\n",
              "      <td>3</td>\n",
              "      <td>7</td>\n",
              "      <td>-8.948387</td>\n",
              "      <td>-2.135484</td>\n",
              "      <td>10000 to 20000</td>\n",
              "    </tr>\n",
              "    <tr>\n",
              "      <th>4</th>\n",
              "      <td>2017-03-05</td>\n",
              "      <td>3</td>\n",
              "      <td>1</td>\n",
              "      <td>-5.248387</td>\n",
              "      <td>-2.335484</td>\n",
              "      <td>0 to 10000</td>\n",
              "    </tr>\n",
              "    <tr>\n",
              "      <th>...</th>\n",
              "      <td>...</td>\n",
              "      <td>...</td>\n",
              "      <td>...</td>\n",
              "      <td>...</td>\n",
              "      <td>...</td>\n",
              "      <td>...</td>\n",
              "    </tr>\n",
              "    <tr>\n",
              "      <th>1091</th>\n",
              "      <td>2020-02-25</td>\n",
              "      <td>2</td>\n",
              "      <td>3</td>\n",
              "      <td>5.606897</td>\n",
              "      <td>-1.937931</td>\n",
              "      <td>90000 to 100000</td>\n",
              "    </tr>\n",
              "    <tr>\n",
              "      <th>1092</th>\n",
              "      <td>2020-02-26</td>\n",
              "      <td>2</td>\n",
              "      <td>4</td>\n",
              "      <td>2.306897</td>\n",
              "      <td>9.662069</td>\n",
              "      <td>90000 to 100000</td>\n",
              "    </tr>\n",
              "    <tr>\n",
              "      <th>1093</th>\n",
              "      <td>2020-02-27</td>\n",
              "      <td>2</td>\n",
              "      <td>5</td>\n",
              "      <td>-2.093103</td>\n",
              "      <td>0.962069</td>\n",
              "      <td>90000 to 100000</td>\n",
              "    </tr>\n",
              "    <tr>\n",
              "      <th>1094</th>\n",
              "      <td>2020-02-28</td>\n",
              "      <td>2</td>\n",
              "      <td>6</td>\n",
              "      <td>-3.993103</td>\n",
              "      <td>-1.037931</td>\n",
              "      <td>90000 to 100000</td>\n",
              "    </tr>\n",
              "    <tr>\n",
              "      <th>1095</th>\n",
              "      <td>2020-02-29</td>\n",
              "      <td>2</td>\n",
              "      <td>7</td>\n",
              "      <td>-6.093103</td>\n",
              "      <td>-0.937931</td>\n",
              "      <td>10000 to 20000</td>\n",
              "    </tr>\n",
              "  </tbody>\n",
              "</table>\n",
              "<p>1064 rows × 6 columns</p>\n",
              "</div>"
            ],
            "text/plain": [
              "            Date  Month  ...  Delta Precip (mm)  Union Station Ridership Ranges\n",
              "0     2017-03-01      3  ...          16.064516                 90000 to 100000\n",
              "1     2017-03-02      3  ...          -2.135484                 90000 to 100000\n",
              "2     2017-03-03      3  ...          -2.335484                  80000 to 90000\n",
              "3     2017-03-04      3  ...          -2.135484                  10000 to 20000\n",
              "4     2017-03-05      3  ...          -2.335484                      0 to 10000\n",
              "...          ...    ...  ...                ...                             ...\n",
              "1091  2020-02-25      2  ...          -1.937931                 90000 to 100000\n",
              "1092  2020-02-26      2  ...           9.662069                 90000 to 100000\n",
              "1093  2020-02-27      2  ...           0.962069                 90000 to 100000\n",
              "1094  2020-02-28      2  ...          -1.037931                 90000 to 100000\n",
              "1095  2020-02-29      2  ...          -0.937931                  10000 to 20000\n",
              "\n",
              "[1064 rows x 6 columns]"
            ]
          },
          "metadata": {
            "tags": []
          },
          "execution_count": 8
        }
      ]
    },
    {
      "cell_type": "code",
      "metadata": {
        "id": "cShS0dtY2M9m",
        "colab_type": "code",
        "outputId": "77f2db66-dfb1-4c40-f01f-6f409e052676",
        "colab": {
          "base_uri": "https://localhost:8080/",
          "height": 238
        }
      },
      "source": [
        "#convert ridership to category\n",
        "knn_dataset[\"Union Station Ridership Ranges\"] = knn_dataset[\"Union Station Ridership Ranges\"].astype('category')\n",
        "knn_dataset.info()"
      ],
      "execution_count": 9,
      "outputs": [
        {
          "output_type": "stream",
          "text": [
            "<class 'pandas.core.frame.DataFrame'>\n",
            "Int64Index: 1064 entries, 0 to 1095\n",
            "Data columns (total 6 columns):\n",
            " #   Column                          Non-Null Count  Dtype   \n",
            "---  ------                          --------------  -----   \n",
            " 0   Date                            1064 non-null   object  \n",
            " 1   Month                           1064 non-null   int64   \n",
            " 2   Weekday                         1064 non-null   int64   \n",
            " 3   Delta Temp (°C)                 1064 non-null   float64 \n",
            " 4   Delta Precip (mm)               1064 non-null   float64 \n",
            " 5   Union Station Ridership Ranges  1064 non-null   category\n",
            "dtypes: category(1), float64(2), int64(2), object(1)\n",
            "memory usage: 51.7+ KB\n"
          ],
          "name": "stdout"
        }
      ]
    },
    {
      "cell_type": "markdown",
      "metadata": {
        "id": "VIFFJaCq348-",
        "colab_type": "text"
      },
      "source": [
        "### knn predict for June 2019"
      ]
    },
    {
      "cell_type": "code",
      "metadata": {
        "id": "2x7zd4ts3LqG",
        "colab_type": "code",
        "outputId": "9249fb3a-a3ac-4a41-8125-c9035e173110",
        "colab": {
          "base_uri": "https://localhost:8080/",
          "height": 34
        }
      },
      "source": [
        "X = knn_dataset[[\"Date\",\"Month\",\"Weekday\",\"Delta Temp (°C)\",\"Delta Precip (mm)\"]]\n",
        "X.shape"
      ],
      "execution_count": 10,
      "outputs": [
        {
          "output_type": "execute_result",
          "data": {
            "text/plain": [
              "(1064, 5)"
            ]
          },
          "metadata": {
            "tags": []
          },
          "execution_count": 10
        }
      ]
    },
    {
      "cell_type": "code",
      "metadata": {
        "id": "BFkNrQE83dVe",
        "colab_type": "code",
        "outputId": "d7e1bbd4-e8d4-44ea-984a-81235a334c83",
        "colab": {
          "base_uri": "https://localhost:8080/",
          "height": 521
        }
      },
      "source": [
        "#X.iloc[1:] = X.iloc[1:].astype(float)\n",
        "cols = ['Month', 'Weekday', 'Delta Temp (°C)', 'Delta Precip (mm)']\n",
        "for col in cols:\n",
        "   X[col] = X[col].apply(lambda x: float(x) if x == x else \"\")\n",
        "X"
      ],
      "execution_count": 11,
      "outputs": [
        {
          "output_type": "stream",
          "text": [
            "/usr/local/lib/python3.6/dist-packages/ipykernel_launcher.py:3: SettingWithCopyWarning: \n",
            "A value is trying to be set on a copy of a slice from a DataFrame.\n",
            "Try using .loc[row_indexer,col_indexer] = value instead\n",
            "\n",
            "See the caveats in the documentation: https://pandas.pydata.org/pandas-docs/stable/user_guide/indexing.html#returning-a-view-versus-a-copy\n",
            "  This is separate from the ipykernel package so we can avoid doing imports until\n"
          ],
          "name": "stderr"
        },
        {
          "output_type": "execute_result",
          "data": {
            "text/html": [
              "<div>\n",
              "<style scoped>\n",
              "    .dataframe tbody tr th:only-of-type {\n",
              "        vertical-align: middle;\n",
              "    }\n",
              "\n",
              "    .dataframe tbody tr th {\n",
              "        vertical-align: top;\n",
              "    }\n",
              "\n",
              "    .dataframe thead th {\n",
              "        text-align: right;\n",
              "    }\n",
              "</style>\n",
              "<table border=\"1\" class=\"dataframe\">\n",
              "  <thead>\n",
              "    <tr style=\"text-align: right;\">\n",
              "      <th></th>\n",
              "      <th>Date</th>\n",
              "      <th>Month</th>\n",
              "      <th>Weekday</th>\n",
              "      <th>Delta Temp (°C)</th>\n",
              "      <th>Delta Precip (mm)</th>\n",
              "    </tr>\n",
              "  </thead>\n",
              "  <tbody>\n",
              "    <tr>\n",
              "      <th>0</th>\n",
              "      <td>2017-03-01</td>\n",
              "      <td>3.0</td>\n",
              "      <td>4.0</td>\n",
              "      <td>5.851613</td>\n",
              "      <td>16.064516</td>\n",
              "    </tr>\n",
              "    <tr>\n",
              "      <th>1</th>\n",
              "      <td>2017-03-02</td>\n",
              "      <td>3.0</td>\n",
              "      <td>5.0</td>\n",
              "      <td>-3.648387</td>\n",
              "      <td>-2.135484</td>\n",
              "    </tr>\n",
              "    <tr>\n",
              "      <th>2</th>\n",
              "      <td>2017-03-03</td>\n",
              "      <td>3.0</td>\n",
              "      <td>6.0</td>\n",
              "      <td>-5.948387</td>\n",
              "      <td>-2.335484</td>\n",
              "    </tr>\n",
              "    <tr>\n",
              "      <th>3</th>\n",
              "      <td>2017-03-04</td>\n",
              "      <td>3.0</td>\n",
              "      <td>7.0</td>\n",
              "      <td>-8.948387</td>\n",
              "      <td>-2.135484</td>\n",
              "    </tr>\n",
              "    <tr>\n",
              "      <th>4</th>\n",
              "      <td>2017-03-05</td>\n",
              "      <td>3.0</td>\n",
              "      <td>1.0</td>\n",
              "      <td>-5.248387</td>\n",
              "      <td>-2.335484</td>\n",
              "    </tr>\n",
              "    <tr>\n",
              "      <th>...</th>\n",
              "      <td>...</td>\n",
              "      <td>...</td>\n",
              "      <td>...</td>\n",
              "      <td>...</td>\n",
              "      <td>...</td>\n",
              "    </tr>\n",
              "    <tr>\n",
              "      <th>1091</th>\n",
              "      <td>2020-02-25</td>\n",
              "      <td>2.0</td>\n",
              "      <td>3.0</td>\n",
              "      <td>5.606897</td>\n",
              "      <td>-1.937931</td>\n",
              "    </tr>\n",
              "    <tr>\n",
              "      <th>1092</th>\n",
              "      <td>2020-02-26</td>\n",
              "      <td>2.0</td>\n",
              "      <td>4.0</td>\n",
              "      <td>2.306897</td>\n",
              "      <td>9.662069</td>\n",
              "    </tr>\n",
              "    <tr>\n",
              "      <th>1093</th>\n",
              "      <td>2020-02-27</td>\n",
              "      <td>2.0</td>\n",
              "      <td>5.0</td>\n",
              "      <td>-2.093103</td>\n",
              "      <td>0.962069</td>\n",
              "    </tr>\n",
              "    <tr>\n",
              "      <th>1094</th>\n",
              "      <td>2020-02-28</td>\n",
              "      <td>2.0</td>\n",
              "      <td>6.0</td>\n",
              "      <td>-3.993103</td>\n",
              "      <td>-1.037931</td>\n",
              "    </tr>\n",
              "    <tr>\n",
              "      <th>1095</th>\n",
              "      <td>2020-02-29</td>\n",
              "      <td>2.0</td>\n",
              "      <td>7.0</td>\n",
              "      <td>-6.093103</td>\n",
              "      <td>-0.937931</td>\n",
              "    </tr>\n",
              "  </tbody>\n",
              "</table>\n",
              "<p>1064 rows × 5 columns</p>\n",
              "</div>"
            ],
            "text/plain": [
              "            Date  Month  Weekday  Delta Temp (°C)  Delta Precip (mm)\n",
              "0     2017-03-01    3.0      4.0         5.851613          16.064516\n",
              "1     2017-03-02    3.0      5.0        -3.648387          -2.135484\n",
              "2     2017-03-03    3.0      6.0        -5.948387          -2.335484\n",
              "3     2017-03-04    3.0      7.0        -8.948387          -2.135484\n",
              "4     2017-03-05    3.0      1.0        -5.248387          -2.335484\n",
              "...          ...    ...      ...              ...                ...\n",
              "1091  2020-02-25    2.0      3.0         5.606897          -1.937931\n",
              "1092  2020-02-26    2.0      4.0         2.306897           9.662069\n",
              "1093  2020-02-27    2.0      5.0        -2.093103           0.962069\n",
              "1094  2020-02-28    2.0      6.0        -3.993103          -1.037931\n",
              "1095  2020-02-29    2.0      7.0        -6.093103          -0.937931\n",
              "\n",
              "[1064 rows x 5 columns]"
            ]
          },
          "metadata": {
            "tags": []
          },
          "execution_count": 11
        }
      ]
    },
    {
      "cell_type": "code",
      "metadata": {
        "id": "wQsATegS5RYd",
        "colab_type": "code",
        "outputId": "b37707ca-7f16-4992-e1f4-8acea257c0df",
        "colab": {
          "base_uri": "https://localhost:8080/",
          "height": 34
        }
      },
      "source": [
        "y = knn_dataset[\"Union Station Ridership Ranges\"]\n",
        "y.shape"
      ],
      "execution_count": 12,
      "outputs": [
        {
          "output_type": "execute_result",
          "data": {
            "text/plain": [
              "(1064,)"
            ]
          },
          "metadata": {
            "tags": []
          },
          "execution_count": 12
        }
      ]
    },
    {
      "cell_type": "code",
      "metadata": {
        "id": "6AnTWV6Z5Svg",
        "colab_type": "code",
        "outputId": "e9ad227f-523f-4caa-d69a-cc4390990d4f",
        "colab": {
          "base_uri": "https://localhost:8080/",
          "height": 419
        }
      },
      "source": [
        "from sklearn.neighbors import KNeighborsClassifier\n",
        "from sklearn.metrics import accuracy_score\n",
        "#use June 2019 as test data\n",
        "\n",
        "X_train_1 = X.loc[(X['Date']>\"2017-03-01\") & (X['Date']<\"2019-06-01\")]\n",
        "X_train_2 = X.loc[(X['Date']>\"2019-06-30\") & (X['Date']<\"2020-03-01\")]\n",
        "X_train = pd.concat([X_train_1, X_train_2], ignore_index=True, sort =False)\n",
        "X_train.drop('Date', axis=1, inplace=True)\n",
        "X_train"
      ],
      "execution_count": 13,
      "outputs": [
        {
          "output_type": "execute_result",
          "data": {
            "text/html": [
              "<div>\n",
              "<style scoped>\n",
              "    .dataframe tbody tr th:only-of-type {\n",
              "        vertical-align: middle;\n",
              "    }\n",
              "\n",
              "    .dataframe tbody tr th {\n",
              "        vertical-align: top;\n",
              "    }\n",
              "\n",
              "    .dataframe thead th {\n",
              "        text-align: right;\n",
              "    }\n",
              "</style>\n",
              "<table border=\"1\" class=\"dataframe\">\n",
              "  <thead>\n",
              "    <tr style=\"text-align: right;\">\n",
              "      <th></th>\n",
              "      <th>Month</th>\n",
              "      <th>Weekday</th>\n",
              "      <th>Delta Temp (°C)</th>\n",
              "      <th>Delta Precip (mm)</th>\n",
              "    </tr>\n",
              "  </thead>\n",
              "  <tbody>\n",
              "    <tr>\n",
              "      <th>0</th>\n",
              "      <td>3.0</td>\n",
              "      <td>5.0</td>\n",
              "      <td>-3.648387</td>\n",
              "      <td>-2.135484</td>\n",
              "    </tr>\n",
              "    <tr>\n",
              "      <th>1</th>\n",
              "      <td>3.0</td>\n",
              "      <td>6.0</td>\n",
              "      <td>-5.948387</td>\n",
              "      <td>-2.335484</td>\n",
              "    </tr>\n",
              "    <tr>\n",
              "      <th>2</th>\n",
              "      <td>3.0</td>\n",
              "      <td>7.0</td>\n",
              "      <td>-8.948387</td>\n",
              "      <td>-2.135484</td>\n",
              "    </tr>\n",
              "    <tr>\n",
              "      <th>3</th>\n",
              "      <td>3.0</td>\n",
              "      <td>1.0</td>\n",
              "      <td>-5.248387</td>\n",
              "      <td>-2.335484</td>\n",
              "    </tr>\n",
              "    <tr>\n",
              "      <th>4</th>\n",
              "      <td>3.0</td>\n",
              "      <td>2.0</td>\n",
              "      <td>-9.548387</td>\n",
              "      <td>-2.335484</td>\n",
              "    </tr>\n",
              "    <tr>\n",
              "      <th>...</th>\n",
              "      <td>...</td>\n",
              "      <td>...</td>\n",
              "      <td>...</td>\n",
              "      <td>...</td>\n",
              "    </tr>\n",
              "    <tr>\n",
              "      <th>1028</th>\n",
              "      <td>2.0</td>\n",
              "      <td>3.0</td>\n",
              "      <td>5.606897</td>\n",
              "      <td>-1.937931</td>\n",
              "    </tr>\n",
              "    <tr>\n",
              "      <th>1029</th>\n",
              "      <td>2.0</td>\n",
              "      <td>4.0</td>\n",
              "      <td>2.306897</td>\n",
              "      <td>9.662069</td>\n",
              "    </tr>\n",
              "    <tr>\n",
              "      <th>1030</th>\n",
              "      <td>2.0</td>\n",
              "      <td>5.0</td>\n",
              "      <td>-2.093103</td>\n",
              "      <td>0.962069</td>\n",
              "    </tr>\n",
              "    <tr>\n",
              "      <th>1031</th>\n",
              "      <td>2.0</td>\n",
              "      <td>6.0</td>\n",
              "      <td>-3.993103</td>\n",
              "      <td>-1.037931</td>\n",
              "    </tr>\n",
              "    <tr>\n",
              "      <th>1032</th>\n",
              "      <td>2.0</td>\n",
              "      <td>7.0</td>\n",
              "      <td>-6.093103</td>\n",
              "      <td>-0.937931</td>\n",
              "    </tr>\n",
              "  </tbody>\n",
              "</table>\n",
              "<p>1033 rows × 4 columns</p>\n",
              "</div>"
            ],
            "text/plain": [
              "      Month  Weekday  Delta Temp (°C)  Delta Precip (mm)\n",
              "0       3.0      5.0        -3.648387          -2.135484\n",
              "1       3.0      6.0        -5.948387          -2.335484\n",
              "2       3.0      7.0        -8.948387          -2.135484\n",
              "3       3.0      1.0        -5.248387          -2.335484\n",
              "4       3.0      2.0        -9.548387          -2.335484\n",
              "...     ...      ...              ...                ...\n",
              "1028    2.0      3.0         5.606897          -1.937931\n",
              "1029    2.0      4.0         2.306897           9.662069\n",
              "1030    2.0      5.0        -2.093103           0.962069\n",
              "1031    2.0      6.0        -3.993103          -1.037931\n",
              "1032    2.0      7.0        -6.093103          -0.937931\n",
              "\n",
              "[1033 rows x 4 columns]"
            ]
          },
          "metadata": {
            "tags": []
          },
          "execution_count": 13
        }
      ]
    },
    {
      "cell_type": "code",
      "metadata": {
        "id": "qpeGi7tM5Y0b",
        "colab_type": "code",
        "outputId": "45e7728f-ae95-4373-ee3e-75d0c2eeb731",
        "colab": {
          "base_uri": "https://localhost:8080/",
          "height": 119
        }
      },
      "source": [
        "X_test = X.loc[(X['Date']>\"2019-05-31\") & (X['Date']<\"2019-07-01\")]\n",
        "X_test.drop('Date', axis=1, inplace=True)\n",
        "X_test.shape"
      ],
      "execution_count": 14,
      "outputs": [
        {
          "output_type": "stream",
          "text": [
            "/usr/local/lib/python3.6/dist-packages/pandas/core/frame.py:3997: SettingWithCopyWarning: \n",
            "A value is trying to be set on a copy of a slice from a DataFrame\n",
            "\n",
            "See the caveats in the documentation: https://pandas.pydata.org/pandas-docs/stable/user_guide/indexing.html#returning-a-view-versus-a-copy\n",
            "  errors=errors,\n"
          ],
          "name": "stderr"
        },
        {
          "output_type": "execute_result",
          "data": {
            "text/plain": [
              "(30, 4)"
            ]
          },
          "metadata": {
            "tags": []
          },
          "execution_count": 14
        }
      ]
    },
    {
      "cell_type": "code",
      "metadata": {
        "id": "SIyVjs5S5a4I",
        "colab_type": "code",
        "outputId": "44cd3cd5-42e2-4861-f098-272ed099c744",
        "colab": {
          "base_uri": "https://localhost:8080/",
          "height": 34
        }
      },
      "source": [
        "y_train_1 = y.loc[(X['Date']>\"2017-03-01\") & (X['Date']<\"2019-06-01\")]\n",
        "y_train_2 = y.loc[(X['Date']>\"2019-06-30\") & (X['Date']<\"2020-03-01\")]\n",
        "y_train = pd.concat([y_train_1, y_train_2], ignore_index=True, sort =False)\n",
        "y_train.shape"
      ],
      "execution_count": 15,
      "outputs": [
        {
          "output_type": "execute_result",
          "data": {
            "text/plain": [
              "(1033,)"
            ]
          },
          "metadata": {
            "tags": []
          },
          "execution_count": 15
        }
      ]
    },
    {
      "cell_type": "code",
      "metadata": {
        "id": "YDePwHtk5cw0",
        "colab_type": "code",
        "outputId": "21f89f65-b512-43fa-f8c9-2de7f77e512f",
        "colab": {
          "base_uri": "https://localhost:8080/",
          "height": 34
        }
      },
      "source": [
        "y_test = y.loc[(X['Date']>\"2019-05-31\") & (X['Date']<\"2019-07-01\")]\n",
        "y_test.shape"
      ],
      "execution_count": 16,
      "outputs": [
        {
          "output_type": "execute_result",
          "data": {
            "text/plain": [
              "(30,)"
            ]
          },
          "metadata": {
            "tags": []
          },
          "execution_count": 16
        }
      ]
    },
    {
      "cell_type": "code",
      "metadata": {
        "id": "ydAqTA7n5fo1",
        "colab_type": "code",
        "outputId": "89b699ff-80b1-4748-fe25-fdc8c3adf907",
        "colab": {
          "base_uri": "https://localhost:8080/",
          "height": 187
        }
      },
      "source": [
        "from sklearn.neighbors import KNeighborsClassifier\n",
        "from sklearn.metrics import accuracy_score\n",
        "knn = KNeighborsClassifier(n_neighbors=5)\n",
        "knn.fit(X_train,y_train)\n",
        "y_hat = knn.predict(X_test)\n",
        "y_hat"
      ],
      "execution_count": 17,
      "outputs": [
        {
          "output_type": "execute_result",
          "data": {
            "text/plain": [
              "array(['10000 to 20000', '10000 to 20000', '100000 to 110000',\n",
              "       '100000 to 110000', '80000 to 90000', '90000 to 100000',\n",
              "       '10000 to 20000', '10000 to 20000', '10000 to 20000', '0 to 10000',\n",
              "       '100000 to 110000', '90000 to 100000', '90000 to 100000',\n",
              "       '90000 to 100000', '10000 to 20000', '10000 to 20000',\n",
              "       '100000 to 110000', '100000 to 110000', '100000 to 110000',\n",
              "       '100000 to 110000', '80000 to 90000', '10000 to 20000',\n",
              "       '0 to 10000', '100000 to 110000', '100000 to 110000',\n",
              "       '100000 to 110000', '90000 to 100000', '100000 to 110000',\n",
              "       '10000 to 20000', '10000 to 20000'], dtype=object)"
            ]
          },
          "metadata": {
            "tags": []
          },
          "execution_count": 17
        }
      ]
    },
    {
      "cell_type": "code",
      "metadata": {
        "id": "r3igb-905gSw",
        "colab_type": "code",
        "outputId": "687b012b-3f7a-444c-e250-65b8ab1a5ad0",
        "colab": {
          "base_uri": "https://localhost:8080/",
          "height": 578
        }
      },
      "source": [
        "y_test"
      ],
      "execution_count": 18,
      "outputs": [
        {
          "output_type": "execute_result",
          "data": {
            "text/plain": [
              "822      10000 to 20000\n",
              "823      10000 to 20000\n",
              "824    100000 to 110000\n",
              "825    100000 to 110000\n",
              "826    100000 to 110000\n",
              "827    100000 to 110000\n",
              "828     90000 to 100000\n",
              "829      10000 to 20000\n",
              "830      10000 to 20000\n",
              "831    100000 to 110000\n",
              "832    100000 to 110000\n",
              "833    100000 to 110000\n",
              "834    100000 to 110000\n",
              "835     90000 to 100000\n",
              "836      10000 to 20000\n",
              "837      10000 to 20000\n",
              "838    140000 to 150000\n",
              "839    100000 to 110000\n",
              "840    100000 to 110000\n",
              "841    100000 to 110000\n",
              "842     90000 to 100000\n",
              "843      10000 to 20000\n",
              "844      10000 to 20000\n",
              "845    100000 to 110000\n",
              "846    100000 to 110000\n",
              "847    100000 to 110000\n",
              "848    100000 to 110000\n",
              "849      80000 to 90000\n",
              "850      10000 to 20000\n",
              "851      10000 to 20000\n",
              "Name: Union Station Ridership Ranges, dtype: category\n",
              "Categories (16, object): [0 to 10000 < 10000 to 20000 < 20000 to 30000 < 30000 to 40000 < ... <\n",
              "                          120000 to 130000 < 130000 to 140000 < 140000 to 150000 < 150000 to 160000]"
            ]
          },
          "metadata": {
            "tags": []
          },
          "execution_count": 18
        }
      ]
    },
    {
      "cell_type": "code",
      "metadata": {
        "id": "NrhSCjxO5lNg",
        "colab_type": "code",
        "outputId": "de37381c-6ba1-48d1-c25a-7838bb96acb0",
        "colab": {
          "base_uri": "https://localhost:8080/",
          "height": 34
        }
      },
      "source": [
        "accuracy_score(y_test,y_hat)"
      ],
      "execution_count": 19,
      "outputs": [
        {
          "output_type": "execute_result",
          "data": {
            "text/plain": [
              "0.6333333333333333"
            ]
          },
          "metadata": {
            "tags": []
          },
          "execution_count": 19
        }
      ]
    },
    {
      "cell_type": "code",
      "metadata": {
        "id": "U7UtOKOn59pF",
        "colab_type": "code",
        "outputId": "0c2b77e9-5cdf-4399-fcc1-2a978cd4db6d",
        "colab": {
          "base_uri": "https://localhost:8080/",
          "height": 204
        }
      },
      "source": [
        "neighbors = range(1,100)\n",
        "error = []\n",
        "score = []\n",
        "for i in neighbors:\n",
        "    knn = KNeighborsClassifier(n_neighbors=i)\n",
        "    knn.fit(X_train, y_train)\n",
        "    y_hat = knn.predict(X_test)\n",
        "    score.append(accuracy_score(y_test, y_hat))\n",
        "y_hat"
      ],
      "execution_count": 20,
      "outputs": [
        {
          "output_type": "execute_result",
          "data": {
            "text/plain": [
              "array(['90000 to 100000', '100000 to 110000', '100000 to 110000',\n",
              "       '100000 to 110000', '90000 to 100000', '100000 to 110000',\n",
              "       '100000 to 110000', '90000 to 100000', '90000 to 100000',\n",
              "       '100000 to 110000', '100000 to 110000', '100000 to 110000',\n",
              "       '100000 to 110000', '90000 to 100000', '90000 to 100000',\n",
              "       '100000 to 110000', '100000 to 110000', '100000 to 110000',\n",
              "       '90000 to 100000', '100000 to 110000', '100000 to 110000',\n",
              "       '10000 to 20000', '100000 to 110000', '100000 to 110000',\n",
              "       '100000 to 110000', '90000 to 100000', '90000 to 100000',\n",
              "       '100000 to 110000', '90000 to 100000', '90000 to 100000'],\n",
              "      dtype=object)"
            ]
          },
          "metadata": {
            "tags": []
          },
          "execution_count": 20
        }
      ]
    },
    {
      "cell_type": "code",
      "metadata": {
        "id": "1_4jo0WR6BSN",
        "colab_type": "code",
        "outputId": "90582918-e44a-4d7c-dacf-90b2f28f86d3",
        "colab": {
          "base_uri": "https://localhost:8080/",
          "height": 408
        }
      },
      "source": [
        "plt.figure(figsize=(12, 6))\n",
        "plt.plot(neighbors, score, color='red', linestyle='dashed', marker='o',\n",
        "         markerfacecolor='blue', markersize=10)\n",
        "plt.xlabel('K Value')\n",
        "plt.ylabel('Accuracy Score')"
      ],
      "execution_count": 21,
      "outputs": [
        {
          "output_type": "execute_result",
          "data": {
            "text/plain": [
              "Text(0, 0.5, 'Accuracy Score')"
            ]
          },
          "metadata": {
            "tags": []
          },
          "execution_count": 21
        },
        {
          "output_type": "display_data",
          "data": {
            "image/png": "[encoded data removed]",
            "text/plain": [
              "<Figure size 864x432 with 1 Axes>"
            ]
          },
          "metadata": {
            "tags": []
          }
        }
      ]
    },
    {
      "cell_type": "code",
      "metadata": {
        "id": "MJkDcJmx8pwC",
        "colab_type": "code",
        "outputId": "36f4bb77-de3e-45f0-9091-9c4ea0076763",
        "colab": {
          "base_uri": "https://localhost:8080/",
          "height": 34
        }
      },
      "source": [
        "knn = KNeighborsClassifier(n_neighbors=51) #best score\n",
        "knn.fit(X_train, y_train)\n",
        "y_hat = knn.predict(X_test)\n",
        "score = accuracy_score(y_test, y_hat)\n",
        "score"
      ],
      "execution_count": 22,
      "outputs": [
        {
          "output_type": "execute_result",
          "data": {
            "text/plain": [
              "0.5"
            ]
          },
          "metadata": {
            "tags": []
          },
          "execution_count": 22
        }
      ]
    },
    {
      "cell_type": "code",
      "metadata": {
        "id": "wZse4ddE9zQ1",
        "colab_type": "code",
        "outputId": "d348cb06-2327-435e-e7ee-e08317ae0220",
        "colab": {
          "base_uri": "https://localhost:8080/",
          "height": 360
        }
      },
      "source": [
        "dataset.head()"
      ],
      "execution_count": 23,
      "outputs": [
        {
          "output_type": "execute_result",
          "data": {
            "text/html": [
              "<div>\n",
              "<style scoped>\n",
              "    .dataframe tbody tr th:only-of-type {\n",
              "        vertical-align: middle;\n",
              "    }\n",
              "\n",
              "    .dataframe tbody tr th {\n",
              "        vertical-align: top;\n",
              "    }\n",
              "\n",
              "    .dataframe thead th {\n",
              "        text-align: right;\n",
              "    }\n",
              "</style>\n",
              "<table border=\"1\" class=\"dataframe\">\n",
              "  <thead>\n",
              "    <tr style=\"text-align: right;\">\n",
              "      <th></th>\n",
              "      <th>Date</th>\n",
              "      <th>Year</th>\n",
              "      <th>Month</th>\n",
              "      <th>year_month</th>\n",
              "      <th>Day</th>\n",
              "      <th>Weekday</th>\n",
              "      <th>Holiday</th>\n",
              "      <th>Max Temp (°C)</th>\n",
              "      <th>Min Temp (°C)</th>\n",
              "      <th>Mean Temp (°C)</th>\n",
              "      <th>Monthly Mean Temp (°C)</th>\n",
              "      <th>Delta Temp (°C)</th>\n",
              "      <th>Total Precip (mm)</th>\n",
              "      <th>Monthly Mean Precip (mm)</th>\n",
              "      <th>Delta Precip (mm)</th>\n",
              "      <th>Snow on Grnd (cm)</th>\n",
              "      <th>Barrie Ridership</th>\n",
              "      <th>Kitchener Ridership</th>\n",
              "      <th>Lakeshore East Ridership</th>\n",
              "      <th>Lakeshore West Ridership</th>\n",
              "      <th>Milton Ridership</th>\n",
              "      <th>Richmond Hill Ridership</th>\n",
              "      <th>Stouffville Ridership</th>\n",
              "      <th>Union Station Ridership</th>\n",
              "      <th>Total GO Ridership</th>\n",
              "      <th>Outlier</th>\n",
              "      <th>Overall Mean</th>\n",
              "      <th>2SD_above</th>\n",
              "      <th>2SD_below</th>\n",
              "      <th>Union Station Ridership Ranges</th>\n",
              "    </tr>\n",
              "  </thead>\n",
              "  <tbody>\n",
              "    <tr>\n",
              "      <th>0</th>\n",
              "      <td>2017-03-01</td>\n",
              "      <td>2017</td>\n",
              "      <td>3</td>\n",
              "      <td>2017-03</td>\n",
              "      <td>1</td>\n",
              "      <td>4</td>\n",
              "      <td>False</td>\n",
              "      <td>13.1</td>\n",
              "      <td>-1.9</td>\n",
              "      <td>5.6</td>\n",
              "      <td>-0.251613</td>\n",
              "      <td>5.851613</td>\n",
              "      <td>18.4</td>\n",
              "      <td>2.335484</td>\n",
              "      <td>16.064516</td>\n",
              "      <td>0.0</td>\n",
              "      <td>10022</td>\n",
              "      <td>13585</td>\n",
              "      <td>25273</td>\n",
              "      <td>32909</td>\n",
              "      <td>15599</td>\n",
              "      <td>5639</td>\n",
              "      <td>8804</td>\n",
              "      <td>95802</td>\n",
              "      <td>207633</td>\n",
              "      <td>False</td>\n",
              "      <td>227296.503311</td>\n",
              "      <td>254365.810172</td>\n",
              "      <td>200227.196451</td>\n",
              "      <td>90000 to 100000</td>\n",
              "    </tr>\n",
              "    <tr>\n",
              "      <th>1</th>\n",
              "      <td>2017-03-02</td>\n",
              "      <td>2017</td>\n",
              "      <td>3</td>\n",
              "      <td>2017-03</td>\n",
              "      <td>2</td>\n",
              "      <td>5</td>\n",
              "      <td>False</td>\n",
              "      <td>-1.3</td>\n",
              "      <td>-6.4</td>\n",
              "      <td>-3.9</td>\n",
              "      <td>-0.251613</td>\n",
              "      <td>-3.648387</td>\n",
              "      <td>0.2</td>\n",
              "      <td>2.335484</td>\n",
              "      <td>-2.135484</td>\n",
              "      <td>0.5</td>\n",
              "      <td>9932</td>\n",
              "      <td>13331</td>\n",
              "      <td>26120</td>\n",
              "      <td>33884</td>\n",
              "      <td>15653</td>\n",
              "      <td>5665</td>\n",
              "      <td>8736</td>\n",
              "      <td>95873</td>\n",
              "      <td>209194</td>\n",
              "      <td>False</td>\n",
              "      <td>224966.615894</td>\n",
              "      <td>253295.696280</td>\n",
              "      <td>196637.535508</td>\n",
              "      <td>90000 to 100000</td>\n",
              "    </tr>\n",
              "    <tr>\n",
              "      <th>2</th>\n",
              "      <td>2017-03-03</td>\n",
              "      <td>2017</td>\n",
              "      <td>3</td>\n",
              "      <td>2017-03</td>\n",
              "      <td>3</td>\n",
              "      <td>6</td>\n",
              "      <td>False</td>\n",
              "      <td>-4.3</td>\n",
              "      <td>-8.1</td>\n",
              "      <td>-6.2</td>\n",
              "      <td>-0.251613</td>\n",
              "      <td>-5.948387</td>\n",
              "      <td>0.0</td>\n",
              "      <td>2.335484</td>\n",
              "      <td>-2.335484</td>\n",
              "      <td>0.5</td>\n",
              "      <td>8905</td>\n",
              "      <td>12235</td>\n",
              "      <td>23801</td>\n",
              "      <td>31473</td>\n",
              "      <td>14092</td>\n",
              "      <td>5129</td>\n",
              "      <td>7918</td>\n",
              "      <td>87200</td>\n",
              "      <td>190753</td>\n",
              "      <td>False</td>\n",
              "      <td>204211.905405</td>\n",
              "      <td>232457.905320</td>\n",
              "      <td>175965.905490</td>\n",
              "      <td>80000 to 90000</td>\n",
              "    </tr>\n",
              "    <tr>\n",
              "      <th>3</th>\n",
              "      <td>2017-03-04</td>\n",
              "      <td>2017</td>\n",
              "      <td>3</td>\n",
              "      <td>2017-03</td>\n",
              "      <td>4</td>\n",
              "      <td>7</td>\n",
              "      <td>False</td>\n",
              "      <td>-6.5</td>\n",
              "      <td>-11.9</td>\n",
              "      <td>-9.2</td>\n",
              "      <td>-0.251613</td>\n",
              "      <td>-8.948387</td>\n",
              "      <td>0.2</td>\n",
              "      <td>2.335484</td>\n",
              "      <td>-2.135484</td>\n",
              "      <td>0.5</td>\n",
              "      <td>928</td>\n",
              "      <td>480</td>\n",
              "      <td>7872</td>\n",
              "      <td>11756</td>\n",
              "      <td>208</td>\n",
              "      <td>0</td>\n",
              "      <td>246</td>\n",
              "      <td>13899</td>\n",
              "      <td>35389</td>\n",
              "      <td>False</td>\n",
              "      <td>45352.333333</td>\n",
              "      <td>73886.656469</td>\n",
              "      <td>16818.010198</td>\n",
              "      <td>10000 to 20000</td>\n",
              "    </tr>\n",
              "    <tr>\n",
              "      <th>4</th>\n",
              "      <td>2017-03-05</td>\n",
              "      <td>2017</td>\n",
              "      <td>3</td>\n",
              "      <td>2017-03</td>\n",
              "      <td>5</td>\n",
              "      <td>1</td>\n",
              "      <td>False</td>\n",
              "      <td>-0.4</td>\n",
              "      <td>-10.6</td>\n",
              "      <td>-5.5</td>\n",
              "      <td>-0.251613</td>\n",
              "      <td>-5.248387</td>\n",
              "      <td>0.0</td>\n",
              "      <td>2.335484</td>\n",
              "      <td>-2.335484</td>\n",
              "      <td>0.5</td>\n",
              "      <td>803</td>\n",
              "      <td>398</td>\n",
              "      <td>4714</td>\n",
              "      <td>8381</td>\n",
              "      <td>169</td>\n",
              "      <td>0</td>\n",
              "      <td>156</td>\n",
              "      <td>8505</td>\n",
              "      <td>23126</td>\n",
              "      <td>False</td>\n",
              "      <td>32455.370861</td>\n",
              "      <td>53039.519234</td>\n",
              "      <td>11871.222488</td>\n",
              "      <td>0 to 10000</td>\n",
              "    </tr>\n",
              "  </tbody>\n",
              "</table>\n",
              "</div>"
            ],
            "text/plain": [
              "         Date  Year  ...      2SD_below Union Station Ridership Ranges\n",
              "0  2017-03-01  2017  ...  200227.196451                90000 to 100000\n",
              "1  2017-03-02  2017  ...  196637.535508                90000 to 100000\n",
              "2  2017-03-03  2017  ...  175965.905490                 80000 to 90000\n",
              "3  2017-03-04  2017  ...   16818.010198                 10000 to 20000\n",
              "4  2017-03-05  2017  ...   11871.222488                     0 to 10000\n",
              "\n",
              "[5 rows x 30 columns]"
            ]
          },
          "metadata": {
            "tags": []
          },
          "execution_count": 23
        }
      ]
    },
    {
      "cell_type": "markdown",
      "metadata": {
        "id": "y9aSC7CK9kH9",
        "colab_type": "text"
      },
      "source": [
        "### knn predict for Mondays"
      ]
    },
    {
      "cell_type": "code",
      "metadata": {
        "id": "ytmPYVq79Y4u",
        "colab_type": "code",
        "outputId": "09ba1c69-eb51-4f11-e412-a2123329ba56",
        "colab": {
          "base_uri": "https://localhost:8080/",
          "height": 204
        }
      },
      "source": [
        "knn_dataset = dataset[[\"Date\",\"Month\",\"Weekday\",\"Delta Temp (°C)\",\"Delta Precip (mm)\",\"Union Station Ridership Ranges\"]].copy()\n",
        "knn_dataset.head()"
      ],
      "execution_count": 24,
      "outputs": [
        {
          "output_type": "execute_result",
          "data": {
            "text/html": [
              "<div>\n",
              "<style scoped>\n",
              "    .dataframe tbody tr th:only-of-type {\n",
              "        vertical-align: middle;\n",
              "    }\n",
              "\n",
              "    .dataframe tbody tr th {\n",
              "        vertical-align: top;\n",
              "    }\n",
              "\n",
              "    .dataframe thead th {\n",
              "        text-align: right;\n",
              "    }\n",
              "</style>\n",
              "<table border=\"1\" class=\"dataframe\">\n",
              "  <thead>\n",
              "    <tr style=\"text-align: right;\">\n",
              "      <th></th>\n",
              "      <th>Date</th>\n",
              "      <th>Month</th>\n",
              "      <th>Weekday</th>\n",
              "      <th>Delta Temp (°C)</th>\n",
              "      <th>Delta Precip (mm)</th>\n",
              "      <th>Union Station Ridership Ranges</th>\n",
              "    </tr>\n",
              "  </thead>\n",
              "  <tbody>\n",
              "    <tr>\n",
              "      <th>0</th>\n",
              "      <td>2017-03-01</td>\n",
              "      <td>3</td>\n",
              "      <td>4</td>\n",
              "      <td>5.851613</td>\n",
              "      <td>16.064516</td>\n",
              "      <td>90000 to 100000</td>\n",
              "    </tr>\n",
              "    <tr>\n",
              "      <th>1</th>\n",
              "      <td>2017-03-02</td>\n",
              "      <td>3</td>\n",
              "      <td>5</td>\n",
              "      <td>-3.648387</td>\n",
              "      <td>-2.135484</td>\n",
              "      <td>90000 to 100000</td>\n",
              "    </tr>\n",
              "    <tr>\n",
              "      <th>2</th>\n",
              "      <td>2017-03-03</td>\n",
              "      <td>3</td>\n",
              "      <td>6</td>\n",
              "      <td>-5.948387</td>\n",
              "      <td>-2.335484</td>\n",
              "      <td>80000 to 90000</td>\n",
              "    </tr>\n",
              "    <tr>\n",
              "      <th>3</th>\n",
              "      <td>2017-03-04</td>\n",
              "      <td>3</td>\n",
              "      <td>7</td>\n",
              "      <td>-8.948387</td>\n",
              "      <td>-2.135484</td>\n",
              "      <td>10000 to 20000</td>\n",
              "    </tr>\n",
              "    <tr>\n",
              "      <th>4</th>\n",
              "      <td>2017-03-05</td>\n",
              "      <td>3</td>\n",
              "      <td>1</td>\n",
              "      <td>-5.248387</td>\n",
              "      <td>-2.335484</td>\n",
              "      <td>0 to 10000</td>\n",
              "    </tr>\n",
              "  </tbody>\n",
              "</table>\n",
              "</div>"
            ],
            "text/plain": [
              "         Date  Month  ...  Delta Precip (mm)  Union Station Ridership Ranges\n",
              "0  2017-03-01      3  ...          16.064516                 90000 to 100000\n",
              "1  2017-03-02      3  ...          -2.135484                 90000 to 100000\n",
              "2  2017-03-03      3  ...          -2.335484                  80000 to 90000\n",
              "3  2017-03-04      3  ...          -2.135484                  10000 to 20000\n",
              "4  2017-03-05      3  ...          -2.335484                      0 to 10000\n",
              "\n",
              "[5 rows x 6 columns]"
            ]
          },
          "metadata": {
            "tags": []
          },
          "execution_count": 24
        }
      ]
    },
    {
      "cell_type": "code",
      "metadata": {
        "id": "vnregrzt-G1l",
        "colab_type": "code",
        "outputId": "ebc36001-8e95-4eac-bedc-d298449cccde",
        "colab": {
          "base_uri": "https://localhost:8080/",
          "height": 204
        }
      },
      "source": [
        "knn_dataset_M = knn_dataset.loc[knn_dataset[\"Weekday\"]==1]\n",
        "knn_dataset_M.head()"
      ],
      "execution_count": 25,
      "outputs": [
        {
          "output_type": "execute_result",
          "data": {
            "text/html": [
              "<div>\n",
              "<style scoped>\n",
              "    .dataframe tbody tr th:only-of-type {\n",
              "        vertical-align: middle;\n",
              "    }\n",
              "\n",
              "    .dataframe tbody tr th {\n",
              "        vertical-align: top;\n",
              "    }\n",
              "\n",
              "    .dataframe thead th {\n",
              "        text-align: right;\n",
              "    }\n",
              "</style>\n",
              "<table border=\"1\" class=\"dataframe\">\n",
              "  <thead>\n",
              "    <tr style=\"text-align: right;\">\n",
              "      <th></th>\n",
              "      <th>Date</th>\n",
              "      <th>Month</th>\n",
              "      <th>Weekday</th>\n",
              "      <th>Delta Temp (°C)</th>\n",
              "      <th>Delta Precip (mm)</th>\n",
              "      <th>Union Station Ridership Ranges</th>\n",
              "    </tr>\n",
              "  </thead>\n",
              "  <tbody>\n",
              "    <tr>\n",
              "      <th>4</th>\n",
              "      <td>2017-03-05</td>\n",
              "      <td>3</td>\n",
              "      <td>1</td>\n",
              "      <td>-5.248387</td>\n",
              "      <td>-2.335484</td>\n",
              "      <td>0 to 10000</td>\n",
              "    </tr>\n",
              "    <tr>\n",
              "      <th>11</th>\n",
              "      <td>2017-03-12</td>\n",
              "      <td>3</td>\n",
              "      <td>1</td>\n",
              "      <td>-7.948387</td>\n",
              "      <td>-2.335484</td>\n",
              "      <td>0 to 10000</td>\n",
              "    </tr>\n",
              "    <tr>\n",
              "      <th>18</th>\n",
              "      <td>2017-03-19</td>\n",
              "      <td>3</td>\n",
              "      <td>1</td>\n",
              "      <td>3.651613</td>\n",
              "      <td>-2.335484</td>\n",
              "      <td>10000 to 20000</td>\n",
              "    </tr>\n",
              "    <tr>\n",
              "      <th>25</th>\n",
              "      <td>2017-03-26</td>\n",
              "      <td>3</td>\n",
              "      <td>1</td>\n",
              "      <td>4.151613</td>\n",
              "      <td>0.064516</td>\n",
              "      <td>0 to 10000</td>\n",
              "    </tr>\n",
              "    <tr>\n",
              "      <th>32</th>\n",
              "      <td>2017-04-02</td>\n",
              "      <td>4</td>\n",
              "      <td>1</td>\n",
              "      <td>0.963333</td>\n",
              "      <td>-3.586667</td>\n",
              "      <td>0 to 10000</td>\n",
              "    </tr>\n",
              "  </tbody>\n",
              "</table>\n",
              "</div>"
            ],
            "text/plain": [
              "          Date  Month  ...  Delta Precip (mm)  Union Station Ridership Ranges\n",
              "4   2017-03-05      3  ...          -2.335484                      0 to 10000\n",
              "11  2017-03-12      3  ...          -2.335484                      0 to 10000\n",
              "18  2017-03-19      3  ...          -2.335484                  10000 to 20000\n",
              "25  2017-03-26      3  ...           0.064516                      0 to 10000\n",
              "32  2017-04-02      4  ...          -3.586667                      0 to 10000\n",
              "\n",
              "[5 rows x 6 columns]"
            ]
          },
          "metadata": {
            "tags": []
          },
          "execution_count": 25
        }
      ]
    },
    {
      "cell_type": "code",
      "metadata": {
        "id": "ra8JqgAe-hxA",
        "colab_type": "code",
        "outputId": "440dad09-6392-4f8a-f18e-46147fac77cb",
        "colab": {
          "base_uri": "https://localhost:8080/",
          "height": 340
        }
      },
      "source": [
        "knn_dataset_M[\"Union Station Ridership Ranges\"] = knn_dataset_M[\"Union Station Ridership Ranges\"].astype('category')\n",
        "knn_dataset_M.info()"
      ],
      "execution_count": 26,
      "outputs": [
        {
          "output_type": "stream",
          "text": [
            "<class 'pandas.core.frame.DataFrame'>\n",
            "Int64Index: 156 entries, 4 to 1089\n",
            "Data columns (total 6 columns):\n",
            " #   Column                          Non-Null Count  Dtype   \n",
            "---  ------                          --------------  -----   \n",
            " 0   Date                            156 non-null    object  \n",
            " 1   Month                           156 non-null    int64   \n",
            " 2   Weekday                         156 non-null    int64   \n",
            " 3   Delta Temp (°C)                 156 non-null    float64 \n",
            " 4   Delta Precip (mm)               156 non-null    float64 \n",
            " 5   Union Station Ridership Ranges  156 non-null    category\n",
            "dtypes: category(1), float64(2), int64(2), object(1)\n",
            "memory usage: 8.2+ KB\n"
          ],
          "name": "stdout"
        },
        {
          "output_type": "stream",
          "text": [
            "/usr/local/lib/python3.6/dist-packages/ipykernel_launcher.py:1: SettingWithCopyWarning: \n",
            "A value is trying to be set on a copy of a slice from a DataFrame.\n",
            "Try using .loc[row_indexer,col_indexer] = value instead\n",
            "\n",
            "See the caveats in the documentation: https://pandas.pydata.org/pandas-docs/stable/user_guide/indexing.html#returning-a-view-versus-a-copy\n",
            "  \"\"\"Entry point for launching an IPython kernel.\n"
          ],
          "name": "stderr"
        }
      ]
    },
    {
      "cell_type": "code",
      "metadata": {
        "id": "GPEvzq6f-xik",
        "colab_type": "code",
        "outputId": "341e8afb-2c9b-4d0d-e443-ac6786ac525e",
        "colab": {
          "base_uri": "https://localhost:8080/",
          "height": 34
        }
      },
      "source": [
        "X = knn_dataset_M[[\"Month\",\"Weekday\",\"Delta Temp (°C)\",\"Delta Precip (mm)\"]]\n",
        "X.shape"
      ],
      "execution_count": 27,
      "outputs": [
        {
          "output_type": "execute_result",
          "data": {
            "text/plain": [
              "(156, 4)"
            ]
          },
          "metadata": {
            "tags": []
          },
          "execution_count": 27
        }
      ]
    },
    {
      "cell_type": "code",
      "metadata": {
        "id": "OwkxuzN4-qz3",
        "colab_type": "code",
        "outputId": "c3eb4750-757d-4fd2-9758-e20d1081a39b",
        "colab": {
          "base_uri": "https://localhost:8080/",
          "height": 306
        }
      },
      "source": [
        "#X.iloc[1:] = X.iloc[1:].astype(float)\n",
        "cols = ['Month', 'Weekday', 'Delta Temp (°C)', 'Delta Precip (mm)']\n",
        "for col in cols:\n",
        "   X[col] = X[col].apply(lambda x: float(x) if x == x else \"\")\n",
        "X.info()"
      ],
      "execution_count": 28,
      "outputs": [
        {
          "output_type": "stream",
          "text": [
            "<class 'pandas.core.frame.DataFrame'>\n",
            "Int64Index: 156 entries, 4 to 1089\n",
            "Data columns (total 4 columns):\n",
            " #   Column             Non-Null Count  Dtype  \n",
            "---  ------             --------------  -----  \n",
            " 0   Month              156 non-null    float64\n",
            " 1   Weekday            156 non-null    float64\n",
            " 2   Delta Temp (°C)    156 non-null    float64\n",
            " 3   Delta Precip (mm)  156 non-null    float64\n",
            "dtypes: float64(4)\n",
            "memory usage: 6.1 KB\n"
          ],
          "name": "stdout"
        },
        {
          "output_type": "stream",
          "text": [
            "/usr/local/lib/python3.6/dist-packages/ipykernel_launcher.py:3: SettingWithCopyWarning: \n",
            "A value is trying to be set on a copy of a slice from a DataFrame.\n",
            "Try using .loc[row_indexer,col_indexer] = value instead\n",
            "\n",
            "See the caveats in the documentation: https://pandas.pydata.org/pandas-docs/stable/user_guide/indexing.html#returning-a-view-versus-a-copy\n",
            "  This is separate from the ipykernel package so we can avoid doing imports until\n"
          ],
          "name": "stderr"
        }
      ]
    },
    {
      "cell_type": "code",
      "metadata": {
        "id": "vMmxvpEsATvo",
        "colab_type": "code",
        "outputId": "3e159c24-0421-4c7d-d214-5298830e9a3a",
        "colab": {
          "base_uri": "https://localhost:8080/",
          "height": 34
        }
      },
      "source": [
        "y = knn_dataset_M[\"Union Station Ridership Ranges\"]\n",
        "y.shape"
      ],
      "execution_count": 29,
      "outputs": [
        {
          "output_type": "execute_result",
          "data": {
            "text/plain": [
              "(156,)"
            ]
          },
          "metadata": {
            "tags": []
          },
          "execution_count": 29
        }
      ]
    },
    {
      "cell_type": "code",
      "metadata": {
        "id": "RBlJUCVHAKMt",
        "colab_type": "code",
        "outputId": "461d557c-8325-4e00-cdc6-daa09e169ef2",
        "colab": {
          "base_uri": "https://localhost:8080/",
          "height": 34
        }
      },
      "source": [
        "from sklearn.model_selection import train_test_split\n",
        "X_train, X_test, y_train, y_test = train_test_split(X,y,test_size=0.2,random_state=20)\n",
        "X_train.shape"
      ],
      "execution_count": 30,
      "outputs": [
        {
          "output_type": "execute_result",
          "data": {
            "text/plain": [
              "(124, 4)"
            ]
          },
          "metadata": {
            "tags": []
          },
          "execution_count": 30
        }
      ]
    },
    {
      "cell_type": "code",
      "metadata": {
        "id": "HfMNdJs1ArnP",
        "colab_type": "code",
        "outputId": "a835e5ff-9b72-4f76-9d58-b1bc7576d9c9",
        "colab": {
          "base_uri": "https://localhost:8080/",
          "height": 204
        }
      },
      "source": [
        "knn.fit(X_train,y_train)\n",
        "y_hat = knn.predict(X_test)\n",
        "y_hat"
      ],
      "execution_count": 31,
      "outputs": [
        {
          "output_type": "execute_result",
          "data": {
            "text/plain": [
              "array(['10000 to 20000', '10000 to 20000', '10000 to 20000',\n",
              "       '10000 to 20000', '10000 to 20000', '10000 to 20000',\n",
              "       '10000 to 20000', '10000 to 20000', '10000 to 20000',\n",
              "       '10000 to 20000', '10000 to 20000', '10000 to 20000',\n",
              "       '10000 to 20000', '10000 to 20000', '10000 to 20000',\n",
              "       '10000 to 20000', '10000 to 20000', '10000 to 20000',\n",
              "       '10000 to 20000', '10000 to 20000', '10000 to 20000',\n",
              "       '10000 to 20000', '10000 to 20000', '10000 to 20000',\n",
              "       '10000 to 20000', '10000 to 20000', '10000 to 20000',\n",
              "       '10000 to 20000', '10000 to 20000', '10000 to 20000',\n",
              "       '10000 to 20000', '10000 to 20000'], dtype=object)"
            ]
          },
          "metadata": {
            "tags": []
          },
          "execution_count": 31
        }
      ]
    },
    {
      "cell_type": "code",
      "metadata": {
        "id": "Apk4lIJnAtNI",
        "colab_type": "code",
        "outputId": "dace2f40-f416-4b05-8cb5-92943f1632e3",
        "colab": {
          "base_uri": "https://localhost:8080/",
          "height": 612
        }
      },
      "source": [
        "y_test"
      ],
      "execution_count": 32,
      "outputs": [
        {
          "output_type": "execute_result",
          "data": {
            "text/plain": [
              "802     10000 to 20000\n",
              "361         0 to 10000\n",
              "536     10000 to 20000\n",
              "935         0 to 10000\n",
              "508     10000 to 20000\n",
              "760     10000 to 20000\n",
              "858     10000 to 20000\n",
              "151     10000 to 20000\n",
              "606         0 to 10000\n",
              "88      10000 to 20000\n",
              "991     10000 to 20000\n",
              "627     10000 to 20000\n",
              "669     10000 to 20000\n",
              "249     10000 to 20000\n",
              "200         0 to 10000\n",
              "641         0 to 10000\n",
              "95      10000 to 20000\n",
              "452     10000 to 20000\n",
              "865     10000 to 20000\n",
              "949     10000 to 20000\n",
              "956     10000 to 20000\n",
              "725     10000 to 20000\n",
              "809     10000 to 20000\n",
              "144         0 to 10000\n",
              "1068        0 to 10000\n",
              "592         0 to 10000\n",
              "718     10000 to 20000\n",
              "242         0 to 10000\n",
              "683         0 to 10000\n",
              "613     10000 to 20000\n",
              "1089    10000 to 20000\n",
              "648     10000 to 20000\n",
              "Name: Union Station Ridership Ranges, dtype: category\n",
              "Categories (16, object): [0 to 10000 < 10000 to 20000 < 20000 to 30000 < 30000 to 40000 < ... <\n",
              "                          120000 to 130000 < 130000 to 140000 < 140000 to 150000 < 150000 to 160000]"
            ]
          },
          "metadata": {
            "tags": []
          },
          "execution_count": 32
        }
      ]
    },
    {
      "cell_type": "code",
      "metadata": {
        "id": "irgkhMGlAxgf",
        "colab_type": "code",
        "outputId": "e7544887-d003-4106-9f7a-5f47139eb5cd",
        "colab": {
          "base_uri": "https://localhost:8080/",
          "height": 34
        }
      },
      "source": [
        "accuracy_score(y_test,y_hat)"
      ],
      "execution_count": 33,
      "outputs": [
        {
          "output_type": "execute_result",
          "data": {
            "text/plain": [
              "0.6875"
            ]
          },
          "metadata": {
            "tags": []
          },
          "execution_count": 33
        }
      ]
    },
    {
      "cell_type": "code",
      "metadata": {
        "id": "zAAUo_78AzGP",
        "colab_type": "code",
        "outputId": "50ded2a3-f46b-4ae9-da1b-8822e93f8e2b",
        "colab": {
          "base_uri": "https://localhost:8080/",
          "height": 204
        }
      },
      "source": [
        "neighbors = range(1,60)\n",
        "error = []\n",
        "score = []\n",
        "for i in neighbors:\n",
        "    knn = KNeighborsClassifier(n_neighbors=i)\n",
        "    knn.fit(X_train, y_train)\n",
        "    y_hat = knn.predict(X_test)\n",
        "    score.append(accuracy_score(y_test, y_hat))\n",
        "y_hat"
      ],
      "execution_count": 34,
      "outputs": [
        {
          "output_type": "execute_result",
          "data": {
            "text/plain": [
              "array(['10000 to 20000', '10000 to 20000', '10000 to 20000',\n",
              "       '10000 to 20000', '10000 to 20000', '10000 to 20000',\n",
              "       '10000 to 20000', '10000 to 20000', '10000 to 20000',\n",
              "       '10000 to 20000', '10000 to 20000', '10000 to 20000',\n",
              "       '10000 to 20000', '10000 to 20000', '10000 to 20000',\n",
              "       '10000 to 20000', '10000 to 20000', '10000 to 20000',\n",
              "       '10000 to 20000', '10000 to 20000', '10000 to 20000',\n",
              "       '10000 to 20000', '10000 to 20000', '10000 to 20000',\n",
              "       '10000 to 20000', '10000 to 20000', '10000 to 20000',\n",
              "       '10000 to 20000', '10000 to 20000', '10000 to 20000',\n",
              "       '10000 to 20000', '10000 to 20000'], dtype=object)"
            ]
          },
          "metadata": {
            "tags": []
          },
          "execution_count": 34
        }
      ]
    },
    {
      "cell_type": "code",
      "metadata": {
        "id": "H1z3jPRKA2dz",
        "colab_type": "code",
        "outputId": "d7e627f4-64ac-4b82-c0d7-c6c567c06049",
        "colab": {
          "base_uri": "https://localhost:8080/",
          "height": 408
        }
      },
      "source": [
        "plt.figure(figsize=(12, 6))\n",
        "plt.plot(neighbors, score, color='red', linestyle='dashed', marker='o',\n",
        "         markerfacecolor='blue', markersize=10)\n",
        "plt.xlabel('K Value')\n",
        "plt.ylabel('Accuracy Score')"
      ],
      "execution_count": 35,
      "outputs": [
        {
          "output_type": "execute_result",
          "data": {
            "text/plain": [
              "Text(0, 0.5, 'Accuracy Score')"
            ]
          },
          "metadata": {
            "tags": []
          },
          "execution_count": 35
        },
        {
          "output_type": "display_data",
          "data": {
            "image/png": "[encoded data removed]",
            "text/plain": [
              "<Figure size 864x432 with 1 Axes>"
            ]
          },
          "metadata": {
            "tags": []
          }
        }
      ]
    },
    {
      "cell_type": "code",
      "metadata": {
        "id": "WVvYD0S3BHiy",
        "colab_type": "code",
        "outputId": "8ffa7ae6-2862-438c-a2a4-a9c6bdfb132a",
        "colab": {
          "base_uri": "https://localhost:8080/",
          "height": 34
        }
      },
      "source": [
        "knn = KNeighborsClassifier(n_neighbors=40) #best score\n",
        "knn.fit(X_train, y_train)\n",
        "y_hat = knn.predict(X_test)\n",
        "score = accuracy_score(y_test, y_hat)\n",
        "score"
      ],
      "execution_count": 36,
      "outputs": [
        {
          "output_type": "execute_result",
          "data": {
            "text/plain": [
              "0.6875"
            ]
          },
          "metadata": {
            "tags": []
          },
          "execution_count": 36
        }
      ]
    }
  ]
}