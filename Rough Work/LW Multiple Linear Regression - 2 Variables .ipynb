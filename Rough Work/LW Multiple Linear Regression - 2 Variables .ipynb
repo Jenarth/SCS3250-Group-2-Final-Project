{
 "cells": [
  {
   "cell_type": "code",
   "execution_count": 68,
   "metadata": {},
   "outputs": [],
   "source": [
    "import pandas as pd\n",
    "import numpy as np\n",
    "from matplotlib import pyplot as plt\n",
    "from sklearn.linear_model import LinearRegression"
   ]
  },
  {
   "cell_type": "code",
   "execution_count": 69,
   "metadata": {},
   "outputs": [],
   "source": [
    "# Let's import the dataset\n",
    "\n",
    "url = 'https://raw.githubusercontent.com/Jenarth/SCS3250-Group-2-Final-Project/master/Final%20Dataset.csv'\n",
    "df = pd.read_csv(url,index_col='Date', parse_dates=True)"
   ]
  },
  {
   "cell_type": "code",
   "execution_count": 70,
   "metadata": {},
   "outputs": [
    {
     "data": {
      "text/html": [
       "<div>\n",
       "<style scoped>\n",
       "    .dataframe tbody tr th:only-of-type {\n",
       "        vertical-align: middle;\n",
       "    }\n",
       "\n",
       "    .dataframe tbody tr th {\n",
       "        vertical-align: top;\n",
       "    }\n",
       "\n",
       "    .dataframe thead th {\n",
       "        text-align: right;\n",
       "    }\n",
       "</style>\n",
       "<table border=\"1\" class=\"dataframe\">\n",
       "  <thead>\n",
       "    <tr style=\"text-align: right;\">\n",
       "      <th></th>\n",
       "      <th>Year</th>\n",
       "      <th>Month</th>\n",
       "      <th>year_month</th>\n",
       "      <th>Day</th>\n",
       "      <th>Weekday</th>\n",
       "      <th>Holiday</th>\n",
       "      <th>Max Temp (°C)</th>\n",
       "      <th>Min Temp (°C)</th>\n",
       "      <th>Mean Temp (°C)</th>\n",
       "      <th>Monthly Mean Temp (°C)</th>\n",
       "      <th>...</th>\n",
       "      <th>Lakeshore West Ridership</th>\n",
       "      <th>Milton Ridership</th>\n",
       "      <th>Richmond Hill Ridership</th>\n",
       "      <th>Stouffville Ridership</th>\n",
       "      <th>Union Station Ridership</th>\n",
       "      <th>Total GO Ridership</th>\n",
       "      <th>Outlier</th>\n",
       "      <th>Overall Mean</th>\n",
       "      <th>2SD_above</th>\n",
       "      <th>2SD_below</th>\n",
       "    </tr>\n",
       "    <tr>\n",
       "      <th>Date</th>\n",
       "      <th></th>\n",
       "      <th></th>\n",
       "      <th></th>\n",
       "      <th></th>\n",
       "      <th></th>\n",
       "      <th></th>\n",
       "      <th></th>\n",
       "      <th></th>\n",
       "      <th></th>\n",
       "      <th></th>\n",
       "      <th></th>\n",
       "      <th></th>\n",
       "      <th></th>\n",
       "      <th></th>\n",
       "      <th></th>\n",
       "      <th></th>\n",
       "      <th></th>\n",
       "      <th></th>\n",
       "      <th></th>\n",
       "      <th></th>\n",
       "      <th></th>\n",
       "    </tr>\n",
       "  </thead>\n",
       "  <tbody>\n",
       "    <tr>\n",
       "      <td>2017-03-01</td>\n",
       "      <td>2017</td>\n",
       "      <td>3</td>\n",
       "      <td>2017-03</td>\n",
       "      <td>1</td>\n",
       "      <td>3</td>\n",
       "      <td>False</td>\n",
       "      <td>13.1</td>\n",
       "      <td>-1.9</td>\n",
       "      <td>5.6</td>\n",
       "      <td>0.116129</td>\n",
       "      <td>...</td>\n",
       "      <td>243965</td>\n",
       "      <td>115524</td>\n",
       "      <td>41759</td>\n",
       "      <td>65258</td>\n",
       "      <td>709669</td>\n",
       "      <td>1538388</td>\n",
       "      <td>False</td>\n",
       "      <td>1.684403e+06</td>\n",
       "      <td>1.885102e+06</td>\n",
       "      <td>1.483705e+06</td>\n",
       "    </tr>\n",
       "    <tr>\n",
       "      <td>2017-03-02</td>\n",
       "      <td>2017</td>\n",
       "      <td>3</td>\n",
       "      <td>2017-03</td>\n",
       "      <td>2</td>\n",
       "      <td>4</td>\n",
       "      <td>False</td>\n",
       "      <td>-1.3</td>\n",
       "      <td>-6.4</td>\n",
       "      <td>-3.9</td>\n",
       "      <td>0.116129</td>\n",
       "      <td>...</td>\n",
       "      <td>251245</td>\n",
       "      <td>115976</td>\n",
       "      <td>41975</td>\n",
       "      <td>64723</td>\n",
       "      <td>710233</td>\n",
       "      <td>1550282</td>\n",
       "      <td>False</td>\n",
       "      <td>1.667167e+06</td>\n",
       "      <td>1.877280e+06</td>\n",
       "      <td>1.457055e+06</td>\n",
       "    </tr>\n",
       "    <tr>\n",
       "      <td>2017-03-03</td>\n",
       "      <td>2017</td>\n",
       "      <td>3</td>\n",
       "      <td>2017-03</td>\n",
       "      <td>3</td>\n",
       "      <td>5</td>\n",
       "      <td>False</td>\n",
       "      <td>-4.3</td>\n",
       "      <td>-8.1</td>\n",
       "      <td>-6.2</td>\n",
       "      <td>0.116129</td>\n",
       "      <td>...</td>\n",
       "      <td>233488</td>\n",
       "      <td>104386</td>\n",
       "      <td>38029</td>\n",
       "      <td>58671</td>\n",
       "      <td>645929</td>\n",
       "      <td>1413668</td>\n",
       "      <td>False</td>\n",
       "      <td>1.513443e+06</td>\n",
       "      <td>1.722796e+06</td>\n",
       "      <td>1.304090e+06</td>\n",
       "    </tr>\n",
       "    <tr>\n",
       "      <td>2017-03-04</td>\n",
       "      <td>2017</td>\n",
       "      <td>3</td>\n",
       "      <td>2017-03</td>\n",
       "      <td>4</td>\n",
       "      <td>6</td>\n",
       "      <td>False</td>\n",
       "      <td>-6.5</td>\n",
       "      <td>-11.9</td>\n",
       "      <td>-9.2</td>\n",
       "      <td>0.116129</td>\n",
       "      <td>...</td>\n",
       "      <td>87326</td>\n",
       "      <td>1518</td>\n",
       "      <td>0</td>\n",
       "      <td>1792</td>\n",
       "      <td>102982</td>\n",
       "      <td>262464</td>\n",
       "      <td>False</td>\n",
       "      <td>3.363528e+05</td>\n",
       "      <td>5.477078e+05</td>\n",
       "      <td>1.249978e+05</td>\n",
       "    </tr>\n",
       "    <tr>\n",
       "      <td>2017-03-05</td>\n",
       "      <td>2017</td>\n",
       "      <td>3</td>\n",
       "      <td>2017-03</td>\n",
       "      <td>5</td>\n",
       "      <td>7</td>\n",
       "      <td>False</td>\n",
       "      <td>-0.4</td>\n",
       "      <td>-10.6</td>\n",
       "      <td>-5.5</td>\n",
       "      <td>0.116129</td>\n",
       "      <td>...</td>\n",
       "      <td>62331</td>\n",
       "      <td>1234</td>\n",
       "      <td>0</td>\n",
       "      <td>1135</td>\n",
       "      <td>62998</td>\n",
       "      <td>171582</td>\n",
       "      <td>False</td>\n",
       "      <td>2.407631e+05</td>\n",
       "      <td>3.932424e+05</td>\n",
       "      <td>8.828385e+04</td>\n",
       "    </tr>\n",
       "  </tbody>\n",
       "</table>\n",
       "<p>5 rows × 28 columns</p>\n",
       "</div>"
      ],
      "text/plain": [
       "            Year  Month year_month  Day  Weekday  Holiday  Max Temp (°C)  \\\n",
       "Date                                                                       \n",
       "2017-03-01  2017      3    2017-03    1        3    False           13.1   \n",
       "2017-03-02  2017      3    2017-03    2        4    False           -1.3   \n",
       "2017-03-03  2017      3    2017-03    3        5    False           -4.3   \n",
       "2017-03-04  2017      3    2017-03    4        6    False           -6.5   \n",
       "2017-03-05  2017      3    2017-03    5        7    False           -0.4   \n",
       "\n",
       "            Min Temp (°C)  Mean Temp (°C)  Monthly Mean Temp (°C)  ...  \\\n",
       "Date                                                               ...   \n",
       "2017-03-01           -1.9             5.6                0.116129  ...   \n",
       "2017-03-02           -6.4            -3.9                0.116129  ...   \n",
       "2017-03-03           -8.1            -6.2                0.116129  ...   \n",
       "2017-03-04          -11.9            -9.2                0.116129  ...   \n",
       "2017-03-05          -10.6            -5.5                0.116129  ...   \n",
       "\n",
       "            Lakeshore West Ridership  Milton Ridership  \\\n",
       "Date                                                     \n",
       "2017-03-01                    243965            115524   \n",
       "2017-03-02                    251245            115976   \n",
       "2017-03-03                    233488            104386   \n",
       "2017-03-04                     87326              1518   \n",
       "2017-03-05                     62331              1234   \n",
       "\n",
       "            Richmond Hill Ridership  Stouffville Ridership  \\\n",
       "Date                                                         \n",
       "2017-03-01                    41759                  65258   \n",
       "2017-03-02                    41975                  64723   \n",
       "2017-03-03                    38029                  58671   \n",
       "2017-03-04                        0                   1792   \n",
       "2017-03-05                        0                   1135   \n",
       "\n",
       "            Union Station Ridership  Total GO Ridership  Outlier  \\\n",
       "Date                                                               \n",
       "2017-03-01                   709669             1538388    False   \n",
       "2017-03-02                   710233             1550282    False   \n",
       "2017-03-03                   645929             1413668    False   \n",
       "2017-03-04                   102982              262464    False   \n",
       "2017-03-05                    62998              171582    False   \n",
       "\n",
       "            Overall Mean     2SD_above     2SD_below  \n",
       "Date                                                  \n",
       "2017-03-01  1.684403e+06  1.885102e+06  1.483705e+06  \n",
       "2017-03-02  1.667167e+06  1.877280e+06  1.457055e+06  \n",
       "2017-03-03  1.513443e+06  1.722796e+06  1.304090e+06  \n",
       "2017-03-04  3.363528e+05  5.477078e+05  1.249978e+05  \n",
       "2017-03-05  2.407631e+05  3.932424e+05  8.828385e+04  \n",
       "\n",
       "[5 rows x 28 columns]"
      ]
     },
     "execution_count": 70,
     "metadata": {},
     "output_type": "execute_result"
    }
   ],
   "source": [
    "# Let's convert weekdays into integers\n",
    "\n",
    "weekday = {'Monday':1 , 'Tuesday':2 , 'Wednesday':3, 'Thursday':4, 'Friday':5, 'Saturday':6, 'Sunday':7}\n",
    "df.Weekday = [weekday[item] for item in df.Weekday]\n",
    "df.head()"
   ]
  },
  {
   "cell_type": "code",
   "execution_count": 72,
   "metadata": {},
   "outputs": [],
   "source": [
    "# Build linear regression model using Weekday and Precipitation as predictors\n",
    "# Split data into predictors X and output Y\n",
    "\n",
    "predictors = ['Weekday','Total Precip (mm)']\n",
    "X= df[predictors]\n",
    "y=df['Union Station Ridership'].values.reshape(-1,1)"
   ]
  },
  {
   "cell_type": "code",
   "execution_count": 74,
   "metadata": {},
   "outputs": [],
   "source": [
    "# Initialise and fit model\n",
    "lm = LinearRegression()\n",
    "model = lm.fit(X, y)"
   ]
  },
  {
   "cell_type": "markdown",
   "metadata": {},
   "source": [
    "Instead of calulcating the values for alpha and betas, we have to call .intercept for alpha, and .coef_ for an array with our coefficients."
   ]
  },
  {
   "cell_type": "code",
   "execution_count": 75,
   "metadata": {},
   "outputs": [
    {
     "name": "stdout",
     "output_type": "stream",
     "text": [
      "alpha = [966292.03323924]\n",
      "betas = [[-107545.69052024   -1043.23097587]]\n"
     ]
    }
   ],
   "source": [
    "print(f'alpha = {model.intercept_}')\n",
    "print(f'betas = {model.coef_}')"
   ]
  },
  {
   "cell_type": "markdown",
   "metadata": {},
   "source": [
    "We can predict the values by using .predict()"
   ]
  },
  {
   "cell_type": "code",
   "execution_count": 76,
   "metadata": {},
   "outputs": [
    {
     "data": {
      "text/plain": [
       "array([[624459.51172257],\n",
       "       [535900.6249631 ],\n",
       "       [428563.58063804],\n",
       "       ...,\n",
       "       [532875.25513309],\n",
       "       [427416.02656458],\n",
       "       [319766.01294676]])"
      ]
     },
     "execution_count": 76,
     "metadata": {},
     "output_type": "execute_result"
    }
   ],
   "source": [
    "y_pred = model.predict(X)\n",
    "y_pred"
   ]
  },
  {
   "cell_type": "code",
   "execution_count": 77,
   "metadata": {},
   "outputs": [
    {
     "name": "stdout",
     "output_type": "stream",
     "text": [
      "[[213263.55340238]]\n"
     ]
    }
   ],
   "source": [
    "new_X = [[7, 0.2]]\n",
    "print(model.predict(new_X))"
   ]
  },
  {
   "cell_type": "markdown",
   "metadata": {},
   "source": [
    "Now that we have our predicting model, let's randomly pick a day and assess how far (or close) our model is from reality."
   ]
  },
  {
   "cell_type": "code",
   "execution_count": 79,
   "metadata": {},
   "outputs": [
    {
     "data": {
      "text/html": [
       "<div>\n",
       "<style scoped>\n",
       "    .dataframe tbody tr th:only-of-type {\n",
       "        vertical-align: middle;\n",
       "    }\n",
       "\n",
       "    .dataframe tbody tr th {\n",
       "        vertical-align: top;\n",
       "    }\n",
       "\n",
       "    .dataframe thead th {\n",
       "        text-align: right;\n",
       "    }\n",
       "</style>\n",
       "<table border=\"1\" class=\"dataframe\">\n",
       "  <thead>\n",
       "    <tr style=\"text-align: right;\">\n",
       "      <th></th>\n",
       "      <th>Weekday</th>\n",
       "      <th>Total Precip (mm)</th>\n",
       "      <th>Union Station Ridership</th>\n",
       "    </tr>\n",
       "    <tr>\n",
       "      <th>Date</th>\n",
       "      <th></th>\n",
       "      <th></th>\n",
       "      <th></th>\n",
       "    </tr>\n",
       "  </thead>\n",
       "  <tbody>\n",
       "    <tr>\n",
       "      <td>2020-02-15</td>\n",
       "      <td>6</td>\n",
       "      <td>0.4</td>\n",
       "      <td>113314</td>\n",
       "    </tr>\n",
       "    <tr>\n",
       "      <td>2020-02-16</td>\n",
       "      <td>7</td>\n",
       "      <td>0.4</td>\n",
       "      <td>90869</td>\n",
       "    </tr>\n",
       "    <tr>\n",
       "      <td>2020-02-17</td>\n",
       "      <td>1</td>\n",
       "      <td>1.0</td>\n",
       "      <td>84243</td>\n",
       "    </tr>\n",
       "    <tr>\n",
       "      <td>2020-02-18</td>\n",
       "      <td>2</td>\n",
       "      <td>8.6</td>\n",
       "      <td>773600</td>\n",
       "    </tr>\n",
       "    <tr>\n",
       "      <td>2020-02-19</td>\n",
       "      <td>3</td>\n",
       "      <td>0.0</td>\n",
       "      <td>795204</td>\n",
       "    </tr>\n",
       "    <tr>\n",
       "      <td>2020-02-20</td>\n",
       "      <td>4</td>\n",
       "      <td>1.0</td>\n",
       "      <td>800284</td>\n",
       "    </tr>\n",
       "    <tr>\n",
       "      <td>2020-02-21</td>\n",
       "      <td>5</td>\n",
       "      <td>0.2</td>\n",
       "      <td>703123</td>\n",
       "    </tr>\n",
       "    <tr>\n",
       "      <td>2020-02-22</td>\n",
       "      <td>6</td>\n",
       "      <td>0.2</td>\n",
       "      <td>127953</td>\n",
       "    </tr>\n",
       "    <tr>\n",
       "      <td>2020-02-23</td>\n",
       "      <td>7</td>\n",
       "      <td>0.8</td>\n",
       "      <td>93485</td>\n",
       "    </tr>\n",
       "    <tr>\n",
       "      <td>2020-02-24</td>\n",
       "      <td>1</td>\n",
       "      <td>1.1</td>\n",
       "      <td>795210</td>\n",
       "    </tr>\n",
       "    <tr>\n",
       "      <td>2020-02-25</td>\n",
       "      <td>2</td>\n",
       "      <td>0.2</td>\n",
       "      <td>736552</td>\n",
       "    </tr>\n",
       "    <tr>\n",
       "      <td>2020-02-26</td>\n",
       "      <td>3</td>\n",
       "      <td>11.8</td>\n",
       "      <td>727372</td>\n",
       "    </tr>\n",
       "    <tr>\n",
       "      <td>2020-02-27</td>\n",
       "      <td>4</td>\n",
       "      <td>3.1</td>\n",
       "      <td>703693</td>\n",
       "    </tr>\n",
       "    <tr>\n",
       "      <td>2020-02-28</td>\n",
       "      <td>5</td>\n",
       "      <td>1.1</td>\n",
       "      <td>704527</td>\n",
       "    </tr>\n",
       "    <tr>\n",
       "      <td>2020-02-29</td>\n",
       "      <td>6</td>\n",
       "      <td>1.2</td>\n",
       "      <td>98604</td>\n",
       "    </tr>\n",
       "  </tbody>\n",
       "</table>\n",
       "</div>"
      ],
      "text/plain": [
       "            Weekday  Total Precip (mm)  Union Station Ridership\n",
       "Date                                                           \n",
       "2020-02-15        6                0.4                   113314\n",
       "2020-02-16        7                0.4                    90869\n",
       "2020-02-17        1                1.0                    84243\n",
       "2020-02-18        2                8.6                   773600\n",
       "2020-02-19        3                0.0                   795204\n",
       "2020-02-20        4                1.0                   800284\n",
       "2020-02-21        5                0.2                   703123\n",
       "2020-02-22        6                0.2                   127953\n",
       "2020-02-23        7                0.8                    93485\n",
       "2020-02-24        1                1.1                   795210\n",
       "2020-02-25        2                0.2                   736552\n",
       "2020-02-26        3               11.8                   727372\n",
       "2020-02-27        4                3.1                   703693\n",
       "2020-02-28        5                1.1                   704527\n",
       "2020-02-29        6                1.2                    98604"
      ]
     },
     "execution_count": 79,
     "metadata": {},
     "output_type": "execute_result"
    }
   ],
   "source": [
    "df[['Weekday','Total Precip (mm)','Union Station Ridership']].tail(15)"
   ]
  },
  {
   "cell_type": "code",
   "execution_count": 81,
   "metadata": {},
   "outputs": [
    {
     "name": "stdout",
     "output_type": "stream",
     "text": [
      "[[742228.8658063]]\n"
     ]
    }
   ],
   "source": [
    "# Let's look at the 18th of February\n",
    "prediction_1 = [[2, 8.6]]\n",
    "print(model.predict(prediction_1))"
   ]
  },
  {
   "cell_type": "markdown",
   "metadata": {},
   "source": [
    "The model predicted 742,228 riderships while the actual number was 773,600: the prediction was pretty close."
   ]
  },
  {
   "cell_type": "code",
   "execution_count": 84,
   "metadata": {},
   "outputs": [
    {
     "name": "stdout",
     "output_type": "stream",
     "text": [
      "[[631344.83616329]]\n"
     ]
    }
   ],
   "source": [
    "# Let's look at the 26th of February 2020\n",
    "prediction_2 = [[3, 11.8]]\n",
    "print(model.predict(prediction_2))"
   ]
  },
  {
   "cell_type": "markdown",
   "metadata": {},
   "source": [
    "The model predicted 631,344 riderships while the actual number was 727,372. The prediction here was not as accurate."
   ]
  }
 ],
 "metadata": {
  "kernelspec": {
   "display_name": "Python 3",
   "language": "python",
   "name": "python3"
  },
  "language_info": {
   "codemirror_mode": {
    "name": "ipython",
    "version": 3
   },
   "file_extension": ".py",
   "mimetype": "text/x-python",
   "name": "python",
   "nbconvert_exporter": "python",
   "pygments_lexer": "ipython3",
   "version": "3.7.4"
  }
 },
 "nbformat": 4,
 "nbformat_minor": 2
}
