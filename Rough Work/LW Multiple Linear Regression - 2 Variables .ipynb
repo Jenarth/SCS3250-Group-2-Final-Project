{
  "nbformat": 4,
  "nbformat_minor": 0,
  "metadata": {
    "kernelspec": {
      "display_name": "Python 3",
      "language": "python",
      "name": "python3"
    },
    "language_info": {
      "codemirror_mode": {
        "name": "ipython",
        "version": 3
      },
      "file_extension": ".py",
      "mimetype": "text/x-python",
      "name": "python",
      "nbconvert_exporter": "python",
      "pygments_lexer": "ipython3",
      "version": "3.7.4"
    },
    "colab": {
      "name": "LW Multiple Linear Regression - 2 Variables .ipynb",
      "provenance": [],
      "include_colab_link": true
    }
  },
  "cells": [
    {
      "cell_type": "markdown",
      "metadata": {
        "id": "view-in-github",
        "colab_type": "text"
      },
      "source": [
        "<a href=\"https://colab.research.google.com/github/Jenarth/SCS3250-Group-2-Final-Project/blob/master/Rough%20Work/LW%20Multiple%20Linear%20Regression%20-%202%20Variables%20.ipynb\" target=\"_parent\"><img src=\"https://colab.research.google.com/assets/colab-badge.svg\" alt=\"Open In Colab\"/></a>"
      ]
    },
    {
      "cell_type": "code",
      "metadata": {
        "id": "YR8i-AXIVcQ-",
        "colab_type": "code",
        "colab": {}
      },
      "source": [
        "import pandas as pd\n",
        "import numpy as np\n",
        "from matplotlib import pyplot as plt\n",
        "from sklearn.linear_model import LinearRegression"
      ],
      "execution_count": 0,
      "outputs": []
    },
    {
      "cell_type": "code",
      "metadata": {
        "id": "wexZf0soVcRC",
        "colab_type": "code",
        "colab": {}
      },
      "source": [
        "# Let's import the dataset\n",
        "\n",
        "url = 'https://raw.githubusercontent.com/Jenarth/SCS3250-Group-2-Final-Project/master/Final%20Dataset.csv'\n",
        "df = pd.read_csv(url,index_col='Date', parse_dates=True)"
      ],
      "execution_count": 0,
      "outputs": []
    },
    {
      "cell_type": "code",
      "metadata": {
        "id": "mXirEmTFVcRF",
        "colab_type": "code",
        "colab": {
          "base_uri": "https://localhost:8080/",
          "height": 391
        },
        "outputId": "c428ea54-298c-4bc3-d123-400c5b37f2b9"
      },
      "source": [
        "# Let's convert weekdays into integers\n",
        "\n",
        "weekday = {'Monday':1 , 'Tuesday':2 , 'Wednesday':3, 'Thursday':4, 'Friday':5, 'Saturday':6, 'Sunday':7}\n",
        "df.Weekday = [weekday[item] for item in df.Weekday]\n",
        "df.head()"
      ],
      "execution_count": 6,
      "outputs": [
        {
          "output_type": "execute_result",
          "data": {
            "text/html": [
              "<div>\n",
              "<style scoped>\n",
              "    .dataframe tbody tr th:only-of-type {\n",
              "        vertical-align: middle;\n",
              "    }\n",
              "\n",
              "    .dataframe tbody tr th {\n",
              "        vertical-align: top;\n",
              "    }\n",
              "\n",
              "    .dataframe thead th {\n",
              "        text-align: right;\n",
              "    }\n",
              "</style>\n",
              "<table border=\"1\" class=\"dataframe\">\n",
              "  <thead>\n",
              "    <tr style=\"text-align: right;\">\n",
              "      <th></th>\n",
              "      <th>Year</th>\n",
              "      <th>Month</th>\n",
              "      <th>year_month</th>\n",
              "      <th>Day</th>\n",
              "      <th>Weekday</th>\n",
              "      <th>Holiday</th>\n",
              "      <th>Max Temp (°C)</th>\n",
              "      <th>Min Temp (°C)</th>\n",
              "      <th>Mean Temp (°C)</th>\n",
              "      <th>Monthly Mean Temp (°C)</th>\n",
              "      <th>Delta Temp (°C)</th>\n",
              "      <th>Total Precip (mm)</th>\n",
              "      <th>Monthly Mean Precip (mm)</th>\n",
              "      <th>Delta Precip (mm)</th>\n",
              "      <th>Snow on Grnd (cm)</th>\n",
              "      <th>Barrie Ridership</th>\n",
              "      <th>Kitchener Ridership</th>\n",
              "      <th>Lakeshore East Ridership</th>\n",
              "      <th>Lakeshore West Ridership</th>\n",
              "      <th>Milton Ridership</th>\n",
              "      <th>Richmond Hill Ridership</th>\n",
              "      <th>Stouffville Ridership</th>\n",
              "      <th>Union Station Ridership</th>\n",
              "      <th>Total GO Ridership</th>\n",
              "      <th>Outlier</th>\n",
              "      <th>Overall Mean</th>\n",
              "      <th>2SD_above</th>\n",
              "      <th>2SD_below</th>\n",
              "    </tr>\n",
              "    <tr>\n",
              "      <th>Date</th>\n",
              "      <th></th>\n",
              "      <th></th>\n",
              "      <th></th>\n",
              "      <th></th>\n",
              "      <th></th>\n",
              "      <th></th>\n",
              "      <th></th>\n",
              "      <th></th>\n",
              "      <th></th>\n",
              "      <th></th>\n",
              "      <th></th>\n",
              "      <th></th>\n",
              "      <th></th>\n",
              "      <th></th>\n",
              "      <th></th>\n",
              "      <th></th>\n",
              "      <th></th>\n",
              "      <th></th>\n",
              "      <th></th>\n",
              "      <th></th>\n",
              "      <th></th>\n",
              "      <th></th>\n",
              "      <th></th>\n",
              "      <th></th>\n",
              "      <th></th>\n",
              "      <th></th>\n",
              "      <th></th>\n",
              "      <th></th>\n",
              "    </tr>\n",
              "  </thead>\n",
              "  <tbody>\n",
              "    <tr>\n",
              "      <th>2017-03-01</th>\n",
              "      <td>2017</td>\n",
              "      <td>3</td>\n",
              "      <td>2017-03</td>\n",
              "      <td>1</td>\n",
              "      <td>3</td>\n",
              "      <td>False</td>\n",
              "      <td>13.1</td>\n",
              "      <td>-1.9</td>\n",
              "      <td>5.6</td>\n",
              "      <td>-0.251613</td>\n",
              "      <td>5.851613</td>\n",
              "      <td>18.4</td>\n",
              "      <td>2.335484</td>\n",
              "      <td>16.064516</td>\n",
              "      <td>0.0</td>\n",
              "      <td>10022</td>\n",
              "      <td>13585</td>\n",
              "      <td>25273</td>\n",
              "      <td>32909</td>\n",
              "      <td>15599</td>\n",
              "      <td>5639</td>\n",
              "      <td>8804</td>\n",
              "      <td>95802</td>\n",
              "      <td>207633</td>\n",
              "      <td>False</td>\n",
              "      <td>227296.503311</td>\n",
              "      <td>254365.810172</td>\n",
              "      <td>200227.196451</td>\n",
              "    </tr>\n",
              "    <tr>\n",
              "      <th>2017-03-02</th>\n",
              "      <td>2017</td>\n",
              "      <td>3</td>\n",
              "      <td>2017-03</td>\n",
              "      <td>2</td>\n",
              "      <td>4</td>\n",
              "      <td>False</td>\n",
              "      <td>-1.3</td>\n",
              "      <td>-6.4</td>\n",
              "      <td>-3.9</td>\n",
              "      <td>-0.251613</td>\n",
              "      <td>-3.648387</td>\n",
              "      <td>0.2</td>\n",
              "      <td>2.335484</td>\n",
              "      <td>-2.135484</td>\n",
              "      <td>0.5</td>\n",
              "      <td>9932</td>\n",
              "      <td>13331</td>\n",
              "      <td>26120</td>\n",
              "      <td>33884</td>\n",
              "      <td>15653</td>\n",
              "      <td>5665</td>\n",
              "      <td>8736</td>\n",
              "      <td>95873</td>\n",
              "      <td>209194</td>\n",
              "      <td>False</td>\n",
              "      <td>224966.615894</td>\n",
              "      <td>253295.696280</td>\n",
              "      <td>196637.535508</td>\n",
              "    </tr>\n",
              "    <tr>\n",
              "      <th>2017-03-03</th>\n",
              "      <td>2017</td>\n",
              "      <td>3</td>\n",
              "      <td>2017-03</td>\n",
              "      <td>3</td>\n",
              "      <td>5</td>\n",
              "      <td>False</td>\n",
              "      <td>-4.3</td>\n",
              "      <td>-8.1</td>\n",
              "      <td>-6.2</td>\n",
              "      <td>-0.251613</td>\n",
              "      <td>-5.948387</td>\n",
              "      <td>0.0</td>\n",
              "      <td>2.335484</td>\n",
              "      <td>-2.335484</td>\n",
              "      <td>0.5</td>\n",
              "      <td>8905</td>\n",
              "      <td>12235</td>\n",
              "      <td>23801</td>\n",
              "      <td>31473</td>\n",
              "      <td>14092</td>\n",
              "      <td>5129</td>\n",
              "      <td>7918</td>\n",
              "      <td>87200</td>\n",
              "      <td>190753</td>\n",
              "      <td>False</td>\n",
              "      <td>204211.905405</td>\n",
              "      <td>232457.905320</td>\n",
              "      <td>175965.905490</td>\n",
              "    </tr>\n",
              "    <tr>\n",
              "      <th>2017-03-04</th>\n",
              "      <td>2017</td>\n",
              "      <td>3</td>\n",
              "      <td>2017-03</td>\n",
              "      <td>4</td>\n",
              "      <td>6</td>\n",
              "      <td>False</td>\n",
              "      <td>-6.5</td>\n",
              "      <td>-11.9</td>\n",
              "      <td>-9.2</td>\n",
              "      <td>-0.251613</td>\n",
              "      <td>-8.948387</td>\n",
              "      <td>0.2</td>\n",
              "      <td>2.335484</td>\n",
              "      <td>-2.135484</td>\n",
              "      <td>0.5</td>\n",
              "      <td>928</td>\n",
              "      <td>480</td>\n",
              "      <td>7872</td>\n",
              "      <td>11756</td>\n",
              "      <td>208</td>\n",
              "      <td>0</td>\n",
              "      <td>246</td>\n",
              "      <td>13899</td>\n",
              "      <td>35389</td>\n",
              "      <td>False</td>\n",
              "      <td>45352.333333</td>\n",
              "      <td>73886.656469</td>\n",
              "      <td>16818.010198</td>\n",
              "    </tr>\n",
              "    <tr>\n",
              "      <th>2017-03-05</th>\n",
              "      <td>2017</td>\n",
              "      <td>3</td>\n",
              "      <td>2017-03</td>\n",
              "      <td>5</td>\n",
              "      <td>7</td>\n",
              "      <td>False</td>\n",
              "      <td>-0.4</td>\n",
              "      <td>-10.6</td>\n",
              "      <td>-5.5</td>\n",
              "      <td>-0.251613</td>\n",
              "      <td>-5.248387</td>\n",
              "      <td>0.0</td>\n",
              "      <td>2.335484</td>\n",
              "      <td>-2.335484</td>\n",
              "      <td>0.5</td>\n",
              "      <td>803</td>\n",
              "      <td>398</td>\n",
              "      <td>4714</td>\n",
              "      <td>8381</td>\n",
              "      <td>169</td>\n",
              "      <td>0</td>\n",
              "      <td>156</td>\n",
              "      <td>8505</td>\n",
              "      <td>23126</td>\n",
              "      <td>False</td>\n",
              "      <td>32455.370861</td>\n",
              "      <td>53039.519234</td>\n",
              "      <td>11871.222488</td>\n",
              "    </tr>\n",
              "  </tbody>\n",
              "</table>\n",
              "</div>"
            ],
            "text/plain": [
              "            Year  Month year_month  ...   Overall Mean      2SD_above      2SD_below\n",
              "Date                                ...                                             \n",
              "2017-03-01  2017      3    2017-03  ...  227296.503311  254365.810172  200227.196451\n",
              "2017-03-02  2017      3    2017-03  ...  224966.615894  253295.696280  196637.535508\n",
              "2017-03-03  2017      3    2017-03  ...  204211.905405  232457.905320  175965.905490\n",
              "2017-03-04  2017      3    2017-03  ...   45352.333333   73886.656469   16818.010198\n",
              "2017-03-05  2017      3    2017-03  ...   32455.370861   53039.519234   11871.222488\n",
              "\n",
              "[5 rows x 28 columns]"
            ]
          },
          "metadata": {
            "tags": []
          },
          "execution_count": 6
        }
      ]
    },
    {
      "cell_type": "code",
      "metadata": {
        "id": "Z4Bj7W5yVcRK",
        "colab_type": "code",
        "colab": {}
      },
      "source": [
        "# Build linear regression model using Weekday and Precipitation as predictors\n",
        "# Split data into predictors X and output Y\n",
        "\n",
        "predictors = ['Weekday','Total Precip (mm)']\n",
        "X= df[predictors]\n",
        "y=df['Union Station Ridership'].values.reshape(-1,1)"
      ],
      "execution_count": 0,
      "outputs": []
    },
    {
      "cell_type": "code",
      "metadata": {
        "id": "UO3D2UrvVcRM",
        "colab_type": "code",
        "colab": {}
      },
      "source": [
        "# Initialise and fit model\n",
        "lm = LinearRegression()\n",
        "model = lm.fit(X, y)"
      ],
      "execution_count": 0,
      "outputs": []
    },
    {
      "cell_type": "markdown",
      "metadata": {
        "id": "3h0N7lNvVcRP",
        "colab_type": "text"
      },
      "source": [
        "Instead of calulcating the values for alpha and betas, we have to call .intercept for alpha, and .coef_ for an array with our coefficients."
      ]
    },
    {
      "cell_type": "code",
      "metadata": {
        "id": "w6meBMMAVcRQ",
        "colab_type": "code",
        "colab": {
          "base_uri": "https://localhost:8080/",
          "height": 51
        },
        "outputId": "d6e1131c-4f3a-48c4-9530-be10e4d9026f"
      },
      "source": [
        "print(f'alpha = {model.intercept_}')\n",
        "print(f'betas = {model.coef_}')"
      ],
      "execution_count": 9,
      "outputs": [
        {
          "output_type": "stream",
          "text": [
            "alpha = [130407.35411283]\n",
            "betas = [[-14521.08711066   -117.60454459]]\n"
          ],
          "name": "stdout"
        }
      ]
    },
    {
      "cell_type": "markdown",
      "metadata": {
        "id": "Uz4kFH-uVcRS",
        "colab_type": "text"
      },
      "source": [
        "We can predict the values by using .predict()"
      ]
    },
    {
      "cell_type": "code",
      "metadata": {
        "id": "sCOwaneDVcRT",
        "colab_type": "code",
        "colab": {
          "base_uri": "https://localhost:8080/",
          "height": 136
        },
        "outputId": "93db049e-98fa-493f-c562-178277029776"
      },
      "source": [
        "y_pred = model.predict(X)\n",
        "y_pred"
      ],
      "execution_count": 10,
      "outputs": [
        {
          "output_type": "execute_result",
          "data": {
            "text/plain": [
              "array([[84680.16916041],\n",
              "       [72299.48476126],\n",
              "       [57801.91855952],\n",
              "       ...,\n",
              "       [71958.43158196],\n",
              "       [57672.55356047],\n",
              "       [43139.70599535]])"
            ]
          },
          "metadata": {
            "tags": []
          },
          "execution_count": 10
        }
      ]
    },
    {
      "cell_type": "code",
      "metadata": {
        "id": "Tca693I4VcRW",
        "colab_type": "code",
        "colab": {
          "base_uri": "https://localhost:8080/",
          "height": 34
        },
        "outputId": "b3cc282b-cd51-43bf-ee81-2f412ece6c8b"
      },
      "source": [
        "new_X = [[7, 0.2]]\n",
        "print(model.predict(new_X))"
      ],
      "execution_count": 11,
      "outputs": [
        {
          "output_type": "stream",
          "text": [
            "[[28736.22342928]]\n"
          ],
          "name": "stdout"
        }
      ]
    },
    {
      "cell_type": "markdown",
      "metadata": {
        "id": "NozvDDmnVcRZ",
        "colab_type": "text"
      },
      "source": [
        "Now that we have our predicting model, let's randomly pick a day and assess how far (or close) our model is from reality."
      ]
    },
    {
      "cell_type": "code",
      "metadata": {
        "id": "sGfdNjRvVcRa",
        "colab_type": "code",
        "colab": {
          "base_uri": "https://localhost:8080/",
          "height": 545
        },
        "outputId": "cb3af150-e678-4361-ef54-25b874aca2c5"
      },
      "source": [
        "df[['Weekday','Total Precip (mm)','Union Station Ridership']].tail(15)"
      ],
      "execution_count": 12,
      "outputs": [
        {
          "output_type": "execute_result",
          "data": {
            "text/html": [
              "<div>\n",
              "<style scoped>\n",
              "    .dataframe tbody tr th:only-of-type {\n",
              "        vertical-align: middle;\n",
              "    }\n",
              "\n",
              "    .dataframe tbody tr th {\n",
              "        vertical-align: top;\n",
              "    }\n",
              "\n",
              "    .dataframe thead th {\n",
              "        text-align: right;\n",
              "    }\n",
              "</style>\n",
              "<table border=\"1\" class=\"dataframe\">\n",
              "  <thead>\n",
              "    <tr style=\"text-align: right;\">\n",
              "      <th></th>\n",
              "      <th>Weekday</th>\n",
              "      <th>Total Precip (mm)</th>\n",
              "      <th>Union Station Ridership</th>\n",
              "    </tr>\n",
              "    <tr>\n",
              "      <th>Date</th>\n",
              "      <th></th>\n",
              "      <th></th>\n",
              "      <th></th>\n",
              "    </tr>\n",
              "  </thead>\n",
              "  <tbody>\n",
              "    <tr>\n",
              "      <th>2020-02-15</th>\n",
              "      <td>6</td>\n",
              "      <td>0.4</td>\n",
              "      <td>15296</td>\n",
              "    </tr>\n",
              "    <tr>\n",
              "      <th>2020-02-16</th>\n",
              "      <td>7</td>\n",
              "      <td>0.4</td>\n",
              "      <td>12262</td>\n",
              "    </tr>\n",
              "    <tr>\n",
              "      <th>2020-02-17</th>\n",
              "      <td>1</td>\n",
              "      <td>1.0</td>\n",
              "      <td>11370</td>\n",
              "    </tr>\n",
              "    <tr>\n",
              "      <th>2020-02-18</th>\n",
              "      <td>2</td>\n",
              "      <td>8.6</td>\n",
              "      <td>104432</td>\n",
              "    </tr>\n",
              "    <tr>\n",
              "      <th>2020-02-19</th>\n",
              "      <td>3</td>\n",
              "      <td>0.0</td>\n",
              "      <td>107351</td>\n",
              "    </tr>\n",
              "    <tr>\n",
              "      <th>2020-02-20</th>\n",
              "      <td>4</td>\n",
              "      <td>1.0</td>\n",
              "      <td>108033</td>\n",
              "    </tr>\n",
              "    <tr>\n",
              "      <th>2020-02-21</th>\n",
              "      <td>5</td>\n",
              "      <td>0.2</td>\n",
              "      <td>94914</td>\n",
              "    </tr>\n",
              "    <tr>\n",
              "      <th>2020-02-22</th>\n",
              "      <td>6</td>\n",
              "      <td>0.2</td>\n",
              "      <td>17267</td>\n",
              "    </tr>\n",
              "    <tr>\n",
              "      <th>2020-02-23</th>\n",
              "      <td>7</td>\n",
              "      <td>0.8</td>\n",
              "      <td>12615</td>\n",
              "    </tr>\n",
              "    <tr>\n",
              "      <th>2020-02-24</th>\n",
              "      <td>1</td>\n",
              "      <td>1.1</td>\n",
              "      <td>107350</td>\n",
              "    </tr>\n",
              "    <tr>\n",
              "      <th>2020-02-25</th>\n",
              "      <td>2</td>\n",
              "      <td>0.2</td>\n",
              "      <td>99431</td>\n",
              "    </tr>\n",
              "    <tr>\n",
              "      <th>2020-02-26</th>\n",
              "      <td>3</td>\n",
              "      <td>11.8</td>\n",
              "      <td>98193</td>\n",
              "    </tr>\n",
              "    <tr>\n",
              "      <th>2020-02-27</th>\n",
              "      <td>4</td>\n",
              "      <td>3.1</td>\n",
              "      <td>94998</td>\n",
              "    </tr>\n",
              "    <tr>\n",
              "      <th>2020-02-28</th>\n",
              "      <td>5</td>\n",
              "      <td>1.1</td>\n",
              "      <td>95108</td>\n",
              "    </tr>\n",
              "    <tr>\n",
              "      <th>2020-02-29</th>\n",
              "      <td>6</td>\n",
              "      <td>1.2</td>\n",
              "      <td>13307</td>\n",
              "    </tr>\n",
              "  </tbody>\n",
              "</table>\n",
              "</div>"
            ],
            "text/plain": [
              "            Weekday  Total Precip (mm)  Union Station Ridership\n",
              "Date                                                           \n",
              "2020-02-15        6                0.4                    15296\n",
              "2020-02-16        7                0.4                    12262\n",
              "2020-02-17        1                1.0                    11370\n",
              "2020-02-18        2                8.6                   104432\n",
              "2020-02-19        3                0.0                   107351\n",
              "2020-02-20        4                1.0                   108033\n",
              "2020-02-21        5                0.2                    94914\n",
              "2020-02-22        6                0.2                    17267\n",
              "2020-02-23        7                0.8                    12615\n",
              "2020-02-24        1                1.1                   107350\n",
              "2020-02-25        2                0.2                    99431\n",
              "2020-02-26        3               11.8                    98193\n",
              "2020-02-27        4                3.1                    94998\n",
              "2020-02-28        5                1.1                    95108\n",
              "2020-02-29        6                1.2                    13307"
            ]
          },
          "metadata": {
            "tags": []
          },
          "execution_count": 12
        }
      ]
    },
    {
      "cell_type": "code",
      "metadata": {
        "id": "Ah2LfJoNVcRc",
        "colab_type": "code",
        "colab": {
          "base_uri": "https://localhost:8080/",
          "height": 34
        },
        "outputId": "c3395594-3b3c-4425-b0c8-4dbc78a580aa"
      },
      "source": [
        "# Let's look at the 18th of February\n",
        "prediction_1 = [[2, 8.6]]\n",
        "print(model.predict(prediction_1))"
      ],
      "execution_count": 13,
      "outputs": [
        {
          "output_type": "stream",
          "text": [
            "[[100353.78080804]]\n"
          ],
          "name": "stdout"
        }
      ]
    },
    {
      "cell_type": "markdown",
      "metadata": {
        "id": "_3l3gsvhVcRf",
        "colab_type": "text"
      },
      "source": [
        "The model predicted 742,228 riderships while the actual number was 773,600: the prediction was pretty close."
      ]
    },
    {
      "cell_type": "code",
      "metadata": {
        "id": "ZZwMRjyJVcRg",
        "colab_type": "code",
        "colab": {
          "base_uri": "https://localhost:8080/",
          "height": 34
        },
        "outputId": "74a42d6c-dbe0-437f-f4c3-e61c42fa3cc8"
      },
      "source": [
        "# Let's look at the 26th of February 2020\n",
        "prediction_2 = [[3, 11.8]]\n",
        "print(model.predict(prediction_2))"
      ],
      "execution_count": 14,
      "outputs": [
        {
          "output_type": "stream",
          "text": [
            "[[85456.35915469]]\n"
          ],
          "name": "stdout"
        }
      ]
    },
    {
      "cell_type": "markdown",
      "metadata": {
        "id": "XaJ66MQFVcRj",
        "colab_type": "text"
      },
      "source": [
        "The model predicted 631,344 riderships while the actual number was 727,372. The prediction here was not as accurate."
      ]
    }
  ]
}