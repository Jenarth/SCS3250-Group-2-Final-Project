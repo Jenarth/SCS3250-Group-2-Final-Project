{
  "nbformat": 4,
  "nbformat_minor": 0,
  "metadata": {
    "colab": {
      "name": "Final Dataset.ipynb",
      "provenance": [],
      "include_colab_link": true
    },
    "kernelspec": {
      "name": "python3",
      "display_name": "Python 3"
    }
  },
  "cells": [
    {
      "cell_type": "markdown",
      "metadata": {
        "id": "view-in-github",
        "colab_type": "text"
      },
      "source": [
        "<a href=\"https://colab.research.google.com/github/Jenarth/SCS3250-Group-2-Final-Project/blob/master/MS_knn_dataset.ipynb\" target=\"_parent\"><img src=\"https://colab.research.google.com/assets/colab-badge.svg\" alt=\"Open In Colab\"/></a>"
      ]
    },
    {
      "cell_type": "code",
      "metadata": {
        "id": "-t3WZ8ANF7zY",
        "colab_type": "code",
        "colab": {}
      },
      "source": [
        "import pandas as pd\n",
        "import numpy as np\n",
        "from datetime import datetime\n",
        "import calendar\n",
        "import holidays\n",
        "import matplotlib.pyplot as plt\n",
        "\n",
        "dataset = pd.read_csv(\"https://github.com/Jenarth/SCS3250-Group-2-Final-Project/raw/master/Final%20Dataset.csv\")"
      ],
      "execution_count": 0,
      "outputs": []
    },
    {
      "cell_type": "code",
      "metadata": {
        "id": "T-pgk9LGOssH",
        "colab_type": "code",
        "outputId": "b390d3f7-bb12-465f-878f-46805d565640",
        "colab": {
          "base_uri": "https://localhost:8080/",
          "height": 496
        }
      },
      "source": [
        "go_ridership = ['Barrie Ridership', 'Kitchener Ridership', 'Lakeshore East Ridership', 'Lakeshore West Ridership', 'Milton Ridership', 'Richmond Hill Ridership', 'Stouffville Ridership', 'Union Station Ridership']\n",
        "dataset[go_ridership] = dataset[go_ridership].applymap(np.int64)\n",
        "dataset['Total GO Ridership'] = dataset[go_ridership].sum(axis=1)\n",
        "dataset"
      ],
      "execution_count": 275,
      "outputs": [
        {
          "output_type": "execute_result",
          "data": {
            "text/html": [
              "<div>\n",
              "<style scoped>\n",
              "    .dataframe tbody tr th:only-of-type {\n",
              "        vertical-align: middle;\n",
              "    }\n",
              "\n",
              "    .dataframe tbody tr th {\n",
              "        vertical-align: top;\n",
              "    }\n",
              "\n",
              "    .dataframe thead th {\n",
              "        text-align: right;\n",
              "    }\n",
              "</style>\n",
              "<table border=\"1\" class=\"dataframe\">\n",
              "  <thead>\n",
              "    <tr style=\"text-align: right;\">\n",
              "      <th></th>\n",
              "      <th>Date</th>\n",
              "      <th>Year</th>\n",
              "      <th>Month</th>\n",
              "      <th>year_month</th>\n",
              "      <th>Day</th>\n",
              "      <th>Weekday</th>\n",
              "      <th>Holiday</th>\n",
              "      <th>Max Temp (°C)</th>\n",
              "      <th>Min Temp (°C)</th>\n",
              "      <th>Mean Temp (°C)</th>\n",
              "      <th>Monthly Mean Temp (°C)</th>\n",
              "      <th>Delta Temp (°C)</th>\n",
              "      <th>Total Precip (mm)</th>\n",
              "      <th>Monthly Mean Precip (mm)</th>\n",
              "      <th>Delta Precip (mm)</th>\n",
              "      <th>Snow on Grnd (cm)</th>\n",
              "      <th>Barrie Ridership</th>\n",
              "      <th>Kitchener Ridership</th>\n",
              "      <th>Lakeshore East Ridership</th>\n",
              "      <th>Lakeshore West Ridership</th>\n",
              "      <th>Milton Ridership</th>\n",
              "      <th>Richmond Hill Ridership</th>\n",
              "      <th>Stouffville Ridership</th>\n",
              "      <th>Union Station Ridership</th>\n",
              "      <th>Total GO Ridership</th>\n",
              "    </tr>\n",
              "  </thead>\n",
              "  <tbody>\n",
              "    <tr>\n",
              "      <th>0</th>\n",
              "      <td>2017-03-01</td>\n",
              "      <td>2017</td>\n",
              "      <td>3</td>\n",
              "      <td>2017-03</td>\n",
              "      <td>1</td>\n",
              "      <td>Wednesday</td>\n",
              "      <td>False</td>\n",
              "      <td>13.1</td>\n",
              "      <td>-1.9</td>\n",
              "      <td>5.6</td>\n",
              "      <td>0.116129</td>\n",
              "      <td>5.483871</td>\n",
              "      <td>18.4</td>\n",
              "      <td>2.490323</td>\n",
              "      <td>15.909677</td>\n",
              "      <td>0.0</td>\n",
              "      <td>10022</td>\n",
              "      <td>13585</td>\n",
              "      <td>25273</td>\n",
              "      <td>32909</td>\n",
              "      <td>15599</td>\n",
              "      <td>5639</td>\n",
              "      <td>8804</td>\n",
              "      <td>95802</td>\n",
              "      <td>207633</td>\n",
              "    </tr>\n",
              "    <tr>\n",
              "      <th>1</th>\n",
              "      <td>2017-03-02</td>\n",
              "      <td>2017</td>\n",
              "      <td>3</td>\n",
              "      <td>2017-03</td>\n",
              "      <td>2</td>\n",
              "      <td>Thursday</td>\n",
              "      <td>False</td>\n",
              "      <td>-1.3</td>\n",
              "      <td>-6.4</td>\n",
              "      <td>-3.9</td>\n",
              "      <td>0.116129</td>\n",
              "      <td>-4.016129</td>\n",
              "      <td>0.2</td>\n",
              "      <td>2.490323</td>\n",
              "      <td>-2.290323</td>\n",
              "      <td>0.5</td>\n",
              "      <td>9932</td>\n",
              "      <td>13331</td>\n",
              "      <td>26120</td>\n",
              "      <td>33884</td>\n",
              "      <td>15653</td>\n",
              "      <td>5665</td>\n",
              "      <td>8736</td>\n",
              "      <td>95873</td>\n",
              "      <td>209194</td>\n",
              "    </tr>\n",
              "    <tr>\n",
              "      <th>2</th>\n",
              "      <td>2017-03-03</td>\n",
              "      <td>2017</td>\n",
              "      <td>3</td>\n",
              "      <td>2017-03</td>\n",
              "      <td>3</td>\n",
              "      <td>Friday</td>\n",
              "      <td>False</td>\n",
              "      <td>-4.3</td>\n",
              "      <td>-8.1</td>\n",
              "      <td>-6.2</td>\n",
              "      <td>0.116129</td>\n",
              "      <td>-6.316129</td>\n",
              "      <td>0.0</td>\n",
              "      <td>2.490323</td>\n",
              "      <td>-2.490323</td>\n",
              "      <td>0.5</td>\n",
              "      <td>8905</td>\n",
              "      <td>12235</td>\n",
              "      <td>23801</td>\n",
              "      <td>31473</td>\n",
              "      <td>14092</td>\n",
              "      <td>5129</td>\n",
              "      <td>7918</td>\n",
              "      <td>87200</td>\n",
              "      <td>190753</td>\n",
              "    </tr>\n",
              "    <tr>\n",
              "      <th>3</th>\n",
              "      <td>2017-03-04</td>\n",
              "      <td>2017</td>\n",
              "      <td>3</td>\n",
              "      <td>2017-03</td>\n",
              "      <td>4</td>\n",
              "      <td>Saturday</td>\n",
              "      <td>False</td>\n",
              "      <td>-6.5</td>\n",
              "      <td>-11.9</td>\n",
              "      <td>-9.2</td>\n",
              "      <td>0.116129</td>\n",
              "      <td>-9.316129</td>\n",
              "      <td>0.2</td>\n",
              "      <td>2.490323</td>\n",
              "      <td>-2.290323</td>\n",
              "      <td>0.5</td>\n",
              "      <td>928</td>\n",
              "      <td>480</td>\n",
              "      <td>7872</td>\n",
              "      <td>11756</td>\n",
              "      <td>208</td>\n",
              "      <td>0</td>\n",
              "      <td>246</td>\n",
              "      <td>13899</td>\n",
              "      <td>35389</td>\n",
              "    </tr>\n",
              "    <tr>\n",
              "      <th>4</th>\n",
              "      <td>2017-03-05</td>\n",
              "      <td>2017</td>\n",
              "      <td>3</td>\n",
              "      <td>2017-03</td>\n",
              "      <td>5</td>\n",
              "      <td>Sunday</td>\n",
              "      <td>False</td>\n",
              "      <td>-0.4</td>\n",
              "      <td>-10.6</td>\n",
              "      <td>-5.5</td>\n",
              "      <td>0.116129</td>\n",
              "      <td>-5.616129</td>\n",
              "      <td>0.0</td>\n",
              "      <td>2.490323</td>\n",
              "      <td>-2.490323</td>\n",
              "      <td>0.5</td>\n",
              "      <td>803</td>\n",
              "      <td>398</td>\n",
              "      <td>4714</td>\n",
              "      <td>8381</td>\n",
              "      <td>169</td>\n",
              "      <td>0</td>\n",
              "      <td>156</td>\n",
              "      <td>8505</td>\n",
              "      <td>23126</td>\n",
              "    </tr>\n",
              "    <tr>\n",
              "      <th>...</th>\n",
              "      <td>...</td>\n",
              "      <td>...</td>\n",
              "      <td>...</td>\n",
              "      <td>...</td>\n",
              "      <td>...</td>\n",
              "      <td>...</td>\n",
              "      <td>...</td>\n",
              "      <td>...</td>\n",
              "      <td>...</td>\n",
              "      <td>...</td>\n",
              "      <td>...</td>\n",
              "      <td>...</td>\n",
              "      <td>...</td>\n",
              "      <td>...</td>\n",
              "      <td>...</td>\n",
              "      <td>...</td>\n",
              "      <td>...</td>\n",
              "      <td>...</td>\n",
              "      <td>...</td>\n",
              "      <td>...</td>\n",
              "      <td>...</td>\n",
              "      <td>...</td>\n",
              "      <td>...</td>\n",
              "      <td>...</td>\n",
              "      <td>...</td>\n",
              "    </tr>\n",
              "    <tr>\n",
              "      <th>1091</th>\n",
              "      <td>2020-02-25</td>\n",
              "      <td>2020</td>\n",
              "      <td>2</td>\n",
              "      <td>2020-02</td>\n",
              "      <td>25</td>\n",
              "      <td>Tuesday</td>\n",
              "      <td>False</td>\n",
              "      <td>5.6</td>\n",
              "      <td>1.7</td>\n",
              "      <td>3.7</td>\n",
              "      <td>-1.906897</td>\n",
              "      <td>5.606897</td>\n",
              "      <td>0.2</td>\n",
              "      <td>2.137931</td>\n",
              "      <td>-1.937931</td>\n",
              "      <td>0.0</td>\n",
              "      <td>13650</td>\n",
              "      <td>15097</td>\n",
              "      <td>29727</td>\n",
              "      <td>36973</td>\n",
              "      <td>17192</td>\n",
              "      <td>6865</td>\n",
              "      <td>10485</td>\n",
              "      <td>99431</td>\n",
              "      <td>229420</td>\n",
              "    </tr>\n",
              "    <tr>\n",
              "      <th>1092</th>\n",
              "      <td>2020-02-26</td>\n",
              "      <td>2020</td>\n",
              "      <td>2</td>\n",
              "      <td>2020-02</td>\n",
              "      <td>26</td>\n",
              "      <td>Wednesday</td>\n",
              "      <td>False</td>\n",
              "      <td>4.1</td>\n",
              "      <td>-3.2</td>\n",
              "      <td>0.4</td>\n",
              "      <td>-1.906897</td>\n",
              "      <td>2.306897</td>\n",
              "      <td>11.8</td>\n",
              "      <td>2.137931</td>\n",
              "      <td>9.662069</td>\n",
              "      <td>0.0</td>\n",
              "      <td>12596</td>\n",
              "      <td>13557</td>\n",
              "      <td>26690</td>\n",
              "      <td>33732</td>\n",
              "      <td>14331</td>\n",
              "      <td>6215</td>\n",
              "      <td>9749</td>\n",
              "      <td>98193</td>\n",
              "      <td>215063</td>\n",
              "    </tr>\n",
              "    <tr>\n",
              "      <th>1093</th>\n",
              "      <td>2020-02-27</td>\n",
              "      <td>2020</td>\n",
              "      <td>2</td>\n",
              "      <td>2020-02</td>\n",
              "      <td>27</td>\n",
              "      <td>Thursday</td>\n",
              "      <td>False</td>\n",
              "      <td>-2.7</td>\n",
              "      <td>-5.3</td>\n",
              "      <td>-4.0</td>\n",
              "      <td>-1.906897</td>\n",
              "      <td>-2.093103</td>\n",
              "      <td>3.1</td>\n",
              "      <td>2.137931</td>\n",
              "      <td>0.962069</td>\n",
              "      <td>0.0</td>\n",
              "      <td>11349</td>\n",
              "      <td>13074</td>\n",
              "      <td>26818</td>\n",
              "      <td>34180</td>\n",
              "      <td>15281</td>\n",
              "      <td>5522</td>\n",
              "      <td>9151</td>\n",
              "      <td>94998</td>\n",
              "      <td>210373</td>\n",
              "    </tr>\n",
              "    <tr>\n",
              "      <th>1094</th>\n",
              "      <td>2020-02-28</td>\n",
              "      <td>2020</td>\n",
              "      <td>2</td>\n",
              "      <td>2020-02</td>\n",
              "      <td>28</td>\n",
              "      <td>Friday</td>\n",
              "      <td>False</td>\n",
              "      <td>-2.5</td>\n",
              "      <td>-9.4</td>\n",
              "      <td>-5.9</td>\n",
              "      <td>-1.906897</td>\n",
              "      <td>-3.993103</td>\n",
              "      <td>1.1</td>\n",
              "      <td>2.137931</td>\n",
              "      <td>-1.037931</td>\n",
              "      <td>0.0</td>\n",
              "      <td>11098</td>\n",
              "      <td>13008</td>\n",
              "      <td>27785</td>\n",
              "      <td>34263</td>\n",
              "      <td>14426</td>\n",
              "      <td>5629</td>\n",
              "      <td>8759</td>\n",
              "      <td>95108</td>\n",
              "      <td>210076</td>\n",
              "    </tr>\n",
              "    <tr>\n",
              "      <th>1095</th>\n",
              "      <td>2020-02-29</td>\n",
              "      <td>2020</td>\n",
              "      <td>2</td>\n",
              "      <td>2020-02</td>\n",
              "      <td>29</td>\n",
              "      <td>Saturday</td>\n",
              "      <td>False</td>\n",
              "      <td>-3.2</td>\n",
              "      <td>-12.8</td>\n",
              "      <td>-8.0</td>\n",
              "      <td>-1.906897</td>\n",
              "      <td>-6.093103</td>\n",
              "      <td>1.2</td>\n",
              "      <td>2.137931</td>\n",
              "      <td>-0.937931</td>\n",
              "      <td>0.0</td>\n",
              "      <td>1791</td>\n",
              "      <td>134</td>\n",
              "      <td>7107</td>\n",
              "      <td>11161</td>\n",
              "      <td>74</td>\n",
              "      <td>0</td>\n",
              "      <td>675</td>\n",
              "      <td>13307</td>\n",
              "      <td>34249</td>\n",
              "    </tr>\n",
              "  </tbody>\n",
              "</table>\n",
              "<p>1096 rows × 25 columns</p>\n",
              "</div>"
            ],
            "text/plain": [
              "            Date  Year  ...  Union Station Ridership Total GO Ridership\n",
              "0     2017-03-01  2017  ...                    95802             207633\n",
              "1     2017-03-02  2017  ...                    95873             209194\n",
              "2     2017-03-03  2017  ...                    87200             190753\n",
              "3     2017-03-04  2017  ...                    13899              35389\n",
              "4     2017-03-05  2017  ...                     8505              23126\n",
              "...          ...   ...  ...                      ...                ...\n",
              "1091  2020-02-25  2020  ...                    99431             229420\n",
              "1092  2020-02-26  2020  ...                    98193             215063\n",
              "1093  2020-02-27  2020  ...                    94998             210373\n",
              "1094  2020-02-28  2020  ...                    95108             210076\n",
              "1095  2020-02-29  2020  ...                    13307              34249\n",
              "\n",
              "[1096 rows x 25 columns]"
            ]
          },
          "metadata": {
            "tags": []
          },
          "execution_count": 275
        }
      ]
    },
    {
      "cell_type": "code",
      "metadata": {
        "id": "A-8SyqamQBZ3",
        "colab_type": "code",
        "outputId": "4524766e-42ee-47ca-b0ef-905bd9f4397a",
        "colab": {
          "base_uri": "https://localhost:8080/",
          "height": 496
        }
      },
      "source": [
        "holidays_CAN = holidays.Canada(years=[2017,2018,2019,2020], expand=True, observed=True, prov='ON', state=None)\n",
        "dataset[\"Holiday\"] = dataset[\"Date\"].isin(holidays_CAN)\n",
        "dataset[\"Holiday\"] = dataset[\"Holiday\"]\n",
        "dataset = dataset[['Date', 'Year', 'Month', 'year_month', 'Day', 'Weekday', 'Holiday','Max Temp (°C)', 'Min Temp (°C)', 'Mean Temp (°C)', 'Monthly Mean Temp (°C)', 'Delta Temp (°C)', 'Total Precip (mm)', 'Monthly Mean Precip (mm)' , 'Delta Precip (mm)', 'Snow on Grnd (cm)', 'Barrie Ridership', 'Kitchener Ridership', 'Lakeshore East Ridership', 'Lakeshore West Ridership', 'Milton Ridership', 'Richmond Hill Ridership', 'Stouffville Ridership', 'Union Station Ridership', 'Total GO Ridership']]\n",
        "dataset"
      ],
      "execution_count": 276,
      "outputs": [
        {
          "output_type": "execute_result",
          "data": {
            "text/html": [
              "<div>\n",
              "<style scoped>\n",
              "    .dataframe tbody tr th:only-of-type {\n",
              "        vertical-align: middle;\n",
              "    }\n",
              "\n",
              "    .dataframe tbody tr th {\n",
              "        vertical-align: top;\n",
              "    }\n",
              "\n",
              "    .dataframe thead th {\n",
              "        text-align: right;\n",
              "    }\n",
              "</style>\n",
              "<table border=\"1\" class=\"dataframe\">\n",
              "  <thead>\n",
              "    <tr style=\"text-align: right;\">\n",
              "      <th></th>\n",
              "      <th>Date</th>\n",
              "      <th>Year</th>\n",
              "      <th>Month</th>\n",
              "      <th>year_month</th>\n",
              "      <th>Day</th>\n",
              "      <th>Weekday</th>\n",
              "      <th>Holiday</th>\n",
              "      <th>Max Temp (°C)</th>\n",
              "      <th>Min Temp (°C)</th>\n",
              "      <th>Mean Temp (°C)</th>\n",
              "      <th>Monthly Mean Temp (°C)</th>\n",
              "      <th>Delta Temp (°C)</th>\n",
              "      <th>Total Precip (mm)</th>\n",
              "      <th>Monthly Mean Precip (mm)</th>\n",
              "      <th>Delta Precip (mm)</th>\n",
              "      <th>Snow on Grnd (cm)</th>\n",
              "      <th>Barrie Ridership</th>\n",
              "      <th>Kitchener Ridership</th>\n",
              "      <th>Lakeshore East Ridership</th>\n",
              "      <th>Lakeshore West Ridership</th>\n",
              "      <th>Milton Ridership</th>\n",
              "      <th>Richmond Hill Ridership</th>\n",
              "      <th>Stouffville Ridership</th>\n",
              "      <th>Union Station Ridership</th>\n",
              "      <th>Total GO Ridership</th>\n",
              "    </tr>\n",
              "  </thead>\n",
              "  <tbody>\n",
              "    <tr>\n",
              "      <th>0</th>\n",
              "      <td>2017-03-01</td>\n",
              "      <td>2017</td>\n",
              "      <td>3</td>\n",
              "      <td>2017-03</td>\n",
              "      <td>1</td>\n",
              "      <td>Wednesday</td>\n",
              "      <td>False</td>\n",
              "      <td>13.1</td>\n",
              "      <td>-1.9</td>\n",
              "      <td>5.6</td>\n",
              "      <td>0.116129</td>\n",
              "      <td>5.483871</td>\n",
              "      <td>18.4</td>\n",
              "      <td>2.490323</td>\n",
              "      <td>15.909677</td>\n",
              "      <td>0.0</td>\n",
              "      <td>10022</td>\n",
              "      <td>13585</td>\n",
              "      <td>25273</td>\n",
              "      <td>32909</td>\n",
              "      <td>15599</td>\n",
              "      <td>5639</td>\n",
              "      <td>8804</td>\n",
              "      <td>95802</td>\n",
              "      <td>207633</td>\n",
              "    </tr>\n",
              "    <tr>\n",
              "      <th>1</th>\n",
              "      <td>2017-03-02</td>\n",
              "      <td>2017</td>\n",
              "      <td>3</td>\n",
              "      <td>2017-03</td>\n",
              "      <td>2</td>\n",
              "      <td>Thursday</td>\n",
              "      <td>False</td>\n",
              "      <td>-1.3</td>\n",
              "      <td>-6.4</td>\n",
              "      <td>-3.9</td>\n",
              "      <td>0.116129</td>\n",
              "      <td>-4.016129</td>\n",
              "      <td>0.2</td>\n",
              "      <td>2.490323</td>\n",
              "      <td>-2.290323</td>\n",
              "      <td>0.5</td>\n",
              "      <td>9932</td>\n",
              "      <td>13331</td>\n",
              "      <td>26120</td>\n",
              "      <td>33884</td>\n",
              "      <td>15653</td>\n",
              "      <td>5665</td>\n",
              "      <td>8736</td>\n",
              "      <td>95873</td>\n",
              "      <td>209194</td>\n",
              "    </tr>\n",
              "    <tr>\n",
              "      <th>2</th>\n",
              "      <td>2017-03-03</td>\n",
              "      <td>2017</td>\n",
              "      <td>3</td>\n",
              "      <td>2017-03</td>\n",
              "      <td>3</td>\n",
              "      <td>Friday</td>\n",
              "      <td>False</td>\n",
              "      <td>-4.3</td>\n",
              "      <td>-8.1</td>\n",
              "      <td>-6.2</td>\n",
              "      <td>0.116129</td>\n",
              "      <td>-6.316129</td>\n",
              "      <td>0.0</td>\n",
              "      <td>2.490323</td>\n",
              "      <td>-2.490323</td>\n",
              "      <td>0.5</td>\n",
              "      <td>8905</td>\n",
              "      <td>12235</td>\n",
              "      <td>23801</td>\n",
              "      <td>31473</td>\n",
              "      <td>14092</td>\n",
              "      <td>5129</td>\n",
              "      <td>7918</td>\n",
              "      <td>87200</td>\n",
              "      <td>190753</td>\n",
              "    </tr>\n",
              "    <tr>\n",
              "      <th>3</th>\n",
              "      <td>2017-03-04</td>\n",
              "      <td>2017</td>\n",
              "      <td>3</td>\n",
              "      <td>2017-03</td>\n",
              "      <td>4</td>\n",
              "      <td>Saturday</td>\n",
              "      <td>False</td>\n",
              "      <td>-6.5</td>\n",
              "      <td>-11.9</td>\n",
              "      <td>-9.2</td>\n",
              "      <td>0.116129</td>\n",
              "      <td>-9.316129</td>\n",
              "      <td>0.2</td>\n",
              "      <td>2.490323</td>\n",
              "      <td>-2.290323</td>\n",
              "      <td>0.5</td>\n",
              "      <td>928</td>\n",
              "      <td>480</td>\n",
              "      <td>7872</td>\n",
              "      <td>11756</td>\n",
              "      <td>208</td>\n",
              "      <td>0</td>\n",
              "      <td>246</td>\n",
              "      <td>13899</td>\n",
              "      <td>35389</td>\n",
              "    </tr>\n",
              "    <tr>\n",
              "      <th>4</th>\n",
              "      <td>2017-03-05</td>\n",
              "      <td>2017</td>\n",
              "      <td>3</td>\n",
              "      <td>2017-03</td>\n",
              "      <td>5</td>\n",
              "      <td>Sunday</td>\n",
              "      <td>False</td>\n",
              "      <td>-0.4</td>\n",
              "      <td>-10.6</td>\n",
              "      <td>-5.5</td>\n",
              "      <td>0.116129</td>\n",
              "      <td>-5.616129</td>\n",
              "      <td>0.0</td>\n",
              "      <td>2.490323</td>\n",
              "      <td>-2.490323</td>\n",
              "      <td>0.5</td>\n",
              "      <td>803</td>\n",
              "      <td>398</td>\n",
              "      <td>4714</td>\n",
              "      <td>8381</td>\n",
              "      <td>169</td>\n",
              "      <td>0</td>\n",
              "      <td>156</td>\n",
              "      <td>8505</td>\n",
              "      <td>23126</td>\n",
              "    </tr>\n",
              "    <tr>\n",
              "      <th>...</th>\n",
              "      <td>...</td>\n",
              "      <td>...</td>\n",
              "      <td>...</td>\n",
              "      <td>...</td>\n",
              "      <td>...</td>\n",
              "      <td>...</td>\n",
              "      <td>...</td>\n",
              "      <td>...</td>\n",
              "      <td>...</td>\n",
              "      <td>...</td>\n",
              "      <td>...</td>\n",
              "      <td>...</td>\n",
              "      <td>...</td>\n",
              "      <td>...</td>\n",
              "      <td>...</td>\n",
              "      <td>...</td>\n",
              "      <td>...</td>\n",
              "      <td>...</td>\n",
              "      <td>...</td>\n",
              "      <td>...</td>\n",
              "      <td>...</td>\n",
              "      <td>...</td>\n",
              "      <td>...</td>\n",
              "      <td>...</td>\n",
              "      <td>...</td>\n",
              "    </tr>\n",
              "    <tr>\n",
              "      <th>1091</th>\n",
              "      <td>2020-02-25</td>\n",
              "      <td>2020</td>\n",
              "      <td>2</td>\n",
              "      <td>2020-02</td>\n",
              "      <td>25</td>\n",
              "      <td>Tuesday</td>\n",
              "      <td>False</td>\n",
              "      <td>5.6</td>\n",
              "      <td>1.7</td>\n",
              "      <td>3.7</td>\n",
              "      <td>-1.906897</td>\n",
              "      <td>5.606897</td>\n",
              "      <td>0.2</td>\n",
              "      <td>2.137931</td>\n",
              "      <td>-1.937931</td>\n",
              "      <td>0.0</td>\n",
              "      <td>13650</td>\n",
              "      <td>15097</td>\n",
              "      <td>29727</td>\n",
              "      <td>36973</td>\n",
              "      <td>17192</td>\n",
              "      <td>6865</td>\n",
              "      <td>10485</td>\n",
              "      <td>99431</td>\n",
              "      <td>229420</td>\n",
              "    </tr>\n",
              "    <tr>\n",
              "      <th>1092</th>\n",
              "      <td>2020-02-26</td>\n",
              "      <td>2020</td>\n",
              "      <td>2</td>\n",
              "      <td>2020-02</td>\n",
              "      <td>26</td>\n",
              "      <td>Wednesday</td>\n",
              "      <td>False</td>\n",
              "      <td>4.1</td>\n",
              "      <td>-3.2</td>\n",
              "      <td>0.4</td>\n",
              "      <td>-1.906897</td>\n",
              "      <td>2.306897</td>\n",
              "      <td>11.8</td>\n",
              "      <td>2.137931</td>\n",
              "      <td>9.662069</td>\n",
              "      <td>0.0</td>\n",
              "      <td>12596</td>\n",
              "      <td>13557</td>\n",
              "      <td>26690</td>\n",
              "      <td>33732</td>\n",
              "      <td>14331</td>\n",
              "      <td>6215</td>\n",
              "      <td>9749</td>\n",
              "      <td>98193</td>\n",
              "      <td>215063</td>\n",
              "    </tr>\n",
              "    <tr>\n",
              "      <th>1093</th>\n",
              "      <td>2020-02-27</td>\n",
              "      <td>2020</td>\n",
              "      <td>2</td>\n",
              "      <td>2020-02</td>\n",
              "      <td>27</td>\n",
              "      <td>Thursday</td>\n",
              "      <td>False</td>\n",
              "      <td>-2.7</td>\n",
              "      <td>-5.3</td>\n",
              "      <td>-4.0</td>\n",
              "      <td>-1.906897</td>\n",
              "      <td>-2.093103</td>\n",
              "      <td>3.1</td>\n",
              "      <td>2.137931</td>\n",
              "      <td>0.962069</td>\n",
              "      <td>0.0</td>\n",
              "      <td>11349</td>\n",
              "      <td>13074</td>\n",
              "      <td>26818</td>\n",
              "      <td>34180</td>\n",
              "      <td>15281</td>\n",
              "      <td>5522</td>\n",
              "      <td>9151</td>\n",
              "      <td>94998</td>\n",
              "      <td>210373</td>\n",
              "    </tr>\n",
              "    <tr>\n",
              "      <th>1094</th>\n",
              "      <td>2020-02-28</td>\n",
              "      <td>2020</td>\n",
              "      <td>2</td>\n",
              "      <td>2020-02</td>\n",
              "      <td>28</td>\n",
              "      <td>Friday</td>\n",
              "      <td>False</td>\n",
              "      <td>-2.5</td>\n",
              "      <td>-9.4</td>\n",
              "      <td>-5.9</td>\n",
              "      <td>-1.906897</td>\n",
              "      <td>-3.993103</td>\n",
              "      <td>1.1</td>\n",
              "      <td>2.137931</td>\n",
              "      <td>-1.037931</td>\n",
              "      <td>0.0</td>\n",
              "      <td>11098</td>\n",
              "      <td>13008</td>\n",
              "      <td>27785</td>\n",
              "      <td>34263</td>\n",
              "      <td>14426</td>\n",
              "      <td>5629</td>\n",
              "      <td>8759</td>\n",
              "      <td>95108</td>\n",
              "      <td>210076</td>\n",
              "    </tr>\n",
              "    <tr>\n",
              "      <th>1095</th>\n",
              "      <td>2020-02-29</td>\n",
              "      <td>2020</td>\n",
              "      <td>2</td>\n",
              "      <td>2020-02</td>\n",
              "      <td>29</td>\n",
              "      <td>Saturday</td>\n",
              "      <td>False</td>\n",
              "      <td>-3.2</td>\n",
              "      <td>-12.8</td>\n",
              "      <td>-8.0</td>\n",
              "      <td>-1.906897</td>\n",
              "      <td>-6.093103</td>\n",
              "      <td>1.2</td>\n",
              "      <td>2.137931</td>\n",
              "      <td>-0.937931</td>\n",
              "      <td>0.0</td>\n",
              "      <td>1791</td>\n",
              "      <td>134</td>\n",
              "      <td>7107</td>\n",
              "      <td>11161</td>\n",
              "      <td>74</td>\n",
              "      <td>0</td>\n",
              "      <td>675</td>\n",
              "      <td>13307</td>\n",
              "      <td>34249</td>\n",
              "    </tr>\n",
              "  </tbody>\n",
              "</table>\n",
              "<p>1096 rows × 25 columns</p>\n",
              "</div>"
            ],
            "text/plain": [
              "            Date  Year  ...  Union Station Ridership Total GO Ridership\n",
              "0     2017-03-01  2017  ...                    95802             207633\n",
              "1     2017-03-02  2017  ...                    95873             209194\n",
              "2     2017-03-03  2017  ...                    87200             190753\n",
              "3     2017-03-04  2017  ...                    13899              35389\n",
              "4     2017-03-05  2017  ...                     8505              23126\n",
              "...          ...   ...  ...                      ...                ...\n",
              "1091  2020-02-25  2020  ...                    99431             229420\n",
              "1092  2020-02-26  2020  ...                    98193             215063\n",
              "1093  2020-02-27  2020  ...                    94998             210373\n",
              "1094  2020-02-28  2020  ...                    95108             210076\n",
              "1095  2020-02-29  2020  ...                    13307              34249\n",
              "\n",
              "[1096 rows x 25 columns]"
            ]
          },
          "metadata": {
            "tags": []
          },
          "execution_count": 276
        }
      ]
    },
    {
      "cell_type": "code",
      "metadata": {
        "id": "6Kg4ZDf2zP7B",
        "colab_type": "code",
        "colab": {}
      },
      "source": [
        "dataset.to_csv(\"Final Dataset.csv\", index=False)"
      ],
      "execution_count": 0,
      "outputs": []
    },
    {
      "cell_type": "code",
      "metadata": {
        "id": "hlS0yLGhz_G-",
        "colab_type": "code",
        "colab": {
          "base_uri": "https://localhost:8080/",
          "height": 348
        },
        "outputId": "f931df7f-5bf5-4b5b-f039-78a8464f4dad"
      },
      "source": [
        "#create bins for union ridership\n",
        "ridership_bins = [0,10000,20000,30000,40000,50000,60000,70000,80000,90000,100000,110000,120000,130000,140000,150000,160000] #try with smaller bins\n",
        "ridership_labels = ['0 to 10000','10000 to 20000','20000 to 30000','30000 to 40000','40000 to 50000','50000 to 60000','60000 to 70000','70000 to 80000','80000 to 90000','90000 to 100000','100000 to 110000','110000 to 120000','120000 to 130000','130000 to 140000','140000 to 150000','150000 to 160000']\n",
        "dataset['Union Station Ridership Ranges'] = pd.cut(dataset['Union Station Ridership'], bins=ridership_bins, labels=ridership_labels)\n",
        "dataset.head()"
      ],
      "execution_count": 278,
      "outputs": [
        {
          "output_type": "execute_result",
          "data": {
            "text/html": [
              "<div>\n",
              "<style scoped>\n",
              "    .dataframe tbody tr th:only-of-type {\n",
              "        vertical-align: middle;\n",
              "    }\n",
              "\n",
              "    .dataframe tbody tr th {\n",
              "        vertical-align: top;\n",
              "    }\n",
              "\n",
              "    .dataframe thead th {\n",
              "        text-align: right;\n",
              "    }\n",
              "</style>\n",
              "<table border=\"1\" class=\"dataframe\">\n",
              "  <thead>\n",
              "    <tr style=\"text-align: right;\">\n",
              "      <th></th>\n",
              "      <th>Date</th>\n",
              "      <th>Year</th>\n",
              "      <th>Month</th>\n",
              "      <th>year_month</th>\n",
              "      <th>Day</th>\n",
              "      <th>Weekday</th>\n",
              "      <th>Holiday</th>\n",
              "      <th>Max Temp (°C)</th>\n",
              "      <th>Min Temp (°C)</th>\n",
              "      <th>Mean Temp (°C)</th>\n",
              "      <th>Monthly Mean Temp (°C)</th>\n",
              "      <th>Delta Temp (°C)</th>\n",
              "      <th>Total Precip (mm)</th>\n",
              "      <th>Monthly Mean Precip (mm)</th>\n",
              "      <th>Delta Precip (mm)</th>\n",
              "      <th>Snow on Grnd (cm)</th>\n",
              "      <th>Barrie Ridership</th>\n",
              "      <th>Kitchener Ridership</th>\n",
              "      <th>Lakeshore East Ridership</th>\n",
              "      <th>Lakeshore West Ridership</th>\n",
              "      <th>Milton Ridership</th>\n",
              "      <th>Richmond Hill Ridership</th>\n",
              "      <th>Stouffville Ridership</th>\n",
              "      <th>Union Station Ridership</th>\n",
              "      <th>Total GO Ridership</th>\n",
              "      <th>Union Station Ridership Ranges</th>\n",
              "    </tr>\n",
              "  </thead>\n",
              "  <tbody>\n",
              "    <tr>\n",
              "      <th>0</th>\n",
              "      <td>2017-03-01</td>\n",
              "      <td>2017</td>\n",
              "      <td>3</td>\n",
              "      <td>2017-03</td>\n",
              "      <td>1</td>\n",
              "      <td>Wednesday</td>\n",
              "      <td>False</td>\n",
              "      <td>13.1</td>\n",
              "      <td>-1.9</td>\n",
              "      <td>5.6</td>\n",
              "      <td>0.116129</td>\n",
              "      <td>5.483871</td>\n",
              "      <td>18.4</td>\n",
              "      <td>2.490323</td>\n",
              "      <td>15.909677</td>\n",
              "      <td>0.0</td>\n",
              "      <td>10022</td>\n",
              "      <td>13585</td>\n",
              "      <td>25273</td>\n",
              "      <td>32909</td>\n",
              "      <td>15599</td>\n",
              "      <td>5639</td>\n",
              "      <td>8804</td>\n",
              "      <td>95802</td>\n",
              "      <td>207633</td>\n",
              "      <td>90000 to 100000</td>\n",
              "    </tr>\n",
              "    <tr>\n",
              "      <th>1</th>\n",
              "      <td>2017-03-02</td>\n",
              "      <td>2017</td>\n",
              "      <td>3</td>\n",
              "      <td>2017-03</td>\n",
              "      <td>2</td>\n",
              "      <td>Thursday</td>\n",
              "      <td>False</td>\n",
              "      <td>-1.3</td>\n",
              "      <td>-6.4</td>\n",
              "      <td>-3.9</td>\n",
              "      <td>0.116129</td>\n",
              "      <td>-4.016129</td>\n",
              "      <td>0.2</td>\n",
              "      <td>2.490323</td>\n",
              "      <td>-2.290323</td>\n",
              "      <td>0.5</td>\n",
              "      <td>9932</td>\n",
              "      <td>13331</td>\n",
              "      <td>26120</td>\n",
              "      <td>33884</td>\n",
              "      <td>15653</td>\n",
              "      <td>5665</td>\n",
              "      <td>8736</td>\n",
              "      <td>95873</td>\n",
              "      <td>209194</td>\n",
              "      <td>90000 to 100000</td>\n",
              "    </tr>\n",
              "    <tr>\n",
              "      <th>2</th>\n",
              "      <td>2017-03-03</td>\n",
              "      <td>2017</td>\n",
              "      <td>3</td>\n",
              "      <td>2017-03</td>\n",
              "      <td>3</td>\n",
              "      <td>Friday</td>\n",
              "      <td>False</td>\n",
              "      <td>-4.3</td>\n",
              "      <td>-8.1</td>\n",
              "      <td>-6.2</td>\n",
              "      <td>0.116129</td>\n",
              "      <td>-6.316129</td>\n",
              "      <td>0.0</td>\n",
              "      <td>2.490323</td>\n",
              "      <td>-2.490323</td>\n",
              "      <td>0.5</td>\n",
              "      <td>8905</td>\n",
              "      <td>12235</td>\n",
              "      <td>23801</td>\n",
              "      <td>31473</td>\n",
              "      <td>14092</td>\n",
              "      <td>5129</td>\n",
              "      <td>7918</td>\n",
              "      <td>87200</td>\n",
              "      <td>190753</td>\n",
              "      <td>80000 to 90000</td>\n",
              "    </tr>\n",
              "    <tr>\n",
              "      <th>3</th>\n",
              "      <td>2017-03-04</td>\n",
              "      <td>2017</td>\n",
              "      <td>3</td>\n",
              "      <td>2017-03</td>\n",
              "      <td>4</td>\n",
              "      <td>Saturday</td>\n",
              "      <td>False</td>\n",
              "      <td>-6.5</td>\n",
              "      <td>-11.9</td>\n",
              "      <td>-9.2</td>\n",
              "      <td>0.116129</td>\n",
              "      <td>-9.316129</td>\n",
              "      <td>0.2</td>\n",
              "      <td>2.490323</td>\n",
              "      <td>-2.290323</td>\n",
              "      <td>0.5</td>\n",
              "      <td>928</td>\n",
              "      <td>480</td>\n",
              "      <td>7872</td>\n",
              "      <td>11756</td>\n",
              "      <td>208</td>\n",
              "      <td>0</td>\n",
              "      <td>246</td>\n",
              "      <td>13899</td>\n",
              "      <td>35389</td>\n",
              "      <td>10000 to 20000</td>\n",
              "    </tr>\n",
              "    <tr>\n",
              "      <th>4</th>\n",
              "      <td>2017-03-05</td>\n",
              "      <td>2017</td>\n",
              "      <td>3</td>\n",
              "      <td>2017-03</td>\n",
              "      <td>5</td>\n",
              "      <td>Sunday</td>\n",
              "      <td>False</td>\n",
              "      <td>-0.4</td>\n",
              "      <td>-10.6</td>\n",
              "      <td>-5.5</td>\n",
              "      <td>0.116129</td>\n",
              "      <td>-5.616129</td>\n",
              "      <td>0.0</td>\n",
              "      <td>2.490323</td>\n",
              "      <td>-2.490323</td>\n",
              "      <td>0.5</td>\n",
              "      <td>803</td>\n",
              "      <td>398</td>\n",
              "      <td>4714</td>\n",
              "      <td>8381</td>\n",
              "      <td>169</td>\n",
              "      <td>0</td>\n",
              "      <td>156</td>\n",
              "      <td>8505</td>\n",
              "      <td>23126</td>\n",
              "      <td>0 to 10000</td>\n",
              "    </tr>\n",
              "  </tbody>\n",
              "</table>\n",
              "</div>"
            ],
            "text/plain": [
              "         Date  Year  ...  Total GO Ridership Union Station Ridership Ranges\n",
              "0  2017-03-01  2017  ...              207633                90000 to 100000\n",
              "1  2017-03-02  2017  ...              209194                90000 to 100000\n",
              "2  2017-03-03  2017  ...              190753                 80000 to 90000\n",
              "3  2017-03-04  2017  ...               35389                 10000 to 20000\n",
              "4  2017-03-05  2017  ...               23126                     0 to 10000\n",
              "\n",
              "[5 rows x 26 columns]"
            ]
          },
          "metadata": {
            "tags": []
          },
          "execution_count": 278
        }
      ]
    },
    {
      "cell_type": "code",
      "metadata": {
        "id": "H7b1lARr66Ar",
        "colab_type": "code",
        "colab": {
          "base_uri": "https://localhost:8080/",
          "height": 492
        },
        "outputId": "1b84d0ae-358b-4d17-e90a-abda764a2678"
      },
      "source": [
        "plt.style.use('ggplot')\n",
        "\n",
        "dataset[\"Union Station Ridership\"].plot(kind='hist', color='green', edgecolor='black', figsize=(10,7))\n",
        "plt.title('Union Station Ridership', size=24)\n",
        "plt.xlabel('Union Station Ridership', size=18)\n",
        "plt.ylabel('Frequency', size=18)"
      ],
      "execution_count": 279,
      "outputs": [
        {
          "output_type": "execute_result",
          "data": {
            "text/plain": [
              "Text(0, 0.5, 'Frequency')"
            ]
          },
          "metadata": {
            "tags": []
          },
          "execution_count": 279
        },
        {
          "output_type": "display_data",
          "data": {
            "image/png": "[encoded data removed]",
            "text/plain": [
              "<Figure size 720x504 with 1 Axes>"
            ]
          },
          "metadata": {
            "tags": []
          }
        }
      ]
    },
    {
      "cell_type": "code",
      "metadata": {
        "id": "TFC6lnVl8ULC",
        "colab_type": "code",
        "colab": {
          "base_uri": "https://localhost:8080/",
          "height": 492
        },
        "outputId": "6df4c525-639d-4c94-f855-f2bf4a64799b"
      },
      "source": [
        "dataset[\"Delta Temp (°C)\"].plot(kind='hist', color='blue', edgecolor='black', figsize=(10,7))\n",
        "plt.title('Delta Temp (°C)', size=24)\n",
        "plt.xlabel('Delta Temp (°C)', size=18)\n",
        "plt.ylabel('Frequency', size=18)"
      ],
      "execution_count": 280,
      "outputs": [
        {
          "output_type": "execute_result",
          "data": {
            "text/plain": [
              "Text(0, 0.5, 'Frequency')"
            ]
          },
          "metadata": {
            "tags": []
          },
          "execution_count": 280
        },
        {
          "output_type": "display_data",
          "data": {
            "image/png": "[encoded data removed]",
            "text/plain": [
              "<Figure size 720x504 with 1 Axes>"
            ]
          },
          "metadata": {
            "tags": []
          }
        }
      ]
    },
    {
      "cell_type": "code",
      "metadata": {
        "id": "aueyJ2gd8ZL_",
        "colab_type": "code",
        "colab": {
          "base_uri": "https://localhost:8080/",
          "height": 492
        },
        "outputId": "ea34acc1-254c-4d13-f75b-b5669b8aed84"
      },
      "source": [
        "dataset[\"Delta Precip (mm)\"].plot(kind='hist', color='purple', edgecolor='black', figsize=(10,7))\n",
        "plt.title('Delta Precip (mm)', size=24)\n",
        "plt.xlabel('Delta Precip (mm)', size=18)\n",
        "plt.ylabel('Frequency', size=18)"
      ],
      "execution_count": 281,
      "outputs": [
        {
          "output_type": "execute_result",
          "data": {
            "text/plain": [
              "Text(0, 0.5, 'Frequency')"
            ]
          },
          "metadata": {
            "tags": []
          },
          "execution_count": 281
        },
        {
          "output_type": "display_data",
          "data": {
            "image/png": "[encoded data removed]",
            "text/plain": [
              "<Figure size 720x504 with 1 Axes>"
            ]
          },
          "metadata": {
            "tags": []
          }
        }
      ]
    },
    {
      "cell_type": "code",
      "metadata": {
        "id": "U4RJFRja2nwZ",
        "colab_type": "code",
        "colab": {
          "base_uri": "https://localhost:8080/",
          "height": 652
        },
        "outputId": "edc28376-45c6-46c8-a589-32974923f8fd"
      },
      "source": [
        "#change weekdays to numbers\n",
        "\n",
        "def CategorizeByWeekday(x):\n",
        "    if x['Weekday']=='Sunday':\n",
        "      val = 1\n",
        "    elif x['Weekday']=='Monday':\n",
        "      val = 2\n",
        "    elif x['Weekday']=='Tuesday':\n",
        "      val = 3\n",
        "    elif x['Weekday']=='Wednesday':\n",
        "      val = 4\n",
        "    elif x['Weekday']=='Thursday':\n",
        "      val = 5\n",
        "    elif x['Weekday']=='Friday':\n",
        "      val = 6\n",
        "    elif x['Weekday']=='Saturday':\n",
        "      val = 7            \n",
        "    else:\n",
        "      val = \"None\"\n",
        "    return val\n",
        "\n",
        "dataset[\"Weekday\"] = dataset.apply(CategorizeByWeekday, axis = 1)\n",
        "\n",
        "dataset"
      ],
      "execution_count": 282,
      "outputs": [
        {
          "output_type": "execute_result",
          "data": {
            "text/html": [
              "<div>\n",
              "<style scoped>\n",
              "    .dataframe tbody tr th:only-of-type {\n",
              "        vertical-align: middle;\n",
              "    }\n",
              "\n",
              "    .dataframe tbody tr th {\n",
              "        vertical-align: top;\n",
              "    }\n",
              "\n",
              "    .dataframe thead th {\n",
              "        text-align: right;\n",
              "    }\n",
              "</style>\n",
              "<table border=\"1\" class=\"dataframe\">\n",
              "  <thead>\n",
              "    <tr style=\"text-align: right;\">\n",
              "      <th></th>\n",
              "      <th>Date</th>\n",
              "      <th>Year</th>\n",
              "      <th>Month</th>\n",
              "      <th>year_month</th>\n",
              "      <th>Day</th>\n",
              "      <th>Weekday</th>\n",
              "      <th>Holiday</th>\n",
              "      <th>Max Temp (°C)</th>\n",
              "      <th>Min Temp (°C)</th>\n",
              "      <th>Mean Temp (°C)</th>\n",
              "      <th>Monthly Mean Temp (°C)</th>\n",
              "      <th>Delta Temp (°C)</th>\n",
              "      <th>Total Precip (mm)</th>\n",
              "      <th>Monthly Mean Precip (mm)</th>\n",
              "      <th>Delta Precip (mm)</th>\n",
              "      <th>Snow on Grnd (cm)</th>\n",
              "      <th>Barrie Ridership</th>\n",
              "      <th>Kitchener Ridership</th>\n",
              "      <th>Lakeshore East Ridership</th>\n",
              "      <th>Lakeshore West Ridership</th>\n",
              "      <th>Milton Ridership</th>\n",
              "      <th>Richmond Hill Ridership</th>\n",
              "      <th>Stouffville Ridership</th>\n",
              "      <th>Union Station Ridership</th>\n",
              "      <th>Total GO Ridership</th>\n",
              "      <th>Union Station Ridership Ranges</th>\n",
              "    </tr>\n",
              "  </thead>\n",
              "  <tbody>\n",
              "    <tr>\n",
              "      <th>0</th>\n",
              "      <td>2017-03-01</td>\n",
              "      <td>2017</td>\n",
              "      <td>3</td>\n",
              "      <td>2017-03</td>\n",
              "      <td>1</td>\n",
              "      <td>4</td>\n",
              "      <td>False</td>\n",
              "      <td>13.1</td>\n",
              "      <td>-1.9</td>\n",
              "      <td>5.6</td>\n",
              "      <td>0.116129</td>\n",
              "      <td>5.483871</td>\n",
              "      <td>18.4</td>\n",
              "      <td>2.490323</td>\n",
              "      <td>15.909677</td>\n",
              "      <td>0.0</td>\n",
              "      <td>10022</td>\n",
              "      <td>13585</td>\n",
              "      <td>25273</td>\n",
              "      <td>32909</td>\n",
              "      <td>15599</td>\n",
              "      <td>5639</td>\n",
              "      <td>8804</td>\n",
              "      <td>95802</td>\n",
              "      <td>207633</td>\n",
              "      <td>90000 to 100000</td>\n",
              "    </tr>\n",
              "    <tr>\n",
              "      <th>1</th>\n",
              "      <td>2017-03-02</td>\n",
              "      <td>2017</td>\n",
              "      <td>3</td>\n",
              "      <td>2017-03</td>\n",
              "      <td>2</td>\n",
              "      <td>5</td>\n",
              "      <td>False</td>\n",
              "      <td>-1.3</td>\n",
              "      <td>-6.4</td>\n",
              "      <td>-3.9</td>\n",
              "      <td>0.116129</td>\n",
              "      <td>-4.016129</td>\n",
              "      <td>0.2</td>\n",
              "      <td>2.490323</td>\n",
              "      <td>-2.290323</td>\n",
              "      <td>0.5</td>\n",
              "      <td>9932</td>\n",
              "      <td>13331</td>\n",
              "      <td>26120</td>\n",
              "      <td>33884</td>\n",
              "      <td>15653</td>\n",
              "      <td>5665</td>\n",
              "      <td>8736</td>\n",
              "      <td>95873</td>\n",
              "      <td>209194</td>\n",
              "      <td>90000 to 100000</td>\n",
              "    </tr>\n",
              "    <tr>\n",
              "      <th>2</th>\n",
              "      <td>2017-03-03</td>\n",
              "      <td>2017</td>\n",
              "      <td>3</td>\n",
              "      <td>2017-03</td>\n",
              "      <td>3</td>\n",
              "      <td>6</td>\n",
              "      <td>False</td>\n",
              "      <td>-4.3</td>\n",
              "      <td>-8.1</td>\n",
              "      <td>-6.2</td>\n",
              "      <td>0.116129</td>\n",
              "      <td>-6.316129</td>\n",
              "      <td>0.0</td>\n",
              "      <td>2.490323</td>\n",
              "      <td>-2.490323</td>\n",
              "      <td>0.5</td>\n",
              "      <td>8905</td>\n",
              "      <td>12235</td>\n",
              "      <td>23801</td>\n",
              "      <td>31473</td>\n",
              "      <td>14092</td>\n",
              "      <td>5129</td>\n",
              "      <td>7918</td>\n",
              "      <td>87200</td>\n",
              "      <td>190753</td>\n",
              "      <td>80000 to 90000</td>\n",
              "    </tr>\n",
              "    <tr>\n",
              "      <th>3</th>\n",
              "      <td>2017-03-04</td>\n",
              "      <td>2017</td>\n",
              "      <td>3</td>\n",
              "      <td>2017-03</td>\n",
              "      <td>4</td>\n",
              "      <td>7</td>\n",
              "      <td>False</td>\n",
              "      <td>-6.5</td>\n",
              "      <td>-11.9</td>\n",
              "      <td>-9.2</td>\n",
              "      <td>0.116129</td>\n",
              "      <td>-9.316129</td>\n",
              "      <td>0.2</td>\n",
              "      <td>2.490323</td>\n",
              "      <td>-2.290323</td>\n",
              "      <td>0.5</td>\n",
              "      <td>928</td>\n",
              "      <td>480</td>\n",
              "      <td>7872</td>\n",
              "      <td>11756</td>\n",
              "      <td>208</td>\n",
              "      <td>0</td>\n",
              "      <td>246</td>\n",
              "      <td>13899</td>\n",
              "      <td>35389</td>\n",
              "      <td>10000 to 20000</td>\n",
              "    </tr>\n",
              "    <tr>\n",
              "      <th>4</th>\n",
              "      <td>2017-03-05</td>\n",
              "      <td>2017</td>\n",
              "      <td>3</td>\n",
              "      <td>2017-03</td>\n",
              "      <td>5</td>\n",
              "      <td>1</td>\n",
              "      <td>False</td>\n",
              "      <td>-0.4</td>\n",
              "      <td>-10.6</td>\n",
              "      <td>-5.5</td>\n",
              "      <td>0.116129</td>\n",
              "      <td>-5.616129</td>\n",
              "      <td>0.0</td>\n",
              "      <td>2.490323</td>\n",
              "      <td>-2.490323</td>\n",
              "      <td>0.5</td>\n",
              "      <td>803</td>\n",
              "      <td>398</td>\n",
              "      <td>4714</td>\n",
              "      <td>8381</td>\n",
              "      <td>169</td>\n",
              "      <td>0</td>\n",
              "      <td>156</td>\n",
              "      <td>8505</td>\n",
              "      <td>23126</td>\n",
              "      <td>0 to 10000</td>\n",
              "    </tr>\n",
              "    <tr>\n",
              "      <th>...</th>\n",
              "      <td>...</td>\n",
              "      <td>...</td>\n",
              "      <td>...</td>\n",
              "      <td>...</td>\n",
              "      <td>...</td>\n",
              "      <td>...</td>\n",
              "      <td>...</td>\n",
              "      <td>...</td>\n",
              "      <td>...</td>\n",
              "      <td>...</td>\n",
              "      <td>...</td>\n",
              "      <td>...</td>\n",
              "      <td>...</td>\n",
              "      <td>...</td>\n",
              "      <td>...</td>\n",
              "      <td>...</td>\n",
              "      <td>...</td>\n",
              "      <td>...</td>\n",
              "      <td>...</td>\n",
              "      <td>...</td>\n",
              "      <td>...</td>\n",
              "      <td>...</td>\n",
              "      <td>...</td>\n",
              "      <td>...</td>\n",
              "      <td>...</td>\n",
              "      <td>...</td>\n",
              "    </tr>\n",
              "    <tr>\n",
              "      <th>1091</th>\n",
              "      <td>2020-02-25</td>\n",
              "      <td>2020</td>\n",
              "      <td>2</td>\n",
              "      <td>2020-02</td>\n",
              "      <td>25</td>\n",
              "      <td>3</td>\n",
              "      <td>False</td>\n",
              "      <td>5.6</td>\n",
              "      <td>1.7</td>\n",
              "      <td>3.7</td>\n",
              "      <td>-1.906897</td>\n",
              "      <td>5.606897</td>\n",
              "      <td>0.2</td>\n",
              "      <td>2.137931</td>\n",
              "      <td>-1.937931</td>\n",
              "      <td>0.0</td>\n",
              "      <td>13650</td>\n",
              "      <td>15097</td>\n",
              "      <td>29727</td>\n",
              "      <td>36973</td>\n",
              "      <td>17192</td>\n",
              "      <td>6865</td>\n",
              "      <td>10485</td>\n",
              "      <td>99431</td>\n",
              "      <td>229420</td>\n",
              "      <td>90000 to 100000</td>\n",
              "    </tr>\n",
              "    <tr>\n",
              "      <th>1092</th>\n",
              "      <td>2020-02-26</td>\n",
              "      <td>2020</td>\n",
              "      <td>2</td>\n",
              "      <td>2020-02</td>\n",
              "      <td>26</td>\n",
              "      <td>4</td>\n",
              "      <td>False</td>\n",
              "      <td>4.1</td>\n",
              "      <td>-3.2</td>\n",
              "      <td>0.4</td>\n",
              "      <td>-1.906897</td>\n",
              "      <td>2.306897</td>\n",
              "      <td>11.8</td>\n",
              "      <td>2.137931</td>\n",
              "      <td>9.662069</td>\n",
              "      <td>0.0</td>\n",
              "      <td>12596</td>\n",
              "      <td>13557</td>\n",
              "      <td>26690</td>\n",
              "      <td>33732</td>\n",
              "      <td>14331</td>\n",
              "      <td>6215</td>\n",
              "      <td>9749</td>\n",
              "      <td>98193</td>\n",
              "      <td>215063</td>\n",
              "      <td>90000 to 100000</td>\n",
              "    </tr>\n",
              "    <tr>\n",
              "      <th>1093</th>\n",
              "      <td>2020-02-27</td>\n",
              "      <td>2020</td>\n",
              "      <td>2</td>\n",
              "      <td>2020-02</td>\n",
              "      <td>27</td>\n",
              "      <td>5</td>\n",
              "      <td>False</td>\n",
              "      <td>-2.7</td>\n",
              "      <td>-5.3</td>\n",
              "      <td>-4.0</td>\n",
              "      <td>-1.906897</td>\n",
              "      <td>-2.093103</td>\n",
              "      <td>3.1</td>\n",
              "      <td>2.137931</td>\n",
              "      <td>0.962069</td>\n",
              "      <td>0.0</td>\n",
              "      <td>11349</td>\n",
              "      <td>13074</td>\n",
              "      <td>26818</td>\n",
              "      <td>34180</td>\n",
              "      <td>15281</td>\n",
              "      <td>5522</td>\n",
              "      <td>9151</td>\n",
              "      <td>94998</td>\n",
              "      <td>210373</td>\n",
              "      <td>90000 to 100000</td>\n",
              "    </tr>\n",
              "    <tr>\n",
              "      <th>1094</th>\n",
              "      <td>2020-02-28</td>\n",
              "      <td>2020</td>\n",
              "      <td>2</td>\n",
              "      <td>2020-02</td>\n",
              "      <td>28</td>\n",
              "      <td>6</td>\n",
              "      <td>False</td>\n",
              "      <td>-2.5</td>\n",
              "      <td>-9.4</td>\n",
              "      <td>-5.9</td>\n",
              "      <td>-1.906897</td>\n",
              "      <td>-3.993103</td>\n",
              "      <td>1.1</td>\n",
              "      <td>2.137931</td>\n",
              "      <td>-1.037931</td>\n",
              "      <td>0.0</td>\n",
              "      <td>11098</td>\n",
              "      <td>13008</td>\n",
              "      <td>27785</td>\n",
              "      <td>34263</td>\n",
              "      <td>14426</td>\n",
              "      <td>5629</td>\n",
              "      <td>8759</td>\n",
              "      <td>95108</td>\n",
              "      <td>210076</td>\n",
              "      <td>90000 to 100000</td>\n",
              "    </tr>\n",
              "    <tr>\n",
              "      <th>1095</th>\n",
              "      <td>2020-02-29</td>\n",
              "      <td>2020</td>\n",
              "      <td>2</td>\n",
              "      <td>2020-02</td>\n",
              "      <td>29</td>\n",
              "      <td>7</td>\n",
              "      <td>False</td>\n",
              "      <td>-3.2</td>\n",
              "      <td>-12.8</td>\n",
              "      <td>-8.0</td>\n",
              "      <td>-1.906897</td>\n",
              "      <td>-6.093103</td>\n",
              "      <td>1.2</td>\n",
              "      <td>2.137931</td>\n",
              "      <td>-0.937931</td>\n",
              "      <td>0.0</td>\n",
              "      <td>1791</td>\n",
              "      <td>134</td>\n",
              "      <td>7107</td>\n",
              "      <td>11161</td>\n",
              "      <td>74</td>\n",
              "      <td>0</td>\n",
              "      <td>675</td>\n",
              "      <td>13307</td>\n",
              "      <td>34249</td>\n",
              "      <td>10000 to 20000</td>\n",
              "    </tr>\n",
              "  </tbody>\n",
              "</table>\n",
              "<p>1096 rows × 26 columns</p>\n",
              "</div>"
            ],
            "text/plain": [
              "            Date  Year  ...  Total GO Ridership Union Station Ridership Ranges\n",
              "0     2017-03-01  2017  ...              207633                90000 to 100000\n",
              "1     2017-03-02  2017  ...              209194                90000 to 100000\n",
              "2     2017-03-03  2017  ...              190753                 80000 to 90000\n",
              "3     2017-03-04  2017  ...               35389                 10000 to 20000\n",
              "4     2017-03-05  2017  ...               23126                     0 to 10000\n",
              "...          ...   ...  ...                 ...                            ...\n",
              "1091  2020-02-25  2020  ...              229420                90000 to 100000\n",
              "1092  2020-02-26  2020  ...              215063                90000 to 100000\n",
              "1093  2020-02-27  2020  ...              210373                90000 to 100000\n",
              "1094  2020-02-28  2020  ...              210076                90000 to 100000\n",
              "1095  2020-02-29  2020  ...               34249                 10000 to 20000\n",
              "\n",
              "[1096 rows x 26 columns]"
            ]
          },
          "metadata": {
            "tags": []
          },
          "execution_count": 282
        }
      ]
    },
    {
      "cell_type": "code",
      "metadata": {
        "id": "YM3KyjaZ11_v",
        "colab_type": "code",
        "colab": {}
      },
      "source": [
        "#only keep values without outliers/holidays\n",
        "dataset_noOutliers  = dataset.loc[dataset[\"Holiday\"]==False]"
      ],
      "execution_count": 0,
      "outputs": []
    },
    {
      "cell_type": "code",
      "metadata": {
        "id": "3M4b3orh1iKF",
        "colab_type": "code",
        "colab": {
          "base_uri": "https://localhost:8080/",
          "height": 424
        },
        "outputId": "1f1bb5ed-c7d4-46db-d0ab-f347ec3df1c9"
      },
      "source": [
        "#create dataset for knn\n",
        "knn_dataset = dataset_noOutliers[[\"Date\",\"Month\",\"Weekday\",\"Delta Temp (°C)\",\"Delta Precip (mm)\",\"Union Station Ridership Ranges\"]].copy()\n",
        "knn_dataset"
      ],
      "execution_count": 284,
      "outputs": [
        {
          "output_type": "execute_result",
          "data": {
            "text/html": [
              "<div>\n",
              "<style scoped>\n",
              "    .dataframe tbody tr th:only-of-type {\n",
              "        vertical-align: middle;\n",
              "    }\n",
              "\n",
              "    .dataframe tbody tr th {\n",
              "        vertical-align: top;\n",
              "    }\n",
              "\n",
              "    .dataframe thead th {\n",
              "        text-align: right;\n",
              "    }\n",
              "</style>\n",
              "<table border=\"1\" class=\"dataframe\">\n",
              "  <thead>\n",
              "    <tr style=\"text-align: right;\">\n",
              "      <th></th>\n",
              "      <th>Date</th>\n",
              "      <th>Month</th>\n",
              "      <th>Weekday</th>\n",
              "      <th>Delta Temp (°C)</th>\n",
              "      <th>Delta Precip (mm)</th>\n",
              "      <th>Union Station Ridership Ranges</th>\n",
              "    </tr>\n",
              "  </thead>\n",
              "  <tbody>\n",
              "    <tr>\n",
              "      <th>0</th>\n",
              "      <td>2017-03-01</td>\n",
              "      <td>3</td>\n",
              "      <td>4</td>\n",
              "      <td>5.483871</td>\n",
              "      <td>15.909677</td>\n",
              "      <td>90000 to 100000</td>\n",
              "    </tr>\n",
              "    <tr>\n",
              "      <th>1</th>\n",
              "      <td>2017-03-02</td>\n",
              "      <td>3</td>\n",
              "      <td>5</td>\n",
              "      <td>-4.016129</td>\n",
              "      <td>-2.290323</td>\n",
              "      <td>90000 to 100000</td>\n",
              "    </tr>\n",
              "    <tr>\n",
              "      <th>2</th>\n",
              "      <td>2017-03-03</td>\n",
              "      <td>3</td>\n",
              "      <td>6</td>\n",
              "      <td>-6.316129</td>\n",
              "      <td>-2.490323</td>\n",
              "      <td>80000 to 90000</td>\n",
              "    </tr>\n",
              "    <tr>\n",
              "      <th>3</th>\n",
              "      <td>2017-03-04</td>\n",
              "      <td>3</td>\n",
              "      <td>7</td>\n",
              "      <td>-9.316129</td>\n",
              "      <td>-2.290323</td>\n",
              "      <td>10000 to 20000</td>\n",
              "    </tr>\n",
              "    <tr>\n",
              "      <th>4</th>\n",
              "      <td>2017-03-05</td>\n",
              "      <td>3</td>\n",
              "      <td>1</td>\n",
              "      <td>-5.616129</td>\n",
              "      <td>-2.490323</td>\n",
              "      <td>0 to 10000</td>\n",
              "    </tr>\n",
              "    <tr>\n",
              "      <th>...</th>\n",
              "      <td>...</td>\n",
              "      <td>...</td>\n",
              "      <td>...</td>\n",
              "      <td>...</td>\n",
              "      <td>...</td>\n",
              "      <td>...</td>\n",
              "    </tr>\n",
              "    <tr>\n",
              "      <th>1091</th>\n",
              "      <td>2020-02-25</td>\n",
              "      <td>2</td>\n",
              "      <td>3</td>\n",
              "      <td>5.606897</td>\n",
              "      <td>-1.937931</td>\n",
              "      <td>90000 to 100000</td>\n",
              "    </tr>\n",
              "    <tr>\n",
              "      <th>1092</th>\n",
              "      <td>2020-02-26</td>\n",
              "      <td>2</td>\n",
              "      <td>4</td>\n",
              "      <td>2.306897</td>\n",
              "      <td>9.662069</td>\n",
              "      <td>90000 to 100000</td>\n",
              "    </tr>\n",
              "    <tr>\n",
              "      <th>1093</th>\n",
              "      <td>2020-02-27</td>\n",
              "      <td>2</td>\n",
              "      <td>5</td>\n",
              "      <td>-2.093103</td>\n",
              "      <td>0.962069</td>\n",
              "      <td>90000 to 100000</td>\n",
              "    </tr>\n",
              "    <tr>\n",
              "      <th>1094</th>\n",
              "      <td>2020-02-28</td>\n",
              "      <td>2</td>\n",
              "      <td>6</td>\n",
              "      <td>-3.993103</td>\n",
              "      <td>-1.037931</td>\n",
              "      <td>90000 to 100000</td>\n",
              "    </tr>\n",
              "    <tr>\n",
              "      <th>1095</th>\n",
              "      <td>2020-02-29</td>\n",
              "      <td>2</td>\n",
              "      <td>7</td>\n",
              "      <td>-6.093103</td>\n",
              "      <td>-0.937931</td>\n",
              "      <td>10000 to 20000</td>\n",
              "    </tr>\n",
              "  </tbody>\n",
              "</table>\n",
              "<p>1096 rows × 6 columns</p>\n",
              "</div>"
            ],
            "text/plain": [
              "            Date  Month  ...  Delta Precip (mm)  Union Station Ridership Ranges\n",
              "0     2017-03-01      3  ...          15.909677                 90000 to 100000\n",
              "1     2017-03-02      3  ...          -2.290323                 90000 to 100000\n",
              "2     2017-03-03      3  ...          -2.490323                  80000 to 90000\n",
              "3     2017-03-04      3  ...          -2.290323                  10000 to 20000\n",
              "4     2017-03-05      3  ...          -2.490323                      0 to 10000\n",
              "...          ...    ...  ...                ...                             ...\n",
              "1091  2020-02-25      2  ...          -1.937931                 90000 to 100000\n",
              "1092  2020-02-26      2  ...           9.662069                 90000 to 100000\n",
              "1093  2020-02-27      2  ...           0.962069                 90000 to 100000\n",
              "1094  2020-02-28      2  ...          -1.037931                 90000 to 100000\n",
              "1095  2020-02-29      2  ...          -0.937931                  10000 to 20000\n",
              "\n",
              "[1096 rows x 6 columns]"
            ]
          },
          "metadata": {
            "tags": []
          },
          "execution_count": 284
        }
      ]
    },
    {
      "cell_type": "code",
      "metadata": {
        "id": "cShS0dtY2M9m",
        "colab_type": "code",
        "colab": {
          "base_uri": "https://localhost:8080/",
          "height": 243
        },
        "outputId": "55eab9fa-8871-415f-e8ab-265eee6dc7d2"
      },
      "source": [
        "#convert ridership to category\n",
        "knn_dataset[\"Union Station Ridership Ranges\"] = knn_dataset[\"Union Station Ridership Ranges\"].astype('category')\n",
        "knn_dataset.info()"
      ],
      "execution_count": 285,
      "outputs": [
        {
          "output_type": "stream",
          "text": [
            "<class 'pandas.core.frame.DataFrame'>\n",
            "Int64Index: 1096 entries, 0 to 1095\n",
            "Data columns (total 6 columns):\n",
            " #   Column                          Non-Null Count  Dtype   \n",
            "---  ------                          --------------  -----   \n",
            " 0   Date                            1096 non-null   object  \n",
            " 1   Month                           1096 non-null   int64   \n",
            " 2   Weekday                         1096 non-null   int64   \n",
            " 3   Delta Temp (°C)                 1096 non-null   float64 \n",
            " 4   Delta Precip (mm)               1096 non-null   float64 \n",
            " 5   Union Station Ridership Ranges  1096 non-null   category\n",
            "dtypes: category(1), float64(2), int64(2), object(1)\n",
            "memory usage: 53.2+ KB\n"
          ],
          "name": "stdout"
        }
      ]
    },
    {
      "cell_type": "markdown",
      "metadata": {
        "id": "VIFFJaCq348-",
        "colab_type": "text"
      },
      "source": [
        "### knn predict for June 2019"
      ]
    },
    {
      "cell_type": "code",
      "metadata": {
        "id": "2x7zd4ts3LqG",
        "colab_type": "code",
        "colab": {
          "base_uri": "https://localhost:8080/",
          "height": 34
        },
        "outputId": "56c1b9d7-1969-47f7-dd3a-0186d747e01f"
      },
      "source": [
        "X = knn_dataset[[\"Date\",\"Month\",\"Weekday\",\"Delta Temp (°C)\",\"Delta Precip (mm)\"]]\n",
        "X.shape"
      ],
      "execution_count": 286,
      "outputs": [
        {
          "output_type": "execute_result",
          "data": {
            "text/plain": [
              "(1096, 5)"
            ]
          },
          "metadata": {
            "tags": []
          },
          "execution_count": 286
        }
      ]
    },
    {
      "cell_type": "code",
      "metadata": {
        "id": "BFkNrQE83dVe",
        "colab_type": "code",
        "colab": {
          "base_uri": "https://localhost:8080/",
          "height": 528
        },
        "outputId": "a2345291-486a-431b-e2a0-09c39e8c68bd"
      },
      "source": [
        "#X.iloc[1:] = X.iloc[1:].astype(float)\n",
        "cols = ['Month', 'Weekday', 'Delta Temp (°C)', 'Delta Precip (mm)']\n",
        "for col in cols:\n",
        "   X[col] = X[col].apply(lambda x: float(x) if x == x else \"\")\n",
        "X"
      ],
      "execution_count": 287,
      "outputs": [
        {
          "output_type": "stream",
          "text": [
            "/usr/local/lib/python3.6/dist-packages/ipykernel_launcher.py:3: SettingWithCopyWarning: \n",
            "A value is trying to be set on a copy of a slice from a DataFrame.\n",
            "Try using .loc[row_indexer,col_indexer] = value instead\n",
            "\n",
            "See the caveats in the documentation: https://pandas.pydata.org/pandas-docs/stable/user_guide/indexing.html#returning-a-view-versus-a-copy\n",
            "  This is separate from the ipykernel package so we can avoid doing imports until\n"
          ],
          "name": "stderr"
        },
        {
          "output_type": "execute_result",
          "data": {
            "text/html": [
              "<div>\n",
              "<style scoped>\n",
              "    .dataframe tbody tr th:only-of-type {\n",
              "        vertical-align: middle;\n",
              "    }\n",
              "\n",
              "    .dataframe tbody tr th {\n",
              "        vertical-align: top;\n",
              "    }\n",
              "\n",
              "    .dataframe thead th {\n",
              "        text-align: right;\n",
              "    }\n",
              "</style>\n",
              "<table border=\"1\" class=\"dataframe\">\n",
              "  <thead>\n",
              "    <tr style=\"text-align: right;\">\n",
              "      <th></th>\n",
              "      <th>Date</th>\n",
              "      <th>Month</th>\n",
              "      <th>Weekday</th>\n",
              "      <th>Delta Temp (°C)</th>\n",
              "      <th>Delta Precip (mm)</th>\n",
              "    </tr>\n",
              "  </thead>\n",
              "  <tbody>\n",
              "    <tr>\n",
              "      <th>0</th>\n",
              "      <td>2017-03-01</td>\n",
              "      <td>3.0</td>\n",
              "      <td>4.0</td>\n",
              "      <td>5.483871</td>\n",
              "      <td>15.909677</td>\n",
              "    </tr>\n",
              "    <tr>\n",
              "      <th>1</th>\n",
              "      <td>2017-03-02</td>\n",
              "      <td>3.0</td>\n",
              "      <td>5.0</td>\n",
              "      <td>-4.016129</td>\n",
              "      <td>-2.290323</td>\n",
              "    </tr>\n",
              "    <tr>\n",
              "      <th>2</th>\n",
              "      <td>2017-03-03</td>\n",
              "      <td>3.0</td>\n",
              "      <td>6.0</td>\n",
              "      <td>-6.316129</td>\n",
              "      <td>-2.490323</td>\n",
              "    </tr>\n",
              "    <tr>\n",
              "      <th>3</th>\n",
              "      <td>2017-03-04</td>\n",
              "      <td>3.0</td>\n",
              "      <td>7.0</td>\n",
              "      <td>-9.316129</td>\n",
              "      <td>-2.290323</td>\n",
              "    </tr>\n",
              "    <tr>\n",
              "      <th>4</th>\n",
              "      <td>2017-03-05</td>\n",
              "      <td>3.0</td>\n",
              "      <td>1.0</td>\n",
              "      <td>-5.616129</td>\n",
              "      <td>-2.490323</td>\n",
              "    </tr>\n",
              "    <tr>\n",
              "      <th>...</th>\n",
              "      <td>...</td>\n",
              "      <td>...</td>\n",
              "      <td>...</td>\n",
              "      <td>...</td>\n",
              "      <td>...</td>\n",
              "    </tr>\n",
              "    <tr>\n",
              "      <th>1091</th>\n",
              "      <td>2020-02-25</td>\n",
              "      <td>2.0</td>\n",
              "      <td>3.0</td>\n",
              "      <td>5.606897</td>\n",
              "      <td>-1.937931</td>\n",
              "    </tr>\n",
              "    <tr>\n",
              "      <th>1092</th>\n",
              "      <td>2020-02-26</td>\n",
              "      <td>2.0</td>\n",
              "      <td>4.0</td>\n",
              "      <td>2.306897</td>\n",
              "      <td>9.662069</td>\n",
              "    </tr>\n",
              "    <tr>\n",
              "      <th>1093</th>\n",
              "      <td>2020-02-27</td>\n",
              "      <td>2.0</td>\n",
              "      <td>5.0</td>\n",
              "      <td>-2.093103</td>\n",
              "      <td>0.962069</td>\n",
              "    </tr>\n",
              "    <tr>\n",
              "      <th>1094</th>\n",
              "      <td>2020-02-28</td>\n",
              "      <td>2.0</td>\n",
              "      <td>6.0</td>\n",
              "      <td>-3.993103</td>\n",
              "      <td>-1.037931</td>\n",
              "    </tr>\n",
              "    <tr>\n",
              "      <th>1095</th>\n",
              "      <td>2020-02-29</td>\n",
              "      <td>2.0</td>\n",
              "      <td>7.0</td>\n",
              "      <td>-6.093103</td>\n",
              "      <td>-0.937931</td>\n",
              "    </tr>\n",
              "  </tbody>\n",
              "</table>\n",
              "<p>1096 rows × 5 columns</p>\n",
              "</div>"
            ],
            "text/plain": [
              "            Date  Month  Weekday  Delta Temp (°C)  Delta Precip (mm)\n",
              "0     2017-03-01    3.0      4.0         5.483871          15.909677\n",
              "1     2017-03-02    3.0      5.0        -4.016129          -2.290323\n",
              "2     2017-03-03    3.0      6.0        -6.316129          -2.490323\n",
              "3     2017-03-04    3.0      7.0        -9.316129          -2.290323\n",
              "4     2017-03-05    3.0      1.0        -5.616129          -2.490323\n",
              "...          ...    ...      ...              ...                ...\n",
              "1091  2020-02-25    2.0      3.0         5.606897          -1.937931\n",
              "1092  2020-02-26    2.0      4.0         2.306897           9.662069\n",
              "1093  2020-02-27    2.0      5.0        -2.093103           0.962069\n",
              "1094  2020-02-28    2.0      6.0        -3.993103          -1.037931\n",
              "1095  2020-02-29    2.0      7.0        -6.093103          -0.937931\n",
              "\n",
              "[1096 rows x 5 columns]"
            ]
          },
          "metadata": {
            "tags": []
          },
          "execution_count": 287
        }
      ]
    },
    {
      "cell_type": "code",
      "metadata": {
        "id": "wQsATegS5RYd",
        "colab_type": "code",
        "colab": {
          "base_uri": "https://localhost:8080/",
          "height": 34
        },
        "outputId": "75b8fc35-294b-4de5-9845-6db6ca955bd4"
      },
      "source": [
        "y = knn_dataset[\"Union Station Ridership Ranges\"]\n",
        "y.shape"
      ],
      "execution_count": 288,
      "outputs": [
        {
          "output_type": "execute_result",
          "data": {
            "text/plain": [
              "(1096,)"
            ]
          },
          "metadata": {
            "tags": []
          },
          "execution_count": 288
        }
      ]
    },
    {
      "cell_type": "code",
      "metadata": {
        "id": "6AnTWV6Z5Svg",
        "colab_type": "code",
        "colab": {
          "base_uri": "https://localhost:8080/",
          "height": 424
        },
        "outputId": "49fc95e1-ee4e-40e2-9802-23929f30f4eb"
      },
      "source": [
        "from sklearn.neighbors import KNeighborsClassifier\n",
        "from sklearn.metrics import accuracy_score\n",
        "#use June 2019 as test data\n",
        "\n",
        "X_train_1 = X.loc[(X['Date']>\"2017-03-01\") & (X['Date']<\"2019-06-01\")]\n",
        "X_train_2 = X.loc[(X['Date']>\"2019-06-30\") & (X['Date']<\"2020-03-01\")]\n",
        "X_train = pd.concat([X_train_1, X_train_2], ignore_index=True, sort =False)\n",
        "X_train.drop('Date', axis=1, inplace=True)\n",
        "X_train"
      ],
      "execution_count": 289,
      "outputs": [
        {
          "output_type": "execute_result",
          "data": {
            "text/html": [
              "<div>\n",
              "<style scoped>\n",
              "    .dataframe tbody tr th:only-of-type {\n",
              "        vertical-align: middle;\n",
              "    }\n",
              "\n",
              "    .dataframe tbody tr th {\n",
              "        vertical-align: top;\n",
              "    }\n",
              "\n",
              "    .dataframe thead th {\n",
              "        text-align: right;\n",
              "    }\n",
              "</style>\n",
              "<table border=\"1\" class=\"dataframe\">\n",
              "  <thead>\n",
              "    <tr style=\"text-align: right;\">\n",
              "      <th></th>\n",
              "      <th>Month</th>\n",
              "      <th>Weekday</th>\n",
              "      <th>Delta Temp (°C)</th>\n",
              "      <th>Delta Precip (mm)</th>\n",
              "    </tr>\n",
              "  </thead>\n",
              "  <tbody>\n",
              "    <tr>\n",
              "      <th>0</th>\n",
              "      <td>3.0</td>\n",
              "      <td>5.0</td>\n",
              "      <td>-4.016129</td>\n",
              "      <td>-2.290323</td>\n",
              "    </tr>\n",
              "    <tr>\n",
              "      <th>1</th>\n",
              "      <td>3.0</td>\n",
              "      <td>6.0</td>\n",
              "      <td>-6.316129</td>\n",
              "      <td>-2.490323</td>\n",
              "    </tr>\n",
              "    <tr>\n",
              "      <th>2</th>\n",
              "      <td>3.0</td>\n",
              "      <td>7.0</td>\n",
              "      <td>-9.316129</td>\n",
              "      <td>-2.290323</td>\n",
              "    </tr>\n",
              "    <tr>\n",
              "      <th>3</th>\n",
              "      <td>3.0</td>\n",
              "      <td>1.0</td>\n",
              "      <td>-5.616129</td>\n",
              "      <td>-2.490323</td>\n",
              "    </tr>\n",
              "    <tr>\n",
              "      <th>4</th>\n",
              "      <td>3.0</td>\n",
              "      <td>2.0</td>\n",
              "      <td>1.483871</td>\n",
              "      <td>2.309677</td>\n",
              "    </tr>\n",
              "    <tr>\n",
              "      <th>...</th>\n",
              "      <td>...</td>\n",
              "      <td>...</td>\n",
              "      <td>...</td>\n",
              "      <td>...</td>\n",
              "    </tr>\n",
              "    <tr>\n",
              "      <th>1060</th>\n",
              "      <td>2.0</td>\n",
              "      <td>3.0</td>\n",
              "      <td>5.606897</td>\n",
              "      <td>-1.937931</td>\n",
              "    </tr>\n",
              "    <tr>\n",
              "      <th>1061</th>\n",
              "      <td>2.0</td>\n",
              "      <td>4.0</td>\n",
              "      <td>2.306897</td>\n",
              "      <td>9.662069</td>\n",
              "    </tr>\n",
              "    <tr>\n",
              "      <th>1062</th>\n",
              "      <td>2.0</td>\n",
              "      <td>5.0</td>\n",
              "      <td>-2.093103</td>\n",
              "      <td>0.962069</td>\n",
              "    </tr>\n",
              "    <tr>\n",
              "      <th>1063</th>\n",
              "      <td>2.0</td>\n",
              "      <td>6.0</td>\n",
              "      <td>-3.993103</td>\n",
              "      <td>-1.037931</td>\n",
              "    </tr>\n",
              "    <tr>\n",
              "      <th>1064</th>\n",
              "      <td>2.0</td>\n",
              "      <td>7.0</td>\n",
              "      <td>-6.093103</td>\n",
              "      <td>-0.937931</td>\n",
              "    </tr>\n",
              "  </tbody>\n",
              "</table>\n",
              "<p>1065 rows × 4 columns</p>\n",
              "</div>"
            ],
            "text/plain": [
              "      Month  Weekday  Delta Temp (°C)  Delta Precip (mm)\n",
              "0       3.0      5.0        -4.016129          -2.290323\n",
              "1       3.0      6.0        -6.316129          -2.490323\n",
              "2       3.0      7.0        -9.316129          -2.290323\n",
              "3       3.0      1.0        -5.616129          -2.490323\n",
              "4       3.0      2.0         1.483871           2.309677\n",
              "...     ...      ...              ...                ...\n",
              "1060    2.0      3.0         5.606897          -1.937931\n",
              "1061    2.0      4.0         2.306897           9.662069\n",
              "1062    2.0      5.0        -2.093103           0.962069\n",
              "1063    2.0      6.0        -3.993103          -1.037931\n",
              "1064    2.0      7.0        -6.093103          -0.937931\n",
              "\n",
              "[1065 rows x 4 columns]"
            ]
          },
          "metadata": {
            "tags": []
          },
          "execution_count": 289
        }
      ]
    },
    {
      "cell_type": "code",
      "metadata": {
        "id": "qpeGi7tM5Y0b",
        "colab_type": "code",
        "colab": {
          "base_uri": "https://localhost:8080/",
          "height": 121
        },
        "outputId": "803e522a-a4d1-43f0-88fd-264e5fd60544"
      },
      "source": [
        "X_test = X.loc[(X['Date']>\"2019-05-31\") & (X['Date']<\"2019-07-01\")]\n",
        "X_test.drop('Date', axis=1, inplace=True)\n",
        "X_test.shape"
      ],
      "execution_count": 290,
      "outputs": [
        {
          "output_type": "stream",
          "text": [
            "/usr/local/lib/python3.6/dist-packages/pandas/core/frame.py:3997: SettingWithCopyWarning: \n",
            "A value is trying to be set on a copy of a slice from a DataFrame\n",
            "\n",
            "See the caveats in the documentation: https://pandas.pydata.org/pandas-docs/stable/user_guide/indexing.html#returning-a-view-versus-a-copy\n",
            "  errors=errors,\n"
          ],
          "name": "stderr"
        },
        {
          "output_type": "execute_result",
          "data": {
            "text/plain": [
              "(30, 4)"
            ]
          },
          "metadata": {
            "tags": []
          },
          "execution_count": 290
        }
      ]
    },
    {
      "cell_type": "code",
      "metadata": {
        "id": "SIyVjs5S5a4I",
        "colab_type": "code",
        "colab": {
          "base_uri": "https://localhost:8080/",
          "height": 34
        },
        "outputId": "20be6422-2705-4b64-ec7c-cd1df30e8495"
      },
      "source": [
        "y_train_1 = y.loc[(X['Date']>\"2017-03-01\") & (X['Date']<\"2019-06-01\")]\n",
        "y_train_2 = y.loc[(X['Date']>\"2019-06-30\") & (X['Date']<\"2020-03-01\")]\n",
        "y_train = pd.concat([y_train_1, y_train_2], ignore_index=True, sort =False)\n",
        "y_train.shape"
      ],
      "execution_count": 291,
      "outputs": [
        {
          "output_type": "execute_result",
          "data": {
            "text/plain": [
              "(1065,)"
            ]
          },
          "metadata": {
            "tags": []
          },
          "execution_count": 291
        }
      ]
    },
    {
      "cell_type": "code",
      "metadata": {
        "id": "YDePwHtk5cw0",
        "colab_type": "code",
        "colab": {
          "base_uri": "https://localhost:8080/",
          "height": 34
        },
        "outputId": "f0a9a6aa-2c2c-4de3-b117-93a747ff3cd0"
      },
      "source": [
        "y_test = y.loc[(X['Date']>\"2019-05-31\") & (X['Date']<\"2019-07-01\")]\n",
        "y_test.shape"
      ],
      "execution_count": 292,
      "outputs": [
        {
          "output_type": "execute_result",
          "data": {
            "text/plain": [
              "(30,)"
            ]
          },
          "metadata": {
            "tags": []
          },
          "execution_count": 292
        }
      ]
    },
    {
      "cell_type": "code",
      "metadata": {
        "id": "ydAqTA7n5fo1",
        "colab_type": "code",
        "colab": {
          "base_uri": "https://localhost:8080/",
          "height": 191
        },
        "outputId": "0bd14424-7a39-4527-9b62-91dee5ef8bd4"
      },
      "source": [
        "from sklearn.neighbors import KNeighborsClassifier\n",
        "from sklearn.metrics import accuracy_score\n",
        "knn = KNeighborsClassifier(n_neighbors=5)\n",
        "knn.fit(X_train,y_train)\n",
        "y_hat = knn.predict(X_test)\n",
        "y_hat"
      ],
      "execution_count": 293,
      "outputs": [
        {
          "output_type": "execute_result",
          "data": {
            "text/plain": [
              "array(['10000 to 20000', '10000 to 20000', '100000 to 110000',\n",
              "       '100000 to 110000', '80000 to 90000', '90000 to 100000',\n",
              "       '10000 to 20000', '10000 to 20000', '10000 to 20000', '0 to 10000',\n",
              "       '100000 to 110000', '90000 to 100000', '90000 to 100000',\n",
              "       '90000 to 100000', '10000 to 20000', '10000 to 20000',\n",
              "       '100000 to 110000', '100000 to 110000', '100000 to 110000',\n",
              "       '100000 to 110000', '80000 to 90000', '10000 to 20000',\n",
              "       '10000 to 20000', '100000 to 110000', '100000 to 110000',\n",
              "       '100000 to 110000', '90000 to 100000', '100000 to 110000',\n",
              "       '90000 to 100000', '10000 to 20000'], dtype=object)"
            ]
          },
          "metadata": {
            "tags": []
          },
          "execution_count": 293
        }
      ]
    },
    {
      "cell_type": "code",
      "metadata": {
        "id": "r3igb-905gSw",
        "colab_type": "code",
        "colab": {
          "base_uri": "https://localhost:8080/",
          "height": 590
        },
        "outputId": "ca269725-1c52-4b90-cf18-040a5466e77f"
      },
      "source": [
        "y_test"
      ],
      "execution_count": 294,
      "outputs": [
        {
          "output_type": "execute_result",
          "data": {
            "text/plain": [
              "822      10000 to 20000\n",
              "823      10000 to 20000\n",
              "824    100000 to 110000\n",
              "825    100000 to 110000\n",
              "826    100000 to 110000\n",
              "827    100000 to 110000\n",
              "828     90000 to 100000\n",
              "829      10000 to 20000\n",
              "830      10000 to 20000\n",
              "831    100000 to 110000\n",
              "832    100000 to 110000\n",
              "833    100000 to 110000\n",
              "834    100000 to 110000\n",
              "835     90000 to 100000\n",
              "836      10000 to 20000\n",
              "837      10000 to 20000\n",
              "838    140000 to 150000\n",
              "839    100000 to 110000\n",
              "840    100000 to 110000\n",
              "841    100000 to 110000\n",
              "842     90000 to 100000\n",
              "843      10000 to 20000\n",
              "844      10000 to 20000\n",
              "845    100000 to 110000\n",
              "846    100000 to 110000\n",
              "847    100000 to 110000\n",
              "848    100000 to 110000\n",
              "849      80000 to 90000\n",
              "850      10000 to 20000\n",
              "851      10000 to 20000\n",
              "Name: Union Station Ridership Ranges, dtype: category\n",
              "Categories (16, object): [0 to 10000 < 10000 to 20000 < 20000 to 30000 < 30000 to 40000 < ... <\n",
              "                          120000 to 130000 < 130000 to 140000 < 140000 to 150000 < 150000 to 160000]"
            ]
          },
          "metadata": {
            "tags": []
          },
          "execution_count": 294
        }
      ]
    },
    {
      "cell_type": "code",
      "metadata": {
        "id": "NrhSCjxO5lNg",
        "colab_type": "code",
        "colab": {
          "base_uri": "https://localhost:8080/",
          "height": 34
        },
        "outputId": "15f681bd-32f5-4f50-b8bb-6dccb752e639"
      },
      "source": [
        "accuracy_score(y_test,y_hat)"
      ],
      "execution_count": 295,
      "outputs": [
        {
          "output_type": "execute_result",
          "data": {
            "text/plain": [
              "0.6333333333333333"
            ]
          },
          "metadata": {
            "tags": []
          },
          "execution_count": 295
        }
      ]
    },
    {
      "cell_type": "code",
      "metadata": {
        "id": "U7UtOKOn59pF",
        "colab_type": "code",
        "colab": {
          "base_uri": "https://localhost:8080/",
          "height": 208
        },
        "outputId": "bd2b99e3-e331-4be4-8128-55095ec55820"
      },
      "source": [
        "neighbors = range(1,100)\n",
        "error = []\n",
        "score = []\n",
        "for i in neighbors:\n",
        "    knn = KNeighborsClassifier(n_neighbors=i)\n",
        "    knn.fit(X_train, y_train)\n",
        "    y_hat = knn.predict(X_test)\n",
        "    score.append(accuracy_score(y_test, y_hat))\n",
        "y_hat"
      ],
      "execution_count": 296,
      "outputs": [
        {
          "output_type": "execute_result",
          "data": {
            "text/plain": [
              "array(['90000 to 100000', '100000 to 110000', '100000 to 110000',\n",
              "       '100000 to 110000', '90000 to 100000', '100000 to 110000',\n",
              "       '100000 to 110000', '90000 to 100000', '10000 to 20000',\n",
              "       '100000 to 110000', '100000 to 110000', '100000 to 110000',\n",
              "       '100000 to 110000', '90000 to 100000', '10000 to 20000',\n",
              "       '100000 to 110000', '100000 to 110000', '100000 to 110000',\n",
              "       '90000 to 100000', '100000 to 110000', '100000 to 110000',\n",
              "       '10000 to 20000', '10000 to 20000', '100000 to 110000',\n",
              "       '100000 to 110000', '90000 to 100000', '90000 to 100000',\n",
              "       '100000 to 110000', '90000 to 100000', '90000 to 100000'],\n",
              "      dtype=object)"
            ]
          },
          "metadata": {
            "tags": []
          },
          "execution_count": 296
        }
      ]
    },
    {
      "cell_type": "code",
      "metadata": {
        "id": "1_4jo0WR6BSN",
        "colab_type": "code",
        "colab": {
          "base_uri": "https://localhost:8080/",
          "height": 408
        },
        "outputId": "a7a7aaab-e59a-4190-ce41-d2ccec4d9a54"
      },
      "source": [
        "plt.figure(figsize=(12, 6))\n",
        "plt.plot(neighbors, score, color='red', linestyle='dashed', marker='o',\n",
        "         markerfacecolor='blue', markersize=10)\n",
        "plt.xlabel('K Value')\n",
        "plt.ylabel('Accuracy Score')"
      ],
      "execution_count": 297,
      "outputs": [
        {
          "output_type": "execute_result",
          "data": {
            "text/plain": [
              "Text(0, 0.5, 'Accuracy Score')"
            ]
          },
          "metadata": {
            "tags": []
          },
          "execution_count": 297
        },
        {
          "output_type": "display_data",
          "data": {
            "image/png": "[encoded data removed]",
            "text/plain": [
              "<Figure size 864x432 with 1 Axes>"
            ]
          },
          "metadata": {
            "tags": []
          }
        }
      ]
    },
    {
      "cell_type": "code",
      "metadata": {
        "id": "MJkDcJmx8pwC",
        "colab_type": "code",
        "colab": {
          "base_uri": "https://localhost:8080/",
          "height": 34
        },
        "outputId": "02ea492c-9b61-418f-d1af-ccc278b19b27"
      },
      "source": [
        "knn = KNeighborsClassifier(n_neighbors=51) #best score\n",
        "knn.fit(X_train, y_train)\n",
        "y_hat = knn.predict(X_test)\n",
        "score = accuracy_score(y_test, y_hat)\n",
        "score"
      ],
      "execution_count": 298,
      "outputs": [
        {
          "output_type": "execute_result",
          "data": {
            "text/plain": [
              "0.7"
            ]
          },
          "metadata": {
            "tags": []
          },
          "execution_count": 298
        }
      ]
    },
    {
      "cell_type": "code",
      "metadata": {
        "id": "wZse4ddE9zQ1",
        "colab_type": "code",
        "colab": {
          "base_uri": "https://localhost:8080/",
          "height": 348
        },
        "outputId": "b492539f-320d-4bfd-b53c-8aa498ef9522"
      },
      "source": [
        "dataset.head()"
      ],
      "execution_count": 299,
      "outputs": [
        {
          "output_type": "execute_result",
          "data": {
            "text/html": [
              "<div>\n",
              "<style scoped>\n",
              "    .dataframe tbody tr th:only-of-type {\n",
              "        vertical-align: middle;\n",
              "    }\n",
              "\n",
              "    .dataframe tbody tr th {\n",
              "        vertical-align: top;\n",
              "    }\n",
              "\n",
              "    .dataframe thead th {\n",
              "        text-align: right;\n",
              "    }\n",
              "</style>\n",
              "<table border=\"1\" class=\"dataframe\">\n",
              "  <thead>\n",
              "    <tr style=\"text-align: right;\">\n",
              "      <th></th>\n",
              "      <th>Date</th>\n",
              "      <th>Year</th>\n",
              "      <th>Month</th>\n",
              "      <th>year_month</th>\n",
              "      <th>Day</th>\n",
              "      <th>Weekday</th>\n",
              "      <th>Holiday</th>\n",
              "      <th>Max Temp (°C)</th>\n",
              "      <th>Min Temp (°C)</th>\n",
              "      <th>Mean Temp (°C)</th>\n",
              "      <th>Monthly Mean Temp (°C)</th>\n",
              "      <th>Delta Temp (°C)</th>\n",
              "      <th>Total Precip (mm)</th>\n",
              "      <th>Monthly Mean Precip (mm)</th>\n",
              "      <th>Delta Precip (mm)</th>\n",
              "      <th>Snow on Grnd (cm)</th>\n",
              "      <th>Barrie Ridership</th>\n",
              "      <th>Kitchener Ridership</th>\n",
              "      <th>Lakeshore East Ridership</th>\n",
              "      <th>Lakeshore West Ridership</th>\n",
              "      <th>Milton Ridership</th>\n",
              "      <th>Richmond Hill Ridership</th>\n",
              "      <th>Stouffville Ridership</th>\n",
              "      <th>Union Station Ridership</th>\n",
              "      <th>Total GO Ridership</th>\n",
              "      <th>Union Station Ridership Ranges</th>\n",
              "    </tr>\n",
              "  </thead>\n",
              "  <tbody>\n",
              "    <tr>\n",
              "      <th>0</th>\n",
              "      <td>2017-03-01</td>\n",
              "      <td>2017</td>\n",
              "      <td>3</td>\n",
              "      <td>2017-03</td>\n",
              "      <td>1</td>\n",
              "      <td>4</td>\n",
              "      <td>False</td>\n",
              "      <td>13.1</td>\n",
              "      <td>-1.9</td>\n",
              "      <td>5.6</td>\n",
              "      <td>0.116129</td>\n",
              "      <td>5.483871</td>\n",
              "      <td>18.4</td>\n",
              "      <td>2.490323</td>\n",
              "      <td>15.909677</td>\n",
              "      <td>0.0</td>\n",
              "      <td>10022</td>\n",
              "      <td>13585</td>\n",
              "      <td>25273</td>\n",
              "      <td>32909</td>\n",
              "      <td>15599</td>\n",
              "      <td>5639</td>\n",
              "      <td>8804</td>\n",
              "      <td>95802</td>\n",
              "      <td>207633</td>\n",
              "      <td>90000 to 100000</td>\n",
              "    </tr>\n",
              "    <tr>\n",
              "      <th>1</th>\n",
              "      <td>2017-03-02</td>\n",
              "      <td>2017</td>\n",
              "      <td>3</td>\n",
              "      <td>2017-03</td>\n",
              "      <td>2</td>\n",
              "      <td>5</td>\n",
              "      <td>False</td>\n",
              "      <td>-1.3</td>\n",
              "      <td>-6.4</td>\n",
              "      <td>-3.9</td>\n",
              "      <td>0.116129</td>\n",
              "      <td>-4.016129</td>\n",
              "      <td>0.2</td>\n",
              "      <td>2.490323</td>\n",
              "      <td>-2.290323</td>\n",
              "      <td>0.5</td>\n",
              "      <td>9932</td>\n",
              "      <td>13331</td>\n",
              "      <td>26120</td>\n",
              "      <td>33884</td>\n",
              "      <td>15653</td>\n",
              "      <td>5665</td>\n",
              "      <td>8736</td>\n",
              "      <td>95873</td>\n",
              "      <td>209194</td>\n",
              "      <td>90000 to 100000</td>\n",
              "    </tr>\n",
              "    <tr>\n",
              "      <th>2</th>\n",
              "      <td>2017-03-03</td>\n",
              "      <td>2017</td>\n",
              "      <td>3</td>\n",
              "      <td>2017-03</td>\n",
              "      <td>3</td>\n",
              "      <td>6</td>\n",
              "      <td>False</td>\n",
              "      <td>-4.3</td>\n",
              "      <td>-8.1</td>\n",
              "      <td>-6.2</td>\n",
              "      <td>0.116129</td>\n",
              "      <td>-6.316129</td>\n",
              "      <td>0.0</td>\n",
              "      <td>2.490323</td>\n",
              "      <td>-2.490323</td>\n",
              "      <td>0.5</td>\n",
              "      <td>8905</td>\n",
              "      <td>12235</td>\n",
              "      <td>23801</td>\n",
              "      <td>31473</td>\n",
              "      <td>14092</td>\n",
              "      <td>5129</td>\n",
              "      <td>7918</td>\n",
              "      <td>87200</td>\n",
              "      <td>190753</td>\n",
              "      <td>80000 to 90000</td>\n",
              "    </tr>\n",
              "    <tr>\n",
              "      <th>3</th>\n",
              "      <td>2017-03-04</td>\n",
              "      <td>2017</td>\n",
              "      <td>3</td>\n",
              "      <td>2017-03</td>\n",
              "      <td>4</td>\n",
              "      <td>7</td>\n",
              "      <td>False</td>\n",
              "      <td>-6.5</td>\n",
              "      <td>-11.9</td>\n",
              "      <td>-9.2</td>\n",
              "      <td>0.116129</td>\n",
              "      <td>-9.316129</td>\n",
              "      <td>0.2</td>\n",
              "      <td>2.490323</td>\n",
              "      <td>-2.290323</td>\n",
              "      <td>0.5</td>\n",
              "      <td>928</td>\n",
              "      <td>480</td>\n",
              "      <td>7872</td>\n",
              "      <td>11756</td>\n",
              "      <td>208</td>\n",
              "      <td>0</td>\n",
              "      <td>246</td>\n",
              "      <td>13899</td>\n",
              "      <td>35389</td>\n",
              "      <td>10000 to 20000</td>\n",
              "    </tr>\n",
              "    <tr>\n",
              "      <th>4</th>\n",
              "      <td>2017-03-05</td>\n",
              "      <td>2017</td>\n",
              "      <td>3</td>\n",
              "      <td>2017-03</td>\n",
              "      <td>5</td>\n",
              "      <td>1</td>\n",
              "      <td>False</td>\n",
              "      <td>-0.4</td>\n",
              "      <td>-10.6</td>\n",
              "      <td>-5.5</td>\n",
              "      <td>0.116129</td>\n",
              "      <td>-5.616129</td>\n",
              "      <td>0.0</td>\n",
              "      <td>2.490323</td>\n",
              "      <td>-2.490323</td>\n",
              "      <td>0.5</td>\n",
              "      <td>803</td>\n",
              "      <td>398</td>\n",
              "      <td>4714</td>\n",
              "      <td>8381</td>\n",
              "      <td>169</td>\n",
              "      <td>0</td>\n",
              "      <td>156</td>\n",
              "      <td>8505</td>\n",
              "      <td>23126</td>\n",
              "      <td>0 to 10000</td>\n",
              "    </tr>\n",
              "  </tbody>\n",
              "</table>\n",
              "</div>"
            ],
            "text/plain": [
              "         Date  Year  ...  Total GO Ridership Union Station Ridership Ranges\n",
              "0  2017-03-01  2017  ...              207633                90000 to 100000\n",
              "1  2017-03-02  2017  ...              209194                90000 to 100000\n",
              "2  2017-03-03  2017  ...              190753                 80000 to 90000\n",
              "3  2017-03-04  2017  ...               35389                 10000 to 20000\n",
              "4  2017-03-05  2017  ...               23126                     0 to 10000\n",
              "\n",
              "[5 rows x 26 columns]"
            ]
          },
          "metadata": {
            "tags": []
          },
          "execution_count": 299
        }
      ]
    },
    {
      "cell_type": "markdown",
      "metadata": {
        "id": "y9aSC7CK9kH9",
        "colab_type": "text"
      },
      "source": [
        "### knn predict for Mondays"
      ]
    },
    {
      "cell_type": "code",
      "metadata": {
        "id": "ytmPYVq79Y4u",
        "colab_type": "code",
        "colab": {
          "base_uri": "https://localhost:8080/",
          "height": 206
        },
        "outputId": "3b2f52c4-f159-4dd2-c644-907f9728ad3a"
      },
      "source": [
        "knn_dataset = dataset[[\"Date\",\"Month\",\"Weekday\",\"Delta Temp (°C)\",\"Delta Precip (mm)\",\"Union Station Ridership Ranges\"]].copy()\n",
        "knn_dataset.head()"
      ],
      "execution_count": 300,
      "outputs": [
        {
          "output_type": "execute_result",
          "data": {
            "text/html": [
              "<div>\n",
              "<style scoped>\n",
              "    .dataframe tbody tr th:only-of-type {\n",
              "        vertical-align: middle;\n",
              "    }\n",
              "\n",
              "    .dataframe tbody tr th {\n",
              "        vertical-align: top;\n",
              "    }\n",
              "\n",
              "    .dataframe thead th {\n",
              "        text-align: right;\n",
              "    }\n",
              "</style>\n",
              "<table border=\"1\" class=\"dataframe\">\n",
              "  <thead>\n",
              "    <tr style=\"text-align: right;\">\n",
              "      <th></th>\n",
              "      <th>Date</th>\n",
              "      <th>Month</th>\n",
              "      <th>Weekday</th>\n",
              "      <th>Delta Temp (°C)</th>\n",
              "      <th>Delta Precip (mm)</th>\n",
              "      <th>Union Station Ridership Ranges</th>\n",
              "    </tr>\n",
              "  </thead>\n",
              "  <tbody>\n",
              "    <tr>\n",
              "      <th>0</th>\n",
              "      <td>2017-03-01</td>\n",
              "      <td>3</td>\n",
              "      <td>4</td>\n",
              "      <td>5.483871</td>\n",
              "      <td>15.909677</td>\n",
              "      <td>90000 to 100000</td>\n",
              "    </tr>\n",
              "    <tr>\n",
              "      <th>1</th>\n",
              "      <td>2017-03-02</td>\n",
              "      <td>3</td>\n",
              "      <td>5</td>\n",
              "      <td>-4.016129</td>\n",
              "      <td>-2.290323</td>\n",
              "      <td>90000 to 100000</td>\n",
              "    </tr>\n",
              "    <tr>\n",
              "      <th>2</th>\n",
              "      <td>2017-03-03</td>\n",
              "      <td>3</td>\n",
              "      <td>6</td>\n",
              "      <td>-6.316129</td>\n",
              "      <td>-2.490323</td>\n",
              "      <td>80000 to 90000</td>\n",
              "    </tr>\n",
              "    <tr>\n",
              "      <th>3</th>\n",
              "      <td>2017-03-04</td>\n",
              "      <td>3</td>\n",
              "      <td>7</td>\n",
              "      <td>-9.316129</td>\n",
              "      <td>-2.290323</td>\n",
              "      <td>10000 to 20000</td>\n",
              "    </tr>\n",
              "    <tr>\n",
              "      <th>4</th>\n",
              "      <td>2017-03-05</td>\n",
              "      <td>3</td>\n",
              "      <td>1</td>\n",
              "      <td>-5.616129</td>\n",
              "      <td>-2.490323</td>\n",
              "      <td>0 to 10000</td>\n",
              "    </tr>\n",
              "  </tbody>\n",
              "</table>\n",
              "</div>"
            ],
            "text/plain": [
              "         Date  Month  ...  Delta Precip (mm)  Union Station Ridership Ranges\n",
              "0  2017-03-01      3  ...          15.909677                 90000 to 100000\n",
              "1  2017-03-02      3  ...          -2.290323                 90000 to 100000\n",
              "2  2017-03-03      3  ...          -2.490323                  80000 to 90000\n",
              "3  2017-03-04      3  ...          -2.290323                  10000 to 20000\n",
              "4  2017-03-05      3  ...          -2.490323                      0 to 10000\n",
              "\n",
              "[5 rows x 6 columns]"
            ]
          },
          "metadata": {
            "tags": []
          },
          "execution_count": 300
        }
      ]
    },
    {
      "cell_type": "code",
      "metadata": {
        "id": "vnregrzt-G1l",
        "colab_type": "code",
        "colab": {
          "base_uri": "https://localhost:8080/",
          "height": 206
        },
        "outputId": "561afc72-7239-4698-ee2d-e3162be8a0b3"
      },
      "source": [
        "knn_dataset_M = knn_dataset.loc[knn_dataset[\"Weekday\"]==1]\n",
        "knn_dataset_M.head()"
      ],
      "execution_count": 301,
      "outputs": [
        {
          "output_type": "execute_result",
          "data": {
            "text/html": [
              "<div>\n",
              "<style scoped>\n",
              "    .dataframe tbody tr th:only-of-type {\n",
              "        vertical-align: middle;\n",
              "    }\n",
              "\n",
              "    .dataframe tbody tr th {\n",
              "        vertical-align: top;\n",
              "    }\n",
              "\n",
              "    .dataframe thead th {\n",
              "        text-align: right;\n",
              "    }\n",
              "</style>\n",
              "<table border=\"1\" class=\"dataframe\">\n",
              "  <thead>\n",
              "    <tr style=\"text-align: right;\">\n",
              "      <th></th>\n",
              "      <th>Date</th>\n",
              "      <th>Month</th>\n",
              "      <th>Weekday</th>\n",
              "      <th>Delta Temp (°C)</th>\n",
              "      <th>Delta Precip (mm)</th>\n",
              "      <th>Union Station Ridership Ranges</th>\n",
              "    </tr>\n",
              "  </thead>\n",
              "  <tbody>\n",
              "    <tr>\n",
              "      <th>4</th>\n",
              "      <td>2017-03-05</td>\n",
              "      <td>3</td>\n",
              "      <td>1</td>\n",
              "      <td>-5.616129</td>\n",
              "      <td>-2.490323</td>\n",
              "      <td>0 to 10000</td>\n",
              "    </tr>\n",
              "    <tr>\n",
              "      <th>11</th>\n",
              "      <td>2017-03-12</td>\n",
              "      <td>3</td>\n",
              "      <td>1</td>\n",
              "      <td>-8.316129</td>\n",
              "      <td>-2.490323</td>\n",
              "      <td>0 to 10000</td>\n",
              "    </tr>\n",
              "    <tr>\n",
              "      <th>18</th>\n",
              "      <td>2017-03-19</td>\n",
              "      <td>3</td>\n",
              "      <td>1</td>\n",
              "      <td>3.283871</td>\n",
              "      <td>-2.490323</td>\n",
              "      <td>10000 to 20000</td>\n",
              "    </tr>\n",
              "    <tr>\n",
              "      <th>25</th>\n",
              "      <td>2017-03-26</td>\n",
              "      <td>3</td>\n",
              "      <td>1</td>\n",
              "      <td>3.783871</td>\n",
              "      <td>-0.090323</td>\n",
              "      <td>0 to 10000</td>\n",
              "    </tr>\n",
              "    <tr>\n",
              "      <th>32</th>\n",
              "      <td>2017-04-02</td>\n",
              "      <td>4</td>\n",
              "      <td>1</td>\n",
              "      <td>0.683333</td>\n",
              "      <td>-3.580000</td>\n",
              "      <td>0 to 10000</td>\n",
              "    </tr>\n",
              "  </tbody>\n",
              "</table>\n",
              "</div>"
            ],
            "text/plain": [
              "          Date  Month  ...  Delta Precip (mm)  Union Station Ridership Ranges\n",
              "4   2017-03-05      3  ...          -2.490323                      0 to 10000\n",
              "11  2017-03-12      3  ...          -2.490323                      0 to 10000\n",
              "18  2017-03-19      3  ...          -2.490323                  10000 to 20000\n",
              "25  2017-03-26      3  ...          -0.090323                      0 to 10000\n",
              "32  2017-04-02      4  ...          -3.580000                      0 to 10000\n",
              "\n",
              "[5 rows x 6 columns]"
            ]
          },
          "metadata": {
            "tags": []
          },
          "execution_count": 301
        }
      ]
    },
    {
      "cell_type": "code",
      "metadata": {
        "id": "ra8JqgAe-hxA",
        "colab_type": "code",
        "colab": {
          "base_uri": "https://localhost:8080/",
          "height": 347
        },
        "outputId": "5e1e7986-26c0-46ce-ac34-689407264ea5"
      },
      "source": [
        "knn_dataset_M[\"Union Station Ridership Ranges\"] = knn_dataset_M[\"Union Station Ridership Ranges\"].astype('category')\n",
        "knn_dataset_M.info()"
      ],
      "execution_count": 302,
      "outputs": [
        {
          "output_type": "stream",
          "text": [
            "<class 'pandas.core.frame.DataFrame'>\n",
            "Int64Index: 156 entries, 4 to 1089\n",
            "Data columns (total 6 columns):\n",
            " #   Column                          Non-Null Count  Dtype   \n",
            "---  ------                          --------------  -----   \n",
            " 0   Date                            156 non-null    object  \n",
            " 1   Month                           156 non-null    int64   \n",
            " 2   Weekday                         156 non-null    int64   \n",
            " 3   Delta Temp (°C)                 156 non-null    float64 \n",
            " 4   Delta Precip (mm)               156 non-null    float64 \n",
            " 5   Union Station Ridership Ranges  156 non-null    category\n",
            "dtypes: category(1), float64(2), int64(2), object(1)\n",
            "memory usage: 8.2+ KB\n"
          ],
          "name": "stdout"
        },
        {
          "output_type": "stream",
          "text": [
            "/usr/local/lib/python3.6/dist-packages/ipykernel_launcher.py:1: SettingWithCopyWarning: \n",
            "A value is trying to be set on a copy of a slice from a DataFrame.\n",
            "Try using .loc[row_indexer,col_indexer] = value instead\n",
            "\n",
            "See the caveats in the documentation: https://pandas.pydata.org/pandas-docs/stable/user_guide/indexing.html#returning-a-view-versus-a-copy\n",
            "  \"\"\"Entry point for launching an IPython kernel.\n"
          ],
          "name": "stderr"
        }
      ]
    },
    {
      "cell_type": "code",
      "metadata": {
        "id": "GPEvzq6f-xik",
        "colab_type": "code",
        "colab": {
          "base_uri": "https://localhost:8080/",
          "height": 34
        },
        "outputId": "6f6a0391-050e-407b-e87e-56a19f89ef2d"
      },
      "source": [
        "X = knn_dataset_M[[\"Month\",\"Weekday\",\"Delta Temp (°C)\",\"Delta Precip (mm)\"]]\n",
        "X.shape"
      ],
      "execution_count": 303,
      "outputs": [
        {
          "output_type": "execute_result",
          "data": {
            "text/plain": [
              "(156, 4)"
            ]
          },
          "metadata": {
            "tags": []
          },
          "execution_count": 303
        }
      ]
    },
    {
      "cell_type": "code",
      "metadata": {
        "id": "OwkxuzN4-qz3",
        "colab_type": "code",
        "colab": {
          "base_uri": "https://localhost:8080/",
          "height": 312
        },
        "outputId": "8852f1b8-6588-4eba-dacc-51e6a6ccb7cd"
      },
      "source": [
        "#X.iloc[1:] = X.iloc[1:].astype(float)\n",
        "cols = ['Month', 'Weekday', 'Delta Temp (°C)', 'Delta Precip (mm)']\n",
        "for col in cols:\n",
        "   X[col] = X[col].apply(lambda x: float(x) if x == x else \"\")\n",
        "X.info()"
      ],
      "execution_count": 304,
      "outputs": [
        {
          "output_type": "stream",
          "text": [
            "<class 'pandas.core.frame.DataFrame'>\n",
            "Int64Index: 156 entries, 4 to 1089\n",
            "Data columns (total 4 columns):\n",
            " #   Column             Non-Null Count  Dtype  \n",
            "---  ------             --------------  -----  \n",
            " 0   Month              156 non-null    float64\n",
            " 1   Weekday            156 non-null    float64\n",
            " 2   Delta Temp (°C)    156 non-null    float64\n",
            " 3   Delta Precip (mm)  156 non-null    float64\n",
            "dtypes: float64(4)\n",
            "memory usage: 6.1 KB\n"
          ],
          "name": "stdout"
        },
        {
          "output_type": "stream",
          "text": [
            "/usr/local/lib/python3.6/dist-packages/ipykernel_launcher.py:3: SettingWithCopyWarning: \n",
            "A value is trying to be set on a copy of a slice from a DataFrame.\n",
            "Try using .loc[row_indexer,col_indexer] = value instead\n",
            "\n",
            "See the caveats in the documentation: https://pandas.pydata.org/pandas-docs/stable/user_guide/indexing.html#returning-a-view-versus-a-copy\n",
            "  This is separate from the ipykernel package so we can avoid doing imports until\n"
          ],
          "name": "stderr"
        }
      ]
    },
    {
      "cell_type": "code",
      "metadata": {
        "id": "vMmxvpEsATvo",
        "colab_type": "code",
        "colab": {
          "base_uri": "https://localhost:8080/",
          "height": 34
        },
        "outputId": "c195bbee-efbe-4341-bb15-73623d9801d3"
      },
      "source": [
        "y = knn_dataset_M[\"Union Station Ridership Ranges\"]\n",
        "y.shape"
      ],
      "execution_count": 305,
      "outputs": [
        {
          "output_type": "execute_result",
          "data": {
            "text/plain": [
              "(156,)"
            ]
          },
          "metadata": {
            "tags": []
          },
          "execution_count": 305
        }
      ]
    },
    {
      "cell_type": "code",
      "metadata": {
        "id": "RBlJUCVHAKMt",
        "colab_type": "code",
        "colab": {
          "base_uri": "https://localhost:8080/",
          "height": 34
        },
        "outputId": "b0eecf02-0917-41a0-d2f9-cde4f0d4c3b9"
      },
      "source": [
        "from sklearn.model_selection import train_test_split\n",
        "X_train, X_test, y_train, y_test = train_test_split(X,y,test_size=0.2,random_state=20)\n",
        "X_train.shape"
      ],
      "execution_count": 306,
      "outputs": [
        {
          "output_type": "execute_result",
          "data": {
            "text/plain": [
              "(124, 4)"
            ]
          },
          "metadata": {
            "tags": []
          },
          "execution_count": 306
        }
      ]
    },
    {
      "cell_type": "code",
      "metadata": {
        "id": "HfMNdJs1ArnP",
        "colab_type": "code",
        "colab": {
          "base_uri": "https://localhost:8080/",
          "height": 208
        },
        "outputId": "acfcda01-0520-4a73-87ef-7ace1f5c92a3"
      },
      "source": [
        "knn.fit(X_train,y_train)\n",
        "y_hat = knn.predict(X_test)\n",
        "y_hat"
      ],
      "execution_count": 307,
      "outputs": [
        {
          "output_type": "execute_result",
          "data": {
            "text/plain": [
              "array(['10000 to 20000', '10000 to 20000', '10000 to 20000',\n",
              "       '10000 to 20000', '10000 to 20000', '10000 to 20000',\n",
              "       '10000 to 20000', '10000 to 20000', '10000 to 20000',\n",
              "       '10000 to 20000', '10000 to 20000', '10000 to 20000',\n",
              "       '10000 to 20000', '10000 to 20000', '10000 to 20000',\n",
              "       '10000 to 20000', '10000 to 20000', '10000 to 20000',\n",
              "       '10000 to 20000', '10000 to 20000', '10000 to 20000',\n",
              "       '10000 to 20000', '10000 to 20000', '10000 to 20000',\n",
              "       '10000 to 20000', '10000 to 20000', '10000 to 20000',\n",
              "       '10000 to 20000', '10000 to 20000', '10000 to 20000',\n",
              "       '10000 to 20000', '10000 to 20000'], dtype=object)"
            ]
          },
          "metadata": {
            "tags": []
          },
          "execution_count": 307
        }
      ]
    },
    {
      "cell_type": "code",
      "metadata": {
        "id": "Apk4lIJnAtNI",
        "colab_type": "code",
        "colab": {
          "base_uri": "https://localhost:8080/",
          "height": 625
        },
        "outputId": "df1ecc58-4c26-4878-8b86-d1f5c53d977c"
      },
      "source": [
        "y_test"
      ],
      "execution_count": 308,
      "outputs": [
        {
          "output_type": "execute_result",
          "data": {
            "text/plain": [
              "802     10000 to 20000\n",
              "361         0 to 10000\n",
              "536     10000 to 20000\n",
              "935         0 to 10000\n",
              "508     10000 to 20000\n",
              "760     10000 to 20000\n",
              "858     10000 to 20000\n",
              "151     10000 to 20000\n",
              "606         0 to 10000\n",
              "88      10000 to 20000\n",
              "991     10000 to 20000\n",
              "627     10000 to 20000\n",
              "669     10000 to 20000\n",
              "249     10000 to 20000\n",
              "200         0 to 10000\n",
              "641         0 to 10000\n",
              "95      10000 to 20000\n",
              "452     10000 to 20000\n",
              "865     10000 to 20000\n",
              "949     10000 to 20000\n",
              "956     10000 to 20000\n",
              "725     10000 to 20000\n",
              "809     10000 to 20000\n",
              "144         0 to 10000\n",
              "1068        0 to 10000\n",
              "592         0 to 10000\n",
              "718     10000 to 20000\n",
              "242         0 to 10000\n",
              "683         0 to 10000\n",
              "613     10000 to 20000\n",
              "1089    10000 to 20000\n",
              "648     10000 to 20000\n",
              "Name: Union Station Ridership Ranges, dtype: category\n",
              "Categories (16, object): [0 to 10000 < 10000 to 20000 < 20000 to 30000 < 30000 to 40000 < ... <\n",
              "                          120000 to 130000 < 130000 to 140000 < 140000 to 150000 < 150000 to 160000]"
            ]
          },
          "metadata": {
            "tags": []
          },
          "execution_count": 308
        }
      ]
    },
    {
      "cell_type": "code",
      "metadata": {
        "id": "irgkhMGlAxgf",
        "colab_type": "code",
        "colab": {
          "base_uri": "https://localhost:8080/",
          "height": 34
        },
        "outputId": "ad52361e-876b-4594-89f6-ba932305a660"
      },
      "source": [
        "accuracy_score(y_test,y_hat)"
      ],
      "execution_count": 309,
      "outputs": [
        {
          "output_type": "execute_result",
          "data": {
            "text/plain": [
              "0.6875"
            ]
          },
          "metadata": {
            "tags": []
          },
          "execution_count": 309
        }
      ]
    },
    {
      "cell_type": "code",
      "metadata": {
        "id": "zAAUo_78AzGP",
        "colab_type": "code",
        "colab": {
          "base_uri": "https://localhost:8080/",
          "height": 208
        },
        "outputId": "47f4bed9-f6e9-4674-ffed-40b2eadd8d65"
      },
      "source": [
        "neighbors = range(1,60)\n",
        "error = []\n",
        "score = []\n",
        "for i in neighbors:\n",
        "    knn = KNeighborsClassifier(n_neighbors=i)\n",
        "    knn.fit(X_train, y_train)\n",
        "    y_hat = knn.predict(X_test)\n",
        "    score.append(accuracy_score(y_test, y_hat))\n",
        "y_hat"
      ],
      "execution_count": 310,
      "outputs": [
        {
          "output_type": "execute_result",
          "data": {
            "text/plain": [
              "array(['10000 to 20000', '10000 to 20000', '10000 to 20000',\n",
              "       '10000 to 20000', '10000 to 20000', '10000 to 20000',\n",
              "       '10000 to 20000', '10000 to 20000', '10000 to 20000',\n",
              "       '10000 to 20000', '10000 to 20000', '10000 to 20000',\n",
              "       '10000 to 20000', '10000 to 20000', '10000 to 20000',\n",
              "       '10000 to 20000', '10000 to 20000', '10000 to 20000',\n",
              "       '10000 to 20000', '10000 to 20000', '10000 to 20000',\n",
              "       '10000 to 20000', '10000 to 20000', '10000 to 20000',\n",
              "       '10000 to 20000', '10000 to 20000', '10000 to 20000',\n",
              "       '10000 to 20000', '10000 to 20000', '10000 to 20000',\n",
              "       '10000 to 20000', '10000 to 20000'], dtype=object)"
            ]
          },
          "metadata": {
            "tags": []
          },
          "execution_count": 310
        }
      ]
    },
    {
      "cell_type": "code",
      "metadata": {
        "id": "H1z3jPRKA2dz",
        "colab_type": "code",
        "colab": {
          "base_uri": "https://localhost:8080/",
          "height": 408
        },
        "outputId": "9d3829d0-0cf5-4009-e900-b3b87560d676"
      },
      "source": [
        "plt.figure(figsize=(12, 6))\n",
        "plt.plot(neighbors, score, color='red', linestyle='dashed', marker='o',\n",
        "         markerfacecolor='blue', markersize=10)\n",
        "plt.xlabel('K Value')\n",
        "plt.ylabel('Accuracy Score')"
      ],
      "execution_count": 311,
      "outputs": [
        {
          "output_type": "execute_result",
          "data": {
            "text/plain": [
              "Text(0, 0.5, 'Accuracy Score')"
            ]
          },
          "metadata": {
            "tags": []
          },
          "execution_count": 311
        },
        {
          "output_type": "display_data",
          "data": {
            "image/png": "[encoded data removed]",
            "text/plain": [
              "<Figure size 864x432 with 1 Axes>"
            ]
          },
          "metadata": {
            "tags": []
          }
        }
      ]
    },
    {
      "cell_type": "code",
      "metadata": {
        "id": "WVvYD0S3BHiy",
        "colab_type": "code",
        "colab": {
          "base_uri": "https://localhost:8080/",
          "height": 34
        },
        "outputId": "752941b2-6dda-46ed-f4aa-1d7f97d341b9"
      },
      "source": [
        "knn = KNeighborsClassifier(n_neighbors=40) #best score\n",
        "knn.fit(X_train, y_train)\n",
        "y_hat = knn.predict(X_test)\n",
        "score = accuracy_score(y_test, y_hat)\n",
        "score"
      ],
      "execution_count": 312,
      "outputs": [
        {
          "output_type": "execute_result",
          "data": {
            "text/plain": [
              "0.71875"
            ]
          },
          "metadata": {
            "tags": []
          },
          "execution_count": 312
        }
      ]
    }
  ]
}