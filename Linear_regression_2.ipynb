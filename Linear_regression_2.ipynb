{
  "nbformat": 4,
  "nbformat_minor": 0,
  "metadata": {
    "kernelspec": {
      "display_name": "Python 3",
      "language": "python",
      "name": "python3"
    },
    "language_info": {
      "codemirror_mode": {
        "name": "ipython",
        "version": 3
      },
      "file_extension": ".py",
      "mimetype": "text/x-python",
      "name": "python",
      "nbconvert_exporter": "python",
      "pygments_lexer": "ipython3",
      "version": "3.7.4"
    },
    "colab": {
      "name": "Linear regression 2.ipynb",
      "provenance": [],
      "include_colab_link": true
    }
  },
  "cells": [
    {
      "cell_type": "markdown",
      "metadata": {
        "id": "view-in-github",
        "colab_type": "text"
      },
      "source": [
        "<a href=\"https://colab.research.google.com/github/Jenarth/SCS3250-Group-2-Final-Project/blob/master/Linear_regression_2.ipynb\" target=\"_parent\"><img src=\"https://colab.research.google.com/assets/colab-badge.svg\" alt=\"Open In Colab\"/></a>"
      ]
    },
    {
      "cell_type": "code",
      "metadata": {
        "id": "FDBPrjWaf5ut",
        "colab_type": "code",
        "colab": {}
      },
      "source": [
        "import numpy as np\n",
        "import pandas as pd\n",
        "#import pandas as pd\n",
        "from pandas import DataFrame, Series\n",
        "import statsmodels.api as sm\n",
        "import sklearn\n",
        "from sklearn.linear_model import LinearRegression\n",
        "import scipy, scipy.stats\n",
        "import matplotlib.pyplot as plt\n",
        "%matplotlib inline"
      ],
      "execution_count": 0,
      "outputs": []
    },
    {
      "cell_type": "code",
      "metadata": {
        "id": "uaAtoRYof5ux",
        "colab_type": "code",
        "colab": {}
      },
      "source": [
        "#import dataset\n",
        "\n",
        "url = 'https://raw.githubusercontent.com/Jenarth/SCS3250-Group-2-Final-Project/master/Final%20Dataset.csv'\n",
        "df = pd.read_csv(url, header = 0, sep =',')"
      ],
      "execution_count": 0,
      "outputs": []
    },
    {
      "cell_type": "code",
      "metadata": {
        "id": "sMJw87A7f5uz",
        "colab_type": "code",
        "colab": {},
        "outputId": "b919a178-b570-4193-ea38-a988ed188a45"
      },
      "source": [
        "df.head()"
      ],
      "execution_count": 0,
      "outputs": [
        {
          "output_type": "execute_result",
          "data": {
            "text/html": [
              "<div>\n",
              "<style scoped>\n",
              "    .dataframe tbody tr th:only-of-type {\n",
              "        vertical-align: middle;\n",
              "    }\n",
              "\n",
              "    .dataframe tbody tr th {\n",
              "        vertical-align: top;\n",
              "    }\n",
              "\n",
              "    .dataframe thead th {\n",
              "        text-align: right;\n",
              "    }\n",
              "</style>\n",
              "<table border=\"1\" class=\"dataframe\">\n",
              "  <thead>\n",
              "    <tr style=\"text-align: right;\">\n",
              "      <th></th>\n",
              "      <th>Date</th>\n",
              "      <th>Year</th>\n",
              "      <th>Month</th>\n",
              "      <th>year_month</th>\n",
              "      <th>Day</th>\n",
              "      <th>Weekday</th>\n",
              "      <th>Holiday</th>\n",
              "      <th>Max Temp (°C)</th>\n",
              "      <th>Min Temp (°C)</th>\n",
              "      <th>Mean Temp (°C)</th>\n",
              "      <th>...</th>\n",
              "      <th>Snow on Grnd (cm)</th>\n",
              "      <th>Barrie Ridership</th>\n",
              "      <th>Kitchener Ridership</th>\n",
              "      <th>Lakeshore East Ridership</th>\n",
              "      <th>Lakeshore West Ridership</th>\n",
              "      <th>Milton Ridership</th>\n",
              "      <th>Richmond Hill Ridership</th>\n",
              "      <th>Stouffville Ridership</th>\n",
              "      <th>Union Station Ridership</th>\n",
              "      <th>Total GO Ridership</th>\n",
              "    </tr>\n",
              "  </thead>\n",
              "  <tbody>\n",
              "    <tr>\n",
              "      <td>0</td>\n",
              "      <td>2017-03-01</td>\n",
              "      <td>2017</td>\n",
              "      <td>3</td>\n",
              "      <td>2017-03</td>\n",
              "      <td>1</td>\n",
              "      <td>Wednesday</td>\n",
              "      <td>False</td>\n",
              "      <td>13.1</td>\n",
              "      <td>-1.9</td>\n",
              "      <td>5.6</td>\n",
              "      <td>...</td>\n",
              "      <td>0.0</td>\n",
              "      <td>10022</td>\n",
              "      <td>13585</td>\n",
              "      <td>25273</td>\n",
              "      <td>32909</td>\n",
              "      <td>15599</td>\n",
              "      <td>5639</td>\n",
              "      <td>8804</td>\n",
              "      <td>95802</td>\n",
              "      <td>207633</td>\n",
              "    </tr>\n",
              "    <tr>\n",
              "      <td>1</td>\n",
              "      <td>2017-03-02</td>\n",
              "      <td>2017</td>\n",
              "      <td>3</td>\n",
              "      <td>2017-03</td>\n",
              "      <td>2</td>\n",
              "      <td>Thursday</td>\n",
              "      <td>False</td>\n",
              "      <td>-1.3</td>\n",
              "      <td>-6.4</td>\n",
              "      <td>-3.9</td>\n",
              "      <td>...</td>\n",
              "      <td>0.5</td>\n",
              "      <td>9932</td>\n",
              "      <td>13331</td>\n",
              "      <td>26120</td>\n",
              "      <td>33884</td>\n",
              "      <td>15653</td>\n",
              "      <td>5665</td>\n",
              "      <td>8736</td>\n",
              "      <td>95873</td>\n",
              "      <td>209194</td>\n",
              "    </tr>\n",
              "    <tr>\n",
              "      <td>2</td>\n",
              "      <td>2017-03-03</td>\n",
              "      <td>2017</td>\n",
              "      <td>3</td>\n",
              "      <td>2017-03</td>\n",
              "      <td>3</td>\n",
              "      <td>Friday</td>\n",
              "      <td>False</td>\n",
              "      <td>-4.3</td>\n",
              "      <td>-8.1</td>\n",
              "      <td>-6.2</td>\n",
              "      <td>...</td>\n",
              "      <td>0.5</td>\n",
              "      <td>8905</td>\n",
              "      <td>12235</td>\n",
              "      <td>23801</td>\n",
              "      <td>31473</td>\n",
              "      <td>14092</td>\n",
              "      <td>5129</td>\n",
              "      <td>7918</td>\n",
              "      <td>87200</td>\n",
              "      <td>190753</td>\n",
              "    </tr>\n",
              "    <tr>\n",
              "      <td>3</td>\n",
              "      <td>2017-03-04</td>\n",
              "      <td>2017</td>\n",
              "      <td>3</td>\n",
              "      <td>2017-03</td>\n",
              "      <td>4</td>\n",
              "      <td>Saturday</td>\n",
              "      <td>False</td>\n",
              "      <td>-6.5</td>\n",
              "      <td>-11.9</td>\n",
              "      <td>-9.2</td>\n",
              "      <td>...</td>\n",
              "      <td>0.5</td>\n",
              "      <td>928</td>\n",
              "      <td>480</td>\n",
              "      <td>7872</td>\n",
              "      <td>11756</td>\n",
              "      <td>208</td>\n",
              "      <td>0</td>\n",
              "      <td>246</td>\n",
              "      <td>13899</td>\n",
              "      <td>35389</td>\n",
              "    </tr>\n",
              "    <tr>\n",
              "      <td>4</td>\n",
              "      <td>2017-03-05</td>\n",
              "      <td>2017</td>\n",
              "      <td>3</td>\n",
              "      <td>2017-03</td>\n",
              "      <td>5</td>\n",
              "      <td>Sunday</td>\n",
              "      <td>False</td>\n",
              "      <td>-0.4</td>\n",
              "      <td>-10.6</td>\n",
              "      <td>-5.5</td>\n",
              "      <td>...</td>\n",
              "      <td>0.5</td>\n",
              "      <td>803</td>\n",
              "      <td>398</td>\n",
              "      <td>4714</td>\n",
              "      <td>8381</td>\n",
              "      <td>169</td>\n",
              "      <td>0</td>\n",
              "      <td>156</td>\n",
              "      <td>8505</td>\n",
              "      <td>23126</td>\n",
              "    </tr>\n",
              "  </tbody>\n",
              "</table>\n",
              "<p>5 rows × 25 columns</p>\n",
              "</div>"
            ],
            "text/plain": [
              "         Date  Year  Month year_month  Day    Weekday  Holiday  Max Temp (°C)  \\\n",
              "0  2017-03-01  2017      3    2017-03    1  Wednesday    False           13.1   \n",
              "1  2017-03-02  2017      3    2017-03    2   Thursday    False           -1.3   \n",
              "2  2017-03-03  2017      3    2017-03    3     Friday    False           -4.3   \n",
              "3  2017-03-04  2017      3    2017-03    4   Saturday    False           -6.5   \n",
              "4  2017-03-05  2017      3    2017-03    5     Sunday    False           -0.4   \n",
              "\n",
              "   Min Temp (°C)  Mean Temp (°C)  ...  Snow on Grnd (cm)  Barrie Ridership  \\\n",
              "0           -1.9             5.6  ...                0.0             10022   \n",
              "1           -6.4            -3.9  ...                0.5              9932   \n",
              "2           -8.1            -6.2  ...                0.5              8905   \n",
              "3          -11.9            -9.2  ...                0.5               928   \n",
              "4          -10.6            -5.5  ...                0.5               803   \n",
              "\n",
              "   Kitchener Ridership  Lakeshore East Ridership  Lakeshore West Ridership  \\\n",
              "0                13585                     25273                     32909   \n",
              "1                13331                     26120                     33884   \n",
              "2                12235                     23801                     31473   \n",
              "3                  480                      7872                     11756   \n",
              "4                  398                      4714                      8381   \n",
              "\n",
              "   Milton Ridership  Richmond Hill Ridership  Stouffville Ridership  \\\n",
              "0             15599                     5639                   8804   \n",
              "1             15653                     5665                   8736   \n",
              "2             14092                     5129                   7918   \n",
              "3               208                        0                    246   \n",
              "4               169                        0                    156   \n",
              "\n",
              "   Union Station Ridership  Total GO Ridership  \n",
              "0                    95802              207633  \n",
              "1                    95873              209194  \n",
              "2                    87200              190753  \n",
              "3                    13899               35389  \n",
              "4                     8505               23126  \n",
              "\n",
              "[5 rows x 25 columns]"
            ]
          },
          "metadata": {
            "tags": []
          },
          "execution_count": 4
        }
      ]
    },
    {
      "cell_type": "code",
      "metadata": {
        "id": "QL9vATkzf5u2",
        "colab_type": "code",
        "colab": {},
        "outputId": "4a074ef5-ee45-46ac-e9ac-c5e800540146"
      },
      "source": [
        "# Convert weekdays into integers\n",
        "\n",
        "weekday = {'Monday':1 , 'Tuesday':2 , 'Wednesday':3, 'Thursday':4, 'Friday':5, 'Saturday':6, 'Sunday':7}\n",
        "df.Weekday = [weekday[item] for item in df.Weekday]\n",
        "df.head()"
      ],
      "execution_count": 0,
      "outputs": [
        {
          "output_type": "execute_result",
          "data": {
            "text/html": [
              "<div>\n",
              "<style scoped>\n",
              "    .dataframe tbody tr th:only-of-type {\n",
              "        vertical-align: middle;\n",
              "    }\n",
              "\n",
              "    .dataframe tbody tr th {\n",
              "        vertical-align: top;\n",
              "    }\n",
              "\n",
              "    .dataframe thead th {\n",
              "        text-align: right;\n",
              "    }\n",
              "</style>\n",
              "<table border=\"1\" class=\"dataframe\">\n",
              "  <thead>\n",
              "    <tr style=\"text-align: right;\">\n",
              "      <th></th>\n",
              "      <th>Date</th>\n",
              "      <th>Year</th>\n",
              "      <th>Month</th>\n",
              "      <th>year_month</th>\n",
              "      <th>Day</th>\n",
              "      <th>Weekday</th>\n",
              "      <th>Holiday</th>\n",
              "      <th>Max Temp (°C)</th>\n",
              "      <th>Min Temp (°C)</th>\n",
              "      <th>Mean Temp (°C)</th>\n",
              "      <th>...</th>\n",
              "      <th>Snow on Grnd (cm)</th>\n",
              "      <th>Barrie Ridership</th>\n",
              "      <th>Kitchener Ridership</th>\n",
              "      <th>Lakeshore East Ridership</th>\n",
              "      <th>Lakeshore West Ridership</th>\n",
              "      <th>Milton Ridership</th>\n",
              "      <th>Richmond Hill Ridership</th>\n",
              "      <th>Stouffville Ridership</th>\n",
              "      <th>Union Station Ridership</th>\n",
              "      <th>Total GO Ridership</th>\n",
              "    </tr>\n",
              "  </thead>\n",
              "  <tbody>\n",
              "    <tr>\n",
              "      <td>0</td>\n",
              "      <td>2017-03-01</td>\n",
              "      <td>2017</td>\n",
              "      <td>3</td>\n",
              "      <td>2017-03</td>\n",
              "      <td>1</td>\n",
              "      <td>3</td>\n",
              "      <td>False</td>\n",
              "      <td>13.1</td>\n",
              "      <td>-1.9</td>\n",
              "      <td>5.6</td>\n",
              "      <td>...</td>\n",
              "      <td>0.0</td>\n",
              "      <td>10022</td>\n",
              "      <td>13585</td>\n",
              "      <td>25273</td>\n",
              "      <td>32909</td>\n",
              "      <td>15599</td>\n",
              "      <td>5639</td>\n",
              "      <td>8804</td>\n",
              "      <td>95802</td>\n",
              "      <td>207633</td>\n",
              "    </tr>\n",
              "    <tr>\n",
              "      <td>1</td>\n",
              "      <td>2017-03-02</td>\n",
              "      <td>2017</td>\n",
              "      <td>3</td>\n",
              "      <td>2017-03</td>\n",
              "      <td>2</td>\n",
              "      <td>4</td>\n",
              "      <td>False</td>\n",
              "      <td>-1.3</td>\n",
              "      <td>-6.4</td>\n",
              "      <td>-3.9</td>\n",
              "      <td>...</td>\n",
              "      <td>0.5</td>\n",
              "      <td>9932</td>\n",
              "      <td>13331</td>\n",
              "      <td>26120</td>\n",
              "      <td>33884</td>\n",
              "      <td>15653</td>\n",
              "      <td>5665</td>\n",
              "      <td>8736</td>\n",
              "      <td>95873</td>\n",
              "      <td>209194</td>\n",
              "    </tr>\n",
              "    <tr>\n",
              "      <td>2</td>\n",
              "      <td>2017-03-03</td>\n",
              "      <td>2017</td>\n",
              "      <td>3</td>\n",
              "      <td>2017-03</td>\n",
              "      <td>3</td>\n",
              "      <td>5</td>\n",
              "      <td>False</td>\n",
              "      <td>-4.3</td>\n",
              "      <td>-8.1</td>\n",
              "      <td>-6.2</td>\n",
              "      <td>...</td>\n",
              "      <td>0.5</td>\n",
              "      <td>8905</td>\n",
              "      <td>12235</td>\n",
              "      <td>23801</td>\n",
              "      <td>31473</td>\n",
              "      <td>14092</td>\n",
              "      <td>5129</td>\n",
              "      <td>7918</td>\n",
              "      <td>87200</td>\n",
              "      <td>190753</td>\n",
              "    </tr>\n",
              "    <tr>\n",
              "      <td>3</td>\n",
              "      <td>2017-03-04</td>\n",
              "      <td>2017</td>\n",
              "      <td>3</td>\n",
              "      <td>2017-03</td>\n",
              "      <td>4</td>\n",
              "      <td>6</td>\n",
              "      <td>False</td>\n",
              "      <td>-6.5</td>\n",
              "      <td>-11.9</td>\n",
              "      <td>-9.2</td>\n",
              "      <td>...</td>\n",
              "      <td>0.5</td>\n",
              "      <td>928</td>\n",
              "      <td>480</td>\n",
              "      <td>7872</td>\n",
              "      <td>11756</td>\n",
              "      <td>208</td>\n",
              "      <td>0</td>\n",
              "      <td>246</td>\n",
              "      <td>13899</td>\n",
              "      <td>35389</td>\n",
              "    </tr>\n",
              "    <tr>\n",
              "      <td>4</td>\n",
              "      <td>2017-03-05</td>\n",
              "      <td>2017</td>\n",
              "      <td>3</td>\n",
              "      <td>2017-03</td>\n",
              "      <td>5</td>\n",
              "      <td>7</td>\n",
              "      <td>False</td>\n",
              "      <td>-0.4</td>\n",
              "      <td>-10.6</td>\n",
              "      <td>-5.5</td>\n",
              "      <td>...</td>\n",
              "      <td>0.5</td>\n",
              "      <td>803</td>\n",
              "      <td>398</td>\n",
              "      <td>4714</td>\n",
              "      <td>8381</td>\n",
              "      <td>169</td>\n",
              "      <td>0</td>\n",
              "      <td>156</td>\n",
              "      <td>8505</td>\n",
              "      <td>23126</td>\n",
              "    </tr>\n",
              "  </tbody>\n",
              "</table>\n",
              "<p>5 rows × 25 columns</p>\n",
              "</div>"
            ],
            "text/plain": [
              "         Date  Year  Month year_month  Day  Weekday  Holiday  Max Temp (°C)  \\\n",
              "0  2017-03-01  2017      3    2017-03    1        3    False           13.1   \n",
              "1  2017-03-02  2017      3    2017-03    2        4    False           -1.3   \n",
              "2  2017-03-03  2017      3    2017-03    3        5    False           -4.3   \n",
              "3  2017-03-04  2017      3    2017-03    4        6    False           -6.5   \n",
              "4  2017-03-05  2017      3    2017-03    5        7    False           -0.4   \n",
              "\n",
              "   Min Temp (°C)  Mean Temp (°C)  ...  Snow on Grnd (cm)  Barrie Ridership  \\\n",
              "0           -1.9             5.6  ...                0.0             10022   \n",
              "1           -6.4            -3.9  ...                0.5              9932   \n",
              "2           -8.1            -6.2  ...                0.5              8905   \n",
              "3          -11.9            -9.2  ...                0.5               928   \n",
              "4          -10.6            -5.5  ...                0.5               803   \n",
              "\n",
              "   Kitchener Ridership  Lakeshore East Ridership  Lakeshore West Ridership  \\\n",
              "0                13585                     25273                     32909   \n",
              "1                13331                     26120                     33884   \n",
              "2                12235                     23801                     31473   \n",
              "3                  480                      7872                     11756   \n",
              "4                  398                      4714                      8381   \n",
              "\n",
              "   Milton Ridership  Richmond Hill Ridership  Stouffville Ridership  \\\n",
              "0             15599                     5639                   8804   \n",
              "1             15653                     5665                   8736   \n",
              "2             14092                     5129                   7918   \n",
              "3               208                        0                    246   \n",
              "4               169                        0                    156   \n",
              "\n",
              "   Union Station Ridership  Total GO Ridership  \n",
              "0                    95802              207633  \n",
              "1                    95873              209194  \n",
              "2                    87200              190753  \n",
              "3                    13899               35389  \n",
              "4                     8505               23126  \n",
              "\n",
              "[5 rows x 25 columns]"
            ]
          },
          "metadata": {
            "tags": []
          },
          "execution_count": 5
        }
      ]
    },
    {
      "cell_type": "code",
      "metadata": {
        "id": "qdBiLBzhf5u4",
        "colab_type": "code",
        "colab": {},
        "outputId": "8f5b9c44-c6aa-4c2b-daaa-dcf05c746699"
      },
      "source": [
        "'''Select January 2018 and 2019 as a sample'''\n",
        "\n",
        "jan_df =df[(df.Month == 1) & (df.Year != 2020)]\n",
        "jan_df.head(3)"
      ],
      "execution_count": 0,
      "outputs": [
        {
          "output_type": "execute_result",
          "data": {
            "text/html": [
              "<div>\n",
              "<style scoped>\n",
              "    .dataframe tbody tr th:only-of-type {\n",
              "        vertical-align: middle;\n",
              "    }\n",
              "\n",
              "    .dataframe tbody tr th {\n",
              "        vertical-align: top;\n",
              "    }\n",
              "\n",
              "    .dataframe thead th {\n",
              "        text-align: right;\n",
              "    }\n",
              "</style>\n",
              "<table border=\"1\" class=\"dataframe\">\n",
              "  <thead>\n",
              "    <tr style=\"text-align: right;\">\n",
              "      <th></th>\n",
              "      <th>Date</th>\n",
              "      <th>Year</th>\n",
              "      <th>Month</th>\n",
              "      <th>year_month</th>\n",
              "      <th>Day</th>\n",
              "      <th>Weekday</th>\n",
              "      <th>Holiday</th>\n",
              "      <th>Max Temp (°C)</th>\n",
              "      <th>Min Temp (°C)</th>\n",
              "      <th>Mean Temp (°C)</th>\n",
              "      <th>...</th>\n",
              "      <th>Snow on Grnd (cm)</th>\n",
              "      <th>Barrie Ridership</th>\n",
              "      <th>Kitchener Ridership</th>\n",
              "      <th>Lakeshore East Ridership</th>\n",
              "      <th>Lakeshore West Ridership</th>\n",
              "      <th>Milton Ridership</th>\n",
              "      <th>Richmond Hill Ridership</th>\n",
              "      <th>Stouffville Ridership</th>\n",
              "      <th>Union Station Ridership</th>\n",
              "      <th>Total GO Ridership</th>\n",
              "    </tr>\n",
              "  </thead>\n",
              "  <tbody>\n",
              "    <tr>\n",
              "      <td>306</td>\n",
              "      <td>2018-01-01</td>\n",
              "      <td>2018</td>\n",
              "      <td>1</td>\n",
              "      <td>2018-01</td>\n",
              "      <td>1</td>\n",
              "      <td>1</td>\n",
              "      <td>True</td>\n",
              "      <td>-7.9</td>\n",
              "      <td>-18.6</td>\n",
              "      <td>-13.3</td>\n",
              "      <td>...</td>\n",
              "      <td>0.0</td>\n",
              "      <td>857</td>\n",
              "      <td>366</td>\n",
              "      <td>3844</td>\n",
              "      <td>6347</td>\n",
              "      <td>96</td>\n",
              "      <td>0</td>\n",
              "      <td>131</td>\n",
              "      <td>8728</td>\n",
              "      <td>20369</td>\n",
              "    </tr>\n",
              "    <tr>\n",
              "      <td>307</td>\n",
              "      <td>2018-01-02</td>\n",
              "      <td>2018</td>\n",
              "      <td>1</td>\n",
              "      <td>2018-01</td>\n",
              "      <td>2</td>\n",
              "      <td>2</td>\n",
              "      <td>False</td>\n",
              "      <td>-7.1</td>\n",
              "      <td>-12.5</td>\n",
              "      <td>-9.8</td>\n",
              "      <td>...</td>\n",
              "      <td>0.0</td>\n",
              "      <td>7706</td>\n",
              "      <td>10584</td>\n",
              "      <td>20084</td>\n",
              "      <td>25182</td>\n",
              "      <td>12040</td>\n",
              "      <td>4359</td>\n",
              "      <td>6969</td>\n",
              "      <td>74432</td>\n",
              "      <td>161356</td>\n",
              "    </tr>\n",
              "    <tr>\n",
              "      <td>308</td>\n",
              "      <td>2018-01-03</td>\n",
              "      <td>2018</td>\n",
              "      <td>1</td>\n",
              "      <td>2018-01</td>\n",
              "      <td>3</td>\n",
              "      <td>3</td>\n",
              "      <td>False</td>\n",
              "      <td>-5.3</td>\n",
              "      <td>-11.2</td>\n",
              "      <td>-8.3</td>\n",
              "      <td>...</td>\n",
              "      <td>0.0</td>\n",
              "      <td>8883</td>\n",
              "      <td>11238</td>\n",
              "      <td>21526</td>\n",
              "      <td>27528</td>\n",
              "      <td>13240</td>\n",
              "      <td>4756</td>\n",
              "      <td>7549</td>\n",
              "      <td>81222</td>\n",
              "      <td>175942</td>\n",
              "    </tr>\n",
              "  </tbody>\n",
              "</table>\n",
              "<p>3 rows × 25 columns</p>\n",
              "</div>"
            ],
            "text/plain": [
              "           Date  Year  Month year_month  Day  Weekday  Holiday  Max Temp (°C)  \\\n",
              "306  2018-01-01  2018      1    2018-01    1        1     True           -7.9   \n",
              "307  2018-01-02  2018      1    2018-01    2        2    False           -7.1   \n",
              "308  2018-01-03  2018      1    2018-01    3        3    False           -5.3   \n",
              "\n",
              "     Min Temp (°C)  Mean Temp (°C)  ...  Snow on Grnd (cm)  Barrie Ridership  \\\n",
              "306          -18.6           -13.3  ...                0.0               857   \n",
              "307          -12.5            -9.8  ...                0.0              7706   \n",
              "308          -11.2            -8.3  ...                0.0              8883   \n",
              "\n",
              "     Kitchener Ridership  Lakeshore East Ridership  Lakeshore West Ridership  \\\n",
              "306                  366                      3844                      6347   \n",
              "307                10584                     20084                     25182   \n",
              "308                11238                     21526                     27528   \n",
              "\n",
              "     Milton Ridership  Richmond Hill Ridership  Stouffville Ridership  \\\n",
              "306                96                        0                    131   \n",
              "307             12040                     4359                   6969   \n",
              "308             13240                     4756                   7549   \n",
              "\n",
              "     Union Station Ridership  Total GO Ridership  \n",
              "306                     8728               20369  \n",
              "307                    74432              161356  \n",
              "308                    81222              175942  \n",
              "\n",
              "[3 rows x 25 columns]"
            ]
          },
          "metadata": {
            "tags": []
          },
          "execution_count": 8
        }
      ]
    },
    {
      "cell_type": "markdown",
      "metadata": {
        "id": "Q43038A3f5u7",
        "colab_type": "text"
      },
      "source": [
        "Plot Riderships from Union Station both for 2018 and 2019. \n",
        "We can notice 2 outliers, due to the bank holiday of the 1st of January"
      ]
    },
    {
      "cell_type": "code",
      "metadata": {
        "id": "pVtN0PRUf5u7",
        "colab_type": "code",
        "colab": {},
        "outputId": "052e9ba3-a4a6-4422-9bff-ce0f6a3926dd"
      },
      "source": [
        "import seaborn as sns\n",
        "\n",
        "sns.lmplot(x='Weekday', y='Union Station Ridership', data=jan_df, fit_reg=False, hue = 'Year', legend = False)\n",
        "plt.legend(loc='lower right')"
      ],
      "execution_count": 0,
      "outputs": [
        {
          "output_type": "execute_result",
          "data": {
            "text/plain": [
              "<matplotlib.legend.Legend at 0x1c27ae5b90>"
            ]
          },
          "metadata": {
            "tags": []
          },
          "execution_count": 16
        },
        {
          "output_type": "display_data",
          "data": {
            "image/png": "[encoded data removed]",
            "text/plain": [
              "<Figure size 360x360 with 1 Axes>"
            ]
          },
          "metadata": {
            "tags": [],
            "needs_background": "light"
          }
        }
      ]
    },
    {
      "cell_type": "code",
      "metadata": {
        "id": "JC0keqkBf5u-",
        "colab_type": "code",
        "colab": {},
        "outputId": "673e4fbc-a4f7-4007-c09b-59cda33bc02e"
      },
      "source": [
        "# Organizing the data as numpy vectors\n",
        "Y=jan_df['Union Station Ridership'] #\n",
        "X=jan_df['Weekday'].values.reshape(-1,1)\n",
        "\n",
        "#the model to do the fit\n",
        "model = sklearn.linear_model.LinearRegression().fit(X, Y)\n",
        "print(model.coef_)\n",
        "print(model.intercept_)"
      ],
      "execution_count": 0,
      "outputs": [
        {
          "output_type": "stream",
          "text": [
            "[-14390.97270604]\n",
            "127425.07220553889\n"
          ],
          "name": "stdout"
        }
      ]
    },
    {
      "cell_type": "code",
      "metadata": {
        "id": "ojvbluoff5vA",
        "colab_type": "code",
        "colab": {},
        "outputId": "4ed3e193-174f-4f26-98b4-8a2a777c88fd"
      },
      "source": [
        "'''Let's calculate the predicted value of count,\n",
        "using the result of our model with one variable X'''\n",
        "\n",
        "lin_predicted_one = model.predict(X)\n",
        "lin_predicted_one"
      ],
      "execution_count": 0,
      "outputs": [
        {
          "output_type": "execute_result",
          "data": {
            "text/plain": [
              "array([113034.0994995 ,  98643.12679346,  84252.15408742,  69861.18138138,\n",
              "        55470.20867534,  41079.2359693 ,  26688.26326326, 113034.0994995 ,\n",
              "        98643.12679346,  84252.15408742,  69861.18138138,  55470.20867534,\n",
              "        41079.2359693 ,  26688.26326326, 113034.0994995 ,  98643.12679346,\n",
              "        84252.15408742,  69861.18138138,  55470.20867534,  41079.2359693 ,\n",
              "        26688.26326326, 113034.0994995 ,  98643.12679346,  84252.15408742,\n",
              "        69861.18138138,  55470.20867534,  41079.2359693 ,  26688.26326326,\n",
              "       113034.0994995 ,  98643.12679346,  84252.15408742,  98643.12679346,\n",
              "        84252.15408742,  69861.18138138,  55470.20867534,  41079.2359693 ,\n",
              "        26688.26326326, 113034.0994995 ,  98643.12679346,  84252.15408742,\n",
              "        69861.18138138,  55470.20867534,  41079.2359693 ,  26688.26326326,\n",
              "       113034.0994995 ,  98643.12679346,  84252.15408742,  69861.18138138,\n",
              "        55470.20867534,  41079.2359693 ,  26688.26326326, 113034.0994995 ,\n",
              "        98643.12679346,  84252.15408742,  69861.18138138,  55470.20867534,\n",
              "        41079.2359693 ,  26688.26326326, 113034.0994995 ,  98643.12679346,\n",
              "        84252.15408742,  69861.18138138])"
            ]
          },
          "metadata": {
            "tags": []
          },
          "execution_count": 15
        }
      ]
    },
    {
      "cell_type": "code",
      "metadata": {
        "id": "GH-lbQ4Qf5vD",
        "colab_type": "code",
        "colab": {},
        "outputId": "cf590b4e-b84f-4c35-e1e6-8f3b0f9a259c"
      },
      "source": [
        "'''The graph below shows how the model (line) fits the data'''\n",
        "plt.scatter(x=jan_df[\"Weekday\"], y=jan_df[\"Union Station Ridership\"])\n",
        "plt.plot(X, model.predict(X), 'r-')\n",
        "plt.xlabel(\"Day\")\n",
        "plt.ylabel('Riders');"
      ],
      "execution_count": 0,
      "outputs": [
        {
          "output_type": "display_data",
          "data": {
            "image/png": "[encoded data removed]",
            "text/plain": [
              "<Figure size 432x288 with 1 Axes>"
            ]
          },
          "metadata": {
            "tags": [],
            "needs_background": "light"
          }
        }
      ]
    },
    {
      "cell_type": "markdown",
      "metadata": {
        "id": "xJBn2Is3f5vF",
        "colab_type": "text"
      },
      "source": [
        "We can notice that the weekends (day 6 and 7, corresponding to Saturday and Sunday), are altering the model. Let's try to repeat the operation without the weekends."
      ]
    },
    {
      "cell_type": "code",
      "metadata": {
        "id": "woKzIcnwf5vF",
        "colab_type": "code",
        "colab": {},
        "outputId": "d5db9b52-3149-4ae9-9ac0-8e609f5a605c"
      },
      "source": [
        "'''Filtering out Saturdays and Sundays'''\n",
        "\n",
        "jan_week_df =df[(df.Month == 1) & (df.Year != 2020) & (df.Weekday != 6 )& (df.Weekday != 7)]\n",
        "jan_week_df.head(7)"
      ],
      "execution_count": 0,
      "outputs": [
        {
          "output_type": "execute_result",
          "data": {
            "text/html": [
              "<div>\n",
              "<style scoped>\n",
              "    .dataframe tbody tr th:only-of-type {\n",
              "        vertical-align: middle;\n",
              "    }\n",
              "\n",
              "    .dataframe tbody tr th {\n",
              "        vertical-align: top;\n",
              "    }\n",
              "\n",
              "    .dataframe thead th {\n",
              "        text-align: right;\n",
              "    }\n",
              "</style>\n",
              "<table border=\"1\" class=\"dataframe\">\n",
              "  <thead>\n",
              "    <tr style=\"text-align: right;\">\n",
              "      <th></th>\n",
              "      <th>Date</th>\n",
              "      <th>Year</th>\n",
              "      <th>Month</th>\n",
              "      <th>year_month</th>\n",
              "      <th>Day</th>\n",
              "      <th>Weekday</th>\n",
              "      <th>Holiday</th>\n",
              "      <th>Max Temp (°C)</th>\n",
              "      <th>Min Temp (°C)</th>\n",
              "      <th>Mean Temp (°C)</th>\n",
              "      <th>...</th>\n",
              "      <th>Snow on Grnd (cm)</th>\n",
              "      <th>Barrie Ridership</th>\n",
              "      <th>Kitchener Ridership</th>\n",
              "      <th>Lakeshore East Ridership</th>\n",
              "      <th>Lakeshore West Ridership</th>\n",
              "      <th>Milton Ridership</th>\n",
              "      <th>Richmond Hill Ridership</th>\n",
              "      <th>Stouffville Ridership</th>\n",
              "      <th>Union Station Ridership</th>\n",
              "      <th>Total GO Ridership</th>\n",
              "    </tr>\n",
              "  </thead>\n",
              "  <tbody>\n",
              "    <tr>\n",
              "      <td>306</td>\n",
              "      <td>2018-01-01</td>\n",
              "      <td>2018</td>\n",
              "      <td>1</td>\n",
              "      <td>2018-01</td>\n",
              "      <td>1</td>\n",
              "      <td>1</td>\n",
              "      <td>True</td>\n",
              "      <td>-7.9</td>\n",
              "      <td>-18.6</td>\n",
              "      <td>-13.3</td>\n",
              "      <td>...</td>\n",
              "      <td>0.0</td>\n",
              "      <td>857</td>\n",
              "      <td>366</td>\n",
              "      <td>3844</td>\n",
              "      <td>6347</td>\n",
              "      <td>96</td>\n",
              "      <td>0</td>\n",
              "      <td>131</td>\n",
              "      <td>8728</td>\n",
              "      <td>20369</td>\n",
              "    </tr>\n",
              "    <tr>\n",
              "      <td>307</td>\n",
              "      <td>2018-01-02</td>\n",
              "      <td>2018</td>\n",
              "      <td>1</td>\n",
              "      <td>2018-01</td>\n",
              "      <td>2</td>\n",
              "      <td>2</td>\n",
              "      <td>False</td>\n",
              "      <td>-7.1</td>\n",
              "      <td>-12.5</td>\n",
              "      <td>-9.8</td>\n",
              "      <td>...</td>\n",
              "      <td>0.0</td>\n",
              "      <td>7706</td>\n",
              "      <td>10584</td>\n",
              "      <td>20084</td>\n",
              "      <td>25182</td>\n",
              "      <td>12040</td>\n",
              "      <td>4359</td>\n",
              "      <td>6969</td>\n",
              "      <td>74432</td>\n",
              "      <td>161356</td>\n",
              "    </tr>\n",
              "    <tr>\n",
              "      <td>308</td>\n",
              "      <td>2018-01-03</td>\n",
              "      <td>2018</td>\n",
              "      <td>1</td>\n",
              "      <td>2018-01</td>\n",
              "      <td>3</td>\n",
              "      <td>3</td>\n",
              "      <td>False</td>\n",
              "      <td>-5.3</td>\n",
              "      <td>-11.2</td>\n",
              "      <td>-8.3</td>\n",
              "      <td>...</td>\n",
              "      <td>0.0</td>\n",
              "      <td>8883</td>\n",
              "      <td>11238</td>\n",
              "      <td>21526</td>\n",
              "      <td>27528</td>\n",
              "      <td>13240</td>\n",
              "      <td>4756</td>\n",
              "      <td>7549</td>\n",
              "      <td>81222</td>\n",
              "      <td>175942</td>\n",
              "    </tr>\n",
              "    <tr>\n",
              "      <td>309</td>\n",
              "      <td>2018-01-04</td>\n",
              "      <td>2018</td>\n",
              "      <td>1</td>\n",
              "      <td>2018-01</td>\n",
              "      <td>4</td>\n",
              "      <td>4</td>\n",
              "      <td>False</td>\n",
              "      <td>-7.7</td>\n",
              "      <td>-19.7</td>\n",
              "      <td>-13.7</td>\n",
              "      <td>...</td>\n",
              "      <td>0.0</td>\n",
              "      <td>9053</td>\n",
              "      <td>11524</td>\n",
              "      <td>22180</td>\n",
              "      <td>29317</td>\n",
              "      <td>13227</td>\n",
              "      <td>4710</td>\n",
              "      <td>7638</td>\n",
              "      <td>83312</td>\n",
              "      <td>180961</td>\n",
              "    </tr>\n",
              "    <tr>\n",
              "      <td>310</td>\n",
              "      <td>2018-01-05</td>\n",
              "      <td>2018</td>\n",
              "      <td>1</td>\n",
              "      <td>2018-01</td>\n",
              "      <td>5</td>\n",
              "      <td>5</td>\n",
              "      <td>False</td>\n",
              "      <td>-14.7</td>\n",
              "      <td>-20.6</td>\n",
              "      <td>-17.7</td>\n",
              "      <td>...</td>\n",
              "      <td>0.0</td>\n",
              "      <td>7288</td>\n",
              "      <td>9732</td>\n",
              "      <td>18905</td>\n",
              "      <td>26146</td>\n",
              "      <td>10751</td>\n",
              "      <td>3744</td>\n",
              "      <td>6346</td>\n",
              "      <td>69545</td>\n",
              "      <td>152457</td>\n",
              "    </tr>\n",
              "    <tr>\n",
              "      <td>313</td>\n",
              "      <td>2018-01-08</td>\n",
              "      <td>2018</td>\n",
              "      <td>1</td>\n",
              "      <td>2018-01</td>\n",
              "      <td>8</td>\n",
              "      <td>1</td>\n",
              "      <td>False</td>\n",
              "      <td>3.0</td>\n",
              "      <td>-1.7</td>\n",
              "      <td>0.7</td>\n",
              "      <td>...</td>\n",
              "      <td>0.0</td>\n",
              "      <td>11247</td>\n",
              "      <td>13855</td>\n",
              "      <td>25339</td>\n",
              "      <td>34146</td>\n",
              "      <td>15404</td>\n",
              "      <td>5607</td>\n",
              "      <td>9556</td>\n",
              "      <td>96720</td>\n",
              "      <td>211874</td>\n",
              "    </tr>\n",
              "    <tr>\n",
              "      <td>314</td>\n",
              "      <td>2018-01-09</td>\n",
              "      <td>2018</td>\n",
              "      <td>1</td>\n",
              "      <td>2018-01</td>\n",
              "      <td>9</td>\n",
              "      <td>2</td>\n",
              "      <td>False</td>\n",
              "      <td>1.6</td>\n",
              "      <td>-0.6</td>\n",
              "      <td>0.5</td>\n",
              "      <td>...</td>\n",
              "      <td>0.0</td>\n",
              "      <td>11511</td>\n",
              "      <td>14158</td>\n",
              "      <td>25777</td>\n",
              "      <td>34585</td>\n",
              "      <td>16377</td>\n",
              "      <td>6094</td>\n",
              "      <td>9476</td>\n",
              "      <td>101278</td>\n",
              "      <td>219256</td>\n",
              "    </tr>\n",
              "  </tbody>\n",
              "</table>\n",
              "<p>7 rows × 25 columns</p>\n",
              "</div>"
            ],
            "text/plain": [
              "           Date  Year  Month year_month  Day  Weekday  Holiday  Max Temp (°C)  \\\n",
              "306  2018-01-01  2018      1    2018-01    1        1     True           -7.9   \n",
              "307  2018-01-02  2018      1    2018-01    2        2    False           -7.1   \n",
              "308  2018-01-03  2018      1    2018-01    3        3    False           -5.3   \n",
              "309  2018-01-04  2018      1    2018-01    4        4    False           -7.7   \n",
              "310  2018-01-05  2018      1    2018-01    5        5    False          -14.7   \n",
              "313  2018-01-08  2018      1    2018-01    8        1    False            3.0   \n",
              "314  2018-01-09  2018      1    2018-01    9        2    False            1.6   \n",
              "\n",
              "     Min Temp (°C)  Mean Temp (°C)  ...  Snow on Grnd (cm)  Barrie Ridership  \\\n",
              "306          -18.6           -13.3  ...                0.0               857   \n",
              "307          -12.5            -9.8  ...                0.0              7706   \n",
              "308          -11.2            -8.3  ...                0.0              8883   \n",
              "309          -19.7           -13.7  ...                0.0              9053   \n",
              "310          -20.6           -17.7  ...                0.0              7288   \n",
              "313           -1.7             0.7  ...                0.0             11247   \n",
              "314           -0.6             0.5  ...                0.0             11511   \n",
              "\n",
              "     Kitchener Ridership  Lakeshore East Ridership  Lakeshore West Ridership  \\\n",
              "306                  366                      3844                      6347   \n",
              "307                10584                     20084                     25182   \n",
              "308                11238                     21526                     27528   \n",
              "309                11524                     22180                     29317   \n",
              "310                 9732                     18905                     26146   \n",
              "313                13855                     25339                     34146   \n",
              "314                14158                     25777                     34585   \n",
              "\n",
              "     Milton Ridership  Richmond Hill Ridership  Stouffville Ridership  \\\n",
              "306                96                        0                    131   \n",
              "307             12040                     4359                   6969   \n",
              "308             13240                     4756                   7549   \n",
              "309             13227                     4710                   7638   \n",
              "310             10751                     3744                   6346   \n",
              "313             15404                     5607                   9556   \n",
              "314             16377                     6094                   9476   \n",
              "\n",
              "     Union Station Ridership  Total GO Ridership  \n",
              "306                     8728               20369  \n",
              "307                    74432              161356  \n",
              "308                    81222              175942  \n",
              "309                    83312              180961  \n",
              "310                    69545              152457  \n",
              "313                    96720              211874  \n",
              "314                   101278              219256  \n",
              "\n",
              "[7 rows x 25 columns]"
            ]
          },
          "metadata": {
            "tags": []
          },
          "execution_count": 17
        }
      ]
    },
    {
      "cell_type": "code",
      "metadata": {
        "id": "zJF3AKrff5vI",
        "colab_type": "code",
        "colab": {},
        "outputId": "61ad8a5d-ff82-423c-f656-2d50234911c8"
      },
      "source": [
        "'''Reploting the data'''\n",
        "\n",
        "import seaborn as sns\n",
        "\n",
        "sns.lmplot(x='Weekday', y='Union Station Ridership', data=jan_week_df, fit_reg=False, hue = 'Year', legend = False)\n",
        "plt.legend(loc='lower right')"
      ],
      "execution_count": 0,
      "outputs": [
        {
          "output_type": "execute_result",
          "data": {
            "text/plain": [
              "<matplotlib.legend.Legend at 0x10e4ada90>"
            ]
          },
          "metadata": {
            "tags": []
          },
          "execution_count": 18
        },
        {
          "output_type": "display_data",
          "data": {
            "image/png": "[encoded data removed]",
            "text/plain": [
              "<Figure size 360x360 with 1 Axes>"
            ]
          },
          "metadata": {
            "tags": [],
            "needs_background": "light"
          }
        }
      ]
    },
    {
      "cell_type": "code",
      "metadata": {
        "id": "FFyHWoBYf5vK",
        "colab_type": "code",
        "colab": {},
        "outputId": "9b61b87c-8fc9-4fae-842c-5e6f88190eb7"
      },
      "source": [
        "# Organizing the data as numpy vectors\n",
        "\n",
        "\n",
        "Y=jan_week_df['Union Station Ridership']\n",
        "X=jan_week_df['Weekday'].values.reshape(-1,1)\n",
        "\n",
        "#the model to do the fit\n",
        "model2 = sklearn.linear_model.LinearRegression().fit(X, Y)\n",
        "print(model2.coef_)\n",
        "print(model2.intercept_)"
      ],
      "execution_count": 0,
      "outputs": [
        {
          "output_type": "stream",
          "text": [
            "[685.82018532]\n",
            "91401.65815176559\n"
          ],
          "name": "stdout"
        }
      ]
    },
    {
      "cell_type": "code",
      "metadata": {
        "id": "JYTcqUMxf5vN",
        "colab_type": "code",
        "colab": {},
        "outputId": "a5e24a55-b975-4e64-ec0a-b24c0738d9bf"
      },
      "source": [
        "'''Let's calculate the predicted value of count,\n",
        "using the result of our model with one variable X'''\n",
        "\n",
        "lin_predicted_one = model2.predict(X)\n",
        "lin_predicted_one"
      ],
      "execution_count": 0,
      "outputs": [
        {
          "output_type": "execute_result",
          "data": {
            "text/plain": [
              "array([92087.47833709, 92773.29852241, 93459.11870774, 94144.93889306,\n",
              "       94830.75907839, 92087.47833709, 92773.29852241, 93459.11870774,\n",
              "       94144.93889306, 94830.75907839, 92087.47833709, 92773.29852241,\n",
              "       93459.11870774, 94144.93889306, 94830.75907839, 92087.47833709,\n",
              "       92773.29852241, 93459.11870774, 94144.93889306, 94830.75907839,\n",
              "       92087.47833709, 92773.29852241, 93459.11870774, 92773.29852241,\n",
              "       93459.11870774, 94144.93889306, 94830.75907839, 92087.47833709,\n",
              "       92773.29852241, 93459.11870774, 94144.93889306, 94830.75907839,\n",
              "       92087.47833709, 92773.29852241, 93459.11870774, 94144.93889306,\n",
              "       94830.75907839, 92087.47833709, 92773.29852241, 93459.11870774,\n",
              "       94144.93889306, 94830.75907839, 92087.47833709, 92773.29852241,\n",
              "       93459.11870774, 94144.93889306])"
            ]
          },
          "metadata": {
            "tags": []
          },
          "execution_count": 20
        }
      ]
    },
    {
      "cell_type": "code",
      "metadata": {
        "scrolled": true,
        "id": "S6PTjFxVf5vP",
        "colab_type": "code",
        "colab": {},
        "outputId": "95b738b2-3a1b-4404-d0a9-5875a007ec7d"
      },
      "source": [
        "''' Reploting the data'''\n",
        "plt.scatter(x=jan_week_df[\"Weekday\"], y=jan_week_df[\"Union Station Ridership\"])\n",
        "plt.plot(X, model2.predict(X), 'r-')\n",
        "plt.xlabel(\"Weekday\")\n",
        "plt.ylabel('Riders');"
      ],
      "execution_count": 0,
      "outputs": [
        {
          "output_type": "display_data",
          "data": {
            "image/png": "[encoded data removed]",
            "text/plain": [
              "<Figure size 432x288 with 1 Axes>"
            ]
          },
          "metadata": {
            "tags": [],
            "needs_background": "light"
          }
        }
      ]
    },
    {
      "cell_type": "code",
      "metadata": {
        "id": "SZlF_vsOf5vR",
        "colab_type": "code",
        "colab": {}
      },
      "source": [
        "'''Selecting Janurary 2020 for comparion'''\n",
        "jan20_df =df[(df.Month == 1) & (df.Year == 2020) & (df.Weekday != 6 )& (df.Weekday != 7)]"
      ],
      "execution_count": 0,
      "outputs": []
    },
    {
      "cell_type": "code",
      "metadata": {
        "id": "WC6EKGxTf5vT",
        "colab_type": "code",
        "colab": {},
        "outputId": "018be505-e60d-4404-9a49-4b266f9e2592"
      },
      "source": [
        "plt.scatter(x=jan20_df[\"Weekday\"], y=jan20_df[\"Union Station Ridership\"])\n",
        "plt.plot()\n",
        "plt.xlabel(\"Weekday\")\n",
        "plt.ylabel('Riders');"
      ],
      "execution_count": 0,
      "outputs": [
        {
          "output_type": "display_data",
          "data": {
            "image/png": "[encoded data removed]",
            "text/plain": [
              "<Figure size 432x288 with 1 Axes>"
            ]
          },
          "metadata": {
            "tags": [],
            "needs_background": "light"
          }
        }
      ]
    },
    {
      "cell_type": "code",
      "metadata": {
        "id": "IOgTJ7ZVf5vV",
        "colab_type": "code",
        "colab": {}
      },
      "source": [
        ""
      ],
      "execution_count": 0,
      "outputs": []
    }
  ]
}